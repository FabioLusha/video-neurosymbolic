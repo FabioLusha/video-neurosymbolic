{
 "cells": [
  {
   "cell_type": "code",
   "execution_count": 3,
   "metadata": {},
   "outputs": [],
   "source": [
    "import random\n",
    "import json\n",
    "import re\n",
    "\n",
    "import numpy as np\n",
    "import pandas as pd\n",
    "\n",
    "import matplotlib.pyplot as plt\n",
    "import seaborn as sns\n",
    "\n"
   ]
  },
  {
   "cell_type": "code",
   "execution_count": 4,
   "metadata": {},
   "outputs": [],
   "source": [
    "from pathlib import Path\n",
    "import os, sys\n",
    "\n",
    "WORK_DIR = Path.cwd().parent\n",
    "sys.path.append(str(WORK_DIR))\n",
    "\n",
    "\n",
    "from star_code.src.datasets import CVRRDataset, JudgeDataset\n",
    "from star_code.src.prompt_formatters import OpenEndedPrompt, LlmAsJudgePrompt\n",
    "\n",
    "GEN_STSG_50 = WORK_DIR / \"cvrr/generated_stsg_cvrr_maxsample50.jsonl\"\n"
   ]
  },
  {
   "cell_type": "code",
   "execution_count": 5,
   "metadata": {},
   "outputs": [],
   "source": [
    "stsg_data = []\n",
    "with open(GEN_STSG_50, 'r') as f:\n",
    "    stsg_data = [json.loads(line) for line in f]\n"
   ]
  },
  {
   "cell_type": "code",
   "execution_count": 6,
   "metadata": {},
   "outputs": [],
   "source": [
    "def get_highest_frame_number(text):\n",
    "    # Regular expression to match \"Frame dd:\" pattern where dd is one or more digits\n",
    "    frame_pattern = r'Frame\\s+(\\d+):'\n",
    "    \n",
    "    # Find all frame numbers\n",
    "    matches = re.findall(frame_pattern, text)\n",
    "    \n",
    "    if not matches:\n",
    "        return None\n",
    "    \n",
    "    # Convert to integers and return the maximum\n",
    "    frame_numbers = [int(match) for match in matches]\n",
    "    return max(frame_numbers)\n"
   ]
  },
  {
   "cell_type": "code",
   "execution_count": 14,
   "metadata": {},
   "outputs": [
    {
     "data": {
      "text/plain": [
       "20.06217616580311"
      ]
     },
     "execution_count": 14,
     "metadata": {},
     "output_type": "execute_result"
    }
   ],
   "source": [
    "lengths = {}\n",
    "for item in stsg_data:\n",
    "    lengths[item['video_id']] = get_highest_frame_number(item['stsg'])\n",
    "    \n",
    "sum([v for _, v in lengths.items()])/len(lengths)\n"
   ]
  },
  {
   "cell_type": "code",
   "execution_count": 16,
   "metadata": {},
   "outputs": [
    {
     "data": {
      "text/plain": [
       "partial_actions_126                                           2\n",
       "multiple_actions_in_a_single_video_69                        32\n",
       "multiple_actions_in_a_single_video_78                        46\n",
       "multiple_actions_in_a_single_video_79                        31\n",
       "multiple_actions_in_a_single_video_61                        30\n",
       "                                                             ..\n",
       "interpretation_of_social_context_37                           4\n",
       "non_existent_actions_with_existent_scene_depictions_51        1\n",
       "non_existent_actions_with_non_existent_scene_depictions_0     0\n",
       "non_existent_actions_with_non_existent_scene_depictions_6     0\n",
       "partial_actions_122                                           1\n",
       "Length: 193, dtype: int64"
      ]
     },
     "execution_count": 16,
     "metadata": {},
     "output_type": "execute_result"
    }
   ],
   "source": [
    "lengths_se = pd.Series(lengths)\n",
    "lengths_se\n"
   ]
  },
  {
   "cell_type": "code",
   "execution_count": 20,
   "metadata": {},
   "outputs": [
    {
     "data": {
      "text/plain": [
       "multiple_actions_in_a_single_video_69                         32\n",
       "multiple_actions_in_a_single_video_78                         46\n",
       "multiple_actions_in_a_single_video_79                         31\n",
       "multiple_actions_in_a_single_video_61                         30\n",
       "multiple_actions_in_a_single_video_77                         33\n",
       "                                                              ..\n",
       "non_existent_actions_with_non_existent_scene_depictions_17    14\n",
       "understanding_emotional_context_144                           30\n",
       "unusual_and_physically_anomalous_activities_112               21\n",
       "continuity_and_object_instance_count_190                      48\n",
       "continuity_and_object_instance_count_198                      11\n",
       "Length: 162, dtype: int64"
      ]
     },
     "execution_count": 20,
     "metadata": {},
     "output_type": "execute_result"
    }
   ],
   "source": [
    "lengths_se[lengths_se > 5]\n"
   ]
  }
 ],
 "metadata": {
  "kernelspec": {
   "display_name": "base",
   "language": "python",
   "name": "python3"
  },
  "language_info": {
   "codemirror_mode": {
    "name": "ipython",
    "version": 3
   },
   "file_extension": ".py",
   "mimetype": "text/x-python",
   "name": "python",
   "nbconvert_exporter": "python",
   "pygments_lexer": "ipython3",
   "version": "3.10.9"
  }
 },
 "nbformat": 4,
 "nbformat_minor": 2
}
