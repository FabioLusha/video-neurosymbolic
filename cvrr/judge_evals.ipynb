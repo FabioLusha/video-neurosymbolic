{
 "cells": [
  {
   "cell_type": "code",
   "execution_count": 71,
   "metadata": {},
   "outputs": [],
   "source": [
    "import random\n",
    "import json\n",
    "import re\n",
    "\n",
    "import numpy as np\n",
    "import pandas as pd\n",
    "\n",
    "import matplotlib.pyplot as plt\n",
    "import seaborn as sns\n",
    "\n",
    "from sklearn.metrics import confusion_matrix\n",
    "\n"
   ]
  },
  {
   "cell_type": "code",
   "execution_count": 72,
   "metadata": {},
   "outputs": [
    {
     "name": "stdout",
     "output_type": "stream",
     "text": [
      "/home/lusha\n"
     ]
    }
   ],
   "source": [
    "from pathlib import Path\n",
    "import os, sys\n",
    "WORK_DIR = Path.cwd().parent\n",
    "\n",
    "sys.path.append(str(WORK_DIR))\n",
    "print(WORK_DIR)\n"
   ]
  },
  {
   "cell_type": "code",
   "execution_count": 73,
   "metadata": {},
   "outputs": [],
   "source": [
    "from star_code.src.datasets import CVRRDataset, JudgeDataset\n",
    "from star_code.src.prompt_formatters import OpenEndedPrompt, LlmAsJudgePrompt\n"
   ]
  },
  {
   "cell_type": "markdown",
   "metadata": {},
   "source": [
    "# Eval on CVRR\n",
    "\n",
    "\n",
    "**Parameters:**\n",
    "- model: gemma3:4b-it-qat"
   ]
  },
  {
   "cell_type": "markdown",
   "metadata": {},
   "source": [
    "## QA on generated graphs"
   ]
  },
  {
   "cell_type": "markdown",
   "metadata": {},
   "source": [
    "System prompt"
   ]
  },
  {
   "cell_type": "code",
   "execution_count": 74,
   "metadata": {},
   "outputs": [
    {
     "name": "stdout",
     "output_type": "stream",
     "text": [
      "# Video Question-Answering System Prompt\n",
      "\n",
      "You are an AI assistant specialized in answering questions about videos based on their scene graph representations. Instead of receiving raw video data, you will be provided with structured scene graph information that captures the key visual and temporal elements of the video content.\n",
      "\n",
      "## Input Format\n",
      "\n",
      "You will receive two inputs:\n",
      "1. **Question**: An open-ended question about the video content\n",
      "2. **Scene Graph Representation**: A structured representation of the video containing:\n",
      "\n",
      "### Scene Graph Structure\n",
      "- **Objects**: Entities present in the video (people, animals, objects, etc.)\n",
      "- **Attributes**: Properties of objects (color, size, position, state, etc.)\n",
      "- **Relationships**: Spatial and semantic connections between objects\n",
      "- **Temporal Information**: How objects and relationships change over time\n",
      "- **Actions/Events**: Activities and interactions occurring in the video\n",
      "- **Scene Context**: Location, setting, environmental details\n",
      "\n",
      "### Example Scene Graph Format\n",
      "```\n",
      "Timestamp: [0-5s]\n",
      "Objects: [person_1, person_2, ball, grass, goal_post]\n",
      "Attributes: \n",
      "  - person_1: {color: \"red_shirt\", position: \"left_side\", state: \"running\"}\n",
      "  - ball: {color: \"white\", position: \"center\", state: \"moving\"}\n",
      "Relationships:\n",
      "  - person_1 → chasing → ball\n",
      "  - ball → near → person_2\n",
      "Actions: [kick, run, pass]\n",
      "Scene: outdoor_soccer_field\n",
      "```\n",
      "\n",
      "## Task Instructions\n",
      "\n",
      "1. **Analyze the Scene Graph**: Carefully examine all provided temporal segments, objects, attributes, relationships, and actions.\n",
      "\n",
      "2. **Answer Comprehensively**: Provide detailed, accurate answers based solely on the information present in the scene graph representation.\n",
      "\n",
      "3. **Handle Different Question Types**:\n",
      "   - **What questions**: Identify objects, actions, or attributes\n",
      "   - **Where questions**: Use spatial relationships and scene context\n",
      "   - **When questions**: Reference temporal information and timestamps\n",
      "   - **Who questions**: Identify people and their characteristics\n",
      "   - **How questions**: Describe processes, methods, or sequences of actions\n",
      "   - **Why questions**: Infer motivations from visible actions and context\n",
      "\n",
      "4. **Temporal Reasoning**: When answering questions about sequences, timing, or changes, reference specific timestamps and describe how elements evolve over time.\n",
      "\n",
      "5. **Relationship Analysis**: Utilize the relationship information to understand interactions, spatial arrangements, and causal connections.\n",
      "\n",
      "6. **Uncertainty Handling**: If the scene graph doesn't contain sufficient information to answer a question definitively, clearly state what information is available and what cannot be determined.\n",
      "\n",
      "## Response Guidelines\n",
      "\n",
      "- **Be Specific**: Reference exact timestamps, object attributes, and relationships when relevant\n",
      "- **Be Accurate**: Only make claims supported by the scene graph data\n",
      "- **Be Complete**: Address all aspects of multi-part questions\n",
      "- **Be Clear**: Use natural language while incorporating technical details when necessary\n",
      "- **Acknowledge Limitations**: If certain visual details are not captured in the scene graph, mention this limitation\n",
      "\n",
      "## Example Response Structure\n",
      "\n",
      "**Question**: \"What is the person in the red shirt doing at the beginning of the video?\"\n",
      "\n",
      "**Response**: \"Based on the scene graph representation, during the first 5 seconds (timestamp 0-5s), person_1 is wearing a red shirt and is located on the left side of what appears to be an outdoor soccer field. The person is in a 'running' state and has a 'chasing' relationship with a white ball positioned in the center of the scene. This indicates that the person in the red shirt is running while chasing the ball at the beginning of the video.\"\n",
      "\n",
      "## Important Notes\n",
      "\n",
      "- Focus on observable elements captured in the scene graph rather than making assumptions about elements not explicitly represented\n",
      "- When temporal information spans multiple timestamps, provide a chronological description of changes\n",
      "- Use the relationship data to understand complex interactions and spatial arrangements\n",
      "- Consider both direct attributes and inferred information from relationships and actions\n",
      "\n",
      "Your goal is to provide accurate, comprehensive answers that demonstrate understanding of the video content through its structured scene graph representation.\n"
     ]
    }
   ],
   "source": [
    "with open(WORK_DIR / 'cvrr/sys_prompt.txt', 'r') as f:\n",
    "    sys_prompt = f.read()\n",
    "\n",
    "print(sys_prompt)\n"
   ]
  },
  {
   "cell_type": "markdown",
   "metadata": {},
   "source": [
    "User prompt"
   ]
  },
  {
   "cell_type": "code",
   "execution_count": 75,
   "metadata": {},
   "outputs": [
    {
     "name": "stdout",
     "output_type": "stream",
     "text": [
      "# Video Question-Answering User Prompt Template\n",
      "\n",
      "## Question\n",
      "{question}\n",
      "\n",
      "## Spatio-Temporal Scene Graph Representation\n",
      "{stsg}\n",
      "\n",
      "---\n",
      "\n",
      "Please analyze the provided scene graph representation and answer the question based on the visual and temporal information contained within it.\n"
     ]
    }
   ],
   "source": [
    "with open(WORK_DIR / 'cvrr/user_prompt.txt', 'r') as f:\n",
    "    user_prompt = f.read()\n",
    "\n",
    "print(user_prompt)\n"
   ]
  },
  {
   "cell_type": "markdown",
   "metadata": {},
   "source": [
    "Let's load the ground truth from the `STAR_QA_question_and_stsg_val.json` file where we extracted QA and spatio-temporal scene graphs"
   ]
  },
  {
   "cell_type": "code",
   "execution_count": 76,
   "metadata": {},
   "outputs": [
    {
     "name": "stdout",
     "output_type": "stream",
     "text": [
      "\n",
      "Dataset Statistics:\n",
      "========================================\n",
      "QA File: cvrr_val_updated.json\n",
      "Number of QA samples: 2400\n",
      "QA sample keys: dimension_name, subset, question_id, question, video_id, answer\n",
      "\n",
      "STSG File: generated_stsg_cvrr.json\n",
      "Number of unique video IDs with STSG: 193\n",
      "========================================\n",
      "\n"
     ]
    }
   ],
   "source": [
    "user_prompt_formatter = OpenEndedPrompt(user_prompt)\n",
    "qa_cvrr_dataset = CVRRDataset(\n",
    "    qa_file_path=WORK_DIR/\"cvrr/cvrr_val_updated.json\",\n",
    "    prompt_formatter=user_prompt_formatter,\n",
    "    stsg_file_path=WORK_DIR/\"cvrr/generated_stsg_cvrr.json\"\n",
    ")\n"
   ]
  },
  {
   "cell_type": "code",
   "execution_count": 77,
   "metadata": {},
   "outputs": [
    {
     "data": {
      "text/plain": [
       "{'dimension_name': 'Continuity and Object Instance Count',\n",
       " 'subset': 'continuity_and_object_instance_count',\n",
       " 'question_id': '2a49d339-11d1-4c70-b6df-8f3f1e4bbcc0',\n",
       " 'question': 'How many times is the golden hollow sphere gets covered by other objects?',\n",
       " 'video_id': 'continuity_and_object_instance_count_183',\n",
       " 'answer': 'The golden hollow sphere is covered two times by other objects.',\n",
       " 'stsg': '\\nFrame 0:\\n\\n\\npurple_cube ---- above ---- yellow_sphere\\npurple_cube ---- adjacent_to ---- green_cone\\npurple_cube ---- adjacent_to ---- red_cone\\ngreen_cone ---- to_the_left_of ---- purple_cube\\nred_cone ---- to_the_right_of ---- purple_cube\\nyellow_sphere ---- below ---- purple_cube\\ngreen_cone ---- positioned_near ---- purple_cube\\nred_cone ---- positioned_near ---- purple_cube\\nyellow_sphere ---- directly_under ---- purple_cube\\npurple_cube ---- supporting ---- yellow_sphere\\n\\nFrame 1:\\n\\n\\nred_sphere ---- above ---- green_cone\\ngreen_cone ---- above ---- purple_cube\\npurple_cube ---- on ---- surface\\nred_sphere ---- above ---- green_cone\\ngreen_cone ---- looking_at ---- purple_cube\\nred_sphere ---- looking_at ---- green_cone\\npurple_cube ---- on_top_of ---- surface\\ngreen_cone ---- attached_to ---- red_sphere\\nsurface ---- supporting ---- purple_cube\\ngreen_cone ---- positioned_above ---- purple_cube\\nred_sphere ---- positioned_above ---- green_cone\\n\\nFrame 2:\\n\\nred_sphere ---- above ---- purple_cube\\npurple_cube ---- on ---- white_surface\\ngreen_cylinder ---- to_the_right_of ---- purple_cube\\nwhite_surface ---- supporting ---- purple_cube\\nred_sphere ---- looking_at ---- purple_cube\\npurple_cube ---- positioned_on ---- white_surface\\ngreen_cylinder ---- adjacent_to ---- purple_cube\\nwhite_surface ---- containing ---- red_sphere\\nred_sphere ---- positioned_above ---- purple_cube\\ngreen_cylinder ---- near ---- purple_cube\\npurple_cube ---- centered_on ---- white_surface\\n\\nFrame 3:\\n\\npurple_cube ---- sitting_on ---- gray_table\\ngreen_cone ---- positioned_behind ---- purple_cube\\ngray_table ---- supporting ---- purple_cube\\ngray_table ---- adjacent_to ---- gray_chair\\ngray_chair ---- positioned_next_to ---- gray_table\\npurple_cube ---- placed_on ---- gray_table\\ngreen_cone ---- located_behind ---- purple_cube\\ngray_table ---- resting_on ---- gray_floor\\ngray_floor ---- supporting ---- gray_table\\npurple_cube ---- part_of ---- scene\\ngreen_cone ---- part_of ---- scene\\ngray_table ---- part_of ---- scene\\ngray_chair ---- part_of ---- scene\\n\\nFrame 4:\\n\\ngreen_cylinder ---- supporting ---- purple_cube\\npurple_cube ---- resting_on ---- green_cylinder\\ngreen_cylinder ---- positioned_on ---- gray_background\\ngray_background ---- behind ---- green_cylinder\\npurple_cube ---- above ---- green_cylinder\\ngreen_cylinder ---- positioned_above ---- gray_background\\npurple_cube ---- adjacent_to ---- green_cylinder\\ngreen_cylinder ---- centered_on ---- purple_cube\\npurple_cube ---- reflecting_off ---- green_cylinder\\ngray_background ---- providing_backdrop_for ---- green_cylinder\\npurple_cube ---- occupying_space_above ---- green_cylinder\\n',\n",
       " 'qid': '2a49d339-11d1-4c70-b6df-8f3f1e4bbcc0',\n",
       " 'prompt': '# Video Question-Answering User Prompt Template\\n\\n## Question\\nHow many times is the golden hollow sphere gets covered by other objects?\\n\\n## Spatio-Temporal Scene Graph Representation\\n\\nFrame 0:\\n\\n\\npurple_cube ---- above ---- yellow_sphere\\npurple_cube ---- adjacent_to ---- green_cone\\npurple_cube ---- adjacent_to ---- red_cone\\ngreen_cone ---- to_the_left_of ---- purple_cube\\nred_cone ---- to_the_right_of ---- purple_cube\\nyellow_sphere ---- below ---- purple_cube\\ngreen_cone ---- positioned_near ---- purple_cube\\nred_cone ---- positioned_near ---- purple_cube\\nyellow_sphere ---- directly_under ---- purple_cube\\npurple_cube ---- supporting ---- yellow_sphere\\n\\nFrame 1:\\n\\n\\nred_sphere ---- above ---- green_cone\\ngreen_cone ---- above ---- purple_cube\\npurple_cube ---- on ---- surface\\nred_sphere ---- above ---- green_cone\\ngreen_cone ---- looking_at ---- purple_cube\\nred_sphere ---- looking_at ---- green_cone\\npurple_cube ---- on_top_of ---- surface\\ngreen_cone ---- attached_to ---- red_sphere\\nsurface ---- supporting ---- purple_cube\\ngreen_cone ---- positioned_above ---- purple_cube\\nred_sphere ---- positioned_above ---- green_cone\\n\\nFrame 2:\\n\\nred_sphere ---- above ---- purple_cube\\npurple_cube ---- on ---- white_surface\\ngreen_cylinder ---- to_the_right_of ---- purple_cube\\nwhite_surface ---- supporting ---- purple_cube\\nred_sphere ---- looking_at ---- purple_cube\\npurple_cube ---- positioned_on ---- white_surface\\ngreen_cylinder ---- adjacent_to ---- purple_cube\\nwhite_surface ---- containing ---- red_sphere\\nred_sphere ---- positioned_above ---- purple_cube\\ngreen_cylinder ---- near ---- purple_cube\\npurple_cube ---- centered_on ---- white_surface\\n\\nFrame 3:\\n\\npurple_cube ---- sitting_on ---- gray_table\\ngreen_cone ---- positioned_behind ---- purple_cube\\ngray_table ---- supporting ---- purple_cube\\ngray_table ---- adjacent_to ---- gray_chair\\ngray_chair ---- positioned_next_to ---- gray_table\\npurple_cube ---- placed_on ---- gray_table\\ngreen_cone ---- located_behind ---- purple_cube\\ngray_table ---- resting_on ---- gray_floor\\ngray_floor ---- supporting ---- gray_table\\npurple_cube ---- part_of ---- scene\\ngreen_cone ---- part_of ---- scene\\ngray_table ---- part_of ---- scene\\ngray_chair ---- part_of ---- scene\\n\\nFrame 4:\\n\\ngreen_cylinder ---- supporting ---- purple_cube\\npurple_cube ---- resting_on ---- green_cylinder\\ngreen_cylinder ---- positioned_on ---- gray_background\\ngray_background ---- behind ---- green_cylinder\\npurple_cube ---- above ---- green_cylinder\\ngreen_cylinder ---- positioned_above ---- gray_background\\npurple_cube ---- adjacent_to ---- green_cylinder\\ngreen_cylinder ---- centered_on ---- purple_cube\\npurple_cube ---- reflecting_off ---- green_cylinder\\ngray_background ---- providing_backdrop_for ---- green_cylinder\\npurple_cube ---- occupying_space_above ---- green_cylinder\\n\\n\\n---\\n\\nPlease analyze the provided scene graph representation and answer the question based on the visual and temporal information contained within it.'}"
      ]
     },
     "execution_count": 77,
     "metadata": {},
     "output_type": "execute_result"
    }
   ],
   "source": [
    "# example of entry\n",
    "qa_cvrr_dataset[0]\n"
   ]
  },
  {
   "cell_type": "code",
   "execution_count": 78,
   "metadata": {},
   "outputs": [
    {
     "name": "stdout",
     "output_type": "stream",
     "text": [
      "# Video Question-Answering User Prompt Template\n",
      "\n",
      "## Question\n",
      "How many times is the golden hollow sphere gets covered by other objects?\n",
      "\n",
      "## Spatio-Temporal Scene Graph Representation\n",
      "\n",
      "Frame 0:\n",
      "\n",
      "\n",
      "purple_cube ---- above ---- yellow_sphere\n",
      "purple_cube ---- adjacent_to ---- green_cone\n",
      "purple_cube ---- adjacent_to ---- red_cone\n",
      "green_cone ---- to_the_left_of ---- purple_cube\n",
      "red_cone ---- to_the_right_of ---- purple_cube\n",
      "yellow_sphere ---- below ---- purple_cube\n",
      "green_cone ---- positioned_near ---- purple_cube\n",
      "red_cone ---- positioned_near ---- purple_cube\n",
      "yellow_sphere ---- directly_under ---- purple_cube\n",
      "purple_cube ---- supporting ---- yellow_sphere\n",
      "\n",
      "Frame 1:\n",
      "\n",
      "\n",
      "red_sphere ---- above ---- green_cone\n",
      "green_cone ---- above ---- purple_cube\n",
      "purple_cube ---- on ---- surface\n",
      "red_sphere ---- above ---- green_cone\n",
      "green_cone ---- looking_at ---- purple_cube\n",
      "red_sphere ---- looking_at ---- green_cone\n",
      "purple_cube ---- on_top_of ---- surface\n",
      "green_cone ---- attached_to ---- red_sphere\n",
      "surface ---- supporting ---- purple_cube\n",
      "green_cone ---- positioned_above ---- purple_cube\n",
      "red_sphere ---- positioned_above ---- green_cone\n",
      "\n",
      "Frame 2:\n",
      "\n",
      "red_sphere ---- above ---- purple_cube\n",
      "purple_cube ---- on ---- white_surface\n",
      "green_cylinder ---- to_the_right_of ---- purple_cube\n",
      "white_surface ---- supporting ---- purple_cube\n",
      "red_sphere ---- looking_at ---- purple_cube\n",
      "purple_cube ---- positioned_on ---- white_surface\n",
      "green_cylinder ---- adjacent_to ---- purple_cube\n",
      "white_surface ---- containing ---- red_sphere\n",
      "red_sphere ---- positioned_above ---- purple_cube\n",
      "green_cylinder ---- near ---- purple_cube\n",
      "purple_cube ---- centered_on ---- white_surface\n",
      "\n",
      "Frame 3:\n",
      "\n",
      "purple_cube ---- sitting_on ---- gray_table\n",
      "green_cone ---- positioned_behind ---- purple_cube\n",
      "gray_table ---- supporting ---- purple_cube\n",
      "gray_table ---- adjacent_to ---- gray_chair\n",
      "gray_chair ---- positioned_next_to ---- gray_table\n",
      "purple_cube ---- placed_on ---- gray_table\n",
      "green_cone ---- located_behind ---- purple_cube\n",
      "gray_table ---- resting_on ---- gray_floor\n",
      "gray_floor ---- supporting ---- gray_table\n",
      "purple_cube ---- part_of ---- scene\n",
      "green_cone ---- part_of ---- scene\n",
      "gray_table ---- part_of ---- scene\n",
      "gray_chair ---- part_of ---- scene\n",
      "\n",
      "Frame 4:\n",
      "\n",
      "green_cylinder ---- supporting ---- purple_cube\n",
      "purple_cube ---- resting_on ---- green_cylinder\n",
      "green_cylinder ---- positioned_on ---- gray_background\n",
      "gray_background ---- behind ---- green_cylinder\n",
      "purple_cube ---- above ---- green_cylinder\n",
      "green_cylinder ---- positioned_above ---- gray_background\n",
      "purple_cube ---- adjacent_to ---- green_cylinder\n",
      "green_cylinder ---- centered_on ---- purple_cube\n",
      "purple_cube ---- reflecting_off ---- green_cylinder\n",
      "gray_background ---- providing_backdrop_for ---- green_cylinder\n",
      "purple_cube ---- occupying_space_above ---- green_cylinder\n",
      "\n",
      "\n",
      "---\n",
      "\n",
      "Please analyze the provided scene graph representation and answer the question based on the visual and temporal information contained within it.\n"
     ]
    }
   ],
   "source": [
    "print(qa_cvrr_dataset[0][\"prompt\"])\n"
   ]
  },
  {
   "cell_type": "code",
   "execution_count": 79,
   "metadata": {},
   "outputs": [
    {
     "data": {
      "text/html": [
       "<div>\n",
       "<style scoped>\n",
       "    .dataframe tbody tr th:only-of-type {\n",
       "        vertical-align: middle;\n",
       "    }\n",
       "\n",
       "    .dataframe tbody tr th {\n",
       "        vertical-align: top;\n",
       "    }\n",
       "\n",
       "    .dataframe thead th {\n",
       "        text-align: right;\n",
       "    }\n",
       "</style>\n",
       "<table border=\"1\" class=\"dataframe\">\n",
       "  <thead>\n",
       "    <tr style=\"text-align: right;\">\n",
       "      <th></th>\n",
       "      <th>text</th>\n",
       "    </tr>\n",
       "    <tr>\n",
       "      <th>id</th>\n",
       "      <th></th>\n",
       "    </tr>\n",
       "  </thead>\n",
       "  <tbody>\n",
       "    <tr>\n",
       "      <th>2a49d339-11d1-4c70-b6df-8f3f1e4bbcc0</th>\n",
       "      <td>The golden hollow sphere (referred to as purpl...</td>\n",
       "    </tr>\n",
       "    <tr>\n",
       "      <th>b27163c5-d341-475b-8517-54809872081a</th>\n",
       "      <td>Based on the provided scene graph representati...</td>\n",
       "    </tr>\n",
       "    <tr>\n",
       "      <th>9bce3140-e8e8-49dd-8574-5e961326fb16</th>\n",
       "      <td>Okay, let's analyze the scene graph and answer...</td>\n",
       "    </tr>\n",
       "    <tr>\n",
       "      <th>b8df9fbe-07db-46ab-ba17-3713c1632dbd</th>\n",
       "      <td>The golden sphere (referred to as purple_cube ...</td>\n",
       "    </tr>\n",
       "    <tr>\n",
       "      <th>01c30c62-f489-4246-af18-b7b538b4cb9d</th>\n",
       "      <td>Based on the provided scene graph representati...</td>\n",
       "    </tr>\n",
       "    <tr>\n",
       "      <th>...</th>\n",
       "      <td>...</td>\n",
       "    </tr>\n",
       "    <tr>\n",
       "      <th>4073994c-e4ca-4592-b001-fe0a79ab0e3f</th>\n",
       "      <td>Based on the provided scene graph representati...</td>\n",
       "    </tr>\n",
       "    <tr>\n",
       "      <th>3a158fb7-38cb-49b4-91e8-0cb63d6bf218</th>\n",
       "      <td>Okay, let's analyze the scene graph and answer...</td>\n",
       "    </tr>\n",
       "    <tr>\n",
       "      <th>247a493d-0d24-4f1b-bbf6-b03e8973b544</th>\n",
       "      <td>Based on the provided scene graph representati...</td>\n",
       "    </tr>\n",
       "    <tr>\n",
       "      <th>1455f7ec-007a-434e-93d1-6d73b1e3746c</th>\n",
       "      <td>Based on the provided scene graph representati...</td>\n",
       "    </tr>\n",
       "    <tr>\n",
       "      <th>15327727-8c7a-4cde-8b78-557a5ab9bb70</th>\n",
       "      <td>Based on the provided scene graph representati...</td>\n",
       "    </tr>\n",
       "  </tbody>\n",
       "</table>\n",
       "<p>2400 rows × 1 columns</p>\n",
       "</div>"
      ],
      "text/plain": [
       "                                                                                   text\n",
       "id                                                                                     \n",
       "2a49d339-11d1-4c70-b6df-8f3f1e4bbcc0  The golden hollow sphere (referred to as purpl...\n",
       "b27163c5-d341-475b-8517-54809872081a  Based on the provided scene graph representati...\n",
       "9bce3140-e8e8-49dd-8574-5e961326fb16  Okay, let's analyze the scene graph and answer...\n",
       "b8df9fbe-07db-46ab-ba17-3713c1632dbd  The golden sphere (referred to as purple_cube ...\n",
       "01c30c62-f489-4246-af18-b7b538b4cb9d  Based on the provided scene graph representati...\n",
       "...                                                                                 ...\n",
       "4073994c-e4ca-4592-b001-fe0a79ab0e3f  Based on the provided scene graph representati...\n",
       "3a158fb7-38cb-49b4-91e8-0cb63d6bf218  Okay, let's analyze the scene graph and answer...\n",
       "247a493d-0d24-4f1b-bbf6-b03e8973b544  Based on the provided scene graph representati...\n",
       "1455f7ec-007a-434e-93d1-6d73b1e3746c  Based on the provided scene graph representati...\n",
       "15327727-8c7a-4cde-8b78-557a5ab9bb70  Based on the provided scene graph representati...\n",
       "\n",
       "[2400 rows x 1 columns]"
      ]
     },
     "execution_count": 79,
     "metadata": {},
     "output_type": "execute_result"
    }
   ],
   "source": [
    "predictions = []\n",
    "with open(WORK_DIR / \"cvrr/cvrr_qa_responses.jsonl\") as f:\n",
    "    predictions = [json.loads(line) for line in f.readlines()]\n",
    "\n",
    "# transforming the id key from `qid` to `id` for consistency and `response` to `answer`\n",
    "predictions_df = pd.DataFrame(predictions, dtype='string').rename(columns={'qid':'id'})\n",
    "predictions_df.set_index('id', inplace=True)\n",
    "\n",
    "ans_df = predictions_df\n",
    "ans_df = ans_df.rename(columns={'response': 'text'})\n",
    "ans_df\n"
   ]
  },
  {
   "cell_type": "markdown",
   "metadata": {},
   "source": [
    "## LLM as judge evaluation"
   ]
  },
  {
   "cell_type": "markdown",
   "metadata": {},
   "source": [
    "System prompt"
   ]
  },
  {
   "cell_type": "code",
   "execution_count": 80,
   "metadata": {},
   "outputs": [
    {
     "name": "stdout",
     "output_type": "stream",
     "text": [
      "You are an intelligent chatbot designed for evaluating the correctness of AI assistant predictions for\n",
      "question-answer pairs.\n",
      "Your task is to compare the predicted answer with the ground-truth answer and determine if the predicted\n",
      "answer is correct or not. Here's how you can accomplish the task:\n",
      "------\n",
      "##INSTRUCTIONS:\n",
      "- Focus on the correctness and accuracy of the predicted answer with the ground-truth.\n",
      "- Consider predictions with less specific details as correct evaluation, unless such details are explicitly\n",
      "asked in the question.\n",
      "\n"
     ]
    }
   ],
   "source": [
    "with open(WORK_DIR / 'cvrr/llm_as_judge_sys.txt', 'r') as f:\n",
    "    sys_prompt = f.read()\n",
    "\n",
    "print(sys_prompt)\n"
   ]
  },
  {
   "cell_type": "markdown",
   "metadata": {},
   "source": [
    "User prompt"
   ]
  },
  {
   "cell_type": "code",
   "execution_count": 81,
   "metadata": {},
   "outputs": [
    {
     "name": "stdout",
     "output_type": "stream",
     "text": [
      "Please evaluate the following video-based question-answer pair:\n",
      "Question: {question}\n",
      "Ground truth correct Answer: {gt_answer}\n",
      "Predicted Answer: {prediction}\n",
      "Provide your evaluation as a correct/incorrect prediction along with the score where the score is an\n",
      "integer value between 0 (fully wrong) and 5 (fully correct). The middle score provides the percentage of\n",
      "correctness.\n",
      "Please generate the response in the form of a Python dictionary string with keys 'pred', 'score' and\n",
      "'reason', where value of 'pred' is a string of 'correct' or 'incorrect', value of 'score' is in INTEGER, not STRING\n",
      "and value of 'reason' should provide the reason behind the decision.\n",
      "Only provide the Python dictionary string.\n",
      "For example, your response should look like this: {{'pred': 'correct', 'score': 4, 'reason': reason}}.\n",
      "\n"
     ]
    }
   ],
   "source": [
    "with open(WORK_DIR / 'cvrr/llm_as_judge_user.txt', 'r') as f:\n",
    "    user_prompt = f.read()\n",
    "\n",
    "print(user_prompt)\n"
   ]
  },
  {
   "cell_type": "code",
   "execution_count": 82,
   "metadata": {},
   "outputs": [],
   "source": [
    "judge_prompt_formatter = LlmAsJudgePrompt(user_prompt)\n",
    "judge_cvrr_dataset = JudgeDataset(\n",
    "    dataset=qa_cvrr_dataset,\n",
    "    predictions_filepath=WORK_DIR/\"cvrr/cvrr_qa_responses.jsonl\",\n",
    "    prompt_formatter=judge_prompt_formatter\n",
    ")\n"
   ]
  },
  {
   "cell_type": "code",
   "execution_count": 83,
   "metadata": {},
   "outputs": [
    {
     "data": {
      "text/plain": [
       "{'dimension_name': 'Continuity and Object Instance Count',\n",
       " 'subset': 'continuity_and_object_instance_count',\n",
       " 'question_id': '2a49d339-11d1-4c70-b6df-8f3f1e4bbcc0',\n",
       " 'question': 'How many times is the golden hollow sphere gets covered by other objects?',\n",
       " 'video_id': 'continuity_and_object_instance_count_183',\n",
       " 'answer': 'The golden hollow sphere is covered two times by other objects.',\n",
       " 'stsg': '\\nFrame 0:\\n\\n\\npurple_cube ---- above ---- yellow_sphere\\npurple_cube ---- adjacent_to ---- green_cone\\npurple_cube ---- adjacent_to ---- red_cone\\ngreen_cone ---- to_the_left_of ---- purple_cube\\nred_cone ---- to_the_right_of ---- purple_cube\\nyellow_sphere ---- below ---- purple_cube\\ngreen_cone ---- positioned_near ---- purple_cube\\nred_cone ---- positioned_near ---- purple_cube\\nyellow_sphere ---- directly_under ---- purple_cube\\npurple_cube ---- supporting ---- yellow_sphere\\n\\nFrame 1:\\n\\n\\nred_sphere ---- above ---- green_cone\\ngreen_cone ---- above ---- purple_cube\\npurple_cube ---- on ---- surface\\nred_sphere ---- above ---- green_cone\\ngreen_cone ---- looking_at ---- purple_cube\\nred_sphere ---- looking_at ---- green_cone\\npurple_cube ---- on_top_of ---- surface\\ngreen_cone ---- attached_to ---- red_sphere\\nsurface ---- supporting ---- purple_cube\\ngreen_cone ---- positioned_above ---- purple_cube\\nred_sphere ---- positioned_above ---- green_cone\\n\\nFrame 2:\\n\\nred_sphere ---- above ---- purple_cube\\npurple_cube ---- on ---- white_surface\\ngreen_cylinder ---- to_the_right_of ---- purple_cube\\nwhite_surface ---- supporting ---- purple_cube\\nred_sphere ---- looking_at ---- purple_cube\\npurple_cube ---- positioned_on ---- white_surface\\ngreen_cylinder ---- adjacent_to ---- purple_cube\\nwhite_surface ---- containing ---- red_sphere\\nred_sphere ---- positioned_above ---- purple_cube\\ngreen_cylinder ---- near ---- purple_cube\\npurple_cube ---- centered_on ---- white_surface\\n\\nFrame 3:\\n\\npurple_cube ---- sitting_on ---- gray_table\\ngreen_cone ---- positioned_behind ---- purple_cube\\ngray_table ---- supporting ---- purple_cube\\ngray_table ---- adjacent_to ---- gray_chair\\ngray_chair ---- positioned_next_to ---- gray_table\\npurple_cube ---- placed_on ---- gray_table\\ngreen_cone ---- located_behind ---- purple_cube\\ngray_table ---- resting_on ---- gray_floor\\ngray_floor ---- supporting ---- gray_table\\npurple_cube ---- part_of ---- scene\\ngreen_cone ---- part_of ---- scene\\ngray_table ---- part_of ---- scene\\ngray_chair ---- part_of ---- scene\\n\\nFrame 4:\\n\\ngreen_cylinder ---- supporting ---- purple_cube\\npurple_cube ---- resting_on ---- green_cylinder\\ngreen_cylinder ---- positioned_on ---- gray_background\\ngray_background ---- behind ---- green_cylinder\\npurple_cube ---- above ---- green_cylinder\\ngreen_cylinder ---- positioned_above ---- gray_background\\npurple_cube ---- adjacent_to ---- green_cylinder\\ngreen_cylinder ---- centered_on ---- purple_cube\\npurple_cube ---- reflecting_off ---- green_cylinder\\ngray_background ---- providing_backdrop_for ---- green_cylinder\\npurple_cube ---- occupying_space_above ---- green_cylinder\\n',\n",
       " 'qid': '2a49d339-11d1-4c70-b6df-8f3f1e4bbcc0',\n",
       " 'prompt': \"Please evaluate the following video-based question-answer pair:\\nQuestion: How many times is the golden hollow sphere gets covered by other objects?\\nGround truth correct Answer: The golden hollow sphere is covered two times by other objects.\\nPredicted Answer: The golden hollow sphere (referred to as purple_cube in the scene graph) is covered by other objects a total of 4 times across the four frames. Here’s a breakdown:\\n\\n*   **Frame 0:** The purple_cube is directly below the purple_cube, indicating it's covered.\\n*   **Frame 1:** The purple_cube is covered by the red_sphere.\\n*   **Frame 2:** The purple_cube is covered by the red_sphere.\\n*   **Frame 3:** The purple_cube is covered by the red_sphere.\\n\\nTherefore, the purple_cube is covered by the red_sphere in three of the frames.\\nProvide your evaluation as a correct/incorrect prediction along with the score where the score is an\\ninteger value between 0 (fully wrong) and 5 (fully correct). The middle score provides the percentage of\\ncorrectness.\\nPlease generate the response in the form of a Python dictionary string with keys 'pred', 'score' and\\n'reason', where value of 'pred' is a string of 'correct' or 'incorrect', value of 'score' is in INTEGER, not STRING\\nand value of 'reason' should provide the reason behind the decision.\\nOnly provide the Python dictionary string.\\nFor example, your response should look like this: {'pred': 'correct', 'score': 4, 'reason': reason}.\\n\",\n",
       " 'gt_answer': 'The golden hollow sphere is covered two times by other objects.',\n",
       " 'response': \"The golden hollow sphere (referred to as purple_cube in the scene graph) is covered by other objects a total of 4 times across the four frames. Here’s a breakdown:\\n\\n*   **Frame 0:** The purple_cube is directly below the purple_cube, indicating it's covered.\\n*   **Frame 1:** The purple_cube is covered by the red_sphere.\\n*   **Frame 2:** The purple_cube is covered by the red_sphere.\\n*   **Frame 3:** The purple_cube is covered by the red_sphere.\\n\\nTherefore, the purple_cube is covered by the red_sphere in three of the frames.\"}"
      ]
     },
     "execution_count": 83,
     "metadata": {},
     "output_type": "execute_result"
    }
   ],
   "source": [
    "judge_cvrr_dataset[0]\n"
   ]
  },
  {
   "cell_type": "code",
   "execution_count": 84,
   "metadata": {},
   "outputs": [
    {
     "name": "stdout",
     "output_type": "stream",
     "text": [
      "Please evaluate the following video-based question-answer pair:\n",
      "Question: How many times is the golden hollow sphere gets covered by other objects?\n",
      "Ground truth correct Answer: The golden hollow sphere is covered two times by other objects.\n",
      "Predicted Answer: The golden hollow sphere (referred to as purple_cube in the scene graph) is covered by other objects a total of 4 times across the four frames. Here’s a breakdown:\n",
      "\n",
      "*   **Frame 0:** The purple_cube is directly below the purple_cube, indicating it's covered.\n",
      "*   **Frame 1:** The purple_cube is covered by the red_sphere.\n",
      "*   **Frame 2:** The purple_cube is covered by the red_sphere.\n",
      "*   **Frame 3:** The purple_cube is covered by the red_sphere.\n",
      "\n",
      "Therefore, the purple_cube is covered by the red_sphere in three of the frames.\n",
      "Provide your evaluation as a correct/incorrect prediction along with the score where the score is an\n",
      "integer value between 0 (fully wrong) and 5 (fully correct). The middle score provides the percentage of\n",
      "correctness.\n",
      "Please generate the response in the form of a Python dictionary string with keys 'pred', 'score' and\n",
      "'reason', where value of 'pred' is a string of 'correct' or 'incorrect', value of 'score' is in INTEGER, not STRING\n",
      "and value of 'reason' should provide the reason behind the decision.\n",
      "Only provide the Python dictionary string.\n",
      "For example, your response should look like this: {'pred': 'correct', 'score': 4, 'reason': reason}.\n",
      "\n"
     ]
    }
   ],
   "source": [
    "print(judge_cvrr_dataset[0]['prompt'])\n"
   ]
  },
  {
   "cell_type": "markdown",
   "metadata": {},
   "source": [
    "## Loading the the Judge evaluation\n",
    "\n",
    "Now we load the judge evaluation on the responses of the perdictor model. The set of responses are saved in two different files. `llama8b_as_judge_wrong.jsonl` contains the responses that were classified as incorrect by the method with the method extraction, `llama8b_as_judge_correct.jsonl` contains the responses classified as correct.  \n",
    "These two files contains only the responses for which it was able to extract an answer with the regex."
   ]
  },
  {
   "cell_type": "code",
   "execution_count": 85,
   "metadata": {},
   "outputs": [
    {
     "name": "stdout",
     "output_type": "stream",
     "text": [
      "<class 'pandas.core.frame.DataFrame'>\n",
      "Index: 2400 entries, 2a49d339-11d1-4c70-b6df-8f3f1e4bbcc0 to 15327727-8c7a-4cde-8b78-557a5ab9bb70\n",
      "Data columns (total 1 columns):\n",
      " #   Column    Non-Null Count  Dtype \n",
      "---  ------    --------------  ----- \n",
      " 0   response  2400 non-null   object\n",
      "dtypes: object(1)\n",
      "memory usage: 37.5+ KB\n"
     ]
    }
   ],
   "source": [
    "# Load the scores for the wrong answers\n",
    "predictions = []\n",
    "with open(WORK_DIR / \"cvrr/cvrr_val_judge_evaluation.jsonl\", 'r', encoding='utf-8') as f:\n",
    "    predictions = [json.loads(line) for line in f.readlines()]\n",
    "\n",
    "# Extract pred, score and reason from response dictionary into separate columns\n",
    "judge_pred_df = pd.DataFrame(predictions).rename(columns={'qid':'id'})\n",
    "judge_pred_df.set_index('id', inplace=True)\n",
    "judge_pred_df.info()\n"
   ]
  },
  {
   "cell_type": "markdown",
   "metadata": {},
   "source": [
    "## Handle formatting issues"
   ]
  },
  {
   "cell_type": "markdown",
   "metadata": {},
   "source": [
    "For Gemma we need to be more careful becuase the format is different, it encapsulated the json output in the with the tokens: \n",
    "```\n",
    "```json\\n\n",
    "<actual_answer>\n",
    "\\n```\n",
    "```"
   ]
  },
  {
   "cell_type": "code",
   "execution_count": 86,
   "metadata": {},
   "outputs": [
    {
     "name": "stdout",
     "output_type": "stream",
     "text": [
      "Total answers: 2400\n",
      "Answers following JSON template: 2392\n",
      "Percentage following JSON template: 99.67%\n"
     ]
    }
   ],
   "source": [
    "\n",
    "# Create mask for answers that follow JSON syntax\n",
    "json_mask = judge_pred_df['response'].str.match(r'^(```json\\s)?({[^}]+})(\\s```)?$')\n",
    "matches_json_template = json_mask.sum()\n",
    "\n",
    "print(f\"Total answers: {len(judge_pred_df)}\")\n",
    "print(f\"Answers following JSON template: {matches_json_template}\")\n",
    "print(f\"Percentage following JSON template: {(matches_json_template/len(judge_pred_df))*100:.2f}%\")\n"
   ]
  },
  {
   "cell_type": "code",
   "execution_count": 87,
   "metadata": {},
   "outputs": [
    {
     "name": "stdout",
     "output_type": "stream",
     "text": [
      "<class 'pandas.core.frame.DataFrame'>\n",
      "Index: 2392 entries, 2a49d339-11d1-4c70-b6df-8f3f1e4bbcc0 to 15327727-8c7a-4cde-8b78-557a5ab9bb70\n",
      "Data columns (total 1 columns):\n",
      " #   Column    Non-Null Count  Dtype \n",
      "---  ------    --------------  ----- \n",
      " 0   response  2392 non-null   object\n",
      "dtypes: object(1)\n",
      "memory usage: 37.4+ KB\n"
     ]
    }
   ],
   "source": [
    "judge_pred_df.loc[json_mask, 'response'] = \\\n",
    "    judge_pred_df.loc[json_mask, 'response'] \\\n",
    "    .apply(lambda x: re.search(r'^(?:```json\\s)?({[^}]+})(?:\\s```)?$', x).group(1))\n",
    "\n",
    "judge_pred_df.loc[~json_mask, 'response'] = \"\"\n",
    "judge_pred_df = judge_pred_df.loc[json_mask]\n",
    "judge_pred_df.info()\n"
   ]
  },
  {
   "cell_type": "code",
   "execution_count": 88,
   "metadata": {},
   "outputs": [],
   "source": [
    "# Replace new line (lead to EOF Errors) with whitespace\n",
    "judge_pred_df['response'] = \\\n",
    "    judge_pred_df['response'].str.replace('\\n+', ' ', regex=True)\n",
    "\n",
    "# Replace lef and right quotation mark with simple quotation mark\n",
    "judge_pred_df['response'] = \\\n",
    "    judge_pred_df['response'].str.replace('[\\u2018-\\u201b]', '\\'', regex=True)\n",
    "judge_pred_df['response'] = \\\n",
    "    judge_pred_df['response'].str.replace('[\\u201c\\u201d]', '\"', regex=True)\n",
    "# ------------------ Removing inner double quotes --------------------\n",
    "# It may happen that the text may contain inner double quotes before the\n",
    "# attribute end. This will cause the parser to termiate early and spout\n",
    "# errors for the remaining text. With this snippet we replace those inner\n",
    "# double quotes with single quotes.\n",
    "#  \n",
    "# we first match the text of the reason paramter inside the double quotes\n",
    "# then we escape/replace all the double quotes inside the text\n",
    "inside_doublequotes = r\"(?<=\\\"reason\\\": \\\")(.*)(?=\\\"(?:,|}))\"\n",
    "\n",
    "judge_pred_df['response'] = \\\n",
    "    judge_pred_df.apply(\n",
    "        func=lambda row: re.sub(\n",
    "            inside_doublequotes, \n",
    "            lambda matchobj: matchobj.group(0).replace('\\\"', ''), \n",
    "            row['response']),\n",
    "        axis=1\n",
    "        )\n"
   ]
  },
  {
   "cell_type": "code",
   "execution_count": 89,
   "metadata": {},
   "outputs": [
    {
     "name": "stdout",
     "output_type": "stream",
     "text": [
      "<class 'pandas.core.frame.DataFrame'>\n",
      "Index: 2392 entries, 2a49d339-11d1-4c70-b6df-8f3f1e4bbcc0 to 15327727-8c7a-4cde-8b78-557a5ab9bb70\n",
      "Data columns (total 1 columns):\n",
      " #   Column    Non-Null Count  Dtype \n",
      "---  ------    --------------  ----- \n",
      " 0   response  2392 non-null   object\n",
      "dtypes: object(1)\n",
      "memory usage: 37.4+ KB\n"
     ]
    }
   ],
   "source": [
    "# sometimes the model writes outside the {...} bounderies\n",
    "# let's keep only the relevant part\n",
    "judge_pred_df['response'] = \\\n",
    "    judge_pred_df.apply(\n",
    "        func=lambda row: re.sub(\n",
    "            r\"(\\{.*\\})(.*)\", \n",
    "            r\"\\1\", \n",
    "            row['response']),\n",
    "        axis=1\n",
    "        )\n",
    "    \n",
    "# some times the model starts the answer with \\\" but then terminates it with \\'\n",
    "judge_pred_df['response'] = \\\n",
    "    judge_pred_df.apply(\n",
    "        func=lambda row: re.sub( \n",
    "            r\"(?<=\\'reason\\':)\\s+\\\"(.*)\\'\\s*(?=})\", \n",
    "            lambda matchobj:\"\\\"\" + matchobj.group(1) + \"\\\"\", \n",
    "            row['response']),\n",
    "        axis=1\n",
    "        )\n",
    "    \n",
    "# some times the model starts the answer with \\' but then terminates it with \\\"\n",
    "judge_pred_df['response'] = \\\n",
    "    judge_pred_df.apply(\n",
    "        func=lambda row: re.sub( \n",
    "            r\"(?<=\\'reason\\':)\\s+\\'(.*)\\\"\\s*(?=})\", \n",
    "            lambda matchobj:\"\\\"\" + matchobj.group(1) + \"\\\"\", \n",
    "            row['response']),\n",
    "        axis=1\n",
    "        )\n",
    "\n",
    "    \n",
    "# some times the model is enclosed by \\' \\'\n",
    "judge_pred_df['response'] = \\\n",
    "    judge_pred_df.apply(\n",
    "        func=lambda row: re.sub(\n",
    "            r\"(?<=\\'reason\\':)\\s+\\'(.*)\\'\\s*(?=})\", \n",
    "            lambda matchobj: \"\\\"\" + matchobj.group(1)+ \"\\\"\", \n",
    "            row['response']),\n",
    "        axis=1\n",
    "        )\n",
    "    \n",
    "\n",
    "\n",
    "# ------------------ Removing inner double quotes --------------------\n",
    "# It may happen that the text may contain inner double quotes before the\n",
    "# attribute end. This will cause the parser to termiate early and spout\n",
    "# errors for the remaining text. With this snippet we replace those inner\n",
    "# double quotes with single quotes.\n",
    "#  \n",
    "# we first match the text of the reason paramter inside the double quotes\n",
    "# then we escape/replace all the double quotes inside the text\n",
    "inside_doublequotes = r\"(\\'reason\\':\\s*\\\")(.*)(?=\\\"(?:,|}))\"\n",
    "\n",
    "judge_pred_df['response'] = \\\n",
    "    judge_pred_df.apply(\n",
    "        func=lambda row: re.sub(\n",
    "            inside_doublequotes, \n",
    "            lambda matchobj: matchobj.group(1) + matchobj.group(2).replace('\\\"', ''), \n",
    "            row['response']),\n",
    "        axis=1\n",
    "        )\n",
    "\n",
    "judge_pred_df.info()\n"
   ]
  },
  {
   "cell_type": "markdown",
   "metadata": {},
   "source": [
    "## Extract answers"
   ]
  },
  {
   "cell_type": "code",
   "execution_count": 90,
   "metadata": {},
   "outputs": [
    {
     "data": {
      "text/html": [
       "<div>\n",
       "<style scoped>\n",
       "    .dataframe tbody tr th:only-of-type {\n",
       "        vertical-align: middle;\n",
       "    }\n",
       "\n",
       "    .dataframe tbody tr th {\n",
       "        vertical-align: top;\n",
       "    }\n",
       "\n",
       "    .dataframe thead th {\n",
       "        text-align: right;\n",
       "    }\n",
       "</style>\n",
       "<table border=\"1\" class=\"dataframe\">\n",
       "  <thead>\n",
       "    <tr style=\"text-align: right;\">\n",
       "      <th></th>\n",
       "      <th>pred</th>\n",
       "      <th>score</th>\n",
       "      <th>reason</th>\n",
       "    </tr>\n",
       "    <tr>\n",
       "      <th>id</th>\n",
       "      <th></th>\n",
       "      <th></th>\n",
       "      <th></th>\n",
       "    </tr>\n",
       "  </thead>\n",
       "  <tbody>\n",
       "    <tr>\n",
       "      <th>2a49d339-11d1-4c70-b6df-8f3f1e4bbcc0</th>\n",
       "      <td>incorrect</td>\n",
       "      <td>2</td>\n",
       "      <td>The predicted answer incorrectly states the go...</td>\n",
       "    </tr>\n",
       "    <tr>\n",
       "      <th>b27163c5-d341-475b-8517-54809872081a</th>\n",
       "      <td>correct</td>\n",
       "      <td>5</td>\n",
       "      <td>The predicted answer accurately reflects the i...</td>\n",
       "    </tr>\n",
       "    <tr>\n",
       "      <th>9bce3140-e8e8-49dd-8574-5e961326fb16</th>\n",
       "      <td>incorrect</td>\n",
       "      <td>2</td>\n",
       "      <td>The predicted answer provides a detailed break...</td>\n",
       "    </tr>\n",
       "    <tr>\n",
       "      <th>b8df9fbe-07db-46ab-ba17-3713c1632dbd</th>\n",
       "      <td>incorrect</td>\n",
       "      <td>1</td>\n",
       "      <td>The predicted answer contradicts the ground tr...</td>\n",
       "    </tr>\n",
       "    <tr>\n",
       "      <th>01c30c62-f489-4246-af18-b7b538b4cb9d</th>\n",
       "      <td>correct</td>\n",
       "      <td>5</td>\n",
       "      <td>The predicted answer accurately identifies and...</td>\n",
       "    </tr>\n",
       "    <tr>\n",
       "      <th>...</th>\n",
       "      <td>...</td>\n",
       "      <td>...</td>\n",
       "      <td>...</td>\n",
       "    </tr>\n",
       "    <tr>\n",
       "      <th>4073994c-e4ca-4592-b001-fe0a79ab0e3f</th>\n",
       "      <td>incorrect</td>\n",
       "      <td>1</td>\n",
       "      <td>The ground truth explicitly states that the vi...</td>\n",
       "    </tr>\n",
       "    <tr>\n",
       "      <th>3a158fb7-38cb-49b4-91e8-0cb63d6bf218</th>\n",
       "      <td>incorrect</td>\n",
       "      <td>1</td>\n",
       "      <td>The predicted answer provides a detailed break...</td>\n",
       "    </tr>\n",
       "    <tr>\n",
       "      <th>247a493d-0d24-4f1b-bbf6-b03e8973b544</th>\n",
       "      <td>incorrect</td>\n",
       "      <td>2</td>\n",
       "      <td>The ground truth states the woman is performin...</td>\n",
       "    </tr>\n",
       "    <tr>\n",
       "      <th>1455f7ec-007a-434e-93d1-6d73b1e3746c</th>\n",
       "      <td>incorrect</td>\n",
       "      <td>1</td>\n",
       "      <td>The question asks about the direction of movem...</td>\n",
       "    </tr>\n",
       "    <tr>\n",
       "      <th>15327727-8c7a-4cde-8b78-557a5ab9bb70</th>\n",
       "      <td>incorrect</td>\n",
       "      <td>2</td>\n",
       "      <td>The question asks about the direction of the c...</td>\n",
       "    </tr>\n",
       "  </tbody>\n",
       "</table>\n",
       "<p>2392 rows × 3 columns</p>\n",
       "</div>"
      ],
      "text/plain": [
       "                                           pred  score  \\\n",
       "id                                                       \n",
       "2a49d339-11d1-4c70-b6df-8f3f1e4bbcc0  incorrect      2   \n",
       "b27163c5-d341-475b-8517-54809872081a    correct      5   \n",
       "9bce3140-e8e8-49dd-8574-5e961326fb16  incorrect      2   \n",
       "b8df9fbe-07db-46ab-ba17-3713c1632dbd  incorrect      1   \n",
       "01c30c62-f489-4246-af18-b7b538b4cb9d    correct      5   \n",
       "...                                         ...    ...   \n",
       "4073994c-e4ca-4592-b001-fe0a79ab0e3f  incorrect      1   \n",
       "3a158fb7-38cb-49b4-91e8-0cb63d6bf218  incorrect      1   \n",
       "247a493d-0d24-4f1b-bbf6-b03e8973b544  incorrect      2   \n",
       "1455f7ec-007a-434e-93d1-6d73b1e3746c  incorrect      1   \n",
       "15327727-8c7a-4cde-8b78-557a5ab9bb70  incorrect      2   \n",
       "\n",
       "                                                                                 reason  \n",
       "id                                                                                       \n",
       "2a49d339-11d1-4c70-b6df-8f3f1e4bbcc0  The predicted answer incorrectly states the go...  \n",
       "b27163c5-d341-475b-8517-54809872081a  The predicted answer accurately reflects the i...  \n",
       "9bce3140-e8e8-49dd-8574-5e961326fb16  The predicted answer provides a detailed break...  \n",
       "b8df9fbe-07db-46ab-ba17-3713c1632dbd  The predicted answer contradicts the ground tr...  \n",
       "01c30c62-f489-4246-af18-b7b538b4cb9d  The predicted answer accurately identifies and...  \n",
       "...                                                                                 ...  \n",
       "4073994c-e4ca-4592-b001-fe0a79ab0e3f  The ground truth explicitly states that the vi...  \n",
       "3a158fb7-38cb-49b4-91e8-0cb63d6bf218  The predicted answer provides a detailed break...  \n",
       "247a493d-0d24-4f1b-bbf6-b03e8973b544  The ground truth states the woman is performin...  \n",
       "1455f7ec-007a-434e-93d1-6d73b1e3746c  The question asks about the direction of movem...  \n",
       "15327727-8c7a-4cde-8b78-557a5ab9bb70  The question asks about the direction of the c...  \n",
       "\n",
       "[2392 rows x 3 columns]"
      ]
     },
     "execution_count": 90,
     "metadata": {},
     "output_type": "execute_result"
    }
   ],
   "source": [
    "# Extract pred, score and reason from response dictionary into separate columns\n",
    "judge_pred_df['pred'] = \\\n",
    "    judge_pred_df['response'] \\\n",
    "    .apply(lambda x: eval(x)['pred']) \\\n",
    "    .astype('string') \n",
    "\n",
    "judge_pred_df['score'] = \\\n",
    "    judge_pred_df['response'] \\\n",
    "    .apply(lambda x: int(eval(x)['score'])) \\\n",
    "    .astype('int32')\n",
    "\n",
    "judge_pred_df['reason'] = \\\n",
    "    judge_pred_df['response'] \\\n",
    "    .apply(lambda x: eval(x)['reason']) \\\n",
    "    .astype('string')\n",
    "\n",
    "judge_pred_df.drop('response', axis=1, inplace=True)\n",
    "judge_pred_df\n"
   ]
  },
  {
   "cell_type": "code",
   "execution_count": 91,
   "metadata": {},
   "outputs": [
    {
     "data": {
      "text/html": [
       "<div>\n",
       "<style scoped>\n",
       "    .dataframe tbody tr th:only-of-type {\n",
       "        vertical-align: middle;\n",
       "    }\n",
       "\n",
       "    .dataframe tbody tr th {\n",
       "        vertical-align: top;\n",
       "    }\n",
       "\n",
       "    .dataframe thead th {\n",
       "        text-align: right;\n",
       "    }\n",
       "</style>\n",
       "<table border=\"1\" class=\"dataframe\">\n",
       "  <thead>\n",
       "    <tr style=\"text-align: right;\">\n",
       "      <th></th>\n",
       "      <th>pred</th>\n",
       "      <th>score</th>\n",
       "      <th>reason</th>\n",
       "    </tr>\n",
       "    <tr>\n",
       "      <th>id</th>\n",
       "      <th></th>\n",
       "      <th></th>\n",
       "      <th></th>\n",
       "    </tr>\n",
       "  </thead>\n",
       "  <tbody>\n",
       "    <tr>\n",
       "      <th>2a49d339-11d1-4c70-b6df-8f3f1e4bbcc0</th>\n",
       "      <td>incorrect</td>\n",
       "      <td>2</td>\n",
       "      <td>The predicted answer incorrectly states the go...</td>\n",
       "    </tr>\n",
       "    <tr>\n",
       "      <th>b27163c5-d341-475b-8517-54809872081a</th>\n",
       "      <td>correct</td>\n",
       "      <td>5</td>\n",
       "      <td>The predicted answer accurately reflects the i...</td>\n",
       "    </tr>\n",
       "    <tr>\n",
       "      <th>9bce3140-e8e8-49dd-8574-5e961326fb16</th>\n",
       "      <td>incorrect</td>\n",
       "      <td>2</td>\n",
       "      <td>The predicted answer provides a detailed break...</td>\n",
       "    </tr>\n",
       "    <tr>\n",
       "      <th>b8df9fbe-07db-46ab-ba17-3713c1632dbd</th>\n",
       "      <td>incorrect</td>\n",
       "      <td>1</td>\n",
       "      <td>The predicted answer contradicts the ground tr...</td>\n",
       "    </tr>\n",
       "    <tr>\n",
       "      <th>01c30c62-f489-4246-af18-b7b538b4cb9d</th>\n",
       "      <td>correct</td>\n",
       "      <td>5</td>\n",
       "      <td>The predicted answer accurately identifies and...</td>\n",
       "    </tr>\n",
       "    <tr>\n",
       "      <th>...</th>\n",
       "      <td>...</td>\n",
       "      <td>...</td>\n",
       "      <td>...</td>\n",
       "    </tr>\n",
       "    <tr>\n",
       "      <th>4073994c-e4ca-4592-b001-fe0a79ab0e3f</th>\n",
       "      <td>incorrect</td>\n",
       "      <td>1</td>\n",
       "      <td>The ground truth explicitly states that the vi...</td>\n",
       "    </tr>\n",
       "    <tr>\n",
       "      <th>3a158fb7-38cb-49b4-91e8-0cb63d6bf218</th>\n",
       "      <td>incorrect</td>\n",
       "      <td>1</td>\n",
       "      <td>The predicted answer provides a detailed break...</td>\n",
       "    </tr>\n",
       "    <tr>\n",
       "      <th>247a493d-0d24-4f1b-bbf6-b03e8973b544</th>\n",
       "      <td>incorrect</td>\n",
       "      <td>2</td>\n",
       "      <td>The ground truth states the woman is performin...</td>\n",
       "    </tr>\n",
       "    <tr>\n",
       "      <th>1455f7ec-007a-434e-93d1-6d73b1e3746c</th>\n",
       "      <td>incorrect</td>\n",
       "      <td>1</td>\n",
       "      <td>The question asks about the direction of movem...</td>\n",
       "    </tr>\n",
       "    <tr>\n",
       "      <th>15327727-8c7a-4cde-8b78-557a5ab9bb70</th>\n",
       "      <td>incorrect</td>\n",
       "      <td>2</td>\n",
       "      <td>The question asks about the direction of the c...</td>\n",
       "    </tr>\n",
       "  </tbody>\n",
       "</table>\n",
       "<p>2392 rows × 3 columns</p>\n",
       "</div>"
      ],
      "text/plain": [
       "                                           pred  score  \\\n",
       "id                                                       \n",
       "2a49d339-11d1-4c70-b6df-8f3f1e4bbcc0  incorrect      2   \n",
       "b27163c5-d341-475b-8517-54809872081a    correct      5   \n",
       "9bce3140-e8e8-49dd-8574-5e961326fb16  incorrect      2   \n",
       "b8df9fbe-07db-46ab-ba17-3713c1632dbd  incorrect      1   \n",
       "01c30c62-f489-4246-af18-b7b538b4cb9d    correct      5   \n",
       "...                                         ...    ...   \n",
       "4073994c-e4ca-4592-b001-fe0a79ab0e3f  incorrect      1   \n",
       "3a158fb7-38cb-49b4-91e8-0cb63d6bf218  incorrect      1   \n",
       "247a493d-0d24-4f1b-bbf6-b03e8973b544  incorrect      2   \n",
       "1455f7ec-007a-434e-93d1-6d73b1e3746c  incorrect      1   \n",
       "15327727-8c7a-4cde-8b78-557a5ab9bb70  incorrect      2   \n",
       "\n",
       "                                                                                 reason  \n",
       "id                                                                                       \n",
       "2a49d339-11d1-4c70-b6df-8f3f1e4bbcc0  The predicted answer incorrectly states the go...  \n",
       "b27163c5-d341-475b-8517-54809872081a  The predicted answer accurately reflects the i...  \n",
       "9bce3140-e8e8-49dd-8574-5e961326fb16  The predicted answer provides a detailed break...  \n",
       "b8df9fbe-07db-46ab-ba17-3713c1632dbd  The predicted answer contradicts the ground tr...  \n",
       "01c30c62-f489-4246-af18-b7b538b4cb9d  The predicted answer accurately identifies and...  \n",
       "...                                                                                 ...  \n",
       "4073994c-e4ca-4592-b001-fe0a79ab0e3f  The ground truth explicitly states that the vi...  \n",
       "3a158fb7-38cb-49b4-91e8-0cb63d6bf218  The predicted answer provides a detailed break...  \n",
       "247a493d-0d24-4f1b-bbf6-b03e8973b544  The ground truth states the woman is performin...  \n",
       "1455f7ec-007a-434e-93d1-6d73b1e3746c  The question asks about the direction of movem...  \n",
       "15327727-8c7a-4cde-8b78-557a5ab9bb70  The question asks about the direction of the c...  \n",
       "\n",
       "[2392 rows x 3 columns]"
      ]
     },
     "execution_count": 91,
     "metadata": {},
     "output_type": "execute_result"
    }
   ],
   "source": [
    "judge_pred_df\n"
   ]
  },
  {
   "cell_type": "code",
   "execution_count": 92,
   "metadata": {},
   "outputs": [
    {
     "data": {
      "text/plain": [
       "(2392, 3)"
      ]
     },
     "execution_count": 92,
     "metadata": {},
     "output_type": "execute_result"
    }
   ],
   "source": [
    "judge_pred_df.shape\n"
   ]
  },
  {
   "cell_type": "markdown",
   "metadata": {},
   "source": [
    "## Metrics"
   ]
  },
  {
   "cell_type": "code",
   "execution_count": 93,
   "metadata": {},
   "outputs": [
    {
     "name": "stdout",
     "output_type": "stream",
     "text": [
      "\n",
      "Predictions:\n",
      "------------------------------\n",
      "incorrect :  60.03%\n",
      "correct   :  39.97%\n",
      "------------------------------\n"
     ]
    }
   ],
   "source": [
    "pred_percentages = judge_pred_df['pred'].value_counts(normalize=True) * 100\n",
    "\n",
    "print(\"\\nPredictions:\")\n",
    "print(\"-\" * 30)\n",
    "print(f\"{'incorrect':10}: {pred_percentages['incorrect']:6.2f}%\\n\"\n",
    "      f\"{'correct':10}: {pred_percentages['correct']:6.2f}%\")\n",
    "print(\"-\" * 30)\n"
   ]
  },
  {
   "cell_type": "markdown",
   "metadata": {},
   "source": [
    "Let's analyze some of the answers"
   ]
  },
  {
   "cell_type": "markdown",
   "metadata": {},
   "source": [
    "---\n",
    "Let's inspect more samples..."
   ]
  },
  {
   "cell_type": "code",
   "execution_count": 94,
   "metadata": {},
   "outputs": [
    {
     "data": {
      "text/html": [
       "<div>\n",
       "<style scoped>\n",
       "    .dataframe tbody tr th:only-of-type {\n",
       "        vertical-align: middle;\n",
       "    }\n",
       "\n",
       "    .dataframe tbody tr th {\n",
       "        vertical-align: top;\n",
       "    }\n",
       "\n",
       "    .dataframe thead th {\n",
       "        text-align: right;\n",
       "    }\n",
       "</style>\n",
       "<table border=\"1\" class=\"dataframe\">\n",
       "  <thead>\n",
       "    <tr style=\"text-align: right;\">\n",
       "      <th></th>\n",
       "      <th>pred</th>\n",
       "      <th>score</th>\n",
       "      <th>reason</th>\n",
       "    </tr>\n",
       "    <tr>\n",
       "      <th>id</th>\n",
       "      <th></th>\n",
       "      <th></th>\n",
       "      <th></th>\n",
       "    </tr>\n",
       "  </thead>\n",
       "  <tbody>\n",
       "    <tr>\n",
       "      <th>2a49d339-11d1-4c70-b6df-8f3f1e4bbcc0</th>\n",
       "      <td>incorrect</td>\n",
       "      <td>2</td>\n",
       "      <td>The predicted answer incorrectly states the go...</td>\n",
       "    </tr>\n",
       "    <tr>\n",
       "      <th>b27163c5-d341-475b-8517-54809872081a</th>\n",
       "      <td>correct</td>\n",
       "      <td>5</td>\n",
       "      <td>The predicted answer accurately reflects the i...</td>\n",
       "    </tr>\n",
       "    <tr>\n",
       "      <th>9bce3140-e8e8-49dd-8574-5e961326fb16</th>\n",
       "      <td>incorrect</td>\n",
       "      <td>2</td>\n",
       "      <td>The predicted answer provides a detailed break...</td>\n",
       "    </tr>\n",
       "    <tr>\n",
       "      <th>b8df9fbe-07db-46ab-ba17-3713c1632dbd</th>\n",
       "      <td>incorrect</td>\n",
       "      <td>1</td>\n",
       "      <td>The predicted answer contradicts the ground tr...</td>\n",
       "    </tr>\n",
       "    <tr>\n",
       "      <th>01c30c62-f489-4246-af18-b7b538b4cb9d</th>\n",
       "      <td>correct</td>\n",
       "      <td>5</td>\n",
       "      <td>The predicted answer accurately identifies and...</td>\n",
       "    </tr>\n",
       "    <tr>\n",
       "      <th>...</th>\n",
       "      <td>...</td>\n",
       "      <td>...</td>\n",
       "      <td>...</td>\n",
       "    </tr>\n",
       "    <tr>\n",
       "      <th>4073994c-e4ca-4592-b001-fe0a79ab0e3f</th>\n",
       "      <td>incorrect</td>\n",
       "      <td>1</td>\n",
       "      <td>The ground truth explicitly states that the vi...</td>\n",
       "    </tr>\n",
       "    <tr>\n",
       "      <th>3a158fb7-38cb-49b4-91e8-0cb63d6bf218</th>\n",
       "      <td>incorrect</td>\n",
       "      <td>1</td>\n",
       "      <td>The predicted answer provides a detailed break...</td>\n",
       "    </tr>\n",
       "    <tr>\n",
       "      <th>247a493d-0d24-4f1b-bbf6-b03e8973b544</th>\n",
       "      <td>incorrect</td>\n",
       "      <td>2</td>\n",
       "      <td>The ground truth states the woman is performin...</td>\n",
       "    </tr>\n",
       "    <tr>\n",
       "      <th>1455f7ec-007a-434e-93d1-6d73b1e3746c</th>\n",
       "      <td>incorrect</td>\n",
       "      <td>1</td>\n",
       "      <td>The question asks about the direction of movem...</td>\n",
       "    </tr>\n",
       "    <tr>\n",
       "      <th>15327727-8c7a-4cde-8b78-557a5ab9bb70</th>\n",
       "      <td>incorrect</td>\n",
       "      <td>2</td>\n",
       "      <td>The question asks about the direction of the c...</td>\n",
       "    </tr>\n",
       "  </tbody>\n",
       "</table>\n",
       "<p>2392 rows × 3 columns</p>\n",
       "</div>"
      ],
      "text/plain": [
       "                                           pred  score  \\\n",
       "id                                                       \n",
       "2a49d339-11d1-4c70-b6df-8f3f1e4bbcc0  incorrect      2   \n",
       "b27163c5-d341-475b-8517-54809872081a    correct      5   \n",
       "9bce3140-e8e8-49dd-8574-5e961326fb16  incorrect      2   \n",
       "b8df9fbe-07db-46ab-ba17-3713c1632dbd  incorrect      1   \n",
       "01c30c62-f489-4246-af18-b7b538b4cb9d    correct      5   \n",
       "...                                         ...    ...   \n",
       "4073994c-e4ca-4592-b001-fe0a79ab0e3f  incorrect      1   \n",
       "3a158fb7-38cb-49b4-91e8-0cb63d6bf218  incorrect      1   \n",
       "247a493d-0d24-4f1b-bbf6-b03e8973b544  incorrect      2   \n",
       "1455f7ec-007a-434e-93d1-6d73b1e3746c  incorrect      1   \n",
       "15327727-8c7a-4cde-8b78-557a5ab9bb70  incorrect      2   \n",
       "\n",
       "                                                                                 reason  \n",
       "id                                                                                       \n",
       "2a49d339-11d1-4c70-b6df-8f3f1e4bbcc0  The predicted answer incorrectly states the go...  \n",
       "b27163c5-d341-475b-8517-54809872081a  The predicted answer accurately reflects the i...  \n",
       "9bce3140-e8e8-49dd-8574-5e961326fb16  The predicted answer provides a detailed break...  \n",
       "b8df9fbe-07db-46ab-ba17-3713c1632dbd  The predicted answer contradicts the ground tr...  \n",
       "01c30c62-f489-4246-af18-b7b538b4cb9d  The predicted answer accurately identifies and...  \n",
       "...                                                                                 ...  \n",
       "4073994c-e4ca-4592-b001-fe0a79ab0e3f  The ground truth explicitly states that the vi...  \n",
       "3a158fb7-38cb-49b4-91e8-0cb63d6bf218  The predicted answer provides a detailed break...  \n",
       "247a493d-0d24-4f1b-bbf6-b03e8973b544  The ground truth states the woman is performin...  \n",
       "1455f7ec-007a-434e-93d1-6d73b1e3746c  The question asks about the direction of movem...  \n",
       "15327727-8c7a-4cde-8b78-557a5ab9bb70  The question asks about the direction of the c...  \n",
       "\n",
       "[2392 rows x 3 columns]"
      ]
     },
     "execution_count": 94,
     "metadata": {},
     "output_type": "execute_result"
    }
   ],
   "source": [
    "judge_pred_df\n"
   ]
  },
  {
   "cell_type": "code",
   "execution_count": 95,
   "metadata": {},
   "outputs": [
    {
     "name": "stdout",
     "output_type": "stream",
     "text": [
      "<class 'pandas.core.frame.DataFrame'>\n",
      "RangeIndex: 2400 entries, 0 to 2399\n",
      "Data columns (total 11 columns):\n",
      " #   Column          Non-Null Count  Dtype \n",
      "---  ------          --------------  ----- \n",
      " 0   dimension_name  2400 non-null   object\n",
      " 1   subset          2400 non-null   object\n",
      " 2   question_id     2400 non-null   object\n",
      " 3   question        2400 non-null   object\n",
      " 4   video_id        2400 non-null   object\n",
      " 5   answer          2400 non-null   object\n",
      " 6   stsg            2087 non-null   object\n",
      " 7   qid             2400 non-null   object\n",
      " 8   prompt          2400 non-null   object\n",
      " 9   gt_answer       2400 non-null   object\n",
      " 10  response        2400 non-null   object\n",
      "dtypes: object(11)\n",
      "memory usage: 206.4+ KB\n"
     ]
    }
   ],
   "source": [
    "cvrr_dataset_df = pd.DataFrame([i for i in judge_cvrr_dataset])\n",
    "cvrr_dataset_df.info()\n"
   ]
  },
  {
   "cell_type": "code",
   "execution_count": 96,
   "metadata": {},
   "outputs": [],
   "source": [
    "cvrr_dataset_df.set_index('question_id', inplace=True)\n"
   ]
  },
  {
   "cell_type": "code",
   "execution_count": 97,
   "metadata": {},
   "outputs": [
    {
     "name": "stdout",
     "output_type": "stream",
     "text": [
      "Index: 8360cc82-51c9-4b1e-a8b5-bb5d07e6c5c6\n",
      "Question: Does the cleaner take a break to drink water during the task?\n",
      "\n",
      "Ground truth answer:\n",
      "No, there is no depiction of the cleaner taking a break or drinking water.\n",
      "\n",
      "LLM prediction:\n",
      "Based on the provided scene graph representation, the question \"Does the cleaner take a break to drink water during the task?\" cannot be definitively answered.\n",
      "\n",
      "Here’s why:\n",
      "\n",
      "*   **Lack of Temporal Information:** The scene graph only provides information for two frames (Frame 0 and Frame 1). It doesn't include any temporal data indicating a break or the action of drinking water.\n",
      "*   **No Action of Drinking:** There are no objects, attributes, or relationships that describe someone drinking water. The scene graph focuses on the location of objects and their relationships, but doesn’t capture any actions like taking a break or consuming liquids.\n",
      "*   **Focus on Location:** The scene graph primarily describes the location and arrangement of objects – a young man near a black car and a wall. It doesn’t detail any activities or behaviors.\n",
      "\n",
      "Therefore, while the scene graph provides context about the environment and the presence of a young man, it lacks the necessary information to determine if he takes a break to drink water.\n",
      "\n",
      "Judge evlauation:\n",
      " - verdict: correct\n",
      " - score: 5\n",
      " - reason: The predicted answer accurately identifies the limitations of the scene graph in answering the question. It correctly states that the scene graph lacks temporal information and doesn't depict any actions like drinking water, aligning perfectly with the ground truth. The detailed explanation is also well-reasoned and justifies the inability to answer the question based on the provided data.\n",
      "\n"
     ]
    }
   ],
   "source": [
    "judged_correct_mask = (judge_pred_df['pred'] == 'correct')\n",
    "idx = \"8360cc82-51c9-4b1e-a8b5-bb5d07e6c5c6\"\n",
    "\n",
    "\n",
    "print(f\"Index: {idx}\")\n",
    "print(f\"Question: {cvrr_dataset_df.loc[idx]['question']}\")\n",
    "print(f\"\\nGround truth answer:\\n{cvrr_dataset_df.loc[idx]['answer']}\")\n",
    "print(f\"\\nLLM prediction:\\n{ans_df.loc[idx]['text']}\")\n",
    "print(f\"\\nJudge evlauation:\\n\"\n",
    "      f\" - verdict: {judge_pred_df.loc[idx]['pred']}\\n\"\n",
    "      f\" - score: {judge_pred_df.loc[idx]['score']}\\n\"\n",
    "      f\" - reason: {judge_pred_df.loc[idx]['reason']}\\n\")\n"
   ]
  },
  {
   "cell_type": "markdown",
   "metadata": {},
   "source": [
    "### Distribution of confidence score"
   ]
  },
  {
   "cell_type": "code",
   "execution_count": 98,
   "metadata": {},
   "outputs": [
    {
     "data": {
      "image/png": "[encoded data removed]",
      "text/plain": [
       "<Figure size 800x600 with 1 Axes>"
      ]
     },
     "metadata": {},
     "output_type": "display_data"
    }
   ],
   "source": [
    "# Let's see the score distribution for all the predictions\n",
    "\n",
    "plt.figure(figsize=(8, 6))\n",
    "sns.histplot(data=judge_pred_df['score'], discrete=True)\n",
    "plt.title('Distribution of Judge Scores')\n",
    "plt.xlabel('Score')\n",
    "plt.ylabel('Count')\n",
    "plt.show()\n"
   ]
  }
 ],
 "metadata": {
  "kernelspec": {
   "display_name": "base",
   "language": "python",
   "name": "python3"
  },
  "language_info": {
   "codemirror_mode": {
    "name": "ipython",
    "version": 3
   },
   "file_extension": ".py",
   "mimetype": "text/x-python",
   "name": "python",
   "nbconvert_exporter": "python",
   "pygments_lexer": "ipython3",
   "version": "3.10.9"
  }
 },
 "nbformat": 4,
 "nbformat_minor": 2
}
