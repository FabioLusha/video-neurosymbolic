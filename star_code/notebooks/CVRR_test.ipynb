{
 "cells": [
  {
   "cell_type": "code",
   "execution_count": 1,
   "metadata": {},
   "outputs": [],
   "source": [
    "import os, sys\n",
    "from pathlib import Path\n",
    "import json\n",
    "\n",
    "WORK_DIR = Path.cwd().parent\n",
    "\n",
    "sys.path.append(str(WORK_DIR / \"src\"))\n",
    "\n",
    "import graph_gen\n",
    "import ollama_manager\n"
   ]
  },
  {
   "cell_type": "code",
   "execution_count": 2,
   "metadata": {},
   "outputs": [],
   "source": [
    "CVRR_VAL = WORK_DIR / \"notebooks/cvrr_val_updated.json\"\n"
   ]
  },
  {
   "cell_type": "code",
   "execution_count": null,
   "metadata": {},
   "outputs": [
    {
     "name": "stdout",
     "output_type": "stream",
     "text": [
      "\n",
      "Dataset Statistics:\n",
      "========================================\n",
      "QA File: cvrr_val_updated.json\n",
      "Number of QA samples: 2400\n",
      "QA sample keys: dimension_name, subset, question_id, question, video_id, answer\n",
      "========================================\n",
      "\n"
     ]
    }
   ],
   "source": [
    "import prompt_formatters\n",
    "\n",
    "prompt_formatter = prompt_formatters.OpenEndedPrompt(\"Here's the question: {question}\")\n",
    "dataset = ollama_manager.CVRRDataset(CVRR_VAL, prompt_formatter)\n"
   ]
  },
  {
   "cell_type": "code",
   "execution_count": 4,
   "metadata": {},
   "outputs": [
    {
     "data": {
      "text/plain": [
       "{'dimension_name': 'Continuity and Object Instance Count',\n",
       " 'subset': 'continuity_and_object_instance_count',\n",
       " 'question_id': 'b27163c5-d341-475b-8517-54809872081a',\n",
       " 'question': 'Does the pink cube and shiny pink cube undergo any covering or stacking interactions with other objects?',\n",
       " 'video_id': 'continuity_and_object_instance_count_183',\n",
       " 'answer': 'No, the pink cube and shiny pink cube remain uncovered throughout the simulation and do not participate in any stacking interactions, performing only independent motions.',\n",
       " 'qid': 'b27163c5-d341-475b-8517-54809872081a',\n",
       " 'prompt': \"Here's the question: Does the pink cube and shiny pink cube undergo any covering or stacking interactions with other objects?\"}"
      ]
     },
     "execution_count": 4,
     "metadata": {},
     "output_type": "execute_result"
    }
   ],
   "source": [
    "dataset[1]\n"
   ]
  },
  {
   "cell_type": "code",
   "execution_count": 5,
   "metadata": {},
   "outputs": [
    {
     "name": "stdout",
     "output_type": "stream",
     "text": [
      "question_id: 2a49d339-11d1-4c70-b6df-8f3f1e4bbcc0\n",
      "Here's the question: How many times is the golden hollow sphere gets covered by other objects?\n"
     ]
    }
   ],
   "source": [
    "print(f\"question_id: {dataset[0]['qid']}\")\n",
    "print(dataset[0]['prompt'])\n"
   ]
  }
 ],
 "metadata": {
  "kernelspec": {
   "display_name": "base",
   "language": "python",
   "name": "python3"
  },
  "language_info": {
   "codemirror_mode": {
    "name": "ipython",
    "version": 3
   },
   "file_extension": ".py",
   "mimetype": "text/x-python",
   "name": "python",
   "nbconvert_exporter": "python",
   "pygments_lexer": "ipython3",
   "version": "3.10.9"
  }
 },
 "nbformat": 4,
 "nbformat_minor": 2
}
