{
 "cells": [
  {
   "cell_type": "code",
   "execution_count": 30,
   "metadata": {},
   "outputs": [],
   "source": [
    "import os, sys\n",
    "from pathlib import Path\n",
    "import json\n",
    "\n",
    "import importlib\n",
    "\n",
    "WORK_DIR = Path.cwd().parent\n",
    "\n",
    "sys.path.append(str(WORK_DIR))\n",
    "\n",
    "from src import main, datasets, prompt_formatters\n"
   ]
  },
  {
   "cell_type": "code",
   "execution_count": 2,
   "metadata": {},
   "outputs": [],
   "source": [
    "CVRR_VAL = WORK_DIR / \"notebooks/cvrr_val_updated.json\"\n",
    "CVRR_STSG = WORK_DIR / \"data/datasets/CVRR/generated_stsg_cvrr.json\"\n"
   ]
  },
  {
   "cell_type": "code",
   "execution_count": 25,
   "metadata": {},
   "outputs": [
    {
     "name": "stdout",
     "output_type": "stream",
     "text": [
      "\n",
      "Dataset Statistics:\n",
      "========================================\n",
      "QA File: cvrr_val_updated.json\n",
      "Number of QA samples: 2400\n",
      "QA sample keys: dimension_name, subset, question_id, question, video_id, answer\n",
      "========================================\n",
      "\n"
     ]
    }
   ],
   "source": [
    "importlib.reload(datasets)\n",
    "\n",
    "prompt_formatter = prompt_formatters.OpenEndedPrompt(\"Here's the question: {question}\\nGraph:\\n{stsg}\")\n",
    "dataset = datasets.CVRRDataset(CVRR_VAL, prompt_formatter)\n"
   ]
  },
  {
   "cell_type": "code",
   "execution_count": 20,
   "metadata": {},
   "outputs": [
    {
     "data": {
      "text/plain": [
       "'question_id'"
      ]
     },
     "execution_count": 20,
     "metadata": {},
     "output_type": "execute_result"
    }
   ],
   "source": [
    "dataset.q_id_key\n"
   ]
  },
  {
   "cell_type": "code",
   "execution_count": 21,
   "metadata": {},
   "outputs": [
    {
     "data": {
      "text/plain": [
       "{'dimension_name': 'Continuity and Object Instance Count',\n",
       " 'subset': 'continuity_and_object_instance_count',\n",
       " 'question_id': 'b27163c5-d341-475b-8517-54809872081a',\n",
       " 'question': 'Does the pink cube and shiny pink cube undergo any covering or stacking interactions with other objects?',\n",
       " 'video_id': 'continuity_and_object_instance_count_183',\n",
       " 'answer': 'No, the pink cube and shiny pink cube remain uncovered throughout the simulation and do not participate in any stacking interactions, performing only independent motions.',\n",
       " 'qid': 'b27163c5-d341-475b-8517-54809872081a',\n",
       " 'prompt': \"Here's the question: Does the pink cube and shiny pink cube undergo any covering or stacking interactions with other objects?\"}"
      ]
     },
     "execution_count": 21,
     "metadata": {},
     "output_type": "execute_result"
    }
   ],
   "source": [
    "dataset[1]\n"
   ]
  },
  {
   "cell_type": "code",
   "execution_count": 22,
   "metadata": {},
   "outputs": [
    {
     "name": "stdout",
     "output_type": "stream",
     "text": [
      "question_id: 2a49d339-11d1-4c70-b6df-8f3f1e4bbcc0\n",
      "Here's the question: How many times is the golden hollow sphere gets covered by other objects?\n"
     ]
    }
   ],
   "source": [
    "print(f\"question_id: {dataset[0]['qid']}\")\n",
    "print(dataset[0]['prompt'])\n"
   ]
  },
  {
   "cell_type": "markdown",
   "metadata": {},
   "source": [
    "## STSG merge"
   ]
  },
  {
   "cell_type": "code",
   "execution_count": 32,
   "metadata": {},
   "outputs": [
    {
     "name": "stdout",
     "output_type": "stream",
     "text": [
      "\n",
      "Dataset Statistics:\n",
      "========================================\n",
      "QA File: cvrr_val_updated.json\n",
      "Number of QA samples: 2400\n",
      "QA sample keys: dimension_name, subset, question_id, question, video_id, answer\n",
      "\n",
      "STSG File: generated_stsg_cvrr.json\n",
      "Number of unique video IDs with STSG: 193\n",
      "========================================\n",
      "\n"
     ]
    }
   ],
   "source": [
    "user_prompt_path = WORK_DIR / \"data/prompts/open-qa/CVRR/user_prompt.txt\"\n",
    "prompt_formatter = prompt_formatters.OpenEndedPrompt(main._load_prompt_fromfile(user_prompt_path))\n",
    "dataset = datasets.CVRRDataset(\n",
    "    CVRR_VAL,\n",
    "    prompt_formatter,\n",
    "    CVRR_STSG)\n"
   ]
  },
  {
   "cell_type": "code",
   "execution_count": 33,
   "metadata": {},
   "outputs": [
    {
     "data": {
      "text/plain": [
       "{'dimension_name': 'Continuity and Object Instance Count',\n",
       " 'subset': 'continuity_and_object_instance_count',\n",
       " 'question_id': '2a49d339-11d1-4c70-b6df-8f3f1e4bbcc0',\n",
       " 'question': 'How many times is the golden hollow sphere gets covered by other objects?',\n",
       " 'video_id': 'continuity_and_object_instance_count_183',\n",
       " 'answer': 'The golden hollow sphere is covered two times by other objects.',\n",
       " 'stsg': '\\nFrame 0:\\n\\n\\npurple_cube ---- above ---- yellow_sphere\\npurple_cube ---- adjacent_to ---- green_cone\\npurple_cube ---- adjacent_to ---- red_cone\\ngreen_cone ---- to_the_left_of ---- purple_cube\\nred_cone ---- to_the_right_of ---- purple_cube\\nyellow_sphere ---- below ---- purple_cube\\ngreen_cone ---- positioned_near ---- purple_cube\\nred_cone ---- positioned_near ---- purple_cube\\nyellow_sphere ---- directly_under ---- purple_cube\\npurple_cube ---- supporting ---- yellow_sphere\\n\\nFrame 1:\\n\\n\\nred_sphere ---- above ---- green_cone\\ngreen_cone ---- above ---- purple_cube\\npurple_cube ---- on ---- surface\\nred_sphere ---- above ---- green_cone\\ngreen_cone ---- looking_at ---- purple_cube\\nred_sphere ---- looking_at ---- green_cone\\npurple_cube ---- on_top_of ---- surface\\ngreen_cone ---- attached_to ---- red_sphere\\nsurface ---- supporting ---- purple_cube\\ngreen_cone ---- positioned_above ---- purple_cube\\nred_sphere ---- positioned_above ---- green_cone\\n\\nFrame 2:\\n\\nred_sphere ---- above ---- purple_cube\\npurple_cube ---- on ---- white_surface\\ngreen_cylinder ---- to_the_right_of ---- purple_cube\\nwhite_surface ---- supporting ---- purple_cube\\nred_sphere ---- looking_at ---- purple_cube\\npurple_cube ---- positioned_on ---- white_surface\\ngreen_cylinder ---- adjacent_to ---- purple_cube\\nwhite_surface ---- containing ---- red_sphere\\nred_sphere ---- positioned_above ---- purple_cube\\ngreen_cylinder ---- near ---- purple_cube\\npurple_cube ---- centered_on ---- white_surface\\n\\nFrame 3:\\n\\npurple_cube ---- sitting_on ---- gray_table\\ngreen_cone ---- positioned_behind ---- purple_cube\\ngray_table ---- supporting ---- purple_cube\\ngray_table ---- adjacent_to ---- gray_chair\\ngray_chair ---- positioned_next_to ---- gray_table\\npurple_cube ---- placed_on ---- gray_table\\ngreen_cone ---- located_behind ---- purple_cube\\ngray_table ---- resting_on ---- gray_floor\\ngray_floor ---- supporting ---- gray_table\\npurple_cube ---- part_of ---- scene\\ngreen_cone ---- part_of ---- scene\\ngray_table ---- part_of ---- scene\\ngray_chair ---- part_of ---- scene\\n\\nFrame 4:\\n\\ngreen_cylinder ---- supporting ---- purple_cube\\npurple_cube ---- resting_on ---- green_cylinder\\ngreen_cylinder ---- positioned_on ---- gray_background\\ngray_background ---- behind ---- green_cylinder\\npurple_cube ---- above ---- green_cylinder\\ngreen_cylinder ---- positioned_above ---- gray_background\\npurple_cube ---- adjacent_to ---- green_cylinder\\ngreen_cylinder ---- centered_on ---- purple_cube\\npurple_cube ---- reflecting_off ---- green_cylinder\\ngray_background ---- providing_backdrop_for ---- green_cylinder\\npurple_cube ---- occupying_space_above ---- green_cylinder\\n',\n",
       " 'qid': '2a49d339-11d1-4c70-b6df-8f3f1e4bbcc0',\n",
       " 'prompt': '# Video Question-Answering User Prompt Template\\n\\n## Question\\nHow many times is the golden hollow sphere gets covered by other objects?\\n\\n## Spatio-Temporal Scene Graph Representation\\n\\nFrame 0:\\n\\n\\npurple_cube ---- above ---- yellow_sphere\\npurple_cube ---- adjacent_to ---- green_cone\\npurple_cube ---- adjacent_to ---- red_cone\\ngreen_cone ---- to_the_left_of ---- purple_cube\\nred_cone ---- to_the_right_of ---- purple_cube\\nyellow_sphere ---- below ---- purple_cube\\ngreen_cone ---- positioned_near ---- purple_cube\\nred_cone ---- positioned_near ---- purple_cube\\nyellow_sphere ---- directly_under ---- purple_cube\\npurple_cube ---- supporting ---- yellow_sphere\\n\\nFrame 1:\\n\\n\\nred_sphere ---- above ---- green_cone\\ngreen_cone ---- above ---- purple_cube\\npurple_cube ---- on ---- surface\\nred_sphere ---- above ---- green_cone\\ngreen_cone ---- looking_at ---- purple_cube\\nred_sphere ---- looking_at ---- green_cone\\npurple_cube ---- on_top_of ---- surface\\ngreen_cone ---- attached_to ---- red_sphere\\nsurface ---- supporting ---- purple_cube\\ngreen_cone ---- positioned_above ---- purple_cube\\nred_sphere ---- positioned_above ---- green_cone\\n\\nFrame 2:\\n\\nred_sphere ---- above ---- purple_cube\\npurple_cube ---- on ---- white_surface\\ngreen_cylinder ---- to_the_right_of ---- purple_cube\\nwhite_surface ---- supporting ---- purple_cube\\nred_sphere ---- looking_at ---- purple_cube\\npurple_cube ---- positioned_on ---- white_surface\\ngreen_cylinder ---- adjacent_to ---- purple_cube\\nwhite_surface ---- containing ---- red_sphere\\nred_sphere ---- positioned_above ---- purple_cube\\ngreen_cylinder ---- near ---- purple_cube\\npurple_cube ---- centered_on ---- white_surface\\n\\nFrame 3:\\n\\npurple_cube ---- sitting_on ---- gray_table\\ngreen_cone ---- positioned_behind ---- purple_cube\\ngray_table ---- supporting ---- purple_cube\\ngray_table ---- adjacent_to ---- gray_chair\\ngray_chair ---- positioned_next_to ---- gray_table\\npurple_cube ---- placed_on ---- gray_table\\ngreen_cone ---- located_behind ---- purple_cube\\ngray_table ---- resting_on ---- gray_floor\\ngray_floor ---- supporting ---- gray_table\\npurple_cube ---- part_of ---- scene\\ngreen_cone ---- part_of ---- scene\\ngray_table ---- part_of ---- scene\\ngray_chair ---- part_of ---- scene\\n\\nFrame 4:\\n\\ngreen_cylinder ---- supporting ---- purple_cube\\npurple_cube ---- resting_on ---- green_cylinder\\ngreen_cylinder ---- positioned_on ---- gray_background\\ngray_background ---- behind ---- green_cylinder\\npurple_cube ---- above ---- green_cylinder\\ngreen_cylinder ---- positioned_above ---- gray_background\\npurple_cube ---- adjacent_to ---- green_cylinder\\ngreen_cylinder ---- centered_on ---- purple_cube\\npurple_cube ---- reflecting_off ---- green_cylinder\\ngray_background ---- providing_backdrop_for ---- green_cylinder\\npurple_cube ---- occupying_space_above ---- green_cylinder\\n\\n\\n---\\n\\nPlease analyze the provided scene graph representation and answer the question based on the visual and temporal information contained within it.'}"
      ]
     },
     "execution_count": 33,
     "metadata": {},
     "output_type": "execute_result"
    }
   ],
   "source": [
    "dataset[0]\n"
   ]
  },
  {
   "cell_type": "code",
   "execution_count": 34,
   "metadata": {},
   "outputs": [
    {
     "name": "stdout",
     "output_type": "stream",
     "text": [
      "# Video Question-Answering User Prompt Template\n",
      "\n",
      "## Question\n",
      "How many times is the golden hollow sphere gets covered by other objects?\n",
      "\n",
      "## Spatio-Temporal Scene Graph Representation\n",
      "\n",
      "Frame 0:\n",
      "\n",
      "\n",
      "purple_cube ---- above ---- yellow_sphere\n",
      "purple_cube ---- adjacent_to ---- green_cone\n",
      "purple_cube ---- adjacent_to ---- red_cone\n",
      "green_cone ---- to_the_left_of ---- purple_cube\n",
      "red_cone ---- to_the_right_of ---- purple_cube\n",
      "yellow_sphere ---- below ---- purple_cube\n",
      "green_cone ---- positioned_near ---- purple_cube\n",
      "red_cone ---- positioned_near ---- purple_cube\n",
      "yellow_sphere ---- directly_under ---- purple_cube\n",
      "purple_cube ---- supporting ---- yellow_sphere\n",
      "\n",
      "Frame 1:\n",
      "\n",
      "\n",
      "red_sphere ---- above ---- green_cone\n",
      "green_cone ---- above ---- purple_cube\n",
      "purple_cube ---- on ---- surface\n",
      "red_sphere ---- above ---- green_cone\n",
      "green_cone ---- looking_at ---- purple_cube\n",
      "red_sphere ---- looking_at ---- green_cone\n",
      "purple_cube ---- on_top_of ---- surface\n",
      "green_cone ---- attached_to ---- red_sphere\n",
      "surface ---- supporting ---- purple_cube\n",
      "green_cone ---- positioned_above ---- purple_cube\n",
      "red_sphere ---- positioned_above ---- green_cone\n",
      "\n",
      "Frame 2:\n",
      "\n",
      "red_sphere ---- above ---- purple_cube\n",
      "purple_cube ---- on ---- white_surface\n",
      "green_cylinder ---- to_the_right_of ---- purple_cube\n",
      "white_surface ---- supporting ---- purple_cube\n",
      "red_sphere ---- looking_at ---- purple_cube\n",
      "purple_cube ---- positioned_on ---- white_surface\n",
      "green_cylinder ---- adjacent_to ---- purple_cube\n",
      "white_surface ---- containing ---- red_sphere\n",
      "red_sphere ---- positioned_above ---- purple_cube\n",
      "green_cylinder ---- near ---- purple_cube\n",
      "purple_cube ---- centered_on ---- white_surface\n",
      "\n",
      "Frame 3:\n",
      "\n",
      "purple_cube ---- sitting_on ---- gray_table\n",
      "green_cone ---- positioned_behind ---- purple_cube\n",
      "gray_table ---- supporting ---- purple_cube\n",
      "gray_table ---- adjacent_to ---- gray_chair\n",
      "gray_chair ---- positioned_next_to ---- gray_table\n",
      "purple_cube ---- placed_on ---- gray_table\n",
      "green_cone ---- located_behind ---- purple_cube\n",
      "gray_table ---- resting_on ---- gray_floor\n",
      "gray_floor ---- supporting ---- gray_table\n",
      "purple_cube ---- part_of ---- scene\n",
      "green_cone ---- part_of ---- scene\n",
      "gray_table ---- part_of ---- scene\n",
      "gray_chair ---- part_of ---- scene\n",
      "\n",
      "Frame 4:\n",
      "\n",
      "green_cylinder ---- supporting ---- purple_cube\n",
      "purple_cube ---- resting_on ---- green_cylinder\n",
      "green_cylinder ---- positioned_on ---- gray_background\n",
      "gray_background ---- behind ---- green_cylinder\n",
      "purple_cube ---- above ---- green_cylinder\n",
      "green_cylinder ---- positioned_above ---- gray_background\n",
      "purple_cube ---- adjacent_to ---- green_cylinder\n",
      "green_cylinder ---- centered_on ---- purple_cube\n",
      "purple_cube ---- reflecting_off ---- green_cylinder\n",
      "gray_background ---- providing_backdrop_for ---- green_cylinder\n",
      "purple_cube ---- occupying_space_above ---- green_cylinder\n",
      "\n",
      "\n",
      "---\n",
      "\n",
      "Please analyze the provided scene graph representation and answer the question based on the visual and temporal information contained within it.\n"
     ]
    }
   ],
   "source": [
    "print(dataset[0]['prompt'])\n"
   ]
  },
  {
   "cell_type": "markdown",
   "metadata": {},
   "source": [
    "## Dataset for LLM-as-Judge"
   ]
  },
  {
   "cell_type": "code",
   "execution_count": 35,
   "metadata": {},
   "outputs": [],
   "source": [
    "CVRR_VAL = WORK_DIR / \"test/test_files/llm-judge/cvrr_qa.json\"\n",
    "CVRR_RESP = WORK_DIR / \"test/test_files/llm-judge/cvrr_response.json\"\n",
    "\n",
    "pformat_fpath = WORK_DIR / \"test/test_files/llm-judge/llm_as_judge_test_prompt.txt\"\n"
   ]
  },
  {
   "cell_type": "code",
   "execution_count": 36,
   "metadata": {},
   "outputs": [
    {
     "name": "stdout",
     "output_type": "stream",
     "text": [
      "\n",
      "Dataset Statistics:\n",
      "========================================\n",
      "QA File: cvrr_qa.json\n",
      "Number of QA samples: 1\n",
      "QA sample keys: question_id, question, video_id, answer\n",
      "========================================\n",
      "\n"
     ]
    }
   ],
   "source": [
    "prompt_formatter = prompt_formatters.LlmAsJudgePrompt(main._load_prompt_fromfile(pformat_fpath))\n",
    "dataset = datasets.CVRRDataset(CVRR_VAL, prompt_formatter)\n",
    "\n",
    "judge_datset = datasets.JudgeDataset(dataset, CVRR_RESP, prompt_formatter)\n"
   ]
  },
  {
   "cell_type": "code",
   "execution_count": 37,
   "metadata": {},
   "outputs": [
    {
     "data": {
      "text/plain": [
       "{'question_id': 1,\n",
       " 'question': 'Who are you',\n",
       " 'video_id': 'dev_null',\n",
       " 'answer': 'No one',\n",
       " 'gt_answer': 'No one',\n",
       " 'response': 'me?',\n",
       " 'qid': 1,\n",
       " 'prompt': 'Q: Who are you\\nA: No one\\nP: me?\\n\\nJudge instructions...'}"
      ]
     },
     "execution_count": 37,
     "metadata": {},
     "output_type": "execute_result"
    }
   ],
   "source": [
    "judge_datset[0]\n"
   ]
  }
 ],
 "metadata": {
  "kernelspec": {
   "display_name": "base",
   "language": "python",
   "name": "python3"
  },
  "language_info": {
   "codemirror_mode": {
    "name": "ipython",
    "version": 3
   },
   "file_extension": ".py",
   "mimetype": "text/x-python",
   "name": "python",
   "nbconvert_exporter": "python",
   "pygments_lexer": "ipython3",
   "version": "3.10.9"
  }
 },
 "nbformat": 4,
 "nbformat_minor": 2
}
