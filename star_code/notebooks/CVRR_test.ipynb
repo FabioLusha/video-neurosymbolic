{
 "cells": [
  {
   "cell_type": "code",
   "execution_count": 1,
   "metadata": {},
   "outputs": [],
   "source": [
    "import os, sys\n",
    "from pathlib import Path\n",
    "import json\n",
    "\n",
    "WORK_DIR = Path.cwd().parent\n",
    "\n",
    "sys.path.append(str(WORK_DIR))\n",
    "\n",
    "from src import datasets\n"
   ]
  },
  {
   "cell_type": "code",
   "execution_count": 2,
   "metadata": {},
   "outputs": [],
   "source": [
    "CVRR_VAL = WORK_DIR / \"notebooks/cvrr_val_updated.json\"\n"
   ]
  },
  {
   "cell_type": "code",
   "execution_count": 3,
   "metadata": {},
   "outputs": [
    {
     "name": "stdout",
     "output_type": "stream",
     "text": [
      "\n",
      "Dataset Statistics:\n",
      "========================================\n",
      "QA File: cvrr_val_updated.json\n",
      "Number of QA samples: 2400\n",
      "QA sample keys: dimension_name, subset, question_id, question, video_id, answer\n",
      "========================================\n",
      "\n"
     ]
    }
   ],
   "source": [
    "from src import prompt_formatters\n",
    "\n",
    "prompt_formatter = prompt_formatters.OpenEndedPrompt(\"Here's the question: {question}\")\n",
    "dataset = datasets.CVRRDataset(CVRR_VAL, prompt_formatter)\n"
   ]
  },
  {
   "cell_type": "code",
   "execution_count": 4,
   "metadata": {},
   "outputs": [
    {
     "data": {
      "text/plain": [
       "{'dimension_name': 'Continuity and Object Instance Count',\n",
       " 'subset': 'continuity_and_object_instance_count',\n",
       " 'question_id': 'b27163c5-d341-475b-8517-54809872081a',\n",
       " 'question': 'Does the pink cube and shiny pink cube undergo any covering or stacking interactions with other objects?',\n",
       " 'video_id': 'continuity_and_object_instance_count_183',\n",
       " 'answer': 'No, the pink cube and shiny pink cube remain uncovered throughout the simulation and do not participate in any stacking interactions, performing only independent motions.',\n",
       " 'qid': 'b27163c5-d341-475b-8517-54809872081a',\n",
       " 'prompt': \"Here's the question: Does the pink cube and shiny pink cube undergo any covering or stacking interactions with other objects?\"}"
      ]
     },
     "execution_count": 4,
     "metadata": {},
     "output_type": "execute_result"
    }
   ],
   "source": [
    "dataset[1]\n"
   ]
  },
  {
   "cell_type": "code",
   "execution_count": 5,
   "metadata": {},
   "outputs": [
    {
     "name": "stdout",
     "output_type": "stream",
     "text": [
      "question_id: 2a49d339-11d1-4c70-b6df-8f3f1e4bbcc0\n",
      "Here's the question: How many times is the golden hollow sphere gets covered by other objects?\n"
     ]
    }
   ],
   "source": [
    "print(f\"question_id: {dataset[0]['qid']}\")\n",
    "print(dataset[0]['prompt'])\n"
   ]
  },
  {
   "cell_type": "code",
   "execution_count": 6,
   "metadata": {},
   "outputs": [],
   "source": [
    "CVRR_VAL = WORK_DIR / \"test/test_files/llm-judge/cvrr_qa.json\"\n",
    "CVRR_RESP = WORK_DIR / \"test/test_files/llm-judge/cvrr_response.json\"\n",
    "\n",
    "pformat_fpath = WORK_DIR / \"test/test_files/llm-judge/llm_as_judge_test_prompt.txt\"\n"
   ]
  },
  {
   "cell_type": "code",
   "execution_count": null,
   "metadata": {},
   "outputs": [
    {
     "data": {
      "text/plain": [
       "<module 'src.datasets' from '/home/lusha/star_code/src/datasets.py'>"
      ]
     },
     "execution_count": 18,
     "metadata": {},
     "output_type": "execute_result"
    }
   ],
   "source": [
    "from src import main\n",
    "from importlib import reload\n",
    "\n",
    "reload(datasets)\n"
   ]
  },
  {
   "cell_type": "code",
   "execution_count": 19,
   "metadata": {},
   "outputs": [
    {
     "name": "stdout",
     "output_type": "stream",
     "text": [
      "\n",
      "Dataset Statistics:\n",
      "========================================\n",
      "QA File: cvrr_qa.json\n",
      "Number of QA samples: 1\n",
      "QA sample keys: question_id, question, video_id, answer\n",
      "========================================\n",
      "\n",
      "{1: {'question_id': 1, 'response': 'me?'}}\n"
     ]
    }
   ],
   "source": [
    "prompt_formatter = prompt_formatters.LlmAsJudgePrompt(main._load_prompt_fromfile(pformat_fpath))\n",
    "dataset = datasets.CVRRDataset(CVRR_VAL, prompt_formatter)\n",
    "\n",
    "judge_datset = datasets.JudgeDataset(dataset, CVRR_RESP, prompt_formatter)\n"
   ]
  },
  {
   "cell_type": "code",
   "execution_count": 21,
   "metadata": {},
   "outputs": [
    {
     "data": {
      "text/plain": [
       "{'question_id': 1,\n",
       " 'question': 'Who are you',\n",
       " 'video_id': 'dev_null',\n",
       " 'answer': 'No one',\n",
       " 'gt_answer': 'No one',\n",
       " 'response': 'me?',\n",
       " 'qid': 1,\n",
       " 'prompt': 'Q: Who are you\\nA: No one\\nP: me?\\n\\nJudge instructions...'}"
      ]
     },
     "execution_count": 21,
     "metadata": {},
     "output_type": "execute_result"
    }
   ],
   "source": [
    "judge_datset[0]\n"
   ]
  }
 ],
 "metadata": {
  "kernelspec": {
   "display_name": "base",
   "language": "python",
   "name": "python3"
  },
  "language_info": {
   "codemirror_mode": {
    "name": "ipython",
    "version": 3
   },
   "file_extension": ".py",
   "mimetype": "text/x-python",
   "name": "python",
   "nbconvert_exporter": "python",
   "pygments_lexer": "ipython3",
   "version": "3.10.9"
  }
 },
 "nbformat": 4,
 "nbformat_minor": 2
}
