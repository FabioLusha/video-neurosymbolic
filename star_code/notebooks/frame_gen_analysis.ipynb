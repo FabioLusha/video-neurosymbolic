{
 "cells": [
  {
   "cell_type": "code",
   "execution_count": 1,
   "metadata": {},
   "outputs": [],
   "source": [
    "import json  \n",
    "import os, sys, pathlib\n",
    "import pickle\n",
    "\n",
    "import matplotlib.pyplot as plt\n",
    "import cv2\n",
    "\n",
    "import importlib\n"
   ]
  },
  {
   "cell_type": "code",
   "execution_count": 3,
   "metadata": {},
   "outputs": [
    {
     "data": {
      "text/plain": [
       "'/home/lusha/star_code/notebooks'"
      ]
     },
     "execution_count": 3,
     "metadata": {},
     "output_type": "execute_result"
    }
   ],
   "source": [
    "os.getcwd()\n"
   ]
  },
  {
   "cell_type": "code",
   "execution_count": null,
   "metadata": {},
   "outputs": [],
   "source": [
    "BASE_DIR = pathlib.Path.cwd().parent\n",
    "sys.path.append(str(BASE_DIR / 'src'))\n"
   ]
  },
  {
   "cell_type": "code",
   "execution_count": 8,
   "metadata": {},
   "outputs": [],
   "source": [
    "import ollama_manager as om\n",
    "import main\n",
    "import STAR_utils.visualization_tools.qa_visualization as qaviz\n"
   ]
  },
  {
   "cell_type": "code",
   "execution_count": 9,
   "metadata": {},
   "outputs": [],
   "source": [
    "# please replace following data path to your local path\n",
    "# all data can be download from our homepages (http://star.csail.mit.edu or https://bobbywu.com/STAR)\n",
    "\n",
    "# root_dir = '/root/user/'\n",
    "raw_video_dir = BASE_DIR / 'data/datasets/action-genome/Charades_v1_480/'\n",
    "raw_frame_dir = BASE_DIR / 'data/datasets/action-genome/frames/'\n",
    "annotation_dir = BASE_DIR / 'src/STAR_utils/annotations/STAR_classes/'\n",
    "# pose_dir = root_dir + 'STAR/pose/'\n",
    "# qa_train_dir = root_dir + 'STAR_train.json' \n",
    "# qa_val_dir = root_dir + 'STAR/STAR_val.json' \n",
    "# qa_test_dir = root_dir + 'STAR/STAR_test.json' \n",
    "save_video_dir = BASE_DIR / 'visualization_tmp'\n",
    "fps = pickle.load(open(annotation_dir / 'video_fps','rb'))\n"
   ]
  },
  {
   "cell_type": "code",
   "execution_count": 11,
   "metadata": {},
   "outputs": [],
   "source": [
    "with open(BASE_DIR / 'outputs/responses_genframes:7b_202504010_22:47:00.jsonl', 'r') as f:\n",
    "    content = [json.loads(l) for l in f.readlines()]\n"
   ]
  },
  {
   "cell_type": "code",
   "execution_count": 14,
   "metadata": {},
   "outputs": [
    {
     "data": {
      "text/plain": [
       "499"
      ]
     },
     "execution_count": 14,
     "metadata": {},
     "output_type": "execute_result"
    }
   ],
   "source": [
    "len(content)\n"
   ]
  },
  {
   "cell_type": "code",
   "execution_count": 20,
   "metadata": {},
   "outputs": [
    {
     "data": {
      "text/plain": [
       "499"
      ]
     },
     "execution_count": 20,
     "metadata": {},
     "output_type": "execute_result"
    }
   ],
   "source": [
    "len(set(i['qid'] for i in content))\n"
   ]
  },
  {
   "cell_type": "code",
   "execution_count": 46,
   "metadata": {},
   "outputs": [],
   "source": [
    "from collections import OrderedDict\n",
    "class QuestionProcessor:\n",
    "# ... (existing code)\n",
    "\n",
    "    def __init__(self, stsg_filepath, stsg_buffer_size=1000):\n",
    "        self.stsg_buffer_size = stsg_buffer_size  # Number of items to buffer\n",
    "        self._stsg_positions = None\n",
    "        self._stsg_buffer = OrderedDict()  # Maintains insertion order\n",
    "        self._stsg_file_handle = None\n",
    "        self.stsg_file_path = stsg_filepath\n",
    "\n",
    "    def _build_stsg_index(self, file_path):\n",
    "        self._stsg_index = {}\n",
    "        id_key = None\n",
    "        first_line = True\n",
    "        try:\n",
    "            with open(file_path, 'rb') as f:\n",
    "                while True:\n",
    "                    byte_offset = f.tell()\n",
    "                    line = f.readline()\n",
    "\n",
    "                    if not line:\n",
    "                        break\n",
    "\n",
    "                    try:\n",
    "                        item = json.loads(line)\n",
    "                        \n",
    "                        if first_line:\n",
    "                            if \"qid\" in item:\n",
    "                                id_key = \"qid\"\n",
    "                            elif \"question_id\" in item:\n",
    "                                id_key = \"question_id\"\n",
    "                            else:\n",
    "                                raise ValueError(\"STSG file lines must contain either 'qid' or 'question_id'\")\n",
    "                            first_line = False\n",
    "\n",
    "                        if id_key not in item:\n",
    "                            print(f\"Warning: Line at offset {byte_offset} missing ID key '{id_key}'. Skipping.\")\n",
    "                            continue\n",
    "\n",
    "                        self._stsg_index[item[id_key]] = byte_offset\n",
    "\n",
    "                    except json.JSONDecodeError:\n",
    "                        print(f\"Warning: Unable to decode line at offset {byte_offset}. Skipping.\")\n",
    "                        continue\n",
    "        except FileNotFoundError:\n",
    "            raise FileNotFoundError(f\"STSG file not found during indexing: {file_path}\")\n",
    "        except IOError as e:\n",
    "            raise IOError(f\"Error reading STSG file during indexing: {e}\") from e\n",
    "\n",
    "\n",
    "\n"
   ]
  },
  {
   "cell_type": "code",
   "execution_count": 47,
   "metadata": {},
   "outputs": [
    {
     "data": {
      "text/plain": [
       "dict_items([('Interaction_T1_13', 0), ('Interaction_T1_14', 10603), ('Interaction_T1_31', 22263), ('Interaction_T1_32', 28935), ('Interaction_T1_40', 38005), ('Interaction_T1_43', 49271), ('Interaction_T1_70', 58658), ('Interaction_T1_71', 67380), ('Interaction_T1_76', 76561), ('Interaction_T1_78', 85861), ('Interaction_T1_81', 93153), ('Interaction_T1_95', 105532), ('Interaction_T1_100', 113686), ('Interaction_T1_101', 122374), ('Interaction_T1_104', 130376), ('Interaction_T1_106', 138799), ('Interaction_T1_111', 146039), ('Interaction_T1_137', 153754), ('Interaction_T1_139', 164539), ('Interaction_T1_147', 175372), ('Interaction_T1_148', 185465), ('Interaction_T1_171', 192817), ('Interaction_T1_172', 199928), ('Interaction_T1_173', 205893), ('Interaction_T1_184', 220278), ('Interaction_T1_188', 230379), ('Interaction_T1_197', 245078), ('Interaction_T1_198', 253392), ('Interaction_T1_210', 259810), ('Interaction_T1_211', 270626), ('Interaction_T1_212', 280545), ('Interaction_T1_213', 291608), ('Interaction_T1_226', 299272), ('Interaction_T1_227', 306460), ('Interaction_T1_235', 317917), ('Interaction_T1_236', 327417), ('Interaction_T1_238', 337482), ('Interaction_T1_239', 348242), ('Interaction_T1_262', 361057), ('Interaction_T1_263', 367519), ('Interaction_T1_264', 375147), ('Interaction_T1_287', 383423), ('Interaction_T1_288', 391500), ('Interaction_T1_289', 398883), ('Interaction_T1_293', 406400), ('Interaction_T1_294', 415911), ('Interaction_T1_297', 425422), ('Interaction_T1_298', 434289), ('Interaction_T1_299', 443156), ('Interaction_T1_307', 452905), ('Interaction_T1_308', 460576), ('Interaction_T1_309', 468981), ('Interaction_T1_310', 478044), ('Interaction_T1_320', 485635), ('Interaction_T1_321', 495456), ('Interaction_T1_350', 504140), ('Interaction_T1_357', 515773), ('Interaction_T1_358', 523895), ('Interaction_T1_373', 530241), ('Interaction_T1_375', 542900), ('Interaction_T1_376', 552803), ('Interaction_T1_379', 561636), ('Interaction_T1_391', 569382), ('Interaction_T1_393', 580374), ('Interaction_T1_425', 592170), ('Interaction_T1_426', 600955), ('Interaction_T1_427', 608453), ('Interaction_T1_432', 617238), ('Interaction_T1_453', 625087), ('Interaction_T1_454', 637033), ('Interaction_T1_455', 648979), ('Interaction_T1_456', 658508), ('Interaction_T1_457', 668037), ('Interaction_T1_458', 676531), ('Interaction_T1_459', 687140), ('Interaction_T1_460', 695008), ('Interaction_T1_476', 703118), ('Interaction_T1_479', 711809), ('Interaction_T1_506', 719368), ('Interaction_T1_520', 725291), ('Interaction_T1_522', 733333), ('Interaction_T1_526', 742072), ('Interaction_T1_531', 755633), ('Interaction_T1_532', 764989), ('Interaction_T1_533', 773613), ('Interaction_T1_536', 782253), ('Interaction_T1_537', 792398), ('Interaction_T1_545', 802543), ('Interaction_T1_559', 811047), ('Interaction_T1_561', 819091), ('Interaction_T1_575', 825755), ('Interaction_T1_576', 834567), ('Interaction_T1_577', 844008), ('Interaction_T1_611', 852661), ('Interaction_T1_620', 866376), ('Interaction_T1_631', 876292), ('Interaction_T1_651', 883329), ('Interaction_T1_652', 895467), ('Interaction_T1_653', 902766), ('Interaction_T1_654', 912219), ('Interaction_T1_676', 919670), ('Interaction_T1_697', 927189), ('Interaction_T1_711', 937647), ('Interaction_T1_713', 947318), ('Interaction_T1_714', 954647), ('Interaction_T1_739', 963245), ('Interaction_T1_743', 972203), ('Interaction_T1_745', 981389), ('Interaction_T1_767', 989211), ('Interaction_T1_776', 997972), ('Interaction_T1_777', 1005318), ('Interaction_T1_818', 1012722), ('Interaction_T1_835', 1021341), ('Interaction_T1_846', 1030445), ('Interaction_T1_881', 1041810), ('Interaction_T1_882', 1050540), ('Interaction_T1_883', 1057762), ('Interaction_T1_891', 1065541), ('Interaction_T1_918', 1074436), ('Interaction_T1_924', 1085530), ('Interaction_T1_980', 1094182), ('Interaction_T1_981', 1101753), ('Interaction_T1_984', 1109281), ('Interaction_T1_1005', 1121272), ('Interaction_T1_1006', 1128938), ('Interaction_T1_1019', 1138627), ('Interaction_T1_1086', 1146756), ('Interaction_T1_1087', 1153901), ('Interaction_T1_1095', 1161264), ('Interaction_T1_1108', 1170023), ('Interaction_T1_1109', 1179502), ('Interaction_T1_1110', 1193357), ('Interaction_T1_1111', 1200873), ('Interaction_T1_1125', 1209409), ('Interaction_T1_1126', 1217464), ('Interaction_T1_1127', 1228141), ('Interaction_T1_1128', 1235264), ('Interaction_T1_1165', 1242304), ('Interaction_T1_1166', 1250861), ('Interaction_T1_1168', 1259351), ('Interaction_T1_1169', 1265864), ('Interaction_T1_1179', 1275201), ('Interaction_T1_1202', 1283543), ('Interaction_T1_1219', 1290630), ('Interaction_T1_1220', 1299785), ('Interaction_T1_1225', 1307625), ('Interaction_T1_1243', 1316699), ('Interaction_T1_1246', 1326063), ('Interaction_T1_1247', 1334842), ('Interaction_T1_1249', 1342490), ('Interaction_T1_1250', 1351471), ('Interaction_T1_1255', 1361185), ('Interaction_T1_1265', 1371837), ('Interaction_T1_1272', 1383889), ('Interaction_T1_1276', 1391770), ('Interaction_T1_1289', 1399513), ('Interaction_T1_1291', 1409613), ('Interaction_T1_1292', 1417323), ('Interaction_T1_1293', 1423939), ('Interaction_T1_1295', 1431531), ('Interaction_T1_1300', 1440296), ('Interaction_T1_1301', 1450585), ('Interaction_T1_1302', 1458654), ('Interaction_T1_1308', 1468450), ('Interaction_T1_1309', 1479107), ('Interaction_T1_1311', 1486329), ('Interaction_T1_1312', 1494392), ('Interaction_T1_1313', 1502242), ('Interaction_T1_1336', 1510305), ('Interaction_T1_1359', 1517227), ('Interaction_T1_1360', 1525716), ('Interaction_T1_1361', 1535770), ('Interaction_T1_1368', 1545824), ('Interaction_T1_1369', 1556146), ('Interaction_T1_1370', 1568690), ('Interaction_T1_1375', 1581561), ('Interaction_T1_1390', 1589676), ('Interaction_T1_1396', 1598994), ('Interaction_T1_1397', 1606057), ('Interaction_T1_1404', 1616509), ('Interaction_T1_1405', 1625448), ('Interaction_T1_1475', 1632368), ('Interaction_T1_1477', 1640976), ('Interaction_T1_1478', 1650114), ('Interaction_T1_1510', 1659215), ('Interaction_T1_1513', 1666732), ('Interaction_T1_1537', 1675815), ('Interaction_T1_1539', 1688720), ('Interaction_T1_1545', 1697089), ('Interaction_T1_1546', 1703642), ('Interaction_T1_1560', 1714508), ('Interaction_T1_1561', 1721800), ('Interaction_T1_1562', 1731447), ('Interaction_T1_1563', 1739387), ('Interaction_T1_1590', 1747374), ('Interaction_T1_1600', 1754491), ('Interaction_T1_1607', 1762313), ('Interaction_T1_1608', 1771860), ('Interaction_T1_1645', 1780202), ('Interaction_T1_1656', 1790096), ('Interaction_T1_1657', 1796059), ('Interaction_T1_1668', 1804147), ('Interaction_T1_1671', 1813993), ('Interaction_T1_1672', 1819429), ('Interaction_T1_1680', 1828145), ('Interaction_T1_1681', 1835133), ('Interaction_T1_1682', 1846865), ('Interaction_T1_1684', 1858597), ('Interaction_T1_1685', 1867091), ('Interaction_T1_1710', 1876828), ('Interaction_T1_1711', 1884359), ('Interaction_T1_1712', 1891954), ('Interaction_T1_1714', 1899067), ('Interaction_T1_1743', 1910625), ('Interaction_T1_1761', 1918768), ('Interaction_T1_1764', 1926253), ('Interaction_T1_1765', 1933953), ('Interaction_T1_1780', 1940508), ('Interaction_T1_1810', 1949465), ('Interaction_T1_1811', 1956767), ('Interaction_T1_1812', 1963315), ('Interaction_T1_1826', 1971899), ('Interaction_T1_1872', 1978578), ('Interaction_T1_1873', 1986926), ('Interaction_T1_1886', 1995874), ('Interaction_T1_1897', 2005524), ('Interaction_T1_1911', 2013649), ('Interaction_T1_1941', 2023987), ('Interaction_T1_1942', 2031630), ('Interaction_T1_1943', 2040178), ('Interaction_T1_1944', 2049493), ('Interaction_T1_1945', 2060045), ('Interaction_T1_1946', 2070243), ('Interaction_T1_1951', 2080758), ('Interaction_T1_1952', 2087647), ('Interaction_T1_1959', 2096591), ('Interaction_T1_1962', 2107249), ('Interaction_T1_1966', 2116152), ('Interaction_T1_1968', 2125189), ('Interaction_T1_1976', 2134309), ('Interaction_T1_1987', 2140734), ('Interaction_T1_2000', 2149128), ('Interaction_T1_2001', 2159052), ('Interaction_T1_2041', 2166948), ('Interaction_T1_2063', 2174949), ('Interaction_T1_2064', 2184154), ('Interaction_T1_2118', 2191598), ('Interaction_T1_2119', 2202891), ('Interaction_T1_2122', 2211841), ('Interaction_T1_2169', 2219150), ('Interaction_T1_2183', 2225841), ('Interaction_T1_2184', 2236370), ('Interaction_T1_2210', 2242837), ('Interaction_T1_2211', 2253959), ('Interaction_T1_2219', 2262602), ('Interaction_T1_2220', 2270521), ('Interaction_T1_2223', 2277526), ('Interaction_T1_2225', 2286341), ('Interaction_T1_2226', 2293224), ('Interaction_T1_2227', 2301477), ('Interaction_T1_2228', 2308766), ('Interaction_T1_2269', 2316850), ('Interaction_T1_2320', 2323510), ('Interaction_T1_2321', 2331740), ('Interaction_T1_2322', 2340832), ('Interaction_T1_2323', 2349329), ('Interaction_T1_2326', 2357826), ('Interaction_T1_2331', 2365812), ('Interaction_T1_2334', 2375402), ('Interaction_T1_2335', 2384146), ('Interaction_T1_2337', 2400391), ('Interaction_T1_2338', 2408841), ('Interaction_T1_2339', 2420656), ('Interaction_T1_2345', 2433494), ('Interaction_T1_2354', 2441852), ('Interaction_T1_2357', 2450305), ('Interaction_T1_2359', 2456944), ('Interaction_T1_2382', 2464292), ('Interaction_T1_2407', 2470713), ('Interaction_T1_2408', 2478050), ('Interaction_T1_2409', 2487472), ('Interaction_T1_2413', 2496287), ('Interaction_T1_2421', 2504971), ('Interaction_T1_2424', 2514930), ('Interaction_T1_2425', 2522389), ('Interaction_T1_2428', 2531511), ('Interaction_T1_2429', 2542764), ('Interaction_T1_2430', 2554099), ('Interaction_T1_2431', 2562162), ('Interaction_T1_2447', 2570397), ('Interaction_T1_2448', 2578022), ('Interaction_T1_2449', 2586618), ('Interaction_T1_2450', 2594356), ('Interaction_T1_2452', 2602563), ('Interaction_T1_2453', 2615381), ('Interaction_T1_2454', 2623960), ('Interaction_T1_2456', 2636778), ('Interaction_T1_2477', 2645015), ('Interaction_T1_2478', 2655660), ('Interaction_T1_2495', 2664340), ('Interaction_T1_2507', 2672415), ('Interaction_T1_2509', 2681326), ('Interaction_T1_2516', 2689461), ('Interaction_T1_2527', 2696201), ('Interaction_T1_2532', 2709121), ('Interaction_T1_2552', 2718667), ('Interaction_T1_2596', 2727164), ('Interaction_T1_2599', 2733965), ('Interaction_T1_2600', 2748605), ('Interaction_T1_2604', 2764048), ('Interaction_T1_2616', 2771997), ('Interaction_T1_2618', 2779856), ('Interaction_T1_2641', 2789526), ('Interaction_T1_2644', 2798106), ('Interaction_T1_2682', 2806581), ('Interaction_T1_2683', 2819070), ('Interaction_T1_2692', 2831155), ('Interaction_T1_2693', 2841341), ('Interaction_T1_2694', 2849941), ('Interaction_T1_2695', 2857177), ('Interaction_T1_2696', 2868899), ('Interaction_T1_2699', 2877334), ('Interaction_T1_2718', 2886042), ('Interaction_T1_2719', 2893940), ('Interaction_T1_2720', 2901838), ('Interaction_T1_2721', 2910149), ('Interaction_T1_2724', 2916980), ('Interaction_T1_2725', 2924260), ('Interaction_T1_2727', 2932965), ('Interaction_T1_2728', 2941321), ('Interaction_T1_2750', 2950200), ('Interaction_T1_2753', 2961443), ('Interaction_T1_2810', 2973106), ('Interaction_T1_2815', 2982811), ('Interaction_T1_2816', 2990745), ('Interaction_T1_2818', 2998679), ('Interaction_T1_2819', 3007448), ('Interaction_T1_2833', 3016055), ('Interaction_T1_2844', 3023599), ('Interaction_T1_2852', 3033212), ('Interaction_T1_2855', 3041148), ('Interaction_T1_2856', 3051880), ('Interaction_T1_2857', 3060887), ('Interaction_T1_2871', 3069739), ('Interaction_T1_2892', 3077648), ('Interaction_T1_2909', 3084420), ('Interaction_T1_2915', 3091835), ('Interaction_T1_2931', 3102174), ('Interaction_T1_2938', 3110729), ('Interaction_T1_2941', 3117695), ('Interaction_T1_2945', 3124049), ('Interaction_T1_2955', 3137257), ('Interaction_T1_2964', 3146357), ('Interaction_T1_2980', 3154640), ('Interaction_T1_2981', 3162416), ('Interaction_T1_2982', 3169498), ('Interaction_T1_2996', 3179073), ('Interaction_T1_2997', 3185669), ('Interaction_T1_2998', 3193793), ('Interaction_T1_3000', 3201192), ('Interaction_T1_3002', 3209886), ('Interaction_T1_3022', 3219368), ('Interaction_T1_3023', 3228171), ('Interaction_T1_3040', 3236974), ('Interaction_T1_3044', 3249849), ('Interaction_T1_3054', 3256983), ('Interaction_T1_3058', 3268124), ('Interaction_T1_3089', 3278100), ('Interaction_T1_3097', 3288695), ('Interaction_T1_3098', 3295670), ('Interaction_T1_3101', 3303637), ('Interaction_T1_3102', 3312496), ('Interaction_T1_3112', 3320008), ('Interaction_T1_3124', 3329283), ('Interaction_T1_3125', 3339557), ('Interaction_T1_3126', 3351442), ('Interaction_T1_3146', 3363327), ('Interaction_T1_3147', 3378341), ('Interaction_T1_3198', 3383833), ('Interaction_T1_3199', 3393485), ('Interaction_T1_3210', 3401244), ('Interaction_T1_3211', 3409749), ('Interaction_T1_3241', 3415735), ('Interaction_T1_3243', 3423483), ('Interaction_T1_3244', 3433053), ('Interaction_T1_3246', 3441761), ('Interaction_T1_3310', 3451827), ('Interaction_T1_3311', 3459966), ('Interaction_T1_3333', 3468637), ('Interaction_T1_3334', 3476815), ('Interaction_T1_3357', 3485025), ('Interaction_T1_3359', 3493458), ('Interaction_T1_3363', 3501197), ('Interaction_T1_3365', 3510276), ('Interaction_T1_3399', 3517670), ('Interaction_T1_3400', 3525811), ('Interaction_T1_3405', 3533264), ('Interaction_T1_3411', 3544828), ('Interaction_T1_3412', 3554998), ('Interaction_T1_3437', 3564046), ('Interaction_T1_3438', 3570782), ('Interaction_T1_3442', 3578192), ('Interaction_T1_3451', 3584774), ('Interaction_T1_3469', 3594922), ('Interaction_T1_3480', 3606634), ('Interaction_T1_3485', 3617745), ('Interaction_T1_3490', 3624135), ('Interaction_T1_3498', 3631645), ('Interaction_T1_3499', 3640469), ('Interaction_T1_3508', 3649235), ('Interaction_T1_3509', 3658001), ('Interaction_T1_3510', 3667085), ('Interaction_T1_3511', 3676519), ('Interaction_T1_3515', 3687839), ('Interaction_T1_3517', 3695065), ('Interaction_T1_3518', 3702575), ('Interaction_T1_3537', 3711022), ('Interaction_T1_3553', 3717718), ('Interaction_T1_3556', 3729925), ('Interaction_T1_3570', 3738844), ('Interaction_T1_3571', 3749213), ('Interaction_T1_3578', 3759582), ('Interaction_T1_3593', 3767079), ('Interaction_T1_3594', 3776235), ('Interaction_T1_3598', 3785821), ('Interaction_T1_3599', 3796515), ('Interaction_T1_3601', 3805497), ('Interaction_T1_3615', 3812756), ('Interaction_T1_3618', 3820912), ('Interaction_T1_3631', 3832438), ('Interaction_T1_3636', 3838985), ('Interaction_T1_3664', 3847755), ('Interaction_T1_3688', 3859459), ('Interaction_T1_3708', 3869128), ('Interaction_T1_3709', 3876063), ('Interaction_T1_3710', 3885091), ('Interaction_T1_3711', 3892986), ('Interaction_T1_3721', 3901315), ('Interaction_T1_3722', 3911689), ('Interaction_T1_3724', 3919316), ('Interaction_T1_3740', 3928982), ('Interaction_T1_3745', 3936503), ('Interaction_T1_3752', 3945922), ('Interaction_T1_3772', 3955675), ('Interaction_T1_3773', 3963240), ('Interaction_T1_3777', 3972187), ('Interaction_T1_3778', 3982882), ('Interaction_T1_3785', 3991047), ('Interaction_T1_3786', 4001875), ('Interaction_T1_3787', 4009398), ('Interaction_T1_3788', 4017988), ('Interaction_T1_3789', 4026346), ('Interaction_T1_3790', 4035212), ('Interaction_T1_3791', 4041124), ('Interaction_T1_3792', 4048585), ('Interaction_T1_3793', 4055941), ('Interaction_T1_3806', 4064105), ('Interaction_T1_3808', 4072860), ('Interaction_T1_3810', 4082496), ('Interaction_T1_3854', 4092310), ('Interaction_T1_3855', 4101565), ('Interaction_T1_3872', 4111810), ('Interaction_T1_3892', 4120068), ('Interaction_T1_3903', 4130012), ('Interaction_T1_3913', 4138621), ('Interaction_T1_3927', 4149506), ('Interaction_T1_3929', 4157286), ('Interaction_T1_3930', 4165423), ('Interaction_T1_3949', 4171944), ('Interaction_T1_3950', 4180947), ('Interaction_T1_3954', 4190091), ('Interaction_T1_3955', 4202927), ('Interaction_T1_3977', 4210409), ('Interaction_T1_3978', 4216779), ('Interaction_T1_3982', 4224085), ('Interaction_T1_3989', 4236345), ('Interaction_T1_3990', 4244600), ('Interaction_T1_3993', 4253070), ('Interaction_T1_3994', 4264856), ('Interaction_T1_4012', 4273412), ('Interaction_T1_4053', 4281485), ('Interaction_T1_4054', 4289354), ('Interaction_T1_4091', 4297223), ('Interaction_T1_4097', 4304345), ('Interaction_T1_4098', 4312056), ('Interaction_T1_4106', 4321963), ('Interaction_T1_4108', 4328495), ('Interaction_T1_4109', 4337739), ('Interaction_T1_4112', 4344601), ('Interaction_T1_4115', 4352081), ('Interaction_T1_4128', 4361158), ('Interaction_T1_4129', 4368884), ('Interaction_T1_4142', 4378435), ('Interaction_T1_4150', 4387963), ('Interaction_T1_4153', 4396397), ('Interaction_T1_4163', 4403229), ('Interaction_T1_4165', 4411864), ('Interaction_T1_4166', 4419476), ('Interaction_T1_4167', 4426714)])"
      ]
     },
     "execution_count": 47,
     "metadata": {},
     "output_type": "execute_result"
    }
   ],
   "source": [
    "a = QuestionProcessor(BASE_DIR / 'outputs/responses_genframes:7b_202504010_22:47:00.jsonl')\n",
    "a._build_stsg_index(BASE_DIR / 'outputs/responses_genframes:7b_202504010_22:47:00.jsonl')\n",
    "a._stsg_index.items()\n"
   ]
  },
  {
   "cell_type": "code",
   "execution_count": null,
   "metadata": {},
   "outputs": [],
   "source": [
    "sorted_positions = sorted(load_positions.items(), key=lambda x: x[1])\n"
   ]
  },
  {
   "cell_type": "code",
   "execution_count": null,
   "metadata": {},
   "outputs": [],
   "source": []
  }
 ],
 "metadata": {
  "kernelspec": {
   "display_name": "base",
   "language": "python",
   "name": "python3"
  },
  "language_info": {
   "codemirror_mode": {
    "name": "ipython",
    "version": 3
   },
   "file_extension": ".py",
   "mimetype": "text/x-python",
   "name": "python",
   "nbconvert_exporter": "python",
   "pygments_lexer": "ipython3",
   "version": "3.10.9"
  }
 },
 "nbformat": 4,
 "nbformat_minor": 2
}
