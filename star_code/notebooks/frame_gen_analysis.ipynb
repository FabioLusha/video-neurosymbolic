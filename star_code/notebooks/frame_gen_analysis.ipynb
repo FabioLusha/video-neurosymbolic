{
 "cells": [
  {
   "cell_type": "code",
   "execution_count": 31,
   "metadata": {},
   "outputs": [],
   "source": [
    "import json  \n",
    "import os, sys, pathlib\n",
    "import pickle\n",
    "\n",
    "import pandas as pd\n",
    "import matplotlib.pyplot as plt\n",
    "import cv2\n",
    "\n",
    "import importlib\n",
    "\n",
    "BASE_DIR = pathlib.Path.cwd().parent\n"
   ]
  },
  {
   "cell_type": "code",
   "execution_count": 3,
   "metadata": {},
   "outputs": [],
   "source": [
    "sys.path.append(str(BASE_DIR / 'src'))\n",
    "\n",
    "import ollama_manager as om\n",
    "import main\n",
    "import STAR_utils.visualization_tools.qa_visualization as qaviz\n"
   ]
  },
  {
   "cell_type": "code",
   "execution_count": 5,
   "metadata": {},
   "outputs": [],
   "source": [
    "# please replace following data path to your local path\n",
    "# all data can be download from our homepages (http://star.csail.mit.edu or https://bobbywu.com/STAR)\n",
    "\n",
    "# root_dir = '/root/user/'\n",
    "raw_video_dir = BASE_DIR / 'data/datasets/action-genome/Charades_v1_480/'\n",
    "raw_frame_dir = BASE_DIR / 'data/datasets/action-genome/frames/'\n",
    "annotation_dir = BASE_DIR / 'src/STAR_utils/annotations/STAR_classes/'\n",
    "# pose_dir = root_dir + 'STAR/pose/'\n",
    "# qa_train_dir = BASE_DIR /'data/datasets/STAR/STAR_annotations/STAR_train.json' \n",
    "qa_val_data = BASE_DIR / 'data/datasets/STAR/STAR_annotations/STAR_val.json' \n",
    "# qa_test_dir = BASE_DIR / 'data/datasets/STAR/STAR_annotations/STAR_test.json' \n",
    "save_video_dir = BASE_DIR / 'visualization_tmp'\n",
    "fps = pickle.load(open(annotation_dir / 'video_fps','rb'))\n"
   ]
  },
  {
   "cell_type": "code",
   "execution_count": 6,
   "metadata": {},
   "outputs": [],
   "source": [
    "star_data = []\n",
    "with open(qa_val_data, 'r') as f:\n",
    "    star_data = json.load(f)\n"
   ]
  },
  {
   "cell_type": "code",
   "execution_count": null,
   "metadata": {},
   "outputs": [
    {
     "data": {
      "text/html": [
       "<div>\n",
       "<style scoped>\n",
       "    .dataframe tbody tr th:only-of-type {\n",
       "        vertical-align: middle;\n",
       "    }\n",
       "\n",
       "    .dataframe tbody tr th {\n",
       "        vertical-align: top;\n",
       "    }\n",
       "\n",
       "    .dataframe thead th {\n",
       "        text-align: right;\n",
       "    }\n",
       "</style>\n",
       "<table border=\"1\" class=\"dataframe\">\n",
       "  <thead>\n",
       "    <tr style=\"text-align: right;\">\n",
       "      <th></th>\n",
       "      <th>question</th>\n",
       "      <th>video_id</th>\n",
       "      <th>start</th>\n",
       "      <th>end</th>\n",
       "      <th>answer</th>\n",
       "      <th>question_program</th>\n",
       "      <th>choices</th>\n",
       "      <th>situations</th>\n",
       "    </tr>\n",
       "    <tr>\n",
       "      <th>question_id</th>\n",
       "      <th></th>\n",
       "      <th></th>\n",
       "      <th></th>\n",
       "      <th></th>\n",
       "      <th></th>\n",
       "      <th></th>\n",
       "      <th></th>\n",
       "      <th></th>\n",
       "    </tr>\n",
       "  </thead>\n",
       "  <tbody>\n",
       "    <tr>\n",
       "      <th>Interaction_T1_13</th>\n",
       "      <td>Which object was tidied up by the person?</td>\n",
       "      <td>6H78U</td>\n",
       "      <td>11.1</td>\n",
       "      <td>19.6</td>\n",
       "      <td>The clothes.</td>\n",
       "      <td>[{'function': 'Situations', 'value_input': []}...</td>\n",
       "      <td>[{'choice_id': 0, 'choice': 'The closet/cabine...</td>\n",
       "      <td>{'000206': {'rel_pairs': [['o000', 'o027'], ['...</td>\n",
       "    </tr>\n",
       "    <tr>\n",
       "      <th>Interaction_T1_14</th>\n",
       "      <td>Which object was tidied up by the person?</td>\n",
       "      <td>6H78U</td>\n",
       "      <td>15.6</td>\n",
       "      <td>22.7</td>\n",
       "      <td>The clothes.</td>\n",
       "      <td>[{'function': 'Situations', 'value_input': []}...</td>\n",
       "      <td>[{'choice_id': 0, 'choice': 'The blanket.', 'c...</td>\n",
       "      <td>{'000289': {'rel_pairs': [['o000', 'o027'], ['...</td>\n",
       "    </tr>\n",
       "    <tr>\n",
       "      <th>Interaction_T1_31</th>\n",
       "      <td>Which object was thrown by the person?</td>\n",
       "      <td>RNLTR</td>\n",
       "      <td>7.3</td>\n",
       "      <td>13.5</td>\n",
       "      <td>The clothes.</td>\n",
       "      <td>[{'function': 'Situations', 'value_input': []}...</td>\n",
       "      <td>[{'choice_id': 0, 'choice': 'The pillow.', 'ch...</td>\n",
       "      <td>{'000132': {'rel_pairs': [['o000', 'o019'], ['...</td>\n",
       "    </tr>\n",
       "    <tr>\n",
       "      <th>Interaction_T1_32</th>\n",
       "      <td>Which object was put down by the person?</td>\n",
       "      <td>RNLTR</td>\n",
       "      <td>11.6</td>\n",
       "      <td>16.4</td>\n",
       "      <td>The shoe.</td>\n",
       "      <td>[{'function': 'Situations', 'value_input': []}...</td>\n",
       "      <td>[{'choice_id': 0, 'choice': 'The food.', 'choi...</td>\n",
       "      <td>{'000202': {'rel_pairs': [['o000', 'o019'], ['...</td>\n",
       "    </tr>\n",
       "    <tr>\n",
       "      <th>Interaction_T1_40</th>\n",
       "      <td>Which object was tidied up by the person?</td>\n",
       "      <td>VNQTH</td>\n",
       "      <td>2.7</td>\n",
       "      <td>9.2</td>\n",
       "      <td>The closet/cabinet.</td>\n",
       "      <td>[{'function': 'Situations', 'value_input': []}...</td>\n",
       "      <td>[{'choice_id': 0, 'choice': 'The broom.', 'cho...</td>\n",
       "      <td>{'000110': {'rel_pairs': [['o000', 'o014'], ['...</td>\n",
       "    </tr>\n",
       "    <tr>\n",
       "      <th>...</th>\n",
       "      <td>...</td>\n",
       "      <td>...</td>\n",
       "      <td>...</td>\n",
       "      <td>...</td>\n",
       "      <td>...</td>\n",
       "      <td>...</td>\n",
       "      <td>...</td>\n",
       "      <td>...</td>\n",
       "    </tr>\n",
       "    <tr>\n",
       "      <th>Feasibility_T6_1453</th>\n",
       "      <td>What is the person able to do after taking the...</td>\n",
       "      <td>L9ANI</td>\n",
       "      <td>7.3</td>\n",
       "      <td>12.9</td>\n",
       "      <td>Wash the table.</td>\n",
       "      <td>[{'function': 'Situations', 'value_input': []}...</td>\n",
       "      <td>[{'choice_id': 0, 'choice': 'Wash the table.',...</td>\n",
       "      <td>{'000227': {'rel_pairs': [['o000', 'o006'], ['...</td>\n",
       "    </tr>\n",
       "    <tr>\n",
       "      <th>Feasibility_T6_1454</th>\n",
       "      <td>What is the person able to do after walking th...</td>\n",
       "      <td>L9ANI</td>\n",
       "      <td>0.0</td>\n",
       "      <td>4.1</td>\n",
       "      <td>Take the towel.</td>\n",
       "      <td>[{'function': 'Situations', 'value_input': []}...</td>\n",
       "      <td>[{'choice_id': 0, 'choice': 'Take the towel.',...</td>\n",
       "      <td>{'000033': {'rel_pairs': [['o000', 'o006']], '...</td>\n",
       "    </tr>\n",
       "    <tr>\n",
       "      <th>Feasibility_T6_1455</th>\n",
       "      <td>What is the person able to do after walking th...</td>\n",
       "      <td>L9ANI</td>\n",
       "      <td>0.0</td>\n",
       "      <td>4.1</td>\n",
       "      <td>Wash the table.</td>\n",
       "      <td>[{'function': 'Situations', 'value_input': []}...</td>\n",
       "      <td>[{'choice_id': 0, 'choice': 'Throw the bag.', ...</td>\n",
       "      <td>{'000033': {'rel_pairs': [['o000', 'o006']], '...</td>\n",
       "    </tr>\n",
       "    <tr>\n",
       "      <th>Feasibility_T6_1456</th>\n",
       "      <td>What is the person able to do after putting th...</td>\n",
       "      <td>L9ANI</td>\n",
       "      <td>0.0</td>\n",
       "      <td>10.8</td>\n",
       "      <td>Wash the table.</td>\n",
       "      <td>[{'function': 'Situations', 'value_input': []}...</td>\n",
       "      <td>[{'choice_id': 0, 'choice': 'Hold the food.', ...</td>\n",
       "      <td>{'000033': {'rel_pairs': [['o000', 'o006']], '...</td>\n",
       "    </tr>\n",
       "    <tr>\n",
       "      <th>Feasibility_T6_1468</th>\n",
       "      <td>What is the person able to do after opening th...</td>\n",
       "      <td>Z97SD</td>\n",
       "      <td>18.1</td>\n",
       "      <td>24.1</td>\n",
       "      <td>Hold the food.</td>\n",
       "      <td>[{'function': 'Situations', 'value_input': []}...</td>\n",
       "      <td>[{'choice_id': 0, 'choice': 'Wash the window.'...</td>\n",
       "      <td>{'000588': {'rel_pairs': [['o000', 'o008']], '...</td>\n",
       "    </tr>\n",
       "  </tbody>\n",
       "</table>\n",
       "<p>7098 rows × 8 columns</p>\n",
       "</div>"
      ],
      "text/plain": [
       "                                                              question  \\\n",
       "question_id                                                              \n",
       "Interaction_T1_13            Which object was tidied up by the person?   \n",
       "Interaction_T1_14            Which object was tidied up by the person?   \n",
       "Interaction_T1_31               Which object was thrown by the person?   \n",
       "Interaction_T1_32             Which object was put down by the person?   \n",
       "Interaction_T1_40            Which object was tidied up by the person?   \n",
       "...                                                                ...   \n",
       "Feasibility_T6_1453  What is the person able to do after taking the...   \n",
       "Feasibility_T6_1454  What is the person able to do after walking th...   \n",
       "Feasibility_T6_1455  What is the person able to do after walking th...   \n",
       "Feasibility_T6_1456  What is the person able to do after putting th...   \n",
       "Feasibility_T6_1468  What is the person able to do after opening th...   \n",
       "\n",
       "                    video_id  start   end               answer  \\\n",
       "question_id                                                      \n",
       "Interaction_T1_13      6H78U   11.1  19.6         The clothes.   \n",
       "Interaction_T1_14      6H78U   15.6  22.7         The clothes.   \n",
       "Interaction_T1_31      RNLTR    7.3  13.5         The clothes.   \n",
       "Interaction_T1_32      RNLTR   11.6  16.4            The shoe.   \n",
       "Interaction_T1_40      VNQTH    2.7   9.2  The closet/cabinet.   \n",
       "...                      ...    ...   ...                  ...   \n",
       "Feasibility_T6_1453    L9ANI    7.3  12.9      Wash the table.   \n",
       "Feasibility_T6_1454    L9ANI    0.0   4.1      Take the towel.   \n",
       "Feasibility_T6_1455    L9ANI    0.0   4.1      Wash the table.   \n",
       "Feasibility_T6_1456    L9ANI    0.0  10.8      Wash the table.   \n",
       "Feasibility_T6_1468    Z97SD   18.1  24.1       Hold the food.   \n",
       "\n",
       "                                                      question_program  \\\n",
       "question_id                                                              \n",
       "Interaction_T1_13    [{'function': 'Situations', 'value_input': []}...   \n",
       "Interaction_T1_14    [{'function': 'Situations', 'value_input': []}...   \n",
       "Interaction_T1_31    [{'function': 'Situations', 'value_input': []}...   \n",
       "Interaction_T1_32    [{'function': 'Situations', 'value_input': []}...   \n",
       "Interaction_T1_40    [{'function': 'Situations', 'value_input': []}...   \n",
       "...                                                                ...   \n",
       "Feasibility_T6_1453  [{'function': 'Situations', 'value_input': []}...   \n",
       "Feasibility_T6_1454  [{'function': 'Situations', 'value_input': []}...   \n",
       "Feasibility_T6_1455  [{'function': 'Situations', 'value_input': []}...   \n",
       "Feasibility_T6_1456  [{'function': 'Situations', 'value_input': []}...   \n",
       "Feasibility_T6_1468  [{'function': 'Situations', 'value_input': []}...   \n",
       "\n",
       "                                                               choices  \\\n",
       "question_id                                                              \n",
       "Interaction_T1_13    [{'choice_id': 0, 'choice': 'The closet/cabine...   \n",
       "Interaction_T1_14    [{'choice_id': 0, 'choice': 'The blanket.', 'c...   \n",
       "Interaction_T1_31    [{'choice_id': 0, 'choice': 'The pillow.', 'ch...   \n",
       "Interaction_T1_32    [{'choice_id': 0, 'choice': 'The food.', 'choi...   \n",
       "Interaction_T1_40    [{'choice_id': 0, 'choice': 'The broom.', 'cho...   \n",
       "...                                                                ...   \n",
       "Feasibility_T6_1453  [{'choice_id': 0, 'choice': 'Wash the table.',...   \n",
       "Feasibility_T6_1454  [{'choice_id': 0, 'choice': 'Take the towel.',...   \n",
       "Feasibility_T6_1455  [{'choice_id': 0, 'choice': 'Throw the bag.', ...   \n",
       "Feasibility_T6_1456  [{'choice_id': 0, 'choice': 'Hold the food.', ...   \n",
       "Feasibility_T6_1468  [{'choice_id': 0, 'choice': 'Wash the window.'...   \n",
       "\n",
       "                                                            situations  \n",
       "question_id                                                             \n",
       "Interaction_T1_13    {'000206': {'rel_pairs': [['o000', 'o027'], ['...  \n",
       "Interaction_T1_14    {'000289': {'rel_pairs': [['o000', 'o027'], ['...  \n",
       "Interaction_T1_31    {'000132': {'rel_pairs': [['o000', 'o019'], ['...  \n",
       "Interaction_T1_32    {'000202': {'rel_pairs': [['o000', 'o019'], ['...  \n",
       "Interaction_T1_40    {'000110': {'rel_pairs': [['o000', 'o014'], ['...  \n",
       "...                                                                ...  \n",
       "Feasibility_T6_1453  {'000227': {'rel_pairs': [['o000', 'o006'], ['...  \n",
       "Feasibility_T6_1454  {'000033': {'rel_pairs': [['o000', 'o006']], '...  \n",
       "Feasibility_T6_1455  {'000033': {'rel_pairs': [['o000', 'o006']], '...  \n",
       "Feasibility_T6_1456  {'000033': {'rel_pairs': [['o000', 'o006']], '...  \n",
       "Feasibility_T6_1468  {'000588': {'rel_pairs': [['o000', 'o008']], '...  \n",
       "\n",
       "[7098 rows x 8 columns]"
      ]
     },
     "execution_count": 25,
     "metadata": {},
     "output_type": "execute_result"
    }
   ],
   "source": [
    "star_df = pd.DataFrame(star_data)\n",
    "star_df = star_df.set_index('question_id')\n",
    "star_df\n"
   ]
  },
  {
   "cell_type": "code",
   "execution_count": 30,
   "metadata": {},
   "outputs": [
    {
     "data": {
      "text/plain": [
       "['000286',\n",
       " '000289',\n",
       " '000294',\n",
       " '000301',\n",
       " '000303',\n",
       " '000308',\n",
       " '000313',\n",
       " '000314',\n",
       " '000316',\n",
       " '000318',\n",
       " '000320',\n",
       " '000322',\n",
       " '000331',\n",
       " '000332',\n",
       " '000336',\n",
       " '000337',\n",
       " '000339',\n",
       " '000364',\n",
       " '000370',\n",
       " '000377',\n",
       " '000388',\n",
       " '000389',\n",
       " '000392']"
      ]
     },
     "execution_count": 30,
     "metadata": {},
     "output_type": "execute_result"
    }
   ],
   "source": [
    "sorted(star_df.loc['Interaction_T1_14']['situations'].keys())\n"
   ]
  },
  {
   "cell_type": "code",
   "execution_count": null,
   "metadata": {},
   "outputs": [],
   "source": []
  },
  {
   "cell_type": "code",
   "execution_count": 8,
   "metadata": {},
   "outputs": [
    {
     "data": {
      "text/plain": [
       "dict_keys(['question_id', 'question', 'video_id', 'start', 'end', 'answer', 'question_program', 'choices', 'situations'])"
      ]
     },
     "execution_count": 8,
     "metadata": {},
     "output_type": "execute_result"
    }
   ],
   "source": [
    "star_data[0].keys()\n"
   ]
  },
  {
   "cell_type": "code",
   "execution_count": 13,
   "metadata": {},
   "outputs": [
    {
     "data": {
      "text/plain": [
       "(7098, 7098)"
      ]
     },
     "execution_count": 13,
     "metadata": {},
     "output_type": "execute_result"
    }
   ],
   "source": [
    "ids = [d['question_id'] for d in star_data]\n",
    "len(ids), len(set(ids))\n"
   ]
  },
  {
   "cell_type": "code",
   "execution_count": 17,
   "metadata": {},
   "outputs": [
    {
     "data": {
      "text/plain": [
       "'Interaction_T3_6051'"
      ]
     },
     "execution_count": 17,
     "metadata": {},
     "output_type": "execute_result"
    }
   ],
   "source": [
    "ids[0]\n"
   ]
  },
  {
   "cell_type": "code",
   "execution_count": 18,
   "metadata": {},
   "outputs": [],
   "source": [
    "import random\n",
    "\n",
    "half_size = len(ids) // 2\n",
    "random.shuffle(ids)\n",
    "first_half = ids[:half_size]\n",
    "second_half = ids[half_size:]\n"
   ]
  },
  {
   "cell_type": "code",
   "execution_count": 19,
   "metadata": {},
   "outputs": [
    {
     "data": {
      "text/plain": [
       "'Interaction_T2_3150'"
      ]
     },
     "execution_count": 19,
     "metadata": {},
     "output_type": "execute_result"
    }
   ],
   "source": [
    "first_half[0]\n"
   ]
  },
  {
   "cell_type": "code",
   "execution_count": 20,
   "metadata": {},
   "outputs": [],
   "source": [
    "with open('../src/val1_ids.txt', 'w') as f:\n",
    "    for i in first_half:\n",
    "        f.write(f\"{i}\\n\")\n",
    "        \n",
    "with open('../src/val2_ids.txt', 'w') as f:\n",
    "    for i in second_half:\n",
    "        f.write(f\"{i}\\n\")\n"
   ]
  },
  {
   "cell_type": "code",
   "execution_count": 50,
   "metadata": {},
   "outputs": [
    {
     "ename": "TypeError",
     "evalue": "PromptDataset.__init__() missing 1 required positional argument: 'prompt_formatter'",
     "output_type": "error",
     "traceback": [
      "\u001b[0;31m---------------------------------------------------------------------------\u001b[0m",
      "\u001b[0;31mTypeError\u001b[0m                                 Traceback (most recent call last)",
      "Cell \u001b[0;32mIn[50], line 1\u001b[0m\n\u001b[0;32m----> 1\u001b[0m a \u001b[38;5;241m=\u001b[39m \u001b[43mPromptDataset\u001b[49m\u001b[43m(\u001b[49m\u001b[43mBASE_DIR\u001b[49m\u001b[43m \u001b[49m\u001b[38;5;241;43m/\u001b[39;49m\u001b[43m \u001b[49m\u001b[38;5;124;43m'\u001b[39;49m\u001b[38;5;124;43moutputs/responses_genframes:7b_202504010_22:47:00.jsonl\u001b[39;49m\u001b[38;5;124;43m'\u001b[39;49m\u001b[43m)\u001b[49m\n",
      "\u001b[0;31mTypeError\u001b[0m: PromptDataset.__init__() missing 1 required positional argument: 'prompt_formatter'"
     ]
    }
   ],
   "source": [
    "a = PromptDataset(BASE_DIR / 'outputs/responses_genframes:7b_202504010_22:47:00.jsonl')\n"
   ]
  },
  {
   "cell_type": "code",
   "execution_count": null,
   "metadata": {},
   "outputs": [],
   "source": [
    "sorted_positions = sorted(load_positions.items(), key=lambda x: x[1])\n"
   ]
  },
  {
   "cell_type": "code",
   "execution_count": null,
   "metadata": {},
   "outputs": [],
   "source": []
  }
 ],
 "metadata": {
  "kernelspec": {
   "display_name": "base",
   "language": "python",
   "name": "python3"
  },
  "language_info": {
   "codemirror_mode": {
    "name": "ipython",
    "version": 3
   },
   "file_extension": ".py",
   "mimetype": "text/x-python",
   "name": "python",
   "nbconvert_exporter": "python",
   "pygments_lexer": "ipython3",
   "version": "3.10.9"
  }
 },
 "nbformat": 4,
 "nbformat_minor": 2
}
