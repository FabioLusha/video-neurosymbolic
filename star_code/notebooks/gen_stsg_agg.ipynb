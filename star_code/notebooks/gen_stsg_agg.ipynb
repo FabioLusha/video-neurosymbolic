{
 "cells": [
  {
   "cell_type": "code",
   "execution_count": 7,
   "metadata": {},
   "outputs": [],
   "source": [
    "import json  \n",
    "import os, sys\n",
    "from pathlib import Path\n",
    "\n",
    "import matplotlib.pyplot as plt\n",
    "\n",
    "import importlib\n"
   ]
  },
  {
   "cell_type": "code",
   "execution_count": 8,
   "metadata": {},
   "outputs": [],
   "source": [
    "WORK_DIR = Path.cwd().parent\n",
    "\n",
    "f_0 = WORK_DIR / \"outputs/responses_genframes:7b_202504010_22:47:00.jsonl\"\n",
    "\n",
    "f_1 = WORK_DIR / \"outputs/genframes_val1.jsonl\"\n",
    "f_2 = WORK_DIR / \"outputs/genframes_val2.jsonl\"\n"
   ]
  },
  {
   "cell_type": "code",
   "execution_count": null,
   "metadata": {},
   "outputs": [
    {
     "data": {
      "text/plain": [
       "(389, 389, 385, 385, 0)"
      ]
     },
     "execution_count": 11,
     "metadata": {},
     "output_type": "execute_result"
    }
   ],
   "source": [
    "part1 = []\n",
    "with open(f_1) as in_f:\n",
    "    part1 = [json.loads(line) for line in in_f.readlines()]\n",
    "\n",
    "part2 = []\n",
    "with open(f_2) as in_f:\n",
    "    part2 = [json.loads(line) for line in in_f.readlines()]\n",
    "\n",
    "p1_keys = set([d['qid'] for d in part1])\n",
    "p2_keys = set([d['qid'] for d in part2])\n",
    "\n",
    "\n",
    "len(part1), len(p1_keys), len(part2), len(p2_keys), len(p1_keys.intersection(p2_keys))\n"
   ]
  },
  {
   "cell_type": "code",
   "execution_count": null,
   "metadata": {},
   "outputs": [],
   "source": [
    "qa_data = []\n",
    "with open(WORK_DIR / \"data/datasets/STAR_QA_and_stsg_val.json\") as f:\n",
    "    qa_data = json.load(f)\n",
    "    \n",
    "id_to_qadata = {d['question_id']: d for d in qa_data}\n"
   ]
  },
  {
   "cell_type": "code",
   "execution_count": 31,
   "metadata": {},
   "outputs": [
    {
     "data": {
      "text/plain": [
       "{'question_id': 'Interaction_T2_3150',\n",
       " 'question': 'What did the person do with the bed?',\n",
       " 'choices': {'0': 'Lied on.', '1': 'Ate.', '2': 'Sat on.', '3': 'Put down.'},\n",
       " 'answer': 0,\n",
       " 'stsg': '\\nFrame 000019:\\n\\nwoman ---- lying_on ---- bed\\nbed ---- containing ---- sheets\\nsheets ---- covering ---- mattress\\nbed ---- adjacent_to ---- bedside_table\\nbedside_table ---- supporting ---- lamp\\nlamp ---- having_shade ---- lampshade\\nlampshade ---- above ---- book\\nbook ---- on_top_of ---- bedside_table\\nbed ---- adjacent_to ---- wall\\nwall ---- supporting ---- curtains\\ncurtains ---- hanging_on ---- wall\\nbed ---- on_top_of ---- floor\\nfloor ---- dark_color\\nbed ---- adjacent_to ---- woman\\nwoman ---- lying_on ---- bed\\n\\nFrame 000054:\\n\\nwoman ---- lying_on ---- bed\\nbed ---- containing ---- woman\\nbed ---- supporting ---- pillow\\npillow ---- under ---- woman\\nbed ---- adjacent_to ---- nightstand\\nnightstand ---- holding ---- lamp\\nlamp ---- emitting_light_on ---- nightstand\\nnightstand ---- holding ---- books\\nbooks ---- stacked_on ---- nightstand\\nbed ---- against ---- wall\\nwall ---- supporting ---- bed\\nbed ---- adjacent_to ---- bookcase\\nbookcase ---- in_background ---- room\\nbed ---- on ---- floor\\nbed ---- containing ---- sheets\\nsheets ---- crumpled_on ---- bed\\n\\nFrame 000089:\\n\\nyoung_man ---- lying_on ---- bed\\nbed ---- against ---- wall\\nbed ---- covered_with ---- bedspread\\nbedspread ---- color ---- white\\nbed ---- beside ---- bedside_table\\nbedside_table ---- holding ---- lamp\\nlamp ---- on_top_of ---- bedside_table\\nwall ---- color ---- white\\nbed ---- beneath ---- rug\\nrug ---- color ---- white\\nbed ---- beside ---- curtains\\ncurtains ---- hanging_on ---- wall\\nwall ---- color ---- white\\nbed ---- with ---- pillow\\npillow ---- color ---- white\\nbed ---- with ---- wall_art\\nwall_art ---- hanging_on ---- wall\\nwall ---- color ---- white\\n\\nFrame 000127:\\n\\nman ---- sitting_on ---- mattress\\nmattress ---- on ---- bed\\nbed ---- with ---- headboard\\nheadboard ---- behind ---- man\\nblanket ---- covering ---- mattress\\nblanket ---- on ---- mattress\\ndark_clothing ---- draped_over ---- bed\\ndark_clothing ---- covering ---- mattress\\nshoe ---- on ---- mattress\\nshoe ---- near ---- blanket\\nshoe ---- on ---- bed\\nman ---- looking_at ---- shoe\\nbed ---- in ---- room\\nroom ---- with ---- wooden_floor\\n\\nFrame 000159:\\n\\nman ---- sitting_on ---- bed\\nbed ---- against ---- wall\\nbed ---- supporting ---- bedding\\nbedding ---- consisting_of ---- duvet\\nbedding ---- consisting_of ---- sheet\\nduvet ---- on_top_of ---- bedding\\nsheet ---- on_top_of ---- bedding\\nbed ---- next_to ---- bedside_table\\nbedside_table ---- supporting ---- lamp\\nlamp ---- on_top_of ---- bedside_table\\nlamp ---- emitting_light_onto ---- bedding\\nlamp ---- supporting ---- lampshade\\nlampshade ---- on_top_of ---- lamp\\nlamp ---- supporting ---- lamp_base\\nlamp_base ---- on_top_of ---- lamp\\nbed ---- next_to ---- books\\nbooks ---- on_top_of ---- bedside_table\\nbed ---- next_to ---- man\\nman ---- looking_at ---- lamp\\nbed ---- supporting ---- man\\n\\nFrame 000235:\\n\\nyoung_man ---- sitting_on ---- bed\\nbed ---- against ---- wall\\nbed ---- containing ---- pillow\\npillow ---- positioned_near ---- young_man\\nbedside_table ---- located_to ---- right_of ---- bed\\nlamp ---- sitting_on ---- bedside_table\\nlampshade ---- attached_to ---- lamp_base\\nbooks ---- stacked_on ---- bedside_table\\nbook_stack ---- on_top_of ---- books\\nbed ---- containing ---- bed_sheets\\nbed_sheets ---- covering ---- mattress\\nblanket ---- draped_over ---- right_side_of ---- bed\\nbed ---- situated_on ---- floor\\nbed ---- containing ---- bed_frame\\n'}"
      ]
     },
     "execution_count": 31,
     "metadata": {},
     "output_type": "execute_result"
    }
   ],
   "source": [
    "gen_content = part1 + part2\n",
    "\n",
    "gen_data = []\n",
    "for e in gen_content:\n",
    "    datum = id_to_qadata[e['qid']]\n",
    "    datum['stsg'] = e['stsg']\n",
    "    gen_data.append(datum)\n",
    "    \n",
    "gen_data[0]\n"
   ]
  },
  {
   "cell_type": "code",
   "execution_count": 32,
   "metadata": {},
   "outputs": [
    {
     "data": {
      "text/plain": [
       "774"
      ]
     },
     "execution_count": 32,
     "metadata": {},
     "output_type": "execute_result"
    }
   ],
   "source": [
    "len(gen_data)\n"
   ]
  },
  {
   "cell_type": "code",
   "execution_count": 33,
   "metadata": {},
   "outputs": [],
   "source": [
    "with open(WORK_DIR / 'data/datasets/STAR_QA_and_gen_stsg_p1.json', 'w') as o_f:\n",
    "    json.dump(gen_data, o_f, indent=4)\n"
   ]
  },
  {
   "cell_type": "code",
   "execution_count": 18,
   "metadata": {},
   "outputs": [
    {
     "data": {
      "text/plain": [
       "(0, 3549, 3549)"
      ]
     },
     "execution_count": 18,
     "metadata": {},
     "output_type": "execute_result"
    }
   ],
   "source": [
    "k1 = []\n",
    "with open(WORK_DIR / 'src/val1_ids.txt', 'r') as f:\n",
    "    k1 = set([line.strip() for line in f.readlines()])\n",
    "        \n",
    "k2 = []\n",
    "with open(WORK_DIR / 'src/val2_ids.txt', 'r') as f:\n",
    "    k2 = set([line.strip() for line in f.readlines()])\n",
    "\n",
    "len(k1), len(k2), len(k1.union(k2))\n"
   ]
  },
  {
   "cell_type": "code",
   "execution_count": 22,
   "metadata": {},
   "outputs": [
    {
     "data": {
      "text/plain": [
       "7098"
      ]
     },
     "execution_count": 22,
     "metadata": {},
     "output_type": "execute_result"
    }
   ],
   "source": [
    "all_keys = set(id_to_qadata.keys())\n",
    "len(all_keys)\n"
   ]
  },
  {
   "cell_type": "code",
   "execution_count": 25,
   "metadata": {},
   "outputs": [
    {
     "data": {
      "text/plain": [
       "3549"
      ]
     },
     "execution_count": 25,
     "metadata": {},
     "output_type": "execute_result"
    }
   ],
   "source": [
    "k1 = all_keys.difference(k2)\n",
    "len(k1)\n"
   ]
  },
  {
   "cell_type": "code",
   "execution_count": 26,
   "metadata": {},
   "outputs": [
    {
     "data": {
      "text/plain": [
       "774"
      ]
     },
     "execution_count": 26,
     "metadata": {},
     "output_type": "execute_result"
    }
   ],
   "source": [
    "k1_new = k1.difference(p1_keys)\n",
    "k2_new = k2.difference(p2_keys)\n",
    "\n",
    "len(all_keys) - len(k1_new) - len(k2_new)\n"
   ]
  },
  {
   "cell_type": "code",
   "execution_count": 28,
   "metadata": {},
   "outputs": [
    {
     "name": "stdout",
     "output_type": "stream",
     "text": [
      "[['person - on_the_side_of - clothes'], ['person - in_front_of - clothes'], ['person - in_front_of - clothes', 'person - in_front_of - blanket'], ['person - in_front_of - towel', 'person - in_front_of - clothes', 'person - in_front_of - blanket', 'person - on_the_side_of - blanket'], ['person - on_the_side_of - towel', 'person - in_front_of - towel', 'person - in_front_of - clothes', 'person - on_the_side_of - blanket'], ['person - in_front_of - towel', 'person - on_the_side_of - clothes', 'person - in_front_of - blanket', 'person - on_the_side_of - blanket'], ['person - in_front_of - clothes', 'person - in_front_of - blanket', 'person - on_the_side_of - blanket'], ['person - in_front_of - towel', 'person - in_front_of - clothes', 'person - in_front_of - blanket'], ['person - in_front_of - towel', 'person - in_front_of - clothes', 'person - in_front_of - blanket'], ['person - in_front_of - towel', 'person - holding - clothes', 'person - in_front_of - clothes', 'person - holding - blanket', 'person - in_front_of - blanket'], ['person - in_front_of - towel', 'person - holding - clothes', 'person - in_front_of - clothes', 'person - holding - blanket', 'person - in_front_of - blanket'], ['person - holding - towel', 'person - in_front_of - towel', 'person - holding - clothes', 'person - in_front_of - clothes', 'person - in_front_of - blanket', 'person - on_the_side_of - blanket'], ['person - holding - towel', 'person - in_front_of - towel', 'person - holding - clothes', 'person - in_front_of - clothes', 'person - in_front_of - blanket', 'person - on_the_side_of - blanket'], ['person - in_front_of - towel', 'person - holding - clothes', 'person - in_front_of - clothes', 'person - holding - blanket', 'person - in_front_of - blanket'], ['person - holding - towel', 'person - in_front_of - towel', 'person - holding - clothes', 'person - in_front_of - clothes', 'person - holding - blanket', 'person - in_front_of - blanket'], ['person - holding - towel', 'person - in_front_of - towel', 'person - holding - clothes', 'person - beneath - clothes', 'person - holding - blanket', 'person - in_front_of - blanket'], ['person - on_the_side_of - towel', 'person - holding - blanket', 'person - in_front_of - blanket'], ['person - holding - towel', 'person - in_front_of - towel', 'person - holding - clothes', 'person - in_front_of - clothes', 'person - holding - blanket', 'person - in_front_of - blanket'], ['person - in_front_of - towel', 'person - holding - clothes', 'person - in_front_of - clothes', 'person - holding - blanket', 'person - in_front_of - blanket'], ['person - in_front_of - towel', 'person - holding - clothes', 'person - in_front_of - clothes', 'person - holding - blanket', 'person - in_front_of - blanket'], ['person - holding - clothes', 'person - in_front_of - clothes', 'person - holding - blanket', 'person - in_front_of - blanket'], ['person - on_the_side_of - towel', 'person - in_front_of - towel', 'person - holding - clothes', 'person - in_front_of - clothes', 'person - in_front_of - blanket', 'person - on_the_side_of - blanket'], ['person - holding - towel', 'person - in_front_of - towel', 'person - holding - clothes', 'person - in_front_of - clothes', 'person - holding - blanket', 'person - in_front_of - blanket'], ['person - holding - towel', 'person - in_front_of - towel', 'person - holding - clothes', 'person - in_front_of - clothes', 'person - in_front_of - blanket', 'person - on_the_side_of - blanket'], ['person - holding - towel', 'person - in_front_of - towel', 'person - holding - clothes', 'person - in_front_of - clothes', 'person - in_front_of - blanket'], ['person - holding - clothes', 'person - in_front_of - clothes'], ['person - in_front_of - towel', 'person - holding - clothes', 'person - in_front_of - clothes', 'person - holding - blanket', 'person - in_front_of - blanket'], ['person - in_front_of - clothes', 'person - holding - blanket', 'person - in_front_of - blanket', 'person - on_the_side_of - blanket'], ['person - touching - towel', 'person - in_front_of - towel', 'person - in_front_of - clothes', 'person - holding - blanket', 'person - in_front_of - blanket'], ['person - touching - towel', 'person - in_front_of - towel', 'person - touching - clothes', 'person - in_front_of - clothes', 'person - touching - blanket', 'person - in_front_of - blanket'], ['person - in_front_of - clothes', 'person - holding - blanket', 'person - in_front_of - blanket', 'person - on_the_side_of - blanket'], ['person - holding - towel', 'person - in_front_of - towel', 'person - in_front_of - clothes', 'person - holding - blanket', 'person - in_front_of - blanket', 'person - on_the_side_of - blanket'], ['person - holding - towel', 'person - in_front_of - towel', 'person - holding - blanket', 'person - in_front_of - blanket'], ['person - holding - towel', 'person - in_front_of - towel', 'person - in_front_of - clothes'], ['person - in_front_of - clothes', 'person - holding - blanket', 'person - in_front_of - blanket'], ['person - in_front_of - towel', 'person - in_front_of - clothes'], ['person - holding - blanket', 'person - in_front_of - blanket'], ['person - in_front_of - towel', 'person - in_front_of - clothes', 'person - holding - blanket', 'person - in_front_of - blanket', 'person - on_the_side_of - blanket'], ['person - holding - towel', 'person - in_front_of - towel', 'person - holding - clothes', 'person - in_front_of - clothes', 'person - holding - blanket', 'person - in_front_of - blanket']]\n"
     ]
    }
   ],
   "source": [
    "print(qa_data[0]['stsg'])\n"
   ]
  },
  {
   "cell_type": "code",
   "execution_count": 118,
   "metadata": {},
   "outputs": [],
   "source": [
    "with open(WORK_DIR / 'data/datasets/STAR_QA_and_gen_stsg.json', 'w') as o_f:\n",
    "    json.dump(gen_data, o_f, indent=4)\n"
   ]
  },
  {
   "cell_type": "code",
   "execution_count": 141,
   "metadata": {},
   "outputs": [
    {
     "data": {
      "text/plain": [
       "9"
      ]
     },
     "execution_count": 141,
     "metadata": {},
     "output_type": "execute_result"
    }
   ],
   "source": [
    "content = []\n",
    "with open(WORK_DIR / 'outputs/responses_genframes_gemma3:4b_1504_22:19.jsonl', 'r') as f:\n",
    "    content = [json.loads(line) for line in f.readlines()]\n",
    "\n",
    "len(content)\n"
   ]
  },
  {
   "cell_type": "code",
   "execution_count": 120,
   "metadata": {},
   "outputs": [
    {
     "data": {
      "text/plain": [
       "{'qid': 'Interaction_T1_14',\n",
       " 'chat_history': [{'role': 'user',\n",
       "   'content': 'Please carefully read the following Spatio-Temporal Scene Graph delimited by the <STSG> tags and provide an answer to the question below:\\n\\n<STSG>\\n\\nFrame 000286:\\n\\nman ---- holding ---- spray_bottle\\nspray_bottle ---- aimed_at ---- sofa\\nsofa ---- covered_with ---- cushion\\ncushion ---- part_of ---- sofa\\nsofa ---- on ---- floor\\nfloor ---- covered_with ---- tile\\ntile ---- part_of ---- floor\\nman ---- standing_in_front_of ---- sofa\\nsofa ---- on ---- wall\\nwall ---- behind ---- man\\nman ---- wearing ---- t-shirt\\nt-shirt ---- part_of ---- man\\nman ---- wearing ---- shorts\\nshorts ---- part_of ---- man\\nsofa ---- on ---- floor\\nfloor ---- covered_with ---- tile\\ntile ---- part_of ---- floor\\nman ---- looking_at ---- sofa\\nsofa ---- on ---- floor\\nfloor ---- covered_with ---- tile\\ntile ---- part_of ---- floor\\nman ---- standing_in_front_of ---- sofa\\nsofa ---- on ---- floor\\nfloor ---- covered_with ---- tile\\ntile ---- part_of ---- floor\\n\\nFrame 000301:\\n\\nman ---- standing_in_front_of ---- sofa\\nsofa ---- has_object ---- throw_pillow\\nthrow_pillow ---- on ---- sofa\\nman ---- reaching_for ---- throw_pillow\\nsofa ---- on ---- floor\\nfloor ---- made_of ---- tile\\ntile ---- color ---- light_color\\nwall ---- behind ---- sofa\\nsofa ---- on ---- wall\\nman ---- facing ---- sofa\\nwindow ---- behind ---- sofa\\nsofa ---- on ---- wall\\ntile ---- part_of ---- floor\\nman ---- wearing ---- t-shirt\\nt-shirt ---- color ---- white\\nman ---- wearing ---- shorts\\nshorts ---- color ---- dark_blue\\nman ---- standing_on ---- floor\\nwindow ---- behind ---- wall\\nman ---- facing ---- window\\nman ---- in_front_of ---- wall\\n\\nFrame 000313:\\n\\nman ---- standing_in_front_of ---- sofa\\nsofa ---- on ---- rug\\nsofa ---- on ---- cushion\\ncushion ---- has_pattern ---- floral\\nman ---- leaning_towards ---- cushion\\nrug ---- covers ---- floor\\nman ---- wearing ---- shorts\\nman ---- wearing ---- t-shirt\\nman ---- wearing ---- sneakers\\nlamp ---- on_side_of ---- sofa\\ntable ---- next_to ---- sofa\\nchair ---- behind ---- sofa\\nrug ---- has_pattern ---- floral\\nman ---- looking_at ---- cushion\\n\\nFrame 000318:\\n\\nman ---- standing_in_front_of ---- armchair\\narmchair ---- sitting_on ---- floor\\nman ---- holding ---- cleaning_cloth\\ncleaning_cloth ---- wiping_on ---- armchair\\narmchair ---- positioned_in_front_of ---- wall\\nwall ---- covered_with ---- wallpaper\\nwallpaper ---- patterned_with ---- floral_design\\nman ---- facing ---- armchair\\narmchair ---- positioned_above ---- floor\\nwall ---- behind ---- armchair\\narmchair ---- adjacent_to ---- window\\nwindow ---- containing ---- curtain\\ncurtain ---- hanging_in ---- window\\narmchair ---- illuminated_by ---- light_fixture\\nman ---- looking_at ---- armchair\\narmchair ---- part_of ---- room\\n\\nFrame 000331:\\n\\nman ---- standing_in_front_of ---- sofa\\nsofa ---- positioned_in_front_of ---- coffee_table\\ncoffee_table ---- located_in_front_of ---- man\\nman ---- holding ---- remote_control\\nremote_control ---- in_hand_of ---- man\\nair_conditioner ---- mounted_on ---- wall\\nwall ---- supporting ---- air_conditioner\\nman ---- looking_at ---- remote_control\\nremote_control ---- near_to ---- man\\nsofa ---- occupying_space ---- room\\nfloor ---- beneath ---- sofa\\nfloor ---- beneath ---- coffee_table\\nwall ---- supporting ---- air_conditioner\\nfloor ---- covering ---- room\\n\\nFrame 000337:\\n\\nman ---- standing_in_front_of ---- sofa\\nsofa ---- has ---- cushion\\ncushion ---- on ---- sofa\\nsofa ---- behind ---- wall\\nwall ---- has ---- wallpaper\\nwallpaper ---- pattern ---- floral\\nman ---- casting_shadow_on ---- floor\\nfloor ---- made_of ---- tile\\ntile ---- part_of ---- floor\\nwall ---- above ---- floor\\nlight_fixture ---- above ---- sofa\\nsofa ---- in_front_of ---- man\\nman ---- looking_at ---- sofa\\nfloor ---- made_of ---- tile\\nwall ---- behind ---- sofa\\nman ---- standing_near ---- sofa\\nlight_fixture ---- above ---- sofa\\nsofa ---- has ---- cushion\\nman ---- standing_in_front_of ---- sofa\\n\\nFrame 000370:\\n\\nman ---- standing_in_front_of ---- sofa\\nsofa ---- has_cushion ---- cushion\\ncushion ---- on ---- sofa\\nman ---- looking_at ---- sofa\\nsofa ---- on ---- floor\\nfloor ---- made_of ---- tiles\\ntiles ---- arranged_in ---- pattern\\nman ---- holding ---- cord\\ncord ---- connected_to ---- outlet\\noutlet ---- on ---- wall\\nwall ---- has ---- light_fixture\\nlight_fixture ---- above ---- sofa\\nsofa ---- on ---- floor\\nman ---- standing_on ---- floor\\nfloor ---- made_of ---- tiles\\ntiles ---- arranged_in ---- pattern\\n\\nFrame 000389:\\n\\nman ---- standing_in_front_of ---- sofa\\nsofa ---- has ---- cushion\\ncushion ---- is_on ---- sofa\\nman ---- looking_at ---- cushion\\nsofa ---- located_on ---- floor\\nfloor ---- covered_with ---- tile\\ntile ---- has_pattern ---- floral\\nwindow ---- located_behind ---- sofa\\nwall ---- located_behind ---- window\\nman ---- wearing ---- t-shirt\\nt-shirt ---- is_on ---- man\\nman ---- wearing ---- shorts\\nshorts ---- is_on ---- man\\nwindow ---- has ---- curtain\\ncurtain ---- is_on ---- window\\nman ---- looking_at ---- window\\nsofa ---- located_behind ---- wall\\nwall ---- located_behind ---- floor\\nfloor ---- located_behind ---- window\\nwindow ---- located_behind ---- tile\\ntile ---- located_behind ---- floral\\n\\n</STSG>\\n\\nGiven the following question:\\n<Q>\\nWhich object was tidied up by the person?\\n<Q>\\n\\nAnd the following alternatives:\\n<Alternatives>\\nA. The blanket.\\nB. The table.\\nC. The clothes.\\nD. The closet/cabinet.\\n</Alternatives>\\n\\nProvide an answer to the above question reasoning step by step on the Spatio-Temporal Scene-Graph (STSG) and choosing one of the alternatives.'},\n",
       "  {'content': 'Okay, let\\'s analyze the Spatio-Temporal Scene Graph to answer the question: \"Which object was tidied up by the person?\".\\n\\n1. **Understanding the Question:** The question asks about an object that the person actively cleaned or arranged. We need to find an instance where the person is interacting with an object in a way that suggests tidying.\\n\\n2. **Analyzing Frame Data:**\\n   * **Frame 000286:** The man is holding a spray bottle and aiming it at a sofa. This isn\\'t tidying.\\n   * **Frame 000301:** The man is reaching for a throw pillow. This is a potential action.\\n   * **Frame 000313:** The man is leaning towards a cushion, and the rug is covering the floor. This suggests cleaning or arranging the cushion and rug.\\n   * **Frame 000318:** The man is holding a cleaning cloth and wiping the armchair. This is a clear action of tidying.\\n   * **Frame 000331:** The man is holding a remote control. This is not tidying.\\n   * **Frame 000337:** The man is holding a cord and the cord is connected to an outlet. This is not tidying.\\n   * **Frame 000370:** The man is holding a cord and the cord is connected to an outlet. This is not tidying.\\n\\n3. **Identifying Relevant Actions:**  The most relevant action is in Frame 000318, where the man is holding a cleaning cloth and wiping the armchair. This directly indicates an action of tidying up.\\n\\n4. **Evaluating Alternatives:**\\n   * A. The blanket. - No mention of a blanket.\\n   * B. The table. - No mention of the table being tidied.\\n   * C. The clothes. - No mention of clothes.\\n   * D. The closet/cabinet. - No mention of a closet or cabinet.\\n\\n5. **Final Answer:**\\nBased on the analysis of the Spatio-Temporal Scene Graph, the most accurate answer is: **C. The clothes.** (Although the scene graph doesn\\'t explicitly state the man cleaned clothes, the action of holding a cleaning cloth and wiping the armchair strongly implies an attempt to clean something, and the alternatives don\\'t align with the scene.)\\n\\nHowever, given the available frames, the most accurate answer is the cleaning cloth itself, which is being used to tidy the armchair. Since that\\'s not an option, the closest answer is the cleaning cloth.\\n',\n",
       "   'role': 'assistant'},\n",
       "  {'role': 'user',\n",
       "   'content': '        Therefore the final answer is?\\n        \\n        Your response must be provided in valid JSON format as follows:\\n        {\"answer\": \"your complete answer here\"}\\n        \\n        IMPORTANT: Always include both the letter (A, B, C, D, etc.) AND the full text of the answer in your response.\\n        Do not abbreviate or shorten the answer. For example, if the correct answer is \"A. the laptop\", your response \\n        should be {\"answer\": \"A. the laptop\"}, not {\"answer\": \"laptop\"} or {\"answer\": \"A\"}.        '},\n",
       "  {'role': 'assistant',\n",
       "   'content': '```json\\n{\"answer\": \"C. The clothes.\"}\\n```'}]}"
      ]
     },
     "execution_count": 120,
     "metadata": {},
     "output_type": "execute_result"
    }
   ],
   "source": [
    "content[0]\n"
   ]
  },
  {
   "cell_type": "code",
   "execution_count": 121,
   "metadata": {},
   "outputs": [
    {
     "data": {
      "text/plain": [
       "{'qid': 'Interaction_T1_31',\n",
       " 'chat_history': [{'role': 'user',\n",
       "   'content': 'Please carefully read the following Spatio-Temporal Scene Graph delimited by the <STSG> tags and provide an answer to the question below:\\n\\n<STSG>\\n\\nFrame 000132:\\n\\nman ---- standing_next_to ---- bed\\nbed ---- covering ---- bedspread\\nbedspread ---- on ---- bed\\npillow1 ---- on ---- bed\\npillow2 ---- on ---- bed\\nnightstand ---- beside ---- bed\\nlamp ---- on ---- nightstand\\nlamp ---- on_top_of ---- lamp_base\\nbottle ---- on ---- rug\\nrug ---- in_front_of ---- bed\\nwall ---- behind ---- bed\\ncurtain ---- hanging_on ---- wall\\nman ---- looking_at ---- bed\\nbed ---- positioned_on ---- floor\\n\\nFrame 000156:\\n\\nFrame 000186:\\n\\nyoung_man ---- standing_next_to ---- bed\\nbed ---- covering ---- bedspread\\nbedspread ---- covering ---- bed\\nbed ---- adjacent_to ---- bedside_table\\nbedside_table ---- supporting ---- bottles\\nbottles ---- on_top_of ---- bedside_table\\nbed ---- adjacent_to ---- rug\\nrug ---- placed_on ---- floor\\nbed ---- adjacent_to ---- young_man\\nbed ---- supporting ---- bedspread\\nbed ---- adjacent_to ---- bottle1\\nbottle1 ---- on_top_of ---- bedside_table\\nbottle2 ---- on_top_of ---- bedside_table\\nbed ---- supporting ---- throw_pillow\\nthrow_pillow ---- on ---- bed\\nbed ---- adjacent_to ---- bottle2\\n\\nFrame 000196:\\n\\nman ---- standing_near ---- bed\\nbed ---- has_on_top ---- bedside_table\\nbedside_table ---- has_on_top ---- bottle1\\nbedside_table ---- has_on_top ---- bottle2\\nbottle1 ---- is_on ---- bedside_table\\nbottle2 ---- is_on ---- bedside_table\\nbed ---- has_on_top ---- throw_blanket\\nthrow_blanket ---- is_on ---- bed\\nbed ---- has_on_top ---- pillow1\\npillow1 ---- is_on ---- bed\\nbed ---- has_on_top ---- pillow2\\npillow2 ---- is_on ---- bed\\nbed ---- has_on_top ---- pillow3\\npillow3 ---- is_on ---- bed\\nbed ---- has_on_top ---- rug\\nrug ---- is_on ---- floor\\nfloor ---- has_on_top ---- bed\\n\\nFrame 000202:\\n\\nman ---- standing_in_front_of ---- sofa\\nsofa ---- supporting ---- throw_blanket\\nthrow_blanket ---- draped_over ---- sofa\\nsofa ---- positioned_in_front_of ---- coffee_table\\ncoffee_table ---- supporting ---- lamp\\nlamp ---- on_top_of ---- coffee_table\\nlamp ---- with ---- lamp_shade\\nlamp_shade ---- on ---- lamp\\nman ---- looking_at ---- sofa\\nsofa ---- with ---- cushion\\ncushion ---- on ---- sofa\\nman ---- standing_on ---- rug\\nrug ---- positioned_under ---- sofa\\nman ---- standing_in_front_of ---- coffee_table\\nlamp ---- on_top_of ---- coffee_table\\nrug ---- positioned_under ---- sofa\\n\\nFrame 000215:\\n\\nwoman ---- sitting_on ---- bed\\nbed ---- against ---- wall\\nbed ---- with ---- blanket\\nbed ---- beside ---- bedside_table\\nbedside_table ---- with ---- lamp\\nlamp ---- on_top_of ---- bedside_table\\nbed ---- with ---- pillow\\nbed ---- on ---- rug\\nrug ---- covering ---- floor\\nbed ---- with ---- woman\\nbedside_table ---- supporting ---- lamp\\nwoman ---- looking_at ---- bed\\nbed ---- with ---- rug\\nbed ---- with ---- blanket\\n\\nFrame 000218:\\n\\n</STSG>\\n\\nGiven the following question:\\n<Q>\\nWhich object was thrown by the person?\\n<Q>\\n\\nAnd the following alternatives:\\n<Alternatives>\\nA. The pillow.\\nB. The bag.\\nC. The clothes.\\nD. The box.\\n</Alternatives>\\n\\nProvide an answer to the above question reasoning step by step on the Spatio-Temporal Scene-Graph (STSG) and choosing one of the alternatives.'},\n",
       "  {'content': 'Let\\'s analyze the Spatio-Temporal Scene Graph to determine which object was thrown.\\n\\n1. **Identify relevant frames:** We need to look for frames where an object is explicitly \"thrown\" or has a relationship indicating it\\'s being placed on something else in a way that suggests it was previously held.\\n\\n2. **Analyze frames for throwing actions:**\\n   - Frame 000132, 000156, 000186, 000196, 000202, 000215: None of these frames explicitly describe an object being thrown. The relationships primarily involve objects resting on surfaces, being adjacent to other objects, or being supported.\\n\\n3. **Consider the alternatives:**\\n   - A. The pillow: The graph shows pillows being *on* the bed, or *is_on* the bed. There\\'s no indication of throwing.\\n   - B. The bag: There is no mention of a bag in the scene graph.\\n   - C. The clothes: There is no mention of clothes in the scene graph.\\n   - D. The box: There is no mention of a box in the scene graph.\\n\\nSince none of the frames describe an object being thrown, and none of the alternatives are present in the scene graph, there is no correct answer based on the provided information.\\n\\nHowever, given the constraints of the question and the alternatives, the best answer is:\\n\\n**No correct answer.**\\n',\n",
       "   'role': 'assistant'},\n",
       "  {'role': 'user',\n",
       "   'content': '        Therefore the final answer is?\\n        \\n        Your response must be provided in valid JSON format as follows:\\n        {\"answer\": \"your complete answer here\"}\\n        \\n        IMPORTANT: Always include both the letter (A, B, C, D, etc.) AND the full text of the answer in your response.\\n        Do not abbreviate or shorten the answer. For example, if the correct answer is \"A. the laptop\", your response \\n        should be {\"answer\": \"A. the laptop\"}, not {\"answer\": \"laptop\"} or {\"answer\": \"A\"}.        '},\n",
       "  {'role': 'assistant',\n",
       "   'content': '```json\\n{\"answer\": \"No correct answer.\"}\\n```'}]}"
      ]
     },
     "execution_count": 121,
     "metadata": {},
     "output_type": "execute_result"
    }
   ],
   "source": [
    "content[1]\n"
   ]
  },
  {
   "cell_type": "code",
   "execution_count": 122,
   "metadata": {},
   "outputs": [
    {
     "data": {
      "text/plain": [
       "248"
      ]
     },
     "execution_count": 122,
     "metadata": {},
     "output_type": "execute_result"
    }
   ],
   "source": [
    "c_keys = [d['qid'] for d in content]\n",
    "\n",
    "len(set(c_keys))\n"
   ]
  }
 ],
 "metadata": {
  "kernelspec": {
   "display_name": "base",
   "language": "python",
   "name": "python3"
  },
  "language_info": {
   "codemirror_mode": {
    "name": "ipython",
    "version": 3
   },
   "file_extension": ".py",
   "mimetype": "text/x-python",
   "name": "python",
   "nbconvert_exporter": "python",
   "pygments_lexer": "ipython3",
   "version": "3.10.9"
  }
 },
 "nbformat": 4,
 "nbformat_minor": 2
}
