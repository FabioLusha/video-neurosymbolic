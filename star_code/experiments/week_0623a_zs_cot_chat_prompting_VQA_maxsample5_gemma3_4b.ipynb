{
 "cells": [
  {
   "cell_type": "code",
   "execution_count": 124,
   "metadata": {},
   "outputs": [],
   "source": [
    "import random\n",
    "import json\n",
    "import re\n",
    "import os, sys\n",
    "from pathlib import Path\n",
    "import numpy as np\n",
    "import pandas as pd\n",
    "\n",
    "import matplotlib.pyplot as plt\n",
    "import seaborn as sns\n",
    "\n",
    "from sklearn.metrics import confusion_matrix\n",
    "\n",
    "from src import response_processing as rp\n",
    "\n",
    "WORK_DIR = Path.cwd().parent\n",
    "sys.path.append(str(WORK_DIR))\n",
    "\n",
    "random.seed(6)\n",
    "np.random.seed(6)\n",
    "\n",
    "\n",
    "VQA_RESP_FILEPATH = WORK_DIR / \"outputs/vqa_gemma3:4b-it-qat_20250619_20:59:00.jsonl\"\n",
    "VQA_RESP_WOUT_NONE_ALTERNATIVE_FILEPATH = WORK_DIR / \"outputs/vqa_without_noneoftheothers_alt_gemma3:4b-it-qat_20250622_23:17:00.jsonl\"\n"
   ]
  },
  {
   "cell_type": "markdown",
   "metadata": {},
   "source": [
    "# Experiment\n",
    "### Pure VQA on a sub-samples of the keyframes provided by the STAR dataset\n",
    "\n",
    "In this experiment we give as input to the VLM a textual prompt with the question, alternative and instruction together with 5 frames sampled from the *\"keyframes\"* provided by STAR.\n",
    "\n",
    "**Parameters:**\n",
    "- model: Gemma3:4b-it-qat\n",
    "- system prompt: \"\" - Gemma3 does not support a system prompt - trained only on assistant-user turns\n",
    "- user_prompt: vqa/user_prompt_v2.txt\n",
    "- temperature: 0.1\n",
    "- sampling method: (default) top-p (p=0.9)"
   ]
  },
  {
   "cell_type": "markdown",
   "metadata": {},
   "source": [
    "## Prompts"
   ]
  },
  {
   "cell_type": "code",
   "execution_count": 2,
   "metadata": {},
   "outputs": [
    {
     "name": "stdout",
     "output_type": "stream",
     "text": [
      "You are an intelligent video comprehension model and are going to receive as input a sequence of images extracted from a video and a question. You need to analyze and describe the scene unfolding in the video (sequence of frames) following these guidelines:\n",
      "1. Look for recurring objects;\n",
      "2. Note that the same object may appear differently across frames due to low image quality, varying viewing angles, or partial obstructions. Carefully check objects with similar features (e.g. shape, color), appearing in different frames, as they may still be the same object;\n",
      "3. Pay attention to how the person interacts with its environment\n",
      "4. Understand the directional movement of the people and objects in the video\n",
      "5. Carefully analyze the chronological sequence of the events occurring in the video;\n",
      "6. Pay attention to the atomic and fine grained movement, pose and actions of the people in the video. Compose these atomic actions happening across the frame to infer the higher level action performed by the person;\n",
      "7. Deduce the intentions and motives behind the actions;\n",
      "8. Identify unusual actions accurately.\n",
      "\n",
      "Now carefully analyze the following question and proceed to answer following the given instructions:\n",
      "<Q>\n",
      "{question}\n",
      "<Q>\n",
      "\n",
      "Given following alternatives:\n",
      "<Alternatives>\n",
      "A. {c1}\n",
      "B. {c2}\n",
      "C. {c3}\n",
      "D. {c4}\n",
      "E. None of the above\n",
      "</Alternatives>\n",
      "\n",
      "\n",
      "In answering the question please be sure to operate according to the following guidelines:\n",
      "1. Question Interpretation: Clearly state what the question is asking;\n",
      "2. Video Analysis: Carefully examine the video and analysis of it that you provided;\n",
      "3. Alternative Evaluation: For each option (A, B, C, D), explain whether it matches the video evidence. Disagree with incorrect information given in the question if necessary;\n",
      "4. Reasoning: Provide clear logical step by step reasoning leading to your conclusion;\n",
      "5. Conclusion: Declare the logical conclusion to your reasoning in the above step;\n",
      "6. Consistency Check: Before finalizing, verify that your chosen answer directly follows from your analysis above and provide the final answer by selecting one of the alternatives.\n",
      "\n",
      "CRITICAL INSTRUCTION: After completing your reasoning but before providing the final response, re-read your analysis carefully. Ensure your final answer choice is fully supported by and consistent with your reasoning. If you notice any contradiction, revise your analysis first.\n",
      "\n"
     ]
    }
   ],
   "source": [
    "with open('../data/prompts/vqa/user_prompt_v2.txt', 'r') as f:\n",
    "    pr = f.read()\n",
    "\n",
    "print(pr)\n"
   ]
  },
  {
   "cell_type": "code",
   "execution_count": 3,
   "metadata": {},
   "outputs": [
    {
     "name": "stdout",
     "output_type": "stream",
     "text": [
      "Therefore the final answer is?\n",
      "\n",
      "Your response must be provided in valid JSON format as follows:\n",
      "{\"answer\": \"your complete answer here\"}\n",
      "\n",
      "IMPORTANT: Always include both the letter (A, B, C, D, etc.) AND the full text of the answer in your response.\n",
      "Do not abbreviate or shorten the answer. For example, if the correct answer is \"A. the laptop\", your response \n",
      "should be {\"answer\": \"A. the laptop\"}, not {\"answer\": \"laptop\"} or {\"answer\": \"A\"}.\\\n",
      "\n"
     ]
    }
   ],
   "source": [
    "with open('../data/prompts/zero-shot-cot/auto_reply_ZS_CoT.txt', 'r') as f:\n",
    "    pr = f.read()\n",
    "\n",
    "print(pr)\n"
   ]
  },
  {
   "cell_type": "markdown",
   "metadata": {},
   "source": [
    "Let's load the ground truth from the `STAR_QA_question_and_stsg_val.json` file where we extracted QA and spatio-temporal scene graphs"
   ]
  },
  {
   "cell_type": "code",
   "execution_count": 4,
   "metadata": {},
   "outputs": [
    {
     "data": {
      "text/html": [
       "<div>\n",
       "<style scoped>\n",
       "    .dataframe tbody tr th:only-of-type {\n",
       "        vertical-align: middle;\n",
       "    }\n",
       "\n",
       "    .dataframe tbody tr th {\n",
       "        vertical-align: top;\n",
       "    }\n",
       "\n",
       "    .dataframe thead th {\n",
       "        text-align: right;\n",
       "    }\n",
       "</style>\n",
       "<table border=\"1\" class=\"dataframe\">\n",
       "  <thead>\n",
       "    <tr style=\"text-align: right;\">\n",
       "      <th></th>\n",
       "      <th>question</th>\n",
       "      <th>choices</th>\n",
       "      <th>text</th>\n",
       "    </tr>\n",
       "    <tr>\n",
       "      <th>id</th>\n",
       "      <th></th>\n",
       "      <th></th>\n",
       "      <th></th>\n",
       "    </tr>\n",
       "  </thead>\n",
       "  <tbody>\n",
       "    <tr>\n",
       "      <th>Feasibility_T5_102</th>\n",
       "      <td>Which object is the person able to throw after...</td>\n",
       "      <td>[{'choice_id': 0, 'choice': 'The bag.', 'choic...</td>\n",
       "      <td>The clothes.</td>\n",
       "    </tr>\n",
       "    <tr>\n",
       "      <th>Feasibility_T2_860</th>\n",
       "      <td>What else is the person able to do with the wi...</td>\n",
       "      <td>[{'choice_id': 0, 'choice': 'Lie on the window...</td>\n",
       "      <td>Close the window.</td>\n",
       "    </tr>\n",
       "    <tr>\n",
       "      <th>Feasibility_T2_556</th>\n",
       "      <td>What else is the person able to do with the cl...</td>\n",
       "      <td>[{'choice_id': 0, 'choice': 'Tidy up the close...</td>\n",
       "      <td>Open the closet/cabinet.</td>\n",
       "    </tr>\n",
       "    <tr>\n",
       "      <th>Prediction_T1_2539</th>\n",
       "      <td>What will the person do next?</td>\n",
       "      <td>[{'choice_id': 0, 'choice': 'Sit on the floor....</td>\n",
       "      <td>Sit on the floor.</td>\n",
       "    </tr>\n",
       "    <tr>\n",
       "      <th>Prediction_T4_1253</th>\n",
       "      <td>Which object would the person throw next after...</td>\n",
       "      <td>[{'choice_id': 0, 'choice': 'The pillow.', 'ch...</td>\n",
       "      <td>The shoe.</td>\n",
       "    </tr>\n",
       "    <tr>\n",
       "      <th>...</th>\n",
       "      <td>...</td>\n",
       "      <td>...</td>\n",
       "      <td>...</td>\n",
       "    </tr>\n",
       "    <tr>\n",
       "      <th>Interaction_T1_8913</th>\n",
       "      <td>Which object was taken by the person?</td>\n",
       "      <td>[{'choice_id': 0, 'choice': 'The paper/noteboo...</td>\n",
       "      <td>The paper/notebook.</td>\n",
       "    </tr>\n",
       "    <tr>\n",
       "      <th>Interaction_T1_8967</th>\n",
       "      <td>Which object was taken by the person?</td>\n",
       "      <td>[{'choice_id': 0, 'choice': 'The towel.', 'cho...</td>\n",
       "      <td>The dish.</td>\n",
       "    </tr>\n",
       "    <tr>\n",
       "      <th>Interaction_T2_1847</th>\n",
       "      <td>What did the person do with the paper/notebook?</td>\n",
       "      <td>[{'choice_id': 0, 'choice': 'Put down.', 'choi...</td>\n",
       "      <td>Took.</td>\n",
       "    </tr>\n",
       "    <tr>\n",
       "      <th>Interaction_T2_3423</th>\n",
       "      <td>What did the person do with the bed?</td>\n",
       "      <td>[{'choice_id': 0, 'choice': 'Sat on.', 'choice...</td>\n",
       "      <td>Lied on.</td>\n",
       "    </tr>\n",
       "    <tr>\n",
       "      <th>Interaction_T4_4181</th>\n",
       "      <td>What did the person do while they were wiping ...</td>\n",
       "      <td>[{'choice_id': 0, 'choice': 'Threw the bag.', ...</td>\n",
       "      <td>Put down the bag.</td>\n",
       "    </tr>\n",
       "  </tbody>\n",
       "</table>\n",
       "<p>1048 rows × 3 columns</p>\n",
       "</div>"
      ],
      "text/plain": [
       "                                                              question  \\\n",
       "id                                                                       \n",
       "Feasibility_T5_102   Which object is the person able to throw after...   \n",
       "Feasibility_T2_860   What else is the person able to do with the wi...   \n",
       "Feasibility_T2_556   What else is the person able to do with the cl...   \n",
       "Prediction_T1_2539                       What will the person do next?   \n",
       "Prediction_T4_1253   Which object would the person throw next after...   \n",
       "...                                                                ...   \n",
       "Interaction_T1_8913              Which object was taken by the person?   \n",
       "Interaction_T1_8967              Which object was taken by the person?   \n",
       "Interaction_T2_1847    What did the person do with the paper/notebook?   \n",
       "Interaction_T2_3423               What did the person do with the bed?   \n",
       "Interaction_T4_4181  What did the person do while they were wiping ...   \n",
       "\n",
       "                                                               choices  \\\n",
       "id                                                                       \n",
       "Feasibility_T5_102   [{'choice_id': 0, 'choice': 'The bag.', 'choic...   \n",
       "Feasibility_T2_860   [{'choice_id': 0, 'choice': 'Lie on the window...   \n",
       "Feasibility_T2_556   [{'choice_id': 0, 'choice': 'Tidy up the close...   \n",
       "Prediction_T1_2539   [{'choice_id': 0, 'choice': 'Sit on the floor....   \n",
       "Prediction_T4_1253   [{'choice_id': 0, 'choice': 'The pillow.', 'ch...   \n",
       "...                                                                ...   \n",
       "Interaction_T1_8913  [{'choice_id': 0, 'choice': 'The paper/noteboo...   \n",
       "Interaction_T1_8967  [{'choice_id': 0, 'choice': 'The towel.', 'cho...   \n",
       "Interaction_T2_1847  [{'choice_id': 0, 'choice': 'Put down.', 'choi...   \n",
       "Interaction_T2_3423  [{'choice_id': 0, 'choice': 'Sat on.', 'choice...   \n",
       "Interaction_T4_4181  [{'choice_id': 0, 'choice': 'Threw the bag.', ...   \n",
       "\n",
       "                                         text  \n",
       "id                                             \n",
       "Feasibility_T5_102               The clothes.  \n",
       "Feasibility_T2_860          Close the window.  \n",
       "Feasibility_T2_556   Open the closet/cabinet.  \n",
       "Prediction_T1_2539          Sit on the floor.  \n",
       "Prediction_T4_1253                  The shoe.  \n",
       "...                                       ...  \n",
       "Interaction_T1_8913       The paper/notebook.  \n",
       "Interaction_T1_8967                 The dish.  \n",
       "Interaction_T2_1847                     Took.  \n",
       "Interaction_T2_3423                  Lied on.  \n",
       "Interaction_T4_4181         Put down the bag.  \n",
       "\n",
       "[1048 rows x 3 columns]"
      ]
     },
     "execution_count": 4,
     "metadata": {},
     "output_type": "execute_result"
    }
   ],
   "source": [
    "ground_truth = []\n",
    "\n",
    "with open('../data/datasets/STAR/STAR_annotations/STAR_val_small_1000.json') as f:\n",
    "    data = json.load(f)\n",
    "    ground_truth = [{\n",
    "        'id': sample['question_id'],\n",
    "        'question': sample['question'],\n",
    "        'choices': sample['choices'],\n",
    "        'text': sample['answer'],\n",
    "    } for sample in data]\n",
    "\n",
    "\n",
    "# we keep num as str so we can directrly access choices dictionaries\n",
    "gt_df = pd.DataFrame(ground_truth).astype({'id': 'string', 'text': 'string'})\n",
    "gt_df.set_index('id', inplace=True)\n",
    "gt_df\n"
   ]
  },
  {
   "cell_type": "markdown",
   "metadata": {},
   "source": [
    "## Loading predicted answers evaluation"
   ]
  },
  {
   "cell_type": "code",
   "execution_count": 5,
   "metadata": {},
   "outputs": [
    {
     "data": {
      "text/html": [
       "<div>\n",
       "<style scoped>\n",
       "    .dataframe tbody tr th:only-of-type {\n",
       "        vertical-align: middle;\n",
       "    }\n",
       "\n",
       "    .dataframe tbody tr th {\n",
       "        vertical-align: top;\n",
       "    }\n",
       "\n",
       "    .dataframe thead th {\n",
       "        text-align: right;\n",
       "    }\n",
       "</style>\n",
       "<table border=\"1\" class=\"dataframe\">\n",
       "  <thead>\n",
       "    <tr style=\"text-align: right;\">\n",
       "      <th></th>\n",
       "      <th>chat_history</th>\n",
       "    </tr>\n",
       "    <tr>\n",
       "      <th>id</th>\n",
       "      <th></th>\n",
       "    </tr>\n",
       "  </thead>\n",
       "  <tbody>\n",
       "    <tr>\n",
       "      <th>Feasibility_T5_102</th>\n",
       "      <td>[{'role': 'user', 'content': 'You are an intel...</td>\n",
       "    </tr>\n",
       "    <tr>\n",
       "      <th>Feasibility_T2_860</th>\n",
       "      <td>[{'role': 'user', 'content': 'You are an intel...</td>\n",
       "    </tr>\n",
       "    <tr>\n",
       "      <th>Feasibility_T2_556</th>\n",
       "      <td>[{'role': 'user', 'content': 'You are an intel...</td>\n",
       "    </tr>\n",
       "    <tr>\n",
       "      <th>Prediction_T1_2539</th>\n",
       "      <td>[{'role': 'user', 'content': 'You are an intel...</td>\n",
       "    </tr>\n",
       "    <tr>\n",
       "      <th>Prediction_T4_1253</th>\n",
       "      <td>[{'role': 'user', 'content': 'You are an intel...</td>\n",
       "    </tr>\n",
       "    <tr>\n",
       "      <th>...</th>\n",
       "      <td>...</td>\n",
       "    </tr>\n",
       "    <tr>\n",
       "      <th>Interaction_T1_8913</th>\n",
       "      <td>[{'role': 'user', 'content': 'You are an intel...</td>\n",
       "    </tr>\n",
       "    <tr>\n",
       "      <th>Interaction_T1_8967</th>\n",
       "      <td>[{'role': 'user', 'content': 'You are an intel...</td>\n",
       "    </tr>\n",
       "    <tr>\n",
       "      <th>Interaction_T2_1847</th>\n",
       "      <td>[{'role': 'user', 'content': 'You are an intel...</td>\n",
       "    </tr>\n",
       "    <tr>\n",
       "      <th>Interaction_T2_3423</th>\n",
       "      <td>[{'role': 'user', 'content': 'You are an intel...</td>\n",
       "    </tr>\n",
       "    <tr>\n",
       "      <th>Interaction_T4_4181</th>\n",
       "      <td>[{'role': 'user', 'content': 'You are an intel...</td>\n",
       "    </tr>\n",
       "  </tbody>\n",
       "</table>\n",
       "<p>1048 rows × 1 columns</p>\n",
       "</div>"
      ],
      "text/plain": [
       "                                                          chat_history\n",
       "id                                                                    \n",
       "Feasibility_T5_102   [{'role': 'user', 'content': 'You are an intel...\n",
       "Feasibility_T2_860   [{'role': 'user', 'content': 'You are an intel...\n",
       "Feasibility_T2_556   [{'role': 'user', 'content': 'You are an intel...\n",
       "Prediction_T1_2539   [{'role': 'user', 'content': 'You are an intel...\n",
       "Prediction_T4_1253   [{'role': 'user', 'content': 'You are an intel...\n",
       "...                                                                ...\n",
       "Interaction_T1_8913  [{'role': 'user', 'content': 'You are an intel...\n",
       "Interaction_T1_8967  [{'role': 'user', 'content': 'You are an intel...\n",
       "Interaction_T2_1847  [{'role': 'user', 'content': 'You are an intel...\n",
       "Interaction_T2_3423  [{'role': 'user', 'content': 'You are an intel...\n",
       "Interaction_T4_4181  [{'role': 'user', 'content': 'You are an intel...\n",
       "\n",
       "[1048 rows x 1 columns]"
      ]
     },
     "execution_count": 5,
     "metadata": {},
     "output_type": "execute_result"
    }
   ],
   "source": [
    "predictions = []\n",
    "with open(VQA_RESP_FILEPATH, mode='r', encoding='utf-8', errors='strict') as f:\n",
    "    predictions = [json.loads(line) for line in f.readlines()]\n",
    "\n",
    "# transforming the id key from `qid` to `id` for consistency and `response` to `answer`\n",
    "predictions_df = pd.DataFrame(predictions, dtype='string').rename(columns={'qid':'id', 'response':'answer'})\n",
    "predictions_df.set_index('id', inplace=True)\n",
    "predictions_df\n"
   ]
  },
  {
   "cell_type": "code",
   "execution_count": 6,
   "metadata": {},
   "outputs": [
    {
     "data": {
      "text/html": [
       "<div>\n",
       "<style scoped>\n",
       "    .dataframe tbody tr th:only-of-type {\n",
       "        vertical-align: middle;\n",
       "    }\n",
       "\n",
       "    .dataframe tbody tr th {\n",
       "        vertical-align: top;\n",
       "    }\n",
       "\n",
       "    .dataframe thead th {\n",
       "        text-align: right;\n",
       "    }\n",
       "</style>\n",
       "<table border=\"1\" class=\"dataframe\">\n",
       "  <thead>\n",
       "    <tr style=\"text-align: right;\">\n",
       "      <th></th>\n",
       "      <th>chat_history</th>\n",
       "    </tr>\n",
       "    <tr>\n",
       "      <th>id</th>\n",
       "      <th></th>\n",
       "    </tr>\n",
       "  </thead>\n",
       "  <tbody>\n",
       "    <tr>\n",
       "      <th>Feasibility_T5_102</th>\n",
       "      <td>[{'role': 'user', 'content': 'You are an intel...</td>\n",
       "    </tr>\n",
       "    <tr>\n",
       "      <th>Feasibility_T2_860</th>\n",
       "      <td>[{'role': 'user', 'content': 'You are an intel...</td>\n",
       "    </tr>\n",
       "    <tr>\n",
       "      <th>Feasibility_T2_556</th>\n",
       "      <td>[{'role': 'user', 'content': 'You are an intel...</td>\n",
       "    </tr>\n",
       "    <tr>\n",
       "      <th>Prediction_T1_2539</th>\n",
       "      <td>[{'role': 'user', 'content': 'You are an intel...</td>\n",
       "    </tr>\n",
       "    <tr>\n",
       "      <th>Prediction_T4_1253</th>\n",
       "      <td>[{'role': 'user', 'content': 'You are an intel...</td>\n",
       "    </tr>\n",
       "    <tr>\n",
       "      <th>...</th>\n",
       "      <td>...</td>\n",
       "    </tr>\n",
       "    <tr>\n",
       "      <th>Interaction_T1_8913</th>\n",
       "      <td>[{'role': 'user', 'content': 'You are an intel...</td>\n",
       "    </tr>\n",
       "    <tr>\n",
       "      <th>Interaction_T1_8967</th>\n",
       "      <td>[{'role': 'user', 'content': 'You are an intel...</td>\n",
       "    </tr>\n",
       "    <tr>\n",
       "      <th>Interaction_T2_1847</th>\n",
       "      <td>[{'role': 'user', 'content': 'You are an intel...</td>\n",
       "    </tr>\n",
       "    <tr>\n",
       "      <th>Interaction_T2_3423</th>\n",
       "      <td>[{'role': 'user', 'content': 'You are an intel...</td>\n",
       "    </tr>\n",
       "    <tr>\n",
       "      <th>Interaction_T4_4181</th>\n",
       "      <td>[{'role': 'user', 'content': 'You are an intel...</td>\n",
       "    </tr>\n",
       "  </tbody>\n",
       "</table>\n",
       "<p>1048 rows × 1 columns</p>\n",
       "</div>"
      ],
      "text/plain": [
       "                                                          chat_history\n",
       "id                                                                    \n",
       "Feasibility_T5_102   [{'role': 'user', 'content': 'You are an intel...\n",
       "Feasibility_T2_860   [{'role': 'user', 'content': 'You are an intel...\n",
       "Feasibility_T2_556   [{'role': 'user', 'content': 'You are an intel...\n",
       "Prediction_T1_2539   [{'role': 'user', 'content': 'You are an intel...\n",
       "Prediction_T4_1253   [{'role': 'user', 'content': 'You are an intel...\n",
       "...                                                                ...\n",
       "Interaction_T1_8913  [{'role': 'user', 'content': 'You are an intel...\n",
       "Interaction_T1_8967  [{'role': 'user', 'content': 'You are an intel...\n",
       "Interaction_T2_1847  [{'role': 'user', 'content': 'You are an intel...\n",
       "Interaction_T2_3423  [{'role': 'user', 'content': 'You are an intel...\n",
       "Interaction_T4_4181  [{'role': 'user', 'content': 'You are an intel...\n",
       "\n",
       "[1048 rows x 1 columns]"
      ]
     },
     "execution_count": 6,
     "metadata": {},
     "output_type": "execute_result"
    }
   ],
   "source": [
    "predictions_df['chat_history'] = \\\n",
    "    predictions_df['chat_history'] \\\n",
    "    .apply(lambda x: eval(x))\n",
    "\n",
    "predictions_df\n"
   ]
  },
  {
   "cell_type": "code",
   "execution_count": 7,
   "metadata": {},
   "outputs": [],
   "source": [
    "predictions_df['answer'] = predictions_df['chat_history'].apply(lambda x: x[-1]['content'])\n"
   ]
  },
  {
   "cell_type": "code",
   "execution_count": 8,
   "metadata": {},
   "outputs": [
    {
     "data": {
      "text/plain": [
       "id\n",
       "Feasibility_T5_102               ```json\\n{\"answer\": \"A. The bag\"}\\n```\n",
       "Feasibility_T2_860    ```json\\n{\\n  \"answer\": \"B. Hold the window.\"\\...\n",
       "Feasibility_T2_556    ```json\\n{\"answer\": \"A. Tidy up the closet/cab...\n",
       "Prediction_T1_2539         ```json\\n{\"answer\": \"B. Open the bag.\"}\\n```\n",
       "Prediction_T4_1253      ```json\\n{\\n  \"answer\": \"A. The pillow\"\\n}\\n```\n",
       "Name: answer, dtype: object"
      ]
     },
     "execution_count": 8,
     "metadata": {},
     "output_type": "execute_result"
    }
   ],
   "source": [
    "predictions_df['answer'].iloc[0:5] \n"
   ]
  },
  {
   "cell_type": "markdown",
   "metadata": {},
   "source": [
    "## Text preprocessing"
   ]
  },
  {
   "cell_type": "markdown",
   "metadata": {},
   "source": [
    "For Gemma we need to be more careful becuase the format is different, it encapsulated the json output in the with the tokens: \n",
    "```\n",
    "```json\\n\n",
    "<actual_answer>\n",
    "\\n```\n",
    "```"
   ]
  },
  {
   "cell_type": "code",
   "execution_count": 9,
   "metadata": {},
   "outputs": [
    {
     "name": "stdout",
     "output_type": "stream",
     "text": [
      "Total answers: 1048\n",
      "Answers following JSON template: 1048\n",
      "Percentage following JSON template: 100.00%\n"
     ]
    }
   ],
   "source": [
    "\n",
    "# Create mask for answers that follow JSON syntax\n",
    "json_mask = predictions_df['answer'].str.match(r'^(```json\\s)?({[^}]+})(\\s```)?$')\n",
    "matches_json_template = json_mask.sum()\n",
    "\n",
    "print(f\"Total answers: {len(predictions_df)}\")\n",
    "print(f\"Answers following JSON template: {matches_json_template}\")\n",
    "print(f\"Percentage following JSON template: {(matches_json_template/len(predictions_df))*100:.2f}%\")\n"
   ]
  },
  {
   "cell_type": "code",
   "execution_count": 10,
   "metadata": {},
   "outputs": [
    {
     "data": {
      "text/plain": [
       "Series([], Name: answer, dtype: object)"
      ]
     },
     "execution_count": 10,
     "metadata": {},
     "output_type": "execute_result"
    }
   ],
   "source": [
    "predictions_df.loc[~json_mask, 'answer']\n"
   ]
  },
  {
   "cell_type": "code",
   "execution_count": 11,
   "metadata": {},
   "outputs": [
    {
     "data": {
      "text/plain": [
       "id\n",
       "Feasibility_T5_102                         {\"answer\": \"A. The bag\"}\n",
       "Feasibility_T2_860          {\\n  \"answer\": \"B. Hold the window.\"\\n}\n",
       "Feasibility_T2_556     {\"answer\": \"A. Tidy up the closet/cabinet.\"}\n",
       "Prediction_T1_2539                   {\"answer\": \"B. Open the bag.\"}\n",
       "Prediction_T4_1253                {\\n  \"answer\": \"A. The pillow\"\\n}\n",
       "                                           ...                     \n",
       "Interaction_T1_8913             {\"answer\": \"A. The paper/notebook\"}\n",
       "Interaction_T1_8967                       {\"answer\": \"C. The box.\"}\n",
       "Interaction_T2_1847                           {\"answer\": \"D. Took\"}\n",
       "Interaction_T2_3423                        {\"answer\": \"C. Lied on\"}\n",
       "Interaction_T4_4181        {\\n  \"answer\": \"C. Put down the bag.\"\\n}\n",
       "Name: answer, Length: 1048, dtype: object"
      ]
     },
     "execution_count": 11,
     "metadata": {},
     "output_type": "execute_result"
    }
   ],
   "source": [
    "predictions_df.loc[json_mask, 'answer'] = \\\n",
    "    predictions_df.loc[json_mask, 'answer'] \\\n",
    "    .apply(lambda x: re.search(r'^(?:```json\\s)?({[^}]+})(?:\\s```)?$', x).group(1))\n",
    "\n",
    "predictions_df.loc[~json_mask, 'answer'] = \"\"\n",
    "predictions_df['answer']\n"
   ]
  },
  {
   "cell_type": "markdown",
   "metadata": {},
   "source": [
    "### The need to replace single quotes"
   ]
  },
  {
   "cell_type": "code",
   "execution_count": 12,
   "metadata": {},
   "outputs": [
    {
     "name": "stdout",
     "output_type": "stream",
     "text": [
      "‘\n",
      "’\n",
      "‚\n",
      "‛\n",
      "“\n",
      "”\n"
     ]
    },
    {
     "data": {
      "text/plain": [
       "(None, None, None, None, None, None)"
      ]
     },
     "execution_count": 12,
     "metadata": {},
     "output_type": "execute_result"
    }
   ],
   "source": [
    "print('\\u2018'), print('\\u2019'), print('\\u201a'), print('\\u201b'), print('\\u201c'), print('\\u201d')\n"
   ]
  },
  {
   "cell_type": "markdown",
   "metadata": {},
   "source": [
    "### Applying changes"
   ]
  },
  {
   "cell_type": "code",
   "execution_count": 13,
   "metadata": {},
   "outputs": [],
   "source": [
    "# Replace new line (lead to EOF Errors) with whitespace\n",
    "predictions_df['answer'] = \\\n",
    "    predictions_df['answer'].str.replace('\\n+', ' ', regex=True)\n",
    "\n",
    "# Replace lef and right quotation mark with simple quotation mark\n",
    "predictions_df['answer'] = \\\n",
    "    predictions_df['answer'].str.replace('[\\u2018-\\u201b]', '\\'', regex=True)\n",
    "predictions_df['answer'] = \\\n",
    "    predictions_df['answer'].str.replace('[\\u201c\\u201d]', '\"', regex=True)\n",
    "# ------------------ Removing inner double quotes --------------------\n",
    "# It may happen that the text may contain inner double quotes before the\n",
    "# attribute end. This will cause the parser to termiate early and spout\n",
    "# errors for the remaining text. With this snippet we replace those inner\n",
    "# double quotes with single quotes.\n",
    "#  \n",
    "# we first match the text of the reason paramter inside the double quotes\n",
    "# then we escape/replace all the double quotes inside the text\n",
    "inside_doublequotes = r\"(?<=\\\"answer\\\": \\\")(.*)(?=\\\"(?:,|}))\"\n",
    "\n",
    "predictions_df['answer'] = \\\n",
    "    predictions_df.apply(\n",
    "        func=lambda row: re.sub(\n",
    "            inside_doublequotes, \n",
    "            lambda matchobj: matchobj.group(0).replace('\\\"', ''), \n",
    "            row['answer']),\n",
    "        axis=1\n",
    "        )\n"
   ]
  },
  {
   "cell_type": "code",
   "execution_count": 14,
   "metadata": {},
   "outputs": [
    {
     "data": {
      "text/html": [
       "<div>\n",
       "<style scoped>\n",
       "    .dataframe tbody tr th:only-of-type {\n",
       "        vertical-align: middle;\n",
       "    }\n",
       "\n",
       "    .dataframe tbody tr th {\n",
       "        vertical-align: top;\n",
       "    }\n",
       "\n",
       "    .dataframe thead th {\n",
       "        text-align: right;\n",
       "    }\n",
       "</style>\n",
       "<table border=\"1\" class=\"dataframe\">\n",
       "  <thead>\n",
       "    <tr style=\"text-align: right;\">\n",
       "      <th></th>\n",
       "      <th>chat_history</th>\n",
       "      <th>answer</th>\n",
       "    </tr>\n",
       "    <tr>\n",
       "      <th>id</th>\n",
       "      <th></th>\n",
       "      <th></th>\n",
       "    </tr>\n",
       "  </thead>\n",
       "  <tbody>\n",
       "    <tr>\n",
       "      <th>Feasibility_T5_102</th>\n",
       "      <td>[{'role': 'user', 'content': 'You are an intel...</td>\n",
       "      <td>A. The bag</td>\n",
       "    </tr>\n",
       "    <tr>\n",
       "      <th>Feasibility_T2_860</th>\n",
       "      <td>[{'role': 'user', 'content': 'You are an intel...</td>\n",
       "      <td>B. Hold the window.</td>\n",
       "    </tr>\n",
       "    <tr>\n",
       "      <th>Feasibility_T2_556</th>\n",
       "      <td>[{'role': 'user', 'content': 'You are an intel...</td>\n",
       "      <td>A. Tidy up the closet/cabinet.</td>\n",
       "    </tr>\n",
       "    <tr>\n",
       "      <th>Prediction_T1_2539</th>\n",
       "      <td>[{'role': 'user', 'content': 'You are an intel...</td>\n",
       "      <td>B. Open the bag.</td>\n",
       "    </tr>\n",
       "    <tr>\n",
       "      <th>Prediction_T4_1253</th>\n",
       "      <td>[{'role': 'user', 'content': 'You are an intel...</td>\n",
       "      <td>A. The pillow</td>\n",
       "    </tr>\n",
       "    <tr>\n",
       "      <th>...</th>\n",
       "      <td>...</td>\n",
       "      <td>...</td>\n",
       "    </tr>\n",
       "    <tr>\n",
       "      <th>Interaction_T1_8913</th>\n",
       "      <td>[{'role': 'user', 'content': 'You are an intel...</td>\n",
       "      <td>A. The paper/notebook</td>\n",
       "    </tr>\n",
       "    <tr>\n",
       "      <th>Interaction_T1_8967</th>\n",
       "      <td>[{'role': 'user', 'content': 'You are an intel...</td>\n",
       "      <td>C. The box.</td>\n",
       "    </tr>\n",
       "    <tr>\n",
       "      <th>Interaction_T2_1847</th>\n",
       "      <td>[{'role': 'user', 'content': 'You are an intel...</td>\n",
       "      <td>D. Took</td>\n",
       "    </tr>\n",
       "    <tr>\n",
       "      <th>Interaction_T2_3423</th>\n",
       "      <td>[{'role': 'user', 'content': 'You are an intel...</td>\n",
       "      <td>C. Lied on</td>\n",
       "    </tr>\n",
       "    <tr>\n",
       "      <th>Interaction_T4_4181</th>\n",
       "      <td>[{'role': 'user', 'content': 'You are an intel...</td>\n",
       "      <td>C. Put down the bag.</td>\n",
       "    </tr>\n",
       "  </tbody>\n",
       "</table>\n",
       "<p>1048 rows × 2 columns</p>\n",
       "</div>"
      ],
      "text/plain": [
       "                                                          chat_history  \\\n",
       "id                                                                       \n",
       "Feasibility_T5_102   [{'role': 'user', 'content': 'You are an intel...   \n",
       "Feasibility_T2_860   [{'role': 'user', 'content': 'You are an intel...   \n",
       "Feasibility_T2_556   [{'role': 'user', 'content': 'You are an intel...   \n",
       "Prediction_T1_2539   [{'role': 'user', 'content': 'You are an intel...   \n",
       "Prediction_T4_1253   [{'role': 'user', 'content': 'You are an intel...   \n",
       "...                                                                ...   \n",
       "Interaction_T1_8913  [{'role': 'user', 'content': 'You are an intel...   \n",
       "Interaction_T1_8967  [{'role': 'user', 'content': 'You are an intel...   \n",
       "Interaction_T2_1847  [{'role': 'user', 'content': 'You are an intel...   \n",
       "Interaction_T2_3423  [{'role': 'user', 'content': 'You are an intel...   \n",
       "Interaction_T4_4181  [{'role': 'user', 'content': 'You are an intel...   \n",
       "\n",
       "                                             answer  \n",
       "id                                                   \n",
       "Feasibility_T5_102                       A. The bag  \n",
       "Feasibility_T2_860              B. Hold the window.  \n",
       "Feasibility_T2_556   A. Tidy up the closet/cabinet.  \n",
       "Prediction_T1_2539                 B. Open the bag.  \n",
       "Prediction_T4_1253                    A. The pillow  \n",
       "...                                             ...  \n",
       "Interaction_T1_8913           A. The paper/notebook  \n",
       "Interaction_T1_8967                     C. The box.  \n",
       "Interaction_T2_1847                         D. Took  \n",
       "Interaction_T2_3423                      C. Lied on  \n",
       "Interaction_T4_4181            C. Put down the bag.  \n",
       "\n",
       "[1048 rows x 2 columns]"
      ]
     },
     "execution_count": 14,
     "metadata": {},
     "output_type": "execute_result"
    }
   ],
   "source": [
    "predictions_df.loc[json_mask, 'answer'] = predictions_df.loc[json_mask, 'answer'].apply(lambda x: eval(x)['answer'].strip())\n",
    "predictions_df\n"
   ]
  },
  {
   "cell_type": "code",
   "execution_count": 15,
   "metadata": {},
   "outputs": [
    {
     "name": "stdout",
     "output_type": "stream",
     "text": [
      "Answer following the template: 1046\n",
      "99.81% of the total\n",
      "\n",
      "Only 2 samples do not contain the answer in the response with the specified format\n"
     ]
    },
    {
     "name": "stderr",
     "output_type": "stream",
     "text": [
      "/tmp/ipykernel_4125/3127831504.py:2: UserWarning: This pattern is interpreted as a regular expression, and has match groups. To actually get the groups, use str.extract.\n",
      "  contains_answer = predictions_df['answer'].str.contains(ans_regex_pattern, regex=True)\n"
     ]
    }
   ],
   "source": [
    "ans_regex_pattern = r'^(?:[A-Z]\\.)\\s+((?:\\w+(?:\\s|\\/)?){,10}\\.?)'\n",
    "contains_answer = predictions_df['answer'].str.contains(ans_regex_pattern, regex=True)\n",
    "\n",
    "print(f\"Answer following the template: {contains_answer.value_counts()[True]}\\n\"\n",
    "      f\"{contains_answer.value_counts()[True]/predictions_df.shape[0]:.2%} of the total\")\n",
    "\n",
    "print(f\"\\nOnly {contains_answer.value_counts()[False]} samples do not contain the answer in the response with the specified format\")\n"
   ]
  },
  {
   "cell_type": "code",
   "execution_count": 16,
   "metadata": {},
   "outputs": [
    {
     "data": {
      "text/plain": [
       "id\n",
       "Interaction_T1_7930                                    None of the above\n",
       "Prediction_T1_2610     None of the above. The person is likely to sta...\n",
       "Name: answer, dtype: object"
      ]
     },
     "execution_count": 16,
     "metadata": {},
     "output_type": "execute_result"
    }
   ],
   "source": [
    "predictions_df.loc[~contains_answer, 'answer']\n"
   ]
  },
  {
   "cell_type": "markdown",
   "metadata": {},
   "source": [
    "## Extract answers"
   ]
  },
  {
   "cell_type": "code",
   "execution_count": 17,
   "metadata": {},
   "outputs": [
    {
     "data": {
      "text/html": [
       "<div>\n",
       "<style scoped>\n",
       "    .dataframe tbody tr th:only-of-type {\n",
       "        vertical-align: middle;\n",
       "    }\n",
       "\n",
       "    .dataframe tbody tr th {\n",
       "        vertical-align: top;\n",
       "    }\n",
       "\n",
       "    .dataframe thead th {\n",
       "        text-align: right;\n",
       "    }\n",
       "</style>\n",
       "<table border=\"1\" class=\"dataframe\">\n",
       "  <thead>\n",
       "    <tr style=\"text-align: right;\">\n",
       "      <th></th>\n",
       "      <th>text</th>\n",
       "    </tr>\n",
       "    <tr>\n",
       "      <th>id</th>\n",
       "      <th></th>\n",
       "    </tr>\n",
       "  </thead>\n",
       "  <tbody>\n",
       "    <tr>\n",
       "      <th>Feasibility_T5_102</th>\n",
       "      <td>The bag.</td>\n",
       "    </tr>\n",
       "    <tr>\n",
       "      <th>Feasibility_T2_860</th>\n",
       "      <td>Hold the window.</td>\n",
       "    </tr>\n",
       "    <tr>\n",
       "      <th>Feasibility_T2_556</th>\n",
       "      <td>Tidy up the closet/cabinet.</td>\n",
       "    </tr>\n",
       "    <tr>\n",
       "      <th>Prediction_T1_2539</th>\n",
       "      <td>Open the bag.</td>\n",
       "    </tr>\n",
       "    <tr>\n",
       "      <th>Prediction_T4_1253</th>\n",
       "      <td>The pillow.</td>\n",
       "    </tr>\n",
       "    <tr>\n",
       "      <th>...</th>\n",
       "      <td>...</td>\n",
       "    </tr>\n",
       "    <tr>\n",
       "      <th>Interaction_T1_8913</th>\n",
       "      <td>The paper/notebook.</td>\n",
       "    </tr>\n",
       "    <tr>\n",
       "      <th>Interaction_T1_8967</th>\n",
       "      <td>The box.</td>\n",
       "    </tr>\n",
       "    <tr>\n",
       "      <th>Interaction_T2_1847</th>\n",
       "      <td>Took.</td>\n",
       "    </tr>\n",
       "    <tr>\n",
       "      <th>Interaction_T2_3423</th>\n",
       "      <td>Lied on.</td>\n",
       "    </tr>\n",
       "    <tr>\n",
       "      <th>Interaction_T4_4181</th>\n",
       "      <td>Put down the bag.</td>\n",
       "    </tr>\n",
       "  </tbody>\n",
       "</table>\n",
       "<p>1046 rows × 1 columns</p>\n",
       "</div>"
      ],
      "text/plain": [
       "                                            text\n",
       "id                                              \n",
       "Feasibility_T5_102                      The bag.\n",
       "Feasibility_T2_860              Hold the window.\n",
       "Feasibility_T2_556   Tidy up the closet/cabinet.\n",
       "Prediction_T1_2539                 Open the bag.\n",
       "Prediction_T4_1253                   The pillow.\n",
       "...                                          ...\n",
       "Interaction_T1_8913          The paper/notebook.\n",
       "Interaction_T1_8967                     The box.\n",
       "Interaction_T2_1847                        Took.\n",
       "Interaction_T2_3423                     Lied on.\n",
       "Interaction_T4_4181            Put down the bag.\n",
       "\n",
       "[1046 rows x 1 columns]"
      ]
     },
     "execution_count": 17,
     "metadata": {},
     "output_type": "execute_result"
    }
   ],
   "source": [
    "ans_df = \\\n",
    "    predictions_df[contains_answer]['answer'] \\\n",
    "    .apply(lambda x: re.findall(ans_regex_pattern, x)[-1]) \\\n",
    "    .apply(lambda x: x + '.' if not x.endswith('.') else x) \\\n",
    "    .to_frame(name='text')\n",
    "\n",
    "ans_df.rename(columns={0: 'text'}, inplace=True)\n",
    "\n",
    "ans_df['text'] = ans_df['text'].str.strip()\n",
    "ans_df\n"
   ]
  },
  {
   "cell_type": "code",
   "execution_count": 18,
   "metadata": {},
   "outputs": [
    {
     "name": "stdout",
     "output_type": "stream",
     "text": [
      "<class 'pandas.core.frame.DataFrame'>\n",
      "Index: 1046 entries, Feasibility_T5_102 to Interaction_T4_4181\n",
      "Data columns (total 1 columns):\n",
      " #   Column  Non-Null Count  Dtype \n",
      "---  ------  --------------  ----- \n",
      " 0   text    1046 non-null   object\n",
      "dtypes: object(1)\n",
      "memory usage: 16.3+ KB\n"
     ]
    }
   ],
   "source": [
    "ans_df.info()\n"
   ]
  },
  {
   "cell_type": "code",
   "execution_count": 19,
   "metadata": {},
   "outputs": [
    {
     "name": "stdout",
     "output_type": "stream",
     "text": [
      "We have 318 unique answers\n"
     ]
    }
   ],
   "source": [
    "freq = ans_df['text'].value_counts().reset_index()\n",
    "freq.columns = ['word', 'freq']\n",
    "\n",
    "print(f\"We have {freq.size} unique answers\")\n"
   ]
  },
  {
   "cell_type": "code",
   "execution_count": 20,
   "metadata": {},
   "outputs": [
    {
     "data": {
      "text/plain": [
       "text\n",
       "None of the above.       149\n",
       "The bag.                  45\n",
       "The blanket.              41\n",
       "The cup/glass/bottle.     35\n",
       "Put down.                 30\n",
       "                        ... \n",
       "Ate.                       1\n",
       "Took the sandwich.         1\n",
       "Took the book.             1\n",
       "The bucket.                1\n",
       "the phone/camera.          1\n",
       "Name: count, Length: 159, dtype: int64"
      ]
     },
     "execution_count": 20,
     "metadata": {},
     "output_type": "execute_result"
    }
   ],
   "source": [
    "ans_df['text'].value_counts()\n"
   ]
  },
  {
   "cell_type": "code",
   "execution_count": 21,
   "metadata": {},
   "outputs": [
    {
     "data": {
      "text/plain": [
       "<Axes: xlabel='freq', ylabel='word'>"
      ]
     },
     "execution_count": 21,
     "metadata": {},
     "output_type": "execute_result"
    },
    {
     "data": {
      "image/png": "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",
      "text/plain": [
       "<Figure size 600x800 with 1 Axes>"
      ]
     },
     "metadata": {},
     "output_type": "display_data"
    }
   ],
   "source": [
    "plt.figure(figsize=(6, 8))\n",
    "sns.barplot(data=freq.sort_values('freq', ascending=False)[:50], x='freq', y='word')\n"
   ]
  },
  {
   "cell_type": "markdown",
   "metadata": {},
   "source": [
    "Let's do some visualization also for the ground truth data"
   ]
  },
  {
   "cell_type": "code",
   "execution_count": 22,
   "metadata": {},
   "outputs": [
    {
     "name": "stdout",
     "output_type": "stream",
     "text": [
      "We have 164 unique answers\n"
     ]
    }
   ],
   "source": [
    "print(f\"We have {gt_df['text'].nunique()} unique answers\")\n"
   ]
  },
  {
   "cell_type": "code",
   "execution_count": 23,
   "metadata": {},
   "outputs": [
    {
     "data": {
      "text/plain": [
       "<Axes: xlabel='freq', ylabel='word'>"
      ]
     },
     "execution_count": 23,
     "metadata": {},
     "output_type": "execute_result"
    },
    {
     "data": {
      "image/png": "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",
      "text/plain": [
       "<Figure size 600x800 with 1 Axes>"
      ]
     },
     "metadata": {},
     "output_type": "display_data"
    }
   ],
   "source": [
    "freq = gt_df['text'].value_counts().reset_index()\n",
    "freq.columns = ['word', 'freq']\n",
    "\n",
    "plt.figure(figsize=(6, 8))\n",
    "sns.barplot(data=freq.sort_values('freq', ascending=False)[:50], x='freq', y='word')\n"
   ]
  },
  {
   "cell_type": "code",
   "execution_count": 24,
   "metadata": {},
   "outputs": [
    {
     "data": {
      "text/plain": [
       "(1046, 4)"
      ]
     },
     "execution_count": 24,
     "metadata": {},
     "output_type": "execute_result"
    }
   ],
   "source": [
    "# Inner join - keeps only indices present in both series\n",
    "\n",
    "ans_df.rename(columns={'text': 'pred_text'}, inplace=True)\n",
    "eval_df = gt_df.join(\n",
    "    ans_df, \n",
    "    how='inner' # we account also for samples without answers\n",
    ")\n",
    "\n",
    "eval_df.shape\n"
   ]
  },
  {
   "cell_type": "code",
   "execution_count": 25,
   "metadata": {},
   "outputs": [],
   "source": [
    "eval_df['text'] = eval_df['text'].str.lower()\n",
    "eval_df['text'] = eval_df['text'].str.replace('.', '')\n",
    "\n",
    "eval_df['pred_text'] = eval_df['pred_text'].str.lower()\n",
    "eval_df['pred_text'] = eval_df['pred_text'].str.replace('.', '')\n"
   ]
  },
  {
   "cell_type": "code",
   "execution_count": 26,
   "metadata": {},
   "outputs": [],
   "source": [
    "def accuracy(eval_df, on_what='text'):\n",
    "    hits_text = (eval_df[f'pred_{on_what}'].str.lower() == eval_df[on_what].str.lower()).sum()\n",
    "    \n",
    "\n",
    "    return hits_text/eval_df.shape[0]\n"
   ]
  },
  {
   "cell_type": "markdown",
   "metadata": {},
   "source": [
    "check if the equality with NA result in a false or is skipped"
   ]
  },
  {
   "cell_type": "code",
   "execution_count": 27,
   "metadata": {},
   "outputs": [
    {
     "name": "stdout",
     "output_type": "stream",
     "text": [
      "Real Accuracy: 42.18%\n"
     ]
    }
   ],
   "source": [
    "real_acc = accuracy(eval_df) * eval_df.shape[0] / gt_df.shape[0]\n",
    "\n",
    "print(f\"Real Accuracy: {real_acc:.2%}\")\n"
   ]
  },
  {
   "cell_type": "code",
   "execution_count": 28,
   "metadata": {},
   "outputs": [],
   "source": [
    "def print_acc(eval_df, acc_fn):\n",
    "    print(f\"{'Question type':<15}{'Total':^15}{'Accuracy':^10}\\n\")\n",
    "\n",
    "    total = eval_df.index.str.startswith('Interaction').sum()\n",
    "    acc = acc_fn(eval_df[eval_df.index.str.startswith('Interaction')])\n",
    "    print(f\"{'Interaction':<15}{total:^15}{acc:^10.2%}\")\n",
    "\n",
    "    total = eval_df.index.str.startswith('Sequence').sum()\n",
    "    acc = acc_fn(eval_df[eval_df.index.str.startswith('Sequence')])\n",
    "    print(f\"{'Sequence':<15}{total:^15}{acc:^10.2%}\")\n",
    "\n",
    "    total = eval_df.index.str.startswith('Prediction').sum()\n",
    "    acc = acc_fn(eval_df[eval_df.index.str.startswith('Prediction')])\n",
    "    print(f\"{'Prediction':<15}{total:^15}{acc:^10.2%}\")\n",
    "\n",
    "    total = eval_df.index.str.startswith('Feasibility').sum()\n",
    "    acc = acc_fn(eval_df[eval_df.index.str.startswith('Feasibility')])\n",
    "    print(f\"{'Feasibility':<15}{total:^15}{acc:^10.2%}\")\n",
    "    \n",
    "    print()\n",
    "    total = eval_df.shape[0]\n",
    "    acc = acc_fn(eval_df)\n",
    "    print(f\"{'Average':<15}{total:^15}{acc:^10.2%}\")\n"
   ]
  },
  {
   "cell_type": "code",
   "execution_count": 29,
   "metadata": {},
   "outputs": [
    {
     "name": "stdout",
     "output_type": "stream",
     "text": [
      "Question type       Total      Accuracy \n",
      "\n",
      "Interaction          297        45.45%  \n",
      "Sequence             291        44.33%  \n",
      "Prediction           238        40.76%  \n",
      "Feasibility          220        36.82%  \n",
      "\n",
      "Average             1046        42.26%  \n"
     ]
    }
   ],
   "source": [
    "print_acc(eval_df, lambda x: accuracy(x, on_what='text'))\n"
   ]
  },
  {
   "cell_type": "code",
   "execution_count": 30,
   "metadata": {},
   "outputs": [
    {
     "name": "stdout",
     "output_type": "stream",
     "text": [
      "Question type       Total      Answered \n",
      "\n",
      "Interaction          298        99.66%  \n",
      "Sequence             291       100.00%  \n",
      "Prediction           239        99.58%  \n",
      "Feasibility          220       100.00%  \n",
      "Overall             1048        99.81%  \n"
     ]
    }
   ],
   "source": [
    "# % of answers conforming to template per category\n",
    "\n",
    "def print_ans_perc(eval_df, gt_df):\n",
    "    print(f\"{'Question type':<15}{'Total':^15}{'Answered':^10}\\n\")\n",
    "\n",
    "    total = gt_df.index.str.startswith('Interaction').sum()\n",
    "    acc = len(gt_df.index.intersection(eval_df[eval_df.index.str.startswith('Interaction')].index))/total\n",
    "    print(f\"{'Interaction':<15}{total:^15}{acc:^10.2%}\")\n",
    "\n",
    "    total = gt_df.index.str.startswith('Sequence').sum()\n",
    "    acc = len(gt_df.index.intersection(eval_df[eval_df.index.str.startswith('Sequence')].index))/total\n",
    "    print(f\"{'Sequence':<15}{total:^15}{acc:^10.2%}\")\n",
    "\n",
    "    total = gt_df.index.str.startswith('Prediction').sum()\n",
    "    acc = len(gt_df.index.intersection(eval_df[eval_df.index.str.startswith('Prediction')].index))/total\n",
    "    print(f\"{'Prediction':<15}{total:^15}{acc:^10.2%}\")\n",
    "\n",
    "    total = gt_df.index.str.startswith('Feasibility').sum()\n",
    "    acc = len(gt_df.index.intersection(eval_df[eval_df.index.str.startswith('Feasibility')].index))/total\n",
    "    print(f\"{'Feasibility':<15}{total:^15}{acc:^10.2%}\")\n",
    "\n",
    "    total = gt_df.shape[0]\n",
    "    acc = eval_df.shape[0]/total\n",
    "    print(f\"{'Overall':<15}{total:^15}{acc:^10.2%}\")\n",
    "\n",
    "print_ans_perc(eval_df, gt_df)\n"
   ]
  },
  {
   "cell_type": "code",
   "execution_count": 141,
   "metadata": {},
   "outputs": [
    {
     "data": {
      "text/plain": [
       "<module 'src.response_processing' from '/home/lusha/star_code/src/response_processing.py'>"
      ]
     },
     "execution_count": 141,
     "metadata": {},
     "output_type": "execute_result"
    }
   ],
   "source": [
    "reload(rp)\n"
   ]
  },
  {
   "cell_type": "code",
   "execution_count": 142,
   "metadata": {},
   "outputs": [
    {
     "name": "stdout",
     "output_type": "stream",
     "text": [
      "Total answers: 1048\n",
      "Answers following JSON template: 1048\n",
      "Percentage following JSON template: 100.00%\n",
      "Answer following the template: 1046\n",
      "99.81% of the total\n",
      "\n",
      "Only 2 samples do not contain the answer in the response with the specified format\n"
     ]
    },
    {
     "name": "stderr",
     "output_type": "stream",
     "text": [
      "/home/lusha/star_code/src/response_processing.py:91: UserWarning: This pattern is interpreted as a regular expression, and has match groups. To actually get the groups, use str.extract.\n",
      "  contains_answer = predictions_df[\"answer\"].str.contains(\n"
     ]
    },
    {
     "name": "stdout",
     "output_type": "stream",
     "text": [
      "Total answers: 1048\n",
      "Answers following JSON template: 1048\n",
      "Percentage following JSON template: 100.00%\n",
      "Answer following the template: 1021\n",
      "97.42% of the total\n",
      "\n",
      "Only 27 samples do not contain the answer in the response with the specified format\n"
     ]
    },
    {
     "name": "stderr",
     "output_type": "stream",
     "text": [
      "/home/lusha/star_code/src/response_processing.py:91: UserWarning: This pattern is interpreted as a regular expression, and has match groups. To actually get the groups, use str.extract.\n",
      "  contains_answer = predictions_df[\"answer\"].str.contains(\n"
     ]
    }
   ],
   "source": [
    "pred1_df = rp.gemma3_ans_extract(VQA_RESP_FILEPATH)\n",
    "pred2_df = rp.gemma3_ans_extract(VQA_RESP_WOUT_NONE_ALTERNATIVE_FILEPATH)\n"
   ]
  },
  {
   "cell_type": "code",
   "execution_count": 143,
   "metadata": {},
   "outputs": [
    {
     "data": {
      "text/html": [
       "<div>\n",
       "<style scoped>\n",
       "    .dataframe tbody tr th:only-of-type {\n",
       "        vertical-align: middle;\n",
       "    }\n",
       "\n",
       "    .dataframe tbody tr th {\n",
       "        vertical-align: top;\n",
       "    }\n",
       "\n",
       "    .dataframe thead th {\n",
       "        text-align: right;\n",
       "    }\n",
       "</style>\n",
       "<table border=\"1\" class=\"dataframe\">\n",
       "  <thead>\n",
       "    <tr style=\"text-align: right;\">\n",
       "      <th></th>\n",
       "      <th>answer</th>\n",
       "      <th>chat_history</th>\n",
       "    </tr>\n",
       "    <tr>\n",
       "      <th>id</th>\n",
       "      <th></th>\n",
       "      <th></th>\n",
       "    </tr>\n",
       "  </thead>\n",
       "  <tbody>\n",
       "    <tr>\n",
       "      <th>Feasibility_T5_102</th>\n",
       "      <td>The bag.</td>\n",
       "      <td>[{'role': 'user', 'content': 'You are an intel...</td>\n",
       "    </tr>\n",
       "    <tr>\n",
       "      <th>Feasibility_T2_860</th>\n",
       "      <td>Hold the window.</td>\n",
       "      <td>[{'role': 'user', 'content': 'You are an intel...</td>\n",
       "    </tr>\n",
       "    <tr>\n",
       "      <th>Feasibility_T2_556</th>\n",
       "      <td>Tidy up the closet/cabinet.</td>\n",
       "      <td>[{'role': 'user', 'content': 'You are an intel...</td>\n",
       "    </tr>\n",
       "    <tr>\n",
       "      <th>Prediction_T1_2539</th>\n",
       "      <td>Open the bag.</td>\n",
       "      <td>[{'role': 'user', 'content': 'You are an intel...</td>\n",
       "    </tr>\n",
       "    <tr>\n",
       "      <th>Prediction_T4_1253</th>\n",
       "      <td>The pillow.</td>\n",
       "      <td>[{'role': 'user', 'content': 'You are an intel...</td>\n",
       "    </tr>\n",
       "    <tr>\n",
       "      <th>...</th>\n",
       "      <td>...</td>\n",
       "      <td>...</td>\n",
       "    </tr>\n",
       "    <tr>\n",
       "      <th>Interaction_T1_8913</th>\n",
       "      <td>The paper/notebook.</td>\n",
       "      <td>[{'role': 'user', 'content': 'You are an intel...</td>\n",
       "    </tr>\n",
       "    <tr>\n",
       "      <th>Interaction_T1_8967</th>\n",
       "      <td>The box.</td>\n",
       "      <td>[{'role': 'user', 'content': 'You are an intel...</td>\n",
       "    </tr>\n",
       "    <tr>\n",
       "      <th>Interaction_T2_1847</th>\n",
       "      <td>Took.</td>\n",
       "      <td>[{'role': 'user', 'content': 'You are an intel...</td>\n",
       "    </tr>\n",
       "    <tr>\n",
       "      <th>Interaction_T2_3423</th>\n",
       "      <td>Lied on.</td>\n",
       "      <td>[{'role': 'user', 'content': 'You are an intel...</td>\n",
       "    </tr>\n",
       "    <tr>\n",
       "      <th>Interaction_T4_4181</th>\n",
       "      <td>Put down the bag.</td>\n",
       "      <td>[{'role': 'user', 'content': 'You are an intel...</td>\n",
       "    </tr>\n",
       "  </tbody>\n",
       "</table>\n",
       "<p>1046 rows × 2 columns</p>\n",
       "</div>"
      ],
      "text/plain": [
       "                                          answer  \\\n",
       "id                                                 \n",
       "Feasibility_T5_102                      The bag.   \n",
       "Feasibility_T2_860              Hold the window.   \n",
       "Feasibility_T2_556   Tidy up the closet/cabinet.   \n",
       "Prediction_T1_2539                 Open the bag.   \n",
       "Prediction_T4_1253                   The pillow.   \n",
       "...                                          ...   \n",
       "Interaction_T1_8913          The paper/notebook.   \n",
       "Interaction_T1_8967                     The box.   \n",
       "Interaction_T2_1847                        Took.   \n",
       "Interaction_T2_3423                     Lied on.   \n",
       "Interaction_T4_4181            Put down the bag.   \n",
       "\n",
       "                                                          chat_history  \n",
       "id                                                                      \n",
       "Feasibility_T5_102   [{'role': 'user', 'content': 'You are an intel...  \n",
       "Feasibility_T2_860   [{'role': 'user', 'content': 'You are an intel...  \n",
       "Feasibility_T2_556   [{'role': 'user', 'content': 'You are an intel...  \n",
       "Prediction_T1_2539   [{'role': 'user', 'content': 'You are an intel...  \n",
       "Prediction_T4_1253   [{'role': 'user', 'content': 'You are an intel...  \n",
       "...                                                                ...  \n",
       "Interaction_T1_8913  [{'role': 'user', 'content': 'You are an intel...  \n",
       "Interaction_T1_8967  [{'role': 'user', 'content': 'You are an intel...  \n",
       "Interaction_T2_1847  [{'role': 'user', 'content': 'You are an intel...  \n",
       "Interaction_T2_3423  [{'role': 'user', 'content': 'You are an intel...  \n",
       "Interaction_T4_4181  [{'role': 'user', 'content': 'You are an intel...  \n",
       "\n",
       "[1046 rows x 2 columns]"
      ]
     },
     "execution_count": 143,
     "metadata": {},
     "output_type": "execute_result"
    }
   ],
   "source": [
    "pred1_df\n"
   ]
  },
  {
   "cell_type": "code",
   "execution_count": 144,
   "metadata": {},
   "outputs": [
    {
     "name": "stdout",
     "output_type": "stream",
     "text": [
      "Question type       Total      Accuracy \n",
      "\n",
      "Interaction          293        50.85%  \n",
      "Sequence             279        48.75%  \n",
      "Prediction           237        45.57%  \n",
      "Feasibility          212        39.62%  \n",
      "\n",
      "Average             1021        46.72%  \n"
     ]
    }
   ],
   "source": [
    "pred2_df.rename(columns={'answer': 'pred_text'}, inplace=True)\n",
    "eval_df2 = gt_df.join(\n",
    "    pred2_df, \n",
    "    how='inner' # we account also for samples without answers\n",
    ")\n",
    "print_acc(eval_df2, lambda x: accuracy(x, on_what='text'))\n"
   ]
  },
  {
   "cell_type": "code",
   "execution_count": 145,
   "metadata": {},
   "outputs": [
    {
     "data": {
      "text/html": [
       "<div>\n",
       "<style scoped>\n",
       "    .dataframe tbody tr th:only-of-type {\n",
       "        vertical-align: middle;\n",
       "    }\n",
       "\n",
       "    .dataframe tbody tr th {\n",
       "        vertical-align: top;\n",
       "    }\n",
       "\n",
       "    .dataframe thead th {\n",
       "        text-align: right;\n",
       "    }\n",
       "</style>\n",
       "<table border=\"1\" class=\"dataframe\">\n",
       "  <thead>\n",
       "    <tr style=\"text-align: right;\">\n",
       "      <th></th>\n",
       "      <th>question</th>\n",
       "      <th>choices</th>\n",
       "      <th>text</th>\n",
       "      <th>pred_text1</th>\n",
       "      <th>pred_text2</th>\n",
       "    </tr>\n",
       "    <tr>\n",
       "      <th>id</th>\n",
       "      <th></th>\n",
       "      <th></th>\n",
       "      <th></th>\n",
       "      <th></th>\n",
       "      <th></th>\n",
       "    </tr>\n",
       "  </thead>\n",
       "  <tbody>\n",
       "    <tr>\n",
       "      <th>Feasibility_T5_102</th>\n",
       "      <td>Which object is the person able to throw after...</td>\n",
       "      <td>[{'choice_id': 0, 'choice': 'The bag.', 'choic...</td>\n",
       "      <td>the clothes.</td>\n",
       "      <td>the bag.</td>\n",
       "      <td>the bag.</td>\n",
       "    </tr>\n",
       "    <tr>\n",
       "      <th>Feasibility_T2_860</th>\n",
       "      <td>What else is the person able to do with the wi...</td>\n",
       "      <td>[{'choice_id': 0, 'choice': 'Lie on the window...</td>\n",
       "      <td>close the window.</td>\n",
       "      <td>hold the window.</td>\n",
       "      <td>hold the window.</td>\n",
       "    </tr>\n",
       "    <tr>\n",
       "      <th>Feasibility_T2_556</th>\n",
       "      <td>What else is the person able to do with the cl...</td>\n",
       "      <td>[{'choice_id': 0, 'choice': 'Tidy up the close...</td>\n",
       "      <td>open the closet/cabinet.</td>\n",
       "      <td>tidy up the closet/cabinet.</td>\n",
       "      <td>tidy up the closet/cabinet.</td>\n",
       "    </tr>\n",
       "    <tr>\n",
       "      <th>Prediction_T1_2539</th>\n",
       "      <td>What will the person do next?</td>\n",
       "      <td>[{'choice_id': 0, 'choice': 'Sit on the floor....</td>\n",
       "      <td>sit on the floor.</td>\n",
       "      <td>open the bag.</td>\n",
       "      <td>open the bag.</td>\n",
       "    </tr>\n",
       "    <tr>\n",
       "      <th>Prediction_T4_1253</th>\n",
       "      <td>Which object would the person throw next after...</td>\n",
       "      <td>[{'choice_id': 0, 'choice': 'The pillow.', 'ch...</td>\n",
       "      <td>the shoe.</td>\n",
       "      <td>the pillow.</td>\n",
       "      <td>the pillow.</td>\n",
       "    </tr>\n",
       "    <tr>\n",
       "      <th>...</th>\n",
       "      <td>...</td>\n",
       "      <td>...</td>\n",
       "      <td>...</td>\n",
       "      <td>...</td>\n",
       "      <td>...</td>\n",
       "    </tr>\n",
       "    <tr>\n",
       "      <th>Interaction_T1_8913</th>\n",
       "      <td>Which object was taken by the person?</td>\n",
       "      <td>[{'choice_id': 0, 'choice': 'The paper/noteboo...</td>\n",
       "      <td>the paper/notebook.</td>\n",
       "      <td>the paper/notebook.</td>\n",
       "      <td>the paper/notebook.</td>\n",
       "    </tr>\n",
       "    <tr>\n",
       "      <th>Interaction_T1_8967</th>\n",
       "      <td>Which object was taken by the person?</td>\n",
       "      <td>[{'choice_id': 0, 'choice': 'The towel.', 'cho...</td>\n",
       "      <td>the dish.</td>\n",
       "      <td>the box.</td>\n",
       "      <td>the box.</td>\n",
       "    </tr>\n",
       "    <tr>\n",
       "      <th>Interaction_T2_1847</th>\n",
       "      <td>What did the person do with the paper/notebook?</td>\n",
       "      <td>[{'choice_id': 0, 'choice': 'Put down.', 'choi...</td>\n",
       "      <td>took.</td>\n",
       "      <td>took.</td>\n",
       "      <td>took.</td>\n",
       "    </tr>\n",
       "    <tr>\n",
       "      <th>Interaction_T2_3423</th>\n",
       "      <td>What did the person do with the bed?</td>\n",
       "      <td>[{'choice_id': 0, 'choice': 'Sat on.', 'choice...</td>\n",
       "      <td>lied on.</td>\n",
       "      <td>lied on.</td>\n",
       "      <td>lied on.</td>\n",
       "    </tr>\n",
       "    <tr>\n",
       "      <th>Interaction_T4_4181</th>\n",
       "      <td>What did the person do while they were wiping ...</td>\n",
       "      <td>[{'choice_id': 0, 'choice': 'Threw the bag.', ...</td>\n",
       "      <td>put down the bag.</td>\n",
       "      <td>put down the bag.</td>\n",
       "      <td>put down the bag.</td>\n",
       "    </tr>\n",
       "  </tbody>\n",
       "</table>\n",
       "<p>1019 rows × 5 columns</p>\n",
       "</div>"
      ],
      "text/plain": [
       "                                                              question  \\\n",
       "id                                                                       \n",
       "Feasibility_T5_102   Which object is the person able to throw after...   \n",
       "Feasibility_T2_860   What else is the person able to do with the wi...   \n",
       "Feasibility_T2_556   What else is the person able to do with the cl...   \n",
       "Prediction_T1_2539                       What will the person do next?   \n",
       "Prediction_T4_1253   Which object would the person throw next after...   \n",
       "...                                                                ...   \n",
       "Interaction_T1_8913              Which object was taken by the person?   \n",
       "Interaction_T1_8967              Which object was taken by the person?   \n",
       "Interaction_T2_1847    What did the person do with the paper/notebook?   \n",
       "Interaction_T2_3423               What did the person do with the bed?   \n",
       "Interaction_T4_4181  What did the person do while they were wiping ...   \n",
       "\n",
       "                                                               choices  \\\n",
       "id                                                                       \n",
       "Feasibility_T5_102   [{'choice_id': 0, 'choice': 'The bag.', 'choic...   \n",
       "Feasibility_T2_860   [{'choice_id': 0, 'choice': 'Lie on the window...   \n",
       "Feasibility_T2_556   [{'choice_id': 0, 'choice': 'Tidy up the close...   \n",
       "Prediction_T1_2539   [{'choice_id': 0, 'choice': 'Sit on the floor....   \n",
       "Prediction_T4_1253   [{'choice_id': 0, 'choice': 'The pillow.', 'ch...   \n",
       "...                                                                ...   \n",
       "Interaction_T1_8913  [{'choice_id': 0, 'choice': 'The paper/noteboo...   \n",
       "Interaction_T1_8967  [{'choice_id': 0, 'choice': 'The towel.', 'cho...   \n",
       "Interaction_T2_1847  [{'choice_id': 0, 'choice': 'Put down.', 'choi...   \n",
       "Interaction_T2_3423  [{'choice_id': 0, 'choice': 'Sat on.', 'choice...   \n",
       "Interaction_T4_4181  [{'choice_id': 0, 'choice': 'Threw the bag.', ...   \n",
       "\n",
       "                                         text                   pred_text1  \\\n",
       "id                                                                           \n",
       "Feasibility_T5_102               the clothes.                     the bag.   \n",
       "Feasibility_T2_860          close the window.             hold the window.   \n",
       "Feasibility_T2_556   open the closet/cabinet.  tidy up the closet/cabinet.   \n",
       "Prediction_T1_2539          sit on the floor.                open the bag.   \n",
       "Prediction_T4_1253                  the shoe.                  the pillow.   \n",
       "...                                       ...                          ...   \n",
       "Interaction_T1_8913       the paper/notebook.          the paper/notebook.   \n",
       "Interaction_T1_8967                 the dish.                     the box.   \n",
       "Interaction_T2_1847                     took.                        took.   \n",
       "Interaction_T2_3423                  lied on.                     lied on.   \n",
       "Interaction_T4_4181         put down the bag.            put down the bag.   \n",
       "\n",
       "                                      pred_text2  \n",
       "id                                                \n",
       "Feasibility_T5_102                      the bag.  \n",
       "Feasibility_T2_860              hold the window.  \n",
       "Feasibility_T2_556   tidy up the closet/cabinet.  \n",
       "Prediction_T1_2539                 open the bag.  \n",
       "Prediction_T4_1253                   the pillow.  \n",
       "...                                          ...  \n",
       "Interaction_T1_8913          the paper/notebook.  \n",
       "Interaction_T1_8967                     the box.  \n",
       "Interaction_T2_1847                        took.  \n",
       "Interaction_T2_3423                     lied on.  \n",
       "Interaction_T4_4181            put down the bag.  \n",
       "\n",
       "[1019 rows x 5 columns]"
      ]
     },
     "execution_count": 145,
     "metadata": {},
     "output_type": "execute_result"
    }
   ],
   "source": [
    "pred1_df.rename(columns={'answer': 'pred_text1'}, inplace=True)\n",
    "pred2_df.rename(columns={'pred_text': 'pred_text2'}, inplace=True)\n",
    "eval_df_all = gt_df.join(\n",
    "    pred1_df[['pred_text1']],\n",
    "    how='inner'\n",
    ").join(\n",
    "    pred2_df[['pred_text2']],\n",
    "    how='inner'\n",
    ")\n",
    "\n",
    "eval_df_all['text'] = eval_df_all['text'].str.lower()\n",
    "eval_df_all['pred_text1'] = eval_df_all['pred_text1'].str.lower()\n",
    "eval_df_all['pred_text2'] = eval_df_all['pred_text2'].str.lower()\n",
    "eval_df_all\n"
   ]
  },
  {
   "cell_type": "code",
   "execution_count": 146,
   "metadata": {},
   "outputs": [
    {
     "data": {
      "image/png": "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",
      "text/plain": [
       "<Figure size 640x480 with 2 Axes>"
      ]
     },
     "metadata": {},
     "output_type": "display_data"
    }
   ],
   "source": [
    "pred1_correct = (eval_df_all['text'] == eval_df_all['pred_text1']).astype(int).values\n",
    "pred2_correct =  (eval_df_all['text'] == eval_df_all['pred_text2']).astype(int).values\n",
    "\n",
    "cm = confusion_matrix(pred1_correct, pred2_correct, normalize='true')\n",
    "\n",
    "sns.heatmap(cm, annot=True, fmt='.1%', cmap='Blues', \n",
    "            xticklabels=['Wrong', 'Correct'], \n",
    "            yticklabels=['Wrong', 'Correct'])\n",
    "plt.xlabel('+None of the above alternative')\n",
    "plt.ylabel('Only 4 alternatives')\n",
    "plt.title('Agreement between predictors')\n",
    "plt.show()\n"
   ]
  },
  {
   "cell_type": "code",
   "execution_count": 186,
   "metadata": {},
   "outputs": [
    {
     "data": {
      "text/plain": [
       "(1019,)"
      ]
     },
     "execution_count": 186,
     "metadata": {},
     "output_type": "execute_result"
    }
   ],
   "source": [
    "correct_wrong = pred1_correct & pred2_correct\n",
    "correct_wrong.shape\n"
   ]
  },
  {
   "cell_type": "code",
   "execution_count": 187,
   "metadata": {},
   "outputs": [],
   "source": [
    "mask = correct_wrong.astype(bool)\n"
   ]
  },
  {
   "cell_type": "code",
   "execution_count": 188,
   "metadata": {},
   "outputs": [],
   "source": [
    "indices = eval_df_all[mask].index\n",
    "test1 = indices[0]\n"
   ]
  },
  {
   "cell_type": "code",
   "execution_count": 189,
   "metadata": {},
   "outputs": [],
   "source": [
    "reasoning1 = pred1_df.loc[test1]['chat_history'][1]['content']\n",
    "reasoning2 = pred2_df.loc[test1]['chat_history'][1]['content']\n",
    "\n"
   ]
  },
  {
   "cell_type": "code",
   "execution_count": 190,
   "metadata": {},
   "outputs": [],
   "source": [
    "def common_upto(str1, str2):\n",
    "    min_l = min(len(str1), len(str2))\n",
    "    \n",
    "    for i in range(min_l):\n",
    "        if str1[i] != str2[i]:\n",
    "            return i\n"
   ]
  },
  {
   "cell_type": "code",
   "execution_count": 191,
   "metadata": {},
   "outputs": [
    {
     "data": {
      "text/plain": [
       "(1857, 1640, 185)"
      ]
     },
     "execution_count": 191,
     "metadata": {},
     "output_type": "execute_result"
    }
   ],
   "source": [
    "comm = common_upto(reasoning1, reasoning2)\n",
    "len(reasoning1), len(reasoning2), comm\n"
   ]
  },
  {
   "cell_type": "code",
   "execution_count": 192,
   "metadata": {},
   "outputs": [
    {
     "data": {
      "text/plain": [
       "'Okay, let’s analyze the video and answer the question.\\n\\n**1. Question Interpretation:** The question asks “Which object was opened by the person?” This implies identifying the object th'"
      ]
     },
     "execution_count": 192,
     "metadata": {},
     "output_type": "execute_result"
    }
   ],
   "source": [
    "reasoning1[:comm]\n"
   ]
  },
  {
   "cell_type": "code",
   "execution_count": 193,
   "metadata": {},
   "outputs": [
    {
     "data": {
      "text/plain": [
       "'Okay, let’s analyze the video and answer the question.\\n\\n**1. Question Interpretation:** The question asks “Which object was opened by the person?” This implies identifying the object that the person interacted with to cause it to become accessible or revealed.\\n\\n**2. Video Analysis:**\\n*   **Frame 1-3:** The person is seen sitting with a box in their lap, eating something.\\n*   **Frame 4-6:** The person is now using a laptop.\\n*   **Frame 7-9:** The person is still using the laptop.\\n*   **Frame 10-12:** The person is now using the laptop.\\n\\nThe person initially has a box, then switches to using a laptop. The window is always visible in the background. The door is not visible in the frames.\\n\\n**3. Alternative Evaluation:**\\n\\n*   **A. The box:** The person initially had a box, but they later switched to using a laptop. So, the box is not the object that was opened.\\n*   **B. The window:** The window is always visible in the background, but the person does not interact with it.\\n*   **C. The door:** The door is not visible in the frames.\\n*   **D. The laptop:** The person is actively using the laptop. This is the object they are interacting with.\\n\\n**4. Reasoning:**\\nThe person is shown initially with a box, but then they transition to using a laptop. The question asks which object was *opened* by the person. The person is actively using the laptop, which implies they are opening it to use it. The box is simply held in their lap.\\n\\n**5. Conclusion:**\\nBased on the video analysis, the person is interacting with the laptop. Therefore, the laptop is the object that was opened.\\n\\n**6. Consistency Check:**\\nMy analysis is consistent with the video. The person initially has a box, but then switches to using the laptop. The question asks which object was opened, and the laptop is the object they are actively using.\\n\\n**7. Final Answer:**\\nD. The laptop.'"
      ]
     },
     "execution_count": 193,
     "metadata": {},
     "output_type": "execute_result"
    }
   ],
   "source": [
    "reasoning1\n"
   ]
  },
  {
   "cell_type": "code",
   "execution_count": 194,
   "metadata": {},
   "outputs": [
    {
     "data": {
      "text/plain": [
       "'Okay, let’s analyze the video and answer the question.\\n\\n**1. Question Interpretation:** The question asks “Which object was opened by the person?” This implies identifying the object the person interacted with, specifically opened or manipulated in some way.\\n\\n**2. Video Analysis:**\\n*   **Frame 1-3:** The person is seen sitting with a box in their lap, eating something.\\n*   **Frame 4-6:** The person is now using a laptop.\\n*   **Frame 7-9:** The person is still using the laptop.\\n*   **Frame 10-12:** The person is still using the laptop.\\n\\nThe person is primarily interacting with a laptop. They are opening and using it. The box is present in the initial frames, but the action shifts to the laptop.\\n\\n**3. Alternative Evaluation:**\\n\\n*   **A. The box:** Incorrect. The person is not opening the box; they are eating from it.\\n*   **B. The window:** Incorrect. The person is looking out of the window, but not opening it.\\n*   **C. The door:** Incorrect. There is no clear indication of the person opening a door.\\n*   **D. The laptop:** Correct. The person is clearly opening and using the laptop.\\n\\n**4. Reasoning:**\\n1.  The initial frames show the person with a box.\\n2.  The subsequent frames show the person actively using a laptop.\\n3.  The action of “opening” is most clearly demonstrated by the interaction with the laptop.\\n4.  Therefore, the laptop is the object that was opened.\\n\\n**5. Conclusion:**\\nBased on the video analysis, the person opened the laptop.\\n\\n**6. Consistency Check:** My analysis is consistent with the video evidence. The person’s actions clearly demonstrate the opening and use of the laptop.\\n\\n**7. Final Answer:** D'"
      ]
     },
     "execution_count": 194,
     "metadata": {},
     "output_type": "execute_result"
    }
   ],
   "source": [
    "reasoning2\n"
   ]
  },
  {
   "cell_type": "code",
   "execution_count": 199,
   "metadata": {},
   "outputs": [
    {
     "ename": "ImportError",
     "evalue": "cannot import name 'load_metric' from 'datasets' (/home/lusha/.local/lib/python3.10/site-packages/datasets/__init__.py)",
     "output_type": "error",
     "traceback": [
      "\u001b[0;31m---------------------------------------------------------------------------\u001b[0m",
      "\u001b[0;31mImportError\u001b[0m                               Traceback (most recent call last)",
      "Cell \u001b[0;32mIn[199], line 1\u001b[0m\n\u001b[0;32m----> 1\u001b[0m \u001b[38;5;28;01mfrom\u001b[39;00m\u001b[38;5;250m \u001b[39m\u001b[38;5;21;01mdatasets\u001b[39;00m\u001b[38;5;250m \u001b[39m\u001b[38;5;28;01mimport\u001b[39;00m load_metric\n",
      "\u001b[0;31mImportError\u001b[0m: cannot import name 'load_metric' from 'datasets' (/home/lusha/.local/lib/python3.10/site-packages/datasets/__init__.py)"
     ]
    }
   ],
   "source": [
    "from datasets import load_metric\n"
   ]
  },
  {
   "cell_type": "code",
   "execution_count": null,
   "metadata": {},
   "outputs": [],
   "source": [
    "b\n"
   ]
  },
  {
   "cell_type": "code",
   "execution_count": 117,
   "metadata": {},
   "outputs": [
    {
     "data": {
      "image/png": "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",
      "text/plain": [
       "<Figure size 640x480 with 2 Axes>"
      ]
     },
     "metadata": {},
     "output_type": "display_data"
    }
   ],
   "source": [
    "none_of_alt_mask = (eval_df_all['pred_text1'] == 'none of the above.')\n",
    "\n",
    "tmp_eval_df = eval_df_all[~none_of_alt_mask]\n",
    "pred1_correct = (tmp_eval_df['text'] == tmp_eval_df['pred_text1']).astype(int).values\n",
    "pred2_correct =  (tmp_eval_df['text'] == tmp_eval_df['pred_text2']).astype(int).values\n",
    "\n",
    "cm = confusion_matrix(pred1_correct, pred2_correct, normalize='true')\n",
    "\n",
    "sns.heatmap(cm, annot=True, fmt='.1%', cmap='Blues', \n",
    "            xticklabels=['Wrong', 'Correct'], \n",
    "            yticklabels=['Wrong', 'Correct'])\n",
    "plt.xlabel('+None of the above alternative')\n",
    "plt.ylabel('Only 4 alternatives')\n",
    "plt.title('Agreement between predictors')\n",
    "plt.show()\n"
   ]
  },
  {
   "cell_type": "code",
   "execution_count": 53,
   "metadata": {},
   "outputs": [
    {
     "data": {
      "image/png": "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",
      "text/plain": [
       "<Figure size 640x480 with 2 Axes>"
      ]
     },
     "metadata": {},
     "output_type": "display_data"
    }
   ],
   "source": [
    "tmp_eval_df = eval_df_all[none_of_alt_mask]\n",
    "\n",
    "pred1_correct = (tmp_eval_df['text'] == tmp_eval_df['pred_text1']).astype(int).values\n",
    "pred2_correct =  (tmp_eval_df['text'] == tmp_eval_df['pred_text2']).astype(int).values\n",
    "\n",
    "cm = confusion_matrix(pred1_correct, pred2_correct, normalize='true')\n",
    "\n",
    "sns.heatmap(cm, annot=True, fmt='.1%', cmap='Blues', \n",
    "            xticklabels=['Wrong', 'Correct'], \n",
    "            yticklabels=['Wrong', 'Correct'])\n",
    "plt.xlabel('+None of the above alternative')\n",
    "plt.ylabel('Only 4 alternatives')\n",
    "plt.title('Agreement Between Predictors')\n",
    "plt.show()\n"
   ]
  }
 ],
 "metadata": {
  "kernelspec": {
   "display_name": "base",
   "language": "python",
   "name": "python3"
  },
  "language_info": {
   "codemirror_mode": {
    "name": "ipython",
    "version": 3
   },
   "file_extension": ".py",
   "mimetype": "text/x-python",
   "name": "python",
   "nbconvert_exporter": "python",
   "pygments_lexer": "ipython3",
   "version": "3.10.9"
  }
 },
 "nbformat": 4,
 "nbformat_minor": 2
}
                                                                                                                                                                                                                                                                                                                                                                                                                                                                                                                                                                                                                                                                                                                                                                                                                                                                                                                                                                                                                                                                                                                                                                                                                                                                                                                                                                                                                                                                                                                                                                                                                                                                                                                                                                                                                                                                                                                                                                                              kTBB4WSdOOmbF29f38/ODr64tly5YBAFQqFZycnDBlyhTMmDGjRP0RI0YgLy8Pv/76q7qsffv28PLywsqVK8t9XPZcEBER6ZhMJs2mjcLCQhw/fhw9e/ZUl8nlcvTs2ROHDh0qdZ9Dhw5p1AeAwMDAMuuXhRM6iYiIqoiCggIUFBRolJmamsLU1LRE3ZycHCiVSjg4OGiUOzg44OLFi6W2n5GRUWr9jIwMreKslslFZXRx0bMVFBQgIiICM2fOLPUfPpGh4nfD8Ej1c2n2pxGYM2eORll4eDhmz54tzQEkwmER0pmCggLMmTOnRJZNZOj43aCKmjlzJu7du6exzZw5s9S6dnZ2MDIyQmZmpkZ5ZmYm6tatW+o+devW1ap+WZhcEBERVRGmpqawsrLS2Mrq/TIxMYG3tzdiY2PVZSqVCrGxsejQoUOp+3To0EGjPgDExMSUWb8sHEAgIiKqpkJDQxEcHAwfHx+0a9cOkZGRyMvLw5gxYwAAQUFBqF+/PiIiIgAA06ZNg7+/PxYvXox+/fph48aNOHbsGFatWqXVcZlcEBERVVMjRoxAdnY2wsLCkJGRAS8vL+zatUs9aTMtLQ1y+d+DGB07dsSGDRvw8ccf48MPP0SjRo3w008/oWXLllodt1re54JeDJy0RlQ6fjeoumNyQURERJLihE4iIiKSFJMLIiIikhSTCyIiIpIUkwsiIiKSFJMLUlu5ciUsLS1RXPz3Y2Vzc3NhbGyMbt26adSNj4+HTCZDSkpKJUdJVHkyMjIwZcoUuLm5wdTUFE5OThgwYECJmwy9CKKiomBjY6PvMIgAMLmgpwQEBCA3NxfHjh1TlyUkJKBu3bo4cuQIHj16pC6Pi4tDw4YN4e7urtFGYWFhpcVLpEvXrl2Dt7c39u3bh88//xxnz57Frl27EBAQgLfeeqtCbZb1/Sgqkuh53EQvCCYXpNakSRM4OjoiPj5eXRYfH49BgwbB1dUVhw8f1igPCAjA6NGjMXjwYMybNw/16tVDkyZNAABnz55F9+7dYWZmhtq1a2P8+PHIzc1V7/9kv0WLFsHR0RG1a9fGW2+9pfGfbHp6Ovr16wczMzO4urpiw4YNcHFxQWRkpM6vBdGkSZMgk8mQmJiIYcOGoXHjxmjRogVCQ0PV34W0tDQMGjQIFhYWsLKywiuvvKLxXIbZs2fDy8sL3377LVxdXaFQKAAAMpkMK1aswMCBA2Fubo558+YBAH7++We0bdsWCoUCbm5umDNnjkZP4t27dzFhwgQ4ODhAoVCgZcuW+PXXXxEfH48xY8bg3r17kMlkkMlkL9yDrMiwMLkgDQEBAYiLi1O/jouLQ7du3eDv768uf/jwIY4cOYKAgAAAQGxsLJKTkxETE4Nff/0VeXl5CAwMhK2tLY4ePYoff/wRe/fuxeTJkzWOFRcXh5SUFMTFxeG7775DVFQUoqKi1O8HBQXh5s2biI+Px5YtW7Bq1SpkZWXp/iKQwbt9+zZ27dqFt956C+bm5iXet7GxgUqlwqBBg3D79m38/vvviImJwdWrVzFixAiNuleuXMGWLVuwdetWnDp1Sl0+e/ZsDBkyBGfPnsXYsWORkJCAoKAgTJs2DRcuXMA333yDqKgodeKhUqnQp08fHDhwAD/88AMuXLiAzz77DEZGRujYsSMiIyNhZWWF9PR0pKen491339XpNSL6V4LoKatXrxbm5uaiqKhI3L9/X9SoUUNkZWWJDRs2iK5duwohhIiNjRUAxPXr10VwcLBwcHAQBQUF6jZWrVolbG1tRW5urrrst99+E3K5XGRkZAghhAgODhbOzs6iuLhYXefll18WI0aMEEIIkZSUJACIo0ePqt+/fPmyACC++OILXV4CInHkyBEBQGzdurXMOnv27BFGRkYiLS1NXXb+/HkBQCQmJgohhAgPDxfGxsYiKytLY18AYvr06RplPXr0EPPnz9coW79+vXB0dBRCCLF7924hl8tFcnJyqfGsW7dOWFtbl/sciXSJPRekoVu3bsjLy8PRo0eRkJCAxo0bo06dOvD391fPu4iPj4ebmxsaNmwIAGjVqhVMTEzUbSQlJcHT01PjN75OnTpBpVIhOTlZXdaiRQsYGRmpXzs6Oqp7JpKTk1GjRg20bdtW/b6HhwdsbW11du5ET4hy3Lg4KSkJTk5OcHJyUpc1b94cNjY2SEpKUpc5OzujTp06Jfb38fHReH369GnMnTsXFhYW6i0kJATp6enIz8/HqVOn0KBBAzRu3Pg5zoyocvDBZaTBw8MDDRo0QFxcHO7cuQN/f38AQL169eDk5ISDBw8iLi4O3bt3V+9TWrdxeRgbG2u8lslkUKlUFQ+eSCKNGjWCTCbDxYsXn7utsr4f/yzPzc3FnDlzMHTo0BJ1FQoFzMzMnjsWosrCngsqISAgAPHx8YiPj9dYgtq1a1fs3LkTiYmJ6vkWpWnWrBlOnz6NvLw8ddmBAwcgl8vVEz6fpUmTJiguLsbJkyfVZVeuXMGdO3e0PyEiLdWqVQuBgYFYvny5xr/jJ+7evYtmzZrhzz//xJ9//qkuv3DhAu7evYvmzZtrfcy2bdsiOTkZHh4eJTa5XI7WrVvjr7/+wqVLl0rd38TEBEqlUuvjEukCkwsqISAgAPv378epU6fUPRcA4O/vj2+++QaFhYX/mlyMGjUKCoUCwcHBOHfuHOLi4jBlyhS8/vrr6sf8PkvTpk3Rs2dPjB8/HomJiTh58iTGjx8PMzMzyGSy5z5HomdZvnw5lEol2rVrhy1btuDy5ctISkrCl19+iQ4dOqBnz55o1aoVRo0ahRMnTiAxMRFBQUHw9/cvMeRRHmFhYfj+++8xZ84cnD9/HklJSdi4cSM+/vhjAI+/f127dsWwYcMQExOD1NRU7Ny5E7t27QIAuLi4IDc3F7GxscjJyUF+fr6k14NIG0wuqISAgAA8fPgQHh4eGsmAv78/Hjx4oF6yWpaaNWti9+7duH37Nnx9fTF8+HD06NEDy5Yt0yqO77//Hg4ODujatSuGDBmCkJAQWFpaqpfzEemSm5sbTpw4gYCAALzzzjto2bIlevXqhdjYWKxYsQIymQw///wzbG1t0bVrV/Ts2RNubm7YtGlThY4XGBiIX3/9FXv27IGvry/at2+PL774As7Ozuo6W7Zsga+vL1599VU0b94c77//vrq3omPHjnjzzTcxYsQI1KlTBwsXLpTkOhBVBB+5TlXGX3/9BScnJ+zduxc9evTQdzhERFQGJhf0wtq3bx9yc3PRqlUrpKen4/3338eNGzdw6dKlEpNBiYjoxcHVIvTCKioqwocffoirV6/C0tISHTt2RHR0NBMLIqIXHHsuiIiISFKc0ElERESSYnJBREREkmJyQURERJJickFERESSYnJBpIWLFy+iffv2UCgU8PLyKvd+8fHxkMlkuHv3rs5iK4tMJsNPP/1U6ceVgouLCyIjI/UdhtZGjx6NwYMH6zsMIr1hckGVRiaTQaFQ4Pr16xrlgwcPxujRo/UTlJbCw8Nhbm6O5ORkxMbGllqnW7dumD59euUGZiBetETp2rVrkMlkOHXqlEb50qVLERUVpZeYiF4ETC5IMt26dXvmf6gymQxhYWGVE5AOpKSkoHPnznB2dkbt2rX1HQ5VUFFRkU7bt7a2ho2NjU6PQfQiY3JBlWry5Mn44YcfcO7cuTLrFBQUYOrUqbC3t4dCoUDnzp1x9OhR9ftPhhhiY2Ph4+ODmjVromPHjkhOTtZo5+eff0bbtm2hUCjg5uaGOXPmoLi4uMzjqlQqzJ07Fw0aNICpqSm8vLzUD4UCHidGx48fx9y5cyGTyTB79uwSbYwePRq///47li5dCplMBplMhmvXrqnfP378uKQxHz16FL169YKdnR2sra3h7++PEydOlKiXnp6OPn36wMzMDG5ubti8ebPG+2fPnkX37t1hZmaG2rVrY/z48cjNzQUA7NmzBwqFosSQzrRp09C9e3f16/3796NLly4wMzODk5MTpk6dWuoTRZ9ISUnBoEGD4ODgAAsLC/j6+mLv3r1l1ndxcQEADBkyBDKZTP0aePZ1k8lkWLFiBQYOHAhzc3PMmzcPs2fPhpeXF9avXw8XFxdYW1tj5MiRePDggXq/Xbt2oXPnzrCxsUHt2rXRv39/pKSkqN93dXUFALRp0wYymUz9FOGnh0VWrVqFevXqQaVSaZzPoEGDMHbs2HKfA1GVIogk4u/vL9atW1fm+wDEtm3bxMCBA0W/fv3U5YMGDRLBwcHq11OnThX16tUTO3bsEOfPnxfBwcHC1tZW3Lp1SwghRFxcnAAg/Pz8RHx8vDh//rzo0qWL6Nixo7qNP/74Q1hZWYmoqCiRkpIi9uzZI1xcXMTs2bPLjG/JkiXCyspK/Pe//xUXL14U77//vjA2NhaXLl0SQgiRnp4uWrRoId555x2Rnp4uHjx4UKKNu3fvig4dOoiQkBCRnp4u0tPTRXFxsc5ijo2NFevXrxdJSUniwoULYty4ccLBwUHcv39f47rXrl1brF69WiQnJ4uPP/5YGBkZiQsXLgghhMjNzRWOjo5i6NCh4uzZsyI2Nla4urqqP5Pi4mLh4OAgvv32W3Wb/yy7cuWKMDc3F1988YW4dOmSOHDggGjTpo0YPXp0mbGfOnVKrFy5Upw9e1ZcunRJfPzxx0KhUIjr16+r6zg7O4svvvhCCCFEVlaWACDWrVsn0tPTRVZWVrmvGwBhb28v1q5dK1JSUsT169dFeHi4sLCwUJ/3H3/8IerWrSs+/PBD9X6bN28WW7ZsEZcvXxYnT54UAwYMEK1atRJKpVIIIURiYqIAIPbu3SvS09PV/0aDg4PFoEGDhBBC3L59W5iYmIi9e/eq271165ZGWUU+e6IXGZMLkkx5k4vz588LIyMj8ccffwghNJOL3NxcYWxsLKKjo9X7FRYWinr16omFCxcKIf5OLp7+z/q3334TAMTDhw+FEEL06NFDzJ8/X+P469evF46OjmXGV69ePTFv3jyNMl9fXzFp0iT1a09PTxEeHl72RRCPr8O0adM0ynQV8z8plUphaWkptm/fri4DIN58802Nen5+fmLixIlCCCFWrVolbG1tRW5urkZscrlcZGRkCCGEmDZtmujevbv6/d27dwtTU1Nx584dIYQQ48aNE+PHj9c4RkJCgpDL5erzK48WLVqIr776Sv366eTiybls27ZNY5/yXDcAYvr06Rp1wsPDRc2aNTUSsffee0/4+fmVGV92drYAIM6ePSuEECI1NVUAECdPntSo93RyIcTjf+Njx45Vv/7mm29EvXr11EmKFJ890YuEwyJUYfPnz4eFhYV6S0hIwJtvvqlRlpaWVmK/5s2bIygoCDNmzCjxXkpKCoqKitCpUyd1mbGxMdq1a4ekpCSNuq1bt1b//ckj4LOysgAAp0+fxty5czViCQkJQXp6OvLz80sc9/79+7h586bGcQGgU6dOJY77PKSMGQAyMzMREhKCRo0awdraGlZWVsjNzS1x3Tt06FDi9ZPzSkpKgqenJ8zNzdXvd+rUCSqVSj1sM2rUKMTHx+PmzZsAgOjoaPTr1089r+D06dOIiorSiD0wMBAqlQqpqamlxp6bm4t3330XzZo1g42NDSwsLJCUlFTqv5l/U97r5uPjU2JfFxcXWFpaql87OjqqPw8AuHz5Ml599VW4ubnByspKPRSjbYyjRo3Cli1bUFBQAODx9Rs5ciTkcrlW50BUVfDBZVRhb775Jl555RX161GjRmHYsGEYOnSouqxevXql7jtnzhw0btz4uWb+P/0AM5lMBgDqce3c3FzMmTNHI5YnFApFhY/5vKSOOTg4GLdu3cLSpUvh7OwMU1NTdOjQAYWFhZLG7evrC3d3d2zcuBETJ07Etm3bNCbv5ubmYsKECZg6dWqJfRs2bFhqm++++y5iYmKwaNEieHh4wMzMDMOHD9c69vJet6eTpyf++RA8mUymMTdiwIABcHZ2xurVq9XzJlq2bKl1jAMGDIAQAr/99ht8fX2RkJCAL774QutzIKoqmFxQhdWqVQu1atVSvzYzM4O9vT08PDyeua+TkxMmT56MDz/8EO7u7upyd3d3mJiY4MCBA3B2dgbweGb/0aNHtVre2bZtWyQnJ5crFgCwsrJCvXr1cODAAfj7+6vLDxw4gHbt2pX7uABgYmICpVKp1T6A9jEDj+P7+uuv0bdvXwDAn3/+iZycnBL1Dh8+jKCgII3Xbdq0AQA0a9YMUVFRyMvLU/8APnDgAORyOZo0aaLeZ9SoUYiOjkaDBg0gl8vRr18/jdgvXLigdeyjR4/GkCFDADz+Afv05NfSGBsbl7i2Fblu5XHr1i0kJydj9erV6NKlC4DHk1afZmJiAgDP/LwVCgWGDh2K6OhoXLlyBU2aNEHbtm11fg5E+sLkgvRm5syZWL16NVJTUzFixAgAj3+7nDhxIt577z3UqlULDRs2xMKFC5Gfn49x48aVu+2wsDD0798fDRs2xPDhwyGXy3H69GmcO3cOn376aan7vPfeewgPD4e7uzu8vLywbt06nDp1CtHR0Vqdl4uLC44cOYJr167BwsJCIwGTOuZGjRph/fr18PHxwf379/Hee+/BzMysRL0ff/wRPj4+6Ny5M6Kjo5GYmIg1a9YAeJw0hIeHIzg4GLNnz0Z2djamTJmC119/HQ4ODuo2Ro0ahdmzZ2PevHkYPnw4TE1N1e998MEHaN++PSZPnow33ngD5ubmuHDhAmJiYrBs2bIyY9+6dSsGDBgAmUyGWbNmlVhR8U8uLi6IjY1Fp06dYGpqCltb2wpdt/KwtbVF7dq1sWrVKjg6OiItLa3EUJ69vT3MzMywa9cuNGjQAAqFAtbW1qW2N2rUKPTv3x/nz5/Ha6+9pvGers6BSG/0PemDqo/yTuh82vz58wUAjdUiDx8+FFOmTBF2dnbC1NRUdOrUSSQmJqrffzI58slkQiGEOHnypAAgUlNT1WW7du0SHTt2FGZmZsLKykq0a9dOrFq1qsz4lEqlmD17tqhfv74wNjYWnp6eYufOnRp1yjOhMzk5WbRv316YmZmpY9JVzCdOnBA+Pj5CoVCIRo0aiR9//LHUSZDLly8XvXr1EqampsLFxUVs2rRJo50zZ86IgIAAoVAoRK1atURISEipq2HatWsnAIh9+/aVeC8xMVH06tVLWFhYCHNzc9G6desSE2SflpqaKgICAoSZmZlwcnISy5YtKzEZ9p/n8ssvvwgPDw9Ro0YN4ezsXO7rVtq/vfDwcOHp6alR9sUXX2i0GxMTI5o1ayZMTU1F69atRXx8fIm2Vq9eLZycnIRcLhf+/v5CiJITOoV4/O/L0dFRABApKSklroe2nz3Ri0wmhBD6SWuIiIioOuJqESIiIpIUkwsiIiKSFJMLIiIikhSTCyIiIpIUkwsiIiKSFJMLIiIikhSTCyIiIpIUkwsiIiKSFJMLIiIikhSTCyIiIpIUkwsiIiKSFJMLIiIiktT/Ad0PuSb0w4aVAAAAAElFTkSuQmCC",
      "text/plain": [
       "<Figure size 640x480 with 2 Axes>"
      ]
     },
     "metadata": {},
     "output_type": "display_data"
    }
   ],
   "source": [
    "tmp_eval_df = eval_df_all[none_of_alt_mask]\n",
    "\n",
    "pred1_correct = (tmp_eval_df['text'] == tmp_eval_df['pred_text1']).astype(int).values\n",
    "pred2_correct =  (tmp_eval_df['text'] == tmp_eval_df['pred_text2']).astype(int).values\n",
    "\n",
    "cm = confusion_matrix(pred1_correct, pred2_correct, normalize='true')\n",
    "\n",
    "sns.heatmap(cm, annot=True, fmt='.1%', cmap='Blues', \n",
    "            xticklabels=['Wrong', 'Correct'], \n",
    "            yticklabels=['Wrong', 'Correct'])\n",
    "plt.xlabel('+None of the above alternative')\n",
    "plt.ylabel('Only 4 alternatives')\n",
    "plt.title('Agreement Between Predictors')\n",
    "plt.show()\n"
   ]
  }
 ],
 "metadata": {
  "kernelspec": {
   "display_name": "base",
   "language": "python",
   "name": "python3"
  },
  "language_info": {
   "codemirror_mode": {
    "name": "ipython",
    "version": 3
   },
   "file_extension": ".py",
   "mimetype": "text/x-python",
   "name": "python",
   "nbconvert_exporter": "python",
   "pygments_lexer": "ipython3",
   "version": "3.10.9"
  }
 },
 "nbformat": 4,
 "nbformat_minor": 2
}
