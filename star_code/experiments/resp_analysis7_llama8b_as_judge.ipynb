{
 "cells": [
  {
   "cell_type": "code",
   "execution_count": 102,
   "metadata": {},
   "outputs": [],
   "source": [
    "import random\n",
    "import json\n",
    "import re\n",
    "\n",
    "import numpy as np\n",
    "import pandas as pd\n",
    "\n",
    "import matplotlib.pyplot as plt\n",
    "import seaborn as sns\n",
    "\n",
    "from sklearn.metrics import confusion_matrix\n",
    "\n",
    "random.seed(6)\n",
    "np.random.seed(6)\n"
   ]
  },
  {
   "cell_type": "markdown",
   "metadata": {},
   "source": [
    "# Experiment 7 - Llama3.1 8b as a judge\n",
    "\n",
    "In this experiment I implement the technique `LLM as judge` used in the paper `How good is my MML?` as evaluaiton metric for the correctness of the answers given by a model. The method \n",
    "consists of using a LLM to evaluate the correctness of the answers given by another model. The LLM acts as a judge by comparing the predicted answer with the ground truth answer and providing a score between 0 and 5, expressing the confidence in the answer. The judge also provides a reason for the score.\n",
    "\n",
    "\n",
    "**Parameters:**\n",
    "- model: llama3.1 8b\n",
    "- system prompt: LLM_judge_system.txt\n",
    "- temperature: 0.1\n",
    "- sampling method: (default) top-p (p=0.9)\n",
    "- the output is limited to 128 tokens (shouldn't influence the results, it only cutoffs the generation)\n"
   ]
  },
  {
   "cell_type": "markdown",
   "metadata": {},
   "source": [
    "Let's load the ground truth from the `STAR_QA_question_and_stsg_val.json` file where we extracted QA and spatio-temporal scene graphs"
   ]
  },
  {
   "cell_type": "code",
   "execution_count": 103,
   "metadata": {},
   "outputs": [
    {
     "data": {
      "text/html": [
       "<div>\n",
       "<style scoped>\n",
       "    .dataframe tbody tr th:only-of-type {\n",
       "        vertical-align: middle;\n",
       "    }\n",
       "\n",
       "    .dataframe tbody tr th {\n",
       "        vertical-align: top;\n",
       "    }\n",
       "\n",
       "    .dataframe thead th {\n",
       "        text-align: right;\n",
       "    }\n",
       "</style>\n",
       "<table border=\"1\" class=\"dataframe\">\n",
       "  <thead>\n",
       "    <tr style=\"text-align: right;\">\n",
       "      <th></th>\n",
       "      <th>question</th>\n",
       "      <th>choices</th>\n",
       "      <th>num</th>\n",
       "      <th>text</th>\n",
       "    </tr>\n",
       "    <tr>\n",
       "      <th>id</th>\n",
       "      <th></th>\n",
       "      <th></th>\n",
       "      <th></th>\n",
       "      <th></th>\n",
       "    </tr>\n",
       "  </thead>\n",
       "  <tbody>\n",
       "    <tr>\n",
       "      <th>Interaction_T1_13</th>\n",
       "      <td>Which object was tidied up by the person?</td>\n",
       "      <td>{'0': 'The closet/cabinet.', '1': 'The blanket...</td>\n",
       "      <td>2</td>\n",
       "      <td>The clothes.</td>\n",
       "    </tr>\n",
       "    <tr>\n",
       "      <th>Interaction_T1_14</th>\n",
       "      <td>Which object was tidied up by the person?</td>\n",
       "      <td>{'0': 'The blanket.', '1': 'The table.', '2': ...</td>\n",
       "      <td>2</td>\n",
       "      <td>The clothes.</td>\n",
       "    </tr>\n",
       "    <tr>\n",
       "      <th>Interaction_T1_31</th>\n",
       "      <td>Which object was thrown by the person?</td>\n",
       "      <td>{'0': 'The pillow.', '1': 'The bag.', '2': 'Th...</td>\n",
       "      <td>2</td>\n",
       "      <td>The clothes.</td>\n",
       "    </tr>\n",
       "    <tr>\n",
       "      <th>Interaction_T1_32</th>\n",
       "      <td>Which object was put down by the person?</td>\n",
       "      <td>{'0': 'The food.', '1': 'The shoe.', '2': 'The...</td>\n",
       "      <td>1</td>\n",
       "      <td>The shoe.</td>\n",
       "    </tr>\n",
       "    <tr>\n",
       "      <th>Interaction_T1_40</th>\n",
       "      <td>Which object was tidied up by the person?</td>\n",
       "      <td>{'0': 'The broom.', '1': 'The closet/cabinet.'...</td>\n",
       "      <td>1</td>\n",
       "      <td>The closet/cabinet.</td>\n",
       "    </tr>\n",
       "    <tr>\n",
       "      <th>...</th>\n",
       "      <td>...</td>\n",
       "      <td>...</td>\n",
       "      <td>...</td>\n",
       "      <td>...</td>\n",
       "    </tr>\n",
       "    <tr>\n",
       "      <th>Feasibility_T6_1453</th>\n",
       "      <td>What is the person able to do after taking the...</td>\n",
       "      <td>{'0': 'Wash the table.', '1': 'Take the box.',...</td>\n",
       "      <td>0</td>\n",
       "      <td>Wash the table.</td>\n",
       "    </tr>\n",
       "    <tr>\n",
       "      <th>Feasibility_T6_1454</th>\n",
       "      <td>What is the person able to do after walking th...</td>\n",
       "      <td>{'0': 'Take the towel.', '1': 'Throw the bag.'...</td>\n",
       "      <td>0</td>\n",
       "      <td>Take the towel.</td>\n",
       "    </tr>\n",
       "    <tr>\n",
       "      <th>Feasibility_T6_1455</th>\n",
       "      <td>What is the person able to do after walking th...</td>\n",
       "      <td>{'0': 'Throw the bag.', '1': 'Wash the table.'...</td>\n",
       "      <td>1</td>\n",
       "      <td>Wash the table.</td>\n",
       "    </tr>\n",
       "    <tr>\n",
       "      <th>Feasibility_T6_1456</th>\n",
       "      <td>What is the person able to do after putting th...</td>\n",
       "      <td>{'0': 'Hold the food.', '1': 'Open the closet/...</td>\n",
       "      <td>3</td>\n",
       "      <td>Wash the table.</td>\n",
       "    </tr>\n",
       "    <tr>\n",
       "      <th>Feasibility_T6_1468</th>\n",
       "      <td>What is the person able to do after opening th...</td>\n",
       "      <td>{'0': 'Wash the window.', '1': 'Hold the food....</td>\n",
       "      <td>1</td>\n",
       "      <td>Hold the food.</td>\n",
       "    </tr>\n",
       "  </tbody>\n",
       "</table>\n",
       "<p>7098 rows × 4 columns</p>\n",
       "</div>"
      ],
      "text/plain": [
       "                                                              question  \\\n",
       "id                                                                       \n",
       "Interaction_T1_13            Which object was tidied up by the person?   \n",
       "Interaction_T1_14            Which object was tidied up by the person?   \n",
       "Interaction_T1_31               Which object was thrown by the person?   \n",
       "Interaction_T1_32             Which object was put down by the person?   \n",
       "Interaction_T1_40            Which object was tidied up by the person?   \n",
       "...                                                                ...   \n",
       "Feasibility_T6_1453  What is the person able to do after taking the...   \n",
       "Feasibility_T6_1454  What is the person able to do after walking th...   \n",
       "Feasibility_T6_1455  What is the person able to do after walking th...   \n",
       "Feasibility_T6_1456  What is the person able to do after putting th...   \n",
       "Feasibility_T6_1468  What is the person able to do after opening th...   \n",
       "\n",
       "                                                               choices num  \\\n",
       "id                                                                           \n",
       "Interaction_T1_13    {'0': 'The closet/cabinet.', '1': 'The blanket...   2   \n",
       "Interaction_T1_14    {'0': 'The blanket.', '1': 'The table.', '2': ...   2   \n",
       "Interaction_T1_31    {'0': 'The pillow.', '1': 'The bag.', '2': 'Th...   2   \n",
       "Interaction_T1_32    {'0': 'The food.', '1': 'The shoe.', '2': 'The...   1   \n",
       "Interaction_T1_40    {'0': 'The broom.', '1': 'The closet/cabinet.'...   1   \n",
       "...                                                                ...  ..   \n",
       "Feasibility_T6_1453  {'0': 'Wash the table.', '1': 'Take the box.',...   0   \n",
       "Feasibility_T6_1454  {'0': 'Take the towel.', '1': 'Throw the bag.'...   0   \n",
       "Feasibility_T6_1455  {'0': 'Throw the bag.', '1': 'Wash the table.'...   1   \n",
       "Feasibility_T6_1456  {'0': 'Hold the food.', '1': 'Open the closet/...   3   \n",
       "Feasibility_T6_1468  {'0': 'Wash the window.', '1': 'Hold the food....   1   \n",
       "\n",
       "                                    text  \n",
       "id                                        \n",
       "Interaction_T1_13           The clothes.  \n",
       "Interaction_T1_14           The clothes.  \n",
       "Interaction_T1_31           The clothes.  \n",
       "Interaction_T1_32              The shoe.  \n",
       "Interaction_T1_40    The closet/cabinet.  \n",
       "...                                  ...  \n",
       "Feasibility_T6_1453      Wash the table.  \n",
       "Feasibility_T6_1454      Take the towel.  \n",
       "Feasibility_T6_1455      Wash the table.  \n",
       "Feasibility_T6_1456      Wash the table.  \n",
       "Feasibility_T6_1468       Hold the food.  \n",
       "\n",
       "[7098 rows x 4 columns]"
      ]
     },
     "execution_count": 103,
     "metadata": {},
     "output_type": "execute_result"
    }
   ],
   "source": [
    "ground_truth = []\n",
    "\n",
    "with open('../data/datasets/STAR_QA_and_stsg_val.json') as f:\n",
    "    data = json.load(f)\n",
    "    ground_truth = [{\n",
    "        'id': sample['question_id'],\n",
    "        'question': sample['question'],\n",
    "        'choices': sample['choices'],\n",
    "        'num': sample['answer'],\n",
    "        'text': sample['choices'][str(sample['answer'])]\n",
    "    } for sample in data]\n",
    "\n",
    "\n",
    "# we keep num as str so we can directrly access choices dictionaries\n",
    "gt_df = pd.DataFrame(ground_truth).astype({'id': 'string', 'num': 'string', 'text': 'string'})\n",
    "gt_df.set_index('id', inplace=True)\n",
    "gt_df\n"
   ]
  },
  {
   "cell_type": "code",
   "execution_count": 104,
   "metadata": {},
   "outputs": [
    {
     "data": {
      "text/html": [
       "<div>\n",
       "<style scoped>\n",
       "    .dataframe tbody tr th:only-of-type {\n",
       "        vertical-align: middle;\n",
       "    }\n",
       "\n",
       "    .dataframe tbody tr th {\n",
       "        vertical-align: top;\n",
       "    }\n",
       "\n",
       "    .dataframe thead th {\n",
       "        text-align: right;\n",
       "    }\n",
       "</style>\n",
       "<table border=\"1\" class=\"dataframe\">\n",
       "  <thead>\n",
       "    <tr style=\"text-align: right;\">\n",
       "      <th></th>\n",
       "      <th>text</th>\n",
       "    </tr>\n",
       "    <tr>\n",
       "      <th>id</th>\n",
       "      <th></th>\n",
       "    </tr>\n",
       "  </thead>\n",
       "  <tbody>\n",
       "    <tr>\n",
       "      <th>Interaction_T1_13</th>\n",
       "      <td>The clothes.</td>\n",
       "    </tr>\n",
       "    <tr>\n",
       "      <th>Interaction_T1_14</th>\n",
       "      <td>The clothes.</td>\n",
       "    </tr>\n",
       "    <tr>\n",
       "      <th>Interaction_T1_31</th>\n",
       "      <td>&lt;NA&gt;</td>\n",
       "    </tr>\n",
       "    <tr>\n",
       "      <th>Interaction_T1_32</th>\n",
       "      <td>The shoe.</td>\n",
       "    </tr>\n",
       "    <tr>\n",
       "      <th>Interaction_T1_40</th>\n",
       "      <td>The blanket.</td>\n",
       "    </tr>\n",
       "    <tr>\n",
       "      <th>...</th>\n",
       "      <td>...</td>\n",
       "    </tr>\n",
       "    <tr>\n",
       "      <th>Feasibility_T6_1453</th>\n",
       "      <td>Wash the table.</td>\n",
       "    </tr>\n",
       "    <tr>\n",
       "      <th>Feasibility_T6_1454</th>\n",
       "      <td>Wipe the table.</td>\n",
       "    </tr>\n",
       "    <tr>\n",
       "      <th>Feasibility_T6_1455</th>\n",
       "      <td>Take the shoe.</td>\n",
       "    </tr>\n",
       "    <tr>\n",
       "      <th>Feasibility_T6_1456</th>\n",
       "      <td>Open the closet/cabinet.</td>\n",
       "    </tr>\n",
       "    <tr>\n",
       "      <th>Feasibility_T6_1468</th>\n",
       "      <td>Hold the food.</td>\n",
       "    </tr>\n",
       "  </tbody>\n",
       "</table>\n",
       "<p>7098 rows × 1 columns</p>\n",
       "</div>"
      ],
      "text/plain": [
       "                                         text\n",
       "id                                           \n",
       "Interaction_T1_13                The clothes.\n",
       "Interaction_T1_14                The clothes.\n",
       "Interaction_T1_31                        <NA>\n",
       "Interaction_T1_32                   The shoe.\n",
       "Interaction_T1_40                The blanket.\n",
       "...                                       ...\n",
       "Feasibility_T6_1453           Wash the table.\n",
       "Feasibility_T6_1454           Wipe the table.\n",
       "Feasibility_T6_1455            Take the shoe.\n",
       "Feasibility_T6_1456  Open the closet/cabinet.\n",
       "Feasibility_T6_1468            Hold the food.\n",
       "\n",
       "[7098 rows x 1 columns]"
      ]
     },
     "execution_count": 104,
     "metadata": {},
     "output_type": "execute_result"
    }
   ],
   "source": [
    "predictions = []\n",
    "with open('../outputs/responses_llama3.2_20250210_20:17:23.jsonl') as f:\n",
    "    predictions = [json.loads(line) for line in f.readlines()]\n",
    "\n",
    "# transforming the id key from `qid` to `id` for consistency and `response` to `answer`\n",
    "predictions_df = pd.DataFrame(predictions, dtype='string').rename(columns={'qid':'id'})\n",
    "predictions_df.set_index('id', inplace=True)\n",
    "predictions_df\n",
    "\n",
    "ans_regex_pattern = r'A:\\s*(?:\\d\\.)?\\s*((?:\\w+(?:\\s|\\/)?){,10}\\.)'\n",
    "\n",
    "ans_df = predictions_df['response'].str.extract(ans_regex_pattern)\n",
    "ans_df.rename(columns={0: 'text'}, inplace=True)\n",
    "\n",
    "ans_df['text'] = ans_df['text'].str.strip()\n",
    "contains_ans_mask = ans_df.notna()\n",
    "ans_df = ans_df[contains_ans_mask]\n",
    "ans_df\n"
   ]
  },
  {
   "cell_type": "code",
   "execution_count": 105,
   "metadata": {},
   "outputs": [],
   "source": [
    "exact_match_pred = (ans_df['text'] == gt_df[contains_ans_mask]['text'])\n"
   ]
  },
  {
   "cell_type": "markdown",
   "metadata": {},
   "source": [
    "## Loading the the Judge evaluation\n",
    "\n",
    "Now we load the judge evaluation on the responses of the perdictor model. The set of responses are saved in two different files. `llama8b_as_judge_wrong.jsonl` contains the responses that were classified as incorrect by the method with the method extraction, `llama8b_as_judge_correct.jsonl` contains the responses classified as correct.  \n",
    "These two files contains only the responses for which it was able to extract an answer with the regex."
   ]
  },
  {
   "cell_type": "code",
   "execution_count": 107,
   "metadata": {},
   "outputs": [
    {
     "data": {
      "text/html": [
       "<div>\n",
       "<style scoped>\n",
       "    .dataframe tbody tr th:only-of-type {\n",
       "        vertical-align: middle;\n",
       "    }\n",
       "\n",
       "    .dataframe tbody tr th {\n",
       "        vertical-align: top;\n",
       "    }\n",
       "\n",
       "    .dataframe thead th {\n",
       "        text-align: right;\n",
       "    }\n",
       "</style>\n",
       "<table border=\"1\" class=\"dataframe\">\n",
       "  <thead>\n",
       "    <tr style=\"text-align: right;\">\n",
       "      <th></th>\n",
       "      <th>pred</th>\n",
       "      <th>score</th>\n",
       "      <th>reason</th>\n",
       "    </tr>\n",
       "    <tr>\n",
       "      <th>id</th>\n",
       "      <th></th>\n",
       "      <th></th>\n",
       "      <th></th>\n",
       "    </tr>\n",
       "  </thead>\n",
       "  <tbody>\n",
       "    <tr>\n",
       "      <th>Interaction_T1_13</th>\n",
       "      <td>correct</td>\n",
       "      <td>5.0</td>\n",
       "      <td>The predicted answer matches the ground truth ...</td>\n",
       "    </tr>\n",
       "    <tr>\n",
       "      <th>Interaction_T1_14</th>\n",
       "      <td>correct</td>\n",
       "      <td>5.0</td>\n",
       "      <td>The predicted answer matches the ground truth ...</td>\n",
       "    </tr>\n",
       "    <tr>\n",
       "      <th>Interaction_T1_31</th>\n",
       "      <td>&lt;NA&gt;</td>\n",
       "      <td>NaN</td>\n",
       "      <td>&lt;NA&gt;</td>\n",
       "    </tr>\n",
       "    <tr>\n",
       "      <th>Interaction_T1_32</th>\n",
       "      <td>correct</td>\n",
       "      <td>5.0</td>\n",
       "      <td>The predicted answer accurately identifies the...</td>\n",
       "    </tr>\n",
       "    <tr>\n",
       "      <th>Interaction_T1_40</th>\n",
       "      <td>incorrect</td>\n",
       "      <td>2.0</td>\n",
       "      <td>The predicted answer is incorrect because it s...</td>\n",
       "    </tr>\n",
       "    <tr>\n",
       "      <th>...</th>\n",
       "      <td>...</td>\n",
       "      <td>...</td>\n",
       "      <td>...</td>\n",
       "    </tr>\n",
       "    <tr>\n",
       "      <th>Feasibility_T6_1453</th>\n",
       "      <td>incorrect</td>\n",
       "      <td>2.0</td>\n",
       "      <td>The predicted answer is close but not entirely...</td>\n",
       "    </tr>\n",
       "    <tr>\n",
       "      <th>Feasibility_T6_1454</th>\n",
       "      <td>incorrect</td>\n",
       "      <td>2.0</td>\n",
       "      <td>The predicted answer is wiping the table (acti...</td>\n",
       "    </tr>\n",
       "    <tr>\n",
       "      <th>Feasibility_T6_1455</th>\n",
       "      <td>incorrect</td>\n",
       "      <td>2.0</td>\n",
       "      <td>The predicted answer 'Take the shoe' does not ...</td>\n",
       "    </tr>\n",
       "    <tr>\n",
       "      <th>Feasibility_T6_1456</th>\n",
       "      <td>incorrect</td>\n",
       "      <td>2.0</td>\n",
       "      <td>The predicted answer does not match the ground...</td>\n",
       "    </tr>\n",
       "    <tr>\n",
       "      <th>Feasibility_T6_1468</th>\n",
       "      <td>correct</td>\n",
       "      <td>5.0</td>\n",
       "      <td>The predicted answer accurately reflects the s...</td>\n",
       "    </tr>\n",
       "  </tbody>\n",
       "</table>\n",
       "<p>7098 rows × 3 columns</p>\n",
       "</div>"
      ],
      "text/plain": [
       "                          pred  score  \\\n",
       "id                                      \n",
       "Interaction_T1_13      correct    5.0   \n",
       "Interaction_T1_14      correct    5.0   \n",
       "Interaction_T1_31         <NA>    NaN   \n",
       "Interaction_T1_32      correct    5.0   \n",
       "Interaction_T1_40    incorrect    2.0   \n",
       "...                        ...    ...   \n",
       "Feasibility_T6_1453  incorrect    2.0   \n",
       "Feasibility_T6_1454  incorrect    2.0   \n",
       "Feasibility_T6_1455  incorrect    2.0   \n",
       "Feasibility_T6_1456  incorrect    2.0   \n",
       "Feasibility_T6_1468    correct    5.0   \n",
       "\n",
       "                                                                reason  \n",
       "id                                                                      \n",
       "Interaction_T1_13    The predicted answer matches the ground truth ...  \n",
       "Interaction_T1_14    The predicted answer matches the ground truth ...  \n",
       "Interaction_T1_31                                                 <NA>  \n",
       "Interaction_T1_32    The predicted answer accurately identifies the...  \n",
       "Interaction_T1_40    The predicted answer is incorrect because it s...  \n",
       "...                                                                ...  \n",
       "Feasibility_T6_1453  The predicted answer is close but not entirely...  \n",
       "Feasibility_T6_1454  The predicted answer is wiping the table (acti...  \n",
       "Feasibility_T6_1455  The predicted answer 'Take the shoe' does not ...  \n",
       "Feasibility_T6_1456  The predicted answer does not match the ground...  \n",
       "Feasibility_T6_1468  The predicted answer accurately reflects the s...  \n",
       "\n",
       "[7098 rows x 3 columns]"
      ]
     },
     "execution_count": 107,
     "metadata": {},
     "output_type": "execute_result"
    }
   ],
   "source": [
    "# Load the scores for the wrong answers\n",
    "predictions_incorrect = []\n",
    "with open('../outputs/llama8b_as_judge_wrong.jsonl') as f:\n",
    "    predictions_incorrect = [json.loads(line) for line in f.readlines()]\n",
    "\n",
    "# Load the scores for the correct answers\n",
    "predictions_correct = []\n",
    "with open('../outputs/llama8b_as_judge_correct.jsonl') as f:\n",
    "    predictions_correct = [json.loads(line) for line in f.readlines()]\n",
    "\n",
    "predictions = predictions_incorrect + predictions_correct\n",
    "\n",
    "# Extract pred, score and reason from response dictionary into separate columns\n",
    "judge_pred_df = pd.DataFrame(predictions).rename(columns={'qid':'id'})\n",
    "judge_pred_df['pred'] = \\\n",
    "    judge_pred_df['response'] \\\n",
    "    .apply(lambda x: eval(x)['pred']) \\\n",
    "    .astype('string') \n",
    "\n",
    "judge_pred_df['score'] = \\\n",
    "    judge_pred_df['response'] \\\n",
    "    .apply(lambda x: int(eval(x)['score'])) \\\n",
    "    .astype('int32')\n",
    "\n",
    "judge_pred_df['reason'] = \\\n",
    "    judge_pred_df['response'] \\\n",
    "    .apply(lambda x: eval(x)['reason']) \\\n",
    "    .astype('string')\n",
    "\n",
    "judge_pred_df.drop('response', axis=1, inplace=True)\n",
    "judge_pred_df.set_index('id', inplace=True)\n",
    "judge_pred_df = judge_pred_df.reindex(index=exact_match_pred.index,)\n",
    "judge_pred_df\n"
   ]
  },
  {
   "cell_type": "code",
   "execution_count": 108,
   "metadata": {},
   "outputs": [
    {
     "name": "stdout",
     "output_type": "stream",
     "text": [
      "<class 'pandas.core.frame.DataFrame'>\n",
      "Index: 7098 entries, Interaction_T1_13 to Feasibility_T6_1468\n",
      "Data columns (total 3 columns):\n",
      " #   Column  Non-Null Count  Dtype  \n",
      "---  ------  --------------  -----  \n",
      " 0   pred    6900 non-null   string \n",
      " 1   score   6900 non-null   float64\n",
      " 2   reason  6900 non-null   string \n",
      "dtypes: float64(1), string(2)\n",
      "memory usage: 221.8 KB\n"
     ]
    }
   ],
   "source": [
    "judge_pred_df.info()\n"
   ]
  },
  {
   "cell_type": "code",
   "execution_count": 110,
   "metadata": {},
   "outputs": [
    {
     "data": {
      "text/html": [
       "<div>\n",
       "<style scoped>\n",
       "    .dataframe tbody tr th:only-of-type {\n",
       "        vertical-align: middle;\n",
       "    }\n",
       "\n",
       "    .dataframe tbody tr th {\n",
       "        vertical-align: top;\n",
       "    }\n",
       "\n",
       "    .dataframe thead th {\n",
       "        text-align: right;\n",
       "    }\n",
       "</style>\n",
       "<table border=\"1\" class=\"dataframe\">\n",
       "  <thead>\n",
       "    <tr style=\"text-align: right;\">\n",
       "      <th></th>\n",
       "      <th>pred</th>\n",
       "      <th>score</th>\n",
       "      <th>reason</th>\n",
       "    </tr>\n",
       "    <tr>\n",
       "      <th>id</th>\n",
       "      <th></th>\n",
       "      <th></th>\n",
       "      <th></th>\n",
       "    </tr>\n",
       "  </thead>\n",
       "  <tbody>\n",
       "    <tr>\n",
       "      <th>Interaction_T1_13</th>\n",
       "      <td>correct</td>\n",
       "      <td>5.0</td>\n",
       "      <td>The predicted answer matches the ground truth ...</td>\n",
       "    </tr>\n",
       "    <tr>\n",
       "      <th>Interaction_T1_14</th>\n",
       "      <td>correct</td>\n",
       "      <td>5.0</td>\n",
       "      <td>The predicted answer matches the ground truth ...</td>\n",
       "    </tr>\n",
       "    <tr>\n",
       "      <th>Interaction_T1_31</th>\n",
       "      <td>&lt;NA&gt;</td>\n",
       "      <td>NaN</td>\n",
       "      <td>&lt;NA&gt;</td>\n",
       "    </tr>\n",
       "    <tr>\n",
       "      <th>Interaction_T1_32</th>\n",
       "      <td>correct</td>\n",
       "      <td>5.0</td>\n",
       "      <td>The predicted answer accurately identifies the...</td>\n",
       "    </tr>\n",
       "    <tr>\n",
       "      <th>Interaction_T1_40</th>\n",
       "      <td>incorrect</td>\n",
       "      <td>2.0</td>\n",
       "      <td>The predicted answer is incorrect because it s...</td>\n",
       "    </tr>\n",
       "    <tr>\n",
       "      <th>...</th>\n",
       "      <td>...</td>\n",
       "      <td>...</td>\n",
       "      <td>...</td>\n",
       "    </tr>\n",
       "    <tr>\n",
       "      <th>Feasibility_T6_1453</th>\n",
       "      <td>incorrect</td>\n",
       "      <td>2.0</td>\n",
       "      <td>The predicted answer is close but not entirely...</td>\n",
       "    </tr>\n",
       "    <tr>\n",
       "      <th>Feasibility_T6_1454</th>\n",
       "      <td>incorrect</td>\n",
       "      <td>2.0</td>\n",
       "      <td>The predicted answer is wiping the table (acti...</td>\n",
       "    </tr>\n",
       "    <tr>\n",
       "      <th>Feasibility_T6_1455</th>\n",
       "      <td>incorrect</td>\n",
       "      <td>2.0</td>\n",
       "      <td>The predicted answer 'Take the shoe' does not ...</td>\n",
       "    </tr>\n",
       "    <tr>\n",
       "      <th>Feasibility_T6_1456</th>\n",
       "      <td>incorrect</td>\n",
       "      <td>2.0</td>\n",
       "      <td>The predicted answer does not match the ground...</td>\n",
       "    </tr>\n",
       "    <tr>\n",
       "      <th>Feasibility_T6_1468</th>\n",
       "      <td>correct</td>\n",
       "      <td>5.0</td>\n",
       "      <td>The predicted answer accurately reflects the s...</td>\n",
       "    </tr>\n",
       "  </tbody>\n",
       "</table>\n",
       "<p>7098 rows × 3 columns</p>\n",
       "</div>"
      ],
      "text/plain": [
       "                          pred  score  \\\n",
       "id                                      \n",
       "Interaction_T1_13      correct    5.0   \n",
       "Interaction_T1_14      correct    5.0   \n",
       "Interaction_T1_31         <NA>    NaN   \n",
       "Interaction_T1_32      correct    5.0   \n",
       "Interaction_T1_40    incorrect    2.0   \n",
       "...                        ...    ...   \n",
       "Feasibility_T6_1453  incorrect    2.0   \n",
       "Feasibility_T6_1454  incorrect    2.0   \n",
       "Feasibility_T6_1455  incorrect    2.0   \n",
       "Feasibility_T6_1456  incorrect    2.0   \n",
       "Feasibility_T6_1468    correct    5.0   \n",
       "\n",
       "                                                                reason  \n",
       "id                                                                      \n",
       "Interaction_T1_13    The predicted answer matches the ground truth ...  \n",
       "Interaction_T1_14    The predicted answer matches the ground truth ...  \n",
       "Interaction_T1_31                                                 <NA>  \n",
       "Interaction_T1_32    The predicted answer accurately identifies the...  \n",
       "Interaction_T1_40    The predicted answer is incorrect because it s...  \n",
       "...                                                                ...  \n",
       "Feasibility_T6_1453  The predicted answer is close but not entirely...  \n",
       "Feasibility_T6_1454  The predicted answer is wiping the table (acti...  \n",
       "Feasibility_T6_1455  The predicted answer 'Take the shoe' does not ...  \n",
       "Feasibility_T6_1456  The predicted answer does not match the ground...  \n",
       "Feasibility_T6_1468  The predicted answer accurately reflects the s...  \n",
       "\n",
       "[7098 rows x 3 columns]"
      ]
     },
     "execution_count": 110,
     "metadata": {},
     "output_type": "execute_result"
    }
   ],
   "source": [
    "judge_pred_df\n"
   ]
  },
  {
   "cell_type": "markdown",
   "metadata": {},
   "source": [
    "## Evlaution on the answers originally marked as wrong"
   ]
  },
  {
   "cell_type": "code",
   "execution_count": 111,
   "metadata": {},
   "outputs": [
    {
     "name": "stdout",
     "output_type": "stream",
     "text": [
      "\n",
      "Predictions:\n",
      "------------------------------\n",
      "incorrect :  95.65%\n",
      "correct   :   4.35%\n",
      "------------------------------\n"
     ]
    }
   ],
   "source": [
    "pred_percentages = judge_pred_df[~exact_match_pred]['pred'].value_counts(normalize=True) * 100\n",
    "\n",
    "print(\"\\nPredictions:\")\n",
    "print(\"-\" * 30)\n",
    "print(f\"{'incorrect':10}: {pred_percentages['incorrect']:6.2f}%\\n\"\n",
    "      f\"{'correct':10}: {pred_percentages['correct']:6.2f}%\")\n",
    "print(\"-\" * 30)\n"
   ]
  },
  {
   "cell_type": "markdown",
   "metadata": {},
   "source": [
    "An interesting metric, on 95% of the cases the model is concording with the deterministic classification of the answer regex extraction method"
   ]
  },
  {
   "cell_type": "markdown",
   "metadata": {},
   "source": [
    "Let's analyze some of the answers"
   ]
  },
  {
   "cell_type": "code",
   "execution_count": 121,
   "metadata": {},
   "outputs": [
    {
     "name": "stdout",
     "output_type": "stream",
     "text": [
      "Index: Interaction_T1_375\n",
      "Question: Which object was taken by the person?\n",
      "Ground truth answer: The blanket.\n",
      "Extracted answer: The clothes.\n",
      "\n",
      "Original answer:\n",
      "\n",
      "<Reasoning>\n",
      "The question asks which object was taken by the person. To answer this, we need to look for a Scene-Graph that contains the relationship \"holding\" between the person and another object.\n",
      "\n",
      "Upon examining the Spatio-Temporal Scene-Graphs in chronological order, I notice that the first Scene-Graph contains the relationship \"holding - clothes\". This suggests that the person is holding the clothes. However, we need to consider if this is the only instance where the person is taking an object.\n",
      "\n",
      "Looking at the subsequent Scene-Graphs, I see that the pattern of the person holding the clothes continues throughout the sequence. There are no other instances where the person is seen holding another object, such as the phone, food, or towel.\n",
      "\n",
      "Therefore, based on the information provided in the Spatio-Temporal Scene-Graphs, it appears that the object being taken by the person is indeed the clothes.\n",
      "\n",
      "A: 2. The clothes.\n",
      "\n",
      "Judge evlauation:\n",
      " - verdict: correct\n",
      " - score: 5.0\n",
      " - reason: The predicted answer matches the ground truth exactly, and the reasoning provided is accurate and thorough\n",
      "\n"
     ]
    }
   ],
   "source": [
    "idx = 'Interaction_T1_375'\n",
    "\n",
    "\n",
    "print(f\"Index: {idx}\")\n",
    "print(f\"Question: {gt_df.loc[idx]['question']}\")\n",
    "print(f\"Ground truth answer: {gt_df.loc[idx]['text']}\")\n",
    "print(f\"Extracted answer: {ans_df.loc[idx]['text']}\")\n",
    "print(f\"\\nOriginal answer:\\n\\n{predictions_df.loc[idx]['response']}\")\n",
    "print(f\"\\nJudge evlauation:\\n\"\n",
    "      f\" - verdict: {judge_pred_df.loc[idx]['pred']}\\n\"\n",
    "      f\" - score: {judge_pred_df.loc[idx]['score']}\\n\"\n",
    "      f\" - reason: {judge_pred_df.loc[idx]['reason']}\\n\")\n"
   ]
  },
  {
   "cell_type": "markdown",
   "metadata": {},
   "source": [
    "The model seems confident that the predicted answer mathces the ground truth but as we can see above this is not true.  \n",
    "Can it be an error in the prompt? Or did the judge llm *\"hallucinate\"*?"
   ]
  },
  {
   "cell_type": "code",
   "execution_count": null,
   "metadata": {},
   "outputs": [
    {
     "data": {
      "text/html": [
       "<div>\n",
       "<style scoped>\n",
       "    .dataframe tbody tr th:only-of-type {\n",
       "        vertical-align: middle;\n",
       "    }\n",
       "\n",
       "    .dataframe tbody tr th {\n",
       "        vertical-align: top;\n",
       "    }\n",
       "\n",
       "    .dataframe thead th {\n",
       "        text-align: right;\n",
       "    }\n",
       "</style>\n",
       "<table border=\"1\" class=\"dataframe\">\n",
       "  <thead>\n",
       "    <tr style=\"text-align: right;\">\n",
       "      <th></th>\n",
       "      <th>prompt</th>\n",
       "    </tr>\n",
       "    <tr>\n",
       "      <th>id</th>\n",
       "      <th></th>\n",
       "    </tr>\n",
       "  </thead>\n",
       "  <tbody>\n",
       "    <tr>\n",
       "      <th>Interaction_T1_13</th>\n",
       "      <td>Please evaluate the following question-answer ...</td>\n",
       "    </tr>\n",
       "    <tr>\n",
       "      <th>Interaction_T1_14</th>\n",
       "      <td>Please evaluate the following question-answer ...</td>\n",
       "    </tr>\n",
       "    <tr>\n",
       "      <th>Interaction_T1_31</th>\n",
       "      <td>Please evaluate the following question-answer ...</td>\n",
       "    </tr>\n",
       "    <tr>\n",
       "      <th>Interaction_T1_32</th>\n",
       "      <td>Please evaluate the following question-answer ...</td>\n",
       "    </tr>\n",
       "    <tr>\n",
       "      <th>Interaction_T1_40</th>\n",
       "      <td>Please evaluate the following question-answer ...</td>\n",
       "    </tr>\n",
       "    <tr>\n",
       "      <th>...</th>\n",
       "      <td>...</td>\n",
       "    </tr>\n",
       "    <tr>\n",
       "      <th>Feasibility_T6_1453</th>\n",
       "      <td>Please evaluate the following question-answer ...</td>\n",
       "    </tr>\n",
       "    <tr>\n",
       "      <th>Feasibility_T6_1454</th>\n",
       "      <td>Please evaluate the following question-answer ...</td>\n",
       "    </tr>\n",
       "    <tr>\n",
       "      <th>Feasibility_T6_1455</th>\n",
       "      <td>Please evaluate the following question-answer ...</td>\n",
       "    </tr>\n",
       "    <tr>\n",
       "      <th>Feasibility_T6_1456</th>\n",
       "      <td>Please evaluate the following question-answer ...</td>\n",
       "    </tr>\n",
       "    <tr>\n",
       "      <th>Feasibility_T6_1468</th>\n",
       "      <td>Please evaluate the following question-answer ...</td>\n",
       "    </tr>\n",
       "  </tbody>\n",
       "</table>\n",
       "<p>7098 rows × 1 columns</p>\n",
       "</div>"
      ],
      "text/plain": [
       "                                                                prompt\n",
       "id                                                                    \n",
       "Interaction_T1_13    Please evaluate the following question-answer ...\n",
       "Interaction_T1_14    Please evaluate the following question-answer ...\n",
       "Interaction_T1_31    Please evaluate the following question-answer ...\n",
       "Interaction_T1_32    Please evaluate the following question-answer ...\n",
       "Interaction_T1_40    Please evaluate the following question-answer ...\n",
       "...                                                                ...\n",
       "Feasibility_T6_1453  Please evaluate the following question-answer ...\n",
       "Feasibility_T6_1454  Please evaluate the following question-answer ...\n",
       "Feasibility_T6_1455  Please evaluate the following question-answer ...\n",
       "Feasibility_T6_1456  Please evaluate the following question-answer ...\n",
       "Feasibility_T6_1468  Please evaluate the following question-answer ...\n",
       "\n",
       "[7098 rows x 1 columns]"
      ]
     },
     "execution_count": 10,
     "metadata": {},
     "output_type": "execute_result"
    }
   ],
   "source": [
    "prompts = []\n",
    "with open('../data/llama3b_judged_prompts.jsonl') as f:\n",
    "    prompts = [json.loads(line) for line in f.readlines()]\n",
    "\n",
    "prompts_df = pd.DataFrame(prompts)\n",
    "prompts_df.rename(columns={'qid': 'id'}, inplace=True)\n",
    "prompts_df.set_index('id', inplace=True)\n",
    "prompts_df\n"
   ]
  },
  {
   "cell_type": "code",
   "execution_count": 11,
   "metadata": {},
   "outputs": [
    {
     "name": "stdout",
     "output_type": "stream",
     "text": [
      "Please evaluate the following question-answer pair:\n",
      "Question: Which object was taken by the person?\n",
      "\n",
      "Ground truth correct Answer: \n",
      "[START ANSWER]\n",
      "The blanket.\n",
      "[END ANSWER]\n",
      "\n",
      "Predicted Answer:\n",
      "[START PREDICTION]\n",
      "<Reasoning>\n",
      "The question asks which object was taken by the person. To answer this, we need to look for a Scene-Graph that contains the relationship \"holding\" between the person and another object.\n",
      "\n",
      "Upon examining the Spatio-Temporal Scene-Graphs in chronological order, I notice that the first Scene-Graph contains the relationship \"holding - clothes\". This suggests that the person is holding the clothes. However, we need to consider if this is the only instance where the person is taking an object.\n",
      "\n",
      "Looking at the subsequent Scene-Graphs, I see that the pattern of the person holding the clothes continues throughout the sequence. There are no other instances where the person is seen holding another object, such as the phone, food, or towel.\n",
      "\n",
      "Therefore, based on the information provided in the Spatio-Temporal Scene-Graphs, it appears that the object being taken by the person is indeed the clothes.\n",
      "\n",
      "A: 2. The clothes.\n",
      "[END Prediction]\n",
      "\n",
      "Provide your evaluation as a correct/incorrect prediction along with the score where the score is an\n",
      "integer value between 0 (fully wrong) and 5 (fully correct). The middle score provides the percentage of\n",
      "correctness.\n",
      "Please generate the response in the form of a Python dictionary string with keys 'pred', 'score' and\n",
      "'reason', where value of 'pred' is a string of 'correct' or 'incorrect', value of 'score' is in INTEGER, not STRING\n",
      "and value of 'reason' should provide the reason behind the decision.\n",
      "Only provide the Python dictionary string.\n",
      "For example, your response should look like this: {'pred': 'correct', 'score': 4, 'reason': reason}.\n"
     ]
    }
   ],
   "source": [
    "print(prompts_df.loc[idx]['prompt'])\n"
   ]
  },
  {
   "cell_type": "markdown",
   "metadata": {},
   "source": [
    "As we can see above, the prompt reported the ground truth accurately, thus is the model that missed completely the prediction."
   ]
  },
  {
   "cell_type": "markdown",
   "metadata": {},
   "source": [
    "Let's inspect more samples..."
   ]
  },
  {
   "cell_type": "code",
   "execution_count": 135,
   "metadata": {},
   "outputs": [
    {
     "name": "stdout",
     "output_type": "stream",
     "text": [
      "Index: Prediction_T3_819\n",
      "Question: Which object would the person take next?\n",
      "Ground truth answer: The shoe.\n",
      "Extracted answer: The clothes.\n",
      "\n",
      "Original answer:\n",
      "\n",
      "<Reasoning>\n",
      "To determine which object the person would take next, we need to analyze the sequence of events unfolding in the video. The Scene-Graphs represent the static symbolic representation of the scene at each frame.\n",
      "\n",
      "From the given Spatio-Temporal Scene-Graphs, we can see that the person is initially lying on the sofa/couch and then gets up to touch the sofa/couch. After that, they sit down on the sofa/couch again. The next event in the sequence is that the person touches the sofa/couch while sitting on it.\n",
      "\n",
      "However, there is no direct mention of the person picking up an object after touching the sofa/couch. But we can see that the person is holding a shoe and has it in front of them. This suggests that the person might be preparing to take the shoe next.\n",
      "\n",
      "Therefore, based on this analysis, I would choose:\n",
      "\n",
      "A: 2. The clothes.\n",
      " \n",
      "However, upon re-examining my previous response, I realize that I made an incorrect assumption about the sequence of events. Given the correct interpretation of the Scene-Graphs, it is more likely that the person will take the shoe next.\n",
      "\n",
      "A: 2. The shoe.\n",
      "\n",
      "Judge evlauation:\n",
      " - verdict: correct\n",
      " - score: 5.0\n",
      " - reason: The predicted answer matches the ground truth answer The analysis provided in the prediction is accurate and correctly identifies the shoe as the next object to be taken\n",
      "\n"
     ]
    }
   ],
   "source": [
    "judged_correct_mask = (judge_pred_df[~exact_match_pred]['pred'] == 'correct')\n",
    "idx = random.choice(judged_correct_mask[judged_correct_mask].index)\n",
    "\n",
    "\n",
    "print(f\"Index: {idx}\")\n",
    "print(f\"Question: {gt_df.loc[idx]['question']}\")\n",
    "print(f\"Ground truth answer: {gt_df.loc[idx]['text']}\")\n",
    "print(f\"Extracted answer: {ans_df.loc[idx]['text']}\")\n",
    "print(f\"\\nOriginal answer:\\n\\n{predictions_df.loc[idx]['response']}\")\n",
    "print(f\"\\nJudge evlauation:\\n\"\n",
    "      f\" - verdict: {judge_pred_df.loc[idx]['pred']}\\n\"\n",
    "      f\" - score: {judge_pred_df.loc[idx]['score']}\\n\"\n",
    "      f\" - reason: {judge_pred_df.loc[idx]['reason']}\\n\")\n"
   ]
  },
  {
   "cell_type": "markdown",
   "metadata": {},
   "source": [
    "After manual inspecting 20 randomly selected samples from those for which the LLM decision differs from the predection obtained with the regex extraction method, I have found that both fail to some degree, therfore for samples the LLM judgment is correct meaning that the sample is wrongly misclassified by the answer extraction method. In other cases, however, the judge LLM wrongly classifies the prediction of the predictor LLM as correct even tough it does not match the ground truth.\n",
    "\n",
    "TODO: Try moving the ground truth part in the system part, pervious experiments have shown that the LLM tends to follow what is in the system prompt more strictly."
   ]
  },
  {
   "cell_type": "code",
   "execution_count": 128,
   "metadata": {},
   "outputs": [],
   "source": [
    "actually_correct = [\n",
    "'Prediction_T3_819', \n",
    "'Sequence_T5_2830', \n",
    "'Sequence_T3_5266', \n",
    "'Interaction_T1_2063', \n",
    "'Sequence_T2_1682', \n",
    "'Sequence_T1_3189', \n",
    "'Sequence_T4_2776', \n",
    "'Interaction_T2_3880', \n",
    "'Sequence_T1_3074', \n",
    "'Sequence_T2_51', \n",
    "'Sequence_T3_1340'\n",
    "]\n",
    "\n",
    "actually_wrong = [\n",
    "'Sequence_T3_96',\n",
    "'Sequence_T6_3840',\n",
    "'Prediction_T2_1112',\n",
    "'Prediction_T2_476',\n",
    "'Prediction_T4_1644',\n",
    "'Interaction_T2_2489',\n",
    "'Sequence_T4_3651',\n",
    "'Interaction_T2_2623',\n",
    "'Sequence_T3_3359'\n",
    "]\n"
   ]
  },
  {
   "cell_type": "markdown",
   "metadata": {},
   "source": [
    "### Distribution of confidence score"
   ]
  },
  {
   "cell_type": "code",
   "execution_count": 129,
   "metadata": {},
   "outputs": [
    {
     "data": {
      "image/png": "[encoded data removed]",
      "text/plain": [
       "<Figure size 800x600 with 1 Axes>"
      ]
     },
     "metadata": {},
     "output_type": "display_data"
    }
   ],
   "source": [
    "# Let's see the score distribution for all the predictions\n",
    "\n",
    "plt.figure(figsize=(8, 6))\n",
    "sns.histplot(data=judge_pred_df['score'], discrete=True)\n",
    "plt.title('Distribution of Judge Scores')\n",
    "plt.xlabel('Score')\n",
    "plt.ylabel('Count')\n",
    "plt.show()\n"
   ]
  },
  {
   "cell_type": "code",
   "execution_count": 133,
   "metadata": {},
   "outputs": [
    {
     "data": {
      "image/png": "[encoded data removed]",
      "text/plain": [
       "<Figure size 800x600 with 1 Axes>"
      ]
     },
     "metadata": {},
     "output_type": "display_data"
    }
   ],
   "source": [
    "# Now the score distribution for the prediction which the judge considers as correct answer\n",
    "\n",
    "plt.figure(figsize=(8, 6))\n",
    "sns.histplot(data = \\\n",
    "             judge_pred_df \\\n",
    "             .loc[~exact_match_pred] \\\n",
    "             .loc[judged_correct_mask]['score'], discrete=True, bins=6)\n",
    "plt.title('Distribution of Judge Scores')\n",
    "plt.xlabel('Score')\n",
    "plt.ylabel('Count')\n",
    "plt.xticks(range(6))\n",
    "plt.show()\n"
   ]
  },
  {
   "cell_type": "markdown",
   "metadata": {},
   "source": [
    "Not good. The LLM is very confident for these set of answers, even though we have just verified that not all them are consitent with the ground truth."
   ]
  },
  {
   "cell_type": "markdown",
   "metadata": {},
   "source": [
    "## Evaluation on the predi for the originally correct answers"
   ]
  },
  {
   "cell_type": "code",
   "execution_count": 17,
   "metadata": {},
   "outputs": [
    {
     "name": "stdout",
     "output_type": "stream",
     "text": [
      "<class 'pandas.core.frame.DataFrame'>\n",
      "Index: 3038 entries, Interaction_T1_13 to Feasibility_T6_1468\n",
      "Data columns (total 3 columns):\n",
      " #   Column  Non-Null Count  Dtype \n",
      "---  ------  --------------  ----- \n",
      " 0   pred    3038 non-null   string\n",
      " 1   score   3038 non-null   int32 \n",
      " 2   reason  3038 non-null   string\n",
      "dtypes: int32(1), string(2)\n",
      "memory usage: 83.1+ KB\n"
     ]
    }
   ],
   "source": [
    "judge_pred_df.info()\n"
   ]
  },
  {
   "cell_type": "code",
   "execution_count": null,
   "metadata": {},
   "outputs": [
    {
     "name": "stdout",
     "output_type": "stream",
     "text": [
      "\n",
      "Predictions:\n",
      "------------------------------\n",
      "incorrect :  22.28%\n",
      "correct   :  77.72%\n",
      "------------------------------\n"
     ]
    }
   ],
   "source": [
    "pred_percentages = judge_pred_df['pred'].value_counts(normalize=True) * 100\n",
    "\n",
    "print(\"\\nPredictions:\")\n",
    "print(\"-\" * 30)\n",
    "print(f\"{'incorrect':10}: {pred_percentages['incorrect']:6.2f}%\\n\"\n",
    "      f\"{'correct':10}: {pred_percentages['correct']:6.2f}%\")\n",
    "print(\"-\" * 30)\n"
   ]
  },
  {
   "cell_type": "markdown",
   "metadata": {},
   "source": [
    "An interesting metric, on 95% of the cases the model is concording with the deterministic classification of the answer regex extraction method"
   ]
  },
  {
   "cell_type": "markdown",
   "metadata": {},
   "source": [
    "Load the orignal model predictions to verify the judgement of the model."
   ]
  },
  {
   "cell_type": "code",
   "execution_count": 19,
   "metadata": {},
   "outputs": [],
   "source": [
    "original_pred = []\n",
    "with open('../data/llama3b_correct.jsonl') as f:\n",
    "    original_pred = [json.loads(line) for line in f.readlines()]\n",
    "\n",
    "original_pred_df = pd.DataFrame(original_pred).astype({'question_id': 'string', 'response': 'string'})\n",
    "original_pred_df.rename(columns={'question_id': 'id'}, inplace=True)\n",
    "original_pred_df.set_index('id', inplace=True)\n"
   ]
  },
  {
   "cell_type": "code",
   "execution_count": null,
   "metadata": {},
   "outputs": [
    {
     "data": {
      "text/html": [
       "<div>\n",
       "<style scoped>\n",
       "    .dataframe tbody tr th:only-of-type {\n",
       "        vertical-align: middle;\n",
       "    }\n",
       "\n",
       "    .dataframe tbody tr th {\n",
       "        vertical-align: top;\n",
       "    }\n",
       "\n",
       "    .dataframe thead th {\n",
       "        text-align: right;\n",
       "    }\n",
       "</style>\n",
       "<table border=\"1\" class=\"dataframe\">\n",
       "  <thead>\n",
       "    <tr style=\"text-align: right;\">\n",
       "      <th></th>\n",
       "      <th>response</th>\n",
       "    </tr>\n",
       "    <tr>\n",
       "      <th>id</th>\n",
       "      <th></th>\n",
       "    </tr>\n",
       "  </thead>\n",
       "  <tbody>\n",
       "    <tr>\n",
       "      <th>Interaction_T1_171</th>\n",
       "      <td>&lt;Reasoning&gt;\n",
       "To determine which object was put ...</td>\n",
       "    </tr>\n",
       "    <tr>\n",
       "      <th>Interaction_T1_198</th>\n",
       "      <td>&lt;Reasoning&gt;\n",
       "To answer this question, we need t...</td>\n",
       "    </tr>\n",
       "    <tr>\n",
       "      <th>Interaction_T1_226</th>\n",
       "      <td>&lt;Reasoning&gt;\n",
       "The question asks which object was...</td>\n",
       "    </tr>\n",
       "    <tr>\n",
       "      <th>Interaction_T1_298</th>\n",
       "      <td>&lt;Reasoning&gt;\n",
       "The question asks which object was...</td>\n",
       "    </tr>\n",
       "    <tr>\n",
       "      <th>Interaction_T1_460</th>\n",
       "      <td>&lt;Reasoning&gt;\n",
       "The person is performing an action...</td>\n",
       "    </tr>\n",
       "    <tr>\n",
       "      <th>...</th>\n",
       "      <td>...</td>\n",
       "    </tr>\n",
       "    <tr>\n",
       "      <th>Feasibility_T6_1090</th>\n",
       "      <td>&lt;Reasoning&gt;\n",
       "To answer this question, we need t...</td>\n",
       "    </tr>\n",
       "    <tr>\n",
       "      <th>Feasibility_T6_1275</th>\n",
       "      <td>&lt;Reasoning&gt;\n",
       "The person is initially sitting on...</td>\n",
       "    </tr>\n",
       "    <tr>\n",
       "      <th>Feasibility_T6_1298</th>\n",
       "      <td>&lt;Reasoning&gt;\n",
       "To answer this question, we need t...</td>\n",
       "    </tr>\n",
       "    <tr>\n",
       "      <th>Feasibility_T6_1304</th>\n",
       "      <td>&lt;Reasoning&gt;\n",
       "To answer this question, we need t...</td>\n",
       "    </tr>\n",
       "    <tr>\n",
       "      <th>Feasibility_T6_1453</th>\n",
       "      <td>&lt;Reasoning&gt;\n",
       "To determine what the person is ab...</td>\n",
       "    </tr>\n",
       "  </tbody>\n",
       "</table>\n",
       "<p>677 rows × 1 columns</p>\n",
       "</div>"
      ],
      "text/plain": [
       "                                                              response\n",
       "id                                                                    \n",
       "Interaction_T1_171   <Reasoning>\n",
       "To determine which object was put ...\n",
       "Interaction_T1_198   <Reasoning>\n",
       "To answer this question, we need t...\n",
       "Interaction_T1_226   <Reasoning>\n",
       "The question asks which object was...\n",
       "Interaction_T1_298   <Reasoning>\n",
       "The question asks which object was...\n",
       "Interaction_T1_460   <Reasoning>\n",
       "The person is performing an action...\n",
       "...                                                                ...\n",
       "Feasibility_T6_1090  <Reasoning>\n",
       "To answer this question, we need t...\n",
       "Feasibility_T6_1275  <Reasoning>\n",
       "The person is initially sitting on...\n",
       "Feasibility_T6_1298  <Reasoning>\n",
       "To answer this question, we need t...\n",
       "Feasibility_T6_1304  <Reasoning>\n",
       "To answer this question, we need t...\n",
       "Feasibility_T6_1453  <Reasoning>\n",
       "To determine what the person is ab...\n",
       "\n",
       "[677 rows x 1 columns]"
      ]
     },
     "execution_count": 20,
     "metadata": {},
     "output_type": "execute_result"
    }
   ],
   "source": [
    "judged_incorrect_mask = judge_pred_df['pred'] == 'incorrect'\n",
    "\n",
    "original_pred_df.loc[judged_incorrect_mask]\n"
   ]
  },
  {
   "cell_type": "markdown",
   "metadata": {},
   "source": [
    "Let's analyze some of the answers"
   ]
  },
  {
   "cell_type": "markdown",
   "metadata": {},
   "source": [
    "First we execute the usual pipeline to extract the answers with a regex."
   ]
  },
  {
   "cell_type": "code",
   "execution_count": null,
   "metadata": {},
   "outputs": [
    {
     "data": {
      "text/html": [
       "<div>\n",
       "<style scoped>\n",
       "    .dataframe tbody tr th:only-of-type {\n",
       "        vertical-align: middle;\n",
       "    }\n",
       "\n",
       "    .dataframe tbody tr th {\n",
       "        vertical-align: top;\n",
       "    }\n",
       "\n",
       "    .dataframe thead th {\n",
       "        text-align: right;\n",
       "    }\n",
       "</style>\n",
       "<table border=\"1\" class=\"dataframe\">\n",
       "  <thead>\n",
       "    <tr style=\"text-align: right;\">\n",
       "      <th></th>\n",
       "      <th>text</th>\n",
       "    </tr>\n",
       "    <tr>\n",
       "      <th>id</th>\n",
       "      <th></th>\n",
       "    </tr>\n",
       "  </thead>\n",
       "  <tbody>\n",
       "    <tr>\n",
       "      <th>Interaction_T1_13</th>\n",
       "      <td>The clothes.</td>\n",
       "    </tr>\n",
       "    <tr>\n",
       "      <th>Interaction_T1_14</th>\n",
       "      <td>The clothes.</td>\n",
       "    </tr>\n",
       "    <tr>\n",
       "      <th>Interaction_T1_32</th>\n",
       "      <td>The shoe.</td>\n",
       "    </tr>\n",
       "    <tr>\n",
       "      <th>Interaction_T1_43</th>\n",
       "      <td>The clothes.</td>\n",
       "    </tr>\n",
       "    <tr>\n",
       "      <th>Interaction_T1_81</th>\n",
       "      <td>The sofa/couch.</td>\n",
       "    </tr>\n",
       "    <tr>\n",
       "      <th>...</th>\n",
       "      <td>...</td>\n",
       "    </tr>\n",
       "    <tr>\n",
       "      <th>Feasibility_T6_1428</th>\n",
       "      <td>Take the cup/glass/bottle.</td>\n",
       "    </tr>\n",
       "    <tr>\n",
       "      <th>Feasibility_T6_1448</th>\n",
       "      <td>Put down the laptop.</td>\n",
       "    </tr>\n",
       "    <tr>\n",
       "      <th>Feasibility_T6_1449</th>\n",
       "      <td>Put down the laptop.</td>\n",
       "    </tr>\n",
       "    <tr>\n",
       "      <th>Feasibility_T6_1453</th>\n",
       "      <td>Wash the table.</td>\n",
       "    </tr>\n",
       "    <tr>\n",
       "      <th>Feasibility_T6_1468</th>\n",
       "      <td>Hold the food.</td>\n",
       "    </tr>\n",
       "  </tbody>\n",
       "</table>\n",
       "<p>3038 rows × 1 columns</p>\n",
       "</div>"
      ],
      "text/plain": [
       "                                           text\n",
       "id                                             \n",
       "Interaction_T1_13                  The clothes.\n",
       "Interaction_T1_14                  The clothes.\n",
       "Interaction_T1_32                     The shoe.\n",
       "Interaction_T1_43                  The clothes.\n",
       "Interaction_T1_81               The sofa/couch.\n",
       "...                                         ...\n",
       "Feasibility_T6_1428  Take the cup/glass/bottle.\n",
       "Feasibility_T6_1448        Put down the laptop.\n",
       "Feasibility_T6_1449        Put down the laptop.\n",
       "Feasibility_T6_1453             Wash the table.\n",
       "Feasibility_T6_1468              Hold the food.\n",
       "\n",
       "[3038 rows x 1 columns]"
      ]
     },
     "execution_count": 21,
     "metadata": {},
     "output_type": "execute_result"
    }
   ],
   "source": [
    "ans_regex_pattern = r'A:\\s*(?:\\d\\.)?\\s*((?:\\b(?:\\w\\/?)+\\s*){,10}\\.)'\n",
    "\n",
    "extracted_ans_df = original_pred_df['response'].str.extract(ans_regex_pattern)\n",
    "extracted_ans_df.rename(columns={0: 'text'}, inplace=True)\n",
    "\n",
    "extracted_ans_df['text'] = extracted_ans_df['text'].str.strip()\n",
    "extracted_ans_df\n"
   ]
  },
  {
   "cell_type": "code",
   "execution_count": 22,
   "metadata": {},
   "outputs": [
    {
     "name": "stdout",
     "output_type": "stream",
     "text": [
      "Index: Interaction_T1_171\n",
      "Question: Which object was put down by the person?\n",
      "Ground truth answer: The shoe.\n",
      "Extracted answer: The shoe.\n",
      "\n",
      "Original answer:\n",
      "\n",
      "<Reasoning>\n",
      "To determine which object was put down by the person, we need to analyze the sequence of events. The person is initially wearing a shoe and standing on the floor. As they move around, their position changes, but the shoe remains in contact with the ground.\n",
      "\n",
      "The first scene-graph shows the person wearing the shoe and standing on the floor, indicating that the shoe has not been put down yet. However, subsequent scene-graphs show the person moving towards a location where they are no longer standing on the floor, suggesting that they have placed the shoe down.\n",
      "\n",
      "In particular, Scene-Graph 2 shows the person wearing the shoe and standing on the floor, while Scene-Graph 3 shows the person wearing the shoe and standing on the ground. This implies that the person has put the shoe down at some point between these two scenes.\n",
      "\n",
      "The correct answer is therefore not explicitly stated in any of the scene-graphs, but rather implied by the sequence of events. However, based on the information provided, we can infer that the object being referred to is likely the shoe.\n",
      "\n",
      "A: 2. The shoe.\n",
      "\n",
      "Judge evlauation:\n",
      " - verdict: incorrect\n",
      " - score: 2\n",
      " - reason: The predicted answer is incorrect because it does not directly state that the shoe was put down by the person Although the reasoning provided attempts to infer this conclusion, it is still an inference and may be subject to interpretation\n",
      "\n"
     ]
    }
   ],
   "source": [
    "idx = 'Interaction_T1_171'\n",
    "\n",
    "\n",
    "print(f\"Index: {idx}\")\n",
    "print(f\"Question: {gt_df.loc[idx]['question']}\")\n",
    "print(f\"Ground truth answer: {gt_df.loc[idx]['text']}\")\n",
    "print(f\"Extracted answer: {extracted_ans_df.loc[idx]['text']}\")\n",
    "print(f\"\\nOriginal answer:\\n\\n{original_pred_df.loc[idx]['response']}\")\n",
    "print(f\"\\nJudge evlauation:\\n\"\n",
    "      f\" - verdict: {judge_pred_df.loc[idx]['pred']}\\n\"\n",
    "      f\" - score: {judge_pred_df.loc[idx]['score']}\\n\"\n",
    "      f\" - reason: {judge_pred_df.loc[idx]['reason']}\\n\")\n"
   ]
  },
  {
   "cell_type": "markdown",
   "metadata": {},
   "source": [
    "Actually the answer provided by the predictor is logic and sound, meanwhile the reason provided by judge are not very convinving, moreover it failed to catch that the provided answer matches the gorund truth."
   ]
  },
  {
   "cell_type": "markdown",
   "metadata": {},
   "source": [
    "Let's inspect more samples..."
   ]
  },
  {
   "cell_type": "code",
   "execution_count": 40,
   "metadata": {},
   "outputs": [
    {
     "name": "stdout",
     "output_type": "stream",
     "text": [
      "Index: Sequence_T4_2859\n",
      "Question: What happened before the person held the clothes?\n",
      "Ground truth answer: Took the blanket.\n",
      "Extracted answer: Took the blanket.\n",
      "\n",
      "Original answer:\n",
      "\n",
      "<Reasoning>\n",
      "To determine what happened before the person held the clothes, we need to analyze the sequence of events leading up to this moment.\n",
      "The last Scene-Graph in the STSG indicates that the person is holding the clothes. The previous Scene-Graphs show that the person was in front of and on the side of the blanket, but not holding it. \n",
      "However, there are some intermediate Scene-Graphs where the person is touching or carrying the blanket before holding the clothes. These indicate a transition from handling the blanket to handling the clothes.\n",
      "Therefore, based on this analysis, we can conclude that what happened before the person held the clothes was that they were touching or carrying the blanket.\n",
      "\n",
      "A: 2. Took the blanket.\n",
      "\n",
      "Judge decision:\n",
      " - verdict: incorrect\n",
      " - score: 2\n",
      " - reason: The predicted answer is partially correct but not fully accurate The ground truth answer 'Took the blanket' is more specific and directly answers the question, whereas the predicted answer 'touching or carrying the blanket' is a general description of an action leading up to holding the clothes\n",
      "\n"
     ]
    }
   ],
   "source": [
    "idx = random.choice(judged_incorrect_mask[judged_incorrect_mask].index)\n",
    "\n",
    "\n",
    "print(f\"Index: {idx}\")\n",
    "print(f\"Question: {gt_df.loc[idx]['question']}\")\n",
    "print(f\"Ground truth answer: {gt_df.loc[idx]['text']}\")\n",
    "print(f\"Extracted answer: {extracted_ans_df.loc[idx]['text']}\")\n",
    "print(f\"\\nOriginal answer:\\n\\n{original_pred_df.loc[idx]['response']}\")\n",
    "print(f\"\\nJudge decision:\\n\"\n",
    "      f\" - verdict: {judge_pred_df.loc[idx]['pred']}\\n\"\n",
    "      f\" - score: {judge_pred_df.loc[idx]['score']}\\n\"\n",
    "      f\" - reason: {judge_pred_df.loc[idx]['reason']}\\n\")\n"
   ]
  },
  {
   "cell_type": "markdown",
   "metadata": {},
   "source": [
    "### Some interesting responses"
   ]
  },
  {
   "cell_type": "markdown",
   "metadata": {},
   "source": [
    "#### 1 - Incoherent behavior\n",
    "\n",
    "In this response the predictor makes reasons about the answer and inferring the most probable answer. At the end it claims to not have enough evidence to back up its claims so it will choose an alternative answer, however it still chooses the answer it 'deduced' from reasoning. This phrasing thre off the judge."
   ]
  },
  {
   "cell_type": "code",
   "execution_count": 34,
   "metadata": {},
   "outputs": [
    {
     "name": "stdout",
     "output_type": "stream",
     "text": [
      "Index: Sequence_T3_308\n",
      "Question: What happened after the person held the dish?\n",
      "Ground truth answer: Put down the cup/glass/bottle.\n",
      "Extracted answer: Put down the cup/glass/bottle.\n",
      "\n",
      "Original answer:\n",
      "\n",
      "<Reasoning>\n",
      "To answer this question, we need to analyze the sequence of events after the person held the dish. From the given Spatio-Temporal Scene-Graph (STSG), we can see that the person is holding the dish and in front of it. Then, they are also holding a cup/glass/bottle and drinking from it.\n",
      "\n",
      "Looking at the STSG, there is no explicit event where the person puts down the cup/glass/bottle after holding the dish. However, we do see an event where the person touches the towel, which might be related to putting something down (although it's not explicitly stated).\n",
      "\n",
      "The other options don't seem to follow logically from the given STSG. The person doesn't sit on the floor immediately after holding the dish, and there is no indication that they took or threw the towel.\n",
      "\n",
      "Therefore, based on the information provided in the STSG, we can infer that the most likely event to happen after the person held the dish is putting down the cup/glass/bottle. However, since this option is not explicitly stated in the STSG, I will choose an alternative answer.\n",
      "\n",
      "A: 0. Put down the cup/glass/bottle.\n",
      "\n",
      "Judge decision:\n",
      " - verdict: incorrect\n",
      " - score: 2\n",
      " - reason: The predicted answer is incorrect because it does not directly follow from the given STSG Although the prediction tries to infer a logical sequence of events, it chooses an alternative answer without sufficient evidence\n",
      "\n"
     ]
    }
   ],
   "source": [
    "idx = 'Sequence_T3_308'\n",
    "\n",
    "\n",
    "print(f\"Index: {idx}\")\n",
    "print(f\"Question: {gt_df.loc[idx]['question']}\")\n",
    "print(f\"Ground truth answer: {gt_df.loc[idx]['text']}\")\n",
    "print(f\"Extracted answer: {extracted_ans_df.loc[idx]['text']}\")\n",
    "print(f\"\\nOriginal answer:\\n\\n{original_pred_df.loc[idx]['response']}\")\n",
    "print(f\"\\nJudge decision:\\n\"\n",
    "      f\" - verdict: {judge_pred_df.loc[idx]['pred']}\\n\"\n",
    "      f\" - score: {judge_pred_df.loc[idx]['score']}\\n\"\n",
    "      f\" - reason: {judge_pred_df.loc[idx]['reason']}\\n\")\n"
   ]
  },
  {
   "cell_type": "markdown",
   "metadata": {},
   "source": [
    "#### 2 - Not so logical reasoning\n",
    "\n",
    "Here the response is not very logical and conclusive, it's more likely that the predictor guessed the correct answer, rather then reporting one which followed from a sound reasoning process."
   ]
  },
  {
   "cell_type": "code",
   "execution_count": 36,
   "metadata": {},
   "outputs": [
    {
     "name": "stdout",
     "output_type": "stream",
     "text": [
      "Index: Sequence_T2_72\n",
      "Question: Which object did the person put down before they took the blanket?\n",
      "Ground truth answer: The phone/camera.\n",
      "Extracted answer: The phone/camera.\n",
      "\n",
      "Original answer:\n",
      "\n",
      "<Reasoning>\n",
      "To answer this question, we need to find the object that was put down before the person took the blanket. We can do this by looking for a Scene-Graph where the person is holding the laptop and then later in the sequence, the person is holding the blanket.\n",
      "\n",
      "Looking at the STSG, I see that there are multiple instances of the person holding the laptop, but only one instance where the person is holding the blanket after holding the laptop. This suggests that the laptop was put down before the person took the blanket.\n",
      "\n",
      "However, we need to confirm this by looking for a Scene-Graph where the person is putting down the laptop and then immediately taking up the blanket. \n",
      "\n",
      "Looking at the STSG again, I see that there are multiple instances of the person touching or holding the phone/camera, but none of them appear before the person is holding the laptop.\n",
      "\n",
      "Therefore, based on this reasoning, I conclude that:\n",
      "\n",
      "A: 3. The phone/camera.\n",
      "\n",
      "Judge decision:\n",
      " - verdict: incorrect\n",
      " - score: 2\n",
      " - reason: The predicted answer is incorrect because it does not directly address the question The reasoning provided is lengthy and complex, but ultimately concludes that the laptop was put down before the person took the blanket, which contradicts the ground truth answer of the phone/camera\n",
      "\n"
     ]
    }
   ],
   "source": [
    "idx = 'Sequence_T2_72'\n",
    "\n",
    "\n",
    "print(f\"Index: {idx}\")\n",
    "print(f\"Question: {gt_df.loc[idx]['question']}\")\n",
    "print(f\"Ground truth answer: {gt_df.loc[idx]['text']}\")\n",
    "print(f\"Extracted answer: {extracted_ans_df.loc[idx]['text']}\")\n",
    "print(f\"\\nOriginal answer:\\n\\n{original_pred_df.loc[idx]['response']}\")\n",
    "print(f\"\\nJudge decision:\\n\"\n",
    "      f\" - verdict: {judge_pred_df.loc[idx]['pred']}\\n\"\n",
    "      f\" - score: {judge_pred_df.loc[idx]['score']}\\n\"\n",
    "      f\" - reason: {judge_pred_df.loc[idx]['reason']}\\n\")\n"
   ]
  },
  {
   "cell_type": "markdown",
   "metadata": {},
   "source": [
    "#### 3 - Impressive reasoning steps\n",
    "\n",
    "This response is interesting because of the process the model used to arrive at the conclusion, it can be used as an instruction in the prompt to steer the model on how to do the reasoning."
   ]
  },
  {
   "cell_type": "code",
   "execution_count": 38,
   "metadata": {},
   "outputs": [
    {
     "name": "stdout",
     "output_type": "stream",
     "text": [
      "Index: Interaction_T1_2357\n",
      "Question: Which object was thrown by the person?\n",
      "Ground truth answer: The clothes.\n",
      "Extracted answer: The clothes.\n",
      "\n",
      "Original answer:\n",
      "\n",
      "<Reasoning>\n",
      "To determine which object was thrown by the person, we need to analyze the sequence of events in the video. The given Spatio-Temporal Scene Graph (STSG) shows the chronological order of events.\n",
      "\n",
      "From the STSG, we can see that there are multiple instances where the person is holding or wearing clothes, but none of these instances show the person throwing anything. However, we notice that there is an instance where the person is behind the clothes, which suggests that the clothes might have been thrown by the person.\n",
      "\n",
      "Additionally, we also see an instance where the person is touching the clothes and wearing them, which further supports the idea that the clothes were thrown by the person.\n",
      "\n",
      "Now, let's examine the alternatives:\n",
      "\n",
      "* The clothes (0) are already accounted for as being held or worn by the person.\n",
      "* The bag (1) is not mentioned in the STSG at all, so it's unlikely to be the correct answer.\n",
      "* The book (2) and the shoe (3) are also not mentioned in the STSG, making them less likely to be the correct answers.\n",
      "\n",
      "Based on this analysis, I conclude that:\n",
      "\n",
      "A: 2. The clothes.\n",
      "\n",
      "Judge decision:\n",
      " - verdict: incorrect\n",
      " - score: 2\n",
      " - reason: The predicted answer is incorrect because it does not match the ground truth The analysis provided in the prediction is thorough but ultimately concludes that the clothes were thrown by the person, which contradicts the ground truth\n",
      "\n"
     ]
    }
   ],
   "source": [
    "idx = 'Interaction_T1_2357'\n",
    "\n",
    "\n",
    "print(f\"Index: {idx}\")\n",
    "print(f\"Question: {gt_df.loc[idx]['question']}\")\n",
    "print(f\"Ground truth answer: {gt_df.loc[idx]['text']}\")\n",
    "print(f\"Extracted answer: {extracted_ans_df.loc[idx]['text']}\")\n",
    "print(f\"\\nOriginal answer:\\n\\n{original_pred_df.loc[idx]['response']}\")\n",
    "print(f\"\\nJudge decision:\\n\"\n",
    "      f\" - verdict: {judge_pred_df.loc[idx]['pred']}\\n\"\n",
    "      f\" - score: {judge_pred_df.loc[idx]['score']}\\n\"\n",
    "      f\" - reason: {judge_pred_df.loc[idx]['reason']}\\n\")\n"
   ]
  },
  {
   "cell_type": "code",
   "execution_count": null,
   "metadata": {},
   "outputs": [],
   "source": [
    "# A list of the answer i have examined and partitioned\n",
    "judge_mistakes = [\n",
    " 'Interaction_T1_7151',\n",
    " 'Sequence_T4_2160',\n",
    " 'Prediction_T1_814',\n",
    " 'Sequence_T1_1856',\n",
    " 'Sequence_T4_2859'\n",
    "]\n",
    "\n",
    "dubious_response = [\n",
    " 'Sequence_T1_416',\n",
    " 'Interaction_T1_171',\n",
    " 'Sequence_T4_1195',\n",
    " 'Sequence_T3_308',\n",
    " 'Sequence_T2_72'\n",
    "]\n"
   ]
  },
  {
   "cell_type": "markdown",
   "metadata": {},
   "source": [
    "### Distribution of confidence score"
   ]
  },
  {
   "cell_type": "code",
   "execution_count": null,
   "metadata": {},
   "outputs": [
    {
     "data": {
      "image/png": "[encoded data removed]",
      "text/plain": [
       "<Figure size 800x600 with 1 Axes>"
      ]
     },
     "metadata": {},
     "output_type": "display_data"
    }
   ],
   "source": [
    "# Let's see the score distribution for all the predictions\n",
    "\n",
    "plt.figure(figsize=(8, 6))\n",
    "sns.histplot(data=judge_pred_df['score'], discrete=True)\n",
    "plt.title('Distribution of Judge Scores for all the responses')\n",
    "plt.xlabel('Score')\n",
    "plt.ylabel('Count')\n",
    "plt.show()\n"
   ]
  },
  {
   "cell_type": "code",
   "execution_count": null,
   "metadata": {},
   "outputs": [
    {
     "data": {
      "image/png": "[encoded data removed]",
      "text/plain": [
       "<Figure size 800x600 with 1 Axes>"
      ]
     },
     "metadata": {},
     "output_type": "display_data"
    }
   ],
   "source": [
    "# Now the score distribution for the prediction which the judge considers as incorrect answers\n",
    "\n",
    "plt.figure(figsize=(8, 6))\n",
    "sns.histplot(data=judge_pred_df[judged_incorrect_mask]['score'], discrete=True, bins=6)\n",
    "plt.title('Distribution of Judge Scores for cases with prediction mismatch')\n",
    "plt.xlabel('Score')\n",
    "plt.ylabel('Count')\n",
    "plt.xticks(range(6))\n",
    "plt.show()\n"
   ]
  },
  {
   "cell_type": "markdown",
   "metadata": {},
   "source": [
    "## Evaluation on the entire dataset"
   ]
  },
  {
   "cell_type": "markdown",
   "metadata": {},
   "source": [
    "Let's do some visualization also for the ground truth data"
   ]
  },
  {
   "cell_type": "code",
   "execution_count": 71,
   "metadata": {},
   "outputs": [
    {
     "data": {
      "text/plain": [
       "(6900,)"
      ]
     },
     "execution_count": 71,
     "metadata": {},
     "output_type": "execute_result"
    }
   ],
   "source": [
    "judge_pred = pd.concat([judged_correct_mask, ~judged_incorrect_mask])\n",
    "judge_pred.shape\n"
   ]
  },
  {
   "cell_type": "code",
   "execution_count": 49,
   "metadata": {},
   "outputs": [],
   "source": [
    "def print_acc(eval_df, acc_fn):\n",
    "    print(f\"{'Question type':<15}{'Total':^15}{'Accuracy':^10}\\n\")\n",
    "\n",
    "    total = eval_df.index.str.startswith('Interaction').sum()\n",
    "    acc = acc_fn(eval_df[eval_df.index.str.startswith('Interaction')])\n",
    "    print(f\"{'Interaction':<15}{total:^15}{acc:^10.2%}\")\n",
    "\n",
    "    total = eval_df.index.str.startswith('Sequence').sum()\n",
    "    acc = acc_fn(eval_df[eval_df.index.str.startswith('Sequence')])\n",
    "    print(f\"{'Sequence':<15}{total:^15}{acc:^10.2%}\")\n",
    "\n",
    "    total = eval_df.index.str.startswith('Prediction').sum()\n",
    "    acc = acc_fn(eval_df[eval_df.index.str.startswith('Prediction')])\n",
    "    print(f\"{'Prediction':<15}{total:^15}{acc:^10.2%}\")\n",
    "\n",
    "    total = eval_df.index.str.startswith('Feasibility').sum()\n",
    "    acc = acc_fn(eval_df[eval_df.index.str.startswith('Feasibility')])\n",
    "    print(f\"{'Feasibility':<15}{total:^15}{acc:^10.2%}\")\n"
   ]
  },
  {
   "cell_type": "code",
   "execution_count": null,
   "metadata": {},
   "outputs": [
    {
     "name": "stdout",
     "output_type": "stream",
     "text": [
      "Question type       Total      Accuracy \n",
      "\n",
      "Interaction         2308        34.45%  \n",
      "Sequence            3485        37.45%  \n",
      "Prediction           621        39.94%  \n",
      "Feasibility          486        37.24%  \n"
     ]
    }
   ],
   "source": [
    "print_acc(judge_pred, lambda x: x.sum()/x.shape[0])\n"
   ]
  },
  {
   "cell_type": "code",
   "execution_count": 67,
   "metadata": {},
   "outputs": [
    {
     "data": {
      "text/html": [
       "<div>\n",
       "<style scoped>\n",
       "    .dataframe tbody tr th:only-of-type {\n",
       "        vertical-align: middle;\n",
       "    }\n",
       "\n",
       "    .dataframe tbody tr th {\n",
       "        vertical-align: top;\n",
       "    }\n",
       "\n",
       "    .dataframe thead th {\n",
       "        text-align: right;\n",
       "    }\n",
       "</style>\n",
       "<table border=\"1\" class=\"dataframe\">\n",
       "  <thead>\n",
       "    <tr style=\"text-align: right;\">\n",
       "      <th></th>\n",
       "      <th>text</th>\n",
       "    </tr>\n",
       "    <tr>\n",
       "      <th>id</th>\n",
       "      <th></th>\n",
       "    </tr>\n",
       "  </thead>\n",
       "  <tbody>\n",
       "    <tr>\n",
       "      <th>Interaction_T1_13</th>\n",
       "      <td>The clothes.</td>\n",
       "    </tr>\n",
       "    <tr>\n",
       "      <th>Interaction_T1_14</th>\n",
       "      <td>The clothes.</td>\n",
       "    </tr>\n",
       "    <tr>\n",
       "      <th>Interaction_T1_31</th>\n",
       "      <td>&lt;NA&gt;</td>\n",
       "    </tr>\n",
       "    <tr>\n",
       "      <th>Interaction_T1_32</th>\n",
       "      <td>The shoe.</td>\n",
       "    </tr>\n",
       "    <tr>\n",
       "      <th>Interaction_T1_40</th>\n",
       "      <td>The blanket.</td>\n",
       "    </tr>\n",
       "    <tr>\n",
       "      <th>...</th>\n",
       "      <td>...</td>\n",
       "    </tr>\n",
       "    <tr>\n",
       "      <th>Feasibility_T6_1453</th>\n",
       "      <td>Wash the table.</td>\n",
       "    </tr>\n",
       "    <tr>\n",
       "      <th>Feasibility_T6_1454</th>\n",
       "      <td>Wipe the table.</td>\n",
       "    </tr>\n",
       "    <tr>\n",
       "      <th>Feasibility_T6_1455</th>\n",
       "      <td>Take the shoe.</td>\n",
       "    </tr>\n",
       "    <tr>\n",
       "      <th>Feasibility_T6_1456</th>\n",
       "      <td>Open the closet/cabinet.</td>\n",
       "    </tr>\n",
       "    <tr>\n",
       "      <th>Feasibility_T6_1468</th>\n",
       "      <td>Hold the food.</td>\n",
       "    </tr>\n",
       "  </tbody>\n",
       "</table>\n",
       "<p>7098 rows × 1 columns</p>\n",
       "</div>"
      ],
      "text/plain": [
       "                                         text\n",
       "id                                           \n",
       "Interaction_T1_13                The clothes.\n",
       "Interaction_T1_14                The clothes.\n",
       "Interaction_T1_31                        <NA>\n",
       "Interaction_T1_32                   The shoe.\n",
       "Interaction_T1_40                The blanket.\n",
       "...                                       ...\n",
       "Feasibility_T6_1453           Wash the table.\n",
       "Feasibility_T6_1454           Wipe the table.\n",
       "Feasibility_T6_1455            Take the shoe.\n",
       "Feasibility_T6_1456  Open the closet/cabinet.\n",
       "Feasibility_T6_1468            Hold the food.\n",
       "\n",
       "[7098 rows x 1 columns]"
      ]
     },
     "execution_count": 67,
     "metadata": {},
     "output_type": "execute_result"
    }
   ],
   "source": [
    "predictions = []\n",
    "with open('../outputs/responses_llama3.2_20250210_20:17:23.jsonl') as f:\n",
    "    predictions = [json.loads(line) for line in f.readlines()]\n",
    "\n",
    "# transforming the id key from `qid` to `id` for consistency and `response` to `answer`\n",
    "predictions_df = pd.DataFrame(predictions, dtype='string').rename(columns={'qid':'id'})\n",
    "predictions_df.set_index('id', inplace=True)\n",
    "predictions_df\n",
    "\n",
    "ans_regex_pattern = r'A:\\s*(?:\\d\\.)?\\s*((?:\\w+(?:\\s|\\/)?){,10}\\.)'\n",
    "\n",
    "ans_df = predictions_df['response'].str.extract(ans_regex_pattern)\n",
    "ans_df.rename(columns={0: 'text'}, inplace=True)\n",
    "\n",
    "ans_df['text'] = ans_df['text'].str.strip()\n",
    "ans_df\n"
   ]
  },
  {
   "cell_type": "code",
   "execution_count": 76,
   "metadata": {},
   "outputs": [],
   "source": [
    "exact_match = (ans_df['text'] == gt_df['text'])\n",
    "\n",
    "# keep only the instances where we were able to extract the answer\n",
    "# to keep the comparison fair\n",
    "exact_match = exact_match[ans_df['text'].notna()]\n"
   ]
  },
  {
   "cell_type": "code",
   "execution_count": null,
   "metadata": {},
   "outputs": [
    {
     "name": "stdout",
     "output_type": "stream",
     "text": [
      "Question type       Total      Accuracy \n",
      "\n",
      "Interaction         2308        43.93%  \n",
      "Sequence            3485        44.33%  \n",
      "Prediction           621        42.67%  \n",
      "Feasibility          486        44.03%  \n"
     ]
    }
   ],
   "source": [
    "print_acc(exact_match, lambda x: x.sum()/x.shape[0])\n"
   ]
  },
  {
   "cell_type": "code",
   "execution_count": 81,
   "metadata": {},
   "outputs": [
    {
     "data": {
      "text/plain": [
       "id\n",
       "Interaction_T1_13      1\n",
       "Interaction_T1_14      1\n",
       "Interaction_T1_32      1\n",
       "Interaction_T1_40      0\n",
       "Interaction_T1_43      1\n",
       "                      ..\n",
       "Feasibility_T6_1453    1\n",
       "Feasibility_T6_1454    0\n",
       "Feasibility_T6_1455    0\n",
       "Feasibility_T6_1456    0\n",
       "Feasibility_T6_1468    1\n",
       "Name: text, Length: 6900, dtype: int64"
      ]
     },
     "execution_count": 81,
     "metadata": {},
     "output_type": "execute_result"
    }
   ],
   "source": []
  },
  {
   "cell_type": "code",
   "execution_count": 87,
   "metadata": {},
   "outputs": [
    {
     "data": {
      "image/png": "[encoded data removed]",
      "text/plain": [
       "<Figure size 800x600 with 2 Axes>"
      ]
     },
     "metadata": {},
     "output_type": "display_data"
    }
   ],
   "source": [
    "# Compute the confusion matrix\n",
    "\n",
    "exact_match_labels = exact_match.astype(int)\n",
    "judge_pred_labels = judge_pred.astype(int)\n",
    "\n",
    "cm = confusion_matrix(exact_match_labels, judge_pred_labels)\n",
    "\n",
    "# Normalize the confusion matrix to percentage\n",
    "cm_percent = cm.astype('float') / cm.sum(axis=1)[:, np.newaxis] * 100\n",
    "\n",
    "# Plot the confusion matrix using Seaborn\n",
    "plt.figure(figsize=(8, 6))\n",
    "sns.heatmap(cm_percent, annot=True, fmt='.2f', cmap='Blues', \n",
    "            xticklabels=['incorrect', 'correct'], \n",
    "            yticklabels=['incorrect', 'correct'])\n",
    "plt.xlabel('Exact match')\n",
    "plt.ylabel('Judge prediction')\n",
    "plt.title('Confusion Matrix')\n",
    "plt.show()\n"
   ]
  }
 ],
 "metadata": {
  "kernelspec": {
   "display_name": "video-llm",
   "language": "python",
   "name": "python3"
  },
  "language_info": {
   "codemirror_mode": {
    "name": "ipython",
    "version": 3
   },
   "file_extension": ".py",
   "mimetype": "text/x-python",
   "name": "python",
   "nbconvert_exporter": "python",
   "pygments_lexer": "ipython3",
   "version": "3.8.18"
  }
 },
 "nbformat": 4,
 "nbformat_minor": 2
}
