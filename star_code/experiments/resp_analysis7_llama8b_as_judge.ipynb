{
 "cells": [
  {
   "cell_type": "code",
   "execution_count": 79,
   "metadata": {},
   "outputs": [],
   "source": [
    "import random\n",
    "import json\n",
    "import re\n",
    "\n",
    "import numpy as np\n",
    "import pandas as pd\n",
    "\n",
    "import matplotlib.pyplot as plt\n",
    "import seaborn as sns\n",
    "\n",
    "from wordcloud import WordCloud\n",
    "import nltk\n",
    "\n",
    "random.seed(6)\n",
    "np.random.seed(6)\n"
   ]
  },
  {
   "cell_type": "markdown",
   "metadata": {},
   "source": [
    "# Experiment 7 - Llama3.1 8b as a judge\n",
    "\n",
    "In this experiment I implement the technique `LLM as judge` used in the paper `How good is my MML?` as evaluaiton metric for the correctness of the answers given by a model. The method \n",
    "consists of using a LLM to evaluate the correctness of the answers given by another model. The LLM acts as a judge by comparing the predicted answer with the ground truth answer and providing a score between 0 and 5, expressing the confidence in the answer. The judge also provides a reason for the score.\n",
    "\n",
    "\n",
    "**Parameters:**\n",
    "- model: llama3.1 8b\n",
    "- system prompt: LLM_judge_system.txt\n",
    "- temperature: 0.1\n",
    "- sampling method: (default) top-p (p=0.9)\n",
    "- the output is limited to 128 tokens (shouldn't influence the results, it only cutoffs the generation)\n"
   ]
  },
  {
   "cell_type": "markdown",
   "metadata": {},
   "source": [
    "Let's load the ground truth from the `STAR_QA_question_and_stsg_val.json` file where we extracted QA and spatio-temporal scene graphs"
   ]
  },
  {
   "cell_type": "code",
   "execution_count": 80,
   "metadata": {},
   "outputs": [
    {
     "data": {
      "text/html": [
       "<div>\n",
       "<style scoped>\n",
       "    .dataframe tbody tr th:only-of-type {\n",
       "        vertical-align: middle;\n",
       "    }\n",
       "\n",
       "    .dataframe tbody tr th {\n",
       "        vertical-align: top;\n",
       "    }\n",
       "\n",
       "    .dataframe thead th {\n",
       "        text-align: right;\n",
       "    }\n",
       "</style>\n",
       "<table border=\"1\" class=\"dataframe\">\n",
       "  <thead>\n",
       "    <tr style=\"text-align: right;\">\n",
       "      <th></th>\n",
       "      <th>question</th>\n",
       "      <th>choices</th>\n",
       "      <th>num</th>\n",
       "      <th>text</th>\n",
       "    </tr>\n",
       "    <tr>\n",
       "      <th>id</th>\n",
       "      <th></th>\n",
       "      <th></th>\n",
       "      <th></th>\n",
       "      <th></th>\n",
       "    </tr>\n",
       "  </thead>\n",
       "  <tbody>\n",
       "    <tr>\n",
       "      <th>Interaction_T1_13</th>\n",
       "      <td>Which object was tidied up by the person?</td>\n",
       "      <td>{'0': 'The closet/cabinet.', '1': 'The blanket...</td>\n",
       "      <td>2</td>\n",
       "      <td>The clothes.</td>\n",
       "    </tr>\n",
       "    <tr>\n",
       "      <th>Interaction_T1_14</th>\n",
       "      <td>Which object was tidied up by the person?</td>\n",
       "      <td>{'0': 'The blanket.', '1': 'The table.', '2': ...</td>\n",
       "      <td>2</td>\n",
       "      <td>The clothes.</td>\n",
       "    </tr>\n",
       "    <tr>\n",
       "      <th>Interaction_T1_31</th>\n",
       "      <td>Which object was thrown by the person?</td>\n",
       "      <td>{'0': 'The pillow.', '1': 'The bag.', '2': 'Th...</td>\n",
       "      <td>2</td>\n",
       "      <td>The clothes.</td>\n",
       "    </tr>\n",
       "    <tr>\n",
       "      <th>Interaction_T1_32</th>\n",
       "      <td>Which object was put down by the person?</td>\n",
       "      <td>{'0': 'The food.', '1': 'The shoe.', '2': 'The...</td>\n",
       "      <td>1</td>\n",
       "      <td>The shoe.</td>\n",
       "    </tr>\n",
       "    <tr>\n",
       "      <th>Interaction_T1_40</th>\n",
       "      <td>Which object was tidied up by the person?</td>\n",
       "      <td>{'0': 'The broom.', '1': 'The closet/cabinet.'...</td>\n",
       "      <td>1</td>\n",
       "      <td>The closet/cabinet.</td>\n",
       "    </tr>\n",
       "    <tr>\n",
       "      <th>...</th>\n",
       "      <td>...</td>\n",
       "      <td>...</td>\n",
       "      <td>...</td>\n",
       "      <td>...</td>\n",
       "    </tr>\n",
       "    <tr>\n",
       "      <th>Feasibility_T6_1453</th>\n",
       "      <td>What is the person able to do after taking the...</td>\n",
       "      <td>{'0': 'Wash the table.', '1': 'Take the box.',...</td>\n",
       "      <td>0</td>\n",
       "      <td>Wash the table.</td>\n",
       "    </tr>\n",
       "    <tr>\n",
       "      <th>Feasibility_T6_1454</th>\n",
       "      <td>What is the person able to do after walking th...</td>\n",
       "      <td>{'0': 'Take the towel.', '1': 'Throw the bag.'...</td>\n",
       "      <td>0</td>\n",
       "      <td>Take the towel.</td>\n",
       "    </tr>\n",
       "    <tr>\n",
       "      <th>Feasibility_T6_1455</th>\n",
       "      <td>What is the person able to do after walking th...</td>\n",
       "      <td>{'0': 'Throw the bag.', '1': 'Wash the table.'...</td>\n",
       "      <td>1</td>\n",
       "      <td>Wash the table.</td>\n",
       "    </tr>\n",
       "    <tr>\n",
       "      <th>Feasibility_T6_1456</th>\n",
       "      <td>What is the person able to do after putting th...</td>\n",
       "      <td>{'0': 'Hold the food.', '1': 'Open the closet/...</td>\n",
       "      <td>3</td>\n",
       "      <td>Wash the table.</td>\n",
       "    </tr>\n",
       "    <tr>\n",
       "      <th>Feasibility_T6_1468</th>\n",
       "      <td>What is the person able to do after opening th...</td>\n",
       "      <td>{'0': 'Wash the window.', '1': 'Hold the food....</td>\n",
       "      <td>1</td>\n",
       "      <td>Hold the food.</td>\n",
       "    </tr>\n",
       "  </tbody>\n",
       "</table>\n",
       "<p>7098 rows × 4 columns</p>\n",
       "</div>"
      ],
      "text/plain": [
       "                                                              question  \\\n",
       "id                                                                       \n",
       "Interaction_T1_13            Which object was tidied up by the person?   \n",
       "Interaction_T1_14            Which object was tidied up by the person?   \n",
       "Interaction_T1_31               Which object was thrown by the person?   \n",
       "Interaction_T1_32             Which object was put down by the person?   \n",
       "Interaction_T1_40            Which object was tidied up by the person?   \n",
       "...                                                                ...   \n",
       "Feasibility_T6_1453  What is the person able to do after taking the...   \n",
       "Feasibility_T6_1454  What is the person able to do after walking th...   \n",
       "Feasibility_T6_1455  What is the person able to do after walking th...   \n",
       "Feasibility_T6_1456  What is the person able to do after putting th...   \n",
       "Feasibility_T6_1468  What is the person able to do after opening th...   \n",
       "\n",
       "                                                               choices num  \\\n",
       "id                                                                           \n",
       "Interaction_T1_13    {'0': 'The closet/cabinet.', '1': 'The blanket...   2   \n",
       "Interaction_T1_14    {'0': 'The blanket.', '1': 'The table.', '2': ...   2   \n",
       "Interaction_T1_31    {'0': 'The pillow.', '1': 'The bag.', '2': 'Th...   2   \n",
       "Interaction_T1_32    {'0': 'The food.', '1': 'The shoe.', '2': 'The...   1   \n",
       "Interaction_T1_40    {'0': 'The broom.', '1': 'The closet/cabinet.'...   1   \n",
       "...                                                                ...  ..   \n",
       "Feasibility_T6_1453  {'0': 'Wash the table.', '1': 'Take the box.',...   0   \n",
       "Feasibility_T6_1454  {'0': 'Take the towel.', '1': 'Throw the bag.'...   0   \n",
       "Feasibility_T6_1455  {'0': 'Throw the bag.', '1': 'Wash the table.'...   1   \n",
       "Feasibility_T6_1456  {'0': 'Hold the food.', '1': 'Open the closet/...   3   \n",
       "Feasibility_T6_1468  {'0': 'Wash the window.', '1': 'Hold the food....   1   \n",
       "\n",
       "                                    text  \n",
       "id                                        \n",
       "Interaction_T1_13           The clothes.  \n",
       "Interaction_T1_14           The clothes.  \n",
       "Interaction_T1_31           The clothes.  \n",
       "Interaction_T1_32              The shoe.  \n",
       "Interaction_T1_40    The closet/cabinet.  \n",
       "...                                  ...  \n",
       "Feasibility_T6_1453      Wash the table.  \n",
       "Feasibility_T6_1454      Take the towel.  \n",
       "Feasibility_T6_1455      Wash the table.  \n",
       "Feasibility_T6_1456      Wash the table.  \n",
       "Feasibility_T6_1468       Hold the food.  \n",
       "\n",
       "[7098 rows x 4 columns]"
      ]
     },
     "execution_count": 80,
     "metadata": {},
     "output_type": "execute_result"
    }
   ],
   "source": [
    "ground_truth = []\n",
    "\n",
    "with open('../data/datasets/STAR_QA_and_stsg_val.json') as f:\n",
    "    data = json.load(f)\n",
    "    ground_truth = [{\n",
    "        'id': sample['question_id'],\n",
    "        'question': sample['question'],\n",
    "        'choices': sample['choices'],\n",
    "        'num': sample['answer'],\n",
    "        'text': sample['choices'][str(sample['answer'])]\n",
    "    } for sample in data]\n",
    "\n",
    "\n",
    "# we keep num as str so we can directrly access choices dictionaries\n",
    "gt_df = pd.DataFrame(ground_truth).astype({'id': 'string', 'num': 'string', 'text': 'string'})\n",
    "gt_df.set_index('id', inplace=True)\n",
    "gt_df\n"
   ]
  },
  {
   "cell_type": "markdown",
   "metadata": {},
   "source": [
    "## Loading the the Judge evaluation on the originally incorrect answers\n",
    "\n",
    "We first check what are the prediction of the 'Judge' for the set of answer taht were branded as incorrect by the method with the regex answer extraction."
   ]
  },
  {
   "cell_type": "code",
   "execution_count": 81,
   "metadata": {},
   "outputs": [
    {
     "data": {
      "text/html": [
       "<div>\n",
       "<style scoped>\n",
       "    .dataframe tbody tr th:only-of-type {\n",
       "        vertical-align: middle;\n",
       "    }\n",
       "\n",
       "    .dataframe tbody tr th {\n",
       "        vertical-align: top;\n",
       "    }\n",
       "\n",
       "    .dataframe thead th {\n",
       "        text-align: right;\n",
       "    }\n",
       "</style>\n",
       "<table border=\"1\" class=\"dataframe\">\n",
       "  <thead>\n",
       "    <tr style=\"text-align: right;\">\n",
       "      <th></th>\n",
       "      <th>pred</th>\n",
       "      <th>score</th>\n",
       "      <th>reason</th>\n",
       "    </tr>\n",
       "    <tr>\n",
       "      <th>id</th>\n",
       "      <th></th>\n",
       "      <th></th>\n",
       "      <th></th>\n",
       "    </tr>\n",
       "  </thead>\n",
       "  <tbody>\n",
       "    <tr>\n",
       "      <th>Interaction_T1_40</th>\n",
       "      <td>incorrect</td>\n",
       "      <td>2</td>\n",
       "      <td>The predicted answer is incorrect because it s...</td>\n",
       "    </tr>\n",
       "    <tr>\n",
       "      <th>Interaction_T1_71</th>\n",
       "      <td>incorrect</td>\n",
       "      <td>2</td>\n",
       "      <td>The predicted answer is incorrect because it i...</td>\n",
       "    </tr>\n",
       "    <tr>\n",
       "      <th>Interaction_T1_78</th>\n",
       "      <td>incorrect</td>\n",
       "      <td>0</td>\n",
       "      <td>The predicted answer is incorrect because it d...</td>\n",
       "    </tr>\n",
       "    <tr>\n",
       "      <th>Interaction_T1_95</th>\n",
       "      <td>incorrect</td>\n",
       "      <td>0</td>\n",
       "      <td>The predicted answer is incorrect because it c...</td>\n",
       "    </tr>\n",
       "    <tr>\n",
       "      <th>Interaction_T1_100</th>\n",
       "      <td>incorrect</td>\n",
       "      <td>2</td>\n",
       "      <td>The predicted answer is incorrect because it s...</td>\n",
       "    </tr>\n",
       "    <tr>\n",
       "      <th>...</th>\n",
       "      <td>...</td>\n",
       "      <td>...</td>\n",
       "      <td>...</td>\n",
       "    </tr>\n",
       "    <tr>\n",
       "      <th>Feasibility_T6_1414</th>\n",
       "      <td>incorrect</td>\n",
       "      <td>2</td>\n",
       "      <td>The predicted answer \"throw the bag\" does not ...</td>\n",
       "    </tr>\n",
       "    <tr>\n",
       "      <th>Feasibility_T6_1430</th>\n",
       "      <td>incorrect</td>\n",
       "      <td>0</td>\n",
       "      <td>The predicted answer 'Take the pillow' is not ...</td>\n",
       "    </tr>\n",
       "    <tr>\n",
       "      <th>Feasibility_T6_1454</th>\n",
       "      <td>incorrect</td>\n",
       "      <td>2</td>\n",
       "      <td>The predicted answer is wiping the table (acti...</td>\n",
       "    </tr>\n",
       "    <tr>\n",
       "      <th>Feasibility_T6_1455</th>\n",
       "      <td>incorrect</td>\n",
       "      <td>2</td>\n",
       "      <td>The predicted answer 'Take the shoe' does not ...</td>\n",
       "    </tr>\n",
       "    <tr>\n",
       "      <th>Feasibility_T6_1456</th>\n",
       "      <td>incorrect</td>\n",
       "      <td>2</td>\n",
       "      <td>The predicted answer does not match the ground...</td>\n",
       "    </tr>\n",
       "  </tbody>\n",
       "</table>\n",
       "<p>3862 rows × 3 columns</p>\n",
       "</div>"
      ],
      "text/plain": [
       "                          pred  score  \\\n",
       "id                                      \n",
       "Interaction_T1_40    incorrect      2   \n",
       "Interaction_T1_71    incorrect      2   \n",
       "Interaction_T1_78    incorrect      0   \n",
       "Interaction_T1_95    incorrect      0   \n",
       "Interaction_T1_100   incorrect      2   \n",
       "...                        ...    ...   \n",
       "Feasibility_T6_1414  incorrect      2   \n",
       "Feasibility_T6_1430  incorrect      0   \n",
       "Feasibility_T6_1454  incorrect      2   \n",
       "Feasibility_T6_1455  incorrect      2   \n",
       "Feasibility_T6_1456  incorrect      2   \n",
       "\n",
       "                                                                reason  \n",
       "id                                                                      \n",
       "Interaction_T1_40    The predicted answer is incorrect because it s...  \n",
       "Interaction_T1_71    The predicted answer is incorrect because it i...  \n",
       "Interaction_T1_78    The predicted answer is incorrect because it d...  \n",
       "Interaction_T1_95    The predicted answer is incorrect because it c...  \n",
       "Interaction_T1_100   The predicted answer is incorrect because it s...  \n",
       "...                                                                ...  \n",
       "Feasibility_T6_1414  The predicted answer \"throw the bag\" does not ...  \n",
       "Feasibility_T6_1430  The predicted answer 'Take the pillow' is not ...  \n",
       "Feasibility_T6_1454  The predicted answer is wiping the table (acti...  \n",
       "Feasibility_T6_1455  The predicted answer 'Take the shoe' does not ...  \n",
       "Feasibility_T6_1456  The predicted answer does not match the ground...  \n",
       "\n",
       "[3862 rows x 3 columns]"
      ]
     },
     "execution_count": 81,
     "metadata": {},
     "output_type": "execute_result"
    }
   ],
   "source": [
    "# Load the scores for the wrong answers\n",
    "predictions = []\n",
    "with open('../outputs/llama8b_as_judge_wrong.jsonl') as f:\n",
    "    predictions = [json.loads(line) for line in f.readlines()]\n",
    "\n",
    "# Extract pred, score and reason from response dictionary into separate columns\n",
    "judge_pred_df = pd.DataFrame(predictions).rename(columns={'qid':'id'})\n",
    "judge_pred_df['pred'] = \\\n",
    "    judge_pred_df['response'] \\\n",
    "    .apply(lambda x: eval(x)['pred']) \\\n",
    "    .astype('string') \n",
    "\n",
    "judge_pred_df['score'] = \\\n",
    "    judge_pred_df['response'] \\\n",
    "    .apply(lambda x: int(eval(x)['score'])) \\\n",
    "    .astype('int32')\n",
    "\n",
    "judge_pred_df['reason'] = \\\n",
    "    judge_pred_df['response'] \\\n",
    "    .apply(lambda x: eval(x)['reason']) \\\n",
    "    .astype('string')\n",
    "\n",
    "judge_pred_df.drop('response', axis=1, inplace=True)\n",
    "judge_pred_df.set_index('id', inplace=True)\n",
    "judge_pred_df\n"
   ]
  },
  {
   "cell_type": "code",
   "execution_count": 82,
   "metadata": {},
   "outputs": [
    {
     "name": "stdout",
     "output_type": "stream",
     "text": [
      "<class 'pandas.core.frame.DataFrame'>\n",
      "Index: 3862 entries, Interaction_T1_40 to Feasibility_T6_1456\n",
      "Data columns (total 3 columns):\n",
      " #   Column  Non-Null Count  Dtype \n",
      "---  ------  --------------  ----- \n",
      " 0   pred    3862 non-null   string\n",
      " 1   score   3862 non-null   int32 \n",
      " 2   reason  3862 non-null   string\n",
      "dtypes: int32(1), string(2)\n",
      "memory usage: 105.6+ KB\n"
     ]
    }
   ],
   "source": [
    "judge_pred_df.info()"
   ]
  },
  {
   "cell_type": "code",
   "execution_count": 83,
   "metadata": {},
   "outputs": [
    {
     "name": "stdout",
     "output_type": "stream",
     "text": [
      "\n",
      "Predictions:\n",
      "------------------------------\n",
      "incorrect :  95.65%\n",
      "correct   :   4.35%\n",
      "------------------------------\n"
     ]
    }
   ],
   "source": [
    "\n",
    "pred_percentages = judge_pred_df['pred'].value_counts(normalize=True) * 100\n",
    "\n",
    "print(\"\\nPredictions:\")\n",
    "print(\"-\" * 30)\n",
    "print(f\"{'incorrect':10}: {pred_percentages['incorrect']:6.2f}%\\n\"\n",
    "      f\"{'correct':10}: {pred_percentages['correct']:6.2f}%\")\n",
    "print(\"-\" * 30)"
   ]
  },
  {
   "cell_type": "markdown",
   "metadata": {},
   "source": [
    "An interesting metric, on 95% of the cases the model is concording with the deterministic classification of the answer regex extraction method"
   ]
  },
  {
   "cell_type": "markdown",
   "metadata": {},
   "source": [
    "Load the orignal model predictions to verify the judgement of the model."
   ]
  },
  {
   "cell_type": "code",
   "execution_count": 84,
   "metadata": {},
   "outputs": [],
   "source": [
    "original_pred = []\n",
    "with open('../data/llama3b_wrongs.jsonl') as f:\n",
    "    original_pred = [json.loads(line) for line in f.readlines()]\n",
    "\n",
    "original_pred_df = pd.DataFrame(original_pred).astype({'question_id': 'string', 'response': 'string'})\n",
    "original_pred_df.rename(columns={'question_id': 'id'}, inplace=True)\n",
    "original_pred_df.set_index('id', inplace=True)"
   ]
  },
  {
   "cell_type": "code",
   "execution_count": 85,
   "metadata": {},
   "outputs": [
    {
     "data": {
      "text/html": [
       "<div>\n",
       "<style scoped>\n",
       "    .dataframe tbody tr th:only-of-type {\n",
       "        vertical-align: middle;\n",
       "    }\n",
       "\n",
       "    .dataframe tbody tr th {\n",
       "        vertical-align: top;\n",
       "    }\n",
       "\n",
       "    .dataframe thead th {\n",
       "        text-align: right;\n",
       "    }\n",
       "</style>\n",
       "<table border=\"1\" class=\"dataframe\">\n",
       "  <thead>\n",
       "    <tr style=\"text-align: right;\">\n",
       "      <th></th>\n",
       "      <th>response</th>\n",
       "    </tr>\n",
       "    <tr>\n",
       "      <th>id</th>\n",
       "      <th></th>\n",
       "    </tr>\n",
       "  </thead>\n",
       "  <tbody>\n",
       "    <tr>\n",
       "      <th>Interaction_T1_375</th>\n",
       "      <td>&lt;Reasoning&gt;\n",
       "The question asks which object was...</td>\n",
       "    </tr>\n",
       "    <tr>\n",
       "      <th>Interaction_T1_393</th>\n",
       "      <td>&lt;Reasoning&gt;\n",
       "To determine which object was tidi...</td>\n",
       "    </tr>\n",
       "    <tr>\n",
       "      <th>Interaction_T1_1312</th>\n",
       "      <td>&lt;Reasoning&gt;\n",
       "To answer this question, we need t...</td>\n",
       "    </tr>\n",
       "    <tr>\n",
       "      <th>Interaction_T1_1513</th>\n",
       "      <td>&lt;Reasoning&gt;\n",
       "To determine which object was clos...</td>\n",
       "    </tr>\n",
       "    <tr>\n",
       "      <th>Interaction_T1_1680</th>\n",
       "      <td>&lt;Reasoning&gt;\n",
       "To determine which object was take...</td>\n",
       "    </tr>\n",
       "    <tr>\n",
       "      <th>...</th>\n",
       "      <td>...</td>\n",
       "    </tr>\n",
       "    <tr>\n",
       "      <th>Feasibility_T5_902</th>\n",
       "      <td>&lt;Reasoning&gt;\n",
       "The question asks which object the...</td>\n",
       "    </tr>\n",
       "    <tr>\n",
       "      <th>Feasibility_T5_906</th>\n",
       "      <td>&lt;Reasoning&gt;\n",
       "The question asks which object the...</td>\n",
       "    </tr>\n",
       "    <tr>\n",
       "      <th>Feasibility_T5_928</th>\n",
       "      <td>&lt;Reasoning&gt;\n",
       "To answer this question, we need t...</td>\n",
       "    </tr>\n",
       "    <tr>\n",
       "      <th>Feasibility_T5_981</th>\n",
       "      <td>&lt;Reasoning&gt;\n",
       "The question asks which object the...</td>\n",
       "    </tr>\n",
       "    <tr>\n",
       "      <th>Feasibility_T6_1125</th>\n",
       "      <td>&lt;Reasoning&gt;\n",
       "To answer this question, we need t...</td>\n",
       "    </tr>\n",
       "  </tbody>\n",
       "</table>\n",
       "<p>168 rows × 1 columns</p>\n",
       "</div>"
      ],
      "text/plain": [
       "                                                              response\n",
       "id                                                                    \n",
       "Interaction_T1_375   <Reasoning>\n",
       "The question asks which object was...\n",
       "Interaction_T1_393   <Reasoning>\n",
       "To determine which object was tidi...\n",
       "Interaction_T1_1312  <Reasoning>\n",
       "To answer this question, we need t...\n",
       "Interaction_T1_1513  <Reasoning>\n",
       "To determine which object was clos...\n",
       "Interaction_T1_1680  <Reasoning>\n",
       "To determine which object was take...\n",
       "...                                                                ...\n",
       "Feasibility_T5_902   <Reasoning>\n",
       "The question asks which object the...\n",
       "Feasibility_T5_906   <Reasoning>\n",
       "The question asks which object the...\n",
       "Feasibility_T5_928   <Reasoning>\n",
       "To answer this question, we need t...\n",
       "Feasibility_T5_981   <Reasoning>\n",
       "The question asks which object the...\n",
       "Feasibility_T6_1125  <Reasoning>\n",
       "To answer this question, we need t...\n",
       "\n",
       "[168 rows x 1 columns]"
      ]
     },
     "execution_count": 85,
     "metadata": {},
     "output_type": "execute_result"
    }
   ],
   "source": [
    "judged_correct_mask = judge_pred_df['pred'] == 'correct'\n",
    "\n",
    "original_pred_df.loc[judged_correct_mask]"
   ]
  },
  {
   "cell_type": "markdown",
   "metadata": {},
   "source": [
    "Let's analyze some of the answers"
   ]
  },
  {
   "cell_type": "markdown",
   "metadata": {},
   "source": [
    "First we execute the usual pipeline to extract the answers with a regex."
   ]
  },
  {
   "cell_type": "code",
   "execution_count": 86,
   "metadata": {},
   "outputs": [
    {
     "data": {
      "text/html": [
       "<div>\n",
       "<style scoped>\n",
       "    .dataframe tbody tr th:only-of-type {\n",
       "        vertical-align: middle;\n",
       "    }\n",
       "\n",
       "    .dataframe tbody tr th {\n",
       "        vertical-align: top;\n",
       "    }\n",
       "\n",
       "    .dataframe thead th {\n",
       "        text-align: right;\n",
       "    }\n",
       "</style>\n",
       "<table border=\"1\" class=\"dataframe\">\n",
       "  <thead>\n",
       "    <tr style=\"text-align: right;\">\n",
       "      <th></th>\n",
       "      <th>text</th>\n",
       "    </tr>\n",
       "    <tr>\n",
       "      <th>id</th>\n",
       "      <th></th>\n",
       "    </tr>\n",
       "  </thead>\n",
       "  <tbody>\n",
       "    <tr>\n",
       "      <th>Interaction_T1_40</th>\n",
       "      <td>The blanket.</td>\n",
       "    </tr>\n",
       "    <tr>\n",
       "      <th>Interaction_T1_71</th>\n",
       "      <td>The shoe.</td>\n",
       "    </tr>\n",
       "    <tr>\n",
       "      <th>Interaction_T1_78</th>\n",
       "      <td>The refrigerator.</td>\n",
       "    </tr>\n",
       "    <tr>\n",
       "      <th>Interaction_T1_95</th>\n",
       "      <td>The clothes.</td>\n",
       "    </tr>\n",
       "    <tr>\n",
       "      <th>Interaction_T1_100</th>\n",
       "      <td>The clothes.</td>\n",
       "    </tr>\n",
       "    <tr>\n",
       "      <th>...</th>\n",
       "      <td>...</td>\n",
       "    </tr>\n",
       "    <tr>\n",
       "      <th>Feasibility_T6_1414</th>\n",
       "      <td>Throw the bag.</td>\n",
       "    </tr>\n",
       "    <tr>\n",
       "      <th>Feasibility_T6_1430</th>\n",
       "      <td>Take the pillow.</td>\n",
       "    </tr>\n",
       "    <tr>\n",
       "      <th>Feasibility_T6_1454</th>\n",
       "      <td>Wipe the table.</td>\n",
       "    </tr>\n",
       "    <tr>\n",
       "      <th>Feasibility_T6_1455</th>\n",
       "      <td>Take the shoe.</td>\n",
       "    </tr>\n",
       "    <tr>\n",
       "      <th>Feasibility_T6_1456</th>\n",
       "      <td>Open the closet/cabinet.</td>\n",
       "    </tr>\n",
       "  </tbody>\n",
       "</table>\n",
       "<p>3862 rows × 1 columns</p>\n",
       "</div>"
      ],
      "text/plain": [
       "                                         text\n",
       "id                                           \n",
       "Interaction_T1_40                The blanket.\n",
       "Interaction_T1_71                   The shoe.\n",
       "Interaction_T1_78           The refrigerator.\n",
       "Interaction_T1_95                The clothes.\n",
       "Interaction_T1_100               The clothes.\n",
       "...                                       ...\n",
       "Feasibility_T6_1414            Throw the bag.\n",
       "Feasibility_T6_1430          Take the pillow.\n",
       "Feasibility_T6_1454           Wipe the table.\n",
       "Feasibility_T6_1455            Take the shoe.\n",
       "Feasibility_T6_1456  Open the closet/cabinet.\n",
       "\n",
       "[3862 rows x 1 columns]"
      ]
     },
     "execution_count": 86,
     "metadata": {},
     "output_type": "execute_result"
    }
   ],
   "source": [
    "ans_regex_pattern = r'A:\\s*(?:\\d\\.)?\\s*((?:\\b(?:\\w\\/?)+\\s*){,10}\\.)'\n",
    "\n",
    "extracted_ans_df = original_pred_df['response'].str.extract(ans_regex_pattern)\n",
    "extracted_ans_df.rename(columns={0: 'text'}, inplace=True)\n",
    "\n",
    "extracted_ans_df['text'] = extracted_ans_df['text'].str.strip()\n",
    "extracted_ans_df"
   ]
  },
  {
   "cell_type": "code",
   "execution_count": 87,
   "metadata": {},
   "outputs": [
    {
     "name": "stdout",
     "output_type": "stream",
     "text": [
      "Index: Interaction_T1_375\n",
      "Question: Which object was taken by the person?\n",
      "Ground truth answer: The blanket.\n",
      "Extracted answer: The clothes.\n",
      "\n",
      "Original answer:\n",
      "\n",
      "<Reasoning>\n",
      "The question asks which object was taken by the person. To answer this, we need to look for a Scene-Graph that contains the relationship \"holding\" between the person and another object.\n",
      "\n",
      "Upon examining the Spatio-Temporal Scene-Graphs in chronological order, I notice that the first Scene-Graph contains the relationship \"holding - clothes\". This suggests that the person is holding the clothes. However, we need to consider if this is the only instance where the person is taking an object.\n",
      "\n",
      "Looking at the subsequent Scene-Graphs, I see that the pattern of the person holding the clothes continues throughout the sequence. There are no other instances where the person is seen holding another object, such as the phone, food, or towel.\n",
      "\n",
      "Therefore, based on the information provided in the Spatio-Temporal Scene-Graphs, it appears that the object being taken by the person is indeed the clothes.\n",
      "\n",
      "A: 2. The clothes.\n",
      "\n",
      "Judge evlauation:\n",
      " - verdict: correct\n",
      " - score: 5\n",
      " - reason: The predicted answer matches the ground truth exactly, and the reasoning provided is accurate and thorough\n",
      "\n"
     ]
    }
   ],
   "source": [
    "idx = 'Interaction_T1_375'\n",
    "\n",
    "\n",
    "print(f\"Index: {idx}\")\n",
    "print(f\"Question: {gt_df.loc[idx]['question']}\")\n",
    "print(f\"Ground truth answer: {gt_df.loc[idx]['text']}\")\n",
    "print(f\"Extracted answer: {extracted_ans_df.loc[idx]['text']}\")\n",
    "print(f\"\\nOriginal answer:\\n\\n{original_pred_df.loc[idx]['response']}\")\n",
    "print(f\"\\nJudge evlauation:\\n\"\n",
    "      f\" - verdict: {judge_pred_df.loc[idx]['pred']}\\n\"\n",
    "      f\" - score: {judge_pred_df.loc[idx]['score']}\\n\"\n",
    "      f\" - reason: {judge_pred_df.loc[idx]['reason']}\\n\")"
   ]
  },
  {
   "cell_type": "markdown",
   "metadata": {},
   "source": [
    "The model seems confident that the predicted answer mathces the ground truth but as we can see above this is not true.  \n",
    "Can it be an error in the prompt? Or did the judge llm *\"hallucinate\"*?"
   ]
  },
  {
   "cell_type": "code",
   "execution_count": 88,
   "metadata": {},
   "outputs": [
    {
     "data": {
      "text/html": [
       "<div>\n",
       "<style scoped>\n",
       "    .dataframe tbody tr th:only-of-type {\n",
       "        vertical-align: middle;\n",
       "    }\n",
       "\n",
       "    .dataframe tbody tr th {\n",
       "        vertical-align: top;\n",
       "    }\n",
       "\n",
       "    .dataframe thead th {\n",
       "        text-align: right;\n",
       "    }\n",
       "</style>\n",
       "<table border=\"1\" class=\"dataframe\">\n",
       "  <thead>\n",
       "    <tr style=\"text-align: right;\">\n",
       "      <th></th>\n",
       "      <th>prompt</th>\n",
       "    </tr>\n",
       "    <tr>\n",
       "      <th>id</th>\n",
       "      <th></th>\n",
       "    </tr>\n",
       "  </thead>\n",
       "  <tbody>\n",
       "    <tr>\n",
       "      <th>Interaction_T1_13</th>\n",
       "      <td>Please evaluate the following question-answer ...</td>\n",
       "    </tr>\n",
       "    <tr>\n",
       "      <th>Interaction_T1_14</th>\n",
       "      <td>Please evaluate the following question-answer ...</td>\n",
       "    </tr>\n",
       "    <tr>\n",
       "      <th>Interaction_T1_31</th>\n",
       "      <td>Please evaluate the following question-answer ...</td>\n",
       "    </tr>\n",
       "    <tr>\n",
       "      <th>Interaction_T1_32</th>\n",
       "      <td>Please evaluate the following question-answer ...</td>\n",
       "    </tr>\n",
       "    <tr>\n",
       "      <th>Interaction_T1_40</th>\n",
       "      <td>Please evaluate the following question-answer ...</td>\n",
       "    </tr>\n",
       "    <tr>\n",
       "      <th>...</th>\n",
       "      <td>...</td>\n",
       "    </tr>\n",
       "    <tr>\n",
       "      <th>Feasibility_T6_1453</th>\n",
       "      <td>Please evaluate the following question-answer ...</td>\n",
       "    </tr>\n",
       "    <tr>\n",
       "      <th>Feasibility_T6_1454</th>\n",
       "      <td>Please evaluate the following question-answer ...</td>\n",
       "    </tr>\n",
       "    <tr>\n",
       "      <th>Feasibility_T6_1455</th>\n",
       "      <td>Please evaluate the following question-answer ...</td>\n",
       "    </tr>\n",
       "    <tr>\n",
       "      <th>Feasibility_T6_1456</th>\n",
       "      <td>Please evaluate the following question-answer ...</td>\n",
       "    </tr>\n",
       "    <tr>\n",
       "      <th>Feasibility_T6_1468</th>\n",
       "      <td>Please evaluate the following question-answer ...</td>\n",
       "    </tr>\n",
       "  </tbody>\n",
       "</table>\n",
       "<p>7098 rows × 1 columns</p>\n",
       "</div>"
      ],
      "text/plain": [
       "                                                                prompt\n",
       "id                                                                    \n",
       "Interaction_T1_13    Please evaluate the following question-answer ...\n",
       "Interaction_T1_14    Please evaluate the following question-answer ...\n",
       "Interaction_T1_31    Please evaluate the following question-answer ...\n",
       "Interaction_T1_32    Please evaluate the following question-answer ...\n",
       "Interaction_T1_40    Please evaluate the following question-answer ...\n",
       "...                                                                ...\n",
       "Feasibility_T6_1453  Please evaluate the following question-answer ...\n",
       "Feasibility_T6_1454  Please evaluate the following question-answer ...\n",
       "Feasibility_T6_1455  Please evaluate the following question-answer ...\n",
       "Feasibility_T6_1456  Please evaluate the following question-answer ...\n",
       "Feasibility_T6_1468  Please evaluate the following question-answer ...\n",
       "\n",
       "[7098 rows x 1 columns]"
      ]
     },
     "execution_count": 88,
     "metadata": {},
     "output_type": "execute_result"
    }
   ],
   "source": [
    "prompts = []\n",
    "with open('../data/llama3b_judged_prompts.jsonl') as f:\n",
    "    prompts = [json.loads(line) for line in f.readlines()]\n",
    "\n",
    "prompts_df = pd.DataFrame(prompts)\n",
    "prompts_df.rename(columns={'qid': 'id'}, inplace=True)\n",
    "prompts_df.set_index('id', inplace=True)\n",
    "prompts_df"
   ]
  },
  {
   "cell_type": "code",
   "execution_count": 89,
   "metadata": {},
   "outputs": [
    {
     "name": "stdout",
     "output_type": "stream",
     "text": [
      "Please evaluate the following question-answer pair:\n",
      "Question: Which object was taken by the person?\n",
      "\n",
      "Ground truth correct Answer: \n",
      "[START ANSWER]\n",
      "The blanket.\n",
      "[END ANSWER]\n",
      "\n",
      "Predicted Answer:\n",
      "[START PREDICTION]\n",
      "<Reasoning>\n",
      "The question asks which object was taken by the person. To answer this, we need to look for a Scene-Graph that contains the relationship \"holding\" between the person and another object.\n",
      "\n",
      "Upon examining the Spatio-Temporal Scene-Graphs in chronological order, I notice that the first Scene-Graph contains the relationship \"holding - clothes\". This suggests that the person is holding the clothes. However, we need to consider if this is the only instance where the person is taking an object.\n",
      "\n",
      "Looking at the subsequent Scene-Graphs, I see that the pattern of the person holding the clothes continues throughout the sequence. There are no other instances where the person is seen holding another object, such as the phone, food, or towel.\n",
      "\n",
      "Therefore, based on the information provided in the Spatio-Temporal Scene-Graphs, it appears that the object being taken by the person is indeed the clothes.\n",
      "\n",
      "A: 2. The clothes.\n",
      "[END Prediction]\n",
      "\n",
      "Provide your evaluation as a correct/incorrect prediction along with the score where the score is an\n",
      "integer value between 0 (fully wrong) and 5 (fully correct). The middle score provides the percentage of\n",
      "correctness.\n",
      "Please generate the response in the form of a Python dictionary string with keys 'pred', 'score' and\n",
      "'reason', where value of 'pred' is a string of 'correct' or 'incorrect', value of 'score' is in INTEGER, not STRING\n",
      "and value of 'reason' should provide the reason behind the decision.\n",
      "Only provide the Python dictionary string.\n",
      "For example, your response should look like this: {'pred': 'correct', 'score': 4, 'reason': reason}.\n"
     ]
    }
   ],
   "source": [
    "print(prompts_df.loc[idx]['prompt'])"
   ]
  },
  {
   "cell_type": "markdown",
   "metadata": {},
   "source": [
    "As we can see above, the prompt reported the ground truth accurately, thus is the model that missed completely the prediction."
   ]
  },
  {
   "cell_type": "markdown",
   "metadata": {},
   "source": [
    "Let's inspect more samples..."
   ]
  },
  {
   "cell_type": "code",
   "execution_count": 90,
   "metadata": {},
   "outputs": [
    {
     "name": "stdout",
     "output_type": "stream",
     "text": [
      "Index: Prediction_T3_147\n",
      "Question: Which object would the person put down next?\n",
      "Ground truth answer: The picture.\n",
      "Extracted answer: The box.\n",
      "\n",
      "Original answer:\n",
      "\n",
      "<Reasoning>\n",
      "To determine which object the person would put down next, we need to analyze the sequence of events unfolding in the scene. The person is currently holding a book and standing in front of a table. In the previous frame, they were touching a picture and standing in front of it.\n",
      "\n",
      "Looking at the Scene-Graphs, we can see that after the person touches the picture, they put it down. Then, they pick up the box and place it on the table. However, there is no indication that they would put the box down next.\n",
      "\n",
      "The only object that appears to be being handled by the person in a way that suggests they might put it down next is the book. The person has been holding the book since the beginning of the sequence, and it's possible that they will put it down when they are done with it.\n",
      "\n",
      "Therefore, based on this analysis, I would choose:\n",
      "\n",
      "A: 1. The box.\n",
      "However, considering my reasoning, a more accurate answer would be:\n",
      " \n",
      "<Final answer>\n",
      "A: 2. The book.\n",
      "</Final answer>\n",
      "\n",
      "Judge decision:\n",
      " - verdict: correct\n",
      " - score: 5\n",
      " - reason: The predicted answer matches the ground truth answer The analysis provided in the prediction is thorough and accurate, leading to a conclusion that aligns with the correct answer\n",
      "\n"
     ]
    }
   ],
   "source": [
    "idx = random.choice(judged_correct_mask[judged_correct_mask].index)\n",
    "\n",
    "\n",
    "print(f\"Index: {idx}\")\n",
    "print(f\"Question: {gt_df.loc[idx]['question']}\")\n",
    "print(f\"Ground truth answer: {gt_df.loc[idx]['text']}\")\n",
    "print(f\"Extracted answer: {extracted_ans_df.loc[idx]['text']}\")\n",
    "print(f\"\\nOriginal answer:\\n\\n{original_pred_df.loc[idx]['response']}\")\n",
    "print(f\"\\nJudge decision:\\n\"\n",
    "      f\" - verdict: {judge_pred_df.loc[idx]['pred']}\\n\"\n",
    "      f\" - score: {judge_pred_df.loc[idx]['score']}\\n\"\n",
    "      f\" - reason: {judge_pred_df.loc[idx]['reason']}\\n\")"
   ]
  },
  {
   "cell_type": "markdown",
   "metadata": {},
   "source": [
    "After manual inspecting 20 randomly selected samples from those for which the LLM decision differs from the predection obtained with the regex extraction method, I have found that both fail to some degree, therfore for samples the LLM judgment is correct meaning that the sample is wrongly misclassified by the answer extraction method. In other cases, however, the judge LLM wrongly classifies the prediction of the predictor LLM as correct even tough it does not match the ground truth.\n",
    "\n",
    "TODO: Try moving the ground truth part in the system part, pervious experiments have shown that the LLM tends to follow what is in the system prompt more strictly."
   ]
  },
  {
   "cell_type": "code",
   "execution_count": 91,
   "metadata": {},
   "outputs": [],
   "source": [
    "actually_correct = [\n",
    "'Prediction_T3_819', \n",
    "'Sequence_T5_2830', \n",
    "'Sequence_T3_5266', \n",
    "'Interaction_T1_2063', \n",
    "'Sequence_T2_1682', \n",
    "'Sequence_T1_3189', \n",
    "'Sequence_T4_2776', \n",
    "'Interaction_T2_3880', \n",
    "'Sequence_T1_3074', \n",
    "'Sequence_T2_51', \n",
    "'Sequence_T3_1340'\n",
    "]\n",
    "\n",
    "actually_wrong = [\n",
    "'Sequence_T3_96',\n",
    "'Sequence_T6_3840',\n",
    "'Prediction_T2_1112',\n",
    "'Prediction_T2_476',\n",
    "'Prediction_T4_1644',\n",
    "'Interaction_T2_2489',\n",
    "'Sequence_T4_3651',\n",
    "'Interaction_T2_2623',\n",
    "'Sequence_T3_3359'\n",
    "]"
   ]
  },
  {
   "cell_type": "markdown",
   "metadata": {},
   "source": [
    "### Distribution of confidence score"
   ]
  },
  {
   "cell_type": "code",
   "execution_count": 92,
   "metadata": {},
   "outputs": [
    {
     "data": {
      "image/png": "[encoded data removed]",
      "text/plain": [
       "<Figure size 800x600 with 1 Axes>"
      ]
     },
     "metadata": {},
     "output_type": "display_data"
    }
   ],
   "source": [
    "# Let's see the score distribution for all the predictions\n",
    "\n",
    "plt.figure(figsize=(8, 6))\n",
    "sns.histplot(data=judge_pred_df['score'], discrete=True)\n",
    "plt.title('Distribution of Judge Scores')\n",
    "plt.xlabel('Score')\n",
    "plt.ylabel('Count')\n",
    "plt.show()"
   ]
  },
  {
   "cell_type": "code",
   "execution_count": 93,
   "metadata": {},
   "outputs": [
    {
     "data": {
      "image/png": "[encoded data removed]",
      "text/plain": [
       "<Figure size 800x600 with 1 Axes>"
      ]
     },
     "metadata": {},
     "output_type": "display_data"
    }
   ],
   "source": [
    "# Now the score distribution for the prediction which the judge considers as correct answer\n",
    "\n",
    "plt.figure(figsize=(8, 6))\n",
    "sns.histplot(data=judge_pred_df[judged_correct_mask]['score'], discrete=True, bins=6)\n",
    "plt.title('Distribution of Judge Scores')\n",
    "plt.xlabel('Score')\n",
    "plt.ylabel('Count')\n",
    "plt.xticks(range(6))\n",
    "plt.show()"
   ]
  },
  {
   "cell_type": "markdown",
   "metadata": {},
   "source": [
    "Not good. The LLM is very confident for these set of answers, even though we have just verified that not all them are consitent with the ground truth."
   ]
  },
  {
   "cell_type": "markdown",
   "metadata": {},
   "source": [
    "## Loading the evaluation for the originally correct answers"
   ]
  },
  {
   "cell_type": "code",
   "execution_count": 94,
   "metadata": {},
   "outputs": [
    {
     "data": {
      "text/html": [
       "<div>\n",
       "<style scoped>\n",
       "    .dataframe tbody tr th:only-of-type {\n",
       "        vertical-align: middle;\n",
       "    }\n",
       "\n",
       "    .dataframe tbody tr th {\n",
       "        vertical-align: top;\n",
       "    }\n",
       "\n",
       "    .dataframe thead th {\n",
       "        text-align: right;\n",
       "    }\n",
       "</style>\n",
       "<table border=\"1\" class=\"dataframe\">\n",
       "  <thead>\n",
       "    <tr style=\"text-align: right;\">\n",
       "      <th></th>\n",
       "      <th>pred</th>\n",
       "      <th>score</th>\n",
       "      <th>reason</th>\n",
       "    </tr>\n",
       "    <tr>\n",
       "      <th>id</th>\n",
       "      <th></th>\n",
       "      <th></th>\n",
       "      <th></th>\n",
       "    </tr>\n",
       "  </thead>\n",
       "  <tbody>\n",
       "    <tr>\n",
       "      <th>Interaction_T1_13</th>\n",
       "      <td>correct</td>\n",
       "      <td>5</td>\n",
       "      <td>The predicted answer matches the ground truth ...</td>\n",
       "    </tr>\n",
       "    <tr>\n",
       "      <th>Interaction_T1_14</th>\n",
       "      <td>correct</td>\n",
       "      <td>5</td>\n",
       "      <td>The predicted answer matches the ground truth ...</td>\n",
       "    </tr>\n",
       "    <tr>\n",
       "      <th>Interaction_T1_32</th>\n",
       "      <td>correct</td>\n",
       "      <td>5</td>\n",
       "      <td>The predicted answer accurately identifies the...</td>\n",
       "    </tr>\n",
       "    <tr>\n",
       "      <th>Interaction_T1_43</th>\n",
       "      <td>correct</td>\n",
       "      <td>5</td>\n",
       "      <td>The predicted answer matches the ground truth ...</td>\n",
       "    </tr>\n",
       "    <tr>\n",
       "      <th>Interaction_T1_81</th>\n",
       "      <td>correct</td>\n",
       "      <td>5</td>\n",
       "      <td>The predicted answer matches the ground truth ...</td>\n",
       "    </tr>\n",
       "    <tr>\n",
       "      <th>...</th>\n",
       "      <td>...</td>\n",
       "      <td>...</td>\n",
       "      <td>...</td>\n",
       "    </tr>\n",
       "    <tr>\n",
       "      <th>Feasibility_T6_1428</th>\n",
       "      <td>correct</td>\n",
       "      <td>5</td>\n",
       "      <td>The predicted answer matches the ground truth ...</td>\n",
       "    </tr>\n",
       "    <tr>\n",
       "      <th>Feasibility_T6_1448</th>\n",
       "      <td>correct</td>\n",
       "      <td>5</td>\n",
       "      <td>The predicted answer matches the ground truth ...</td>\n",
       "    </tr>\n",
       "    <tr>\n",
       "      <th>Feasibility_T6_1449</th>\n",
       "      <td>correct</td>\n",
       "      <td>5</td>\n",
       "      <td>The predicted answer is correct because it dir...</td>\n",
       "    </tr>\n",
       "    <tr>\n",
       "      <th>Feasibility_T6_1453</th>\n",
       "      <td>incorrect</td>\n",
       "      <td>2</td>\n",
       "      <td>The predicted answer is close but not entirely...</td>\n",
       "    </tr>\n",
       "    <tr>\n",
       "      <th>Feasibility_T6_1468</th>\n",
       "      <td>correct</td>\n",
       "      <td>5</td>\n",
       "      <td>The predicted answer accurately reflects the s...</td>\n",
       "    </tr>\n",
       "  </tbody>\n",
       "</table>\n",
       "<p>3038 rows × 3 columns</p>\n",
       "</div>"
      ],
      "text/plain": [
       "                          pred  score  \\\n",
       "id                                      \n",
       "Interaction_T1_13      correct      5   \n",
       "Interaction_T1_14      correct      5   \n",
       "Interaction_T1_32      correct      5   \n",
       "Interaction_T1_43      correct      5   \n",
       "Interaction_T1_81      correct      5   \n",
       "...                        ...    ...   \n",
       "Feasibility_T6_1428    correct      5   \n",
       "Feasibility_T6_1448    correct      5   \n",
       "Feasibility_T6_1449    correct      5   \n",
       "Feasibility_T6_1453  incorrect      2   \n",
       "Feasibility_T6_1468    correct      5   \n",
       "\n",
       "                                                                reason  \n",
       "id                                                                      \n",
       "Interaction_T1_13    The predicted answer matches the ground truth ...  \n",
       "Interaction_T1_14    The predicted answer matches the ground truth ...  \n",
       "Interaction_T1_32    The predicted answer accurately identifies the...  \n",
       "Interaction_T1_43    The predicted answer matches the ground truth ...  \n",
       "Interaction_T1_81    The predicted answer matches the ground truth ...  \n",
       "...                                                                ...  \n",
       "Feasibility_T6_1428  The predicted answer matches the ground truth ...  \n",
       "Feasibility_T6_1448  The predicted answer matches the ground truth ...  \n",
       "Feasibility_T6_1449  The predicted answer is correct because it dir...  \n",
       "Feasibility_T6_1453  The predicted answer is close but not entirely...  \n",
       "Feasibility_T6_1468  The predicted answer accurately reflects the s...  \n",
       "\n",
       "[3038 rows x 3 columns]"
      ]
     },
     "execution_count": 94,
     "metadata": {},
     "output_type": "execute_result"
    }
   ],
   "source": [
    "# Load the scores for the wrong answers\n",
    "predictions = []\n",
    "with open('../outputs/llama8b_as_judge_correct.jsonl') as f:\n",
    "    predictions = [json.loads(line) for line in f.readlines()]\n",
    "\n",
    "# Extract pred, score and reason from response dictionary into separate columns\n",
    "judge_pred_df = pd.DataFrame(predictions).rename(columns={'qid':'id'})\n",
    "judge_pred_df['pred'] = \\\n",
    "    judge_pred_df['response'] \\\n",
    "    .apply(lambda x: eval(x)['pred']) \\\n",
    "    .astype('string') \n",
    "\n",
    "judge_pred_df['score'] = \\\n",
    "    judge_pred_df['response'] \\\n",
    "    .apply(lambda x: int(eval(x)['score'])) \\\n",
    "    .astype('int32')\n",
    "\n",
    "judge_pred_df['reason'] = \\\n",
    "    judge_pred_df['response'] \\\n",
    "    .apply(lambda x: eval(x)['reason']) \\\n",
    "    .astype('string')\n",
    "\n",
    "judge_pred_df.drop('response', axis=1, inplace=True)\n",
    "judge_pred_df.set_index('id', inplace=True)\n",
    "judge_pred_df\n"
   ]
  },
  {
   "cell_type": "code",
   "execution_count": 95,
   "metadata": {},
   "outputs": [
    {
     "name": "stdout",
     "output_type": "stream",
     "text": [
      "<class 'pandas.core.frame.DataFrame'>\n",
      "Index: 3038 entries, Interaction_T1_13 to Feasibility_T6_1468\n",
      "Data columns (total 3 columns):\n",
      " #   Column  Non-Null Count  Dtype \n",
      "---  ------  --------------  ----- \n",
      " 0   pred    3038 non-null   string\n",
      " 1   score   3038 non-null   int32 \n",
      " 2   reason  3038 non-null   string\n",
      "dtypes: int32(1), string(2)\n",
      "memory usage: 83.1+ KB\n"
     ]
    }
   ],
   "source": [
    "judge_pred_df.info()"
   ]
  },
  {
   "cell_type": "code",
   "execution_count": 96,
   "metadata": {},
   "outputs": [
    {
     "name": "stdout",
     "output_type": "stream",
     "text": [
      "\n",
      "Predictions:\n",
      "------------------------------\n",
      "incorrect :  22.28%\n",
      "correct   :  77.72%\n",
      "------------------------------\n"
     ]
    }
   ],
   "source": [
    "pred_percentages = judge_pred_df['pred'].value_counts(normalize=True) * 100\n",
    "\n",
    "print(\"\\nPredictions:\")\n",
    "print(\"-\" * 30)\n",
    "print(f\"{'incorrect':10}: {pred_percentages['incorrect']:6.2f}%\\n\"\n",
    "      f\"{'correct':10}: {pred_percentages['correct']:6.2f}%\")\n",
    "print(\"-\" * 30)"
   ]
  },
  {
   "cell_type": "markdown",
   "metadata": {},
   "source": [
    "An interesting metric, on 95% of the cases the model is concording with the deterministic classification of the answer regex extraction method"
   ]
  },
  {
   "cell_type": "markdown",
   "metadata": {},
   "source": [
    "Load the orignal model predictions to verify the judgement of the model."
   ]
  },
  {
   "cell_type": "code",
   "execution_count": 97,
   "metadata": {},
   "outputs": [],
   "source": [
    "original_pred = []\n",
    "with open('../data/llama3b_correct.jsonl') as f:\n",
    "    original_pred = [json.loads(line) for line in f.readlines()]\n",
    "\n",
    "original_pred_df = pd.DataFrame(original_pred).astype({'question_id': 'string', 'response': 'string'})\n",
    "original_pred_df.rename(columns={'question_id': 'id'}, inplace=True)\n",
    "original_pred_df.set_index('id', inplace=True)"
   ]
  },
  {
   "cell_type": "code",
   "execution_count": 99,
   "metadata": {},
   "outputs": [
    {
     "data": {
      "text/html": [
       "<div>\n",
       "<style scoped>\n",
       "    .dataframe tbody tr th:only-of-type {\n",
       "        vertical-align: middle;\n",
       "    }\n",
       "\n",
       "    .dataframe tbody tr th {\n",
       "        vertical-align: top;\n",
       "    }\n",
       "\n",
       "    .dataframe thead th {\n",
       "        text-align: right;\n",
       "    }\n",
       "</style>\n",
       "<table border=\"1\" class=\"dataframe\">\n",
       "  <thead>\n",
       "    <tr style=\"text-align: right;\">\n",
       "      <th></th>\n",
       "      <th>response</th>\n",
       "    </tr>\n",
       "    <tr>\n",
       "      <th>id</th>\n",
       "      <th></th>\n",
       "    </tr>\n",
       "  </thead>\n",
       "  <tbody>\n",
       "    <tr>\n",
       "      <th>Interaction_T1_171</th>\n",
       "      <td>&lt;Reasoning&gt;\n",
       "To determine which object was put ...</td>\n",
       "    </tr>\n",
       "    <tr>\n",
       "      <th>Interaction_T1_198</th>\n",
       "      <td>&lt;Reasoning&gt;\n",
       "To answer this question, we need t...</td>\n",
       "    </tr>\n",
       "    <tr>\n",
       "      <th>Interaction_T1_226</th>\n",
       "      <td>&lt;Reasoning&gt;\n",
       "The question asks which object was...</td>\n",
       "    </tr>\n",
       "    <tr>\n",
       "      <th>Interaction_T1_298</th>\n",
       "      <td>&lt;Reasoning&gt;\n",
       "The question asks which object was...</td>\n",
       "    </tr>\n",
       "    <tr>\n",
       "      <th>Interaction_T1_460</th>\n",
       "      <td>&lt;Reasoning&gt;\n",
       "The person is performing an action...</td>\n",
       "    </tr>\n",
       "    <tr>\n",
       "      <th>...</th>\n",
       "      <td>...</td>\n",
       "    </tr>\n",
       "    <tr>\n",
       "      <th>Feasibility_T6_1090</th>\n",
       "      <td>&lt;Reasoning&gt;\n",
       "To answer this question, we need t...</td>\n",
       "    </tr>\n",
       "    <tr>\n",
       "      <th>Feasibility_T6_1275</th>\n",
       "      <td>&lt;Reasoning&gt;\n",
       "The person is initially sitting on...</td>\n",
       "    </tr>\n",
       "    <tr>\n",
       "      <th>Feasibility_T6_1298</th>\n",
       "      <td>&lt;Reasoning&gt;\n",
       "To answer this question, we need t...</td>\n",
       "    </tr>\n",
       "    <tr>\n",
       "      <th>Feasibility_T6_1304</th>\n",
       "      <td>&lt;Reasoning&gt;\n",
       "To answer this question, we need t...</td>\n",
       "    </tr>\n",
       "    <tr>\n",
       "      <th>Feasibility_T6_1453</th>\n",
       "      <td>&lt;Reasoning&gt;\n",
       "To determine what the person is ab...</td>\n",
       "    </tr>\n",
       "  </tbody>\n",
       "</table>\n",
       "<p>677 rows × 1 columns</p>\n",
       "</div>"
      ],
      "text/plain": [
       "                                                              response\n",
       "id                                                                    \n",
       "Interaction_T1_171   <Reasoning>\n",
       "To determine which object was put ...\n",
       "Interaction_T1_198   <Reasoning>\n",
       "To answer this question, we need t...\n",
       "Interaction_T1_226   <Reasoning>\n",
       "The question asks which object was...\n",
       "Interaction_T1_298   <Reasoning>\n",
       "The question asks which object was...\n",
       "Interaction_T1_460   <Reasoning>\n",
       "The person is performing an action...\n",
       "...                                                                ...\n",
       "Feasibility_T6_1090  <Reasoning>\n",
       "To answer this question, we need t...\n",
       "Feasibility_T6_1275  <Reasoning>\n",
       "The person is initially sitting on...\n",
       "Feasibility_T6_1298  <Reasoning>\n",
       "To answer this question, we need t...\n",
       "Feasibility_T6_1304  <Reasoning>\n",
       "To answer this question, we need t...\n",
       "Feasibility_T6_1453  <Reasoning>\n",
       "To determine what the person is ab...\n",
       "\n",
       "[677 rows x 1 columns]"
      ]
     },
     "execution_count": 99,
     "metadata": {},
     "output_type": "execute_result"
    }
   ],
   "source": [
    "judged_incorrect_mask = judge_pred_df['pred'] == 'incorrect'\n",
    "\n",
    "original_pred_df.loc[judged_incorrect_mask]"
   ]
  },
  {
   "cell_type": "markdown",
   "metadata": {},
   "source": [
    "Let's analyze some of the answers"
   ]
  },
  {
   "cell_type": "markdown",
   "metadata": {},
   "source": [
    "First we execute the usual pipeline to extract the answers with a regex."
   ]
  },
  {
   "cell_type": "code",
   "execution_count": 100,
   "metadata": {},
   "outputs": [
    {
     "data": {
      "text/html": [
       "<div>\n",
       "<style scoped>\n",
       "    .dataframe tbody tr th:only-of-type {\n",
       "        vertical-align: middle;\n",
       "    }\n",
       "\n",
       "    .dataframe tbody tr th {\n",
       "        vertical-align: top;\n",
       "    }\n",
       "\n",
       "    .dataframe thead th {\n",
       "        text-align: right;\n",
       "    }\n",
       "</style>\n",
       "<table border=\"1\" class=\"dataframe\">\n",
       "  <thead>\n",
       "    <tr style=\"text-align: right;\">\n",
       "      <th></th>\n",
       "      <th>text</th>\n",
       "    </tr>\n",
       "    <tr>\n",
       "      <th>id</th>\n",
       "      <th></th>\n",
       "    </tr>\n",
       "  </thead>\n",
       "  <tbody>\n",
       "    <tr>\n",
       "      <th>Interaction_T1_13</th>\n",
       "      <td>The clothes.</td>\n",
       "    </tr>\n",
       "    <tr>\n",
       "      <th>Interaction_T1_14</th>\n",
       "      <td>The clothes.</td>\n",
       "    </tr>\n",
       "    <tr>\n",
       "      <th>Interaction_T1_32</th>\n",
       "      <td>The shoe.</td>\n",
       "    </tr>\n",
       "    <tr>\n",
       "      <th>Interaction_T1_43</th>\n",
       "      <td>The clothes.</td>\n",
       "    </tr>\n",
       "    <tr>\n",
       "      <th>Interaction_T1_81</th>\n",
       "      <td>The sofa/couch.</td>\n",
       "    </tr>\n",
       "    <tr>\n",
       "      <th>...</th>\n",
       "      <td>...</td>\n",
       "    </tr>\n",
       "    <tr>\n",
       "      <th>Feasibility_T6_1428</th>\n",
       "      <td>Take the cup/glass/bottle.</td>\n",
       "    </tr>\n",
       "    <tr>\n",
       "      <th>Feasibility_T6_1448</th>\n",
       "      <td>Put down the laptop.</td>\n",
       "    </tr>\n",
       "    <tr>\n",
       "      <th>Feasibility_T6_1449</th>\n",
       "      <td>Put down the laptop.</td>\n",
       "    </tr>\n",
       "    <tr>\n",
       "      <th>Feasibility_T6_1453</th>\n",
       "      <td>Wash the table.</td>\n",
       "    </tr>\n",
       "    <tr>\n",
       "      <th>Feasibility_T6_1468</th>\n",
       "      <td>Hold the food.</td>\n",
       "    </tr>\n",
       "  </tbody>\n",
       "</table>\n",
       "<p>3038 rows × 1 columns</p>\n",
       "</div>"
      ],
      "text/plain": [
       "                                           text\n",
       "id                                             \n",
       "Interaction_T1_13                  The clothes.\n",
       "Interaction_T1_14                  The clothes.\n",
       "Interaction_T1_32                     The shoe.\n",
       "Interaction_T1_43                  The clothes.\n",
       "Interaction_T1_81               The sofa/couch.\n",
       "...                                         ...\n",
       "Feasibility_T6_1428  Take the cup/glass/bottle.\n",
       "Feasibility_T6_1448        Put down the laptop.\n",
       "Feasibility_T6_1449        Put down the laptop.\n",
       "Feasibility_T6_1453             Wash the table.\n",
       "Feasibility_T6_1468              Hold the food.\n",
       "\n",
       "[3038 rows x 1 columns]"
      ]
     },
     "execution_count": 100,
     "metadata": {},
     "output_type": "execute_result"
    }
   ],
   "source": [
    "ans_regex_pattern = r'A:\\s*(?:\\d\\.)?\\s*((?:\\b(?:\\w\\/?)+\\s*){,10}\\.)'\n",
    "\n",
    "extracted_ans_df = original_pred_df['response'].str.extract(ans_regex_pattern)\n",
    "extracted_ans_df.rename(columns={0: 'text'}, inplace=True)\n",
    "\n",
    "extracted_ans_df['text'] = extracted_ans_df['text'].str.strip()\n",
    "extracted_ans_df"
   ]
  },
  {
   "cell_type": "code",
   "execution_count": 101,
   "metadata": {},
   "outputs": [
    {
     "name": "stdout",
     "output_type": "stream",
     "text": [
      "Index: Interaction_T1_171\n",
      "Question: Which object was put down by the person?\n",
      "Ground truth answer: The shoe.\n",
      "Extracted answer: The shoe.\n",
      "\n",
      "Original answer:\n",
      "\n",
      "<Reasoning>\n",
      "To determine which object was put down by the person, we need to analyze the sequence of events. The person is initially wearing a shoe and standing on the floor. As they move around, their position changes, but the shoe remains in contact with the ground.\n",
      "\n",
      "The first scene-graph shows the person wearing the shoe and standing on the floor, indicating that the shoe has not been put down yet. However, subsequent scene-graphs show the person moving towards a location where they are no longer standing on the floor, suggesting that they have placed the shoe down.\n",
      "\n",
      "In particular, Scene-Graph 2 shows the person wearing the shoe and standing on the floor, while Scene-Graph 3 shows the person wearing the shoe and standing on the ground. This implies that the person has put the shoe down at some point between these two scenes.\n",
      "\n",
      "The correct answer is therefore not explicitly stated in any of the scene-graphs, but rather implied by the sequence of events. However, based on the information provided, we can infer that the object being referred to is likely the shoe.\n",
      "\n",
      "A: 2. The shoe.\n",
      "\n",
      "Judge evlauation:\n",
      " - verdict: incorrect\n",
      " - score: 2\n",
      " - reason: The predicted answer is incorrect because it does not directly state that the shoe was put down by the person Although the reasoning provided attempts to infer this conclusion, it is still an inference and may be subject to interpretation\n",
      "\n"
     ]
    }
   ],
   "source": [
    "idx = 'Interaction_T1_171'\n",
    "\n",
    "\n",
    "print(f\"Index: {idx}\")\n",
    "print(f\"Question: {gt_df.loc[idx]['question']}\")\n",
    "print(f\"Ground truth answer: {gt_df.loc[idx]['text']}\")\n",
    "print(f\"Extracted answer: {extracted_ans_df.loc[idx]['text']}\")\n",
    "print(f\"\\nOriginal answer:\\n\\n{original_pred_df.loc[idx]['response']}\")\n",
    "print(f\"\\nJudge evlauation:\\n\"\n",
    "      f\" - verdict: {judge_pred_df.loc[idx]['pred']}\\n\"\n",
    "      f\" - score: {judge_pred_df.loc[idx]['score']}\\n\"\n",
    "      f\" - reason: {judge_pred_df.loc[idx]['reason']}\\n\")"
   ]
  },
  {
   "cell_type": "markdown",
   "metadata": {},
   "source": [
    "Let's inspect more samples..."
   ]
  },
  {
   "cell_type": "code",
   "execution_count": 102,
   "metadata": {},
   "outputs": [
    {
     "name": "stdout",
     "output_type": "stream",
     "text": [
      "Index: Interaction_T1_7151\n",
      "Question: Which object was lied on by the person?\n",
      "Ground truth answer: The floor.\n",
      "Extracted answer: The floor.\n",
      "\n",
      "Original answer:\n",
      "\n",
      "<Reasoning>\n",
      "To answer this question, we need to analyze the Scene-Graphs in chronological order. The person is first touching a window and then standing in front of it.\n",
      "\n",
      "The next relevant Scene-Graph shows that the person is lying on the floor. This indicates that the person has moved from being in front of the window to lying on the floor.\n",
      "\n",
      "Since there are multiple instances of the person lying on the floor, we can conclude that the person was lied on by the floor at some point during this sequence.\n",
      "\n",
      "Therefore, based on the given Scene-Graphs, the correct answer is:\n",
      "A: 0. The floor.\n",
      "\n",
      "Judge decision:\n",
      " - verdict: incorrect\n",
      " - score: 2\n",
      " - reason: The predicted answer is incorrect because it incorrectly states that the person was lied on by the floor at some point during the sequence The correct interpretation of the Scene-Graphs shows that the person is lying on the floor, not being lied on by it\n",
      "\n"
     ]
    }
   ],
   "source": [
    "idx = random.choice(judged_incorrect_mask[judged_incorrect_mask].index)\n",
    "\n",
    "\n",
    "print(f\"Index: {idx}\")\n",
    "print(f\"Question: {gt_df.loc[idx]['question']}\")\n",
    "print(f\"Ground truth answer: {gt_df.loc[idx]['text']}\")\n",
    "print(f\"Extracted answer: {extracted_ans_df.loc[idx]['text']}\")\n",
    "print(f\"\\nOriginal answer:\\n\\n{original_pred_df.loc[idx]['response']}\")\n",
    "print(f\"\\nJudge decision:\\n\"\n",
    "      f\" - verdict: {judge_pred_df.loc[idx]['pred']}\\n\"\n",
    "      f\" - score: {judge_pred_df.loc[idx]['score']}\\n\"\n",
    "      f\" - reason: {judge_pred_df.loc[idx]['reason']}\\n\")"
   ]
  },
  {
   "cell_type": "markdown",
   "metadata": {},
   "source": [
    "After manual inspecting 20 randomly selected samples from those for which the LLM decision differs from the predection obtained with the regex extraction method, I have found that both fail to some degree, therfore for samples the LLM judgment is correct meaning that the sample is wrongly misclassified by the answer extraction method. In other cases, however, the judge LLM wrongly classifies the prediction of the predictor LLM as correct even tough it does not match the ground truth.\n",
    "\n",
    "TODO: Try moving the ground truth part in the system part, pervious experiments have shown that the LLM tends to follow what is in the system prompt more strictly."
   ]
  },
  {
   "cell_type": "code",
   "execution_count": null,
   "metadata": {},
   "outputs": [],
   "source": [
    "actually_correct = [\n",
    "'Prediction_T3_819', \n",
    "'Sequence_T5_2830', \n",
    "'Sequence_T3_5266', \n",
    "'Interaction_T1_2063', \n",
    "'Sequence_T2_1682', \n",
    "'Sequence_T1_3189', \n",
    "'Sequence_T4_2776', \n",
    "'Interaction_T2_3880', \n",
    "'Sequence_T1_3074', \n",
    "'Sequence_T2_51', \n",
    "'Sequence_T3_1340'\n",
    "]\n",
    "\n",
    "actually_wrong = [\n",
    "'Sequence_T3_96',\n",
    "'Sequence_T6_3840',\n",
    "'Prediction_T2_1112',\n",
    "'Prediction_T2_476',\n",
    "'Prediction_T4_1644',\n",
    "'Interaction_T2_2489',\n",
    "'Sequence_T4_3651',\n",
    "'Interaction_T2_2623',\n",
    "'Sequence_T3_3359'\n",
    "]"
   ]
  },
  {
   "cell_type": "markdown",
   "metadata": {},
   "source": [
    "### Distribution of confidence score"
   ]
  },
  {
   "cell_type": "code",
   "execution_count": 103,
   "metadata": {},
   "outputs": [
    {
     "data": {
      "image/png": "[encoded data removed]",
      "text/plain": [
       "<Figure size 800x600 with 1 Axes>"
      ]
     },
     "metadata": {},
     "output_type": "display_data"
    }
   ],
   "source": [
    "# Let's see the score distribution for all the predictions\n",
    "\n",
    "plt.figure(figsize=(8, 6))\n",
    "sns.histplot(data=judge_pred_df['score'], discrete=True)\n",
    "plt.title('Distribution of Judge Scores')\n",
    "plt.xlabel('Score')\n",
    "plt.ylabel('Count')\n",
    "plt.show()"
   ]
  },
  {
   "cell_type": "code",
   "execution_count": 104,
   "metadata": {},
   "outputs": [
    {
     "data": {
      "image/png": "[encoded data removed]",
      "text/plain": [
       "<Figure size 800x600 with 1 Axes>"
      ]
     },
     "metadata": {},
     "output_type": "display_data"
    }
   ],
   "source": [
    "# Now the score distribution for the prediction which the judge considers as correct answer\n",
    "\n",
    "plt.figure(figsize=(8, 6))\n",
    "sns.histplot(data=judge_pred_df[judged_incorrect_mask]['score'], discrete=True, bins=6)\n",
    "plt.title('Distribution of Judge Scores')\n",
    "plt.xlabel('Score')\n",
    "plt.ylabel('Count')\n",
    "plt.xticks(range(6))\n",
    "plt.show()"
   ]
  },
  {
   "cell_type": "markdown",
   "metadata": {},
   "source": [
    "## Evaluation on the entire dataset"
   ]
  },
  {
   "cell_type": "markdown",
   "metadata": {},
   "source": [
    "Let's do some visualization also for the ground truth data"
   ]
  },
  {
   "cell_type": "code",
   "execution_count": null,
   "metadata": {},
   "outputs": [
    {
     "name": "stdout",
     "output_type": "stream",
     "text": [
      "We have 198 unique answers\n"
     ]
    }
   ],
   "source": [
    "print(f\"We have {gt_df['text'].nunique()} unique answers\")\n"
   ]
  },
  {
   "cell_type": "code",
   "execution_count": null,
   "metadata": {},
   "outputs": [
    {
     "data": {
      "text/plain": [
       "(6802, 4)"
      ]
     },
     "execution_count": 264,
     "metadata": {},
     "output_type": "execute_result"
    }
   ],
   "source": [
    "# Inner join - keeps only indices present in both series\n",
    "\n",
    "ans_df.rename(columns={'text': 'pred_text'}, inplace=True)\n",
    "eval_df = gt_df.join(\n",
    "    ans_df, \n",
    "    how='inner' # we account also for samples without answers\n",
    ")\n",
    "\n",
    "eval_df.shape\n"
   ]
  },
  {
   "cell_type": "code",
   "execution_count": null,
   "metadata": {},
   "outputs": [],
   "source": [
    "def accuracy(eval_df, on_what='text'):\n",
    "    hits_text = (eval_df[f'pred_{on_what}'] == eval_df[on_what]).sum()\n",
    "    \n",
    "\n",
    "    return hits_text/eval_df.shape[0]\n"
   ]
  },
  {
   "cell_type": "code",
   "execution_count": null,
   "metadata": {},
   "outputs": [
    {
     "name": "stdout",
     "output_type": "stream",
     "text": [
      "Text Accuracy: 29.43%\n"
     ]
    }
   ],
   "source": [
    "text_acc = accuracy(eval_df)\n",
    "\n",
    "print(f\"Text Accuracy: {text_acc:.2%}\")\n"
   ]
  },
  {
   "cell_type": "code",
   "execution_count": null,
   "metadata": {},
   "outputs": [
    {
     "data": {
      "text/html": [
       "<div>\n",
       "<style scoped>\n",
       "    .dataframe tbody tr th:only-of-type {\n",
       "        vertical-align: middle;\n",
       "    }\n",
       "\n",
       "    .dataframe tbody tr th {\n",
       "        vertical-align: top;\n",
       "    }\n",
       "\n",
       "    .dataframe thead th {\n",
       "        text-align: right;\n",
       "    }\n",
       "</style>\n",
       "<table border=\"1\" class=\"dataframe\">\n",
       "  <thead>\n",
       "    <tr style=\"text-align: right;\">\n",
       "      <th></th>\n",
       "      <th>choices</th>\n",
       "      <th>num</th>\n",
       "      <th>text</th>\n",
       "      <th>pred_text</th>\n",
       "    </tr>\n",
       "    <tr>\n",
       "      <th>id</th>\n",
       "      <th></th>\n",
       "      <th></th>\n",
       "      <th></th>\n",
       "      <th></th>\n",
       "    </tr>\n",
       "  </thead>\n",
       "  <tbody>\n",
       "    <tr>\n",
       "      <th>Interaction_T1_13</th>\n",
       "      <td>{'0': 'The closet/cabinet.', '1': 'The blanket...</td>\n",
       "      <td>2</td>\n",
       "      <td>The clothes</td>\n",
       "      <td>The clothes</td>\n",
       "    </tr>\n",
       "    <tr>\n",
       "      <th>Interaction_T1_14</th>\n",
       "      <td>{'0': 'The blanket.', '1': 'The table.', '2': ...</td>\n",
       "      <td>2</td>\n",
       "      <td>The clothes</td>\n",
       "      <td>The clothes</td>\n",
       "    </tr>\n",
       "    <tr>\n",
       "      <th>Interaction_T1_32</th>\n",
       "      <td>{'0': 'The food.', '1': 'The shoe.', '2': 'The...</td>\n",
       "      <td>1</td>\n",
       "      <td>The shoe</td>\n",
       "      <td>The shoe</td>\n",
       "    </tr>\n",
       "    <tr>\n",
       "      <th>Interaction_T1_71</th>\n",
       "      <td>{'0': 'The paper/notebook.', '1': 'The clothes...</td>\n",
       "      <td>0</td>\n",
       "      <td>The paper/notebook</td>\n",
       "      <td>The paper/notebook</td>\n",
       "    </tr>\n",
       "    <tr>\n",
       "      <th>Interaction_T1_100</th>\n",
       "      <td>{'0': 'The table.', '1': 'The towel.', '2': 'T...</td>\n",
       "      <td>3</td>\n",
       "      <td>The blanket</td>\n",
       "      <td>The blanket</td>\n",
       "    </tr>\n",
       "    <tr>\n",
       "      <th>...</th>\n",
       "      <td>...</td>\n",
       "      <td>...</td>\n",
       "      <td>...</td>\n",
       "      <td>...</td>\n",
       "    </tr>\n",
       "    <tr>\n",
       "      <th>Feasibility_T6_1375</th>\n",
       "      <td>{'0': 'Put down the clothes.', '1': 'Take the ...</td>\n",
       "      <td>2</td>\n",
       "      <td>Sit at the table</td>\n",
       "      <td>Sit at the table</td>\n",
       "    </tr>\n",
       "    <tr>\n",
       "      <th>Feasibility_T6_1412</th>\n",
       "      <td>{'0': 'Put down the box.', '1': 'Hold the book...</td>\n",
       "      <td>1</td>\n",
       "      <td>Hold the book</td>\n",
       "      <td>Hold the book</td>\n",
       "    </tr>\n",
       "    <tr>\n",
       "      <th>Feasibility_T6_1414</th>\n",
       "      <td>{'0': 'Throw the bag.', '1': 'Close the laptop...</td>\n",
       "      <td>3</td>\n",
       "      <td>Open the book</td>\n",
       "      <td>Open the book</td>\n",
       "    </tr>\n",
       "    <tr>\n",
       "      <th>Feasibility_T6_1428</th>\n",
       "      <td>{'0': 'Close the refrigerator.', '1': 'Throw t...</td>\n",
       "      <td>3</td>\n",
       "      <td>Take the cup/glass/bottle</td>\n",
       "      <td>Take the cup/glass/bottle</td>\n",
       "    </tr>\n",
       "    <tr>\n",
       "      <th>Feasibility_T6_1454</th>\n",
       "      <td>{'0': 'Take the towel.', '1': 'Throw the bag.'...</td>\n",
       "      <td>0</td>\n",
       "      <td>Take the towel</td>\n",
       "      <td>Take the towel</td>\n",
       "    </tr>\n",
       "  </tbody>\n",
       "</table>\n",
       "<p>2002 rows × 4 columns</p>\n",
       "</div>"
      ],
      "text/plain": [
       "                                                               choices num  \\\n",
       "id                                                                           \n",
       "Interaction_T1_13    {'0': 'The closet/cabinet.', '1': 'The blanket...   2   \n",
       "Interaction_T1_14    {'0': 'The blanket.', '1': 'The table.', '2': ...   2   \n",
       "Interaction_T1_32    {'0': 'The food.', '1': 'The shoe.', '2': 'The...   1   \n",
       "Interaction_T1_71    {'0': 'The paper/notebook.', '1': 'The clothes...   0   \n",
       "Interaction_T1_100   {'0': 'The table.', '1': 'The towel.', '2': 'T...   3   \n",
       "...                                                                ...  ..   \n",
       "Feasibility_T6_1375  {'0': 'Put down the clothes.', '1': 'Take the ...   2   \n",
       "Feasibility_T6_1412  {'0': 'Put down the box.', '1': 'Hold the book...   1   \n",
       "Feasibility_T6_1414  {'0': 'Throw the bag.', '1': 'Close the laptop...   3   \n",
       "Feasibility_T6_1428  {'0': 'Close the refrigerator.', '1': 'Throw t...   3   \n",
       "Feasibility_T6_1454  {'0': 'Take the towel.', '1': 'Throw the bag.'...   0   \n",
       "\n",
       "                                          text                  pred_text  \n",
       "id                                                                         \n",
       "Interaction_T1_13                  The clothes                The clothes  \n",
       "Interaction_T1_14                  The clothes                The clothes  \n",
       "Interaction_T1_32                     The shoe                   The shoe  \n",
       "Interaction_T1_71           The paper/notebook         The paper/notebook  \n",
       "Interaction_T1_100                 The blanket                The blanket  \n",
       "...                                        ...                        ...  \n",
       "Feasibility_T6_1375           Sit at the table           Sit at the table  \n",
       "Feasibility_T6_1412              Hold the book              Hold the book  \n",
       "Feasibility_T6_1414              Open the book              Open the book  \n",
       "Feasibility_T6_1428  Take the cup/glass/bottle  Take the cup/glass/bottle  \n",
       "Feasibility_T6_1454             Take the towel             Take the towel  \n",
       "\n",
       "[2002 rows x 4 columns]"
      ]
     },
     "execution_count": 267,
     "metadata": {},
     "output_type": "execute_result"
    }
   ],
   "source": [
    "eval_df[eval_df['text'] == eval_df['pred_text']]\n"
   ]
  },
  {
   "cell_type": "markdown",
   "metadata": {},
   "source": [
    "check if the equality with NA result in a false or is skipped"
   ]
  },
  {
   "cell_type": "code",
   "execution_count": null,
   "metadata": {},
   "outputs": [
    {
     "name": "stdout",
     "output_type": "stream",
     "text": [
      "Real Accuracy: 28.21%\n"
     ]
    }
   ],
   "source": [
    "real_acc = accuracy(eval_df) * eval_df.shape[0] / gt_df.shape[0]\n",
    "\n",
    "print(f\"Real Accuracy: {real_acc:.2%}\")\n"
   ]
  },
  {
   "cell_type": "code",
   "execution_count": null,
   "metadata": {},
   "outputs": [],
   "source": [
    "def print_acc(eval_df, acc_fn):\n",
    "    print(f\"{'Question type':<15}{'Total':^15}{'Accuracy':^10}\\n\")\n",
    "\n",
    "    total = eval_df.index.str.startswith('Interaction').sum()\n",
    "    acc = acc_fn(eval_df[eval_df.index.str.startswith('Interaction')])\n",
    "    print(f\"{'Interaction':<15}{total:^15}{acc:^10.2%}\")\n",
    "\n",
    "    total = eval_df.index.str.startswith('Sequence').sum()\n",
    "    acc = acc_fn(eval_df[eval_df.index.str.startswith('Sequence')])\n",
    "    print(f\"{'Sequence':<15}{total:^15}{acc:^10.2%}\")\n",
    "\n",
    "    total = eval_df.index.str.startswith('Prediction').sum()\n",
    "    acc = acc_fn(eval_df[eval_df.index.str.startswith('Prediction')])\n",
    "    print(f\"{'Prediction':<15}{total:^15}{acc:^10.2%}\")\n",
    "\n",
    "    total = eval_df.index.str.startswith('Feasibility').sum()\n",
    "    acc = acc_fn(eval_df[eval_df.index.str.startswith('Feasibility')])\n",
    "    print(f\"{'Feasibility':<15}{total:^15}{acc:^10.2%}\")\n"
   ]
  },
  {
   "cell_type": "code",
   "execution_count": null,
   "metadata": {},
   "outputs": [
    {
     "name": "stdout",
     "output_type": "stream",
     "text": [
      "Question type       Total      Accuracy \n",
      "\n",
      "Interaction         2310        25.80%  \n",
      "Sequence            3409        31.68%  \n",
      "Prediction           599        31.22%  \n",
      "Feasibility          484        28.72%  \n"
     ]
    }
   ],
   "source": [
    "print_acc(eval_df, lambda x: accuracy(x, on_what='text'))\n"
   ]
  },
  {
   "cell_type": "code",
   "execution_count": null,
   "metadata": {},
   "outputs": [
    {
     "name": "stdout",
     "output_type": "stream",
     "text": [
      "Question type       Total      Accuracy \n",
      "\n",
      "Interaction         1179        44.61%  \n",
      "Sequence            1792        47.88%  \n",
      "Prediction           333        39.64%  \n",
      "Feasibility          267        42.70%  \n"
     ]
    }
   ],
   "source": [
    "index_intersect = predictions_df[html_tags_mask].index.intersection(eval_df.index)\n",
    "print_acc(eval_df.loc[index_intersect], accuracy)\n"
   ]
  },
  {
   "cell_type": "code",
   "execution_count": null,
   "metadata": {},
   "outputs": [
    {
     "name": "stdout",
     "output_type": "stream",
     "text": [
      "Question type       Total      Answered \n",
      "\n",
      "Interaction         2398        96.33%  \n",
      "Sequence            3586        95.06%  \n",
      "Prediction           624        95.99%  \n",
      "Feasibility          490        98.78%  \n",
      "Overall             7098        95.83%  \n"
     ]
    }
   ],
   "source": [
    "# % of answers conforming to template per category\n",
    "\n",
    "def print_ans_perc(eval_df, gt_df):\n",
    "    print(f\"{'Question type':<15}{'Total':^15}{'Answered':^10}\\n\")\n",
    "\n",
    "    total = gt_df.index.str.startswith('Interaction').sum()\n",
    "    acc = len(gt_df.index.intersection(eval_df[eval_df.index.str.startswith('Interaction')].index))/total\n",
    "    print(f\"{'Interaction':<15}{total:^15}{acc:^10.2%}\")\n",
    "\n",
    "    total = gt_df.index.str.startswith('Sequence').sum()\n",
    "    acc = len(gt_df.index.intersection(eval_df[eval_df.index.str.startswith('Sequence')].index))/total\n",
    "    print(f\"{'Sequence':<15}{total:^15}{acc:^10.2%}\")\n",
    "\n",
    "    total = gt_df.index.str.startswith('Prediction').sum()\n",
    "    acc = len(gt_df.index.intersection(eval_df[eval_df.index.str.startswith('Prediction')].index))/total\n",
    "    print(f\"{'Prediction':<15}{total:^15}{acc:^10.2%}\")\n",
    "\n",
    "    total = gt_df.index.str.startswith('Feasibility').sum()\n",
    "    acc = len(gt_df.index.intersection(eval_df[eval_df.index.str.startswith('Feasibility')].index))/total\n",
    "    print(f\"{'Feasibility':<15}{total:^15}{acc:^10.2%}\")\n",
    "\n",
    "    total = gt_df.shape[0]\n",
    "    acc = eval_df.shape[0]/total\n",
    "    print(f\"{'Overall':<15}{total:^15}{acc:^10.2%}\")\n",
    "\n",
    "print_ans_perc(eval_df, gt_df)\n"
   ]
  }
 ],
 "metadata": {
  "kernelspec": {
   "display_name": "video-llm",
   "language": "python",
   "name": "video-llm"
  },
  "language_info": {
   "codemirror_mode": {
    "name": "ipython",
    "version": 3
   },
   "file_extension": ".py",
   "mimetype": "text/x-python",
   "name": "python",
   "nbconvert_exporter": "python",
   "pygments_lexer": "ipython3",
   "version": "3.8.18"
  }
 },
 "nbformat": 4,
 "nbformat_minor": 2
}
