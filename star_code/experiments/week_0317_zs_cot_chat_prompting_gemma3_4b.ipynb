{
 "cells": [
  {
   "cell_type": "code",
   "execution_count": 186,
   "metadata": {},
   "outputs": [],
   "source": [
    "import random\n",
    "import json\n",
    "import re\n",
    "import os\n",
    "\n",
    "import numpy as np\n",
    "import pandas as pd\n",
    "\n",
    "import matplotlib.pyplot as plt\n",
    "import seaborn as sns\n",
    "\n",
    "from sklearn.metrics import confusion_matrix\n",
    "\n",
    "random.seed(6)\n",
    "np.random.seed(6)\n"
   ]
  },
  {
   "cell_type": "markdown",
   "metadata": {},
   "source": [
    "# Experiment ? - Llama3.2 3b on chat mode\n",
    "\n",
    "In this experiment I feed the the model a revisioned version of the input, where the STSG is put the beginning of the prompt and the question with the alternatives at the end. Finally I ask the model to reason about the possible answer *step by step*, conditioning it to perform Zero-Shot-CoT (Prompt engineering technique where no example of thow to perform the reasoning is provided -- no in-context learning). Moreover, instead of asking the model to provide the answer on the same promtp, I instatied the model in multi-turn chat mode where, after the model gives the first response, a script sends an automatic reply asking to extract the final answer given by the model and give it a json format.\n",
    "\n",
    "**Parameters:**\n",
    "- model: Gemma3 12b\n",
    "- system prompt: MCQ_system_promtp_ZS_CoT.txt\n",
    "- user_prompt: MCQ_user_prompt_ZS_CoT_v2.txt\n",
    "- temperature: 0.1\n",
    "- sampling method: (default) top-p (p=0.9)\n"
   ]
  },
  {
   "cell_type": "markdown",
   "metadata": {},
   "source": [
    "## Prompts"
   ]
  },
  {
   "cell_type": "code",
   "execution_count": 187,
   "metadata": {},
   "outputs": [
    {
     "data": {
      "text/plain": [
       "['resp_analysis6_deepseek.ipynb',\n",
       " 'resp_analysis5.ipynb',\n",
       " 'week_0317_zs_cot_chat_prompting_llama3b.ipynb',\n",
       " 'week_0317_zs_cot_chat_prompting_gemma3_12b.ipynb',\n",
       " 'resp_analysis4_ZS.ipynb',\n",
       " 'resp_analysis6_phi3.ipynb',\n",
       " 'week_0310_llama8b_as_judgeon_extracted_answers.ipynb',\n",
       " 'week_0224_llama8b_as_judge.ipynb',\n",
       " 'blame.txt',\n",
       " 'resp_analysis6_deepseek7b.ipynb',\n",
       " 'week_0224_correlation_llama3bvs8b.ipynb',\n",
       " 'resp_analysis6_llama8b.ipynb',\n",
       " 'resp_analysis6_llama3b.ipynb',\n",
       " 'week_0317_zs_cot_chat_prompting_gemma3_4b.ipynb',\n",
       " 'resp_analysis.ipynb',\n",
       " 'week_0303_llama8b_as_judge_improving_correlation.ipynb',\n",
       " 'week_0317_zs_cot_chat_prompting_llama3b copy.ipynb',\n",
       " 'resp_analysis3.ipynb',\n",
       " 'week_0234_oneshot_nohtml_tags.ipynb',\n",
       " 'resp_analysis4_OS.ipynb',\n",
       " 'resp_analysis2.ipynb',\n",
       " 'week_0224_llama3b_bias_check.ipynb',\n",
       " 'week_0303_resp_analysis6_llama8b_regex_extract_last.ipynb',\n",
       " 'hallucinations_investigation.ipynb']"
      ]
     },
     "execution_count": 187,
     "metadata": {},
     "output_type": "execute_result"
    }
   ],
   "source": [
    "os.listdir()\n"
   ]
  },
  {
   "cell_type": "code",
   "execution_count": 188,
   "metadata": {},
   "outputs": [
    {
     "name": "stdout",
     "output_type": "stream",
     "text": [
      "You need to respond to reasoning questions by making logical inference on sequence of Scene-Graphs extracted from frames belonging to a video, called a Spatio-Temporal Scene Graph.\n",
      "\n",
      "IMPORTANT CLARIFICATIONS:\n",
      "- You will receive a question and Spatio-Temporal Scene-Graph\n",
      "- Each Scene-Graph is a static symbolic representation of the scene unfolding in the frame\n",
      "- The Scene-Graphs are ordered chronologically\n",
      "- The Scene-Graph is represented as a set of tuple in the format: subject - relationship - object\n",
      "- The Spatio-Temporal Scene-Graph is a cornologically sorted list of Scene-Graphs\n",
      "\n",
      "INSTRUCTIONS:\n",
      "- Read the entire Spatio-Temporal Scene-Graphs in chronological order and pay attention at the order of how events unfold.\n",
      "- Read the question and reason about the answer step by step.\n",
      "- In your answer include key events or relationships that help you in determing the correct answer.\n",
      "- Be careful to reproduce the chosen alternative as it is presented.\n"
     ]
    }
   ],
   "source": [
    "with open('../data/prompts/zero-shot-cot/MCQ_system_prompt_ZS_CoT.txt', 'r') as f:\n",
    "    pr = f.read()\n",
    "\n",
    "print(pr)\n"
   ]
  },
  {
   "cell_type": "code",
   "execution_count": 189,
   "metadata": {},
   "outputs": [
    {
     "name": "stdout",
     "output_type": "stream",
     "text": [
      "Please carefully read the following Spatio-Temporal Scene Graph delimited by the <STSG> tags and provide an answer to the question below:\n",
      "\n",
      "<STSG>\n",
      "{stsg}\n",
      "</STSG>\n",
      "\n",
      "Given the following question:\n",
      "<Q>\n",
      "{question}\n",
      "<Q>\n",
      "\n",
      "And the following alternatives:\n",
      "<Alternatives>\n",
      "A. {c1}\n",
      "B. {c2}\n",
      "C. {c3}\n",
      "D. {c4}\n",
      "</Alternatives>\n",
      "\n",
      "Provide an answer to the above question reasoning step by step on the Spatio-Temporal Scene-Graph (STSG) and choosing one of the alternatives.\n"
     ]
    }
   ],
   "source": [
    "with open('../data/prompts/zero-shot-cot/MCQ_user_prompt_ZS_CoT_v2.txt', 'r') as f:\n",
    "    pr = f.read()\n",
    "\n",
    "print(pr)\n"
   ]
  },
  {
   "cell_type": "code",
   "execution_count": 190,
   "metadata": {},
   "outputs": [
    {
     "name": "stdout",
     "output_type": "stream",
     "text": [
      "Therefore the final answer is?\n",
      "\n",
      "Your response must be provided in valid JSON format as follows:\n",
      "{\"answer\": \"your complete answer here\"}\n",
      "\n",
      "IMPORTANT: Always include both the letter (A, B, C, D, etc.) AND the full text of the answer in your response.\n",
      "Do not abbreviate or shorten the answer. For example, if the correct answer is \"A. the laptop\", your response \n",
      "should be {\"answer\": \"A. the laptop\"}, not {\"answer\": \"laptop\"} or {\"answer\": \"A\"}.\n"
     ]
    }
   ],
   "source": [
    "reply = \"\"\"\\\n",
    "Therefore the final answer is?\n",
    "\n",
    "Your response must be provided in valid JSON format as follows:\n",
    "{\"answer\": \"your complete answer here\"}\n",
    "\n",
    "IMPORTANT: Always include both the letter (A, B, C, D, etc.) AND the full text of the answer in your response.\n",
    "Do not abbreviate or shorten the answer. For example, if the correct answer is \"A. the laptop\", your response \n",
    "should be {\"answer\": \"A. the laptop\"}, not {\"answer\": \"laptop\"} or {\"answer\": \"A\"}.\\\n",
    "\"\"\"\n",
    "\n",
    "print(reply)\n"
   ]
  },
  {
   "cell_type": "markdown",
   "metadata": {},
   "source": [
    "Let's load the ground truth from the `STAR_QA_question_and_stsg_val.json` file where we extracted QA and spatio-temporal scene graphs"
   ]
  },
  {
   "cell_type": "code",
   "execution_count": 191,
   "metadata": {},
   "outputs": [
    {
     "data": {
      "text/html": [
       "<div>\n",
       "<style scoped>\n",
       "    .dataframe tbody tr th:only-of-type {\n",
       "        vertical-align: middle;\n",
       "    }\n",
       "\n",
       "    .dataframe tbody tr th {\n",
       "        vertical-align: top;\n",
       "    }\n",
       "\n",
       "    .dataframe thead th {\n",
       "        text-align: right;\n",
       "    }\n",
       "</style>\n",
       "<table border=\"1\" class=\"dataframe\">\n",
       "  <thead>\n",
       "    <tr style=\"text-align: right;\">\n",
       "      <th></th>\n",
       "      <th>question</th>\n",
       "      <th>choices</th>\n",
       "      <th>num</th>\n",
       "      <th>text</th>\n",
       "    </tr>\n",
       "    <tr>\n",
       "      <th>id</th>\n",
       "      <th></th>\n",
       "      <th></th>\n",
       "      <th></th>\n",
       "      <th></th>\n",
       "    </tr>\n",
       "  </thead>\n",
       "  <tbody>\n",
       "    <tr>\n",
       "      <th>Interaction_T1_13</th>\n",
       "      <td>Which object was tidied up by the person?</td>\n",
       "      <td>{'0': 'The closet/cabinet.', '1': 'The blanket...</td>\n",
       "      <td>2</td>\n",
       "      <td>The clothes.</td>\n",
       "    </tr>\n",
       "    <tr>\n",
       "      <th>Interaction_T1_14</th>\n",
       "      <td>Which object was tidied up by the person?</td>\n",
       "      <td>{'0': 'The blanket.', '1': 'The table.', '2': ...</td>\n",
       "      <td>2</td>\n",
       "      <td>The clothes.</td>\n",
       "    </tr>\n",
       "    <tr>\n",
       "      <th>Interaction_T1_31</th>\n",
       "      <td>Which object was thrown by the person?</td>\n",
       "      <td>{'0': 'The pillow.', '1': 'The bag.', '2': 'Th...</td>\n",
       "      <td>2</td>\n",
       "      <td>The clothes.</td>\n",
       "    </tr>\n",
       "    <tr>\n",
       "      <th>Interaction_T1_32</th>\n",
       "      <td>Which object was put down by the person?</td>\n",
       "      <td>{'0': 'The food.', '1': 'The shoe.', '2': 'The...</td>\n",
       "      <td>1</td>\n",
       "      <td>The shoe.</td>\n",
       "    </tr>\n",
       "    <tr>\n",
       "      <th>Interaction_T1_40</th>\n",
       "      <td>Which object was tidied up by the person?</td>\n",
       "      <td>{'0': 'The broom.', '1': 'The closet/cabinet.'...</td>\n",
       "      <td>1</td>\n",
       "      <td>The closet/cabinet.</td>\n",
       "    </tr>\n",
       "    <tr>\n",
       "      <th>...</th>\n",
       "      <td>...</td>\n",
       "      <td>...</td>\n",
       "      <td>...</td>\n",
       "      <td>...</td>\n",
       "    </tr>\n",
       "    <tr>\n",
       "      <th>Feasibility_T6_1453</th>\n",
       "      <td>What is the person able to do after taking the...</td>\n",
       "      <td>{'0': 'Wash the table.', '1': 'Take the box.',...</td>\n",
       "      <td>0</td>\n",
       "      <td>Wash the table.</td>\n",
       "    </tr>\n",
       "    <tr>\n",
       "      <th>Feasibility_T6_1454</th>\n",
       "      <td>What is the person able to do after walking th...</td>\n",
       "      <td>{'0': 'Take the towel.', '1': 'Throw the bag.'...</td>\n",
       "      <td>0</td>\n",
       "      <td>Take the towel.</td>\n",
       "    </tr>\n",
       "    <tr>\n",
       "      <th>Feasibility_T6_1455</th>\n",
       "      <td>What is the person able to do after walking th...</td>\n",
       "      <td>{'0': 'Throw the bag.', '1': 'Wash the table.'...</td>\n",
       "      <td>1</td>\n",
       "      <td>Wash the table.</td>\n",
       "    </tr>\n",
       "    <tr>\n",
       "      <th>Feasibility_T6_1456</th>\n",
       "      <td>What is the person able to do after putting th...</td>\n",
       "      <td>{'0': 'Hold the food.', '1': 'Open the closet/...</td>\n",
       "      <td>3</td>\n",
       "      <td>Wash the table.</td>\n",
       "    </tr>\n",
       "    <tr>\n",
       "      <th>Feasibility_T6_1468</th>\n",
       "      <td>What is the person able to do after opening th...</td>\n",
       "      <td>{'0': 'Wash the window.', '1': 'Hold the food....</td>\n",
       "      <td>1</td>\n",
       "      <td>Hold the food.</td>\n",
       "    </tr>\n",
       "  </tbody>\n",
       "</table>\n",
       "<p>7098 rows × 4 columns</p>\n",
       "</div>"
      ],
      "text/plain": [
       "                                                              question  \\\n",
       "id                                                                       \n",
       "Interaction_T1_13            Which object was tidied up by the person?   \n",
       "Interaction_T1_14            Which object was tidied up by the person?   \n",
       "Interaction_T1_31               Which object was thrown by the person?   \n",
       "Interaction_T1_32             Which object was put down by the person?   \n",
       "Interaction_T1_40            Which object was tidied up by the person?   \n",
       "...                                                                ...   \n",
       "Feasibility_T6_1453  What is the person able to do after taking the...   \n",
       "Feasibility_T6_1454  What is the person able to do after walking th...   \n",
       "Feasibility_T6_1455  What is the person able to do after walking th...   \n",
       "Feasibility_T6_1456  What is the person able to do after putting th...   \n",
       "Feasibility_T6_1468  What is the person able to do after opening th...   \n",
       "\n",
       "                                                               choices num  \\\n",
       "id                                                                           \n",
       "Interaction_T1_13    {'0': 'The closet/cabinet.', '1': 'The blanket...   2   \n",
       "Interaction_T1_14    {'0': 'The blanket.', '1': 'The table.', '2': ...   2   \n",
       "Interaction_T1_31    {'0': 'The pillow.', '1': 'The bag.', '2': 'Th...   2   \n",
       "Interaction_T1_32    {'0': 'The food.', '1': 'The shoe.', '2': 'The...   1   \n",
       "Interaction_T1_40    {'0': 'The broom.', '1': 'The closet/cabinet.'...   1   \n",
       "...                                                                ...  ..   \n",
       "Feasibility_T6_1453  {'0': 'Wash the table.', '1': 'Take the box.',...   0   \n",
       "Feasibility_T6_1454  {'0': 'Take the towel.', '1': 'Throw the bag.'...   0   \n",
       "Feasibility_T6_1455  {'0': 'Throw the bag.', '1': 'Wash the table.'...   1   \n",
       "Feasibility_T6_1456  {'0': 'Hold the food.', '1': 'Open the closet/...   3   \n",
       "Feasibility_T6_1468  {'0': 'Wash the window.', '1': 'Hold the food....   1   \n",
       "\n",
       "                                    text  \n",
       "id                                        \n",
       "Interaction_T1_13           The clothes.  \n",
       "Interaction_T1_14           The clothes.  \n",
       "Interaction_T1_31           The clothes.  \n",
       "Interaction_T1_32              The shoe.  \n",
       "Interaction_T1_40    The closet/cabinet.  \n",
       "...                                  ...  \n",
       "Feasibility_T6_1453      Wash the table.  \n",
       "Feasibility_T6_1454      Take the towel.  \n",
       "Feasibility_T6_1455      Wash the table.  \n",
       "Feasibility_T6_1456      Wash the table.  \n",
       "Feasibility_T6_1468       Hold the food.  \n",
       "\n",
       "[7098 rows x 4 columns]"
      ]
     },
     "execution_count": 191,
     "metadata": {},
     "output_type": "execute_result"
    }
   ],
   "source": [
    "ground_truth = []\n",
    "\n",
    "with open('../data/datasets/STAR_QA_and_stsg_val.json') as f:\n",
    "    data = json.load(f)\n",
    "    ground_truth = [{\n",
    "        'id': sample['question_id'],\n",
    "        'question': sample['question'],\n",
    "        'choices': sample['choices'],\n",
    "        'num': sample['answer'],\n",
    "        'text': sample['choices'][str(sample['answer'])]\n",
    "    } for sample in data]\n",
    "\n",
    "\n",
    "# we keep num as str so we can directrly access choices dictionaries\n",
    "gt_df = pd.DataFrame(ground_truth).astype({'id': 'string', 'num': 'string', 'text': 'string'})\n",
    "gt_df.set_index('id', inplace=True)\n",
    "gt_df\n"
   ]
  },
  {
   "cell_type": "markdown",
   "metadata": {},
   "source": [
    "## Loading predicted answers evaluation"
   ]
  },
  {
   "cell_type": "code",
   "execution_count": 192,
   "metadata": {},
   "outputs": [
    {
     "data": {
      "text/html": [
       "<div>\n",
       "<style scoped>\n",
       "    .dataframe tbody tr th:only-of-type {\n",
       "        vertical-align: middle;\n",
       "    }\n",
       "\n",
       "    .dataframe tbody tr th {\n",
       "        vertical-align: top;\n",
       "    }\n",
       "\n",
       "    .dataframe thead th {\n",
       "        text-align: right;\n",
       "    }\n",
       "</style>\n",
       "<table border=\"1\" class=\"dataframe\">\n",
       "  <thead>\n",
       "    <tr style=\"text-align: right;\">\n",
       "      <th></th>\n",
       "      <th>chat_history</th>\n",
       "    </tr>\n",
       "    <tr>\n",
       "      <th>id</th>\n",
       "      <th></th>\n",
       "    </tr>\n",
       "  </thead>\n",
       "  <tbody>\n",
       "    <tr>\n",
       "      <th>Interaction_T1_13</th>\n",
       "      <td>[{'role': 'user', 'content': \"Please carefully...</td>\n",
       "    </tr>\n",
       "    <tr>\n",
       "      <th>Interaction_T1_14</th>\n",
       "      <td>[{'role': 'user', 'content': \"Please carefully...</td>\n",
       "    </tr>\n",
       "    <tr>\n",
       "      <th>Interaction_T1_31</th>\n",
       "      <td>[{'role': 'user', 'content': \"Please carefully...</td>\n",
       "    </tr>\n",
       "    <tr>\n",
       "      <th>Interaction_T1_32</th>\n",
       "      <td>[{'role': 'user', 'content': \"Please carefully...</td>\n",
       "    </tr>\n",
       "    <tr>\n",
       "      <th>Interaction_T1_40</th>\n",
       "      <td>[{'role': 'user', 'content': \"Please carefully...</td>\n",
       "    </tr>\n",
       "    <tr>\n",
       "      <th>...</th>\n",
       "      <td>...</td>\n",
       "    </tr>\n",
       "    <tr>\n",
       "      <th>Feasibility_T6_1453</th>\n",
       "      <td>[{'role': 'user', 'content': \"Please carefully...</td>\n",
       "    </tr>\n",
       "    <tr>\n",
       "      <th>Feasibility_T6_1454</th>\n",
       "      <td>[{'role': 'user', 'content': \"Please carefully...</td>\n",
       "    </tr>\n",
       "    <tr>\n",
       "      <th>Feasibility_T6_1455</th>\n",
       "      <td>[{'role': 'user', 'content': \"Please carefully...</td>\n",
       "    </tr>\n",
       "    <tr>\n",
       "      <th>Feasibility_T6_1456</th>\n",
       "      <td>[{'role': 'user', 'content': \"Please carefully...</td>\n",
       "    </tr>\n",
       "    <tr>\n",
       "      <th>Feasibility_T6_1468</th>\n",
       "      <td>[{'role': 'user', 'content': \"Please carefully...</td>\n",
       "    </tr>\n",
       "  </tbody>\n",
       "</table>\n",
       "<p>7098 rows × 1 columns</p>\n",
       "</div>"
      ],
      "text/plain": [
       "                                                          chat_history\n",
       "id                                                                    \n",
       "Interaction_T1_13    [{'role': 'user', 'content': \"Please carefully...\n",
       "Interaction_T1_14    [{'role': 'user', 'content': \"Please carefully...\n",
       "Interaction_T1_31    [{'role': 'user', 'content': \"Please carefully...\n",
       "Interaction_T1_32    [{'role': 'user', 'content': \"Please carefully...\n",
       "Interaction_T1_40    [{'role': 'user', 'content': \"Please carefully...\n",
       "...                                                                ...\n",
       "Feasibility_T6_1453  [{'role': 'user', 'content': \"Please carefully...\n",
       "Feasibility_T6_1454  [{'role': 'user', 'content': \"Please carefully...\n",
       "Feasibility_T6_1455  [{'role': 'user', 'content': \"Please carefully...\n",
       "Feasibility_T6_1456  [{'role': 'user', 'content': \"Please carefully...\n",
       "Feasibility_T6_1468  [{'role': 'user', 'content': \"Please carefully...\n",
       "\n",
       "[7098 rows x 1 columns]"
      ]
     },
     "execution_count": 192,
     "metadata": {},
     "output_type": "execute_result"
    }
   ],
   "source": [
    "predictions = []\n",
    "with open('../outputs/responses_gemma3:4b_20250323_20:38:00.jsonl', mode='r', encoding='utf-8', errors='strict') as f:\n",
    "    predictions = [json.loads(line) for line in f.readlines()]\n",
    "\n",
    "# transforming the id key from `qid` to `id` for consistency and `response` to `answer`\n",
    "predictions_df = pd.DataFrame(predictions, dtype='string').rename(columns={'qid':'id', 'response':'answer'})\n",
    "predictions_df.set_index('id', inplace=True)\n",
    "predictions_df\n"
   ]
  },
  {
   "cell_type": "code",
   "execution_count": 193,
   "metadata": {},
   "outputs": [
    {
     "data": {
      "text/html": [
       "<div>\n",
       "<style scoped>\n",
       "    .dataframe tbody tr th:only-of-type {\n",
       "        vertical-align: middle;\n",
       "    }\n",
       "\n",
       "    .dataframe tbody tr th {\n",
       "        vertical-align: top;\n",
       "    }\n",
       "\n",
       "    .dataframe thead th {\n",
       "        text-align: right;\n",
       "    }\n",
       "</style>\n",
       "<table border=\"1\" class=\"dataframe\">\n",
       "  <thead>\n",
       "    <tr style=\"text-align: right;\">\n",
       "      <th></th>\n",
       "      <th>chat_history</th>\n",
       "    </tr>\n",
       "    <tr>\n",
       "      <th>id</th>\n",
       "      <th></th>\n",
       "    </tr>\n",
       "  </thead>\n",
       "  <tbody>\n",
       "    <tr>\n",
       "      <th>Interaction_T1_13</th>\n",
       "      <td>[{'role': 'user', 'content': 'Please carefully...</td>\n",
       "    </tr>\n",
       "    <tr>\n",
       "      <th>Interaction_T1_14</th>\n",
       "      <td>[{'role': 'user', 'content': 'Please carefully...</td>\n",
       "    </tr>\n",
       "    <tr>\n",
       "      <th>Interaction_T1_31</th>\n",
       "      <td>[{'role': 'user', 'content': 'Please carefully...</td>\n",
       "    </tr>\n",
       "    <tr>\n",
       "      <th>Interaction_T1_32</th>\n",
       "      <td>[{'role': 'user', 'content': 'Please carefully...</td>\n",
       "    </tr>\n",
       "    <tr>\n",
       "      <th>Interaction_T1_40</th>\n",
       "      <td>[{'role': 'user', 'content': 'Please carefully...</td>\n",
       "    </tr>\n",
       "    <tr>\n",
       "      <th>...</th>\n",
       "      <td>...</td>\n",
       "    </tr>\n",
       "    <tr>\n",
       "      <th>Feasibility_T6_1453</th>\n",
       "      <td>[{'role': 'user', 'content': 'Please carefully...</td>\n",
       "    </tr>\n",
       "    <tr>\n",
       "      <th>Feasibility_T6_1454</th>\n",
       "      <td>[{'role': 'user', 'content': 'Please carefully...</td>\n",
       "    </tr>\n",
       "    <tr>\n",
       "      <th>Feasibility_T6_1455</th>\n",
       "      <td>[{'role': 'user', 'content': 'Please carefully...</td>\n",
       "    </tr>\n",
       "    <tr>\n",
       "      <th>Feasibility_T6_1456</th>\n",
       "      <td>[{'role': 'user', 'content': 'Please carefully...</td>\n",
       "    </tr>\n",
       "    <tr>\n",
       "      <th>Feasibility_T6_1468</th>\n",
       "      <td>[{'role': 'user', 'content': 'Please carefully...</td>\n",
       "    </tr>\n",
       "  </tbody>\n",
       "</table>\n",
       "<p>7098 rows × 1 columns</p>\n",
       "</div>"
      ],
      "text/plain": [
       "                                                          chat_history\n",
       "id                                                                    \n",
       "Interaction_T1_13    [{'role': 'user', 'content': 'Please carefully...\n",
       "Interaction_T1_14    [{'role': 'user', 'content': 'Please carefully...\n",
       "Interaction_T1_31    [{'role': 'user', 'content': 'Please carefully...\n",
       "Interaction_T1_32    [{'role': 'user', 'content': 'Please carefully...\n",
       "Interaction_T1_40    [{'role': 'user', 'content': 'Please carefully...\n",
       "...                                                                ...\n",
       "Feasibility_T6_1453  [{'role': 'user', 'content': 'Please carefully...\n",
       "Feasibility_T6_1454  [{'role': 'user', 'content': 'Please carefully...\n",
       "Feasibility_T6_1455  [{'role': 'user', 'content': 'Please carefully...\n",
       "Feasibility_T6_1456  [{'role': 'user', 'content': 'Please carefully...\n",
       "Feasibility_T6_1468  [{'role': 'user', 'content': 'Please carefully...\n",
       "\n",
       "[7098 rows x 1 columns]"
      ]
     },
     "execution_count": 193,
     "metadata": {},
     "output_type": "execute_result"
    }
   ],
   "source": [
    "predictions_df['chat_history'] = \\\n",
    "    predictions_df['chat_history'] \\\n",
    "    .apply(lambda x: eval(x))\n",
    "\n",
    "predictions_df\n"
   ]
  },
  {
   "cell_type": "code",
   "execution_count": 194,
   "metadata": {},
   "outputs": [],
   "source": [
    "predictions_df['answer'] = predictions_df['chat_history'].apply(lambda x: x[-1]['content'])\n"
   ]
  },
  {
   "cell_type": "code",
   "execution_count": 195,
   "metadata": {},
   "outputs": [
    {
     "data": {
      "text/plain": [
       "id\n",
       "Interaction_T1_13     ```json\\n{\"answer\": \"C. The clothes\"}\\n```\n",
       "Interaction_T1_14    ```json\\n{\"answer\": \"C. The clothes.\"}\\n```\n",
       "Interaction_T1_31     ```json\\n{\"answer\": \"C. The clothes\"}\\n```\n",
       "Interaction_T1_32       ```json\\n{\"answer\": \"B. The shoe.\"}\\n```\n",
       "Interaction_T1_40    ```json\\n{\"answer\": \"C. The blanket.\"}\\n```\n",
       "Name: answer, dtype: object"
      ]
     },
     "execution_count": 195,
     "metadata": {},
     "output_type": "execute_result"
    }
   ],
   "source": [
    "predictions_df['answer'].iloc[0:5] \n"
   ]
  },
  {
   "cell_type": "markdown",
   "metadata": {},
   "source": [
    "## Text preprocessing"
   ]
  },
  {
   "cell_type": "markdown",
   "metadata": {},
   "source": [
    "For Gemma we need to be more careful becuase the format is different, it encapsulated the json output in the with the tokens: \n",
    "```\n",
    "```json\\n\n",
    "<actual_answer>\n",
    "\\n```\n",
    "```"
   ]
  },
  {
   "cell_type": "code",
   "execution_count": 196,
   "metadata": {},
   "outputs": [
    {
     "name": "stdout",
     "output_type": "stream",
     "text": [
      "Total answers: 7098\n",
      "Answers following JSON template: 7097\n",
      "Percentage following JSON template: 99.99%\n"
     ]
    }
   ],
   "source": [
    "\n",
    "# Create mask for answers that follow JSON syntax\n",
    "json_mask = predictions_df['answer'].str.match(r'^(```json\\s)?({[^}]+})(\\s```)?$')\n",
    "matches_json_template = json_mask.sum()\n",
    "\n",
    "print(f\"Total answers: {len(predictions_df)}\")\n",
    "print(f\"Answers following JSON template: {matches_json_template}\")\n",
    "print(f\"Percentage following JSON template: {(matches_json_template/len(predictions_df))*100:.2f}%\")\n"
   ]
  },
  {
   "cell_type": "code",
   "execution_count": 197,
   "metadata": {},
   "outputs": [
    {
     "data": {
      "text/plain": [
       "id\n",
       "Prediction_T4_1351    ```json\\n{\"answer\": \"Therefore the final answe...\n",
       "Name: answer, dtype: object"
      ]
     },
     "execution_count": 197,
     "metadata": {},
     "output_type": "execute_result"
    }
   ],
   "source": [
    "predictions_df.loc[~json_mask, 'answer']\n"
   ]
  },
  {
   "cell_type": "code",
   "execution_count": 198,
   "metadata": {},
   "outputs": [
    {
     "data": {
      "text/plain": [
       "id\n",
       "Interaction_T1_13          {\"answer\": \"C. The clothes\"}\n",
       "Interaction_T1_14         {\"answer\": \"C. The clothes.\"}\n",
       "Interaction_T1_31          {\"answer\": \"C. The clothes\"}\n",
       "Interaction_T1_32            {\"answer\": \"B. The shoe.\"}\n",
       "Interaction_T1_40         {\"answer\": \"C. The blanket.\"}\n",
       "                                     ...               \n",
       "Feasibility_T6_1453    {\"answer\": \"A. Wash the table.\"}\n",
       "Feasibility_T6_1454     {\"answer\": \"A. Take the towel\"}\n",
       "Feasibility_T6_1455    {\"answer\": \"B. Wash the table.\"}\n",
       "Feasibility_T6_1456    {\"answer\": \"D. Wash the table.\"}\n",
       "Feasibility_T6_1468      {\"answer\": \"B. Hold the food\"}\n",
       "Name: answer, Length: 7098, dtype: object"
      ]
     },
     "execution_count": 198,
     "metadata": {},
     "output_type": "execute_result"
    }
   ],
   "source": [
    "predictions_df.loc[json_mask, 'answer'] = \\\n",
    "    predictions_df.loc[json_mask, 'answer'] \\\n",
    "    .apply(lambda x: re.search(r'^(?:```json\\s)?({[^}]+})(?:\\s```)?$', x).group(1))\n",
    "\n",
    "predictions_df.loc[~json_mask, 'answer'] = \"\"\n",
    "predictions_df['answer']\n"
   ]
  },
  {
   "cell_type": "markdown",
   "metadata": {},
   "source": [
    "### The need to replace single quotes"
   ]
  },
  {
   "cell_type": "code",
   "execution_count": 199,
   "metadata": {},
   "outputs": [
    {
     "name": "stdout",
     "output_type": "stream",
     "text": [
      "‘\n",
      "’\n",
      "‚\n",
      "‛\n",
      "“\n",
      "”\n"
     ]
    },
    {
     "data": {
      "text/plain": [
       "(None, None, None, None, None, None)"
      ]
     },
     "execution_count": 199,
     "metadata": {},
     "output_type": "execute_result"
    }
   ],
   "source": [
    "print('\\u2018'), print('\\u2019'), print('\\u201a'), print('\\u201b'), print('\\u201c'), print('\\u201d')\n"
   ]
  },
  {
   "cell_type": "code",
   "execution_count": 200,
   "metadata": {},
   "outputs": [
    {
     "data": {
      "text/plain": [
       "chat_history    [{'role': 'user', 'content': 'Please carefully...\n",
       "answer          {\"answer\": \"None of the above - The scene grap...\n",
       "Name: Interaction_T3_3111, dtype: object"
      ]
     },
     "execution_count": 200,
     "metadata": {},
     "output_type": "execute_result"
    }
   ],
   "source": [
    "el = predictions_df.loc['Interaction_T3_3111']\n",
    "el\n"
   ]
  },
  {
   "cell_type": "code",
   "execution_count": 201,
   "metadata": {},
   "outputs": [
    {
     "data": {
      "text/plain": [
       "['’', '‘', '’']"
      ]
     },
     "execution_count": 201,
     "metadata": {},
     "output_type": "execute_result"
    }
   ],
   "source": [
    "re.findall('[\\u2018-\\u201b]', el['answer'])\n"
   ]
  },
  {
   "cell_type": "code",
   "execution_count": 202,
   "metadata": {},
   "outputs": [
    {
     "data": {
      "text/plain": [
       "['”']"
      ]
     },
     "execution_count": 202,
     "metadata": {},
     "output_type": "execute_result"
    }
   ],
   "source": [
    "re.findall('[\\u201c-\\u201d]', el['answer'])\n"
   ]
  },
  {
   "cell_type": "code",
   "execution_count": 203,
   "metadata": {},
   "outputs": [
    {
     "name": "stdout",
     "output_type": "stream",
     "text": [
      "Char | Unicode Point | UTF-8 Bytes | Name\n",
      "--------------------------------------------------\n",
      "'{'  | U+007B       | [123]      | LEFT CURLY BRACKET\n",
      "'\"'  | U+0022       | [34]      | QUOTATION MARK\n",
      "'a'  | U+0061       | [97]      | LATIN SMALL LETTER A\n",
      "'n'  | U+006E       | [110]      | LATIN SMALL LETTER N\n",
      "'s'  | U+0073       | [115]      | LATIN SMALL LETTER S\n",
      "'w'  | U+0077       | [119]      | LATIN SMALL LETTER W\n",
      "'e'  | U+0065       | [101]      | LATIN SMALL LETTER E\n",
      "'r'  | U+0072       | [114]      | LATIN SMALL LETTER R\n",
      "'\"'  | U+0022       | [34]      | QUOTATION MARK\n",
      "':'  | U+003A       | [58]      | COLON\n",
      "' '  | U+0020       | [32]      | SPACE\n",
      "'\"'  | U+0022       | [34]      | QUOTATION MARK\n",
      "'N'  | U+004E       | [78]      | LATIN CAPITAL LETTER N\n",
      "'o'  | U+006F       | [111]      | LATIN SMALL LETTER O\n",
      "'n'  | U+006E       | [110]      | LATIN SMALL LETTER N\n",
      "'e'  | U+0065       | [101]      | LATIN SMALL LETTER E\n",
      "' '  | U+0020       | [32]      | SPACE\n",
      "'o'  | U+006F       | [111]      | LATIN SMALL LETTER O\n",
      "'f'  | U+0066       | [102]      | LATIN SMALL LETTER F\n",
      "' '  | U+0020       | [32]      | SPACE\n",
      "'t'  | U+0074       | [116]      | LATIN SMALL LETTER T\n",
      "'h'  | U+0068       | [104]      | LATIN SMALL LETTER H\n",
      "'e'  | U+0065       | [101]      | LATIN SMALL LETTER E\n",
      "' '  | U+0020       | [32]      | SPACE\n",
      "'a'  | U+0061       | [97]      | LATIN SMALL LETTER A\n",
      "'b'  | U+0062       | [98]      | LATIN SMALL LETTER B\n",
      "'o'  | U+006F       | [111]      | LATIN SMALL LETTER O\n",
      "'v'  | U+0076       | [118]      | LATIN SMALL LETTER V\n",
      "'e'  | U+0065       | [101]      | LATIN SMALL LETTER E\n",
      "' '  | U+0020       | [32]      | SPACE\n",
      "'-'  | U+002D       | [45]      | HYPHEN-MINUS\n",
      "' '  | U+0020       | [32]      | SPACE\n",
      "'T'  | U+0054       | [84]      | LATIN CAPITAL LETTER T\n",
      "'h'  | U+0068       | [104]      | LATIN SMALL LETTER H\n",
      "'e'  | U+0065       | [101]      | LATIN SMALL LETTER E\n",
      "' '  | U+0020       | [32]      | SPACE\n",
      "'s'  | U+0073       | [115]      | LATIN SMALL LETTER S\n",
      "'c'  | U+0063       | [99]      | LATIN SMALL LETTER C\n",
      "'e'  | U+0065       | [101]      | LATIN SMALL LETTER E\n",
      "'n'  | U+006E       | [110]      | LATIN SMALL LETTER N\n",
      "'e'  | U+0065       | [101]      | LATIN SMALL LETTER E\n",
      "' '  | U+0020       | [32]      | SPACE\n",
      "'g'  | U+0067       | [103]      | LATIN SMALL LETTER G\n",
      "'r'  | U+0072       | [114]      | LATIN SMALL LETTER R\n",
      "'a'  | U+0061       | [97]      | LATIN SMALL LETTER A\n",
      "'p'  | U+0070       | [112]      | LATIN SMALL LETTER P\n",
      "'h'  | U+0068       | [104]      | LATIN SMALL LETTER H\n",
      "' '  | U+0020       | [32]      | SPACE\n",
      "'d'  | U+0064       | [100]      | LATIN SMALL LETTER D\n",
      "'o'  | U+006F       | [111]      | LATIN SMALL LETTER O\n",
      "'e'  | U+0065       | [101]      | LATIN SMALL LETTER E\n",
      "'s'  | U+0073       | [115]      | LATIN SMALL LETTER S\n",
      "'n'  | U+006E       | [110]      | LATIN SMALL LETTER N\n",
      "'’'  | U+2019       | [226, 128, 153]      | RIGHT SINGLE QUOTATION MARK\n",
      "'t'  | U+0074       | [116]      | LATIN SMALL LETTER T\n",
      "' '  | U+0020       | [32]      | SPACE\n",
      "'p'  | U+0070       | [112]      | LATIN SMALL LETTER P\n",
      "'r'  | U+0072       | [114]      | LATIN SMALL LETTER R\n",
      "'o'  | U+006F       | [111]      | LATIN SMALL LETTER O\n",
      "'v'  | U+0076       | [118]      | LATIN SMALL LETTER V\n",
      "'i'  | U+0069       | [105]      | LATIN SMALL LETTER I\n",
      "'d'  | U+0064       | [100]      | LATIN SMALL LETTER D\n",
      "'e'  | U+0065       | [101]      | LATIN SMALL LETTER E\n",
      "' '  | U+0020       | [32]      | SPACE\n",
      "'a'  | U+0061       | [97]      | LATIN SMALL LETTER A\n",
      "' '  | U+0020       | [32]      | SPACE\n",
      "'s'  | U+0073       | [115]      | LATIN SMALL LETTER S\n",
      "'p'  | U+0070       | [112]      | LATIN SMALL LETTER P\n",
      "'e'  | U+0065       | [101]      | LATIN SMALL LETTER E\n",
      "'c'  | U+0063       | [99]      | LATIN SMALL LETTER C\n",
      "'i'  | U+0069       | [105]      | LATIN SMALL LETTER I\n",
      "'f'  | U+0066       | [102]      | LATIN SMALL LETTER F\n",
      "'i'  | U+0069       | [105]      | LATIN SMALL LETTER I\n",
      "'c'  | U+0063       | [99]      | LATIN SMALL LETTER C\n",
      "' '  | U+0020       | [32]      | SPACE\n",
      "'a'  | U+0061       | [97]      | LATIN SMALL LETTER A\n",
      "'c'  | U+0063       | [99]      | LATIN SMALL LETTER C\n",
      "'t'  | U+0074       | [116]      | LATIN SMALL LETTER T\n",
      "'i'  | U+0069       | [105]      | LATIN SMALL LETTER I\n",
      "'o'  | U+006F       | [111]      | LATIN SMALL LETTER O\n",
      "'n'  | U+006E       | [110]      | LATIN SMALL LETTER N\n",
      "' '  | U+0020       | [32]      | SPACE\n",
      "'b'  | U+0062       | [98]      | LATIN SMALL LETTER B\n",
      "'e'  | U+0065       | [101]      | LATIN SMALL LETTER E\n",
      "'y'  | U+0079       | [121]      | LATIN SMALL LETTER Y\n",
      "'o'  | U+006F       | [111]      | LATIN SMALL LETTER O\n",
      "'n'  | U+006E       | [110]      | LATIN SMALL LETTER N\n",
      "'d'  | U+0064       | [100]      | LATIN SMALL LETTER D\n",
      "' '  | U+0020       | [32]      | SPACE\n",
      "'‘'  | U+2018       | [226, 128, 152]      | LEFT SINGLE QUOTATION MARK\n",
      "'h'  | U+0068       | [104]      | LATIN SMALL LETTER H\n",
      "'o'  | U+006F       | [111]      | LATIN SMALL LETTER O\n",
      "'l'  | U+006C       | [108]      | LATIN SMALL LETTER L\n",
      "'d'  | U+0064       | [100]      | LATIN SMALL LETTER D\n",
      "'i'  | U+0069       | [105]      | LATIN SMALL LETTER I\n",
      "'n'  | U+006E       | [110]      | LATIN SMALL LETTER N\n",
      "'g'  | U+0067       | [103]      | LATIN SMALL LETTER G\n",
      "'’'  | U+2019       | [226, 128, 153]      | RIGHT SINGLE QUOTATION MARK\n",
      "' '  | U+0020       | [32]      | SPACE\n",
      "'t'  | U+0074       | [116]      | LATIN SMALL LETTER T\n",
      "'h'  | U+0068       | [104]      | LATIN SMALL LETTER H\n",
      "'e'  | U+0065       | [101]      | LATIN SMALL LETTER E\n",
      "' '  | U+0020       | [32]      | SPACE\n",
      "'t'  | U+0074       | [116]      | LATIN SMALL LETTER T\n",
      "'o'  | U+006F       | [111]      | LATIN SMALL LETTER O\n",
      "'w'  | U+0077       | [119]      | LATIN SMALL LETTER W\n",
      "'e'  | U+0065       | [101]      | LATIN SMALL LETTER E\n",
      "'l'  | U+006C       | [108]      | LATIN SMALL LETTER L\n",
      "'.'  | U+002E       | [46]      | FULL STOP\n",
      "'”'  | U+201D       | [226, 128, 157]      | RIGHT DOUBLE QUOTATION MARK\n",
      "'}'  | U+007D       | [125]      | RIGHT CURLY BRACKET\n"
     ]
    }
   ],
   "source": [
    "import unicodedata\n",
    "\n",
    "def print_unicode_codes(s):\n",
    "    print(\"Char | Unicode Point | UTF-8 Bytes | Name\")\n",
    "    print(\"-\" * 50)\n",
    "    for char in s:\n",
    "        code = ord(char)\n",
    "        utf8_bytes = list(char.encode('utf-8'))\n",
    "        try:\n",
    "            name = unicodedata.name(char)\n",
    "        except ValueError:\n",
    "            name = \"No name\"\n",
    "        print(f\"'{char}'  | U+{code:04X}       | {utf8_bytes}      | {name}\")\n",
    "\n",
    "# Requires: import unicodedata\n",
    "print_unicode_codes(el['answer'])\n"
   ]
  },
  {
   "cell_type": "code",
   "execution_count": 204,
   "metadata": {},
   "outputs": [
    {
     "name": "stdout",
     "output_type": "stream",
     "text": [
      "Full parse failed at line 1\n",
      "Token stream up to error:\n",
      "OP              '{'                  (1, 0)->(1, 1)\n",
      "STRING          '\"answer\"'           (1, 1)->(1, 9)\n",
      "OP              ':'                  (1, 9)->(1, 10)\n",
      "ERRORTOKEN      ' '                  (1, 10)->(1, 11)\n",
      "ERRORTOKEN      '\"'                  (1, 11)->(1, 12)\n",
      "NAME            'None'               (1, 12)->(1, 16)\n",
      "NAME            'of'                 (1, 17)->(1, 19)\n",
      "NAME            'the'                (1, 20)->(1, 23)\n",
      "NAME            'above'              (1, 24)->(1, 29)\n",
      "OP              '-'                  (1, 30)->(1, 31)\n",
      "NAME            'The'                (1, 32)->(1, 35)\n",
      "NAME            'scene'              (1, 36)->(1, 41)\n",
      "NAME            'graph'              (1, 42)->(1, 47)\n",
      "NAME            'doesn'              (1, 48)->(1, 53)\n",
      "ERRORTOKEN      '’'                  (1, 53)->(1, 54)\n",
      "NAME            't'                  (1, 54)->(1, 55)\n",
      "NAME            'provide'            (1, 56)->(1, 63)\n",
      "NAME            'a'                  (1, 64)->(1, 65)\n",
      "NAME            'specific'           (1, 66)->(1, 74)\n",
      "NAME            'action'             (1, 75)->(1, 81)\n",
      "NAME            'beyond'             (1, 82)->(1, 88)\n",
      "ERRORTOKEN      ' '                  (1, 88)->(1, 89)\n",
      "ERRORTOKEN      '‘'                  (1, 89)->(1, 90)\n",
      "NAME            'holding'            (1, 90)->(1, 97)\n",
      "ERRORTOKEN      '’'                  (1, 97)->(1, 98)\n",
      "NAME            'the'                (1, 99)->(1, 102)\n",
      "NAME            'towel'              (1, 103)->(1, 108)\n",
      "OP              '.'                  (1, 108)->(1, 109)\n",
      "ERRORTOKEN      '”'                  (1, 109)->(1, 110)\n",
      "OP              '}'                  (1, 110)->(1, 111)\n",
      "NEWLINE         ''                   (1, 111)->(1, 112)\n",
      "ENDMARKER       ''                   (2, 0)->(2, 0)\n",
      "-- Error occurs here --\n"
     ]
    }
   ],
   "source": [
    "import tokenize\n",
    "from io import StringIO\n",
    "import ast\n",
    "\n",
    "def debug_parsing(code):\n",
    "    try:\n",
    "        # First try full parse\n",
    "        ast.parse(code)\n",
    "    except SyntaxError as e:\n",
    "        print(f\"Full parse failed at line {e.lineno}\")\n",
    "        print(\"Token stream up to error:\")\n",
    "        \n",
    "        # Show token stream\n",
    "        tokens = tokenize.generate_tokens(StringIO(code).readline)\n",
    "        for tok in tokens:\n",
    "            print(f\"{tokenize.tok_name[tok.type]:<15} {tok.string!r:<20} {tok.start}->{tok.end}\")\n",
    "            if tok.start[0] > e.lineno or (\n",
    "                tok.start[0] == e.lineno and tok.start[1] >= e.offset\n",
    "            ):\n",
    "                print(\"-- Error occurs here --\")\n",
    "                break\n",
    "\n",
    "debug_parsing(el['answer'])\n"
   ]
  },
  {
   "cell_type": "markdown",
   "metadata": {},
   "source": [
    "### Applying changes"
   ]
  },
  {
   "cell_type": "code",
   "execution_count": 205,
   "metadata": {},
   "outputs": [],
   "source": [
    "# Replace new line (lead to EOF Errors) with whitespace\n",
    "predictions_df['answer'] = \\\n",
    "    predictions_df['answer'].str.replace('\\n+', ' ', regex=True)\n",
    "\n",
    "# Replace lef and right quotation mark with simple quotation mark\n",
    "predictions_df['answer'] = \\\n",
    "    predictions_df['answer'].str.replace('[\\u2018-\\u201b]', '\\'', regex=True)\n",
    "predictions_df['answer'] = \\\n",
    "    predictions_df['answer'].str.replace('[\\u201c\\u201d]', '\"', regex=True)\n",
    "# ------------------ Removing inner double quotes --------------------\n",
    "# It may happen that the text may contain inner double quotes before the\n",
    "# attribute end. This will cause the parser to termiate early and spout\n",
    "# errors for the remaining text. With this snippet we replace those inner\n",
    "# double quotes with single quotes.\n",
    "#  \n",
    "# we first match the text of the reason paramter inside the double quotes\n",
    "# then we escape/replace all the double quotes inside the text\n",
    "inside_doublequotes = r\"(?<=\\\"answer\\\": \\\")(.*)(?=\\\"(?:,|}))\"\n",
    "\n",
    "predictions_df['answer'] = \\\n",
    "    predictions_df.apply(\n",
    "        func=lambda row: re.sub(\n",
    "            inside_doublequotes, \n",
    "            lambda matchobj: matchobj.group(0).replace('\\\"', ''), \n",
    "            row['answer']),\n",
    "        axis=1\n",
    "        )\n"
   ]
  },
  {
   "cell_type": "code",
   "execution_count": 206,
   "metadata": {},
   "outputs": [
    {
     "data": {
      "text/html": [
       "<div>\n",
       "<style scoped>\n",
       "    .dataframe tbody tr th:only-of-type {\n",
       "        vertical-align: middle;\n",
       "    }\n",
       "\n",
       "    .dataframe tbody tr th {\n",
       "        vertical-align: top;\n",
       "    }\n",
       "\n",
       "    .dataframe thead th {\n",
       "        text-align: right;\n",
       "    }\n",
       "</style>\n",
       "<table border=\"1\" class=\"dataframe\">\n",
       "  <thead>\n",
       "    <tr style=\"text-align: right;\">\n",
       "      <th></th>\n",
       "      <th>chat_history</th>\n",
       "      <th>answer</th>\n",
       "    </tr>\n",
       "    <tr>\n",
       "      <th>id</th>\n",
       "      <th></th>\n",
       "      <th></th>\n",
       "    </tr>\n",
       "  </thead>\n",
       "  <tbody>\n",
       "    <tr>\n",
       "      <th>Interaction_T1_13</th>\n",
       "      <td>[{'role': 'user', 'content': 'Please carefully...</td>\n",
       "      <td>C. The clothes</td>\n",
       "    </tr>\n",
       "    <tr>\n",
       "      <th>Interaction_T1_14</th>\n",
       "      <td>[{'role': 'user', 'content': 'Please carefully...</td>\n",
       "      <td>C. The clothes.</td>\n",
       "    </tr>\n",
       "    <tr>\n",
       "      <th>Interaction_T1_31</th>\n",
       "      <td>[{'role': 'user', 'content': 'Please carefully...</td>\n",
       "      <td>C. The clothes</td>\n",
       "    </tr>\n",
       "    <tr>\n",
       "      <th>Interaction_T1_32</th>\n",
       "      <td>[{'role': 'user', 'content': 'Please carefully...</td>\n",
       "      <td>B. The shoe.</td>\n",
       "    </tr>\n",
       "    <tr>\n",
       "      <th>Interaction_T1_40</th>\n",
       "      <td>[{'role': 'user', 'content': 'Please carefully...</td>\n",
       "      <td>C. The blanket.</td>\n",
       "    </tr>\n",
       "    <tr>\n",
       "      <th>...</th>\n",
       "      <td>...</td>\n",
       "      <td>...</td>\n",
       "    </tr>\n",
       "    <tr>\n",
       "      <th>Feasibility_T6_1453</th>\n",
       "      <td>[{'role': 'user', 'content': 'Please carefully...</td>\n",
       "      <td>A. Wash the table.</td>\n",
       "    </tr>\n",
       "    <tr>\n",
       "      <th>Feasibility_T6_1454</th>\n",
       "      <td>[{'role': 'user', 'content': 'Please carefully...</td>\n",
       "      <td>A. Take the towel</td>\n",
       "    </tr>\n",
       "    <tr>\n",
       "      <th>Feasibility_T6_1455</th>\n",
       "      <td>[{'role': 'user', 'content': 'Please carefully...</td>\n",
       "      <td>B. Wash the table.</td>\n",
       "    </tr>\n",
       "    <tr>\n",
       "      <th>Feasibility_T6_1456</th>\n",
       "      <td>[{'role': 'user', 'content': 'Please carefully...</td>\n",
       "      <td>D. Wash the table.</td>\n",
       "    </tr>\n",
       "    <tr>\n",
       "      <th>Feasibility_T6_1468</th>\n",
       "      <td>[{'role': 'user', 'content': 'Please carefully...</td>\n",
       "      <td>B. Hold the food</td>\n",
       "    </tr>\n",
       "  </tbody>\n",
       "</table>\n",
       "<p>7098 rows × 2 columns</p>\n",
       "</div>"
      ],
      "text/plain": [
       "                                                          chat_history  \\\n",
       "id                                                                       \n",
       "Interaction_T1_13    [{'role': 'user', 'content': 'Please carefully...   \n",
       "Interaction_T1_14    [{'role': 'user', 'content': 'Please carefully...   \n",
       "Interaction_T1_31    [{'role': 'user', 'content': 'Please carefully...   \n",
       "Interaction_T1_32    [{'role': 'user', 'content': 'Please carefully...   \n",
       "Interaction_T1_40    [{'role': 'user', 'content': 'Please carefully...   \n",
       "...                                                                ...   \n",
       "Feasibility_T6_1453  [{'role': 'user', 'content': 'Please carefully...   \n",
       "Feasibility_T6_1454  [{'role': 'user', 'content': 'Please carefully...   \n",
       "Feasibility_T6_1455  [{'role': 'user', 'content': 'Please carefully...   \n",
       "Feasibility_T6_1456  [{'role': 'user', 'content': 'Please carefully...   \n",
       "Feasibility_T6_1468  [{'role': 'user', 'content': 'Please carefully...   \n",
       "\n",
       "                                 answer  \n",
       "id                                       \n",
       "Interaction_T1_13        C. The clothes  \n",
       "Interaction_T1_14       C. The clothes.  \n",
       "Interaction_T1_31        C. The clothes  \n",
       "Interaction_T1_32          B. The shoe.  \n",
       "Interaction_T1_40       C. The blanket.  \n",
       "...                                 ...  \n",
       "Feasibility_T6_1453  A. Wash the table.  \n",
       "Feasibility_T6_1454   A. Take the towel  \n",
       "Feasibility_T6_1455  B. Wash the table.  \n",
       "Feasibility_T6_1456  D. Wash the table.  \n",
       "Feasibility_T6_1468    B. Hold the food  \n",
       "\n",
       "[7098 rows x 2 columns]"
      ]
     },
     "execution_count": 206,
     "metadata": {},
     "output_type": "execute_result"
    }
   ],
   "source": [
    "predictions_df.loc[json_mask, 'answer'] = predictions_df.loc[json_mask, 'answer'].apply(lambda x: eval(x)['answer'].strip())\n",
    "predictions_df\n"
   ]
  },
  {
   "cell_type": "code",
   "execution_count": 207,
   "metadata": {},
   "outputs": [
    {
     "name": "stdout",
     "output_type": "stream",
     "text": [
      "Answer following the template: 6778\n",
      "95.49% of the total\n",
      "\n",
      "Only 320 samples do not contain the answer in the response with the specified format\n"
     ]
    },
    {
     "name": "stderr",
     "output_type": "stream",
     "text": [
      "/tmp/ipykernel_168044/3127831504.py:2: UserWarning: This pattern is interpreted as a regular expression, and has match groups. To actually get the groups, use str.extract.\n",
      "  contains_answer = predictions_df['answer'].str.contains(ans_regex_pattern, regex=True)\n"
     ]
    }
   ],
   "source": [
    "ans_regex_pattern = r'^(?:[A-Z]\\.)\\s+((?:\\w+(?:\\s|\\/)?){,10}\\.?)'\n",
    "contains_answer = predictions_df['answer'].str.contains(ans_regex_pattern, regex=True)\n",
    "\n",
    "print(f\"Answer following the template: {contains_answer.value_counts()[True]}\\n\"\n",
    "      f\"{contains_answer.value_counts()[True]/predictions_df.shape[0]:.2%} of the total\")\n",
    "\n",
    "print(f\"\\nOnly {contains_answer.value_counts()[False]} samples do not contain the answer in the response with the specified format\")\n"
   ]
  },
  {
   "cell_type": "code",
   "execution_count": 208,
   "metadata": {},
   "outputs": [
    {
     "data": {
      "text/plain": [
       "id\n",
       "Interaction_T1_198     None of the alternatives are correct based on ...\n",
       "Interaction_T1_1255                None of the alternatives are correct.\n",
       "Interaction_T1_1369                None of the alternatives are correct.\n",
       "Interaction_T1_1671    None of the alternatives can be determined fro...\n",
       "Interaction_T1_2509    None of the alternatives are correct based on ...\n",
       "                                             ...                        \n",
       "Feasibility_T6_448                                     None of the above\n",
       "Feasibility_T6_1063    None of the alternatives are correct. The grap...\n",
       "Feasibility_T6_1091    None of the alternatives are correct based on ...\n",
       "Feasibility_T6_1153    None of the alternatives are correct based on ...\n",
       "Feasibility_T6_1344    None of the provided alternatives accurately d...\n",
       "Name: answer, Length: 320, dtype: object"
      ]
     },
     "execution_count": 208,
     "metadata": {},
     "output_type": "execute_result"
    }
   ],
   "source": [
    "predictions_df.loc[~contains_answer, 'answer']\n"
   ]
  },
  {
   "cell_type": "markdown",
   "metadata": {},
   "source": [
    "## Extract answers"
   ]
  },
  {
   "cell_type": "code",
   "execution_count": 209,
   "metadata": {},
   "outputs": [
    {
     "data": {
      "text/html": [
       "<div>\n",
       "<style scoped>\n",
       "    .dataframe tbody tr th:only-of-type {\n",
       "        vertical-align: middle;\n",
       "    }\n",
       "\n",
       "    .dataframe tbody tr th {\n",
       "        vertical-align: top;\n",
       "    }\n",
       "\n",
       "    .dataframe thead th {\n",
       "        text-align: right;\n",
       "    }\n",
       "</style>\n",
       "<table border=\"1\" class=\"dataframe\">\n",
       "  <thead>\n",
       "    <tr style=\"text-align: right;\">\n",
       "      <th></th>\n",
       "      <th>text</th>\n",
       "    </tr>\n",
       "    <tr>\n",
       "      <th>id</th>\n",
       "      <th></th>\n",
       "    </tr>\n",
       "  </thead>\n",
       "  <tbody>\n",
       "    <tr>\n",
       "      <th>Interaction_T1_13</th>\n",
       "      <td>The clothes.</td>\n",
       "    </tr>\n",
       "    <tr>\n",
       "      <th>Interaction_T1_14</th>\n",
       "      <td>The clothes.</td>\n",
       "    </tr>\n",
       "    <tr>\n",
       "      <th>Interaction_T1_31</th>\n",
       "      <td>The clothes.</td>\n",
       "    </tr>\n",
       "    <tr>\n",
       "      <th>Interaction_T1_32</th>\n",
       "      <td>The shoe.</td>\n",
       "    </tr>\n",
       "    <tr>\n",
       "      <th>Interaction_T1_40</th>\n",
       "      <td>The blanket.</td>\n",
       "    </tr>\n",
       "    <tr>\n",
       "      <th>...</th>\n",
       "      <td>...</td>\n",
       "    </tr>\n",
       "    <tr>\n",
       "      <th>Feasibility_T6_1453</th>\n",
       "      <td>Wash the table.</td>\n",
       "    </tr>\n",
       "    <tr>\n",
       "      <th>Feasibility_T6_1454</th>\n",
       "      <td>Take the towel.</td>\n",
       "    </tr>\n",
       "    <tr>\n",
       "      <th>Feasibility_T6_1455</th>\n",
       "      <td>Wash the table.</td>\n",
       "    </tr>\n",
       "    <tr>\n",
       "      <th>Feasibility_T6_1456</th>\n",
       "      <td>Wash the table.</td>\n",
       "    </tr>\n",
       "    <tr>\n",
       "      <th>Feasibility_T6_1468</th>\n",
       "      <td>Hold the food.</td>\n",
       "    </tr>\n",
       "  </tbody>\n",
       "</table>\n",
       "<p>6778 rows × 1 columns</p>\n",
       "</div>"
      ],
      "text/plain": [
       "                                text\n",
       "id                                  \n",
       "Interaction_T1_13       The clothes.\n",
       "Interaction_T1_14       The clothes.\n",
       "Interaction_T1_31       The clothes.\n",
       "Interaction_T1_32          The shoe.\n",
       "Interaction_T1_40       The blanket.\n",
       "...                              ...\n",
       "Feasibility_T6_1453  Wash the table.\n",
       "Feasibility_T6_1454  Take the towel.\n",
       "Feasibility_T6_1455  Wash the table.\n",
       "Feasibility_T6_1456  Wash the table.\n",
       "Feasibility_T6_1468   Hold the food.\n",
       "\n",
       "[6778 rows x 1 columns]"
      ]
     },
     "execution_count": 209,
     "metadata": {},
     "output_type": "execute_result"
    }
   ],
   "source": [
    "ans_df = \\\n",
    "    predictions_df[contains_answer]['answer'] \\\n",
    "    .apply(lambda x: re.findall(ans_regex_pattern, x)[-1]) \\\n",
    "    .apply(lambda x: x + '.' if not x.endswith('.') else x) \\\n",
    "    .to_frame(name='text')\n",
    "\n",
    "ans_df.rename(columns={0: 'text'}, inplace=True)\n",
    "\n",
    "ans_df['text'] = ans_df['text'].str.strip()\n",
    "ans_df\n"
   ]
  },
  {
   "cell_type": "code",
   "execution_count": 210,
   "metadata": {},
   "outputs": [
    {
     "name": "stdout",
     "output_type": "stream",
     "text": [
      "<class 'pandas.core.frame.DataFrame'>\n",
      "Index: 6778 entries, Interaction_T1_13 to Feasibility_T6_1468\n",
      "Data columns (total 1 columns):\n",
      " #   Column  Non-Null Count  Dtype \n",
      "---  ------  --------------  ----- \n",
      " 0   text    6778 non-null   object\n",
      "dtypes: object(1)\n",
      "memory usage: 105.9+ KB\n"
     ]
    }
   ],
   "source": [
    "ans_df.info()\n"
   ]
  },
  {
   "cell_type": "code",
   "execution_count": 211,
   "metadata": {},
   "outputs": [
    {
     "name": "stdout",
     "output_type": "stream",
     "text": [
      "We have 476 unique answers\n"
     ]
    }
   ],
   "source": [
    "freq = ans_df['text'].value_counts().reset_index()\n",
    "freq.columns = ['word', 'freq']\n",
    "\n",
    "print(f\"We have {freq.size} unique answers\")\n"
   ]
  },
  {
   "cell_type": "code",
   "execution_count": 212,
   "metadata": {},
   "outputs": [
    {
     "data": {
      "text/plain": [
       "Took.                 569\n",
       "Put down.             321\n",
       "Opened.               217\n",
       "The book.             195\n",
       "The towel.            186\n",
       "                     ... \n",
       "Washed the window.      1\n",
       "Wash the mirror.        1\n",
       "Close.                  1\n",
       "the broom.              1\n",
       "Throw the food.         1\n",
       "Name: text, Length: 238, dtype: int64"
      ]
     },
     "execution_count": 212,
     "metadata": {},
     "output_type": "execute_result"
    }
   ],
   "source": [
    "ans_df['text'].value_counts()\n"
   ]
  },
  {
   "cell_type": "code",
   "execution_count": 213,
   "metadata": {},
   "outputs": [
    {
     "data": {
      "text/plain": [
       "<AxesSubplot: xlabel='freq', ylabel='word'>"
      ]
     },
     "execution_count": 213,
     "metadata": {},
     "output_type": "execute_result"
    },
    {
     "data": {
      "image/png": "[encoded data removed]",
      "text/plain": [
       "<Figure size 600x800 with 1 Axes>"
      ]
     },
     "metadata": {},
     "output_type": "display_data"
    }
   ],
   "source": [
    "plt.figure(figsize=(6, 8))\n",
    "sns.barplot(data=freq.sort_values('freq', ascending=False)[:50], x='freq', y='word')\n"
   ]
  },
  {
   "cell_type": "markdown",
   "metadata": {},
   "source": [
    "Let's do some visualization also for the ground truth data"
   ]
  },
  {
   "cell_type": "code",
   "execution_count": 214,
   "metadata": {},
   "outputs": [
    {
     "name": "stdout",
     "output_type": "stream",
     "text": [
      "We have 198 unique answers\n"
     ]
    }
   ],
   "source": [
    "print(f\"We have {gt_df['text'].nunique()} unique answers\")\n"
   ]
  },
  {
   "cell_type": "code",
   "execution_count": 215,
   "metadata": {},
   "outputs": [
    {
     "data": {
      "text/plain": [
       "<AxesSubplot: xlabel='freq', ylabel='word'>"
      ]
     },
     "execution_count": 215,
     "metadata": {},
     "output_type": "execute_result"
    },
    {
     "data": {
      "image/png": "[encoded data removed]",
      "text/plain": [
       "<Figure size 600x800 with 1 Axes>"
      ]
     },
     "metadata": {},
     "output_type": "display_data"
    }
   ],
   "source": [
    "freq = gt_df['text'].value_counts().reset_index()\n",
    "freq.columns = ['word', 'freq']\n",
    "\n",
    "plt.figure(figsize=(6, 8))\n",
    "sns.barplot(data=freq.sort_values('freq', ascending=False)[:50], x='freq', y='word')\n"
   ]
  },
  {
   "cell_type": "code",
   "execution_count": 216,
   "metadata": {},
   "outputs": [
    {
     "data": {
      "text/plain": [
       "(6778, 5)"
      ]
     },
     "execution_count": 216,
     "metadata": {},
     "output_type": "execute_result"
    }
   ],
   "source": [
    "# Inner join - keeps only indices present in both series\n",
    "\n",
    "ans_df.rename(columns={'text': 'pred_text'}, inplace=True)\n",
    "eval_df = gt_df.join(\n",
    "    ans_df, \n",
    "    how='inner' # we account also for samples without answers\n",
    ")\n",
    "\n",
    "eval_df.shape\n"
   ]
  },
  {
   "cell_type": "code",
   "execution_count": 217,
   "metadata": {},
   "outputs": [],
   "source": [
    "def accuracy(eval_df, on_what='text'):\n",
    "    hits_text = (eval_df[f'pred_{on_what}'].str.lower() == eval_df[on_what].str.lower()).sum()\n",
    "    \n",
    "\n",
    "    return hits_text/eval_df.shape[0]\n"
   ]
  },
  {
   "cell_type": "markdown",
   "metadata": {},
   "source": [
    "check if the equality with NA result in a false or is skipped"
   ]
  },
  {
   "cell_type": "code",
   "execution_count": 218,
   "metadata": {},
   "outputs": [
    {
     "name": "stdout",
     "output_type": "stream",
     "text": [
      "Real Accuracy: 62.79%\n"
     ]
    }
   ],
   "source": [
    "real_acc = accuracy(eval_df) * eval_df.shape[0] / gt_df.shape[0]\n",
    "\n",
    "print(f\"Real Accuracy: {real_acc:.2%}\")\n"
   ]
  },
  {
   "cell_type": "code",
   "execution_count": 219,
   "metadata": {},
   "outputs": [],
   "source": [
    "def print_acc(eval_df, acc_fn):\n",
    "    print(f\"{'Question type':<15}{'Total':^15}{'Accuracy':^10}\\n\")\n",
    "\n",
    "    total = eval_df.index.str.startswith('Interaction').sum()\n",
    "    acc = acc_fn(eval_df[eval_df.index.str.startswith('Interaction')])\n",
    "    print(f\"{'Interaction':<15}{total:^15}{acc:^10.2%}\")\n",
    "\n",
    "    total = eval_df.index.str.startswith('Sequence').sum()\n",
    "    acc = acc_fn(eval_df[eval_df.index.str.startswith('Sequence')])\n",
    "    print(f\"{'Sequence':<15}{total:^15}{acc:^10.2%}\")\n",
    "\n",
    "    total = eval_df.index.str.startswith('Prediction').sum()\n",
    "    acc = acc_fn(eval_df[eval_df.index.str.startswith('Prediction')])\n",
    "    print(f\"{'Prediction':<15}{total:^15}{acc:^10.2%}\")\n",
    "\n",
    "    total = eval_df.index.str.startswith('Feasibility').sum()\n",
    "    acc = acc_fn(eval_df[eval_df.index.str.startswith('Feasibility')])\n",
    "    print(f\"{'Feasibility':<15}{total:^15}{acc:^10.2%}\")\n"
   ]
  },
  {
   "cell_type": "code",
   "execution_count": 220,
   "metadata": {},
   "outputs": [
    {
     "name": "stdout",
     "output_type": "stream",
     "text": [
      "Question type       Total      Accuracy \n",
      "\n",
      "Interaction         2288        60.80%  \n",
      "Sequence            3397        66.82%  \n",
      "Prediction           615        76.75%  \n",
      "Feasibility          478        67.78%  \n"
     ]
    }
   ],
   "source": [
    "print_acc(eval_df, lambda x: accuracy(x, on_what='text'))\n"
   ]
  },
  {
   "cell_type": "code",
   "execution_count": 221,
   "metadata": {},
   "outputs": [
    {
     "name": "stdout",
     "output_type": "stream",
     "text": [
      "Question type       Total      Answered \n",
      "\n",
      "Interaction         2398        95.41%  \n",
      "Sequence            3586        94.73%  \n",
      "Prediction           624        98.56%  \n",
      "Feasibility          490        97.55%  \n",
      "Overall             7098        95.49%  \n"
     ]
    }
   ],
   "source": [
    "# % of answers conforming to template per category\n",
    "\n",
    "def print_ans_perc(eval_df, gt_df):\n",
    "    print(f\"{'Question type':<15}{'Total':^15}{'Answered':^10}\\n\")\n",
    "\n",
    "    total = gt_df.index.str.startswith('Interaction').sum()\n",
    "    acc = len(gt_df.index.intersection(eval_df[eval_df.index.str.startswith('Interaction')].index))/total\n",
    "    print(f\"{'Interaction':<15}{total:^15}{acc:^10.2%}\")\n",
    "\n",
    "    total = gt_df.index.str.startswith('Sequence').sum()\n",
    "    acc = len(gt_df.index.intersection(eval_df[eval_df.index.str.startswith('Sequence')].index))/total\n",
    "    print(f\"{'Sequence':<15}{total:^15}{acc:^10.2%}\")\n",
    "\n",
    "    total = gt_df.index.str.startswith('Prediction').sum()\n",
    "    acc = len(gt_df.index.intersection(eval_df[eval_df.index.str.startswith('Prediction')].index))/total\n",
    "    print(f\"{'Prediction':<15}{total:^15}{acc:^10.2%}\")\n",
    "\n",
    "    total = gt_df.index.str.startswith('Feasibility').sum()\n",
    "    acc = len(gt_df.index.intersection(eval_df[eval_df.index.str.startswith('Feasibility')].index))/total\n",
    "    print(f\"{'Feasibility':<15}{total:^15}{acc:^10.2%}\")\n",
    "\n",
    "    total = gt_df.shape[0]\n",
    "    acc = eval_df.shape[0]/total\n",
    "    print(f\"{'Overall':<15}{total:^15}{acc:^10.2%}\")\n",
    "\n",
    "print_ans_perc(eval_df, gt_df)\n"
   ]
  }
 ],
 "metadata": {
  "kernelspec": {
   "display_name": "video-llm",
   "language": "python",
   "name": "python3"
  },
  "language_info": {
   "codemirror_mode": {
    "name": "ipython",
    "version": 3
   },
   "file_extension": ".py",
   "mimetype": "text/x-python",
   "name": "python",
   "nbconvert_exporter": "python",
   "pygments_lexer": "ipython3",
   "version": "3.8.18"
  }
 },
 "nbformat": 4,
 "nbformat_minor": 2
}
