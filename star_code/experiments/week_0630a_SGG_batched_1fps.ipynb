{
 "cells": [
  {
   "cell_type": "code",
   "execution_count": 1,
   "metadata": {},
   "outputs": [
    {
     "name": "stderr",
     "output_type": "stream",
     "text": [
      "Disabling PyTorch because PyTorch >= 2.1 is required but found 2.0.0\n",
      "None of PyTorch, TensorFlow >= 2.0, or Flax have been found. Models won't be available and only tokenizers, configuration and file/data utilities can be used.\n"
     ]
    }
   ],
   "source": [
    "import random\n",
    "import json\n",
    "import os, sys\n",
    "from importlib import reload\n",
    "from pathlib import Path\n",
    "import numpy as np\n",
    "import pandas as pd\n",
    "\n",
    "import re\n",
    "\n",
    "import matplotlib.pyplot as plt\n",
    "import seaborn as sns\n",
    "\n",
    "from sklearn.metrics import confusion_matrix\n",
    "from transformers import AutoTokenizer\n",
    "\n",
    "random.seed(6)\n",
    "np.random.seed(6)\n",
    "\n",
    "hugg_auth_token = os.environ.get(\"HUGGINGFACE_KEY\")\n"
   ]
  },
  {
   "cell_type": "code",
   "execution_count": 2,
   "metadata": {},
   "outputs": [],
   "source": [
    "# My modules\n",
    "\n",
    "WORK_DIR = Path.cwd().parent\n",
    "sys.path.append(str(WORK_DIR))\n",
    "\n",
    "from src import (\n",
    "    response_processing as rp,\n",
    "    graph_gen,\n",
    "    video_tools)\n"
   ]
  },
  {
   "cell_type": "code",
   "execution_count": 3,
   "metadata": {},
   "outputs": [],
   "source": [
    "# Files\n",
    "STAR_VAL_SMALL = WORK_DIR / \"data/datasets/STAR/STAR_annotations/STAR_val_small_1000.json\"\n",
    "QA_SGG = WORK_DIR / \"outputs/gr_understaing_on_genstg_20250628_00:26:00_val_gemma3:4b-it-qat_20250620_20:39:00.jsonl\"\n",
    "SGG_GRAPHS = WORK_DIR / \"outputs/sgg/sgg_1fps_batchframes_gemma3:4b-it-qat_20250628_00:26:00.jsonl\"\n",
    "\n",
    "RAW_VIDEO_DIR = Path(WORK_DIR / 'data/datasets/action-genome/Charades_v1_480/')\n",
    "SAVE_VIDEO_DIR = Path(WORK_DIR / \"experiments/video_dump\")\n"
   ]
  },
  {
   "cell_type": "code",
   "execution_count": 4,
   "metadata": {},
   "outputs": [
    {
     "data": {
      "text/plain": [
       "question_id\n",
       "False    1048\n",
       "Name: count, dtype: int64"
      ]
     },
     "execution_count": 4,
     "metadata": {},
     "output_type": "execute_result"
    }
   ],
   "source": [
    "gt_df = pd.read_json(STAR_VAL_SMALL)\n",
    "gt_df['question_id'].duplicated().value_counts()\n"
   ]
  },
  {
   "cell_type": "code",
   "execution_count": 5,
   "metadata": {},
   "outputs": [
    {
     "data": {
      "text/plain": [
       "False    921\n",
       "True     127\n",
       "Name: count, dtype: int64"
      ]
     },
     "execution_count": 5,
     "metadata": {},
     "output_type": "execute_result"
    }
   ],
   "source": [
    "gt_df[['video_id', 'start', 'end']].duplicated().value_counts()\n"
   ]
  },
  {
   "cell_type": "code",
   "execution_count": 6,
   "metadata": {},
   "outputs": [
    {
     "data": {
      "text/plain": [
       "921"
      ]
     },
     "execution_count": 6,
     "metadata": {},
     "output_type": "execute_result"
    }
   ],
   "source": [
    "videos_metadata = graph_gen.preprocess_videos_metadata(gt_df.to_dict(orient='records'))\n",
    "len(videos_metadata)\n"
   ]
  },
  {
   "cell_type": "markdown",
   "metadata": {},
   "source": [
    "The number of unique videos is coherent with we get from the gt_df."
   ]
  },
  {
   "cell_type": "code",
   "execution_count": 7,
   "metadata": {},
   "outputs": [
    {
     "name": "stdout",
     "output_type": "stream",
     "text": [
      "<class 'pandas.core.frame.DataFrame'>\n",
      "RangeIndex: 914 entries, 0 to 913\n",
      "Data columns (total 5 columns):\n",
      " #   Column        Non-Null Count  Dtype  \n",
      "---  ------        --------------  -----  \n",
      " 0   video_id      914 non-null    object \n",
      " 1   start         914 non-null    float64\n",
      " 2   end           914 non-null    float64\n",
      " 3   chat_history  914 non-null    object \n",
      " 4   stsg          914 non-null    object \n",
      "dtypes: float64(2), object(3)\n",
      "memory usage: 35.8+ KB\n"
     ]
    }
   ],
   "source": [
    "sgg_df = pd.read_json(SGG_GRAPHS, lines=True)\n",
    "sgg_df.info()\n"
   ]
  },
  {
   "cell_type": "code",
   "execution_count": 8,
   "metadata": {},
   "outputs": [
    {
     "data": {
      "text/plain": [
       "False    914\n",
       "Name: count, dtype: int64"
      ]
     },
     "execution_count": 8,
     "metadata": {},
     "output_type": "execute_result"
    }
   ],
   "source": [
    "sgg_df[['video_id', 'start', 'end']].duplicated().value_counts()\n"
   ]
  },
  {
   "cell_type": "code",
   "execution_count": 9,
   "metadata": {},
   "outputs": [
    {
     "name": "stdout",
     "output_type": "stream",
     "text": [
      "Here’s a scene graph representing the objects and relationships observed in the video sequence:\n",
      "\n",
      "<scene_graph>\n",
      "Frame 0:\n",
      "person ---- holding ---- phone\n",
      "phone ---- to_ear_of ---- person\n",
      "person ---- looking_up ---- direction\n",
      "person ---- standing_in_front_of ---- closet\n",
      "closet ---- containing ---- clothes\n",
      "closet ---- containing ---- red_bag\n",
      "Frame 1:\n",
      "person ---- holding ---- phone\n",
      "phone ---- to_ear_of ---- person\n",
      "person ---- looking_up ---- direction\n",
      "person ---- standing_in_front_of ---- closet\n",
      "closet ---- containing ---- clothes\n",
      "closet ---- containing ---- red_bag\n",
      "Frame 2:\n",
      "person ---- holding ---- phone\n",
      "phone ---- to_ear_of ---- person\n",
      "person ---- looking_up ---- direction\n",
      "person ---- standing_in_front_of ---- closet\n",
      "closet ---- containing ---- clothes\n",
      "closet ---- containing ---- red_bag\n",
      "Frame 3:\n",
      "person ---- holding ---- phone\n",
      "phone ---- to_ear_of ---- person\n",
      "person ---- looking_up ---- direction\n",
      "person ---- standing_in_front_of ---- closet\n",
      "closet ---- containing ---- clothes\n",
      "closet ---- containing ---- red_bag\n",
      "</scene_graph>\n"
     ]
    }
   ],
   "source": [
    "print(sgg_df.iloc[0]['stsg'])\n"
   ]
  },
  {
   "cell_type": "code",
   "execution_count": 10,
   "metadata": {},
   "outputs": [
    {
     "data": {
      "text/plain": [
       "['\\nFrame 0:\\nperson ---- holding ---- phone\\nphone ---- to_ear_of ---- person\\nperson ---- looking_up ---- direction\\nperson ---- standing_in_front_of ---- closet\\ncloset ---- containing ---- clothes\\ncloset ---- containing ---- red_bag\\nFrame 1:\\nperson ---- holding ---- phone\\nphone ---- to_ear_of ---- person\\nperson ---- looking_up ---- direction\\nperson ---- standing_in_front_of ---- closet\\ncloset ---- containing ---- clothes\\ncloset ---- containing ---- red_bag\\nFrame 2:\\nperson ---- holding ---- phone\\nphone ---- to_ear_of ---- person\\nperson ---- looking_up ---- direction\\nperson ---- standing_in_front_of ---- closet\\ncloset ---- containing ---- clothes\\ncloset ---- containing ---- red_bag\\nFrame 3:\\nperson ---- holding ---- phone\\nphone ---- to_ear_of ---- person\\nperson ---- looking_up ---- direction\\nperson ---- standing_in_front_of ---- closet\\ncloset ---- containing ---- clothes\\ncloset ---- containing ---- red_bag\\n']"
      ]
     },
     "execution_count": 10,
     "metadata": {},
     "output_type": "execute_result"
    }
   ],
   "source": [
    "result = re.findall(\"<scene_graph>(.*)</scene_graph>\", sgg_df.iloc[0]['stsg'], flags=re.DOTALL)\n",
    "result\n"
   ]
  },
  {
   "cell_type": "code",
   "execution_count": 11,
   "metadata": {},
   "outputs": [
    {
     "data": {
      "text/plain": [
       "stsg_re\n",
       "1    907\n",
       "0      7\n",
       "Name: count, dtype: int64"
      ]
     },
     "execution_count": 11,
     "metadata": {},
     "output_type": "execute_result"
    }
   ],
   "source": [
    "sgg_df['stsg_re'] = sgg_df['stsg'].apply(lambda x: re.findall(\"<scene_graph>(.*)</scene_graph>\", x, flags=re.DOTALL))\n",
    "sgg_df['stsg_re'].apply(len).value_counts()\n"
   ]
  },
  {
   "cell_type": "code",
   "execution_count": 12,
   "metadata": {},
   "outputs": [
    {
     "data": {
      "text/html": [
       "<div>\n",
       "<style scoped>\n",
       "    .dataframe tbody tr th:only-of-type {\n",
       "        vertical-align: middle;\n",
       "    }\n",
       "\n",
       "    .dataframe tbody tr th {\n",
       "        vertical-align: top;\n",
       "    }\n",
       "\n",
       "    .dataframe thead th {\n",
       "        text-align: right;\n",
       "    }\n",
       "</style>\n",
       "<table border=\"1\" class=\"dataframe\">\n",
       "  <thead>\n",
       "    <tr style=\"text-align: right;\">\n",
       "      <th></th>\n",
       "      <th>video_id</th>\n",
       "      <th>start</th>\n",
       "      <th>end</th>\n",
       "      <th>chat_history</th>\n",
       "      <th>stsg</th>\n",
       "      <th>stsg_re</th>\n",
       "    </tr>\n",
       "  </thead>\n",
       "  <tbody>\n",
       "    <tr>\n",
       "      <th>105</th>\n",
       "      <td>Z97SD</td>\n",
       "      <td>25.1</td>\n",
       "      <td>30.7</td>\n",
       "      <td>[{'role': 'user', 'content': 'You are an intel...</td>\n",
       "      <td></td>\n",
       "      <td>[]</td>\n",
       "    </tr>\n",
       "    <tr>\n",
       "      <th>388</th>\n",
       "      <td>MD6P2</td>\n",
       "      <td>5.0</td>\n",
       "      <td>22.3</td>\n",
       "      <td>[{'role': 'user', 'content': 'You are an intel...</td>\n",
       "      <td>Okay, here’s a scene graph representing the vi...</td>\n",
       "      <td>[]</td>\n",
       "    </tr>\n",
       "    <tr>\n",
       "      <th>572</th>\n",
       "      <td>EO6OI</td>\n",
       "      <td>33.6</td>\n",
       "      <td>38.9</td>\n",
       "      <td>[{'role': 'user', 'content': 'You are an intel...</td>\n",
       "      <td></td>\n",
       "      <td>[]</td>\n",
       "    </tr>\n",
       "    <tr>\n",
       "      <th>653</th>\n",
       "      <td>3B81O</td>\n",
       "      <td>0.0</td>\n",
       "      <td>21.6</td>\n",
       "      <td>[{'role': 'user', 'content': 'You are an intel...</td>\n",
       "      <td>Here’s a scene graph representing the events i...</td>\n",
       "      <td>[]</td>\n",
       "    </tr>\n",
       "    <tr>\n",
       "      <th>724</th>\n",
       "      <td>6ZWSU</td>\n",
       "      <td>11.6</td>\n",
       "      <td>21.8</td>\n",
       "      <td>[{'role': 'user', 'content': 'You are an intel...</td>\n",
       "      <td>Here’s a scene graph representing the objects ...</td>\n",
       "      <td>[]</td>\n",
       "    </tr>\n",
       "    <tr>\n",
       "      <th>826</th>\n",
       "      <td>DR7K0</td>\n",
       "      <td>13.9</td>\n",
       "      <td>22.7</td>\n",
       "      <td>[{'role': 'user', 'content': 'You are an intel...</td>\n",
       "      <td></td>\n",
       "      <td>[]</td>\n",
       "    </tr>\n",
       "    <tr>\n",
       "      <th>897</th>\n",
       "      <td>9632M</td>\n",
       "      <td>4.9</td>\n",
       "      <td>32.0</td>\n",
       "      <td>[{'role': 'user', 'content': 'You are an intel...</td>\n",
       "      <td>Here’s a scene graph organized from the analys...</td>\n",
       "      <td>[]</td>\n",
       "    </tr>\n",
       "  </tbody>\n",
       "</table>\n",
       "</div>"
      ],
      "text/plain": [
       "    video_id  start   end                                       chat_history  \\\n",
       "105    Z97SD   25.1  30.7  [{'role': 'user', 'content': 'You are an intel...   \n",
       "388    MD6P2    5.0  22.3  [{'role': 'user', 'content': 'You are an intel...   \n",
       "572    EO6OI   33.6  38.9  [{'role': 'user', 'content': 'You are an intel...   \n",
       "653    3B81O    0.0  21.6  [{'role': 'user', 'content': 'You are an intel...   \n",
       "724    6ZWSU   11.6  21.8  [{'role': 'user', 'content': 'You are an intel...   \n",
       "826    DR7K0   13.9  22.7  [{'role': 'user', 'content': 'You are an intel...   \n",
       "897    9632M    4.9  32.0  [{'role': 'user', 'content': 'You are an intel...   \n",
       "\n",
       "                                                  stsg stsg_re  \n",
       "105                                                         []  \n",
       "388  Okay, here’s a scene graph representing the vi...      []  \n",
       "572                                                         []  \n",
       "653  Here’s a scene graph representing the events i...      []  \n",
       "724  Here’s a scene graph representing the objects ...      []  \n",
       "826                                                         []  \n",
       "897  Here’s a scene graph organized from the analys...      []  "
      ]
     },
     "execution_count": 12,
     "metadata": {},
     "output_type": "execute_result"
    }
   ],
   "source": [
    "contains_stsg_mask = sgg_df['stsg_re'].apply(len) > 0\n",
    "sgg_df[~contains_stsg_mask]\n"
   ]
  },
  {
   "cell_type": "code",
   "execution_count": 13,
   "metadata": {},
   "outputs": [
    {
     "name": "stdout",
     "output_type": "stream",
     "text": [
      "[{'role': 'user', 'content': 'You are an intelligent video comprehension model and are going to receive as input a sequence of images extracted from a video and a question. You need to analyze and describe the scene unfolding in the video (sequence of frames) following these guidelines:\\n1. Look for recurring objects;\\n2. Note that the same object may appear differently across frames due to low image quality, varying viewing angles, or partial obstructions. Carefully check objects with similar features (e.g. shape, color), appearing in different frames, as they may still be the same object;\\n3. Pay attention to how the person interacts with its environment\\n4. Understand the directional movement of the people and objects in the video\\n5. Carefully analyze the chronological sequence of the events occurring in the video;\\n6. Pay attention to the atomic and fine grained movement, pose and actions of the people in the video. Compose these atomic actions happening across the frame to infer the higher level action performed by the person;\\n7. Deduce the intentions and motives behind the actions;\\n8. Identify unusual actions accurately.\\n\\n\\nFurther instructions:\\n- In describing the scene make sure to cite which frame are you referring to\\n\\n\\n\\nImage 0:\\n[img]\\n\\nImage 1:\\n[img]\\n\\nImage 2:\\n[img]\\n\\nImage 3:\\n[img]\\n\\nImage 4:\\n[img]\\n\\nImage 5:\\n[img]'}, {'content': \"Here's a description of the scene unfolding in the video, analyzing the sequence of images:\\n\\n**Overall Scene:** The video depicts a man in a purple shirt and dark pants interacting with a refrigerator in a room with wooden cabinets and a floral arrangement.\\n\\n**Sequence of Actions:**\\n\\n*   **Image 0:** The man is initially standing near the refrigerator, holding a mobile phone and looking at it.\\n*   **Image 1:** He begins to walk towards an opening in the wall, moving away from the refrigerator.\\n*   **Image 2:** He bends down and appears to be inspecting the refrigerator door, possibly checking something inside.\\n*   **Image 3:** He continues walking, maintaining a steady pace.\\n*   **Image 4:** He returns to the refrigerator, holding a small red object (likely a key or a small item) and appears to be examining it in relation to the refrigerator.\\n*   **Image 5:** He is still examining the refrigerator, holding the red object.\\n\\n**Recurring Elements:**\\n\\n*   The refrigerator is a consistent element throughout the video.\\n*   The man in the purple shirt is the only person present.\\n*   The floral arrangement on the wall remains constant.\\n\\n**Inference:**\\n\\nThe man is investigating the refrigerator. He initially uses his phone, then inspects the refrigerator door, and finally examines a small object in relation to the appliance. This suggests he is looking for something specific within the refrigerator, possibly a key or a misplaced item.\", 'role': 'assistant'}, {'role': 'user', 'content': 'Now organize the objects and relationships you identified before into a formal scene graph using this format:\\nobject1 ---- relationship ---- object2\\n\\nThe list of relationship predicates should be introduced for each frame should be introduce by the frame ID or \\nname and finally by the tag <scene_graph> and terminated by the tag </scene_graph>.\\n\\nFor example:\\nFrame 0:\\n<scene_graph>\\nman ---- sitting_on ---- chair\\ndog ---- lying_under ---- table\\nbook ---- on_top_of ---- shelf\\n...\\n</scene_graph>\\n\\nFrame 2:\\n<scene_graph>\\nwoman ---- on_the_left_of ---- man\\n...\\n<scene_graph>\\n...\\n\\n\\nPlease follow these guidelines:\\n1. Create an adequate number of relationship triplets (more if the image is complex)\\n2. Use specific and consistent object labels\\n3. Use concise but descriptive relationship terms (connect words with underscores)\\n4. Include all meaningful relationships between objects\\n5. Verify that all objects you identified in step 1 appear in at least one relationship\\n6. You can condense multiple visual frames and their descriptions into a single or few frames \\n   if they contains the same or similar repetitive relationships. In doing so be careful to preserve\\n   the temporal end spatial relationship and the events unfolding in the video.\\nYour scene graph:'}, {'role': 'assistant', 'content': ''}]\n",
      "[{'role': 'user', 'content': 'You are an intelligent video comprehension model and are going to receive as input a sequence of images extracted from a video and a question. You need to analyze and describe the scene unfolding in the video (sequence of frames) following these guidelines:\\n1. Look for recurring objects;\\n2. Note that the same object may appear differently across frames due to low image quality, varying viewing angles, or partial obstructions. Carefully check objects with similar features (e.g. shape, color), appearing in different frames, as they may still be the same object;\\n3. Pay attention to how the person interacts with its environment\\n4. Understand the directional movement of the people and objects in the video\\n5. Carefully analyze the chronological sequence of the events occurring in the video;\\n6. Pay attention to the atomic and fine grained movement, pose and actions of the people in the video. Compose these atomic actions happening across the frame to infer the higher level action performed by the person;\\n7. Deduce the intentions and motives behind the actions;\\n8. Identify unusual actions accurately.\\n\\n\\nFurther instructions:\\n- In describing the scene make sure to cite which frame are you referring to\\n\\n\\n\\nImage 0:\\n[img]\\n\\nImage 1:\\n[img]\\n\\nImage 2:\\n[img]\\n\\nImage 3:\\n[img]\\n\\nImage 4:\\n[img]\\n\\nImage 5:\\n[img]\\n\\nImage 6:\\n[img]\\n\\nImage 7:\\n[img]\\n\\nImage 8:\\n[img]\\n\\nImage 9:\\n[img]\\n\\nImage 10:\\n[img]\\n\\nImage 11:\\n[img]\\n\\nImage 12:\\n[img]\\n\\nImage 13:\\n[img]\\n\\nImage 14:\\n[img]\\n\\nImage 15:\\n[img]\\n\\nImage 16:\\n[img]'}, {'content': \"Here's a description of the scene based on the provided images:\\n\\nThe video shows a man consistently engaged in a repetitive action. Throughout the sequence (frames 0-16), he is meticulously manipulating a small, circular object – likely a ring or similar trinket – with his hands. He wears a green and blue striped polo shirt with a logo.\\n\\n**Detailed Breakdown:**\\n\\n*   **Action:** The primary action is the repeated handling of the small object. He picks it up, examines it, and then carefully places it back down.\\n*   **Posture and Movement:** His posture is generally upright, with a slight lean forward as he works. His movements are precise and deliberate.\\n*   **Environment:** The setting appears to be an indoor room, possibly a bedroom or living area. There’s a table with various items on it, including toiletries and a digital timer. A window or door with a metal grille is visible in the background.\\n*   **Consistency:** The man’s actions are remarkably consistent across all frames, suggesting a focused and potentially obsessive behavior.\\n\\n**Overall Impression:** The video depicts a man engaged in a repetitive, possibly ritualistic, action with a small object. It’s difficult to determine the exact reason for this behavior without further context, but the consistent nature of the action is notable.\", 'role': 'assistant'}, {'role': 'user', 'content': 'Now organize the objects and relationships you identified before into a formal scene graph using this format:\\nobject1 ---- relationship ---- object2\\n\\nThe list of relationship predicates should be introduced for each frame should be introduce by the frame ID or \\nname and finally by the tag <scene_graph> and terminated by the tag </scene_graph>.\\n\\nFor example:\\nFrame 0:\\n<scene_graph>\\nman ---- sitting_on ---- chair\\ndog ---- lying_under ---- table\\nbook ---- on_top_of ---- shelf\\n...\\n</scene_graph>\\n\\nFrame 2:\\n<scene_graph>\\nwoman ---- on_the_left_of ---- man\\n...\\n<scene_graph>\\n...\\n\\n\\nPlease follow these guidelines:\\n1. Create an adequate number of relationship triplets (more if the image is complex)\\n2. Use specific and consistent object labels\\n3. Use concise but descriptive relationship terms (connect words with underscores)\\n4. Include all meaningful relationships between objects\\n5. Verify that all objects you identified in step 1 appear in at least one relationship\\n6. You can condense multiple visual frames and their descriptions into a single or few frames \\n   if they contains the same or similar repetitive relationships. In doing so be careful to preserve\\n   the temporal end spatial relationship and the events unfolding in the video.\\nYour scene graph:'}, {'role': 'assistant', 'content': 'Okay, here’s a scene graph representing the visual information from the provided images, organized by frame and using the specified format:\\n\\n<scene_graph>\\n\\n**Frame 0:**\\nman ---- holding ---- ring\\nman ---- sitting_on ---- table\\ntable ---- on ---- floor\\nring ---- on ---- man’s hand\\nman ---- facing ---- camera\\n\\n**Frame 1:**\\nman ---- holding ---- ring\\nman ---- holding ---- ring\\nman ---- holding ---- ring\\nman ---- holding ---- ring\\nman ---- holding ---- ring\\nman ---- holding ---- ring\\nman ---- holding ---- ring\\nman ---- holding ---- ring\\nman ---- holding ---- ring\\nman ---- holding ---- ring\\nman ---- holding ---- ring\\nman ---- holding ---- ring\\nman ---- holding ---- ring\\nman ---- holding ---- ring\\nman ---- holding ---- ring\\nman ---- holding ---- ring\\nman ---- holding ---- ring\\nman ---- holding ---- ring\\nman ---- holding ---- ring\\nman ---- holding ---- ring\\nman ---- holding ---- ring\\nman ---- holding ---- ring\\nman ---- holding ---- ring\\nman ---- holding ---- ring\\nman ---- holding ---- ring\\nman ---- holding ---- ring\\nman ---- holding ---- ring\\nman ---- holding ---- ring\\nman ---- holding ---- ring\\nman ---- holding ---- ring\\nman ---- holding ---- ring\\nman ---- holding ---- ring\\nman ---- holding ---- ring\\nman ---- holding ---- ring\\nman ---- holding ---- ring\\nman ---- holding ---- ring\\nman ---- holding ---- ring\\nman ---- holding ---- ring\\nman ---- holding ---- ring\\nman ---- holding ---- ring\\nman ---- holding ---- ring\\nman ---- holding ---- ring\\nman ---- holding ---- ring\\nman ---- holding ---- ring\\nman ---- holding ---- ring\\nman ---- holding ---- ring\\nman ---- holding ---- ring\\nman ---- holding ---- ring\\nman ---- holding ---- ring\\nman ---- holding ---- ring\\nman ---- holding ---- ring\\nman ---- holding ---- ring\\nman ---- holding ---- ring\\nman ---- holding ---- ring\\nman ---- holding ---- ring\\nman ---- holding ---- ring\\nman ---- holding ---- ring\\nman ---- holding ---- ring\\nman ---- holding ---- ring\\nman ---- holding ---- ring\\nman ---- holding ---- ring\\nman ---- holding ---- ring\\nman ---- holding ---- ring\\nman ---- holding ---- ring\\nman ---- holding ---- ring\\nman ---- holding ---- ring\\nman ---- holding ---- ring\\nman ---- holding ---- ring\\nman ---- holding ---- ring\\nman ---- holding ---- ring\\nman ---- holding ---- ring\\nman ---- holding ---- ring\\nman ---- holding ---- ring\\nman ---- holding ---- ring\\nman ---- holding ---- ring\\nman ---- holding ---- ring\\nman ---- holding ---- ring\\nman ---- holding ---- ring\\nman ---- holding ---- ring\\nman ---- holding ---- ring\\nman ---- holding ---- ring\\nman ---- holding ---- ring\\nman ---- holding ---- ring\\nman ---- holding ---- ring\\nman ---- holding ---- ring\\nman ---- holding ---- ring\\nman ---- holding ---- ring\\nman ---- holding ---- ring\\nman ---- holding ---- ring\\nman ---- holding ---- ring\\nman ---- holding ---- ring\\nman ---- holding ---- ring\\nman ---- holding ---- ring\\nman ---- holding ---- ring\\nman ---- holding ---- ring\\nman ---- holding ---- ring\\nman ---- holding ---- ring\\nman ---- holding ---- ring\\nman ---- holding ---- ring\\nman ---- holding ---- ring\\nman ---- holding ---- ring\\nman ---- holding ---- ring\\nman ---- holding ---- ring\\nman ---- holding ---- ring\\nman ---- holding ---- ring\\nman ---- holding ---- ring\\nman ---- holding ---- ring\\nman ---- holding ---- ring\\nman ---- holding ---- ring\\nman ---- holding ---- ring\\nman ---- holding ---- ring\\nman ---- holding ---- ring\\nman ---- holding ---- ring\\nman ---- holding ---- ring\\nman ---- holding ---- ring\\nman ---- holding ---- ring\\nman ---- holding ---- ring\\nman ---- holding ---- ring\\nman ---- holding ---- ring\\nman ---- holding ---- ring\\nman ---- holding ---- ring\\nman ---- holding ---- ring\\nman ---- holding ---- ring\\nman ---- holding ---- ring\\nman ---- holding ---- ring\\nman ---- holding ---- ring\\nman ---- holding ---- ring\\nman ---- holding ---- ring\\nman ---- holding ---- ring\\nman ---- holding ---- ring\\nman ---- holding ---- ring\\nman ---- holding ---- ring\\nman ---- holding ---- ring\\nman ---- holding ---- ring\\nman ---- holding ---- ring\\nman ---- holding ---- ring\\nman ---- holding ---- ring\\nman ---- holding ---- ring\\nman ---- holding ---- ring\\nman ---- holding ---- ring\\nman ---- holding ---- ring\\nman ---- holding ---- ring\\nman ---- holding ---- ring\\nman ---- holding ---- ring\\nman ---- holding ---- ring\\nman ---- holding ---- ring\\nman ---- holding ---- ring\\nman ---- holding ---- ring\\nman ---- holding ---- ring\\nman ---- holding ---- ring\\nman ---- holding ---- ring\\nman ---- holding ---- ring\\nman ---- holding ---- ring\\nman ---- holding ---- ring\\nman ---- holding ---- ring\\nman ---- holding ---- ring\\nman ---- holding ---- ring\\nman ---- holding ---- ring\\nman ---- holding ---- ring\\nman ---- holding ---- ring\\nman ---- holding ---- ring\\nman ---- holding ---- ring\\nman ---- holding ---- ring\\nman ---- holding ---- ring\\nman ---- holding ---- ring\\nman ---- holding ---- ring\\nman ---- holding ---- ring\\nman ---- holding ---- ring\\nman ---- holding ---- ring\\nman ---- holding ---- ring\\nman ---- holding ---- ring\\nman ---- holding ---- ring\\nman ---- holding ---- ring\\nman ---- holding ---- ring\\nman ---- holding ---- ring\\nman ---- holding ---- ring\\nman ---- holding ---- ring\\nman ---- holding ---- ring\\nman ---- holding ---- ring\\nman ---- holding ---- ring\\nman ---- holding ---- ring\\nman ---- holding ---- ring\\nman ---- holding ---- ring\\nman ---- holding ---- ring\\nman ---- holding ---- ring\\nman ---- holding ---- ring\\nman ---- holding ---- ring\\nman ---- holding ---- ring\\nman ---- holding ---- ring\\nman ---- holding ---- ring\\nman ---- holding ---- ring\\nman ---- holding ---- ring\\nman ---- holding ---- ring\\nman ---- holding ---- ring\\nman ---- holding ---- ring\\nman ---- holding ---- ring\\nman ---- holding ---- ring\\nman ---- holding ---- ring\\nman ---- holding ---- ring\\nman ---- holding ---- ring\\nman ---- holding ---- ring\\nman ---- holding ---- ring\\nman ---- holding ---- ring\\nman ---- holding ---- ring\\nman ---- holding ---- ring\\nman ---- holding ---- ring\\nman ---- holding ---- ring\\nman ---- holding ---- ring\\nman ---- holding ---- ring\\nman ---- holding ---- ring\\nman ---- holding ---- ring\\nman ---- holding ---- ring\\nman ---- holding ---- ring\\nman ---- holding ---- ring\\nman ---- holding ---- ring\\nman ---- holding ---- ring\\nman ---- holding ---- ring\\nman ---- holding ---- ring\\nman ---- holding ---- ring\\nman ---- holding ---- ring\\nman ---- holding ---- ring\\nman ---- holding ---- ring\\nman ---- holding ---- ring\\nman ---- holding ---- ring\\nman ---- holding ---- ring\\nman ---- holding ---- ring\\nman ---- holding ---- ring\\nman ---- holding ---- ring\\nman ---- holding ---- ring\\nman ---- holding ---- ring\\nman ---- holding ---- ring\\nman ---- holding ---- ring\\nman ---- holding ---- ring\\nman ---- holding ---- ring\\nman ---- holding ---- ring\\nman ---- holding ---- ring\\nman ---- holding ---- ring\\nman ---- holding ---- ring\\nman ---- holding ---- ring\\nman ---- holding ---- ring\\nman ---- holding ---- ring\\nman ---- holding ---- ring\\nman ---- holding ---- ring\\nman ---- holding ---- ring\\nman ---- holding ---- ring\\nman ---- holding ---- ring\\nman ---- holding ---- ring\\nman ---- holding ---- ring\\nman ---- holding ---- ring\\nman ---- holding ---- ring\\nman ---- holding ---- ring\\nman ---- holding ---- ring\\nman ---- holding ---- ring\\nman ---- holding ---- ring\\nman ---- holding ---- ring\\nman ---- holding ---- ring\\nman ---- holding ---- ring\\nman ---- holding ---- ring\\nman ---- holding ---- ring\\nman ---- holding ---- ring\\nman ---- holding ---- ring\\nman ---- holding ---- ring\\nman ---- holding ---- ring\\nman ---- holding ---- ring\\nman ---- holding ---- ring\\nman ---- holding ---- ring\\nman ---- holding ---- ring\\nman ---- holding ---- ring\\nman ---- holding ---- ring\\nman ---- holding ---- ring\\nman ---- holding ---- ring\\nman ---- holding ---- ring\\nman ---- holding ---- ring\\nman ---- holding ---- ring\\nman ---- holding ---- ring\\nman ---- holding ---- ring\\nman ---- holding ---- ring\\nman ---- holding ---- ring\\nman ---- holding ---- ring\\nman ---- holding ---- ring\\nman ---- holding ---- ring\\nman ---- holding ---- ring\\nman ---- holding ---- ring\\nman ---- holding ---- ring\\nman ---- holding ---- ring\\nman ---- holding ---- ring\\nman ---- holding ---- ring\\nman ---- holding ---- ring\\nman ---- holding ---- ring\\nman ---- holding ---- ring\\nman ---- holding ---- ring\\nman ---- holding ---- ring\\nman ---- holding ---- ring\\nman ---- holding ---- ring\\nman ---- holding ---- ring\\nman ---- holding ---- ring\\nman ---- holding ---- ring\\nman ---- holding ---- ring\\nman ---- holding ---- ring\\nman ---- holding ---- ring\\nman ---- holding ---- ring\\nman ---- holding ---- ring\\nman ---- holding ---- ring\\nman ---- holding ---- ring\\nman ---- holding ---- ring\\nman ---- holding ---- ring\\nman ---- holding ---- ring\\nman ---- holding ---- ring\\nman ---- holding ---- ring\\nman ---- holding ---- ring\\nman ---- holding ---- ring\\nman ---- holding ---- ring\\nman ---- holding ---- ring\\nman ---- holding ---- ring\\nman ---- holding ---- ring\\nman ---- holding ---- ring\\nman ---- holding ---- ring\\nman ---- holding ---- ring\\nman ---- holding ---- ring\\nman ---- holding ---- ring\\nman ---- holding ---- ring\\nman ---- holding ---- ring\\nman ---- holding ---- ring\\nman ---- holding ---- ring\\nman ---- holding ---- ring\\nman ---- holding ---- ring\\nman ---- holding ---- ring\\nman ---- holding ---- ring\\n'}]\n",
      "[{'role': 'user', 'content': 'You are an intelligent video comprehension model and are going to receive as input a sequence of images extracted from a video and a question. You need to analyze and describe the scene unfolding in the video (sequence of frames) following these guidelines:\\n1. Look for recurring objects;\\n2. Note that the same object may appear differently across frames due to low image quality, varying viewing angles, or partial obstructions. Carefully check objects with similar features (e.g. shape, color), appearing in different frames, as they may still be the same object;\\n3. Pay attention to how the person interacts with its environment\\n4. Understand the directional movement of the people and objects in the video\\n5. Carefully analyze the chronological sequence of the events occurring in the video;\\n6. Pay attention to the atomic and fine grained movement, pose and actions of the people in the video. Compose these atomic actions happening across the frame to infer the higher level action performed by the person;\\n7. Deduce the intentions and motives behind the actions;\\n8. Identify unusual actions accurately.\\n\\n\\nFurther instructions:\\n- In describing the scene make sure to cite which frame are you referring to\\n\\n\\n\\nImage 0:\\n[img]\\n\\nImage 1:\\n[img]\\n\\nImage 2:\\n[img]\\n\\nImage 3:\\n[img]\\n\\nImage 4:\\n[img]'}, {'content': \"Here's a detailed description of the scene unfolding in the video, based on the provided images:\\n\\n**Overall Scene Description:**\\n\\nThe video depicts a person in a dimly lit room, likely a home office or study, interacting with a computer setup and a chair. The room is cluttered with various items, including a computer monitor, a desk, a computer tower, and several storage containers.\\n\\n**Detailed Breakdown by Frame:**\\n\\n*   **Image 0:** The person is shown pushing a long, cylindrical object (likely a cleaning tool or brush) towards the back of the chair. The chair is black and mesh-backed. The person is wearing a black shirt.\\n*   **Image 1:** The scene is largely the same as Image 0. The person continues to push the cylindrical object towards the chair.\\n*   **Image 2:** The person is still pushing the cylindrical object towards the chair.\\n*   **Image 3:** The person is pushing the cylindrical object towards the chair.\\n*   **Image 4:** The person is pushing the cylindrical object towards the chair.\\n\\n**Recurring Elements and Actions:**\\n\\n*   **The Chair:** A black mesh-backed chair is consistently present throughout the video.\\n*   **The Cylindrical Object:** A long, cylindrical object is repeatedly pushed towards the chair. It’s difficult to determine its exact purpose, but it appears to be a cleaning tool or brush.\\n*   **Computer Setup:** A computer monitor, desk, and computer tower are consistently visible.\\n\\n**Inference and Potential Intentions:**\\n\\nThe person is actively cleaning the chair. The repetitive action of pushing the cylindrical object suggests a focused effort to remove dirt or debris from the chair’s seat and back.\", 'role': 'assistant'}, {'role': 'user', 'content': 'Now organize the objects and relationships you identified before into a formal scene graph using this format:\\nobject1 ---- relationship ---- object2\\n\\nThe list of relationship predicates should be introduced for each frame should be introduce by the frame ID or \\nname and finally by the tag <scene_graph> and terminated by the tag </scene_graph>.\\n\\nFor example:\\nFrame 0:\\n<scene_graph>\\nman ---- sitting_on ---- chair\\ndog ---- lying_under ---- table\\nbook ---- on_top_of ---- shelf\\n...\\n</scene_graph>\\n\\nFrame 2:\\n<scene_graph>\\nwoman ---- on_the_left_of ---- man\\n...\\n<scene_graph>\\n...\\n\\n\\nPlease follow these guidelines:\\n1. Create an adequate number of relationship triplets (more if the image is complex)\\n2. Use specific and consistent object labels\\n3. Use concise but descriptive relationship terms (connect words with underscores)\\n4. Include all meaningful relationships between objects\\n5. Verify that all objects you identified in step 1 appear in at least one relationship\\n6. You can condense multiple visual frames and their descriptions into a single or few frames \\n   if they contains the same or similar repetitive relationships. In doing so be careful to preserve\\n   the temporal end spatial relationship and the events unfolding in the video.\\nYour scene graph:'}, {'role': 'assistant', 'content': ''}]\n",
      "[{'role': 'user', 'content': 'You are an intelligent video comprehension model and are going to receive as input a sequence of images extracted from a video and a question. You need to analyze and describe the scene unfolding in the video (sequence of frames) following these guidelines:\\n1. Look for recurring objects;\\n2. Note that the same object may appear differently across frames due to low image quality, varying viewing angles, or partial obstructions. Carefully check objects with similar features (e.g. shape, color), appearing in different frames, as they may still be the same object;\\n3. Pay attention to how the person interacts with its environment\\n4. Understand the directional movement of the people and objects in the video\\n5. Carefully analyze the chronological sequence of the events occurring in the video;\\n6. Pay attention to the atomic and fine grained movement, pose and actions of the people in the video. Compose these atomic actions happening across the frame to infer the higher level action performed by the person;\\n7. Deduce the intentions and motives behind the actions;\\n8. Identify unusual actions accurately.\\n\\n\\nFurther instructions:\\n- In describing the scene make sure to cite which frame are you referring to\\n\\n\\n\\nImage 0:\\n[img]\\n\\nImage 1:\\n[img]\\n\\nImage 2:\\n[img]\\n\\nImage 3:\\n[img]\\n\\nImage 4:\\n[img]\\n\\nImage 5:\\n[img]\\n\\nImage 6:\\n[img]\\n\\nImage 7:\\n[img]\\n\\nImage 8:\\n[img]\\n\\nImage 9:\\n[img]\\n\\nImage 10:\\n[img]\\n\\nImage 11:\\n[img]\\n\\nImage 12:\\n[img]\\n\\nImage 13:\\n[img]\\n\\nImage 14:\\n[img]\\n\\nImage 15:\\n[img]\\n\\nImage 16:\\n[img]\\n\\nImage 17:\\n[img]\\n\\nImage 18:\\n[img]\\n\\nImage 19:\\n[img]\\n\\nImage 20:\\n[img]\\n\\nImage 21:\\n[img]'}, {'content': \"Here's a description of the scene unfolding in the video, based on the provided images:\\n\\nThroughout the sequence, a man is consistently seen washing his hands at the kitchen sink. (Images 0-21) He is wearing a brown t-shirt and gray shorts. The sink is stainless steel, and the countertop is granite.  The background features a window with blinds, offering a view of a mountainous landscape.  A red box of tissues is visible on the counter. A coffee maker is also present.\\n\\nThe man’s actions are repetitive and methodical. He repeatedly turns on the faucet, washes his hands, and then turns it off.  In the later frames (images 13-21), he appears to be reaching out and touching the blinds, as if adjusting them.  This action is unusual and suggests he is trying to block out the view.\\n\\nThe overall impression is of someone attempting to control the light and view from the window.\", 'role': 'assistant'}, {'role': 'user', 'content': 'Now organize the objects and relationships you identified before into a formal scene graph using this format:\\nobject1 ---- relationship ---- object2\\n\\nThe list of relationship predicates should be introduced for each frame should be introduce by the frame ID or \\nname and finally by the tag <scene_graph> and terminated by the tag </scene_graph>.\\n\\nFor example:\\nFrame 0:\\n<scene_graph>\\nman ---- sitting_on ---- chair\\ndog ---- lying_under ---- table\\nbook ---- on_top_of ---- shelf\\n...\\n</scene_graph>\\n\\nFrame 2:\\n<scene_graph>\\nwoman ---- on_the_left_of ---- man\\n...\\n<scene_graph>\\n...\\n\\n\\nPlease follow these guidelines:\\n1. Create an adequate number of relationship triplets (more if the image is complex)\\n2. Use specific and consistent object labels\\n3. Use concise but descriptive relationship terms (connect words with underscores)\\n4. Include all meaningful relationships between objects\\n5. Verify that all objects you identified in step 1 appear in at least one relationship\\n6. You can condense multiple visual frames and their descriptions into a single or few frames \\n   if they contains the same or similar repetitive relationships. In doing so be careful to preserve\\n   the temporal end spatial relationship and the events unfolding in the video.\\nYour scene graph:'}, {'role': 'assistant', 'content': 'Here’s a scene graph representing the events in the video, organized by frame and using the specified format:\\n\\n<scene_graph>\\n\\n**Frame 0:**\\nman ---- washing ---- sink\\nsink ---- connected_to ---- faucet\\nfaucet ---- turned_on\\nsink ---- connected_to ---- countertop\\ncountertop ---- connected_to ---- granite\\ngranite ---- connected_to ---- kitchen_countertop\\nkitchen_countertop ---- connected_to ---- window\\nwindow ---- connected_to ---- blinds\\nblinds ---- connected_to ---- window\\nwindow ---- connected_to ---- view\\nview ---- connected_to ---- mountains\\n\\n**Frame 1:**\\nman ---- washing ---- sink\\nsink ---- connected_to ---- faucet\\nfaucet ---- turned_on\\nsink ---- connected_to ---- countertop\\ncountertop ---- connected_to ---- granite\\ngranite ---- connected_to ---- kitchen_countertop\\nkitchen_countertop ---- connected_to ---- window\\nwindow ---- connected_to ---- blinds\\nblinds ---- connected_to ---- window\\nwindow ---- connected_to ---- view\\nview ---- connected_to ---- mountains\\n\\n**Frame 2:**\\nman ---- washing ---- sink\\nsink ---- connected_to ---- faucet\\nfaucet ---- turned_on\\nsink ---- connected_to ---- countertop\\ncountertop ---- connected_to ---- granite\\ngranite ---- connected_to ---- kitchen_countertop\\nkitchen_countertop ---- connected_to ---- window\\nwindow ---- connected_to ---- blinds\\nblinds ---- connected_to ---- window\\nwindow ---- connected_to ---- view\\nview ---- connected_to ---- mountains\\n\\n**Frame 3:**\\nman ---- washing ---- sink\\nsink ---- connected_to ---- faucet\\nfaucet ---- turned_on\\nsink ---- connected_to ---- countertop\\ncountertop ---- connected_to ---- granite\\ngranite ---- connected_to ---- kitchen_countertop\\nkitchen_countertop ---- connected_to ---- window\\nwindow ---- connected_to ---- blinds\\nblinds ---- connected_to ---- window\\nwindow ---- connected_to ---- view\\nview ---- connected_to ---- mountains\\n\\n**Frame 4:**\\nman ---- reaching_for ---- blinds\\nblinds ---- connected_to ---- window\\nwindow ---- connected_to ---- view\\nview ---- connected_to ---- mountains\\n\\n**Frame 5:**\\nman ---- reaching_for ---- blinds\\nblinds ---- connected_to ---- window\\nwindow ---- connected_to ---- view\\nview ---- connected_to ---- mountains\\n\\n**Frame 6:**\\nman ---- washing ---- sink\\nsink ---- connected_to ---- faucet\\nfaucet ---- turned_on\\nsink ---- connected_to ---- countertop\\ncountertop ---- connected_to ---- granite\\ngranite ---- connected_to ---- kitchen_countertop\\nkitchen_countertop ---- connected_to ---- window\\nwindow ---- connected_to ---- blinds\\nblinds ---- connected_to ---- window\\nwindow ---- connected_to ---- view\\nview ---- connected_to ---- mountains\\n\\n**Frame 7:**\\nman ---- washing ---- sink\\nsink ---- connected_to ---- faucet\\nfaucet ---- turned_on\\nsink ---- connected_to ---- countertop\\ncountertop ---- connected_to ---- granite\\ngranite ---- connected_to ---- kitchen_countertop\\nkitchen_countertop ---- connected_to ---- window\\nwindow ---- connected_to ---- blinds\\nblinds ---- connected_to ---- window\\nwindow ---- connected_to ---- view\\nview ---- connected_to ---- mountains\\n\\n**Frame 8:**\\nman ---- washing ---- sink\\nsink ---- connected_to ---- faucet\\nfaucet ---- turned_on\\nsink ---- connected_to ---- countertop\\ncountertop ---- connected_to ---- granite\\ngranite ---- connected_to ---- kitchen_countertop\\nkitchen_countertop ---- connected_to ---- window\\nwindow ---- connected_to ---- blinds\\nblinds ---- connected_to ---- window\\nwindow ---- connected_to ---- view\\nview ---- connected_to ---- mountains\\n\\n**Frame 9:**\\nman ---- washing ---- sink\\nsink ---- connected_to ---- faucet\\nfaucet ---- turned_on\\nsink ---- connected_to ---- countertop\\ncountertop ---- connected_to ---- granite\\ngranite ---- connected_to ---- kitchen_countertop\\nkitchen_countertop ---- connected_to ---- window\\nwindow ---- connected_to ---- blinds\\nblinds ---- connected_to ---- window\\nwindow ---- connected_to ---- view\\nview ---- connected_to ---- mountains\\n\\n**Frame 10:**\\nman ---- washing ---- sink\\nsink ---- connected_to ---- faucet\\nfaucet ---- turned_on\\nsink ---- connected_to ---- countertop\\ncountertop ---- connected_to ---- granite\\ngranite ---- connected_to ---- kitchen_countertop\\nkitchen_countertop ---- connected_to ---- window\\nwindow ---- connected_to ---- blinds\\nblinds ---- connected_to ---- window\\nwindow ---- connected_to ---- view\\nview ---- connected_to ---- mountains\\n\\n**Frame 11:**\\nman ---- washing ---- sink\\nsink ---- connected_to ---- faucet\\nfaucet ---- turned_on\\nsink ---- connected_to ---- countertop\\ncountertop ---- connected_to ---- granite\\ngranite ---- connected_to ---- kitchen_countertop\\nkitchen_countertop ---- connected_to ---- window\\nwindow ---- connected_to ---- blinds\\nblinds ---- connected_to ---- window\\nwindow ---- connected_to ---- view\\nview ---- connected_to ---- mountains\\n\\n**Frame 12:**\\nman ---- washing ---- sink\\nsink ---- connected_to ---- faucet\\nfaucet ---- turned_on\\nsink ---- connected_to ---- countertop\\ncountertop ---- connected_to ---- granite\\ngranite ---- connected_to ---- kitchen_countertop\\nkitchen_countertop ---- connected_to ---- window\\nwindow ---- connected_to ---- blinds\\nblinds ---- connected_to ---- window\\nwindow ---- connected_to ---- view\\nview ---- connected_to ---- mountains\\n\\n**Frame 13:**\\nman ---- washing ---- sink\\nsink ---- connected_to ---- faucet\\nfaucet ---- turned_on\\nsink ---- connected_to ---- countertop\\ncountertop ---- connected_to ---- granite\\ngranite ---- connected_to ---- kitchen_countertop\\nkitchen_countertop ---- connected_to ---- window\\nwindow ---- connected_to ---- blinds\\nblinds ---- connected_to ---- window\\nwindow ---- connected_to ---- view\\nview ---- connected_to ---- mountains\\n\\n**Frame 14:**\\nman ---- washing ---- sink\\nsink ---- connected_to ---- faucet\\nfaucet ---- turned_on\\nsink ---- connected_to ---- countertop\\ncountertop ---- connected_to ---- granite\\ngranite ---- connected_to ---- kitchen_countertop\\nkitchen_countertop ---- connected_to ---- window\\nwindow ---- connected_to ---- blinds\\nblinds ---- connected_to ---- window\\nwindow ---- connected_to ---- view\\nview ---- connected_to ---- mountains\\n\\n**Frame 15:**\\nman ---- washing ---- sink\\nsink ---- connected_to ---- faucet\\nfaucet ---- turned_on\\nsink ---- connected_to ---- countertop\\ncountertop ---- connected_to ---- granite\\ngranite ---- connected_to ---- kitchen_countertop\\nkitchen_countertop ---- connected_to ---- window\\nwindow ---- connected_to ---- blinds\\nblinds ---- connected_to ---- window\\nwindow ---- connected_to ---- view\\nview ---- connected_to ---- mountains\\n\\n**Frame 16:**\\nman ---- washing ---- sink\\nsink ---- connected_to ---- faucet\\nfaucet ---- turned_on\\nsink ---- connected_to ---- countertop\\ncountertop ---- connected_to ---- granite\\ngranite ---- connected_to ---- kitchen_countertop\\nkitchen_countertop ---- connected_to ---- window\\nwindow ---- connected_to ---- blinds\\nblinds ---- connected_to ---- window\\nwindow ---- connected_to ---- view\\nview ---- connected_to ---- mountains\\n\\n**Frame 17:**\\nman ---- washing ---- sink\\nsink ---- connected_to ---- faucet\\nfaucet ---- turned_on\\nsink ---- connected_to ---- countertop\\ncountertop ---- connected_to ---- granite\\ngranite ---- connected_to ---- kitchen_countertop\\nkitchen_countertop ---- connected_to ---- window\\nwindow ---- connected_to ---- blinds\\nblinds ---- connected_to ---- window\\nwindow ---- connected_to ---- view\\nview ---- connected_to ---- mountains\\n\\n**Frame 18:**\\nman ---- washing ---- sink\\nsink ---- connected_to ---- faucet\\nfaucet ---- turned_on\\nsink ---- connected_to ---- countertop\\ncountertop ---- connected_to ---- granite\\ngranite ---- connected_to ---- kitchen_countertop\\nkitchen_countertop ---- connected_to ---- window\\nwindow ---- connected_to ---- blinds\\nblinds ---- connected_to ---- window\\nwindow ---- connected_to ---- view\\nview ---- connected_to ---- mountains\\n\\n**Frame 19:**\\nman ---- washing ---- sink\\nsink ---- connected_to ---- faucet\\nfaucet ---- turned_on\\nsink ---- connected_to ---- countertop\\ncountertop ---- connected_to ---- granite\\ngranite ---- connected_to ---- kitchen_countertop\\nkitchen_countertop ---- connected_to ---- window\\nwindow ---- connected_to ---- blinds\\nblinds ---- connected_to ---- window\\nwindow ---- connected_to ---- view\\nview ---- connected_to ---- mountains\\n\\n**Frame 20:**\\nman ---- washing ---- sink\\nsink ---- connected_to ---- faucet\\nfaucet ---- turned_on\\nsink ---- connected_to ---- countertop\\ncountertop ---- connected_to ---- granite\\ngranite ---- connected_to ---- kitchen_countertop\\nkitchen_countertop ---- connected_to ---- window\\nwindow ---- connected_to ---- blinds\\nblinds ---- connected_to ---- window\\nwindow ---- connected_to ---- view\\nview ---- connected_to ---- mountains\\n\\n**Frame 21:**\\nman ---- washing ---- sink\\nsink ---- connected_to ---- faucet\\nfaucet ---- turned_on\\nsink ----'}]\n",
      "[{'role': 'user', 'content': 'You are an intelligent video comprehension model and are going to receive as input a sequence of images extracted from a video and a question. You need to analyze and describe the scene unfolding in the video (sequence of frames) following these guidelines:\\n1. Look for recurring objects;\\n2. Note that the same object may appear differently across frames due to low image quality, varying viewing angles, or partial obstructions. Carefully check objects with similar features (e.g. shape, color), appearing in different frames, as they may still be the same object;\\n3. Pay attention to how the person interacts with its environment\\n4. Understand the directional movement of the people and objects in the video\\n5. Carefully analyze the chronological sequence of the events occurring in the video;\\n6. Pay attention to the atomic and fine grained movement, pose and actions of the people in the video. Compose these atomic actions happening across the frame to infer the higher level action performed by the person;\\n7. Deduce the intentions and motives behind the actions;\\n8. Identify unusual actions accurately.\\n\\n\\nFurther instructions:\\n- In describing the scene make sure to cite which frame are you referring to\\n\\n\\n\\nImage 0:\\n[img]\\n\\nImage 1:\\n[img]\\n\\nImage 2:\\n[img]\\n\\nImage 3:\\n[img]\\n\\nImage 4:\\n[img]\\n\\nImage 5:\\n[img]\\n\\nImage 6:\\n[img]\\n\\nImage 7:\\n[img]\\n\\nImage 8:\\n[img]\\n\\nImage 9:\\n[img]'}, {'content': \"Here's a description of the scene based on the provided images:\\n\\nThe scene unfolds in a cluttered room, likely a bedroom or utility area. A large, white refrigerator dominates the background, along with several cardboard boxes stacked nearby. A door is visible on the right side of the frame.\\n\\nThroughout the sequence (frames 0-9), a woman is the primary subject. She is wearing a purple shirt and gray pants and has her hair in a bun. She is consistently seated on the floor in a crossed-legged position.\\n\\nThe woman’s primary action is repeatedly tying and untying her shoes.  Starting in frame 0, she is shown sitting with her shoes in front of her, and in frames 1-3, she is actively tying and untying them. This action continues throughout the sequence.  A cat is consistently present, initially near her feet in frame 0, and then moving around her in subsequent frames.\\n\\nThe room is filled with miscellaneous items: boxes, a phone, a vacuum cleaner, and a T-Mobile box.  The overall impression is one of a space in the midst of unpacking or organizing.\\n\\nIn summary, the video depicts a woman focused on a repetitive task – tying and untying her shoes – while a cat is present in the room.\", 'role': 'assistant'}, {'role': 'user', 'content': 'Now organize the objects and relationships you identified before into a formal scene graph using this format:\\nobject1 ---- relationship ---- object2\\n\\nThe list of relationship predicates should be introduced for each frame should be introduce by the frame ID or \\nname and finally by the tag <scene_graph> and terminated by the tag </scene_graph>.\\n\\nFor example:\\nFrame 0:\\n<scene_graph>\\nman ---- sitting_on ---- chair\\ndog ---- lying_under ---- table\\nbook ---- on_top_of ---- shelf\\n...\\n</scene_graph>\\n\\nFrame 2:\\n<scene_graph>\\nwoman ---- on_the_left_of ---- man\\n...\\n<scene_graph>\\n...\\n\\n\\nPlease follow these guidelines:\\n1. Create an adequate number of relationship triplets (more if the image is complex)\\n2. Use specific and consistent object labels\\n3. Use concise but descriptive relationship terms (connect words with underscores)\\n4. Include all meaningful relationships between objects\\n5. Verify that all objects you identified in step 1 appear in at least one relationship\\n6. You can condense multiple visual frames and their descriptions into a single or few frames \\n   if they contains the same or similar repetitive relationships. In doing so be careful to preserve\\n   the temporal end spatial relationship and the events unfolding in the video.\\nYour scene graph:'}, {'role': 'assistant', 'content': 'Here’s a scene graph representing the objects and relationships observed in the video sequence, organized by frame and using the specified format:\\n\\n**Frame 0:**\\n<scene_graph>\\nwoman ---- sitting_on ---- floor\\ncat ---- near ---- woman\\nrefrigerator ---- adjacent_to ---- door\\nboxes ---- stacked_on ---- floor\\nphone ---- on ---- floor\\n<scene_graph>\\n\\n**Frame 1:**\\n<scene_graph>\\nwoman ---- tying ---- shoe\\ncat ---- near ---- woman\\nrefrigerator ---- adjacent_to ---- door\\nboxes ---- stacked_on ---- floor\\nphone ---- on ---- floor\\n<scene_graph>\\n\\n**Frame 2:**\\n<scene_graph>\\nwoman ---- tying ---- shoe\\ncat ---- near ---- woman\\nrefrigerator ---- adjacent_to ---- door\\nboxes ---- stacked_on ---- floor\\nphone ---- on ---- floor\\n<scene_graph>\\n\\n**Frame 3:**\\n<scene_graph>\\nwoman ---- tying ---- shoe\\ncat ---- near ---- woman\\nrefrigerator ---- adjacent_to ---- door\\nboxes ---- stacked_on ---- floor\\nphone ---- on ---- floor\\n<scene_graph>\\n\\n**Frame 4:**\\n<scene_graph>\\nwoman ---- untying ---- shoe\\ncat ---- near ---- woman\\nrefrigerator ---- adjacent_to ---- door\\nboxes ---- stacked_on ---- floor\\nphone ---- on ---- floor\\n<scene_graph>\\n\\n**Frame 5:**\\n<scene_graph>\\nwoman ---- untying ---- shoe\\ncat ---- near ---- woman\\nrefrigerator ---- adjacent_to ---- door\\nboxes ---- stacked_on ---- floor\\nphone ---- on ---- floor\\n<scene_graph>\\n\\n**Frame 6:**\\n<scene_graph>\\nwoman ---- untying ---- shoe\\ncat ---- near ---- woman\\nrefrigerator ---- adjacent_to ---- door\\nboxes ---- stacked_on ---- floor\\nphone ---- on ---- floor\\n<scene_graph>\\n\\n**Frame 7:**\\n<scene_graph>\\nwoman ---- tying ---- shoe\\ncat ---- near ---- woman\\nrefrigerator ---- adjacent_to ---- door\\nboxes ---- stacked_on ---- floor\\nphone ---- on ---- floor\\n<scene_graph>\\n\\n**Frame 8:**\\n<scene_graph>\\nwoman ---- tying ---- shoe\\ncat ---- near ---- woman\\nrefrigerator ---- adjacent_to ---- door\\nboxes ---- stacked_on ---- floor\\nphone ---- on ---- floor\\n<scene_graph>\\n\\n**Frame 9:**\\n<scene_graph>\\nwoman ---- tying ---- shoe\\ncat ---- near ---- woman\\nrefrigerator ---- adjacent_to ---- door\\nboxes ---- stacked_on ---- floor\\nphone ---- on ---- floor\\n<scene_graph>\\n\\n**Frame 10:**\\n<scene_graph>\\nwoman ---- tying ---- shoe\\ncat ---- near ---- woman\\nrefrigerator ---- adjacent_to ---- door\\nboxes ---- stacked_on ---- floor\\nphone ---- on ---- floor\\n<scene_graph>\\n\\n**Frame 11:**\\n<scene_graph>\\nwoman ---- tying ---- shoe\\ncat ---- near ---- woman\\nrefrigerator ---- adjacent_to ---- door\\nboxes ---- stacked_on ---- floor\\nphone ---- on ---- floor\\n<scene_graph>\\n\\n**Frame 12:**\\n<scene_graph>\\nwoman ---- tying ---- shoe\\ncat ---- near ---- woman\\nrefrigerator ---- adjacent_to ---- door\\nboxes ---- stacked_on ---- floor\\nphone ---- on ---- floor\\n<scene_graph>\\n\\nI’ve focused on the core relationship – the woman’s repetitive action of tying and untying her shoes – and included the consistent presence of the cat.  The scene graph is designed to capture the temporal flow of the video.'}]\n"
     ]
    },
    {
     "data": {
      "text/plain": [
       "[None, None, None, None, None]"
      ]
     },
     "execution_count": 13,
     "metadata": {},
     "output_type": "execute_result"
    }
   ],
   "source": [
    "list(print(sgg_df[~contains_stsg_mask].iloc[i]['chat_history']) for i in range(5))\n"
   ]
  },
  {
   "cell_type": "code",
   "execution_count": 14,
   "metadata": {},
   "outputs": [],
   "source": [
    "gemma3_tokenizer = AutoTokenizer.from_pretrained(\n",
    "    \"google/gemma-3-4b-it\",\n",
    "    auth_token=hugg_auth_token\n",
    ")\n"
   ]
  },
  {
   "cell_type": "code",
   "execution_count": 15,
   "metadata": {},
   "outputs": [
    {
     "data": {
      "text/plain": [
       "2048"
      ]
     },
     "execution_count": 15,
     "metadata": {},
     "output_type": "execute_result"
    }
   ],
   "source": [
    "len(gemma3_tokenizer.tokenize(sgg_df[~contains_stsg_mask].iloc[3]['chat_history'][-1]['content']))\n"
   ]
  },
  {
   "cell_type": "markdown",
   "metadata": {},
   "source": [
    "This answer has been cutoff because it was too long. Let's see if the model had hallucinated and stuck in a infinite loop:"
   ]
  },
  {
   "cell_type": "code",
   "execution_count": 16,
   "metadata": {},
   "outputs": [
    {
     "name": "stdout",
     "output_type": "stream",
     "text": [
      "Here’s a scene graph representing the events in the video, organized by frame and using the specified format:\n",
      "\n",
      "<scene_graph>\n",
      "\n",
      "**Frame 0:**\n",
      "man ---- washing ---- sink\n",
      "sink ---- connected_to ---- faucet\n",
      "faucet ---- turned_on\n",
      "sink ---- connected_to ---- countertop\n",
      "countertop ---- connected_to ---- granite\n",
      "granite ---- connected_to ---- kitchen_countertop\n",
      "kitchen_countertop ---- connected_to ---- window\n",
      "window ---- connected_to ---- blinds\n",
      "blinds ---- connected_to ---- window\n",
      "window ---- connected_to ---- view\n",
      "view ---- connected_to ---- mountains\n",
      "\n",
      "**Frame 1:**\n",
      "man ---- washing ---- sink\n",
      "sink ---- connected_to ---- faucet\n",
      "faucet ---- turned_on\n",
      "sink ---- connected_to ---- countertop\n",
      "countertop ---- connected_to ---- granite\n",
      "granite ---- connected_to ---- kitchen_countertop\n",
      "kitchen_countertop ---- connected_to ---- window\n",
      "window ---- connected_to ---- blinds\n",
      "blinds ---- connected_to ---- window\n",
      "window ---- connected_to ---- view\n",
      "view ---- connected_to ---- mountains\n",
      "\n",
      "**Frame 2:**\n",
      "man ---- washing ---- sink\n",
      "sink ---- connected_to ---- faucet\n",
      "faucet ---- turned_on\n",
      "sink ---- connected_to ---- countertop\n",
      "countertop ---- connected_to ---- granite\n",
      "granite ---- connected_to ---- kitchen_countertop\n",
      "kitchen_countertop ---- connected_to ---- window\n",
      "window ---- connected_to ---- blinds\n",
      "blinds ---- connected_to ---- window\n",
      "window ---- connected_to ---- view\n",
      "view ---- connected_to ---- mountains\n",
      "\n",
      "**Frame 3:**\n",
      "man ---- washing ---- sink\n",
      "sink ---- connected_to ---- faucet\n",
      "faucet ---- turned_on\n",
      "sink ---- connected_to ---- countertop\n",
      "countertop ---- connected_to ---- granite\n",
      "granite ---- connected_to ---- kitchen_countertop\n",
      "kitchen_countertop ---- connected_to ---- window\n",
      "window ---- connected_to ---- blinds\n",
      "blinds ---- connected_to ---- window\n",
      "window ---- connected_to ---- view\n",
      "view ---- connected_to ---- mountains\n",
      "\n",
      "**Frame 4:**\n",
      "man ---- reaching_for ---- blinds\n",
      "blinds ---- connected_to ---- window\n",
      "window ---- connected_to ---- view\n",
      "view ---- connected_to ---- mountains\n",
      "\n",
      "**Frame 5:**\n",
      "man ---- reaching_for ---- blinds\n",
      "blinds ---- connected_to ---- window\n",
      "window ---- connected_to ---- view\n",
      "view ---- connected_to ---- mountains\n",
      "\n",
      "**Frame 6:**\n",
      "man ---- washing ---- sink\n",
      "sink ---- connected_to ---- faucet\n",
      "faucet ---- turned_on\n",
      "sink ---- connected_to ---- countertop\n",
      "countertop ---- connected_to ---- granite\n",
      "granite ---- connected_to ---- kitchen_countertop\n",
      "kitchen_countertop ---- connected_to ---- window\n",
      "window ---- connected_to ---- blinds\n",
      "blinds ---- connected_to ---- window\n",
      "window ---- connected_to ---- view\n",
      "view ---- connected_to ---- mountains\n",
      "\n",
      "**Frame 7:**\n",
      "man ---- washing ---- sink\n",
      "sink ---- connected_to ---- faucet\n",
      "faucet ---- turned_on\n",
      "sink ---- connected_to ---- countertop\n",
      "countertop ---- connected_to ---- granite\n",
      "granite ---- connected_to ---- kitchen_countertop\n",
      "kitchen_countertop ---- connected_to ---- window\n",
      "window ---- connected_to ---- blinds\n",
      "blinds ---- connected_to ---- window\n",
      "window ---- connected_to ---- view\n",
      "view ---- connected_to ---- mountains\n",
      "\n",
      "**Frame 8:**\n",
      "man ---- washing ---- sink\n",
      "sink ---- connected_to ---- faucet\n",
      "faucet ---- turned_on\n",
      "sink ---- connected_to ---- countertop\n",
      "countertop ---- connected_to ---- granite\n",
      "granite ---- connected_to ---- kitchen_countertop\n",
      "kitchen_countertop ---- connected_to ---- window\n",
      "window ---- connected_to ---- blinds\n",
      "blinds ---- connected_to ---- window\n",
      "window ---- connected_to ---- view\n",
      "view ---- connected_to ---- mountains\n",
      "\n",
      "**Frame 9:**\n",
      "man ---- washing ---- sink\n",
      "sink ---- connected_to ---- faucet\n",
      "faucet ---- turned_on\n",
      "sink ---- connected_to ---- countertop\n",
      "countertop ---- connected_to ---- granite\n",
      "granite ---- connected_to ---- kitchen_countertop\n",
      "kitchen_countertop ---- connected_to ---- window\n",
      "window ---- connected_to ---- blinds\n",
      "blinds ---- connected_to ---- window\n",
      "window ---- connected_to ---- view\n",
      "view ---- connected_to ---- mountains\n",
      "\n",
      "**Frame 10:**\n",
      "man ---- washing ---- sink\n",
      "sink ---- connected_to ---- faucet\n",
      "faucet ---- turned_on\n",
      "sink ---- connected_to ---- countertop\n",
      "countertop ---- connected_to ---- granite\n",
      "granite ---- connected_to ---- kitchen_countertop\n",
      "kitchen_countertop ---- connected_to ---- window\n",
      "window ---- connected_to ---- blinds\n",
      "blinds ---- connected_to ---- window\n",
      "window ---- connected_to ---- view\n",
      "view ---- connected_to ---- mountains\n",
      "\n",
      "**Frame 11:**\n",
      "man ---- washing ---- sink\n",
      "sink ---- connected_to ---- faucet\n",
      "faucet ---- turned_on\n",
      "sink ---- connected_to ---- countertop\n",
      "countertop ---- connected_to ---- granite\n",
      "granite ---- connected_to ---- kitchen_countertop\n",
      "kitchen_countertop ---- connected_to ---- window\n",
      "window ---- connected_to ---- blinds\n",
      "blinds ---- connected_to ---- window\n",
      "window ---- connected_to ---- view\n",
      "view ---- connected_to ---- mountains\n",
      "\n",
      "**Frame 12:**\n",
      "man ---- washing ---- sink\n",
      "sink ---- connected_to ---- faucet\n",
      "faucet ---- turned_on\n",
      "sink ---- connected_to ---- countertop\n",
      "countertop ---- connected_to ---- granite\n",
      "granite ---- connected_to ---- kitchen_countertop\n",
      "kitchen_countertop ---- connected_to ---- window\n",
      "window ---- connected_to ---- blinds\n",
      "blinds ---- connected_to ---- window\n",
      "window ---- connected_to ---- view\n",
      "view ---- connected_to ---- mountains\n",
      "\n",
      "**Frame 13:**\n",
      "man ---- washing ---- sink\n",
      "sink ---- connected_to ---- faucet\n",
      "faucet ---- turned_on\n",
      "sink ---- connected_to ---- countertop\n",
      "countertop ---- connected_to ---- granite\n",
      "granite ---- connected_to ---- kitchen_countertop\n",
      "kitchen_countertop ---- connected_to ---- window\n",
      "window ---- connected_to ---- blinds\n",
      "blinds ---- connected_to ---- window\n",
      "window ---- connected_to ---- view\n",
      "view ---- connected_to ---- mountains\n",
      "\n",
      "**Frame 14:**\n",
      "man ---- washing ---- sink\n",
      "sink ---- connected_to ---- faucet\n",
      "faucet ---- turned_on\n",
      "sink ---- connected_to ---- countertop\n",
      "countertop ---- connected_to ---- granite\n",
      "granite ---- connected_to ---- kitchen_countertop\n",
      "kitchen_countertop ---- connected_to ---- window\n",
      "window ---- connected_to ---- blinds\n",
      "blinds ---- connected_to ---- window\n",
      "window ---- connected_to ---- view\n",
      "view ---- connected_to ---- mountains\n",
      "\n",
      "**Frame 15:**\n",
      "man ---- washing ---- sink\n",
      "sink ---- connected_to ---- faucet\n",
      "faucet ---- turned_on\n",
      "sink ---- connected_to ---- countertop\n",
      "countertop ---- connected_to ---- granite\n",
      "granite ---- connected_to ---- kitchen_countertop\n",
      "kitchen_countertop ---- connected_to ---- window\n",
      "window ---- connected_to ---- blinds\n",
      "blinds ---- connected_to ---- window\n",
      "window ---- connected_to ---- view\n",
      "view ---- connected_to ---- mountains\n",
      "\n",
      "**Frame 16:**\n",
      "man ---- washing ---- sink\n",
      "sink ---- connected_to ---- faucet\n",
      "faucet ---- turned_on\n",
      "sink ---- connected_to ---- countertop\n",
      "countertop ---- connected_to ---- granite\n",
      "granite ---- connected_to ---- kitchen_countertop\n",
      "kitchen_countertop ---- connected_to ---- window\n",
      "window ---- connected_to ---- blinds\n",
      "blinds ---- connected_to ---- window\n",
      "window ---- connected_to ---- view\n",
      "view ---- connected_to ---- mountains\n",
      "\n",
      "**Frame 17:**\n",
      "man ---- washing ---- sink\n",
      "sink ---- connected_to ---- faucet\n",
      "faucet ---- turned_on\n",
      "sink ---- connected_to ---- countertop\n",
      "countertop ---- connected_to ---- granite\n",
      "granite ---- connected_to ---- kitchen_countertop\n",
      "kitchen_countertop ---- connected_to ---- window\n",
      "window ---- connected_to ---- blinds\n",
      "blinds ---- connected_to ---- window\n",
      "window ---- connected_to ---- view\n",
      "view ---- connected_to ---- mountains\n",
      "\n",
      "**Frame 18:**\n",
      "man ---- washing ---- sink\n",
      "sink ---- connected_to ---- faucet\n",
      "faucet ---- turned_on\n",
      "sink ---- connected_to ---- countertop\n",
      "countertop ---- connected_to ---- granite\n",
      "granite ---- connected_to ---- kitchen_countertop\n",
      "kitchen_countertop ---- connected_to ---- window\n",
      "window ---- connected_to ---- blinds\n",
      "blinds ---- connected_to ---- window\n",
      "window ---- connected_to ---- view\n",
      "view ---- connected_to ---- mountains\n",
      "\n",
      "**Frame 19:**\n",
      "man ---- washing ---- sink\n",
      "sink ---- connected_to ---- faucet\n",
      "faucet ---- turned_on\n",
      "sink ---- connected_to ---- countertop\n",
      "countertop ---- connected_to ---- granite\n",
      "granite ---- connected_to ---- kitchen_countertop\n",
      "kitchen_countertop ---- connected_to ---- window\n",
      "window ---- connected_to ---- blinds\n",
      "blinds ---- connected_to ---- window\n",
      "window ---- connected_to ---- view\n",
      "view ---- connected_to ---- mountains\n",
      "\n",
      "**Frame 20:**\n",
      "man ---- washing ---- sink\n",
      "sink ---- connected_to ---- faucet\n",
      "faucet ---- turned_on\n",
      "sink ---- connected_to ---- countertop\n",
      "countertop ---- connected_to ---- granite\n",
      "granite ---- connected_to ---- kitchen_countertop\n",
      "kitchen_countertop ---- connected_to ---- window\n",
      "window ---- connected_to ---- blinds\n",
      "blinds ---- connected_to ---- window\n",
      "window ---- connected_to ---- view\n",
      "view ---- connected_to ---- mountains\n",
      "\n",
      "**Frame 21:**\n",
      "man ---- washing ---- sink\n",
      "sink ---- connected_to ---- faucet\n",
      "faucet ---- turned_on\n",
      "sink ----\n"
     ]
    }
   ],
   "source": [
    "print(sgg_df[~contains_stsg_mask].iloc[3]['chat_history'][-1]['content'])\n"
   ]
  },
  {
   "cell_type": "markdown",
   "metadata": {},
   "source": [
    "Actually the answer seems legit (I may need to increase the cutoff window).  \n",
    "Let's see if the same applies to the remaining answers:"
   ]
  },
  {
   "cell_type": "code",
   "execution_count": 17,
   "metadata": {},
   "outputs": [
    {
     "data": {
      "text/html": [
       "<div>\n",
       "<style scoped>\n",
       "    .dataframe tbody tr th:only-of-type {\n",
       "        vertical-align: middle;\n",
       "    }\n",
       "\n",
       "    .dataframe tbody tr th {\n",
       "        vertical-align: top;\n",
       "    }\n",
       "\n",
       "    .dataframe thead th {\n",
       "        text-align: right;\n",
       "    }\n",
       "</style>\n",
       "<table border=\"1\" class=\"dataframe\">\n",
       "  <thead>\n",
       "    <tr style=\"text-align: right;\">\n",
       "      <th></th>\n",
       "      <th>video_id</th>\n",
       "      <th>start</th>\n",
       "      <th>end</th>\n",
       "      <th>chat_history</th>\n",
       "      <th>stsg</th>\n",
       "      <th>stsg_re</th>\n",
       "      <th>answer_len</th>\n",
       "    </tr>\n",
       "  </thead>\n",
       "  <tbody>\n",
       "    <tr>\n",
       "      <th>105</th>\n",
       "      <td>Z97SD</td>\n",
       "      <td>25.1</td>\n",
       "      <td>30.7</td>\n",
       "      <td>[{'role': 'user', 'content': 'You are an intel...</td>\n",
       "      <td></td>\n",
       "      <td>[]</td>\n",
       "      <td>0</td>\n",
       "    </tr>\n",
       "    <tr>\n",
       "      <th>388</th>\n",
       "      <td>MD6P2</td>\n",
       "      <td>5.0</td>\n",
       "      <td>22.3</td>\n",
       "      <td>[{'role': 'user', 'content': 'You are an intel...</td>\n",
       "      <td>Okay, here’s a scene graph representing the vi...</td>\n",
       "      <td>[]</td>\n",
       "      <td>2048</td>\n",
       "    </tr>\n",
       "    <tr>\n",
       "      <th>572</th>\n",
       "      <td>EO6OI</td>\n",
       "      <td>33.6</td>\n",
       "      <td>38.9</td>\n",
       "      <td>[{'role': 'user', 'content': 'You are an intel...</td>\n",
       "      <td></td>\n",
       "      <td>[]</td>\n",
       "      <td>0</td>\n",
       "    </tr>\n",
       "    <tr>\n",
       "      <th>653</th>\n",
       "      <td>3B81O</td>\n",
       "      <td>0.0</td>\n",
       "      <td>21.6</td>\n",
       "      <td>[{'role': 'user', 'content': 'You are an intel...</td>\n",
       "      <td>Here’s a scene graph representing the events i...</td>\n",
       "      <td>[]</td>\n",
       "      <td>2048</td>\n",
       "    </tr>\n",
       "    <tr>\n",
       "      <th>724</th>\n",
       "      <td>6ZWSU</td>\n",
       "      <td>11.6</td>\n",
       "      <td>21.8</td>\n",
       "      <td>[{'role': 'user', 'content': 'You are an intel...</td>\n",
       "      <td>Here’s a scene graph representing the objects ...</td>\n",
       "      <td>[]</td>\n",
       "      <td>771</td>\n",
       "    </tr>\n",
       "    <tr>\n",
       "      <th>826</th>\n",
       "      <td>DR7K0</td>\n",
       "      <td>13.9</td>\n",
       "      <td>22.7</td>\n",
       "      <td>[{'role': 'user', 'content': 'You are an intel...</td>\n",
       "      <td></td>\n",
       "      <td>[]</td>\n",
       "      <td>0</td>\n",
       "    </tr>\n",
       "    <tr>\n",
       "      <th>897</th>\n",
       "      <td>9632M</td>\n",
       "      <td>4.9</td>\n",
       "      <td>32.0</td>\n",
       "      <td>[{'role': 'user', 'content': 'You are an intel...</td>\n",
       "      <td>Here’s a scene graph organized from the analys...</td>\n",
       "      <td>[]</td>\n",
       "      <td>2048</td>\n",
       "    </tr>\n",
       "  </tbody>\n",
       "</table>\n",
       "</div>"
      ],
      "text/plain": [
       "    video_id  start   end                                       chat_history  \\\n",
       "105    Z97SD   25.1  30.7  [{'role': 'user', 'content': 'You are an intel...   \n",
       "388    MD6P2    5.0  22.3  [{'role': 'user', 'content': 'You are an intel...   \n",
       "572    EO6OI   33.6  38.9  [{'role': 'user', 'content': 'You are an intel...   \n",
       "653    3B81O    0.0  21.6  [{'role': 'user', 'content': 'You are an intel...   \n",
       "724    6ZWSU   11.6  21.8  [{'role': 'user', 'content': 'You are an intel...   \n",
       "826    DR7K0   13.9  22.7  [{'role': 'user', 'content': 'You are an intel...   \n",
       "897    9632M    4.9  32.0  [{'role': 'user', 'content': 'You are an intel...   \n",
       "\n",
       "                                                  stsg stsg_re  answer_len  \n",
       "105                                                         []           0  \n",
       "388  Okay, here’s a scene graph representing the vi...      []        2048  \n",
       "572                                                         []           0  \n",
       "653  Here’s a scene graph representing the events i...      []        2048  \n",
       "724  Here’s a scene graph representing the objects ...      []         771  \n",
       "826                                                         []           0  \n",
       "897  Here’s a scene graph organized from the analys...      []        2048  "
      ]
     },
     "execution_count": 17,
     "metadata": {},
     "output_type": "execute_result"
    }
   ],
   "source": [
    "sgg_df['answer_len'] = sgg_df[\"chat_history\"].apply(lambda x: len(gemma3_tokenizer.tokenize(x[-1]['content'])))\n",
    "sgg_df[~contains_stsg_mask]\n"
   ]
  },
  {
   "cell_type": "code",
   "execution_count": 18,
   "metadata": {},
   "outputs": [
    {
     "name": "stdout",
     "output_type": "stream",
     "text": [
      "Here’s a scene graph representing the objects and relationships observed in the video sequence, organized by frame and using the specified format:\n",
      "\n",
      "**Frame 0:**\n",
      "<scene_graph>\n",
      "woman ---- sitting_on ---- floor\n",
      "cat ---- near ---- woman\n",
      "refrigerator ---- adjacent_to ---- door\n",
      "boxes ---- stacked_on ---- floor\n",
      "phone ---- on ---- floor\n",
      "<scene_graph>\n",
      "\n",
      "**Frame 1:**\n",
      "<scene_graph>\n",
      "woman ---- tying ---- shoe\n",
      "cat ---- near ---- woman\n",
      "refrigerator ---- adjacent_to ---- door\n",
      "boxes ---- stacked_on ---- floor\n",
      "phone ---- on ---- floor\n",
      "<scene_graph>\n",
      "\n",
      "**Frame 2:**\n",
      "<scene_graph>\n",
      "woman ---- tying ---- shoe\n",
      "cat ---- near ---- woman\n",
      "refrigerator ---- adjacent_to ---- door\n",
      "boxes ---- stacked_on ---- floor\n",
      "phone ---- on ---- floor\n",
      "<scene_graph>\n",
      "\n",
      "**Frame 3:**\n",
      "<scene_graph>\n",
      "woman ---- tying ---- shoe\n",
      "cat ---- near ---- woman\n",
      "refrigerator ---- adjacent_to ---- door\n",
      "boxes ---- stacked_on ---- floor\n",
      "phone ---- on ---- floor\n",
      "<scene_graph>\n",
      "\n",
      "**Frame 4:**\n",
      "<scene_graph>\n",
      "woman ---- untying ---- shoe\n",
      "cat ---- near ---- woman\n",
      "refrigerator ---- adjacent_to ---- door\n",
      "boxes ---- stacked_on ---- floor\n",
      "phone ---- on ---- floor\n",
      "<scene_graph>\n",
      "\n",
      "**Frame 5:**\n",
      "<scene_graph>\n",
      "woman ---- untying ---- shoe\n",
      "cat ---- near ---- woman\n",
      "refrigerator ---- adjacent_to ---- door\n",
      "boxes ---- stacked_on ---- floor\n",
      "phone ---- on ---- floor\n",
      "<scene_graph>\n",
      "\n",
      "**Frame 6:**\n",
      "<scene_graph>\n",
      "woman ---- untying ---- shoe\n",
      "cat ---- near ---- woman\n",
      "refrigerator ---- adjacent_to ---- door\n",
      "boxes ---- stacked_on ---- floor\n",
      "phone ---- on ---- floor\n",
      "<scene_graph>\n",
      "\n",
      "**Frame 7:**\n",
      "<scene_graph>\n",
      "woman ---- tying ---- shoe\n",
      "cat ---- near ---- woman\n",
      "refrigerator ---- adjacent_to ---- door\n",
      "boxes ---- stacked_on ---- floor\n",
      "phone ---- on ---- floor\n",
      "<scene_graph>\n",
      "\n",
      "**Frame 8:**\n",
      "<scene_graph>\n",
      "woman ---- tying ---- shoe\n",
      "cat ---- near ---- woman\n",
      "refrigerator ---- adjacent_to ---- door\n",
      "boxes ---- stacked_on ---- floor\n",
      "phone ---- on ---- floor\n",
      "<scene_graph>\n",
      "\n",
      "**Frame 9:**\n",
      "<scene_graph>\n",
      "woman ---- tying ---- shoe\n",
      "cat ---- near ---- woman\n",
      "refrigerator ---- adjacent_to ---- door\n",
      "boxes ---- stacked_on ---- floor\n",
      "phone ---- on ---- floor\n",
      "<scene_graph>\n",
      "\n",
      "**Frame 10:**\n",
      "<scene_graph>\n",
      "woman ---- tying ---- shoe\n",
      "cat ---- near ---- woman\n",
      "refrigerator ---- adjacent_to ---- door\n",
      "boxes ---- stacked_on ---- floor\n",
      "phone ---- on ---- floor\n",
      "<scene_graph>\n",
      "\n",
      "**Frame 11:**\n",
      "<scene_graph>\n",
      "woman ---- tying ---- shoe\n",
      "cat ---- near ---- woman\n",
      "refrigerator ---- adjacent_to ---- door\n",
      "boxes ---- stacked_on ---- floor\n",
      "phone ---- on ---- floor\n",
      "<scene_graph>\n",
      "\n",
      "**Frame 12:**\n",
      "<scene_graph>\n",
      "woman ---- tying ---- shoe\n",
      "cat ---- near ---- woman\n",
      "refrigerator ---- adjacent_to ---- door\n",
      "boxes ---- stacked_on ---- floor\n",
      "phone ---- on ---- floor\n",
      "<scene_graph>\n",
      "\n",
      "I’ve focused on the core relationship – the woman’s repetitive action of tying and untying her shoes – and included the consistent presence of the cat.  The scene graph is designed to capture the temporal flow of the video.\n"
     ]
    }
   ],
   "source": [
    "print(sgg_df.loc[724][\"chat_history\"][-1][\"content\"])\n"
   ]
  },
  {
   "cell_type": "markdown",
   "metadata": {},
   "source": [
    "For this answer the model made a \"small\" hallucination. It used the format:  \n",
    "\n",
    "Frame XXX:  \n",
    "\\<scene_graph\\>  \n",
    "...  \n",
    "\\<scene_graph\\>  \n",
    "\n",
    "Instead of:  \n",
    "\\<scene_graph\\>  \n",
    "Frame XXX:  \n",
    "...  \n",
    "\\</scene_graph\\>"
   ]
  },
  {
   "cell_type": "code",
   "execution_count": null,
   "metadata": {},
   "outputs": [
    {
     "data": {
      "text/plain": [
       "<Axes: xlabel='answer_len', ylabel='Count'>"
      ]
     },
     "execution_count": 20,
     "metadata": {},
     "output_type": "execute_result"
    },
    {
     "data": {
      "image/png": "[encoded data removed]",
      "text/plain": [
       "<Figure size 640x480 with 1 Axes>"
      ]
     },
     "metadata": {},
     "output_type": "display_data"
    }
   ],
   "source": [
    "sns.histplot(sgg_df['answer_len'])\n"
   ]
  },
  {
   "cell_type": "markdown",
   "metadata": {},
   "source": [
    "## Counting the frames for each video segment"
   ]
  },
  {
   "cell_type": "code",
   "execution_count": 57,
   "metadata": {},
   "outputs": [
    {
     "data": {
      "text/plain": [
       "0      Here’s a scene graph representing the objects ...\n",
       "1      Okay, here’s a scene graph representing the ob...\n",
       "2      Here’s a scene graph representing the video se...\n",
       "3      Here’s a scene graph representing the objects ...\n",
       "4      Okay, here’s a scene graph representing the ob...\n",
       "                             ...                        \n",
       "909    Here’s a scene graph representing the events a...\n",
       "910    Here’s a scene graph representing the observed...\n",
       "911    Here’s a scene graph representing the objects ...\n",
       "912    Here’s a scene graph representing the video, i...\n",
       "913    Here’s a scene graph representing the events a...\n",
       "Name: stsg, Length: 914, dtype: object"
      ]
     },
     "execution_count": 57,
     "metadata": {},
     "output_type": "execute_result"
    }
   ],
   "source": [
    "sgg_df['stsg']\n"
   ]
  },
  {
   "cell_type": "code",
   "execution_count": null,
   "metadata": {},
   "outputs": [
    {
     "data": {
      "text/plain": [
       "count    907.000000\n",
       "mean      11.079383\n",
       "std        6.841979\n",
       "min        1.000000\n",
       "25%        6.000000\n",
       "50%        9.000000\n",
       "75%       14.000000\n",
       "max       72.000000\n",
       "Name: n_frames, dtype: float64"
      ]
     },
     "execution_count": 59,
     "metadata": {},
     "output_type": "execute_result"
    }
   ],
   "source": [
    "sggx_df = sgg_df[contains_stsg_mask].copy()\n",
    "\n",
    "sggx_df['frames'] = sggx_df['stsg'].apply(lambda x: re.findall(\"([Ff]rame\\s+\\d+)\", x))\n",
    "sggx_df['n_frames'] = sggx_df['frames'].apply(len)\n",
    "sggx_df['expected_frames'] = sggx_df[['start', 'end']].apply(lambda row: int(row['end'] - row['start']), axis=1)\n",
    "\n",
    "(sggx_df['n_frames'] - sggx_df['expected_frames']).describe()\n"
   ]
  },
  {
   "cell_type": "code",
   "execution_count": 96,
   "metadata": {},
   "outputs": [
    {
     "data": {
      "image/png": "[encoded data removed]",
      "text/plain": [
       "<Figure size 1400x500 with 2 Axes>"
      ]
     },
     "metadata": {},
     "output_type": "display_data"
    }
   ],
   "source": [
    "sns.set(style='whitegrid')\n",
    "fig, axes = plt.subplots(1, 2, figsize=(14, 5))\n",
    "\n",
    "# Frame count distributions\n",
    "sns.kdeplot(sggx_df['n_frames'],           ax=axes[0], label='n_frames')\n",
    "sns.kdeplot(sggx_df['expected_frames'],    ax=axes[0], label='expected_frames')\n",
    "axes[0].set_title('Frame Count Distributions')\n",
    "axes[0].set_xlabel('Frame Count')\n",
    "axes[0].legend(title='Series')\n",
    "\n",
    "# Difference distribution with stats\n",
    "delta = sggx_df['n_frames'] - sggx_df['expected_frames']\n",
    "sns.kdeplot(delta, ax=axes[1], label='$\\\\Delta$ frames')\n",
    "axes[1].axvline(0, color='grey', linestyle='--')\n",
    "mean = delta.mean()\n",
    "std = delta.std()\n",
    "stats = f\"Mean: {mean:.2f}\\nStd: {std:.2f}\"\n",
    "axes[1].text(0.05, 0.95, stats, transform=axes[1].transAxes, va='top')\n",
    "axes[1].set_title('Difference in Frame Counts')\n",
    "axes[1].set_xlabel('$\\\\Delta$ Frame Count')\n",
    "axes[1].legend(title='Series')\n",
    "\n",
    "plt.tight_layout()\n",
    "plt.show()\n"
   ]
  },
  {
   "cell_type": "code",
   "execution_count": 97,
   "metadata": {},
   "outputs": [
    {
     "name": "stdout",
     "output_type": "stream",
     "text": [
      "t=1.949, p=0.052\n"
     ]
    }
   ],
   "source": [
    "from scipy import stats\n",
    "d = sggx_df['n_frames'] - sggx_df['expected_frames']\n",
    "stat, p = stats.ttest_1samp(d, 0)\n",
    "print(f\"t={stat:.3f}, p={p:.3f}\")\n"
   ]
  },
  {
   "cell_type": "markdown",
   "metadata": {},
   "source": [
    "We can see that the model behaves well in detecting the number of frames when given the text delimiter between images."
   ]
  }
 ],
 "metadata": {
  "kernelspec": {
   "display_name": "base",
   "language": "python",
   "name": "python3"
  },
  "language_info": {
   "codemirror_mode": {
    "name": "ipython",
    "version": 3
   },
   "file_extension": ".py",
   "mimetype": "text/x-python",
   "name": "python",
   "nbconvert_exporter": "python",
   "pygments_lexer": "ipython3",
   "version": "3.10.9"
  }
 },
 "nbformat": 4,
 "nbformat_minor": 2
}
