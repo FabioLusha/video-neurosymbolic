{
 "cells": [
  {
   "cell_type": "code",
   "execution_count": 1,
   "metadata": {},
   "outputs": [],
   "source": [
    "import random\n",
    "import json\n",
    "import re\n",
    "\n",
    "import numpy as np\n",
    "import pandas as pd\n",
    "\n",
    "import matplotlib.pyplot as plt\n",
    "import seaborn as sns\n",
    "\n",
    "from sklearn.metrics import confusion_matrix\n",
    "\n"
   ]
  },
  {
   "cell_type": "code",
   "execution_count": 2,
   "metadata": {},
   "outputs": [
    {
     "name": "stdout",
     "output_type": "stream",
     "text": [
      "/home/lusha\n"
     ]
    }
   ],
   "source": [
    "from pathlib import Path\n",
    "import os, sys\n",
    "WORK_DIR = Path.cwd().parent.parent\n",
    "\n",
    "sys.path.append(str(WORK_DIR))\n",
    "print(WORK_DIR)\n"
   ]
  },
  {
   "cell_type": "code",
   "execution_count": 4,
   "metadata": {},
   "outputs": [],
   "source": [
    "from star_code.src.datasets import CVRRDataset, JudgeDataset\n",
    "from star_code.src.prompt_formatters import OpenEndedPrompt, LlmAsJudgePrompt\n"
   ]
  },
  {
   "cell_type": "markdown",
   "metadata": {},
   "source": [
    "# Eval on CVRR\n",
    "\n",
    "\n",
    "**Parameters:**\n",
    "- model: gemma3:4b-it-qat"
   ]
  },
  {
   "cell_type": "markdown",
   "metadata": {},
   "source": [
    "## QA on generated graphs"
   ]
  },
  {
   "cell_type": "markdown",
   "metadata": {},
   "source": [
    "System prompt"
   ]
  },
  {
   "cell_type": "code",
   "execution_count": 5,
   "metadata": {},
   "outputs": [
    {
     "name": "stdout",
     "output_type": "stream",
     "text": [
      "# Video Question-Answering System Prompt\n",
      "\n",
      "You are an AI assistant specialized in answering questions about videos based on their scene graph representations. Instead of receiving raw video data, you will be provided with structured scene graph information that captures the key visual and temporal elements of the video content.\n",
      "\n",
      "## Input Format\n",
      "\n",
      "You will receive two inputs:\n",
      "1. **Question**: An open-ended question about the video content\n",
      "2. **Scene Graph Representation**: A structured representation of the video containing:\n",
      "\n",
      "### Scene Graph Structure\n",
      "- **Objects**: Entities present in the video (people, animals, objects, etc.)\n",
      "- **Attributes**: Properties of objects (color, size, position, state, etc.)\n",
      "- **Relationships**: Spatial and semantic connections between objects\n",
      "- **Temporal Information**: How objects and relationships change over time\n",
      "- **Actions/Events**: Activities and interactions occurring in the video\n",
      "- **Scene Context**: Location, setting, environmental details\n",
      "\n",
      "### Example Scene Graph Format\n",
      "```\n",
      "Timestamp: [0-5s]\n",
      "Objects: [person_1, person_2, ball, grass, goal_post]\n",
      "Attributes: \n",
      "  - person_1: {color: \"red_shirt\", position: \"left_side\", state: \"running\"}\n",
      "  - ball: {color: \"white\", position: \"center\", state: \"moving\"}\n",
      "Relationships:\n",
      "  - person_1 → chasing → ball\n",
      "  - ball → near → person_2\n",
      "Actions: [kick, run, pass]\n",
      "Scene: outdoor_soccer_field\n",
      "```\n",
      "\n",
      "## Task Instructions\n",
      "\n",
      "1. **Analyze the Scene Graph**: Carefully examine all provided temporal segments, objects, attributes, relationships, and actions.\n",
      "\n",
      "2. **Answer Comprehensively**: Provide detailed, accurate answers based solely on the information present in the scene graph representation.\n",
      "\n",
      "3. **Handle Different Question Types**:\n",
      "   - **What questions**: Identify objects, actions, or attributes\n",
      "   - **Where questions**: Use spatial relationships and scene context\n",
      "   - **When questions**: Reference temporal information and timestamps\n",
      "   - **Who questions**: Identify people and their characteristics\n",
      "   - **How questions**: Describe processes, methods, or sequences of actions\n",
      "   - **Why questions**: Infer motivations from visible actions and context\n",
      "\n",
      "4. **Temporal Reasoning**: When answering questions about sequences, timing, or changes, reference specific timestamps and describe how elements evolve over time.\n",
      "\n",
      "5. **Relationship Analysis**: Utilize the relationship information to understand interactions, spatial arrangements, and causal connections.\n",
      "\n",
      "6. **Uncertainty Handling**: If the scene graph doesn't contain sufficient information to answer a question definitively, clearly state what information is available and what cannot be determined.\n",
      "\n",
      "## Response Guidelines\n",
      "\n",
      "- **Be Specific**: Reference exact timestamps, object attributes, and relationships when relevant\n",
      "- **Be Accurate**: Only make claims supported by the scene graph data\n",
      "- **Be Complete**: Address all aspects of multi-part questions\n",
      "- **Be Clear**: Use natural language while incorporating technical details when necessary\n",
      "- **Acknowledge Limitations**: If certain visual details are not captured in the scene graph, mention this limitation\n",
      "\n",
      "## Example Response Structure\n",
      "\n",
      "**Question**: \"What is the person in the red shirt doing at the beginning of the video?\"\n",
      "\n",
      "**Response**: \"Based on the scene graph representation, during the first 5 seconds (timestamp 0-5s), person_1 is wearing a red shirt and is located on the left side of what appears to be an outdoor soccer field. The person is in a 'running' state and has a 'chasing' relationship with a white ball positioned in the center of the scene. This indicates that the person in the red shirt is running while chasing the ball at the beginning of the video.\"\n",
      "\n",
      "## Important Notes\n",
      "\n",
      "- Focus on observable elements captured in the scene graph rather than making assumptions about elements not explicitly represented\n",
      "- When temporal information spans multiple timestamps, provide a chronological description of changes\n",
      "- Use the relationship data to understand complex interactions and spatial arrangements\n",
      "- Consider both direct attributes and inferred information from relationships and actions\n",
      "\n",
      "Your goal is to provide accurate, comprehensive answers that demonstrate understanding of the video content through its structured scene graph representation.\n"
     ]
    }
   ],
   "source": [
    "with open(WORK_DIR / 'cvrr/sys_prompt.txt', 'r') as f:\n",
    "    sys_prompt = f.read()\n",
    "\n",
    "print(sys_prompt)\n"
   ]
  },
  {
   "cell_type": "markdown",
   "metadata": {},
   "source": [
    "User prompt"
   ]
  },
  {
   "cell_type": "code",
   "execution_count": 6,
   "metadata": {},
   "outputs": [
    {
     "name": "stdout",
     "output_type": "stream",
     "text": [
      "# Video Question-Answering User Prompt Template\n",
      "\n",
      "## Question\n",
      "{question}\n",
      "\n",
      "## Spatio-Temporal Scene Graph Representation\n",
      "{stsg}\n",
      "\n",
      "---\n",
      "\n",
      "Please analyze the provided scene graph representation and answer the question based on the visual and temporal information contained within it.\n"
     ]
    }
   ],
   "source": [
    "with open(WORK_DIR / 'cvrr/user_prompt.txt', 'r') as f:\n",
    "    user_prompt = f.read()\n",
    "\n",
    "print(user_prompt)\n"
   ]
  },
  {
   "cell_type": "markdown",
   "metadata": {},
   "source": [
    "Let's load the ground truth from the `STAR_QA_question_and_stsg_val.json` file where we extracted QA and spatio-temporal scene graphs"
   ]
  },
  {
   "cell_type": "code",
   "execution_count": 7,
   "metadata": {},
   "outputs": [
    {
     "name": "stdout",
     "output_type": "stream",
     "text": [
      "\n",
      "Dataset Statistics:\n",
      "========================================\n",
      "QA File: cvrr_val_updated.json\n",
      "Number of QA samples: 2400\n",
      "QA sample keys: dimension_name, subset, question_id, question, video_id, answer\n",
      "\n",
      "STSG File: generated_stsg_cvrr.json\n",
      "Number of unique video IDs with STSG: 193\n",
      "========================================\n",
      "\n"
     ]
    }
   ],
   "source": [
    "user_prompt_formatter = OpenEndedPrompt(user_prompt)\n",
    "qa_cvrr_dataset = CVRRDataset(\n",
    "    qa_file_path=WORK_DIR/\"cvrr/cvrr_val_updated.json\",\n",
    "    prompt_formatter=user_prompt_formatter,\n",
    "    stsg_file_path=WORK_DIR/\"cvrr/generated_stsg_cvrr.json\"\n",
    ")\n"
   ]
  },
  {
   "cell_type": "code",
   "execution_count": 8,
   "metadata": {},
   "outputs": [
    {
     "data": {
      "text/plain": [
       "{'dimension_name': 'Continuity and Object Instance Count',\n",
       " 'subset': 'continuity_and_object_instance_count',\n",
       " 'question_id': '2a49d339-11d1-4c70-b6df-8f3f1e4bbcc0',\n",
       " 'question': 'How many times is the golden hollow sphere gets covered by other objects?',\n",
       " 'video_id': 'continuity_and_object_instance_count_183',\n",
       " 'answer': 'The golden hollow sphere is covered two times by other objects.',\n",
       " 'stsg': '\\nFrame 0:\\n\\n\\npurple_cube ---- above ---- yellow_sphere\\npurple_cube ---- adjacent_to ---- green_cone\\npurple_cube ---- adjacent_to ---- red_cone\\ngreen_cone ---- to_the_left_of ---- purple_cube\\nred_cone ---- to_the_right_of ---- purple_cube\\nyellow_sphere ---- below ---- purple_cube\\ngreen_cone ---- positioned_near ---- purple_cube\\nred_cone ---- positioned_near ---- purple_cube\\nyellow_sphere ---- directly_under ---- purple_cube\\npurple_cube ---- supporting ---- yellow_sphere\\n\\nFrame 1:\\n\\n\\nred_sphere ---- above ---- green_cone\\ngreen_cone ---- above ---- purple_cube\\npurple_cube ---- on ---- surface\\nred_sphere ---- above ---- green_cone\\ngreen_cone ---- looking_at ---- purple_cube\\nred_sphere ---- looking_at ---- green_cone\\npurple_cube ---- on_top_of ---- surface\\ngreen_cone ---- attached_to ---- red_sphere\\nsurface ---- supporting ---- purple_cube\\ngreen_cone ---- positioned_above ---- purple_cube\\nred_sphere ---- positioned_above ---- green_cone\\n\\nFrame 2:\\n\\nred_sphere ---- above ---- purple_cube\\npurple_cube ---- on ---- white_surface\\ngreen_cylinder ---- to_the_right_of ---- purple_cube\\nwhite_surface ---- supporting ---- purple_cube\\nred_sphere ---- looking_at ---- purple_cube\\npurple_cube ---- positioned_on ---- white_surface\\ngreen_cylinder ---- adjacent_to ---- purple_cube\\nwhite_surface ---- containing ---- red_sphere\\nred_sphere ---- positioned_above ---- purple_cube\\ngreen_cylinder ---- near ---- purple_cube\\npurple_cube ---- centered_on ---- white_surface\\n\\nFrame 3:\\n\\npurple_cube ---- sitting_on ---- gray_table\\ngreen_cone ---- positioned_behind ---- purple_cube\\ngray_table ---- supporting ---- purple_cube\\ngray_table ---- adjacent_to ---- gray_chair\\ngray_chair ---- positioned_next_to ---- gray_table\\npurple_cube ---- placed_on ---- gray_table\\ngreen_cone ---- located_behind ---- purple_cube\\ngray_table ---- resting_on ---- gray_floor\\ngray_floor ---- supporting ---- gray_table\\npurple_cube ---- part_of ---- scene\\ngreen_cone ---- part_of ---- scene\\ngray_table ---- part_of ---- scene\\ngray_chair ---- part_of ---- scene\\n\\nFrame 4:\\n\\ngreen_cylinder ---- supporting ---- purple_cube\\npurple_cube ---- resting_on ---- green_cylinder\\ngreen_cylinder ---- positioned_on ---- gray_background\\ngray_background ---- behind ---- green_cylinder\\npurple_cube ---- above ---- green_cylinder\\ngreen_cylinder ---- positioned_above ---- gray_background\\npurple_cube ---- adjacent_to ---- green_cylinder\\ngreen_cylinder ---- centered_on ---- purple_cube\\npurple_cube ---- reflecting_off ---- green_cylinder\\ngray_background ---- providing_backdrop_for ---- green_cylinder\\npurple_cube ---- occupying_space_above ---- green_cylinder\\n',\n",
       " 'qid': '2a49d339-11d1-4c70-b6df-8f3f1e4bbcc0',\n",
       " 'prompt': '# Video Question-Answering User Prompt Template\\n\\n## Question\\nHow many times is the golden hollow sphere gets covered by other objects?\\n\\n## Spatio-Temporal Scene Graph Representation\\n\\nFrame 0:\\n\\n\\npurple_cube ---- above ---- yellow_sphere\\npurple_cube ---- adjacent_to ---- green_cone\\npurple_cube ---- adjacent_to ---- red_cone\\ngreen_cone ---- to_the_left_of ---- purple_cube\\nred_cone ---- to_the_right_of ---- purple_cube\\nyellow_sphere ---- below ---- purple_cube\\ngreen_cone ---- positioned_near ---- purple_cube\\nred_cone ---- positioned_near ---- purple_cube\\nyellow_sphere ---- directly_under ---- purple_cube\\npurple_cube ---- supporting ---- yellow_sphere\\n\\nFrame 1:\\n\\n\\nred_sphere ---- above ---- green_cone\\ngreen_cone ---- above ---- purple_cube\\npurple_cube ---- on ---- surface\\nred_sphere ---- above ---- green_cone\\ngreen_cone ---- looking_at ---- purple_cube\\nred_sphere ---- looking_at ---- green_cone\\npurple_cube ---- on_top_of ---- surface\\ngreen_cone ---- attached_to ---- red_sphere\\nsurface ---- supporting ---- purple_cube\\ngreen_cone ---- positioned_above ---- purple_cube\\nred_sphere ---- positioned_above ---- green_cone\\n\\nFrame 2:\\n\\nred_sphere ---- above ---- purple_cube\\npurple_cube ---- on ---- white_surface\\ngreen_cylinder ---- to_the_right_of ---- purple_cube\\nwhite_surface ---- supporting ---- purple_cube\\nred_sphere ---- looking_at ---- purple_cube\\npurple_cube ---- positioned_on ---- white_surface\\ngreen_cylinder ---- adjacent_to ---- purple_cube\\nwhite_surface ---- containing ---- red_sphere\\nred_sphere ---- positioned_above ---- purple_cube\\ngreen_cylinder ---- near ---- purple_cube\\npurple_cube ---- centered_on ---- white_surface\\n\\nFrame 3:\\n\\npurple_cube ---- sitting_on ---- gray_table\\ngreen_cone ---- positioned_behind ---- purple_cube\\ngray_table ---- supporting ---- purple_cube\\ngray_table ---- adjacent_to ---- gray_chair\\ngray_chair ---- positioned_next_to ---- gray_table\\npurple_cube ---- placed_on ---- gray_table\\ngreen_cone ---- located_behind ---- purple_cube\\ngray_table ---- resting_on ---- gray_floor\\ngray_floor ---- supporting ---- gray_table\\npurple_cube ---- part_of ---- scene\\ngreen_cone ---- part_of ---- scene\\ngray_table ---- part_of ---- scene\\ngray_chair ---- part_of ---- scene\\n\\nFrame 4:\\n\\ngreen_cylinder ---- supporting ---- purple_cube\\npurple_cube ---- resting_on ---- green_cylinder\\ngreen_cylinder ---- positioned_on ---- gray_background\\ngray_background ---- behind ---- green_cylinder\\npurple_cube ---- above ---- green_cylinder\\ngreen_cylinder ---- positioned_above ---- gray_background\\npurple_cube ---- adjacent_to ---- green_cylinder\\ngreen_cylinder ---- centered_on ---- purple_cube\\npurple_cube ---- reflecting_off ---- green_cylinder\\ngray_background ---- providing_backdrop_for ---- green_cylinder\\npurple_cube ---- occupying_space_above ---- green_cylinder\\n\\n\\n---\\n\\nPlease analyze the provided scene graph representation and answer the question based on the visual and temporal information contained within it.'}"
      ]
     },
     "execution_count": 8,
     "metadata": {},
     "output_type": "execute_result"
    }
   ],
   "source": [
    "# example of entry\n",
    "qa_cvrr_dataset[0]\n"
   ]
  },
  {
   "cell_type": "code",
   "execution_count": 9,
   "metadata": {},
   "outputs": [
    {
     "name": "stdout",
     "output_type": "stream",
     "text": [
      "# Video Question-Answering User Prompt Template\n",
      "\n",
      "## Question\n",
      "How many times is the golden hollow sphere gets covered by other objects?\n",
      "\n",
      "## Spatio-Temporal Scene Graph Representation\n",
      "\n",
      "Frame 0:\n",
      "\n",
      "\n",
      "purple_cube ---- above ---- yellow_sphere\n",
      "purple_cube ---- adjacent_to ---- green_cone\n",
      "purple_cube ---- adjacent_to ---- red_cone\n",
      "green_cone ---- to_the_left_of ---- purple_cube\n",
      "red_cone ---- to_the_right_of ---- purple_cube\n",
      "yellow_sphere ---- below ---- purple_cube\n",
      "green_cone ---- positioned_near ---- purple_cube\n",
      "red_cone ---- positioned_near ---- purple_cube\n",
      "yellow_sphere ---- directly_under ---- purple_cube\n",
      "purple_cube ---- supporting ---- yellow_sphere\n",
      "\n",
      "Frame 1:\n",
      "\n",
      "\n",
      "red_sphere ---- above ---- green_cone\n",
      "green_cone ---- above ---- purple_cube\n",
      "purple_cube ---- on ---- surface\n",
      "red_sphere ---- above ---- green_cone\n",
      "green_cone ---- looking_at ---- purple_cube\n",
      "red_sphere ---- looking_at ---- green_cone\n",
      "purple_cube ---- on_top_of ---- surface\n",
      "green_cone ---- attached_to ---- red_sphere\n",
      "surface ---- supporting ---- purple_cube\n",
      "green_cone ---- positioned_above ---- purple_cube\n",
      "red_sphere ---- positioned_above ---- green_cone\n",
      "\n",
      "Frame 2:\n",
      "\n",
      "red_sphere ---- above ---- purple_cube\n",
      "purple_cube ---- on ---- white_surface\n",
      "green_cylinder ---- to_the_right_of ---- purple_cube\n",
      "white_surface ---- supporting ---- purple_cube\n",
      "red_sphere ---- looking_at ---- purple_cube\n",
      "purple_cube ---- positioned_on ---- white_surface\n",
      "green_cylinder ---- adjacent_to ---- purple_cube\n",
      "white_surface ---- containing ---- red_sphere\n",
      "red_sphere ---- positioned_above ---- purple_cube\n",
      "green_cylinder ---- near ---- purple_cube\n",
      "purple_cube ---- centered_on ---- white_surface\n",
      "\n",
      "Frame 3:\n",
      "\n",
      "purple_cube ---- sitting_on ---- gray_table\n",
      "green_cone ---- positioned_behind ---- purple_cube\n",
      "gray_table ---- supporting ---- purple_cube\n",
      "gray_table ---- adjacent_to ---- gray_chair\n",
      "gray_chair ---- positioned_next_to ---- gray_table\n",
      "purple_cube ---- placed_on ---- gray_table\n",
      "green_cone ---- located_behind ---- purple_cube\n",
      "gray_table ---- resting_on ---- gray_floor\n",
      "gray_floor ---- supporting ---- gray_table\n",
      "purple_cube ---- part_of ---- scene\n",
      "green_cone ---- part_of ---- scene\n",
      "gray_table ---- part_of ---- scene\n",
      "gray_chair ---- part_of ---- scene\n",
      "\n",
      "Frame 4:\n",
      "\n",
      "green_cylinder ---- supporting ---- purple_cube\n",
      "purple_cube ---- resting_on ---- green_cylinder\n",
      "green_cylinder ---- positioned_on ---- gray_background\n",
      "gray_background ---- behind ---- green_cylinder\n",
      "purple_cube ---- above ---- green_cylinder\n",
      "green_cylinder ---- positioned_above ---- gray_background\n",
      "purple_cube ---- adjacent_to ---- green_cylinder\n",
      "green_cylinder ---- centered_on ---- purple_cube\n",
      "purple_cube ---- reflecting_off ---- green_cylinder\n",
      "gray_background ---- providing_backdrop_for ---- green_cylinder\n",
      "purple_cube ---- occupying_space_above ---- green_cylinder\n",
      "\n",
      "\n",
      "---\n",
      "\n",
      "Please analyze the provided scene graph representation and answer the question based on the visual and temporal information contained within it.\n"
     ]
    }
   ],
   "source": [
    "print(qa_cvrr_dataset[0][\"prompt\"])\n"
   ]
  },
  {
   "cell_type": "code",
   "execution_count": 10,
   "metadata": {},
   "outputs": [
    {
     "data": {
      "text/html": [
       "<div>\n",
       "<style scoped>\n",
       "    .dataframe tbody tr th:only-of-type {\n",
       "        vertical-align: middle;\n",
       "    }\n",
       "\n",
       "    .dataframe tbody tr th {\n",
       "        vertical-align: top;\n",
       "    }\n",
       "\n",
       "    .dataframe thead th {\n",
       "        text-align: right;\n",
       "    }\n",
       "</style>\n",
       "<table border=\"1\" class=\"dataframe\">\n",
       "  <thead>\n",
       "    <tr style=\"text-align: right;\">\n",
       "      <th></th>\n",
       "      <th>text</th>\n",
       "    </tr>\n",
       "    <tr>\n",
       "      <th>id</th>\n",
       "      <th></th>\n",
       "    </tr>\n",
       "  </thead>\n",
       "  <tbody>\n",
       "    <tr>\n",
       "      <th>2a49d339-11d1-4c70-b6df-8f3f1e4bbcc0</th>\n",
       "      <td>The golden hollow sphere (red_sphere) is cover...</td>\n",
       "    </tr>\n",
       "    <tr>\n",
       "      <th>b27163c5-d341-475b-8517-54809872081a</th>\n",
       "      <td>Does the pink cube and shiny pink cube undergo...</td>\n",
       "    </tr>\n",
       "    <tr>\n",
       "      <th>9bce3140-e8e8-49dd-8574-5e961326fb16</th>\n",
       "      <td>Based on the provided scene graph representati...</td>\n",
       "    </tr>\n",
       "    <tr>\n",
       "      <th>b8df9fbe-07db-46ab-ba17-3713c1632dbd</th>\n",
       "      <td>Based on the provided scene graph representati...</td>\n",
       "    </tr>\n",
       "    <tr>\n",
       "      <th>01c30c62-f489-4246-af18-b7b538b4cb9d</th>\n",
       "      <td>**Question**: How many total objects are prese...</td>\n",
       "    </tr>\n",
       "    <tr>\n",
       "      <th>...</th>\n",
       "      <td>...</td>\n",
       "    </tr>\n",
       "    <tr>\n",
       "      <th>4073994c-e4ca-4592-b001-fe0a79ab0e3f</th>\n",
       "      <td>Based on the provided scene graph, the video a...</td>\n",
       "    </tr>\n",
       "    <tr>\n",
       "      <th>3a158fb7-38cb-49b4-91e8-0cb63d6bf218</th>\n",
       "      <td>Okay, I've analyzed the provided scene graph r...</td>\n",
       "    </tr>\n",
       "    <tr>\n",
       "      <th>247a493d-0d24-4f1b-bbf6-b03e8973b544</th>\n",
       "      <td>Based on the provided scene graph representati...</td>\n",
       "    </tr>\n",
       "    <tr>\n",
       "      <th>1455f7ec-007a-434e-93d1-6d73b1e3746c</th>\n",
       "      <td>Based on the provided scene graph, the woman i...</td>\n",
       "    </tr>\n",
       "    <tr>\n",
       "      <th>15327727-8c7a-4cde-8b78-557a5ab9bb70</th>\n",
       "      <td>Based on the provided scene graph, it is not p...</td>\n",
       "    </tr>\n",
       "  </tbody>\n",
       "</table>\n",
       "<p>2400 rows × 1 columns</p>\n",
       "</div>"
      ],
      "text/plain": [
       "                                                                                   text\n",
       "id                                                                                     \n",
       "2a49d339-11d1-4c70-b6df-8f3f1e4bbcc0  The golden hollow sphere (red_sphere) is cover...\n",
       "b27163c5-d341-475b-8517-54809872081a  Does the pink cube and shiny pink cube undergo...\n",
       "9bce3140-e8e8-49dd-8574-5e961326fb16  Based on the provided scene graph representati...\n",
       "b8df9fbe-07db-46ab-ba17-3713c1632dbd  Based on the provided scene graph representati...\n",
       "01c30c62-f489-4246-af18-b7b538b4cb9d  **Question**: How many total objects are prese...\n",
       "...                                                                                 ...\n",
       "4073994c-e4ca-4592-b001-fe0a79ab0e3f  Based on the provided scene graph, the video a...\n",
       "3a158fb7-38cb-49b4-91e8-0cb63d6bf218  Okay, I've analyzed the provided scene graph r...\n",
       "247a493d-0d24-4f1b-bbf6-b03e8973b544  Based on the provided scene graph representati...\n",
       "1455f7ec-007a-434e-93d1-6d73b1e3746c  Based on the provided scene graph, the woman i...\n",
       "15327727-8c7a-4cde-8b78-557a5ab9bb70  Based on the provided scene graph, it is not p...\n",
       "\n",
       "[2400 rows x 1 columns]"
      ]
     },
     "execution_count": 10,
     "metadata": {},
     "output_type": "execute_result"
    }
   ],
   "source": [
    "predictions = []\n",
    "with open(WORK_DIR / \"cvrr/cvrr_qa_responses_maxsample50.jsonl\") as f:\n",
    "    predictions = [json.loads(line) for line in f.readlines()]\n",
    "\n",
    "# transforming the id key from `qid` to `id` for consistency and `response` to `answer`\n",
    "predictions_df = pd.DataFrame(predictions, dtype='string').rename(columns={'qid':'id'})\n",
    "predictions_df.set_index('id', inplace=True)\n",
    "\n",
    "ans_df = predictions_df\n",
    "ans_df = ans_df.rename(columns={'response': 'text'})\n",
    "ans_df\n"
   ]
  },
  {
   "cell_type": "markdown",
   "metadata": {},
   "source": [
    "## LLM as judge evaluation"
   ]
  },
  {
   "cell_type": "markdown",
   "metadata": {},
   "source": [
    "System prompt"
   ]
  },
  {
   "cell_type": "code",
   "execution_count": 11,
   "metadata": {},
   "outputs": [
    {
     "name": "stdout",
     "output_type": "stream",
     "text": [
      "You are an intelligent chatbot designed for evaluating the correctness of AI assistant predictions for\n",
      "question-answer pairs.\n",
      "Your task is to compare the predicted answer with the ground-truth answer and determine if the predicted\n",
      "answer is correct or not. Here's how you can accomplish the task:\n",
      "------\n",
      "##INSTRUCTIONS:\n",
      "- Focus on the correctness and accuracy of the predicted answer with the ground-truth.\n",
      "- Consider predictions with less specific details as correct evaluation, unless such details are explicitly\n",
      "asked in the question.\n",
      "\n"
     ]
    }
   ],
   "source": [
    "with open(WORK_DIR / 'cvrr/llm_as_judge_sys.txt', 'r') as f:\n",
    "    sys_prompt = f.read()\n",
    "\n",
    "print(sys_prompt)\n"
   ]
  },
  {
   "cell_type": "markdown",
   "metadata": {},
   "source": [
    "User prompt"
   ]
  },
  {
   "cell_type": "code",
   "execution_count": 12,
   "metadata": {},
   "outputs": [
    {
     "name": "stdout",
     "output_type": "stream",
     "text": [
      "Please evaluate the following video-based question-answer pair:\n",
      "Question: {question}\n",
      "Ground truth correct Answer: {gt_answer}\n",
      "Predicted Answer: {prediction}\n",
      "Provide your evaluation as a correct/incorrect prediction along with the score where the score is an\n",
      "integer value between 0 (fully wrong) and 5 (fully correct). The middle score provides the percentage of\n",
      "correctness.\n",
      "Please generate the response in the form of a Python dictionary string with keys 'pred', 'score' and\n",
      "'reason', where value of 'pred' is a string of 'correct' or 'incorrect', value of 'score' is in INTEGER, not STRING\n",
      "and value of 'reason' should provide the reason behind the decision.\n",
      "Only provide the Python dictionary string.\n",
      "For example, your response should look like this: {{'pred': 'correct', 'score': 4, 'reason': reason}}.\n",
      "\n"
     ]
    }
   ],
   "source": [
    "with open(WORK_DIR / 'cvrr/llm_as_judge_user.txt', 'r') as f:\n",
    "    user_prompt = f.read()\n",
    "\n",
    "print(user_prompt)\n"
   ]
  },
  {
   "cell_type": "code",
   "execution_count": 13,
   "metadata": {},
   "outputs": [],
   "source": [
    "judge_prompt_formatter = LlmAsJudgePrompt(user_prompt)\n",
    "judge_cvrr_dataset = JudgeDataset(\n",
    "    dataset=qa_cvrr_dataset,\n",
    "    predictions_filepath=WORK_DIR/\"cvrr/cvrr_qa_responses_maxsample50.jsonl\",\n",
    "    prompt_formatter=judge_prompt_formatter\n",
    ")\n"
   ]
  },
  {
   "cell_type": "code",
   "execution_count": 14,
   "metadata": {},
   "outputs": [
    {
     "data": {
      "text/plain": [
       "{'dimension_name': 'Continuity and Object Instance Count',\n",
       " 'subset': 'continuity_and_object_instance_count',\n",
       " 'question_id': '2a49d339-11d1-4c70-b6df-8f3f1e4bbcc0',\n",
       " 'question': 'How many times is the golden hollow sphere gets covered by other objects?',\n",
       " 'video_id': 'continuity_and_object_instance_count_183',\n",
       " 'answer': 'The golden hollow sphere is covered two times by other objects.',\n",
       " 'stsg': '\\nFrame 0:\\n\\n\\npurple_cube ---- above ---- yellow_sphere\\npurple_cube ---- adjacent_to ---- green_cone\\npurple_cube ---- adjacent_to ---- red_cone\\ngreen_cone ---- to_the_left_of ---- purple_cube\\nred_cone ---- to_the_right_of ---- purple_cube\\nyellow_sphere ---- below ---- purple_cube\\ngreen_cone ---- positioned_near ---- purple_cube\\nred_cone ---- positioned_near ---- purple_cube\\nyellow_sphere ---- directly_under ---- purple_cube\\npurple_cube ---- supporting ---- yellow_sphere\\n\\nFrame 1:\\n\\n\\nred_sphere ---- above ---- green_cone\\ngreen_cone ---- above ---- purple_cube\\npurple_cube ---- on ---- surface\\nred_sphere ---- above ---- green_cone\\ngreen_cone ---- looking_at ---- purple_cube\\nred_sphere ---- looking_at ---- green_cone\\npurple_cube ---- on_top_of ---- surface\\ngreen_cone ---- attached_to ---- red_sphere\\nsurface ---- supporting ---- purple_cube\\ngreen_cone ---- positioned_above ---- purple_cube\\nred_sphere ---- positioned_above ---- green_cone\\n\\nFrame 2:\\n\\nred_sphere ---- above ---- purple_cube\\npurple_cube ---- on ---- white_surface\\ngreen_cylinder ---- to_the_right_of ---- purple_cube\\nwhite_surface ---- supporting ---- purple_cube\\nred_sphere ---- looking_at ---- purple_cube\\npurple_cube ---- positioned_on ---- white_surface\\ngreen_cylinder ---- adjacent_to ---- purple_cube\\nwhite_surface ---- containing ---- red_sphere\\nred_sphere ---- positioned_above ---- purple_cube\\ngreen_cylinder ---- near ---- purple_cube\\npurple_cube ---- centered_on ---- white_surface\\n\\nFrame 3:\\n\\npurple_cube ---- sitting_on ---- gray_table\\ngreen_cone ---- positioned_behind ---- purple_cube\\ngray_table ---- supporting ---- purple_cube\\ngray_table ---- adjacent_to ---- gray_chair\\ngray_chair ---- positioned_next_to ---- gray_table\\npurple_cube ---- placed_on ---- gray_table\\ngreen_cone ---- located_behind ---- purple_cube\\ngray_table ---- resting_on ---- gray_floor\\ngray_floor ---- supporting ---- gray_table\\npurple_cube ---- part_of ---- scene\\ngreen_cone ---- part_of ---- scene\\ngray_table ---- part_of ---- scene\\ngray_chair ---- part_of ---- scene\\n\\nFrame 4:\\n\\ngreen_cylinder ---- supporting ---- purple_cube\\npurple_cube ---- resting_on ---- green_cylinder\\ngreen_cylinder ---- positioned_on ---- gray_background\\ngray_background ---- behind ---- green_cylinder\\npurple_cube ---- above ---- green_cylinder\\ngreen_cylinder ---- positioned_above ---- gray_background\\npurple_cube ---- adjacent_to ---- green_cylinder\\ngreen_cylinder ---- centered_on ---- purple_cube\\npurple_cube ---- reflecting_off ---- green_cylinder\\ngray_background ---- providing_backdrop_for ---- green_cylinder\\npurple_cube ---- occupying_space_above ---- green_cylinder\\n',\n",
       " 'qid': '2a49d339-11d1-4c70-b6df-8f3f1e4bbcc0',\n",
       " 'prompt': \"Please evaluate the following video-based question-answer pair:\\nQuestion: How many times is the golden hollow sphere gets covered by other objects?\\nGround truth correct Answer: The golden hollow sphere is covered two times by other objects.\\nPredicted Answer: The golden hollow sphere (red_sphere) is covered by other objects in the following frames:\\n\\n*   **Frame 0:** Covered by purple_cube.\\n*   **Frame 1:** Covered by red_cone.\\n*   **Frame 2:** Covered by red_cone.\\n*   **Frame 3:** Covered by green_sphere.\\n*   **Frame 4:** Covered by purple_cube.\\n*   **Frame 5:** Covered by purple_cube.\\n*   **Frame 6:** Covered by purple_cube.\\n*   **Frame 7:** Covered by purple_cube.\\n*   **Frame 8:** Covered by purple_cube.\\n*   **Frame 9:** Covered by purple_cube.\\n*   **Frame 10:** Covered by purple_cube.\\n*   **Frame 11:** Covered by purple_cube.\\n\\nTherefore, the red_sphere is covered by purple_cube a total of 12 times across the provided frames.\\nProvide your evaluation as a correct/incorrect prediction along with the score where the score is an\\ninteger value between 0 (fully wrong) and 5 (fully correct). The middle score provides the percentage of\\ncorrectness.\\nPlease generate the response in the form of a Python dictionary string with keys 'pred', 'score' and\\n'reason', where value of 'pred' is a string of 'correct' or 'incorrect', value of 'score' is in INTEGER, not STRING\\nand value of 'reason' should provide the reason behind the decision.\\nOnly provide the Python dictionary string.\\nFor example, your response should look like this: {'pred': 'correct', 'score': 4, 'reason': reason}.\\n\",\n",
       " 'gt_answer': 'The golden hollow sphere is covered two times by other objects.',\n",
       " 'response': 'The golden hollow sphere (red_sphere) is covered by other objects in the following frames:\\n\\n*   **Frame 0:** Covered by purple_cube.\\n*   **Frame 1:** Covered by red_cone.\\n*   **Frame 2:** Covered by red_cone.\\n*   **Frame 3:** Covered by green_sphere.\\n*   **Frame 4:** Covered by purple_cube.\\n*   **Frame 5:** Covered by purple_cube.\\n*   **Frame 6:** Covered by purple_cube.\\n*   **Frame 7:** Covered by purple_cube.\\n*   **Frame 8:** Covered by purple_cube.\\n*   **Frame 9:** Covered by purple_cube.\\n*   **Frame 10:** Covered by purple_cube.\\n*   **Frame 11:** Covered by purple_cube.\\n\\nTherefore, the red_sphere is covered by purple_cube a total of 12 times across the provided frames.'}"
      ]
     },
     "execution_count": 14,
     "metadata": {},
     "output_type": "execute_result"
    }
   ],
   "source": [
    "judge_cvrr_dataset[0]\n"
   ]
  },
  {
   "cell_type": "code",
   "execution_count": 15,
   "metadata": {},
   "outputs": [
    {
     "name": "stdout",
     "output_type": "stream",
     "text": [
      "Please evaluate the following video-based question-answer pair:\n",
      "Question: How many times is the golden hollow sphere gets covered by other objects?\n",
      "Ground truth correct Answer: The golden hollow sphere is covered two times by other objects.\n",
      "Predicted Answer: The golden hollow sphere (red_sphere) is covered by other objects in the following frames:\n",
      "\n",
      "*   **Frame 0:** Covered by purple_cube.\n",
      "*   **Frame 1:** Covered by red_cone.\n",
      "*   **Frame 2:** Covered by red_cone.\n",
      "*   **Frame 3:** Covered by green_sphere.\n",
      "*   **Frame 4:** Covered by purple_cube.\n",
      "*   **Frame 5:** Covered by purple_cube.\n",
      "*   **Frame 6:** Covered by purple_cube.\n",
      "*   **Frame 7:** Covered by purple_cube.\n",
      "*   **Frame 8:** Covered by purple_cube.\n",
      "*   **Frame 9:** Covered by purple_cube.\n",
      "*   **Frame 10:** Covered by purple_cube.\n",
      "*   **Frame 11:** Covered by purple_cube.\n",
      "\n",
      "Therefore, the red_sphere is covered by purple_cube a total of 12 times across the provided frames.\n",
      "Provide your evaluation as a correct/incorrect prediction along with the score where the score is an\n",
      "integer value between 0 (fully wrong) and 5 (fully correct). The middle score provides the percentage of\n",
      "correctness.\n",
      "Please generate the response in the form of a Python dictionary string with keys 'pred', 'score' and\n",
      "'reason', where value of 'pred' is a string of 'correct' or 'incorrect', value of 'score' is in INTEGER, not STRING\n",
      "and value of 'reason' should provide the reason behind the decision.\n",
      "Only provide the Python dictionary string.\n",
      "For example, your response should look like this: {'pred': 'correct', 'score': 4, 'reason': reason}.\n",
      "\n"
     ]
    }
   ],
   "source": [
    "print(judge_cvrr_dataset[0]['prompt'])\n"
   ]
  },
  {
   "cell_type": "markdown",
   "metadata": {},
   "source": [
    "# Answer loading and processing"
   ]
  },
  {
   "cell_type": "markdown",
   "metadata": {},
   "source": [
    "## Loading the the Judge evaluation\n",
    "\n",
    "Now we load the judge evaluation on the responses of the perdictor model. The set of responses are saved in two different files. `llama8b_as_judge_wrong.jsonl` contains the responses that were classified as incorrect by the method with the method extraction, `llama8b_as_judge_correct.jsonl` contains the responses classified as correct.  \n",
    "These two files contains only the responses for which it was able to extract an answer with the regex."
   ]
  },
  {
   "cell_type": "code",
   "execution_count": 16,
   "metadata": {},
   "outputs": [
    {
     "name": "stdout",
     "output_type": "stream",
     "text": [
      "<class 'pandas.core.frame.DataFrame'>\n",
      "Index: 2400 entries, 2a49d339-11d1-4c70-b6df-8f3f1e4bbcc0 to 15327727-8c7a-4cde-8b78-557a5ab9bb70\n",
      "Data columns (total 1 columns):\n",
      " #   Column    Non-Null Count  Dtype \n",
      "---  ------    --------------  ----- \n",
      " 0   response  2400 non-null   object\n",
      "dtypes: object(1)\n",
      "memory usage: 37.5+ KB\n"
     ]
    }
   ],
   "source": [
    "# Load the scores for the wrong answers\n",
    "predictions = []\n",
    "with open(WORK_DIR / \"cvrr/judge_eval_maxsample50.jsonl\", 'r', encoding='utf-8') as f:\n",
    "    predictions = [json.loads(line) for line in f.readlines()]\n",
    "\n",
    "# Extract pred, score and reason from response dictionary into separate columns\n",
    "judge_pred_df = pd.DataFrame(predictions).rename(columns={'qid':'id'})\n",
    "judge_pred_df.set_index('id', inplace=True)\n",
    "judge_pred_df.info()\n"
   ]
  },
  {
   "cell_type": "markdown",
   "metadata": {},
   "source": [
    "## Handle formatting issues"
   ]
  },
  {
   "cell_type": "markdown",
   "metadata": {},
   "source": [
    "For Gemma we need to be more careful becuase the format is different, it encapsulated the json output in the with the tokens: \n",
    "```\n",
    "```json\\n\n",
    "<actual_answer>\n",
    "\\n```\n",
    "```"
   ]
  },
  {
   "cell_type": "code",
   "execution_count": 17,
   "metadata": {},
   "outputs": [
    {
     "name": "stdout",
     "output_type": "stream",
     "text": [
      "Total answers: 2400\n",
      "Answers following JSON template: 2385\n",
      "Percentage following JSON template: 99.38%\n"
     ]
    }
   ],
   "source": [
    "\n",
    "# Create mask for answers that follow JSON syntax\n",
    "json_mask = judge_pred_df['response'].str.match(r'^(```json\\s)?({[^}]+})(\\s```)?$')\n",
    "matches_json_template = json_mask.sum()\n",
    "\n",
    "print(f\"Total answers: {len(judge_pred_df)}\")\n",
    "print(f\"Answers following JSON template: {matches_json_template}\")\n",
    "print(f\"Percentage following JSON template: {(matches_json_template/len(judge_pred_df))*100:.2f}%\")\n"
   ]
  },
  {
   "cell_type": "code",
   "execution_count": 18,
   "metadata": {},
   "outputs": [
    {
     "name": "stdout",
     "output_type": "stream",
     "text": [
      "<class 'pandas.core.frame.DataFrame'>\n",
      "Index: 2400 entries, 2a49d339-11d1-4c70-b6df-8f3f1e4bbcc0 to 15327727-8c7a-4cde-8b78-557a5ab9bb70\n",
      "Data columns (total 1 columns):\n",
      " #   Column    Non-Null Count  Dtype \n",
      "---  ------    --------------  ----- \n",
      " 0   response  2400 non-null   object\n",
      "dtypes: object(1)\n",
      "memory usage: 102.0+ KB\n"
     ]
    }
   ],
   "source": [
    "judge_pred_df.loc[json_mask, 'response'] = \\\n",
    "    judge_pred_df.loc[json_mask, 'response'] \\\n",
    "    .apply(lambda x: re.search(r'^(?:```json\\s)?({[^}]+})(?:\\s```)?$', x).group(1))\n",
    "\n",
    "judge_pred_df.loc[~json_mask, 'response'] = \"\"\n",
    "judge_pred_df.info()\n"
   ]
  },
  {
   "cell_type": "code",
   "execution_count": 19,
   "metadata": {},
   "outputs": [],
   "source": [
    "# Replace new line (lead to EOF Errors) with whitespace\n",
    "judge_pred_df['response'] = \\\n",
    "    judge_pred_df['response'].str.replace('\\n+', ' ', regex=True)\n",
    "\n",
    "# Replace lef and right quotation mark with simple quotation mark\n",
    "judge_pred_df['response'] = \\\n",
    "    judge_pred_df['response'].str.replace('[\\u2018-\\u201b]', '\\'', regex=True)\n",
    "judge_pred_df['response'] = \\\n",
    "    judge_pred_df['response'].str.replace('[\\u201c\\u201d]', '\"', regex=True)\n"
   ]
  },
  {
   "cell_type": "code",
   "execution_count": 20,
   "metadata": {},
   "outputs": [
    {
     "data": {
      "text/plain": [
       "{'pred': 'correct',\n",
       " 'score': 5,\n",
       " 'reason': 'The predicted answer accurately reflects the information (or lack thereof) present in the scene graph. It correctly states that there is no depiction of a man wearing a hat and that the scene graph doesn\\'t show any \"destructive acts.\"'}"
      ]
     },
     "execution_count": 20,
     "metadata": {},
     "output_type": "execute_result"
    }
   ],
   "source": [
    "eval(judge_pred_df.iloc[2113][\"response\"])\n"
   ]
  },
  {
   "cell_type": "code",
   "execution_count": 21,
   "metadata": {},
   "outputs": [],
   "source": [
    "# sometimes the model writes outside the {...} bounderies\n",
    "# let's keep only the relevant part\n",
    "judge_pred_df['response'] = \\\n",
    "    judge_pred_df.apply(\n",
    "        func=lambda row: re.sub(\n",
    "            r\"(\\{.*\\})(.+)\", \n",
    "            r\"\\1\", \n",
    "            row['response']),\n",
    "        axis=1\n",
    "        )\n"
   ]
  },
  {
   "cell_type": "code",
   "execution_count": 22,
   "metadata": {},
   "outputs": [
    {
     "data": {
      "text/plain": [
       "{'pred': 'correct',\n",
       " 'score': 5,\n",
       " 'reason': 'The predicted answer accurately reflects the information (or lack thereof) present in the scene graph. It correctly states that there is no depiction of a man wearing a hat and that the scene graph doesn\\'t show any \"destructive acts.\"'}"
      ]
     },
     "execution_count": 22,
     "metadata": {},
     "output_type": "execute_result"
    }
   ],
   "source": [
    "eval(judge_pred_df.iloc[2113][\"response\"])\n"
   ]
  },
  {
   "cell_type": "code",
   "execution_count": 23,
   "metadata": {},
   "outputs": [],
   "source": [
    "\n",
    "    \n",
    "# some times the model starts the answer with \\\" but then terminates it with \\'\n",
    "judge_pred_df['response'] = \\\n",
    "    judge_pred_df.apply(\n",
    "        func=lambda row: re.sub( \n",
    "            r\"(?<=\\'reason\\':)\\s+\\\"(.*)\\'\\s*(?=})\", \n",
    "            lambda matchobj:\"\\\"\" + matchobj.group(1) + \"\\\"\", \n",
    "            row['response']),\n",
    "        axis=1\n",
    "        )\n"
   ]
  },
  {
   "cell_type": "code",
   "execution_count": 24,
   "metadata": {},
   "outputs": [
    {
     "data": {
      "text/plain": [
       "{'pred': 'correct',\n",
       " 'score': 5,\n",
       " 'reason': 'The predicted answer accurately reflects the information (or lack thereof) present in the scene graph. It correctly states that there is no depiction of a man wearing a hat and that the scene graph doesn\\'t show any \"destructive acts.\"'}"
      ]
     },
     "execution_count": 24,
     "metadata": {},
     "output_type": "execute_result"
    }
   ],
   "source": [
    "eval(judge_pred_df.iloc[2113][\"response\"])\n"
   ]
  },
  {
   "cell_type": "code",
   "execution_count": 25,
   "metadata": {},
   "outputs": [],
   "source": [
    "\n",
    "    \n",
    "# some times the model starts the answer with \\' but then terminates it with \\\"\n",
    "judge_pred_df['response'] = \\\n",
    "    judge_pred_df.apply(\n",
    "        func=lambda row: re.sub( \n",
    "            r\"(?<=\\'reason\\':)\\s+\\'(.*)\\\"\\s*(?=})\", \n",
    "            lambda matchobj:\"\\\"\" + matchobj.group(1) + \"\\\"\", \n",
    "            row['response']),\n",
    "        axis=1\n",
    "        )\n"
   ]
  },
  {
   "cell_type": "code",
   "execution_count": 26,
   "metadata": {},
   "outputs": [
    {
     "data": {
      "text/plain": [
       "{'pred': 'correct',\n",
       " 'score': 5,\n",
       " 'reason': 'The predicted answer accurately reflects the information (or lack thereof) present in the scene graph. It correctly states that there is no depiction of a man wearing a hat and that the scene graph doesn\\'t show any \"destructive acts.\"'}"
      ]
     },
     "execution_count": 26,
     "metadata": {},
     "output_type": "execute_result"
    }
   ],
   "source": [
    "eval(judge_pred_df.iloc[2113][\"response\"])\n"
   ]
  },
  {
   "cell_type": "code",
   "execution_count": 27,
   "metadata": {},
   "outputs": [],
   "source": [
    "\n",
    "\n",
    "    \n",
    "# some times the model is enclosed by \\' \\'\n",
    "judge_pred_df['response'] = \\\n",
    "    judge_pred_df.apply(\n",
    "        func=lambda row: re.sub(\n",
    "            r\"(?<=\\'reason\\':)\\s+\\'(.*)\\'\\s*(?=})\", \n",
    "            lambda matchobj: \"\\\"\" + matchobj.group(1)+ \"\\\"\", \n",
    "            row['response']),\n",
    "        axis=1\n",
    "        )\n"
   ]
  },
  {
   "cell_type": "code",
   "execution_count": 28,
   "metadata": {},
   "outputs": [
    {
     "data": {
      "text/plain": [
       "{'pred': 'correct',\n",
       " 'score': 5,\n",
       " 'reason': 'The predicted answer accurately reflects the information (or lack thereof) present in the scene graph. It correctly states that there is no depiction of a man wearing a hat and that the scene graph doesn\\'t show any \"destructive acts.\"'}"
      ]
     },
     "execution_count": 28,
     "metadata": {},
     "output_type": "execute_result"
    }
   ],
   "source": [
    "eval(judge_pred_df.iloc[2113][\"response\"])\n"
   ]
  },
  {
   "cell_type": "code",
   "execution_count": 29,
   "metadata": {},
   "outputs": [
    {
     "name": "stdout",
     "output_type": "stream",
     "text": [
      "<class 'pandas.core.frame.DataFrame'>\n",
      "Index: 2400 entries, 2a49d339-11d1-4c70-b6df-8f3f1e4bbcc0 to 15327727-8c7a-4cde-8b78-557a5ab9bb70\n",
      "Data columns (total 1 columns):\n",
      " #   Column    Non-Null Count  Dtype \n",
      "---  ------    --------------  ----- \n",
      " 0   response  2400 non-null   object\n",
      "dtypes: object(1)\n",
      "memory usage: 102.0+ KB\n"
     ]
    }
   ],
   "source": [
    "# ------------------ Removing inner double quotes --------------------\n",
    "# It may happen that the text may contain inner double quotes before the\n",
    "# attribute end. This will cause the parser to termiate early and spout\n",
    "# errors for the remaining text. With this snippet we replace those inner\n",
    "# double quotes with single quotes.\n",
    "#  \n",
    "# we first match the text of the reason paramter inside the double quotes\n",
    "# then we escape/replace all the double quotes inside the text\n",
    "inside_doublequotes = r\"(\\'reason\\':\\s*\\\")(.*\\\".*)(?=\\\"(?:,|}))\"\n",
    "\n",
    "judge_pred_df['response'] = \\\n",
    "    judge_pred_df.apply(\n",
    "        func=lambda row: re.sub(\n",
    "            inside_doublequotes, \n",
    "            lambda matchobj: matchobj.group(1) + matchobj.group(2).replace('\\\"', '\\''), \n",
    "            row['response']),\n",
    "        axis=1\n",
    "        )\n",
    "\n",
    "judge_pred_df.info()\n"
   ]
  },
  {
   "cell_type": "code",
   "execution_count": 30,
   "metadata": {},
   "outputs": [
    {
     "data": {
      "text/plain": [
       "{'pred': 'correct',\n",
       " 'score': 5,\n",
       " 'reason': \"The predicted answer accurately reflects the information (or lack thereof) present in the scene graph. It correctly states that there is no depiction of a man wearing a hat and that the scene graph doesn't show any 'destructive acts.'\"}"
      ]
     },
     "execution_count": 30,
     "metadata": {},
     "output_type": "execute_result"
    }
   ],
   "source": [
    "eval(judge_pred_df.iloc[2113][\"response\"])\n"
   ]
  },
  {
   "cell_type": "code",
   "execution_count": 31,
   "metadata": {},
   "outputs": [],
   "source": [
    "judge_pred_df = judge_pred_df.loc[json_mask]\n"
   ]
  },
  {
   "cell_type": "markdown",
   "metadata": {},
   "source": [
    "## Extract answers"
   ]
  },
  {
   "cell_type": "code",
   "execution_count": 32,
   "metadata": {},
   "outputs": [
    {
     "data": {
      "text/html": [
       "<div>\n",
       "<style scoped>\n",
       "    .dataframe tbody tr th:only-of-type {\n",
       "        vertical-align: middle;\n",
       "    }\n",
       "\n",
       "    .dataframe tbody tr th {\n",
       "        vertical-align: top;\n",
       "    }\n",
       "\n",
       "    .dataframe thead th {\n",
       "        text-align: right;\n",
       "    }\n",
       "</style>\n",
       "<table border=\"1\" class=\"dataframe\">\n",
       "  <thead>\n",
       "    <tr style=\"text-align: right;\">\n",
       "      <th></th>\n",
       "      <th>pred</th>\n",
       "      <th>score</th>\n",
       "      <th>reason</th>\n",
       "    </tr>\n",
       "    <tr>\n",
       "      <th>id</th>\n",
       "      <th></th>\n",
       "      <th></th>\n",
       "      <th></th>\n",
       "    </tr>\n",
       "  </thead>\n",
       "  <tbody>\n",
       "    <tr>\n",
       "      <th>2a49d339-11d1-4c70-b6df-8f3f1e4bbcc0</th>\n",
       "      <td>correct</td>\n",
       "      <td>5</td>\n",
       "      <td>The predicted answer accurately identifies eac...</td>\n",
       "    </tr>\n",
       "    <tr>\n",
       "      <th>b27163c5-d341-475b-8517-54809872081a</th>\n",
       "      <td>correct</td>\n",
       "      <td>5</td>\n",
       "      <td>The predicted answer accurately reflects the g...</td>\n",
       "    </tr>\n",
       "    <tr>\n",
       "      <th>9bce3140-e8e8-49dd-8574-5e961326fb16</th>\n",
       "      <td>incorrect</td>\n",
       "      <td>2</td>\n",
       "      <td>The ground truth answer states that two cones ...</td>\n",
       "    </tr>\n",
       "    <tr>\n",
       "      <th>b8df9fbe-07db-46ab-ba17-3713c1632dbd</th>\n",
       "      <td>incorrect</td>\n",
       "      <td>1</td>\n",
       "      <td>The predicted answer contradicts the ground tr...</td>\n",
       "    </tr>\n",
       "    <tr>\n",
       "      <th>01c30c62-f489-4246-af18-b7b538b4cb9d</th>\n",
       "      <td>correct</td>\n",
       "      <td>5</td>\n",
       "      <td>The predicted answer accurately identifies and...</td>\n",
       "    </tr>\n",
       "    <tr>\n",
       "      <th>...</th>\n",
       "      <td>...</td>\n",
       "      <td>...</td>\n",
       "      <td>...</td>\n",
       "    </tr>\n",
       "    <tr>\n",
       "      <th>4073994c-e4ca-4592-b001-fe0a79ab0e3f</th>\n",
       "      <td>incorrect</td>\n",
       "      <td>2</td>\n",
       "      <td>The ground truth explicitly states that the vi...</td>\n",
       "    </tr>\n",
       "    <tr>\n",
       "      <th>3a158fb7-38cb-49b4-91e8-0cb63d6bf218</th>\n",
       "      <td>incorrect</td>\n",
       "      <td>1</td>\n",
       "      <td>The predicted answer focuses on a series of un...</td>\n",
       "    </tr>\n",
       "    <tr>\n",
       "      <th>247a493d-0d24-4f1b-bbf6-b03e8973b544</th>\n",
       "      <td>incorrect</td>\n",
       "      <td>1</td>\n",
       "      <td>The ground truth states the woman is performin...</td>\n",
       "    </tr>\n",
       "    <tr>\n",
       "      <th>1455f7ec-007a-434e-93d1-6d73b1e3746c</th>\n",
       "      <td>incorrect</td>\n",
       "      <td>2</td>\n",
       "      <td>The question asks about the direction of the c...</td>\n",
       "    </tr>\n",
       "    <tr>\n",
       "      <th>15327727-8c7a-4cde-8b78-557a5ab9bb70</th>\n",
       "      <td>incorrect</td>\n",
       "      <td>1</td>\n",
       "      <td>The question asks about the direction of the c...</td>\n",
       "    </tr>\n",
       "  </tbody>\n",
       "</table>\n",
       "<p>2385 rows × 3 columns</p>\n",
       "</div>"
      ],
      "text/plain": [
       "                                           pred  score  \\\n",
       "id                                                       \n",
       "2a49d339-11d1-4c70-b6df-8f3f1e4bbcc0    correct      5   \n",
       "b27163c5-d341-475b-8517-54809872081a    correct      5   \n",
       "9bce3140-e8e8-49dd-8574-5e961326fb16  incorrect      2   \n",
       "b8df9fbe-07db-46ab-ba17-3713c1632dbd  incorrect      1   \n",
       "01c30c62-f489-4246-af18-b7b538b4cb9d    correct      5   \n",
       "...                                         ...    ...   \n",
       "4073994c-e4ca-4592-b001-fe0a79ab0e3f  incorrect      2   \n",
       "3a158fb7-38cb-49b4-91e8-0cb63d6bf218  incorrect      1   \n",
       "247a493d-0d24-4f1b-bbf6-b03e8973b544  incorrect      1   \n",
       "1455f7ec-007a-434e-93d1-6d73b1e3746c  incorrect      2   \n",
       "15327727-8c7a-4cde-8b78-557a5ab9bb70  incorrect      1   \n",
       "\n",
       "                                                                                 reason  \n",
       "id                                                                                       \n",
       "2a49d339-11d1-4c70-b6df-8f3f1e4bbcc0  The predicted answer accurately identifies eac...  \n",
       "b27163c5-d341-475b-8517-54809872081a  The predicted answer accurately reflects the g...  \n",
       "9bce3140-e8e8-49dd-8574-5e961326fb16  The ground truth answer states that two cones ...  \n",
       "b8df9fbe-07db-46ab-ba17-3713c1632dbd  The predicted answer contradicts the ground tr...  \n",
       "01c30c62-f489-4246-af18-b7b538b4cb9d  The predicted answer accurately identifies and...  \n",
       "...                                                                                 ...  \n",
       "4073994c-e4ca-4592-b001-fe0a79ab0e3f  The ground truth explicitly states that the vi...  \n",
       "3a158fb7-38cb-49b4-91e8-0cb63d6bf218  The predicted answer focuses on a series of un...  \n",
       "247a493d-0d24-4f1b-bbf6-b03e8973b544  The ground truth states the woman is performin...  \n",
       "1455f7ec-007a-434e-93d1-6d73b1e3746c  The question asks about the direction of the c...  \n",
       "15327727-8c7a-4cde-8b78-557a5ab9bb70  The question asks about the direction of the c...  \n",
       "\n",
       "[2385 rows x 3 columns]"
      ]
     },
     "execution_count": 32,
     "metadata": {},
     "output_type": "execute_result"
    }
   ],
   "source": [
    "# Extract pred, score and reason from response dictionary into separate columns\n",
    "judge_pred_df['pred'] = \\\n",
    "    judge_pred_df['response'] \\\n",
    "    .apply(lambda x: eval(x)['pred']) \\\n",
    "    .astype('string') \n",
    "\n",
    "judge_pred_df['score'] = \\\n",
    "    judge_pred_df['response'] \\\n",
    "    .apply(lambda x: int(eval(x)['score'])) \\\n",
    "    .astype('int32')\n",
    "\n",
    "judge_pred_df['reason'] = \\\n",
    "    judge_pred_df['response'] \\\n",
    "    .apply(lambda x: eval(x)['reason']) \\\n",
    "    .astype('string')\n",
    "\n",
    "judge_pred_df.drop('response', axis=1, inplace=True)\n",
    "judge_pred_df\n"
   ]
  },
  {
   "cell_type": "code",
   "execution_count": 33,
   "metadata": {},
   "outputs": [
    {
     "data": {
      "text/plain": [
       "(2385, 3)"
      ]
     },
     "execution_count": 33,
     "metadata": {},
     "output_type": "execute_result"
    }
   ],
   "source": [
    "judge_pred_df.shape\n"
   ]
  },
  {
   "cell_type": "markdown",
   "metadata": {},
   "source": [
    "# Filtering-out answers associated to few *extracted* frames"
   ]
  },
  {
   "cell_type": "code",
   "execution_count": 34,
   "metadata": {},
   "outputs": [],
   "source": [
    "GEN_STSG_50 = WORK_DIR / \"cvrr/generated_stsg_cvrr_maxsample50.jsonl\"\n"
   ]
  },
  {
   "cell_type": "code",
   "execution_count": 35,
   "metadata": {},
   "outputs": [],
   "source": [
    "stsg_data = []\n",
    "with open(GEN_STSG_50, 'r') as f:\n",
    "    stsg_data = [json.loads(line) for line in f]\n"
   ]
  },
  {
   "cell_type": "code",
   "execution_count": 36,
   "metadata": {},
   "outputs": [],
   "source": [
    "def get_highest_frame_number(text):\n",
    "    # Regular expression to match \"Frame dd:\" pattern where dd is one or more digits\n",
    "    frame_pattern = r'Frame\\s+(\\d+):'\n",
    "    \n",
    "    # Find all frame numbers\n",
    "    matches = re.findall(frame_pattern, text)\n",
    "    \n",
    "    if not matches:\n",
    "        return None\n",
    "    \n",
    "    # Convert to integers and return the maximum\n",
    "    frame_numbers = [int(match) for match in matches]\n",
    "    return max(frame_numbers)\n"
   ]
  },
  {
   "cell_type": "code",
   "execution_count": 37,
   "metadata": {},
   "outputs": [
    {
     "data": {
      "text/plain": [
       "20.06217616580311"
      ]
     },
     "execution_count": 37,
     "metadata": {},
     "output_type": "execute_result"
    }
   ],
   "source": [
    "lengths = {}\n",
    "for item in stsg_data:\n",
    "    lengths[item['video_id']] = get_highest_frame_number(item['stsg'])\n",
    "    \n",
    "sum([v for _, v in lengths.items()])/len(lengths)\n"
   ]
  },
  {
   "cell_type": "code",
   "execution_count": 38,
   "metadata": {},
   "outputs": [
    {
     "data": {
      "text/plain": [
       "partial_actions_126                                           2\n",
       "multiple_actions_in_a_single_video_69                        32\n",
       "multiple_actions_in_a_single_video_78                        46\n",
       "multiple_actions_in_a_single_video_79                        31\n",
       "multiple_actions_in_a_single_video_61                        30\n",
       "                                                             ..\n",
       "interpretation_of_social_context_37                           4\n",
       "non_existent_actions_with_existent_scene_depictions_51        1\n",
       "non_existent_actions_with_non_existent_scene_depictions_0     0\n",
       "non_existent_actions_with_non_existent_scene_depictions_6     0\n",
       "partial_actions_122                                           1\n",
       "Length: 193, dtype: int64"
      ]
     },
     "execution_count": 38,
     "metadata": {},
     "output_type": "execute_result"
    }
   ],
   "source": [
    "lengths_se = pd.Series(lengths)\n",
    "lengths_se\n"
   ]
  },
  {
   "cell_type": "code",
   "execution_count": 130,
   "metadata": {},
   "outputs": [
    {
     "data": {
      "text/plain": [
       "np.int64(3)"
      ]
     },
     "execution_count": 130,
     "metadata": {},
     "output_type": "execute_result"
    }
   ],
   "source": [
    "lengths_se.value_counts()[0]\n"
   ]
  },
  {
   "cell_type": "code",
   "execution_count": 122,
   "metadata": {},
   "outputs": [
    {
     "data": {
      "text/plain": [
       "count    193.000000\n",
       "mean      20.062176\n",
       "std       14.713453\n",
       "min        0.000000\n",
       "25%        9.000000\n",
       "50%       15.000000\n",
       "75%       30.000000\n",
       "max       49.000000\n",
       "dtype: float64"
      ]
     },
     "execution_count": 122,
     "metadata": {},
     "output_type": "execute_result"
    }
   ],
   "source": [
    "lengths_se.describe()\n"
   ]
  },
  {
   "cell_type": "code",
   "execution_count": 134,
   "metadata": {},
   "outputs": [
    {
     "data": {
      "image/png": "[encoded data removed]",
      "text/plain": [
       "<Figure size 400x600 with 1 Axes>"
      ]
     },
     "metadata": {},
     "output_type": "display_data"
    }
   ],
   "source": [
    "# Set style for better aesthetics\n",
    "sns.set_style(\"whitegrid\")\n",
    "plt.figure(figsize=(4, 6))\n",
    "\n",
    "# Create the histogram with improved settings\n",
    "ax = sns.histplot(\n",
    "    lengths_se, \n",
    "    bins=5,        # Adds a smoothed density curve\n",
    "    color=\"Blue\",    # Custom color\n",
    "    edgecolor=\"white\",  # Adds clean edges to bars\n",
    "    linewidth=1.2,      # Makes edges slightly thicker\n",
    "    alpha=0.8,          # Adds slight transparency\n",
    ")\n",
    "\n",
    "# Add titles and labels\n",
    "plt.title(\n",
    "    \"Distribution of Video Frame Counts\", \n",
    "    fontsize=16, \n",
    "    pad=20,           # Adds padding above the title\n",
    ")\n",
    "plt.xlabel(\"Number of Frames\", fontsize=12)\n",
    "plt.ylabel(\"Frequency\", fontsize=12)\n",
    "\n",
    "# Customize grid and spines for a cleaner look\n",
    "ax.grid(True, linestyle='--', alpha=0.6)\n",
    "sns.despine(left=True)  # Removes the left spine for minimalism\n",
    "\n",
    "# Add a vertical line for mean/median if useful\n",
    "mean_val = lengths_se.mean()\n",
    "plt.axvline(\n",
    "    mean_val, \n",
    "    color=\"red\", \n",
    "    linestyle=\"--\", \n",
    "    linewidth=1.5, \n",
    "    label=f\"Mean: {mean_val:.1f}\",\n",
    ")\n",
    "plt.legend()\n",
    "\n",
    "plt.tight_layout()  # Prevents label cutoff\n",
    "plt.show()\n"
   ]
  },
  {
   "cell_type": "code",
   "execution_count": 39,
   "metadata": {},
   "outputs": [
    {
     "name": "stdout",
     "output_type": "stream",
     "text": [
      "Number of videos with at least 5 frames: 162\n"
     ]
    }
   ],
   "source": [
    "min_frames = 5\n",
    "\n",
    "print(f\"Number of videos with at least {min_frames} frames: {(lengths_se > 5).sum()}\")\n"
   ]
  },
  {
   "cell_type": "markdown",
   "metadata": {},
   "source": [
    "### Link video information and n_frames to judge_pred_df"
   ]
  },
  {
   "cell_type": "code",
   "execution_count": 40,
   "metadata": {},
   "outputs": [
    {
     "name": "stdout",
     "output_type": "stream",
     "text": [
      "<class 'pandas.core.frame.DataFrame'>\n",
      "Index: 2400 entries, 2a49d339-11d1-4c70-b6df-8f3f1e4bbcc0 to 15327727-8c7a-4cde-8b78-557a5ab9bb70\n",
      "Data columns (total 10 columns):\n",
      " #   Column          Non-Null Count  Dtype \n",
      "---  ------          --------------  ----- \n",
      " 0   dimension_name  2400 non-null   object\n",
      " 1   subset          2400 non-null   object\n",
      " 2   question        2400 non-null   object\n",
      " 3   video_id        2400 non-null   object\n",
      " 4   answer          2400 non-null   object\n",
      " 5   stsg            2087 non-null   object\n",
      " 6   qid             2400 non-null   object\n",
      " 7   prompt          2400 non-null   object\n",
      " 8   gt_answer       2400 non-null   object\n",
      " 9   response        2400 non-null   object\n",
      "dtypes: object(10)\n",
      "memory usage: 206.2+ KB\n"
     ]
    }
   ],
   "source": [
    "cvrr_dataset_df = pd.DataFrame([i for i in judge_cvrr_dataset])\n",
    "cvrr_dataset_df.set_index('question_id', inplace=True)\n",
    "cvrr_dataset_df.info()\n"
   ]
  },
  {
   "cell_type": "code",
   "execution_count": 41,
   "metadata": {},
   "outputs": [
    {
     "name": "stdout",
     "output_type": "stream",
     "text": [
      "<class 'pandas.core.frame.DataFrame'>\n",
      "Index: 2400 entries, 2a49d339-11d1-4c70-b6df-8f3f1e4bbcc0 to 15327727-8c7a-4cde-8b78-557a5ab9bb70\n",
      "Data columns (total 11 columns):\n",
      " #   Column          Non-Null Count  Dtype  \n",
      "---  ------          --------------  -----  \n",
      " 0   dimension_name  2400 non-null   object \n",
      " 1   subset          2400 non-null   object \n",
      " 2   question        2400 non-null   object \n",
      " 3   video_id        2400 non-null   object \n",
      " 4   answer          2400 non-null   object \n",
      " 5   stsg            2087 non-null   object \n",
      " 6   qid             2400 non-null   object \n",
      " 7   prompt          2400 non-null   object \n",
      " 8   gt_answer       2400 non-null   object \n",
      " 9   response        2400 non-null   object \n",
      " 10  n_frames        2087 non-null   float64\n",
      "dtypes: float64(1), object(10)\n",
      "memory usage: 225.0+ KB\n"
     ]
    }
   ],
   "source": [
    "lengths_df = lengths_se.reset_index()\n",
    "lengths_df.columns = ['video_id', 'n_frames']  # Rename columns if needed\n",
    "\n",
    "original_index = cvrr_dataset_df.index\n",
    "cvrr_dataset_df = cvrr_dataset_df.merge(\n",
    "    lengths_df,\n",
    "    on='video_id', \n",
    "    how='left')\n",
    "\n",
    "# need to \n",
    "cvrr_dataset_df.index = original_index\n",
    "cvrr_dataset_df.info()\n"
   ]
  },
  {
   "cell_type": "code",
   "execution_count": 42,
   "metadata": {},
   "outputs": [
    {
     "data": {
      "text/plain": [
       "np.int64(313)"
      ]
     },
     "execution_count": 42,
     "metadata": {},
     "output_type": "execute_result"
    }
   ],
   "source": [
    "cvrr_dataset_df['n_frames'].isna().sum()\n"
   ]
  },
  {
   "cell_type": "code",
   "execution_count": 43,
   "metadata": {},
   "outputs": [
    {
     "name": "stdout",
     "output_type": "stream",
     "text": [
      "<class 'pandas.core.frame.DataFrame'>\n",
      "Index: 2385 entries, 2a49d339-11d1-4c70-b6df-8f3f1e4bbcc0 to 15327727-8c7a-4cde-8b78-557a5ab9bb70\n",
      "Data columns (total 3 columns):\n",
      " #   Column  Non-Null Count  Dtype \n",
      "---  ------  --------------  ----- \n",
      " 0   pred    2385 non-null   string\n",
      " 1   score   2385 non-null   int32 \n",
      " 2   reason  2385 non-null   string\n",
      "dtypes: int32(1), string(2)\n",
      "memory usage: 65.2+ KB\n"
     ]
    }
   ],
   "source": [
    "judge_pred_df.info()\n"
   ]
  },
  {
   "cell_type": "code",
   "execution_count": 44,
   "metadata": {},
   "outputs": [
    {
     "data": {
      "text/plain": [
       "(454, 5)"
      ]
     },
     "execution_count": 44,
     "metadata": {},
     "output_type": "execute_result"
    }
   ],
   "source": [
    "judge_pred_df[['video_id', 'n_frames']] = cvrr_dataset_df[['video_id', 'n_frames']]\n",
    "judge_pred_df[judge_pred_df['n_frames'] > 30].shape\n"
   ]
  },
  {
   "cell_type": "markdown",
   "metadata": {},
   "source": [
    "# Metric values"
   ]
  },
  {
   "cell_type": "code",
   "execution_count": 45,
   "metadata": {},
   "outputs": [
    {
     "name": "stdout",
     "output_type": "stream",
     "text": [
      "\n",
      "Predictions:\n",
      "------------------------------\n",
      "incorrect :  64.89%\n",
      "correct   :  35.11%\n",
      "------------------------------\n"
     ]
    }
   ],
   "source": [
    "min_frames = 5\n",
    "pred_percentages = judge_pred_df[judge_pred_df['n_frames'] > min_frames]['pred'].value_counts(normalize=True) * 100\n",
    "\n",
    "print(\"\\nPredictions:\")\n",
    "print(\"-\" * 30)\n",
    "print(f\"{'incorrect':10}: {pred_percentages['incorrect']:6.2f}%\\n\"\n",
    "      f\"{'correct':10}: {pred_percentages['correct']:6.2f}%\")\n",
    "print(\"-\" * 30)\n"
   ]
  },
  {
   "cell_type": "code",
   "execution_count": 46,
   "metadata": {},
   "outputs": [],
   "source": [
    "n_frames = [i for i in range(0, 31, 5)]\n",
    "data_points_size = []\n",
    "acc_vals = []\n",
    "\n",
    "for frames in n_frames:\n",
    "    mask = judge_pred_df['n_frames'] > frames\n",
    "    data_points_size.append(mask.sum())\n",
    "    \n",
    "    pred_percentages = judge_pred_df[mask]['pred'].value_counts(normalize=True)\n",
    "    acc_vals.append(pred_percentages['correct'])\n"
   ]
  },
  {
   "cell_type": "code",
   "execution_count": null,
   "metadata": {},
   "outputs": [
    {
     "data": {
      "image/png": "[encoded data removed]",
      "text/plain": [
       "<Figure size 640x480 with 2 Axes>"
      ]
     },
     "metadata": {},
     "output_type": "display_data"
    }
   ],
   "source": [
    "_, ax1 = plt.subplots()\n",
    "\n",
    "# Beautiful seaborn-inspired colors\n",
    "primary_color = 'tab:blue'    # Deep blue - very pleasing to the eye\n",
    "secondary_color = 'tab:red'  # Deep magenta/purple - great contrast\n",
    "\n",
    "ax1.set_xlabel(\"Minimum frame threshold\")\n",
    "ax1.set_ylabel(\"# of data points\")\n",
    "line0 = ax1.plot(n_frames, data_points_size, color=fst_color, label='# data points',  linestyle=':', linewidth=3, alpha=0.5)\n",
    "ax1.tick_params(axis='y', labelcolor=primary_color)\n",
    "ax1.set_ylim(bottom=0)\n",
    "\n",
    "ax2 = ax1.twinx()\n",
    "ax2.set_ylabel(\"% of predictions evaluated as correct\")\n",
    "line1 = ax2.plot(n_frames, acc_vals, color=secondary_color, label=\"max 50 frames per video\")\n",
    "ax2.tick_params(axis='y', labelcolor=secondary_color)\n",
    "ax2.set_ylim(bottom=.2)\n",
    "\n",
    "# Add legend to distinguish the two lines on the secondary axis\n",
    "lines = line0 + line1\n",
    "labels = [l.get_label() for l in lines]\n",
    "ax2.legend(lines, labels, loc='lower left')\n",
    "\n",
    "plt.tight_layout()\n",
    "plt.show()\n"
   ]
  },
  {
   "cell_type": "markdown",
   "metadata": {},
   "source": [
    "### Manual inspection"
   ]
  },
  {
   "cell_type": "markdown",
   "metadata": {},
   "source": [
    "Let's analyze some of the answers"
   ]
  },
  {
   "cell_type": "code",
   "execution_count": 48,
   "metadata": {},
   "outputs": [
    {
     "data": {
      "text/html": [
       "<div>\n",
       "<style scoped>\n",
       "    .dataframe tbody tr th:only-of-type {\n",
       "        vertical-align: middle;\n",
       "    }\n",
       "\n",
       "    .dataframe tbody tr th {\n",
       "        vertical-align: top;\n",
       "    }\n",
       "\n",
       "    .dataframe thead th {\n",
       "        text-align: right;\n",
       "    }\n",
       "</style>\n",
       "<table border=\"1\" class=\"dataframe\">\n",
       "  <thead>\n",
       "    <tr style=\"text-align: right;\">\n",
       "      <th></th>\n",
       "      <th>pred</th>\n",
       "      <th>score</th>\n",
       "      <th>reason</th>\n",
       "      <th>video_id</th>\n",
       "      <th>n_frames</th>\n",
       "    </tr>\n",
       "    <tr>\n",
       "      <th>id</th>\n",
       "      <th></th>\n",
       "      <th></th>\n",
       "      <th></th>\n",
       "      <th></th>\n",
       "      <th></th>\n",
       "    </tr>\n",
       "  </thead>\n",
       "  <tbody>\n",
       "    <tr>\n",
       "      <th>2a49d339-11d1-4c70-b6df-8f3f1e4bbcc0</th>\n",
       "      <td>correct</td>\n",
       "      <td>5</td>\n",
       "      <td>The predicted answer accurately identifies eac...</td>\n",
       "      <td>continuity_and_object_instance_count_183</td>\n",
       "      <td>11.0</td>\n",
       "    </tr>\n",
       "    <tr>\n",
       "      <th>b27163c5-d341-475b-8517-54809872081a</th>\n",
       "      <td>correct</td>\n",
       "      <td>5</td>\n",
       "      <td>The predicted answer accurately reflects the g...</td>\n",
       "      <td>continuity_and_object_instance_count_183</td>\n",
       "      <td>11.0</td>\n",
       "    </tr>\n",
       "    <tr>\n",
       "      <th>9bce3140-e8e8-49dd-8574-5e961326fb16</th>\n",
       "      <td>incorrect</td>\n",
       "      <td>2</td>\n",
       "      <td>The ground truth answer states that two cones ...</td>\n",
       "      <td>continuity_and_object_instance_count_183</td>\n",
       "      <td>11.0</td>\n",
       "    </tr>\n",
       "    <tr>\n",
       "      <th>b8df9fbe-07db-46ab-ba17-3713c1632dbd</th>\n",
       "      <td>incorrect</td>\n",
       "      <td>1</td>\n",
       "      <td>The predicted answer contradicts the ground tr...</td>\n",
       "      <td>continuity_and_object_instance_count_183</td>\n",
       "      <td>11.0</td>\n",
       "    </tr>\n",
       "    <tr>\n",
       "      <th>01c30c62-f489-4246-af18-b7b538b4cb9d</th>\n",
       "      <td>correct</td>\n",
       "      <td>5</td>\n",
       "      <td>The predicted answer accurately identifies and...</td>\n",
       "      <td>continuity_and_object_instance_count_183</td>\n",
       "      <td>11.0</td>\n",
       "    </tr>\n",
       "    <tr>\n",
       "      <th>...</th>\n",
       "      <td>...</td>\n",
       "      <td>...</td>\n",
       "      <td>...</td>\n",
       "      <td>...</td>\n",
       "      <td>...</td>\n",
       "    </tr>\n",
       "    <tr>\n",
       "      <th>4073994c-e4ca-4592-b001-fe0a79ab0e3f</th>\n",
       "      <td>incorrect</td>\n",
       "      <td>2</td>\n",
       "      <td>The ground truth explicitly states that the vi...</td>\n",
       "      <td>unusual_and_physically_anomalous_activities_120</td>\n",
       "      <td>8.0</td>\n",
       "    </tr>\n",
       "    <tr>\n",
       "      <th>3a158fb7-38cb-49b4-91e8-0cb63d6bf218</th>\n",
       "      <td>incorrect</td>\n",
       "      <td>1</td>\n",
       "      <td>The predicted answer focuses on a series of un...</td>\n",
       "      <td>unusual_and_physically_anomalous_activities_120</td>\n",
       "      <td>8.0</td>\n",
       "    </tr>\n",
       "    <tr>\n",
       "      <th>247a493d-0d24-4f1b-bbf6-b03e8973b544</th>\n",
       "      <td>incorrect</td>\n",
       "      <td>1</td>\n",
       "      <td>The ground truth states the woman is performin...</td>\n",
       "      <td>unusual_and_physically_anomalous_activities_120</td>\n",
       "      <td>8.0</td>\n",
       "    </tr>\n",
       "    <tr>\n",
       "      <th>1455f7ec-007a-434e-93d1-6d73b1e3746c</th>\n",
       "      <td>incorrect</td>\n",
       "      <td>2</td>\n",
       "      <td>The question asks about the direction of the c...</td>\n",
       "      <td>unusual_and_physically_anomalous_activities_120</td>\n",
       "      <td>8.0</td>\n",
       "    </tr>\n",
       "    <tr>\n",
       "      <th>15327727-8c7a-4cde-8b78-557a5ab9bb70</th>\n",
       "      <td>incorrect</td>\n",
       "      <td>1</td>\n",
       "      <td>The question asks about the direction of the c...</td>\n",
       "      <td>unusual_and_physically_anomalous_activities_120</td>\n",
       "      <td>8.0</td>\n",
       "    </tr>\n",
       "  </tbody>\n",
       "</table>\n",
       "<p>2385 rows × 5 columns</p>\n",
       "</div>"
      ],
      "text/plain": [
       "                                           pred  score  \\\n",
       "id                                                       \n",
       "2a49d339-11d1-4c70-b6df-8f3f1e4bbcc0    correct      5   \n",
       "b27163c5-d341-475b-8517-54809872081a    correct      5   \n",
       "9bce3140-e8e8-49dd-8574-5e961326fb16  incorrect      2   \n",
       "b8df9fbe-07db-46ab-ba17-3713c1632dbd  incorrect      1   \n",
       "01c30c62-f489-4246-af18-b7b538b4cb9d    correct      5   \n",
       "...                                         ...    ...   \n",
       "4073994c-e4ca-4592-b001-fe0a79ab0e3f  incorrect      2   \n",
       "3a158fb7-38cb-49b4-91e8-0cb63d6bf218  incorrect      1   \n",
       "247a493d-0d24-4f1b-bbf6-b03e8973b544  incorrect      1   \n",
       "1455f7ec-007a-434e-93d1-6d73b1e3746c  incorrect      2   \n",
       "15327727-8c7a-4cde-8b78-557a5ab9bb70  incorrect      1   \n",
       "\n",
       "                                                                                 reason  \\\n",
       "id                                                                                        \n",
       "2a49d339-11d1-4c70-b6df-8f3f1e4bbcc0  The predicted answer accurately identifies eac...   \n",
       "b27163c5-d341-475b-8517-54809872081a  The predicted answer accurately reflects the g...   \n",
       "9bce3140-e8e8-49dd-8574-5e961326fb16  The ground truth answer states that two cones ...   \n",
       "b8df9fbe-07db-46ab-ba17-3713c1632dbd  The predicted answer contradicts the ground tr...   \n",
       "01c30c62-f489-4246-af18-b7b538b4cb9d  The predicted answer accurately identifies and...   \n",
       "...                                                                                 ...   \n",
       "4073994c-e4ca-4592-b001-fe0a79ab0e3f  The ground truth explicitly states that the vi...   \n",
       "3a158fb7-38cb-49b4-91e8-0cb63d6bf218  The predicted answer focuses on a series of un...   \n",
       "247a493d-0d24-4f1b-bbf6-b03e8973b544  The ground truth states the woman is performin...   \n",
       "1455f7ec-007a-434e-93d1-6d73b1e3746c  The question asks about the direction of the c...   \n",
       "15327727-8c7a-4cde-8b78-557a5ab9bb70  The question asks about the direction of the c...   \n",
       "\n",
       "                                                                             video_id  \\\n",
       "id                                                                                      \n",
       "2a49d339-11d1-4c70-b6df-8f3f1e4bbcc0         continuity_and_object_instance_count_183   \n",
       "b27163c5-d341-475b-8517-54809872081a         continuity_and_object_instance_count_183   \n",
       "9bce3140-e8e8-49dd-8574-5e961326fb16         continuity_and_object_instance_count_183   \n",
       "b8df9fbe-07db-46ab-ba17-3713c1632dbd         continuity_and_object_instance_count_183   \n",
       "01c30c62-f489-4246-af18-b7b538b4cb9d         continuity_and_object_instance_count_183   \n",
       "...                                                                               ...   \n",
       "4073994c-e4ca-4592-b001-fe0a79ab0e3f  unusual_and_physically_anomalous_activities_120   \n",
       "3a158fb7-38cb-49b4-91e8-0cb63d6bf218  unusual_and_physically_anomalous_activities_120   \n",
       "247a493d-0d24-4f1b-bbf6-b03e8973b544  unusual_and_physically_anomalous_activities_120   \n",
       "1455f7ec-007a-434e-93d1-6d73b1e3746c  unusual_and_physically_anomalous_activities_120   \n",
       "15327727-8c7a-4cde-8b78-557a5ab9bb70  unusual_and_physically_anomalous_activities_120   \n",
       "\n",
       "                                      n_frames  \n",
       "id                                              \n",
       "2a49d339-11d1-4c70-b6df-8f3f1e4bbcc0      11.0  \n",
       "b27163c5-d341-475b-8517-54809872081a      11.0  \n",
       "9bce3140-e8e8-49dd-8574-5e961326fb16      11.0  \n",
       "b8df9fbe-07db-46ab-ba17-3713c1632dbd      11.0  \n",
       "01c30c62-f489-4246-af18-b7b538b4cb9d      11.0  \n",
       "...                                        ...  \n",
       "4073994c-e4ca-4592-b001-fe0a79ab0e3f       8.0  \n",
       "3a158fb7-38cb-49b4-91e8-0cb63d6bf218       8.0  \n",
       "247a493d-0d24-4f1b-bbf6-b03e8973b544       8.0  \n",
       "1455f7ec-007a-434e-93d1-6d73b1e3746c       8.0  \n",
       "15327727-8c7a-4cde-8b78-557a5ab9bb70       8.0  \n",
       "\n",
       "[2385 rows x 5 columns]"
      ]
     },
     "execution_count": 48,
     "metadata": {},
     "output_type": "execute_result"
    }
   ],
   "source": [
    "judge_pred_df\n"
   ]
  },
  {
   "cell_type": "code",
   "execution_count": 49,
   "metadata": {},
   "outputs": [
    {
     "name": "stdout",
     "output_type": "stream",
     "text": [
      "Index: 8360cc82-51c9-4b1e-a8b5-bb5d07e6c5c6\n",
      "Question: Does the cleaner take a break to drink water during the task?\n",
      "\n",
      "Ground truth answer:\n",
      "No, there is no depiction of the cleaner taking a break or drinking water.\n",
      "\n",
      "LLM prediction:\n",
      "Based on the provided scene graph representation, the question \"Does the cleaner take a break to drink water during the task?\" cannot be definitively answered.\n",
      "\n",
      "Here’s why:\n",
      "\n",
      "*   **Lack of Temporal Information:** The scene graph only provides information for two frames (Frame 0 and Frame 1). It doesn't include any temporal data indicating a break or the action of drinking water.\n",
      "*   **No Action of Drinking:** There are no objects, attributes, or relationships that describe someone drinking water. The scene graph focuses on the location of objects and their relationships, but doesn’t capture any actions like taking a break or consuming liquids.\n",
      "*   **Focus on Location:** The scene graph primarily describes the location and arrangement of objects – a young man near a black car and a wall. It doesn’t detail any activities or behaviors.\n",
      "\n",
      "Therefore, while the scene graph provides context about the environment and the presence of a young man, it lacks the necessary information to determine if he takes a break to drink water.\n",
      "\n",
      "Judge evlauation:\n",
      " - verdict: correct\n",
      " - score: 5\n",
      " - reason: The predicted answer accurately identifies the limitations of the scene graph in answering the question. It correctly states that the graph lacks temporal information and the depiction of drinking water, aligning perfectly with the ground truth. The detailed explanation reinforces the correctness of the assessment.\n",
      "\n"
     ]
    }
   ],
   "source": [
    "judged_correct_mask = (judge_pred_df['pred'] == 'correct')\n",
    "idx = \"8360cc82-51c9-4b1e-a8b5-bb5d07e6c5c6\"\n",
    "\n",
    "\n",
    "print(f\"Index: {idx}\")\n",
    "print(f\"Question: {cvrr_dataset_df.loc[idx]['question']}\")\n",
    "print(f\"\\nGround truth answer:\\n{cvrr_dataset_df.loc[idx]['answer']}\")\n",
    "print(f\"\\nLLM prediction:\\n{ans_df.loc[idx]['text']}\")\n",
    "print(f\"\\nJudge evlauation:\\n\"\n",
    "      f\" - verdict: {judge_pred_df.loc[idx]['pred']}\\n\"\n",
    "      f\" - score: {judge_pred_df.loc[idx]['score']}\\n\"\n",
    "      f\" - reason: {judge_pred_df.loc[idx]['reason']}\\n\")\n"
   ]
  },
  {
   "cell_type": "markdown",
   "metadata": {},
   "source": [
    "### Distribution of confidence score"
   ]
  },
  {
   "cell_type": "code",
   "execution_count": 50,
   "metadata": {},
   "outputs": [
    {
     "data": {
      "image/png": "[encoded data removed]",
      "text/plain": [
       "<Figure size 800x600 with 1 Axes>"
      ]
     },
     "metadata": {},
     "output_type": "display_data"
    }
   ],
   "source": [
    "# Let's see the score distribution for all the predictions\n",
    "\n",
    "plt.figure(figsize=(8, 6))\n",
    "sns.histplot(data=judge_pred_df['score'], discrete=True)\n",
    "plt.title('Distribution of Judge Scores')\n",
    "plt.xlabel('Score')\n",
    "plt.ylabel('Count')\n",
    "plt.show()\n"
   ]
  },
  {
   "cell_type": "markdown",
   "metadata": {},
   "source": [
    "# Loading evaluation on 5 frames"
   ]
  },
  {
   "cell_type": "code",
   "execution_count": 51,
   "metadata": {},
   "outputs": [],
   "source": [
    "judge_pred_df_50samples = judge_pred_df\n"
   ]
  },
  {
   "cell_type": "markdown",
   "metadata": {},
   "source": [
    "## Loading the the Judge evaluation\n",
    "\n",
    "Now we load the judge evaluation on the responses of the perdictor model. The set of responses are saved in two different files. `llama8b_as_judge_wrong.jsonl` contains the responses that were classified as incorrect by the method with the method extraction, `llama8b_as_judge_correct.jsonl` contains the responses classified as correct.  \n",
    "These two files contains only the responses for which it was able to extract an answer with the regex."
   ]
  },
  {
   "cell_type": "code",
   "execution_count": 52,
   "metadata": {},
   "outputs": [
    {
     "name": "stdout",
     "output_type": "stream",
     "text": [
      "<class 'pandas.core.frame.DataFrame'>\n",
      "Index: 2400 entries, 2a49d339-11d1-4c70-b6df-8f3f1e4bbcc0 to 15327727-8c7a-4cde-8b78-557a5ab9bb70\n",
      "Data columns (total 1 columns):\n",
      " #   Column    Non-Null Count  Dtype \n",
      "---  ------    --------------  ----- \n",
      " 0   response  2400 non-null   object\n",
      "dtypes: object(1)\n",
      "memory usage: 37.5+ KB\n"
     ]
    }
   ],
   "source": [
    "# Load the scores for the wrong answers\n",
    "predictions = []\n",
    "with open(WORK_DIR / \"cvrr/cvrr_val_judge_evaluation.jsonl\", 'r', encoding='utf-8') as f:\n",
    "    predictions = [json.loads(line) for line in f.readlines()]\n",
    "\n",
    "# Extract pred, score and reason from response dictionary into separate columns\n",
    "judge_pred_df = pd.DataFrame(predictions).rename(columns={'qid':'id'})\n",
    "judge_pred_df.set_index('id', inplace=True)\n",
    "judge_pred_df.info()\n"
   ]
  },
  {
   "cell_type": "markdown",
   "metadata": {},
   "source": [
    "## Handle formatting issues"
   ]
  },
  {
   "cell_type": "markdown",
   "metadata": {},
   "source": [
    "For Gemma we need to be more careful becuase the format is different, it encapsulated the json output in the with the tokens: \n",
    "```\n",
    "```json\\n\n",
    "<actual_answer>\n",
    "\\n```\n",
    "```"
   ]
  },
  {
   "cell_type": "code",
   "execution_count": 53,
   "metadata": {},
   "outputs": [
    {
     "name": "stdout",
     "output_type": "stream",
     "text": [
      "Total answers: 2400\n",
      "Answers following JSON template: 2392\n",
      "Percentage following JSON template: 99.67%\n"
     ]
    }
   ],
   "source": [
    "\n",
    "# Create mask for answers that follow JSON syntax\n",
    "json_mask = judge_pred_df['response'].str.match(r'^(```json\\s)?({[^}]+})(\\s```)?$')\n",
    "matches_json_template = json_mask.sum()\n",
    "\n",
    "print(f\"Total answers: {len(judge_pred_df)}\")\n",
    "print(f\"Answers following JSON template: {matches_json_template}\")\n",
    "print(f\"Percentage following JSON template: {(matches_json_template/len(judge_pred_df))*100:.2f}%\")\n"
   ]
  },
  {
   "cell_type": "code",
   "execution_count": 54,
   "metadata": {},
   "outputs": [
    {
     "name": "stdout",
     "output_type": "stream",
     "text": [
      "<class 'pandas.core.frame.DataFrame'>\n",
      "Index: 2392 entries, 2a49d339-11d1-4c70-b6df-8f3f1e4bbcc0 to 15327727-8c7a-4cde-8b78-557a5ab9bb70\n",
      "Data columns (total 1 columns):\n",
      " #   Column    Non-Null Count  Dtype \n",
      "---  ------    --------------  ----- \n",
      " 0   response  2392 non-null   object\n",
      "dtypes: object(1)\n",
      "memory usage: 37.4+ KB\n"
     ]
    }
   ],
   "source": [
    "judge_pred_df.loc[json_mask, 'response'] = \\\n",
    "    judge_pred_df.loc[json_mask, 'response'] \\\n",
    "    .apply(lambda x: re.search(r'^(?:```json\\s)?({[^}]+})(?:\\s```)?$', x).group(1))\n",
    "\n",
    "judge_pred_df.loc[~json_mask, 'response'] = \"\"\n",
    "judge_pred_df = judge_pred_df.loc[json_mask]\n",
    "judge_pred_df.info()\n"
   ]
  },
  {
   "cell_type": "code",
   "execution_count": 55,
   "metadata": {},
   "outputs": [],
   "source": [
    "# Replace new line (lead to EOF Errors) with whitespace\n",
    "judge_pred_df['response'] = \\\n",
    "    judge_pred_df['response'].str.replace('\\n+', ' ', regex=True)\n",
    "\n",
    "# Replace lef and right quotation mark with simple quotation mark\n",
    "judge_pred_df['response'] = \\\n",
    "    judge_pred_df['response'].str.replace('[\\u2018-\\u201b]', '\\'', regex=True)\n",
    "judge_pred_df['response'] = \\\n",
    "    judge_pred_df['response'].str.replace('[\\u201c\\u201d]', '\"', regex=True)\n",
    "# ------------------ Removing inner double quotes --------------------\n",
    "# It may happen that the text may contain inner double quotes before the\n",
    "# attribute end. This will cause the parser to termiate early and spout\n",
    "# errors for the remaining text. With this snippet we replace those inner\n",
    "# double quotes with single quotes.\n",
    "#  \n",
    "# we first match the text of the reason paramter inside the double quotes\n",
    "# then we escape/replace all the double quotes inside the text\n",
    "inside_doublequotes = r\"(?<=\\\"reason\\\": \\\")(.*)(?=\\\"(?:,|}))\"\n",
    "\n",
    "judge_pred_df['response'] = \\\n",
    "    judge_pred_df.apply(\n",
    "        func=lambda row: re.sub(\n",
    "            inside_doublequotes, \n",
    "            lambda matchobj: matchobj.group(0).replace('\\\"', ''), \n",
    "            row['response']),\n",
    "        axis=1\n",
    "        )\n"
   ]
  },
  {
   "cell_type": "code",
   "execution_count": 56,
   "metadata": {},
   "outputs": [
    {
     "name": "stdout",
     "output_type": "stream",
     "text": [
      "<class 'pandas.core.frame.DataFrame'>\n",
      "Index: 2392 entries, 2a49d339-11d1-4c70-b6df-8f3f1e4bbcc0 to 15327727-8c7a-4cde-8b78-557a5ab9bb70\n",
      "Data columns (total 1 columns):\n",
      " #   Column    Non-Null Count  Dtype \n",
      "---  ------    --------------  ----- \n",
      " 0   response  2392 non-null   object\n",
      "dtypes: object(1)\n",
      "memory usage: 37.4+ KB\n"
     ]
    }
   ],
   "source": [
    "# sometimes the model writes outside the {...} bounderies\n",
    "# let's keep only the relevant part\n",
    "judge_pred_df['response'] = \\\n",
    "    judge_pred_df.apply(\n",
    "        func=lambda row: re.sub(\n",
    "            r\"(\\{.*\\})(.*)\", \n",
    "            r\"\\1\", \n",
    "            row['response']),\n",
    "        axis=1\n",
    "        )\n",
    "    \n",
    "# some times the model starts the answer with \\\" but then terminates it with \\'\n",
    "judge_pred_df['response'] = \\\n",
    "    judge_pred_df.apply(\n",
    "        func=lambda row: re.sub( \n",
    "            r\"(?<=\\'reason\\':)\\s+\\\"(.*)\\'\\s*(?=})\", \n",
    "            lambda matchobj:\"\\\"\" + matchobj.group(1) + \"\\\"\", \n",
    "            row['response']),\n",
    "        axis=1\n",
    "        )\n",
    "    \n",
    "# some times the model starts the answer with \\' but then terminates it with \\\"\n",
    "judge_pred_df['response'] = \\\n",
    "    judge_pred_df.apply(\n",
    "        func=lambda row: re.sub( \n",
    "            r\"(?<=\\'reason\\':)\\s+\\'(.*)\\\"\\s*(?=})\", \n",
    "            lambda matchobj:\"\\\"\" + matchobj.group(1) + \"\\\"\", \n",
    "            row['response']),\n",
    "        axis=1\n",
    "        )\n",
    "\n",
    "    \n",
    "# some times the model is enclosed by \\' \\'\n",
    "judge_pred_df['response'] = \\\n",
    "    judge_pred_df.apply(\n",
    "        func=lambda row: re.sub(\n",
    "            r\"(?<=\\'reason\\':)\\s+\\'(.*)\\'\\s*(?=})\", \n",
    "            lambda matchobj: \"\\\"\" + matchobj.group(1)+ \"\\\"\", \n",
    "            row['response']),\n",
    "        axis=1\n",
    "        )\n",
    "    \n",
    "\n",
    "\n",
    "# ------------------ Removing inner double quotes --------------------\n",
    "# It may happen that the text may contain inner double quotes before the\n",
    "# attribute end. This will cause the parser to termiate early and spout\n",
    "# errors for the remaining text. With this snippet we replace those inner\n",
    "# double quotes with single quotes.\n",
    "#  \n",
    "# we first match the text of the reason paramter inside the double quotes\n",
    "# then we escape/replace all the double quotes inside the text\n",
    "inside_doublequotes = r\"(\\'reason\\':\\s*\\\")(.*)(?=\\\"(?:,|}))\"\n",
    "\n",
    "judge_pred_df['response'] = \\\n",
    "    judge_pred_df.apply(\n",
    "        func=lambda row: re.sub(\n",
    "            inside_doublequotes, \n",
    "            lambda matchobj: matchobj.group(1) + matchobj.group(2).replace('\\\"', ''), \n",
    "            row['response']),\n",
    "        axis=1\n",
    "        )\n",
    "\n",
    "judge_pred_df.info()\n"
   ]
  },
  {
   "cell_type": "markdown",
   "metadata": {},
   "source": [
    "## Extract answers"
   ]
  },
  {
   "cell_type": "code",
   "execution_count": 57,
   "metadata": {},
   "outputs": [
    {
     "data": {
      "text/html": [
       "<div>\n",
       "<style scoped>\n",
       "    .dataframe tbody tr th:only-of-type {\n",
       "        vertical-align: middle;\n",
       "    }\n",
       "\n",
       "    .dataframe tbody tr th {\n",
       "        vertical-align: top;\n",
       "    }\n",
       "\n",
       "    .dataframe thead th {\n",
       "        text-align: right;\n",
       "    }\n",
       "</style>\n",
       "<table border=\"1\" class=\"dataframe\">\n",
       "  <thead>\n",
       "    <tr style=\"text-align: right;\">\n",
       "      <th></th>\n",
       "      <th>pred</th>\n",
       "      <th>score</th>\n",
       "      <th>reason</th>\n",
       "    </tr>\n",
       "    <tr>\n",
       "      <th>id</th>\n",
       "      <th></th>\n",
       "      <th></th>\n",
       "      <th></th>\n",
       "    </tr>\n",
       "  </thead>\n",
       "  <tbody>\n",
       "    <tr>\n",
       "      <th>2a49d339-11d1-4c70-b6df-8f3f1e4bbcc0</th>\n",
       "      <td>incorrect</td>\n",
       "      <td>2</td>\n",
       "      <td>The predicted answer incorrectly states the go...</td>\n",
       "    </tr>\n",
       "    <tr>\n",
       "      <th>b27163c5-d341-475b-8517-54809872081a</th>\n",
       "      <td>correct</td>\n",
       "      <td>5</td>\n",
       "      <td>The predicted answer accurately reflects the i...</td>\n",
       "    </tr>\n",
       "    <tr>\n",
       "      <th>9bce3140-e8e8-49dd-8574-5e961326fb16</th>\n",
       "      <td>incorrect</td>\n",
       "      <td>2</td>\n",
       "      <td>The predicted answer provides a detailed break...</td>\n",
       "    </tr>\n",
       "    <tr>\n",
       "      <th>b8df9fbe-07db-46ab-ba17-3713c1632dbd</th>\n",
       "      <td>incorrect</td>\n",
       "      <td>1</td>\n",
       "      <td>The predicted answer contradicts the ground tr...</td>\n",
       "    </tr>\n",
       "    <tr>\n",
       "      <th>01c30c62-f489-4246-af18-b7b538b4cb9d</th>\n",
       "      <td>correct</td>\n",
       "      <td>5</td>\n",
       "      <td>The predicted answer accurately identifies and...</td>\n",
       "    </tr>\n",
       "    <tr>\n",
       "      <th>...</th>\n",
       "      <td>...</td>\n",
       "      <td>...</td>\n",
       "      <td>...</td>\n",
       "    </tr>\n",
       "    <tr>\n",
       "      <th>4073994c-e4ca-4592-b001-fe0a79ab0e3f</th>\n",
       "      <td>incorrect</td>\n",
       "      <td>1</td>\n",
       "      <td>The ground truth explicitly states that the vi...</td>\n",
       "    </tr>\n",
       "    <tr>\n",
       "      <th>3a158fb7-38cb-49b4-91e8-0cb63d6bf218</th>\n",
       "      <td>incorrect</td>\n",
       "      <td>1</td>\n",
       "      <td>The predicted answer provides a detailed break...</td>\n",
       "    </tr>\n",
       "    <tr>\n",
       "      <th>247a493d-0d24-4f1b-bbf6-b03e8973b544</th>\n",
       "      <td>incorrect</td>\n",
       "      <td>2</td>\n",
       "      <td>The ground truth states the woman is performin...</td>\n",
       "    </tr>\n",
       "    <tr>\n",
       "      <th>1455f7ec-007a-434e-93d1-6d73b1e3746c</th>\n",
       "      <td>incorrect</td>\n",
       "      <td>1</td>\n",
       "      <td>The question asks about the direction of movem...</td>\n",
       "    </tr>\n",
       "    <tr>\n",
       "      <th>15327727-8c7a-4cde-8b78-557a5ab9bb70</th>\n",
       "      <td>incorrect</td>\n",
       "      <td>2</td>\n",
       "      <td>The question asks about the direction of the c...</td>\n",
       "    </tr>\n",
       "  </tbody>\n",
       "</table>\n",
       "<p>2392 rows × 3 columns</p>\n",
       "</div>"
      ],
      "text/plain": [
       "                                           pred  score  \\\n",
       "id                                                       \n",
       "2a49d339-11d1-4c70-b6df-8f3f1e4bbcc0  incorrect      2   \n",
       "b27163c5-d341-475b-8517-54809872081a    correct      5   \n",
       "9bce3140-e8e8-49dd-8574-5e961326fb16  incorrect      2   \n",
       "b8df9fbe-07db-46ab-ba17-3713c1632dbd  incorrect      1   \n",
       "01c30c62-f489-4246-af18-b7b538b4cb9d    correct      5   \n",
       "...                                         ...    ...   \n",
       "4073994c-e4ca-4592-b001-fe0a79ab0e3f  incorrect      1   \n",
       "3a158fb7-38cb-49b4-91e8-0cb63d6bf218  incorrect      1   \n",
       "247a493d-0d24-4f1b-bbf6-b03e8973b544  incorrect      2   \n",
       "1455f7ec-007a-434e-93d1-6d73b1e3746c  incorrect      1   \n",
       "15327727-8c7a-4cde-8b78-557a5ab9bb70  incorrect      2   \n",
       "\n",
       "                                                                                 reason  \n",
       "id                                                                                       \n",
       "2a49d339-11d1-4c70-b6df-8f3f1e4bbcc0  The predicted answer incorrectly states the go...  \n",
       "b27163c5-d341-475b-8517-54809872081a  The predicted answer accurately reflects the i...  \n",
       "9bce3140-e8e8-49dd-8574-5e961326fb16  The predicted answer provides a detailed break...  \n",
       "b8df9fbe-07db-46ab-ba17-3713c1632dbd  The predicted answer contradicts the ground tr...  \n",
       "01c30c62-f489-4246-af18-b7b538b4cb9d  The predicted answer accurately identifies and...  \n",
       "...                                                                                 ...  \n",
       "4073994c-e4ca-4592-b001-fe0a79ab0e3f  The ground truth explicitly states that the vi...  \n",
       "3a158fb7-38cb-49b4-91e8-0cb63d6bf218  The predicted answer provides a detailed break...  \n",
       "247a493d-0d24-4f1b-bbf6-b03e8973b544  The ground truth states the woman is performin...  \n",
       "1455f7ec-007a-434e-93d1-6d73b1e3746c  The question asks about the direction of movem...  \n",
       "15327727-8c7a-4cde-8b78-557a5ab9bb70  The question asks about the direction of the c...  \n",
       "\n",
       "[2392 rows x 3 columns]"
      ]
     },
     "execution_count": 57,
     "metadata": {},
     "output_type": "execute_result"
    }
   ],
   "source": [
    "# Extract pred, score and reason from response dictionary into separate columns\n",
    "judge_pred_df['pred'] = \\\n",
    "    judge_pred_df['response'] \\\n",
    "    .apply(lambda x: eval(x)['pred']) \\\n",
    "    .astype('string') \n",
    "\n",
    "judge_pred_df['score'] = \\\n",
    "    judge_pred_df['response'] \\\n",
    "    .apply(lambda x: int(eval(x)['score'])) \\\n",
    "    .astype('int32')\n",
    "\n",
    "judge_pred_df['reason'] = \\\n",
    "    judge_pred_df['response'] \\\n",
    "    .apply(lambda x: eval(x)['reason']) \\\n",
    "    .astype('string')\n",
    "\n",
    "judge_pred_df.drop('response', axis=1, inplace=True)\n",
    "judge_pred_df\n"
   ]
  },
  {
   "cell_type": "code",
   "execution_count": 58,
   "metadata": {},
   "outputs": [
    {
     "data": {
      "text/html": [
       "<div>\n",
       "<style scoped>\n",
       "    .dataframe tbody tr th:only-of-type {\n",
       "        vertical-align: middle;\n",
       "    }\n",
       "\n",
       "    .dataframe tbody tr th {\n",
       "        vertical-align: top;\n",
       "    }\n",
       "\n",
       "    .dataframe thead th {\n",
       "        text-align: right;\n",
       "    }\n",
       "</style>\n",
       "<table border=\"1\" class=\"dataframe\">\n",
       "  <thead>\n",
       "    <tr style=\"text-align: right;\">\n",
       "      <th></th>\n",
       "      <th>pred</th>\n",
       "      <th>score</th>\n",
       "      <th>reason</th>\n",
       "    </tr>\n",
       "    <tr>\n",
       "      <th>id</th>\n",
       "      <th></th>\n",
       "      <th></th>\n",
       "      <th></th>\n",
       "    </tr>\n",
       "  </thead>\n",
       "  <tbody>\n",
       "    <tr>\n",
       "      <th>2a49d339-11d1-4c70-b6df-8f3f1e4bbcc0</th>\n",
       "      <td>incorrect</td>\n",
       "      <td>2</td>\n",
       "      <td>The predicted answer incorrectly states the go...</td>\n",
       "    </tr>\n",
       "    <tr>\n",
       "      <th>b27163c5-d341-475b-8517-54809872081a</th>\n",
       "      <td>correct</td>\n",
       "      <td>5</td>\n",
       "      <td>The predicted answer accurately reflects the i...</td>\n",
       "    </tr>\n",
       "    <tr>\n",
       "      <th>9bce3140-e8e8-49dd-8574-5e961326fb16</th>\n",
       "      <td>incorrect</td>\n",
       "      <td>2</td>\n",
       "      <td>The predicted answer provides a detailed break...</td>\n",
       "    </tr>\n",
       "    <tr>\n",
       "      <th>b8df9fbe-07db-46ab-ba17-3713c1632dbd</th>\n",
       "      <td>incorrect</td>\n",
       "      <td>1</td>\n",
       "      <td>The predicted answer contradicts the ground tr...</td>\n",
       "    </tr>\n",
       "    <tr>\n",
       "      <th>01c30c62-f489-4246-af18-b7b538b4cb9d</th>\n",
       "      <td>correct</td>\n",
       "      <td>5</td>\n",
       "      <td>The predicted answer accurately identifies and...</td>\n",
       "    </tr>\n",
       "    <tr>\n",
       "      <th>...</th>\n",
       "      <td>...</td>\n",
       "      <td>...</td>\n",
       "      <td>...</td>\n",
       "    </tr>\n",
       "    <tr>\n",
       "      <th>4073994c-e4ca-4592-b001-fe0a79ab0e3f</th>\n",
       "      <td>incorrect</td>\n",
       "      <td>1</td>\n",
       "      <td>The ground truth explicitly states that the vi...</td>\n",
       "    </tr>\n",
       "    <tr>\n",
       "      <th>3a158fb7-38cb-49b4-91e8-0cb63d6bf218</th>\n",
       "      <td>incorrect</td>\n",
       "      <td>1</td>\n",
       "      <td>The predicted answer provides a detailed break...</td>\n",
       "    </tr>\n",
       "    <tr>\n",
       "      <th>247a493d-0d24-4f1b-bbf6-b03e8973b544</th>\n",
       "      <td>incorrect</td>\n",
       "      <td>2</td>\n",
       "      <td>The ground truth states the woman is performin...</td>\n",
       "    </tr>\n",
       "    <tr>\n",
       "      <th>1455f7ec-007a-434e-93d1-6d73b1e3746c</th>\n",
       "      <td>incorrect</td>\n",
       "      <td>1</td>\n",
       "      <td>The question asks about the direction of movem...</td>\n",
       "    </tr>\n",
       "    <tr>\n",
       "      <th>15327727-8c7a-4cde-8b78-557a5ab9bb70</th>\n",
       "      <td>incorrect</td>\n",
       "      <td>2</td>\n",
       "      <td>The question asks about the direction of the c...</td>\n",
       "    </tr>\n",
       "  </tbody>\n",
       "</table>\n",
       "<p>2392 rows × 3 columns</p>\n",
       "</div>"
      ],
      "text/plain": [
       "                                           pred  score  \\\n",
       "id                                                       \n",
       "2a49d339-11d1-4c70-b6df-8f3f1e4bbcc0  incorrect      2   \n",
       "b27163c5-d341-475b-8517-54809872081a    correct      5   \n",
       "9bce3140-e8e8-49dd-8574-5e961326fb16  incorrect      2   \n",
       "b8df9fbe-07db-46ab-ba17-3713c1632dbd  incorrect      1   \n",
       "01c30c62-f489-4246-af18-b7b538b4cb9d    correct      5   \n",
       "...                                         ...    ...   \n",
       "4073994c-e4ca-4592-b001-fe0a79ab0e3f  incorrect      1   \n",
       "3a158fb7-38cb-49b4-91e8-0cb63d6bf218  incorrect      1   \n",
       "247a493d-0d24-4f1b-bbf6-b03e8973b544  incorrect      2   \n",
       "1455f7ec-007a-434e-93d1-6d73b1e3746c  incorrect      1   \n",
       "15327727-8c7a-4cde-8b78-557a5ab9bb70  incorrect      2   \n",
       "\n",
       "                                                                                 reason  \n",
       "id                                                                                       \n",
       "2a49d339-11d1-4c70-b6df-8f3f1e4bbcc0  The predicted answer incorrectly states the go...  \n",
       "b27163c5-d341-475b-8517-54809872081a  The predicted answer accurately reflects the i...  \n",
       "9bce3140-e8e8-49dd-8574-5e961326fb16  The predicted answer provides a detailed break...  \n",
       "b8df9fbe-07db-46ab-ba17-3713c1632dbd  The predicted answer contradicts the ground tr...  \n",
       "01c30c62-f489-4246-af18-b7b538b4cb9d  The predicted answer accurately identifies and...  \n",
       "...                                                                                 ...  \n",
       "4073994c-e4ca-4592-b001-fe0a79ab0e3f  The ground truth explicitly states that the vi...  \n",
       "3a158fb7-38cb-49b4-91e8-0cb63d6bf218  The predicted answer provides a detailed break...  \n",
       "247a493d-0d24-4f1b-bbf6-b03e8973b544  The ground truth states the woman is performin...  \n",
       "1455f7ec-007a-434e-93d1-6d73b1e3746c  The question asks about the direction of movem...  \n",
       "15327727-8c7a-4cde-8b78-557a5ab9bb70  The question asks about the direction of the c...  \n",
       "\n",
       "[2392 rows x 3 columns]"
      ]
     },
     "execution_count": 58,
     "metadata": {},
     "output_type": "execute_result"
    }
   ],
   "source": [
    "judge_pred_df\n"
   ]
  },
  {
   "cell_type": "code",
   "execution_count": 59,
   "metadata": {},
   "outputs": [
    {
     "data": {
      "text/plain": [
       "(2392, 3)"
      ]
     },
     "execution_count": 59,
     "metadata": {},
     "output_type": "execute_result"
    }
   ],
   "source": [
    "judge_pred_df.shape\n"
   ]
  },
  {
   "cell_type": "markdown",
   "metadata": {},
   "source": [
    "# Metric values"
   ]
  },
  {
   "cell_type": "code",
   "execution_count": 69,
   "metadata": {},
   "outputs": [
    {
     "data": {
      "text/plain": [
       "(455, 5)"
      ]
     },
     "execution_count": 69,
     "metadata": {},
     "output_type": "execute_result"
    }
   ],
   "source": [
    "judge_pred_df[['video_id', 'n_frames']] = cvrr_dataset_df[['video_id', 'n_frames']]\n",
    "judge_pred_df[judge_pred_df['n_frames'] > 30].shape\n"
   ]
  },
  {
   "cell_type": "code",
   "execution_count": 62,
   "metadata": {},
   "outputs": [
    {
     "name": "stdout",
     "output_type": "stream",
     "text": [
      "\n",
      "Predictions:\n",
      "------------------------------\n",
      "incorrect :  58.21%\n",
      "correct   :  41.79%\n",
      "------------------------------\n"
     ]
    }
   ],
   "source": [
    "min_frames = 5\n",
    "pred_percentages = judge_pred_df[judge_pred_df['n_frames'] > min_frames]['pred'].value_counts(normalize=True) * 100\n",
    "\n",
    "print(\"\\nPredictions:\")\n",
    "print(\"-\" * 30)\n",
    "print(f\"{'incorrect':10}: {pred_percentages['incorrect']:6.2f}%\\n\"\n",
    "      f\"{'correct':10}: {pred_percentages['correct']:6.2f}%\")\n",
    "print(\"-\" * 30)\n"
   ]
  },
  {
   "cell_type": "code",
   "execution_count": 75,
   "metadata": {},
   "outputs": [],
   "source": [
    "n_frames = [i for i in range(0, 31, 5)]\n",
    "data_points_size = []\n",
    "acc_vals = []\n",
    "\n",
    "for frames in n_frames:\n",
    "    mask = judge_pred_df['n_frames'] > frames\n",
    "    data_points_size.append(mask.sum())\n",
    "    \n",
    "    pred_percentages = judge_pred_df[mask]['pred'].value_counts(normalize=True)\n",
    "    acc_vals.append(pred_percentages['correct'])\n"
   ]
  },
  {
   "cell_type": "code",
   "execution_count": 70,
   "metadata": {},
   "outputs": [],
   "source": [
    "acc_vals_50 = []\n",
    "\n",
    "for frames in n_frames:\n",
    "    mask = judge_pred_df_50samples['n_frames'] > frames\n",
    "\n",
    "    pred_percentages = judge_pred_df_50samples[mask]['pred'].value_counts(normalize=True)\n",
    "    acc_vals_50.append(pred_percentages['correct'])\n"
   ]
  },
  {
   "cell_type": "code",
   "execution_count": 117,
   "metadata": {},
   "outputs": [
    {
     "data": {
      "image/png": "[encoded data removed]",
      "text/plain": [
       "<Figure size 640x480 with 2 Axes>"
      ]
     },
     "metadata": {},
     "output_type": "display_data"
    }
   ],
   "source": [
    "_, ax1 = plt.subplots()\n",
    "\n",
    "# Beautiful seaborn-inspired colors\n",
    "primary_color = 'tab:blue'    # Deep blue - very pleasing to the eye\n",
    "secondary_color = 'tab:red'   # For first line on secondary axis\n",
    "tertiary_color = 'tab:green'  # For second line on secondary axis (added new color)\n",
    "\n",
    "# Primary axis (left)\n",
    "ax1.set_xlabel(\"Minimum frame threshold\")\n",
    "ax1.set_ylabel(\"# of data points\")\n",
    "line0 = ax1.plot(n_frames, data_points_size, color=fst_color, label='# data points',  linestyle=':', linewidth=3, alpha=0.5)\n",
    "ax1.tick_params(axis='y')\n",
    "ax1.set_ylim(bottom=0)\n",
    "\n",
    "# Secondary axis (right)\n",
    "ax2 = ax1.twinx()\n",
    "ax2.set_ylabel(\"% of predictions evaluated as correct\")\n",
    "\n",
    "# Plot both lines on the secondary axis\n",
    "line1 = ax2.plot(n_frames, acc_vals_50, color=secondary_color, label='max 50 frames per video')\n",
    "line2 = ax2.plot(n_frames, acc_vals, color=tertiary_color, label='5 frames per video')  # Add your actual threshold here\n",
    "\n",
    "ax2.tick_params(axis='y')  # Don't need labelcolor if both lines use the same axis\n",
    "ax2.set_ylim(bottom=.2)\n",
    "\n",
    "# Add legend to distinguish the two lines on the secondary axis\n",
    "lines = line0 + line1 + line2\n",
    "labels = [l.get_label() for l in lines]\n",
    "ax2.legend(lines, labels, loc='lower left')\n",
    "\n",
    "plt.tight_layout()\n",
    "plt.show()\n"
   ]
  },
  {
   "cell_type": "markdown",
   "metadata": {},
   "source": [
    "# Load Judge evaluation with our prompt"
   ]
  },
  {
   "cell_type": "code",
   "execution_count": 82,
   "metadata": {},
   "outputs": [],
   "source": [
    "judge_pred_df_5samples = judge_pred_df\n"
   ]
  },
  {
   "cell_type": "markdown",
   "metadata": {},
   "source": [
    "## Loading the the Judge evaluation\n",
    "\n",
    "Now we load the judge evaluation on the responses of the perdictor model. The set of responses are saved in two different files. `llama8b_as_judge_wrong.jsonl` contains the responses that were classified as incorrect by the method with the method extraction, `llama8b_as_judge_correct.jsonl` contains the responses classified as correct.  \n",
    "These two files contains only the responses for which it was able to extract an answer with the regex."
   ]
  },
  {
   "cell_type": "code",
   "execution_count": 83,
   "metadata": {},
   "outputs": [
    {
     "name": "stdout",
     "output_type": "stream",
     "text": [
      "<class 'pandas.core.frame.DataFrame'>\n",
      "Index: 2400 entries, 2a49d339-11d1-4c70-b6df-8f3f1e4bbcc0 to 15327727-8c7a-4cde-8b78-557a5ab9bb70\n",
      "Data columns (total 1 columns):\n",
      " #   Column    Non-Null Count  Dtype \n",
      "---  ------    --------------  ----- \n",
      " 0   response  2400 non-null   object\n",
      "dtypes: object(1)\n",
      "memory usage: 37.5+ KB\n"
     ]
    }
   ],
   "source": [
    "# Load the scores for the wrong answers\n",
    "predictions = []\n",
    "with open(WORK_DIR / \"cvrr/our_judge_eval_maxsample50.jsonl\", 'r', encoding='utf-8') as f:\n",
    "    predictions = [json.loads(line) for line in f.readlines()]\n",
    "\n",
    "# Extract pred, score and reason from response dictionary into separate columns\n",
    "judge_pred_df = pd.DataFrame(predictions).rename(columns={'qid':'id'})\n",
    "judge_pred_df.set_index('id', inplace=True)\n",
    "judge_pred_df.info()\n"
   ]
  },
  {
   "cell_type": "markdown",
   "metadata": {},
   "source": [
    "## Handle formatting issues"
   ]
  },
  {
   "cell_type": "markdown",
   "metadata": {},
   "source": [
    "For Gemma we need to be more careful becuase the format is different, it encapsulated the json output in the with the tokens: \n",
    "```\n",
    "```json\\n\n",
    "<actual_answer>\n",
    "\\n```\n",
    "```"
   ]
  },
  {
   "cell_type": "code",
   "execution_count": 84,
   "metadata": {},
   "outputs": [
    {
     "name": "stdout",
     "output_type": "stream",
     "text": [
      "Total answers: 2400\n",
      "Answers following JSON template: 2199\n",
      "Percentage following JSON template: 91.62%\n"
     ]
    }
   ],
   "source": [
    "\n",
    "# Create mask for answers that follow JSON syntax\n",
    "json_mask = judge_pred_df['response'].str.match(r'^(```json\\s)?({[^}]+})(\\s```)?$')\n",
    "matches_json_template = json_mask.sum()\n",
    "\n",
    "print(f\"Total answers: {len(judge_pred_df)}\")\n",
    "print(f\"Answers following JSON template: {matches_json_template}\")\n",
    "print(f\"Percentage following JSON template: {(matches_json_template/len(judge_pred_df))*100:.2f}%\")\n"
   ]
  },
  {
   "cell_type": "code",
   "execution_count": 85,
   "metadata": {},
   "outputs": [
    {
     "name": "stdout",
     "output_type": "stream",
     "text": [
      "<class 'pandas.core.frame.DataFrame'>\n",
      "Index: 2400 entries, 2a49d339-11d1-4c70-b6df-8f3f1e4bbcc0 to 15327727-8c7a-4cde-8b78-557a5ab9bb70\n",
      "Data columns (total 1 columns):\n",
      " #   Column    Non-Null Count  Dtype \n",
      "---  ------    --------------  ----- \n",
      " 0   response  2400 non-null   object\n",
      "dtypes: object(1)\n",
      "memory usage: 102.0+ KB\n"
     ]
    }
   ],
   "source": [
    "judge_pred_df.loc[json_mask, 'response'] = \\\n",
    "    judge_pred_df.loc[json_mask, 'response'] \\\n",
    "    .apply(lambda x: re.search(r'^(?:```json\\s)?({[^}]+})(?:\\s```)?$', x).group(1))\n",
    "\n",
    "judge_pred_df.loc[~json_mask, 'response'] = \"\"\n",
    "judge_pred_df.info()\n"
   ]
  },
  {
   "cell_type": "code",
   "execution_count": 86,
   "metadata": {},
   "outputs": [],
   "source": [
    "# Replace new line (lead to EOF Errors) with whitespace\n",
    "judge_pred_df['response'] = \\\n",
    "    judge_pred_df['response'].str.replace('\\n+', ' ', regex=True)\n",
    "\n",
    "# Replace lef and right quotation mark with simple quotation mark\n",
    "judge_pred_df['response'] = \\\n",
    "    judge_pred_df['response'].str.replace('[\\u2018-\\u201b]', '\\'', regex=True)\n",
    "judge_pred_df['response'] = \\\n",
    "    judge_pred_df['response'].str.replace('[\\u201c\\u201d]', '\"', regex=True)\n"
   ]
  },
  {
   "cell_type": "code",
   "execution_count": 87,
   "metadata": {},
   "outputs": [],
   "source": [
    "# sometimes the model writes outside the {...} bounderies\n",
    "# let's keep only the relevant part\n",
    "judge_pred_df['response'] = \\\n",
    "    judge_pred_df.apply(\n",
    "        func=lambda row: re.sub(\n",
    "            r\"(\\{.*?\\})\", \n",
    "            r\"\\1\", \n",
    "            row['response']),\n",
    "        axis=1\n",
    "        )\n"
   ]
  },
  {
   "cell_type": "code",
   "execution_count": 88,
   "metadata": {},
   "outputs": [
    {
     "name": "stdout",
     "output_type": "stream",
     "text": [
      "{'reason': \"The given answer \\\"Okay, I'm ready to analyze the scene graph and answer the question. Please provide the question.\\\" does not actually answer the question. It simply states the assistant's readiness to analyze the scene graph. The question asks whether a specific scene exists, and the given answer fails to address this directly. Therefore, the prediction is incorrect. \\\"pred\\\": \\\"incorrect\\\", \\\"score\\\": 1}\n"
     ]
    }
   ],
   "source": [
    "test = judge_pred_df.iloc[1320][\"response\"]\n",
    "print(test)\n"
   ]
  },
  {
   "cell_type": "code",
   "execution_count": 89,
   "metadata": {},
   "outputs": [
    {
     "data": {
      "text/plain": [
       "[('reason',\n",
       "  '\"',\n",
       "  'The given answer \\\\\"Okay, I\\'m ready to analyze the scene graph and answer the question. Please provide the question.\\\\\" does not actually answer the question. It simply states the assistant\\'s readiness to analyze the scene graph. The question asks whether a specific scene exists, and the given answer fails to address this directly. Therefore, the prediction is incorrect. \\\\',\n",
       "  '',\n",
       "  '')]"
      ]
     },
     "execution_count": 89,
     "metadata": {},
     "output_type": "execute_result"
    }
   ],
   "source": [
    "# # unbalanced quotes test\n",
    "pattern = rf\"[\\'\\\"](reason)[\\'\\\"]:\\s*([\\\"\\'])(.*?)((?<!(?<!\\\\)\\2))\\s*(,)?\\s*[\\\"\\']pred..(?!$)\"\n",
    "#pattern = rf\"[\\'\\\"](reason)[\\'\\\"]:\\s*([\\\"\\'])(.*?)((?<!(?<!\\\\)\\2)(,)?\\s*)(?=[\\'\\\"]pred..)(?!$)\"\n",
    "re.findall(\n",
    "    pattern,\n",
    "    test\n",
    ")\n"
   ]
  },
  {
   "cell_type": "code",
   "execution_count": 90,
   "metadata": {},
   "outputs": [
    {
     "name": "stdout",
     "output_type": "stream",
     "text": [
      "{'reason': \"The given answer \\\"Okay, I'm ready to analyze the scene graph and answer the question. Please provide the question.\\\" does not actually answer the question. It simply states the assistant's readiness to analyze the scene graph. The question asks whether a specific scene exists, and the given answer fails to address this directly. Therefore, the prediction is incorrect. \\\", 'pred': \\\"incorrect\\\", \\\"score\\\": 1}\n"
     ]
    }
   ],
   "source": [
    "subbed = re.sub(\n",
    "            pattern,\n",
    "            lambda m: \"\\'\" + m.group(1) + \"\\': \\\"\" + m.group(3) + \"\\\", \\'pred\\'\",\n",
    "            test)\n",
    "print(subbed)\n"
   ]
  },
  {
   "cell_type": "code",
   "execution_count": 91,
   "metadata": {},
   "outputs": [
    {
     "name": "stdout",
     "output_type": "stream",
     "text": [
      "'{\\'reason\\': \"The given answer \\\\\"Okay, I\\'m ready to analyze the scene graph and answer the question. Please provide the question.\\\\\" does not actually answer the question. It simply states the assistant\\'s readiness to analyze the scene graph. The question asks whether a specific scene exists, and the given answer fails to address this directly. Therefore, the prediction is incorrect. \\\\\", \\'pred\\': \\\\\"incorrect\\\\\", \\\\\"score\\\\\": 1}'\n"
     ]
    }
   ],
   "source": [
    "def adjust_unbalanced_quotes(text):\n",
    "    fields = ['reason', 'pred', 'score']\n",
    "    for i in range(len(fields)-1):\n",
    "        field = fields[i]\n",
    "        delimiter = rf\"{fields[i+1]}\"\n",
    "\n",
    "        # (?<!<txt>): negative look-behind assert. current position in the string is not preceed by <txt> \n",
    "        pattern = rf\"[\\'\\\"]({field})[\\'\\\"]:\\s*([\\\"\\'])(.*?)((?<!(?<!\\\\)\\2))\\s*(,)?\\s*[\\'\\\"]{fields[i+1]}..(?!$)\"\n",
    "        subbed = re.sub(\n",
    "            pattern,\n",
    "            lambda m: \"\\'\" + m.group(1) + \"\\': \\\"\" + m.group(3) + f\"\\\", \\'{fields[i+1]}\\'\",\n",
    "            text)\n",
    "        return subbed\n",
    "    \n",
    "\n",
    "test_o = adjust_unbalanced_quotes(test)\n",
    "print(repr(test_o))\n",
    "#eval(test_o)\n"
   ]
  },
  {
   "cell_type": "code",
   "execution_count": 92,
   "metadata": {},
   "outputs": [
    {
     "data": {
      "text/plain": [
       "[]"
      ]
     },
     "execution_count": 92,
     "metadata": {},
     "output_type": "execute_result"
    }
   ],
   "source": [
    "# single quotes test\n",
    "pattern = r\"[\\\"\\']reason[\\'\\\"]:\\s+\\'(.*)\\'\\s*(?=,\\s*[\\\"\\']pred)\"\n",
    "re.findall(\n",
    "    pattern,\n",
    "    test_o\n",
    ")\n"
   ]
  },
  {
   "cell_type": "code",
   "execution_count": 93,
   "metadata": {},
   "outputs": [
    {
     "data": {
      "text/plain": [
       "[('\\'reason\\': \"',\n",
       "  'The given answer \\\\\"Okay, I\\'m ready to analyze the scene graph and answer the question. Please provide the question.\\\\\" does not actually answer the question. It simply states the assistant\\'s readiness to analyze the scene graph. The question asks whether a specific scene exists, and the given answer fails to address this directly. Therefore, the prediction is incorrect. \\\\')]"
      ]
     },
     "execution_count": 93,
     "metadata": {},
     "output_type": "execute_result"
    }
   ],
   "source": [
    "# # unescaped doublequotes test\n",
    "inside_doublequotes = r\"([\\\"\\']reason[\\\"\\']:\\s*\\\")(.*\\\".*)\\\"\\s*(?=,\\s*[\\\"\\']pred)\"\n",
    "\n",
    "re.findall(\n",
    "    inside_doublequotes,\n",
    "    test_o\n",
    ")\n",
    "\n"
   ]
  },
  {
   "cell_type": "code",
   "execution_count": 94,
   "metadata": {},
   "outputs": [
    {
     "name": "stdout",
     "output_type": "stream",
     "text": [
      "'{\\'reason\\': \"The given answer \\\\\"Okay, I\\'m ready to analyze the scene graph and answer the question. Please provide the question.\\\\\" does not actually answer the question. It simply states the assistant\\'s readiness to analyze the scene graph. The question asks whether a specific scene exists, and the given answer fails to address this directly. Therefore, the prediction is incorrect. \\\\\"pred\\\\\": \\\\\"incorrect\\\\\", \\\\\"score\\\\\": 1}'\n"
     ]
    }
   ],
   "source": [
    "test_o = re.sub(\n",
    "    inside_doublequotes, \n",
    "    lambda matchobj: matchobj.group(1) + matchobj.group(2).replace('\\\"', '\\'') + \"\\\"\", \n",
    "    test)\n",
    "\n",
    "print(repr(test_o))\n",
    "# eval(test_o)\n"
   ]
  },
  {
   "cell_type": "code",
   "execution_count": 95,
   "metadata": {},
   "outputs": [],
   "source": [
    "# Adgust fields that are only-half quoted (no end quote) or mismatching quotes\n",
    "\n",
    "\n",
    "def adjust_unbalanced_quotes(text):\n",
    "    fields = ['reason', 'pred', 'score']\n",
    "    for i in range(len(fields)-1):\n",
    "        field = fields[i]\n",
    "        delimiter = rf\"(?:,\\s*[\\\"\\']{fields[i+1]})\"\n",
    "\n",
    "        # (?<!<txt>): negative look-behind assert. current position in the string is not preceed by <txt> \n",
    "        pattern = rf\"[\\'\\\"]({field})[\\'\\\"]:\\s*([\\\"\\'])(.*?)(?=(?<!(?<!\\\\)\\2){delimiter})(?!$)\"\n",
    "        subbed = re.sub(\n",
    "            pattern,\n",
    "            lambda m: \"\\'\" + m.group(1) + \"\\': \\\"\" + m.group(3) + \"\\\"\",\n",
    "            text)\n",
    "        return subbed\n",
    "    \n",
    "judge_pred_df['response'] = \\\n",
    "    judge_pred_df.apply(\n",
    "        func=lambda row: adjust_unbalanced_quotes(row['response']),\n",
    "        axis=1\n",
    "        )\n"
   ]
  },
  {
   "cell_type": "code",
   "execution_count": 96,
   "metadata": {},
   "outputs": [
    {
     "data": {
      "text/plain": [
       "{'reason': 'The given answer states, \"No, the interaction with the mobile phone occurs after drinking.\" However, the provided scene graph description indicates that the woman is initially holding the phone *before* she gets a drink. The prediction contradicts the information presented in the scene graph. Therefore, the prediction is incorrect.',\n",
       " 'pred': 'incorrect',\n",
       " 'score': 1}"
      ]
     },
     "execution_count": 96,
     "metadata": {},
     "output_type": "execute_result"
    }
   ],
   "source": [
    "eval(judge_pred_df.iloc[1211][\"response\"])\n"
   ]
  },
  {
   "cell_type": "code",
   "execution_count": 97,
   "metadata": {},
   "outputs": [],
   "source": [
    "# some times the model is enclosed by \\' \\'\n",
    "judge_pred_df['response'] = \\\n",
    "    judge_pred_df.apply(\n",
    "        func=lambda row: re.sub(\n",
    "            r\"[\\\"\\']reason[\\'\\\"]:\\s+\\'(.*)\\'\\s*(?=,\\s*[\\\"\\']pred)\", \n",
    "            lambda matchobj: \"\\'reason\\': \\\"\" + matchobj.group(1)+ \"\\\"\", \n",
    "            row['response']),\n",
    "        axis=1\n",
    "        )\n"
   ]
  },
  {
   "cell_type": "code",
   "execution_count": 98,
   "metadata": {},
   "outputs": [
    {
     "data": {
      "text/plain": [
       "{'reason': 'The given answer states, \"No, the interaction with the mobile phone occurs after drinking.\" However, the provided scene graph description indicates that the woman is initially holding the phone *before* she gets a drink. The prediction contradicts the information presented in the scene graph. Therefore, the prediction is incorrect.',\n",
       " 'pred': 'incorrect',\n",
       " 'score': 1}"
      ]
     },
     "execution_count": 98,
     "metadata": {},
     "output_type": "execute_result"
    }
   ],
   "source": [
    "eval(judge_pred_df.iloc[1211]['response'])\n"
   ]
  },
  {
   "cell_type": "code",
   "execution_count": 99,
   "metadata": {},
   "outputs": [
    {
     "name": "stdout",
     "output_type": "stream",
     "text": [
      "<class 'pandas.core.frame.DataFrame'>\n",
      "Index: 2400 entries, 2a49d339-11d1-4c70-b6df-8f3f1e4bbcc0 to 15327727-8c7a-4cde-8b78-557a5ab9bb70\n",
      "Data columns (total 1 columns):\n",
      " #   Column    Non-Null Count  Dtype \n",
      "---  ------    --------------  ----- \n",
      " 0   response  2400 non-null   object\n",
      "dtypes: object(1)\n",
      "memory usage: 102.0+ KB\n"
     ]
    }
   ],
   "source": [
    "# ------------------ Removing inner double quotes --------------------\n",
    "# It may happen that the text may contain inner double quotes before the\n",
    "# attribute end. This will cause the parser to termiate early and spout\n",
    "# errors for the remaining text. With this snippet we replace those inner\n",
    "# double quotes with single quotes.\n",
    "#  \n",
    "# we first match the text of the reason parameter inside the double quotes\n",
    "# then we escape/replace all the double quotes inside the text\n",
    "inside_doublequotes = r\"([\\\"\\']reason[\\\"\\']:\\s*\\\")(.*\\\".*)\\\"\\s*(?=,\\s*[\\\"\\']pred)\"\n",
    "\n",
    "judge_pred_df['response'] = \\\n",
    "    judge_pred_df.apply(\n",
    "        func=lambda row: re.sub(\n",
    "            inside_doublequotes, \n",
    "            lambda matchobj: matchobj.group(1) + matchobj.group(2).replace('\\\"', '\\'') + \"\\\"\", \n",
    "            row['response']),\n",
    "        axis=1\n",
    "        )\n",
    "\n",
    "judge_pred_df.info()\n"
   ]
  },
  {
   "cell_type": "code",
   "execution_count": 100,
   "metadata": {},
   "outputs": [
    {
     "data": {
      "text/plain": [
       "{'reason': \"The given answer states, 'No, the interaction with the mobile phone occurs after drinking.' However, the provided scene graph description indicates that the woman is initially holding the phone *before* she gets a drink. The prediction contradicts the information presented in the scene graph. Therefore, the prediction is incorrect.\",\n",
       " 'pred': 'incorrect',\n",
       " 'score': 1}"
      ]
     },
     "execution_count": 100,
     "metadata": {},
     "output_type": "execute_result"
    }
   ],
   "source": [
    "eval(judge_pred_df.iloc[1211]['response'])\n"
   ]
  },
  {
   "cell_type": "code",
   "execution_count": 101,
   "metadata": {},
   "outputs": [
    {
     "name": "stdout",
     "output_type": "stream",
     "text": [
      "<class 'pandas.core.frame.DataFrame'>\n",
      "Index: 2199 entries, 2a49d339-11d1-4c70-b6df-8f3f1e4bbcc0 to 15327727-8c7a-4cde-8b78-557a5ab9bb70\n",
      "Data columns (total 1 columns):\n",
      " #   Column    Non-Null Count  Dtype \n",
      "---  ------    --------------  ----- \n",
      " 0   response  2199 non-null   object\n",
      "dtypes: object(1)\n",
      "memory usage: 34.4+ KB\n"
     ]
    }
   ],
   "source": [
    "judge_pred_df = judge_pred_df.loc[json_mask]\n",
    "judge_pred_df.info()\n"
   ]
  },
  {
   "cell_type": "code",
   "execution_count": 102,
   "metadata": {},
   "outputs": [
    {
     "name": "stdout",
     "output_type": "stream",
     "text": [
      "1211\n",
      "{'reason': \"The given answer \\\"Okay, I'm ready to analyze the scene graph and answer the question. Please provide the question.\\\" does not actually answer the question. It simply states the assistant's readiness to analyze the scene graph. The question asks whether a specific scene exists, and the given answer fails to address this directly. Therefore, the prediction is incorrect. \\\"pred\\\": \\\"incorrect\\\", \\\"score\\\": 1}\n",
      "1919\n",
      "{   \"reason\": \"The given answer \\\"Okay, I'm ready to analyze the scene graph and answer the question. Please provide the question you want me to answer.\\\" does not provide any specific actions the woman takes to express her frustration. It simply states the assistant's readiness to analyze the scene graph. This is a completely irrelevant response to the question. Therefore, the prediction is incorrect. \\\"pred\\\": \\\"incorrect\\\", \\\"score\\\": 0}\n",
      "1972\n",
      "{'reason': \"The given answer states: \\\"Based on the provided scene graph, the prank depicted in the video appears to involve a man (man1) carrying another man (man2) on his back, essentially making him a human \\\"human surfboard.\\\" The scene graph shows man1 holding man2's legs and man2 lying on man1's back. This action is clearly a playful and somewhat absurd stunt. The presence of a hallway, wall, and light fixture further suggests a contained environment where this prank is taking place.\\\" While the given answer accurately describes the visual elements of the prank, it misses the crucial detail that the man is jumping down to scare people. The ground truth answer explicitly states that the man is jumping down to scare people, which is a key element of the prank. Therefore, the prediction is not fully correct as it lacks this important detail, \\\"pred\\\": \\\"incorrect\\\", \\\"score\\\": 3}\n",
      "2156\n",
      "{'reason': \"The given answer \\\"Okay, I'm ready to analyze the scene graph and answer your question. Please provide the question.\\\" does not answer the question of whether a person is running in the video. It simply indicates the assistant's readiness to analyze the video. This is a completely irrelevant response to the question. Therefore, the prediction is incorrect. \\\"pred\\\": \\\"incorrect\\\", \\\"score\\\": 0}\n"
     ]
    }
   ],
   "source": [
    "for i in range(judge_pred_df.shape[0]):\n",
    "    try:\n",
    "        pr = judge_pred_df.iloc[i][\"response\"]\n",
    "        if(pr == ''):\n",
    "            continue\n",
    "        eval(pr)\n",
    "    except:\n",
    "        print(i)\n",
    "        print(pr)\n"
   ]
  },
  {
   "cell_type": "code",
   "execution_count": 103,
   "metadata": {},
   "outputs": [],
   "source": [
    "# remove difficult to adjust lines:\n",
    "hard = [1211, 1919, 1972, 2156]\n",
    "judge_pred_df = judge_pred_df.drop(judge_pred_df.iloc[hard].index)\n",
    "\n"
   ]
  },
  {
   "cell_type": "markdown",
   "metadata": {},
   "source": [
    "## Extract answers"
   ]
  },
  {
   "cell_type": "code",
   "execution_count": 104,
   "metadata": {},
   "outputs": [
    {
     "data": {
      "text/html": [
       "<div>\n",
       "<style scoped>\n",
       "    .dataframe tbody tr th:only-of-type {\n",
       "        vertical-align: middle;\n",
       "    }\n",
       "\n",
       "    .dataframe tbody tr th {\n",
       "        vertical-align: top;\n",
       "    }\n",
       "\n",
       "    .dataframe thead th {\n",
       "        text-align: right;\n",
       "    }\n",
       "</style>\n",
       "<table border=\"1\" class=\"dataframe\">\n",
       "  <thead>\n",
       "    <tr style=\"text-align: right;\">\n",
       "      <th></th>\n",
       "      <th>pred</th>\n",
       "      <th>score</th>\n",
       "      <th>reason</th>\n",
       "    </tr>\n",
       "    <tr>\n",
       "      <th>id</th>\n",
       "      <th></th>\n",
       "      <th></th>\n",
       "      <th></th>\n",
       "    </tr>\n",
       "  </thead>\n",
       "  <tbody>\n",
       "    <tr>\n",
       "      <th>2a49d339-11d1-4c70-b6df-8f3f1e4bbcc0</th>\n",
       "      <td>incorrect</td>\n",
       "      <td>1</td>\n",
       "      <td>The given answer states: 'Therefore, the red_s...</td>\n",
       "    </tr>\n",
       "    <tr>\n",
       "      <th>b27163c5-d341-475b-8517-54809872081a</th>\n",
       "      <td>correct</td>\n",
       "      <td>5</td>\n",
       "      <td>The given answer 'Based on the provided scene ...</td>\n",
       "    </tr>\n",
       "    <tr>\n",
       "      <th>9bce3140-e8e8-49dd-8574-5e961326fb16</th>\n",
       "      <td>incorrect</td>\n",
       "      <td>3</td>\n",
       "      <td>The given answer states 'There are a total of ...</td>\n",
       "    </tr>\n",
       "    <tr>\n",
       "      <th>b8df9fbe-07db-46ab-ba17-3713c1632dbd</th>\n",
       "      <td>incorrect</td>\n",
       "      <td>1</td>\n",
       "      <td>The given answer states: 'The golden hollow sp...</td>\n",
       "    </tr>\n",
       "    <tr>\n",
       "      <th>01c30c62-f489-4246-af18-b7b538b4cb9d</th>\n",
       "      <td>incorrect</td>\n",
       "      <td>2</td>\n",
       "      <td>The given answer states 'There are a total of ...</td>\n",
       "    </tr>\n",
       "    <tr>\n",
       "      <th>...</th>\n",
       "      <td>...</td>\n",
       "      <td>...</td>\n",
       "      <td>...</td>\n",
       "    </tr>\n",
       "    <tr>\n",
       "      <th>4073994c-e4ca-4592-b001-fe0a79ab0e3f</th>\n",
       "      <td>incorrect</td>\n",
       "      <td>1</td>\n",
       "      <td>The given answer states, 'The video does not s...</td>\n",
       "    </tr>\n",
       "    <tr>\n",
       "      <th>3a158fb7-38cb-49b4-91e8-0cb63d6bf218</th>\n",
       "      <td>incorrect</td>\n",
       "      <td>2</td>\n",
       "      <td>The given answer provides a detailed descripti...</td>\n",
       "    </tr>\n",
       "    <tr>\n",
       "      <th>247a493d-0d24-4f1b-bbf6-b03e8973b544</th>\n",
       "      <td>incorrect</td>\n",
       "      <td>1</td>\n",
       "      <td>The given answer states: 'The woman is using a...</td>\n",
       "    </tr>\n",
       "    <tr>\n",
       "      <th>1455f7ec-007a-434e-93d1-6d73b1e3746c</th>\n",
       "      <td>incorrect</td>\n",
       "      <td>3</td>\n",
       "      <td>The given answer states: 'Therefore, the woman...</td>\n",
       "    </tr>\n",
       "    <tr>\n",
       "      <th>15327727-8c7a-4cde-8b78-557a5ab9bb70</th>\n",
       "      <td>incorrect</td>\n",
       "      <td>1</td>\n",
       "      <td>The given answer 'Based on the provided scene ...</td>\n",
       "    </tr>\n",
       "  </tbody>\n",
       "</table>\n",
       "<p>2195 rows × 3 columns</p>\n",
       "</div>"
      ],
      "text/plain": [
       "                                           pred  score  \\\n",
       "id                                                       \n",
       "2a49d339-11d1-4c70-b6df-8f3f1e4bbcc0  incorrect      1   \n",
       "b27163c5-d341-475b-8517-54809872081a    correct      5   \n",
       "9bce3140-e8e8-49dd-8574-5e961326fb16  incorrect      3   \n",
       "b8df9fbe-07db-46ab-ba17-3713c1632dbd  incorrect      1   \n",
       "01c30c62-f489-4246-af18-b7b538b4cb9d  incorrect      2   \n",
       "...                                         ...    ...   \n",
       "4073994c-e4ca-4592-b001-fe0a79ab0e3f  incorrect      1   \n",
       "3a158fb7-38cb-49b4-91e8-0cb63d6bf218  incorrect      2   \n",
       "247a493d-0d24-4f1b-bbf6-b03e8973b544  incorrect      1   \n",
       "1455f7ec-007a-434e-93d1-6d73b1e3746c  incorrect      3   \n",
       "15327727-8c7a-4cde-8b78-557a5ab9bb70  incorrect      1   \n",
       "\n",
       "                                                                                 reason  \n",
       "id                                                                                       \n",
       "2a49d339-11d1-4c70-b6df-8f3f1e4bbcc0  The given answer states: 'Therefore, the red_s...  \n",
       "b27163c5-d341-475b-8517-54809872081a  The given answer 'Based on the provided scene ...  \n",
       "9bce3140-e8e8-49dd-8574-5e961326fb16  The given answer states 'There are a total of ...  \n",
       "b8df9fbe-07db-46ab-ba17-3713c1632dbd  The given answer states: 'The golden hollow sp...  \n",
       "01c30c62-f489-4246-af18-b7b538b4cb9d  The given answer states 'There are a total of ...  \n",
       "...                                                                                 ...  \n",
       "4073994c-e4ca-4592-b001-fe0a79ab0e3f  The given answer states, 'The video does not s...  \n",
       "3a158fb7-38cb-49b4-91e8-0cb63d6bf218  The given answer provides a detailed descripti...  \n",
       "247a493d-0d24-4f1b-bbf6-b03e8973b544  The given answer states: 'The woman is using a...  \n",
       "1455f7ec-007a-434e-93d1-6d73b1e3746c  The given answer states: 'Therefore, the woman...  \n",
       "15327727-8c7a-4cde-8b78-557a5ab9bb70  The given answer 'Based on the provided scene ...  \n",
       "\n",
       "[2195 rows x 3 columns]"
      ]
     },
     "execution_count": 104,
     "metadata": {},
     "output_type": "execute_result"
    }
   ],
   "source": [
    "# Extract pred, score and reason from response dictionary into separate columns\n",
    "judge_pred_df['pred'] = \\\n",
    "    judge_pred_df['response'] \\\n",
    "    .apply(lambda x: eval(x)['pred']) \\\n",
    "    .astype('string') \n",
    "\n",
    "judge_pred_df['score'] = \\\n",
    "    judge_pred_df['response'] \\\n",
    "    .apply(lambda x: int(eval(x)['score'])) \\\n",
    "    .astype('int32')\n",
    "\n",
    "judge_pred_df['reason'] = \\\n",
    "    judge_pred_df['response'] \\\n",
    "    .apply(lambda x: eval(x)['reason']) \\\n",
    "    .astype('string')\n",
    "\n",
    "judge_pred_df.drop('response', axis=1, inplace=True)\n",
    "judge_pred_df\n"
   ]
  },
  {
   "cell_type": "code",
   "execution_count": 105,
   "metadata": {},
   "outputs": [
    {
     "data": {
      "text/plain": [
       "(2195, 3)"
      ]
     },
     "execution_count": 105,
     "metadata": {},
     "output_type": "execute_result"
    }
   ],
   "source": [
    "judge_pred_df.shape\n"
   ]
  },
  {
   "cell_type": "code",
   "execution_count": 106,
   "metadata": {},
   "outputs": [
    {
     "data": {
      "text/plain": [
       "(404, 5)"
      ]
     },
     "execution_count": 106,
     "metadata": {},
     "output_type": "execute_result"
    }
   ],
   "source": [
    "judge_pred_df[['video_id', 'n_frames']] = cvrr_dataset_df[['video_id', 'n_frames']]\n",
    "judge_pred_df[judge_pred_df['n_frames'] > 30].shape\n"
   ]
  },
  {
   "cell_type": "markdown",
   "metadata": {},
   "source": [
    "# Metric values"
   ]
  },
  {
   "cell_type": "code",
   "execution_count": 107,
   "metadata": {},
   "outputs": [
    {
     "name": "stdout",
     "output_type": "stream",
     "text": [
      "\n",
      "Predictions:\n",
      "------------------------------\n",
      "incorrect :  72.70%\n",
      "correct   :  27.30%\n",
      "------------------------------\n"
     ]
    }
   ],
   "source": [
    "min_frames = 5\n",
    "pred_percentages = judge_pred_df[judge_pred_df['n_frames'] > min_frames]['pred'].value_counts(normalize=True) * 100\n",
    "\n",
    "print(\"\\nPredictions:\")\n",
    "print(\"-\" * 30)\n",
    "print(f\"{'incorrect':10}: {pred_percentages['incorrect']:6.2f}%\\n\"\n",
    "      f\"{'correct':10}: {pred_percentages['correct']:6.2f}%\")\n",
    "print(\"-\" * 30)\n"
   ]
  },
  {
   "cell_type": "code",
   "execution_count": 109,
   "metadata": {},
   "outputs": [],
   "source": [
    "acc_vals_50_our_prompt = []\n",
    "\n",
    "for frames in n_frames:\n",
    "    mask = judge_pred_df['n_frames'] > frames\n",
    "\n",
    "    pred_percentages = judge_pred_df[mask]['pred'].value_counts(normalize=True)\n",
    "    acc_vals_50_our_prompt.append(pred_percentages['correct'])\n"
   ]
  },
  {
   "cell_type": "code",
   "execution_count": 116,
   "metadata": {},
   "outputs": [
    {
     "data": {
      "image/png": "[encoded data removed]",
      "text/plain": [
       "<Figure size 640x480 with 2 Axes>"
      ]
     },
     "metadata": {},
     "output_type": "display_data"
    }
   ],
   "source": [
    "_, ax1 = plt.subplots()\n",
    "\n",
    "# Beautiful seaborn-inspired colors\n",
    "fst_color = 'tab:blue'    # Deep blue - very pleasing to the eye\n",
    "snd_color = 'tab:red'   # For first line on secondary axis\n",
    "trd_color = 'tab:green'  # For second line on secondary axis (added new color)\n",
    "fth_color = 'tab:purple'\n",
    "\n",
    "# Primary axis (left)\n",
    "ax1.set_xlabel(\"Minimum frame threshold\")\n",
    "ax1.set_ylabel(\"# of data points\")\n",
    "line0 = ax1.plot(n_frames, data_points_size, color=fst_color, label='# data points',  linestyle=':', linewidth=3, alpha=0.5)\n",
    "ax1.tick_params(axis='y')\n",
    "ax1.set_ylim(bottom=0)\n",
    "\n",
    "# Secondary axis (right)\n",
    "ax2 = ax1.twinx()\n",
    "ax2.set_ylabel(\"% of predictions evaluated as correct\")\n",
    "\n",
    "# Plot both lines on the secondary axis\n",
    "line1 = ax2.plot(n_frames, acc_vals_50, color=snd_color, label='max 50 frames per video')\n",
    "line2 = ax2.plot(n_frames, acc_vals, color=trd_color, label='5 frames per video')  # Add your actual threshold here\n",
    "line3 = ax2.plot(n_frames, acc_vals_50_our_prompt, color=fth_color, label='max 50 frames per video - our prompt')\n",
    "\n",
    "ax2.tick_params(axis='y')  # Don't need labelcolor if both lines use the same axis\n",
    "ax2.set_ylim(bottom=.2)\n",
    "\n",
    "# Add legend to distinguish the two lines on the secondary axis\n",
    "lines = line0 + line1 + line2 + line3\n",
    "labels = [l.get_label() for l in lines]\n",
    "ax2.legend(lines, labels, loc='lower left')\n",
    "\n",
    "plt.tight_layout()\n",
    "plt.show()\n"
   ]
  }
 ],
 "metadata": {
  "kernelspec": {
   "display_name": "base",
   "language": "python",
   "name": "python3"
  },
  "language_info": {
   "codemirror_mode": {
    "name": "ipython",
    "version": 3
   },
   "file_extension": ".py",
   "mimetype": "text/x-python",
   "name": "python",
   "nbconvert_exporter": "python",
   "pygments_lexer": "ipython3",
   "version": "3.10.9"
  }
 },
 "nbformat": 4,
 "nbformat_minor": 2
}
