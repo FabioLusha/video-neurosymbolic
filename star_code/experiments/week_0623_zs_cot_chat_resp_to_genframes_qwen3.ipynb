{
 "cells": [
  {
   "cell_type": "code",
   "execution_count": 85,
   "metadata": {},
   "outputs": [],
   "source": [
    "import random\n",
    "import json, pickle\n",
    "import re\n",
    "import os\n",
    "\n",
    "from pathlib import Path\n",
    "\n",
    "import numpy as np\n",
    "import pandas as pd\n",
    "\n",
    "import matplotlib.pyplot as plt\n",
    "import seaborn as sns\n",
    "\n",
    "from sklearn.metrics import confusion_matrix\n",
    "\n",
    "random.seed(6)\n",
    "np.random.seed(6)\n",
    "\n",
    "WORK_DIR = Path.cwd().parent\n"
   ]
  },
  {
   "cell_type": "code",
   "execution_count": 86,
   "metadata": {},
   "outputs": [],
   "source": [
    "import sys\n",
    "sys.path.append(str(WORK_DIR))\n",
    "from src.datasets import STARDataset\n",
    "from src import prompt_formatters\n",
    "from src.STAR_utils.visualization_tools import vis_utils as qaviz\n"
   ]
  },
  {
   "cell_type": "code",
   "execution_count": 87,
   "metadata": {},
   "outputs": [],
   "source": [
    "RAW_VIDEO_DIR = Path(WORK_DIR / 'data/datasets/action-genome/Charades_v1_480/')\n",
    "RAW_FRAME_DIR = Path(WORK_DIR / 'data/datasets/action-genome/frames/')\n",
    "ANNOTATION_DIR = Path(WORK_DIR / 'src/STAR_utils/annotations/STAR_classes/')\n",
    "FPS = pickle.load(open(ANNOTATION_DIR / 'video_fps','rb'))\n",
    "\n",
    "SAVE_VIDEO_DIR = Path(WORK_DIR / \"experiments/video_dump\")\n"
   ]
  },
  {
   "cell_type": "markdown",
   "metadata": {},
   "source": [
    "# Experiment - Deepseek-R1-Qwen3-32b\n",
    " \n",
    "Analysis of the performance of deepseek-r1 based on qwen32b on the QA task with the generated stsg as input.\n",
    "\n",
    "**Parameters:**\n",
    "- model: \n",
    "- system prompt: MCQ_system_promtp_ZS_CoT.txt\n",
    "- user_prompt: MCQ_user_prompt_ZS_CoT_v2.txt\n",
    "- temperature: 0.1\n",
    "- sampling method: (default) top-p (p=0.9)\n"
   ]
  },
  {
   "cell_type": "markdown",
   "metadata": {},
   "source": [
    "## Prompts"
   ]
  },
  {
   "cell_type": "code",
   "execution_count": 88,
   "metadata": {},
   "outputs": [
    {
     "name": "stdout",
     "output_type": "stream",
     "text": [
      "You need to respond to reasoning questions by making logical inference on sequence of Scene-Graphs extracted from frames belonging to a video, called a Spatio-Temporal Scene Graph.\n",
      "\n",
      "IMPORTANT CLARIFICATIONS:\n",
      "- You will receive a question and Spatio-Temporal Scene-Graph\n",
      "- Each Scene-Graph is a static symbolic representation of the scene unfolding in the frame\n",
      "- The Scene-Graphs are ordered chronologically\n",
      "- The Scene-Graph is represented as a set of tuple in the format: subject - relationship - object\n",
      "- The Spatio-Temporal Scene-Graph is a cornologically sorted list of Scene-Graphs\n",
      "\n",
      "INSTRUCTIONS:\n",
      "- Read the entire Spatio-Temporal Scene-Graphs in chronological order and pay attention at the order of how events unfold.\n",
      "- Read the question and reason about the answer step by step.\n",
      "- In your answer include key events or relationships that help you in determing the correct answer.\n",
      "- Be careful to reproduce the chosen alternative as it is presented.\n"
     ]
    }
   ],
   "source": [
    "with open(WORK_DIR / 'data/prompts/zero-shot-cot/MCQ_system_prompt_ZS_CoT.txt', 'r') as f:\n",
    "    pr = f.read()\n",
    "\n",
    "print(pr)\n"
   ]
  },
  {
   "cell_type": "code",
   "execution_count": 89,
   "metadata": {},
   "outputs": [
    {
     "name": "stdout",
     "output_type": "stream",
     "text": [
      "Please carefully read the following Spatio-Temporal Scene Graph delimited by the <STSG> tags and provide an answer to the question below:\n",
      "\n",
      "<STSG>\n",
      "{stsg}\n",
      "</STSG>\n",
      "\n",
      "Given the following question:\n",
      "<Q>\n",
      "{question}\n",
      "<Q>\n",
      "\n",
      "And the following alternatives:\n",
      "<Alternatives>\n",
      "A. {c1}\n",
      "B. {c2}\n",
      "C. {c3}\n",
      "D. {c4}\n",
      "</Alternatives>\n",
      "\n",
      "Provide an answer to the above question reasoning step by step on the Spatio-Temporal Scene-Graph (STSG) and choosing one of the alternatives. \n",
      "\n",
      "In answering the question please be sure to operate according to the following guidlines:\n",
      "1. Question Interpretation: Clearly state what the question is asking\n",
      "2. STSG Analysis: Carefully examine the spatial and temporal relationships in the scene graph\n",
      "3. Alternative Evaluation: For each option (A, B, C, D), explain whether it matches the STSG evidence\n",
      "4. Reasoning: Provide clear logical step by step reasoning leading to your conclusion\n",
      "5. Conclusion: Declare the logical conclusion to your reasoning in the above step\n",
      "6. Consistency Check: Before finalizing, verify that your chosen answer directly follows from your analysis above and provide the final answer choosing one of the alternatives.\n",
      "\n",
      "CRITICAL INSTRUCTION: After completing your reasoning but before providing the final response, re-read your analysis carefully. Ensure your final answer choice is fully supported by and consistent with your reasoning. If you notice any contradiction, revise your analysis first.\n"
     ]
    }
   ],
   "source": [
    "with open(WORK_DIR / \"data/prompts/zero-shot-cot/MCQ_user_prompt_ZS_CoT_v3.txt\", 'r') as f:\n",
    "    pr = f.read()\n",
    "\n",
    "print(pr)\n"
   ]
  },
  {
   "cell_type": "code",
   "execution_count": 90,
   "metadata": {},
   "outputs": [
    {
     "name": "stdout",
     "output_type": "stream",
     "text": [
      "Therefore the final answer is?\n",
      "\n",
      "Your response must be provided in valid JSON format as follows:\n",
      "{\"answer\": \"your complete answer here\"}\n",
      "\n",
      "IMPORTANT: Always include both the letter (A, B, C, D, etc.) AND the full text of the answer in your response.\n",
      "Do not abbreviate or shorten the answer. For example, if the correct answer is \"A. the laptop\", your response \n",
      "should be {\"answer\": \"A. the laptop\"}, not {\"answer\": \"laptop\"} or {\"answer\": \"A\"}.\\\n",
      "\n"
     ]
    }
   ],
   "source": [
    "with open(WORK_DIR / \"data/prompts/zero-shot-cot/auto_reply_ZS_CoT.txt\", 'r') as f:\n",
    "    reply = f.read()\n",
    "\n",
    "print(reply)\n"
   ]
  },
  {
   "cell_type": "markdown",
   "metadata": {},
   "source": [
    "Let's load the ground truth from the `STAR_QA_question_and_stsg_val.json` file where we extracted QA and spatio-temporal scene graphs"
   ]
  },
  {
   "cell_type": "code",
   "execution_count": 91,
   "metadata": {},
   "outputs": [
    {
     "data": {
      "text/html": [
       "<div>\n",
       "<style scoped>\n",
       "    .dataframe tbody tr th:only-of-type {\n",
       "        vertical-align: middle;\n",
       "    }\n",
       "\n",
       "    .dataframe tbody tr th {\n",
       "        vertical-align: top;\n",
       "    }\n",
       "\n",
       "    .dataframe thead th {\n",
       "        text-align: right;\n",
       "    }\n",
       "</style>\n",
       "<table border=\"1\" class=\"dataframe\">\n",
       "  <thead>\n",
       "    <tr style=\"text-align: right;\">\n",
       "      <th></th>\n",
       "      <th>question</th>\n",
       "      <th>choices</th>\n",
       "      <th>num</th>\n",
       "      <th>text</th>\n",
       "    </tr>\n",
       "    <tr>\n",
       "      <th>id</th>\n",
       "      <th></th>\n",
       "      <th></th>\n",
       "      <th></th>\n",
       "      <th></th>\n",
       "    </tr>\n",
       "  </thead>\n",
       "  <tbody>\n",
       "    <tr>\n",
       "      <th>Interaction_T1_13</th>\n",
       "      <td>Which object was tidied up by the person?</td>\n",
       "      <td>{'0': 'The closet/cabinet.', '1': 'The blanket...</td>\n",
       "      <td>2</td>\n",
       "      <td>The clothes.</td>\n",
       "    </tr>\n",
       "    <tr>\n",
       "      <th>Interaction_T1_14</th>\n",
       "      <td>Which object was tidied up by the person?</td>\n",
       "      <td>{'0': 'The blanket.', '1': 'The table.', '2': ...</td>\n",
       "      <td>2</td>\n",
       "      <td>The clothes.</td>\n",
       "    </tr>\n",
       "    <tr>\n",
       "      <th>Interaction_T1_31</th>\n",
       "      <td>Which object was thrown by the person?</td>\n",
       "      <td>{'0': 'The pillow.', '1': 'The bag.', '2': 'Th...</td>\n",
       "      <td>2</td>\n",
       "      <td>The clothes.</td>\n",
       "    </tr>\n",
       "    <tr>\n",
       "      <th>Interaction_T1_32</th>\n",
       "      <td>Which object was put down by the person?</td>\n",
       "      <td>{'0': 'The food.', '1': 'The shoe.', '2': 'The...</td>\n",
       "      <td>1</td>\n",
       "      <td>The shoe.</td>\n",
       "    </tr>\n",
       "    <tr>\n",
       "      <th>Interaction_T1_40</th>\n",
       "      <td>Which object was tidied up by the person?</td>\n",
       "      <td>{'0': 'The broom.', '1': 'The closet/cabinet.'...</td>\n",
       "      <td>1</td>\n",
       "      <td>The closet/cabinet.</td>\n",
       "    </tr>\n",
       "    <tr>\n",
       "      <th>...</th>\n",
       "      <td>...</td>\n",
       "      <td>...</td>\n",
       "      <td>...</td>\n",
       "      <td>...</td>\n",
       "    </tr>\n",
       "    <tr>\n",
       "      <th>Feasibility_T6_1453</th>\n",
       "      <td>What is the person able to do after taking the...</td>\n",
       "      <td>{'0': 'Wash the table.', '1': 'Take the box.',...</td>\n",
       "      <td>0</td>\n",
       "      <td>Wash the table.</td>\n",
       "    </tr>\n",
       "    <tr>\n",
       "      <th>Feasibility_T6_1454</th>\n",
       "      <td>What is the person able to do after walking th...</td>\n",
       "      <td>{'0': 'Take the towel.', '1': 'Throw the bag.'...</td>\n",
       "      <td>0</td>\n",
       "      <td>Take the towel.</td>\n",
       "    </tr>\n",
       "    <tr>\n",
       "      <th>Feasibility_T6_1455</th>\n",
       "      <td>What is the person able to do after walking th...</td>\n",
       "      <td>{'0': 'Throw the bag.', '1': 'Wash the table.'...</td>\n",
       "      <td>1</td>\n",
       "      <td>Wash the table.</td>\n",
       "    </tr>\n",
       "    <tr>\n",
       "      <th>Feasibility_T6_1456</th>\n",
       "      <td>What is the person able to do after putting th...</td>\n",
       "      <td>{'0': 'Hold the food.', '1': 'Open the closet/...</td>\n",
       "      <td>3</td>\n",
       "      <td>Wash the table.</td>\n",
       "    </tr>\n",
       "    <tr>\n",
       "      <th>Feasibility_T6_1468</th>\n",
       "      <td>What is the person able to do after opening th...</td>\n",
       "      <td>{'0': 'Wash the window.', '1': 'Hold the food....</td>\n",
       "      <td>1</td>\n",
       "      <td>Hold the food.</td>\n",
       "    </tr>\n",
       "  </tbody>\n",
       "</table>\n",
       "<p>7098 rows × 4 columns</p>\n",
       "</div>"
      ],
      "text/plain": [
       "                                                              question  \\\n",
       "id                                                                       \n",
       "Interaction_T1_13            Which object was tidied up by the person?   \n",
       "Interaction_T1_14            Which object was tidied up by the person?   \n",
       "Interaction_T1_31               Which object was thrown by the person?   \n",
       "Interaction_T1_32             Which object was put down by the person?   \n",
       "Interaction_T1_40            Which object was tidied up by the person?   \n",
       "...                                                                ...   \n",
       "Feasibility_T6_1453  What is the person able to do after taking the...   \n",
       "Feasibility_T6_1454  What is the person able to do after walking th...   \n",
       "Feasibility_T6_1455  What is the person able to do after walking th...   \n",
       "Feasibility_T6_1456  What is the person able to do after putting th...   \n",
       "Feasibility_T6_1468  What is the person able to do after opening th...   \n",
       "\n",
       "                                                               choices num  \\\n",
       "id                                                                           \n",
       "Interaction_T1_13    {'0': 'The closet/cabinet.', '1': 'The blanket...   2   \n",
       "Interaction_T1_14    {'0': 'The blanket.', '1': 'The table.', '2': ...   2   \n",
       "Interaction_T1_31    {'0': 'The pillow.', '1': 'The bag.', '2': 'Th...   2   \n",
       "Interaction_T1_32    {'0': 'The food.', '1': 'The shoe.', '2': 'The...   1   \n",
       "Interaction_T1_40    {'0': 'The broom.', '1': 'The closet/cabinet.'...   1   \n",
       "...                                                                ...  ..   \n",
       "Feasibility_T6_1453  {'0': 'Wash the table.', '1': 'Take the box.',...   0   \n",
       "Feasibility_T6_1454  {'0': 'Take the towel.', '1': 'Throw the bag.'...   0   \n",
       "Feasibility_T6_1455  {'0': 'Throw the bag.', '1': 'Wash the table.'...   1   \n",
       "Feasibility_T6_1456  {'0': 'Hold the food.', '1': 'Open the closet/...   3   \n",
       "Feasibility_T6_1468  {'0': 'Wash the window.', '1': 'Hold the food....   1   \n",
       "\n",
       "                                    text  \n",
       "id                                        \n",
       "Interaction_T1_13           The clothes.  \n",
       "Interaction_T1_14           The clothes.  \n",
       "Interaction_T1_31           The clothes.  \n",
       "Interaction_T1_32              The shoe.  \n",
       "Interaction_T1_40    The closet/cabinet.  \n",
       "...                                  ...  \n",
       "Feasibility_T6_1453      Wash the table.  \n",
       "Feasibility_T6_1454      Take the towel.  \n",
       "Feasibility_T6_1455      Wash the table.  \n",
       "Feasibility_T6_1456      Wash the table.  \n",
       "Feasibility_T6_1468       Hold the food.  \n",
       "\n",
       "[7098 rows x 4 columns]"
      ]
     },
     "execution_count": 91,
     "metadata": {},
     "output_type": "execute_result"
    }
   ],
   "source": [
    "ground_truth = []\n",
    "\n",
    "with open(WORK_DIR / 'data/datasets/STAR_QA_and_stsg_val.json') as f:\n",
    "    data = json.load(f)\n",
    "    ground_truth = [{\n",
    "        'id': sample['question_id'],\n",
    "        'question': sample['question'],\n",
    "        'choices': sample['choices'],\n",
    "        'num': sample['answer'],\n",
    "        'text': sample['choices'][str(sample['answer'])]\n",
    "    } for sample in data]\n",
    "\n",
    "\n",
    "# we keep num as str so we can directrly access choices dictionaries\n",
    "gt_df = pd.DataFrame(ground_truth).astype({'id': 'string', 'num': 'string', 'text': 'string'})\n",
    "gt_df.set_index('id', inplace=True)\n",
    "gt_df\n"
   ]
  },
  {
   "cell_type": "markdown",
   "metadata": {},
   "source": [
    "## Loading predicted answers evaluation"
   ]
  },
  {
   "cell_type": "code",
   "execution_count": 92,
   "metadata": {},
   "outputs": [
    {
     "data": {
      "text/html": [
       "<div>\n",
       "<style scoped>\n",
       "    .dataframe tbody tr th:only-of-type {\n",
       "        vertical-align: middle;\n",
       "    }\n",
       "\n",
       "    .dataframe tbody tr th {\n",
       "        vertical-align: top;\n",
       "    }\n",
       "\n",
       "    .dataframe thead th {\n",
       "        text-align: right;\n",
       "    }\n",
       "</style>\n",
       "<table border=\"1\" class=\"dataframe\">\n",
       "  <thead>\n",
       "    <tr style=\"text-align: right;\">\n",
       "      <th></th>\n",
       "      <th>chat_history</th>\n",
       "    </tr>\n",
       "    <tr>\n",
       "      <th>id</th>\n",
       "      <th></th>\n",
       "    </tr>\n",
       "  </thead>\n",
       "  <tbody>\n",
       "    <tr>\n",
       "      <th>Feasibility_T5_102</th>\n",
       "      <td>[{'role': 'user', 'content': 'Please carefully...</td>\n",
       "    </tr>\n",
       "    <tr>\n",
       "      <th>Feasibility_T2_860</th>\n",
       "      <td>[{'role': 'user', 'content': 'Please carefully...</td>\n",
       "    </tr>\n",
       "    <tr>\n",
       "      <th>Feasibility_T2_556</th>\n",
       "      <td>[{'role': 'user', 'content': 'Please carefully...</td>\n",
       "    </tr>\n",
       "    <tr>\n",
       "      <th>Prediction_T1_2539</th>\n",
       "      <td>[{'role': 'user', 'content': 'Please carefully...</td>\n",
       "    </tr>\n",
       "    <tr>\n",
       "      <th>Prediction_T4_1253</th>\n",
       "      <td>[{'role': 'user', 'content': 'Please carefully...</td>\n",
       "    </tr>\n",
       "    <tr>\n",
       "      <th>...</th>\n",
       "      <td>...</td>\n",
       "    </tr>\n",
       "    <tr>\n",
       "      <th>Sequence_T4_4180</th>\n",
       "      <td>[{'role': 'user', 'content': 'Please carefully...</td>\n",
       "    </tr>\n",
       "    <tr>\n",
       "      <th>Sequence_T6_3755</th>\n",
       "      <td>[{'role': 'user', 'content': 'Please carefully...</td>\n",
       "    </tr>\n",
       "    <tr>\n",
       "      <th>Feasibility_T5_2398</th>\n",
       "      <td>[{'role': 'user', 'content': 'Please carefully...</td>\n",
       "    </tr>\n",
       "    <tr>\n",
       "      <th>Prediction_T1_2030</th>\n",
       "      <td>[{'role': 'user', 'content': 'Please carefully...</td>\n",
       "    </tr>\n",
       "    <tr>\n",
       "      <th>Interaction_T1_8484</th>\n",
       "      <td>[{'role': 'user', 'content': 'Please carefully...</td>\n",
       "    </tr>\n",
       "  </tbody>\n",
       "</table>\n",
       "<p>939 rows × 1 columns</p>\n",
       "</div>"
      ],
      "text/plain": [
       "                                                          chat_history\n",
       "id                                                                    \n",
       "Feasibility_T5_102   [{'role': 'user', 'content': 'Please carefully...\n",
       "Feasibility_T2_860   [{'role': 'user', 'content': 'Please carefully...\n",
       "Feasibility_T2_556   [{'role': 'user', 'content': 'Please carefully...\n",
       "Prediction_T1_2539   [{'role': 'user', 'content': 'Please carefully...\n",
       "Prediction_T4_1253   [{'role': 'user', 'content': 'Please carefully...\n",
       "...                                                                ...\n",
       "Sequence_T4_4180     [{'role': 'user', 'content': 'Please carefully...\n",
       "Sequence_T6_3755     [{'role': 'user', 'content': 'Please carefully...\n",
       "Feasibility_T5_2398  [{'role': 'user', 'content': 'Please carefully...\n",
       "Prediction_T1_2030   [{'role': 'user', 'content': 'Please carefully...\n",
       "Interaction_T1_8484  [{'role': 'user', 'content': 'Please carefully...\n",
       "\n",
       "[939 rows x 1 columns]"
      ]
     },
     "execution_count": 92,
     "metadata": {},
     "output_type": "execute_result"
    }
   ],
   "source": [
    "predictions = []\n",
    "with open(WORK_DIR / 'outputs/responses_on_small_val_deepseek-r1-qwen32_20250612_11:27:00.jsonl', mode='r', encoding='utf-8', errors='strict') as f:\n",
    "    predictions = [json.loads(line) for line in f.readlines()]\n",
    "\n",
    "# transforming the id key from `qid` to `id` for consistency and `response` to `answer`\n",
    "predictions_df = pd.DataFrame(predictions, dtype='string').rename(columns={'qid':'id', 'response':'answer'})\n",
    "predictions_df = predictions_df.drop_duplicates(subset=['id'])\n",
    "predictions_df.set_index('id', inplace=True)\n",
    "predictions_df\n"
   ]
  },
  {
   "cell_type": "code",
   "execution_count": 93,
   "metadata": {},
   "outputs": [
    {
     "data": {
      "text/html": [
       "<div>\n",
       "<style scoped>\n",
       "    .dataframe tbody tr th:only-of-type {\n",
       "        vertical-align: middle;\n",
       "    }\n",
       "\n",
       "    .dataframe tbody tr th {\n",
       "        vertical-align: top;\n",
       "    }\n",
       "\n",
       "    .dataframe thead th {\n",
       "        text-align: right;\n",
       "    }\n",
       "</style>\n",
       "<table border=\"1\" class=\"dataframe\">\n",
       "  <thead>\n",
       "    <tr style=\"text-align: right;\">\n",
       "      <th></th>\n",
       "      <th>chat_history</th>\n",
       "    </tr>\n",
       "    <tr>\n",
       "      <th>id</th>\n",
       "      <th></th>\n",
       "    </tr>\n",
       "  </thead>\n",
       "  <tbody>\n",
       "    <tr>\n",
       "      <th>Feasibility_T5_102</th>\n",
       "      <td>[{'role': 'user', 'content': 'Please carefully...</td>\n",
       "    </tr>\n",
       "    <tr>\n",
       "      <th>Feasibility_T2_860</th>\n",
       "      <td>[{'role': 'user', 'content': 'Please carefully...</td>\n",
       "    </tr>\n",
       "    <tr>\n",
       "      <th>Feasibility_T2_556</th>\n",
       "      <td>[{'role': 'user', 'content': 'Please carefully...</td>\n",
       "    </tr>\n",
       "    <tr>\n",
       "      <th>Prediction_T1_2539</th>\n",
       "      <td>[{'role': 'user', 'content': 'Please carefully...</td>\n",
       "    </tr>\n",
       "    <tr>\n",
       "      <th>Prediction_T4_1253</th>\n",
       "      <td>[{'role': 'user', 'content': 'Please carefully...</td>\n",
       "    </tr>\n",
       "    <tr>\n",
       "      <th>...</th>\n",
       "      <td>...</td>\n",
       "    </tr>\n",
       "    <tr>\n",
       "      <th>Sequence_T4_4180</th>\n",
       "      <td>[{'role': 'user', 'content': 'Please carefully...</td>\n",
       "    </tr>\n",
       "    <tr>\n",
       "      <th>Sequence_T6_3755</th>\n",
       "      <td>[{'role': 'user', 'content': 'Please carefully...</td>\n",
       "    </tr>\n",
       "    <tr>\n",
       "      <th>Feasibility_T5_2398</th>\n",
       "      <td>[{'role': 'user', 'content': 'Please carefully...</td>\n",
       "    </tr>\n",
       "    <tr>\n",
       "      <th>Prediction_T1_2030</th>\n",
       "      <td>[{'role': 'user', 'content': 'Please carefully...</td>\n",
       "    </tr>\n",
       "    <tr>\n",
       "      <th>Interaction_T1_8484</th>\n",
       "      <td>[{'role': 'user', 'content': 'Please carefully...</td>\n",
       "    </tr>\n",
       "  </tbody>\n",
       "</table>\n",
       "<p>939 rows × 1 columns</p>\n",
       "</div>"
      ],
      "text/plain": [
       "                                                          chat_history\n",
       "id                                                                    \n",
       "Feasibility_T5_102   [{'role': 'user', 'content': 'Please carefully...\n",
       "Feasibility_T2_860   [{'role': 'user', 'content': 'Please carefully...\n",
       "Feasibility_T2_556   [{'role': 'user', 'content': 'Please carefully...\n",
       "Prediction_T1_2539   [{'role': 'user', 'content': 'Please carefully...\n",
       "Prediction_T4_1253   [{'role': 'user', 'content': 'Please carefully...\n",
       "...                                                                ...\n",
       "Sequence_T4_4180     [{'role': 'user', 'content': 'Please carefully...\n",
       "Sequence_T6_3755     [{'role': 'user', 'content': 'Please carefully...\n",
       "Feasibility_T5_2398  [{'role': 'user', 'content': 'Please carefully...\n",
       "Prediction_T1_2030   [{'role': 'user', 'content': 'Please carefully...\n",
       "Interaction_T1_8484  [{'role': 'user', 'content': 'Please carefully...\n",
       "\n",
       "[939 rows x 1 columns]"
      ]
     },
     "execution_count": 93,
     "metadata": {},
     "output_type": "execute_result"
    }
   ],
   "source": [
    "predictions_df['chat_history'] = \\\n",
    "    predictions_df['chat_history'] \\\n",
    "    .apply(lambda x: eval(x))\n",
    "\n",
    "predictions_df\n"
   ]
  },
  {
   "cell_type": "code",
   "execution_count": 94,
   "metadata": {},
   "outputs": [],
   "source": [
    "predictions_df['reasoning'] = predictions_df['chat_history'].apply(lambda x: x[1]['content'])\n",
    "predictions_df['answer'] = predictions_df['chat_history'].apply(lambda x: x[-1]['content'])\n"
   ]
  },
  {
   "cell_type": "code",
   "execution_count": 95,
   "metadata": {},
   "outputs": [
    {
     "data": {
      "text/plain": [
       "id\n",
       "Feasibility_T5_102    <think>\\nOkay, so I need to figure out which o...\n",
       "Feasibility_T2_860    <think>\\nOkay, so I need to figure out what el...\n",
       "Feasibility_T2_556    <think>\\nOkay, so I need to figure out what el...\n",
       "Prediction_T1_2539    <think>\\nOkay, so I need to figure out what th...\n",
       "Prediction_T4_1253    <think>\\nOkay, so I'm trying to figure out whi...\n",
       "Name: reasoning, dtype: object"
      ]
     },
     "execution_count": 95,
     "metadata": {},
     "output_type": "execute_result"
    }
   ],
   "source": [
    "predictions_df['reasoning'].iloc[0:5] \n"
   ]
  },
  {
   "cell_type": "code",
   "execution_count": 96,
   "metadata": {},
   "outputs": [
    {
     "data": {
      "text/plain": [
       "[{'role': 'user',\n",
       "  'content': 'Please carefully read the following Spatio-Temporal Scene Graph delimited by the <STSG> tags and provide an answer to the question below:\\n\\n<STSG>\\n\\nFrame 0:\\n\\nwoman ---- looking_at ---- vertical_post\\nvertical_post ---- positioned_on ---- white_wall\\nwhite_wall ---- behind ---- woman\\nwoman ---- in_front_of ---- dark_blue_fabric\\ndark_blue_fabric ---- hanging_from ---- white_wall\\ndark_blue_fabric ---- below ---- smaller_dark_blue_fabric\\nsmaller_dark_blue_fabric ---- hanging_from ---- white_wall\\ndark_blue_fabric ---- covering ---- white_wall\\nvertical_post ---- positioned_on ---- white_wall\\nwhite_wall ---- supporting ---- dark_blue_fabric\\nwoman ---- holding ---- dark_blue_fabric (implied, based on pose)\\ndark_blue_fabric ---- draped_over ---- white_wall\\n\\nFrame 1:\\n\\nwoman ---- wearing ---- dress\\ndress ---- draped_over ---- feet\\nwoman ---- holding ---- bag\\nbag ---- located_in ---- hand\\nbag ---- colored ---- dark_color\\nwoman ---- standing_in_front_of ---- pole\\npole ---- located_in ---- background\\npole ---- extending_into ---- wall\\nwall ---- colored ---- light_color\\nwoman ---- looking_at ---- pole\\npole ---- positioned_in ---- background\\nwoman ---- casting_shadow_on ---- wall\\nwall ---- receiving_shadow_from ---- woman\\ndress ---- flowing_around ---- feet\\nwoman ---- positioned_in_front_of ---- pole\\npole ---- extending_into ---- wall\\nwall ---- colored ---- light_color\\n\\nFrame 2:\\n\\n\\nwoman ---- wearing ---- jeans\\njeans ---- made_of ---- denim\\nwoman ---- holding ---- backpack\\nbackpack ---- on_woman\\nbackpack ---- attached_to ---- shoulder\\nwoman ---- wearing ---- t-shirt\\nt-shirt ---- made_of ---- cotton\\nwoman ---- standing_in_front_of ---- table\\ntable ---- made_of ---- wood\\ntable ---- supporting ---- books\\nbooks ---- on_table\\nbooks ---- stacked_on ---- table\\ntable ---- next_to ---- chair\\nchair ---- made_of ---- wood\\nchair ---- adjacent_to ---- table\\ntable ---- supporting ---- notebook\\nnotebook ---- on_table\\nnotebook ---- open\\nnotebook ---- containing ---- pen\\npen ---- on_notebook\\npen ---- resting_on ---- notebook\\nwoman ---- looking_at ---- table\\ntable ---- containing ---- books\\nnotebook\\npen\\nwoman ---- holding ---- pen\\nbackpack ---- on_woman\\nwoman ---- wearing ---- t-shirt\\nwoman ---- wearing ---- jeans\\n\\nFrame 3:\\n\\nwoman ---- wearing ---- blue_top\\nblue_top ---- on ---- body\\nbody ---- belonging_to ---- woman\\nwoman ---- wearing ---- dark_jeans\\ndark_jeans ---- on ---- body\\nbody ---- belonging_to ---- woman\\nwoman ---- standing_in_front_of ---- door\\ndoor ---- part_of ---- door_frame\\ndoor_frame ---- attached_to ---- wall\\nwall ---- color ---- white\\ndoor ---- having ---- door_handle\\ndoor_handle ---- attached_to ---- door\\nwall ---- having ---- light_switch\\nlight_switch ---- attached_to ---- wall\\nwall ---- color ---- white\\ndoor ---- part_of ---- door_frame\\ndoor_frame ---- attached_to ---- wall\\nwall ---- color ---- white\\n\\n</STSG>\\n\\nGiven the following question:\\n<Q>\\nWhich object is the person able to throw after walking through the doorway?\\n<Q>\\n\\nAnd the following alternatives:\\n<Alternatives>\\nA. The bag.\\nB. The book.\\nC. The blanket.\\nD. The clothes.\\n</Alternatives>\\n\\nProvide an answer to the above question reasoning step by step on the Spatio-Temporal Scene-Graph (STSG) and choosing one of the alternatives. Think step by step.'},\n",
       " {'content': '<think>\\nOkay, so I need to figure out which object the person can throw after walking through the doorway based on the given STSG data. Let me go through each frame carefully.\\n\\nStarting with Frame 0: The woman is looking at a vertical post positioned on a white wall. There\\'s dark blue fabric hanging from the wall, and she\\'s holding it. So in this frame, she has the fabric, but I don\\'t see any mention of her throwing anything yet.\\n\\nMoving to Frame 1: She\\'s wearing a dress and holding a bag. The bag is dark-colored and located in her hand. She\\'s standing in front of a pole that extends into a light-colored wall. She\\'s looking at the pole and casting a shadow on the wall. So here, she has a bag in her hand.\\n\\nFrame 2: Now she\\'s wearing jeans and holding a backpack on her shoulder. She also has a t-shirt on. She\\'s standing in front of a table with books, a notebook, and a pen. The notebook is open, and the pen is resting on it. She\\'s looking at the table and holding the pen. So here, she has both a backpack and a pen.\\n\\nFrame 3: She\\'s wearing a blue top and dark jeans. She\\'s standing in front of a door with a door handle and a light switch on the wall. The door is part of a frame attached to a white wall. There\\'s no mention of her holding anything here, but she was previously holding a pen and backpack.\\n\\nThe question asks which object she can throw after walking through the doorway. So I need to see what she has in her hands when she\\'s near the door or after passing through it.\\n\\nLooking at Frame 3, she\\'s by the door but isn\\'t shown holding anything. However, in Frame 2, she was holding a pen and a backpack. The alternatives given are A. The bag, B. The book, C. The blanket, D. The clothes.\\n\\nWait, in Frame 1, she had a bag, and in Frame 2, she has a backpack. But the options don\\'t include a backpack; instead, option A is the bag. So perhaps after walking through the door, she might still have the bag or the backpack with her.\\n\\nBut wait, in Frame 3, she\\'s at the door but isn\\'t shown holding anything. Maybe she put down the backpack and pen when she approached the door. Alternatively, maybe she took something else.\\n\\nWait, let me check again. In Frame 1, she has a bag; in Frame 2, she has a backpack and pen. The options don\\'t include a backpack or pen, so perhaps I\\'m missing something.\\n\\nAlternatively, maybe after walking through the door, she picks up an object from somewhere else. But looking at the frames, there\\'s no mention of her picking up anything new beyond what\\'s already mentioned.\\n\\nWait, in Frame 0, she was holding dark blue fabric, which could be a blanket or clothes. So perhaps that\\'s option C (blanket) or D (clothes). But in Frame 3, she\\'s at the door but not shown with the fabric anymore.\\n\\nAlternatively, maybe after walking through the door, she can throw something she had earlier. The bag is an option, and she was holding it in Frame 1. So perhaps she still has the bag when she walks through the door.\\n\\nWait, but in Frame 2, she\\'s holding a backpack instead of the bag. Maybe she switched from the bag to the backpack between frames. But the question is about after walking through the doorway, which would be after Frame 3.\\n\\nHmm, this is confusing. Let me try another approach. The options are A (bag), B (book), C (blanket), D (clothes). From the STSG:\\n\\n- Bag: Mentioned in Frame 1.\\n- Book: In Frame 2 on the table.\\n- Blanket: Not explicitly mentioned, but dark blue fabric could be a blanket or clothes.\\n- Clothes: She\\'s wearing various clothes, but that\\'s not something she can throw.\\n\\nSo if she has the bag in Frame 1 and maybe still has it when walking through the door, then A (the bag) would be the answer. Alternatively, if she had the dark blue fabric as a blanket, that could be C.\\n\\nBut looking at the frames, after Frame 3, which is her at the door, there\\'s no mention of her holding anything except perhaps what she was wearing. So maybe she doesn\\'t have any objects to throw. But since the question implies she can throw something, it must be one of the options.\\n\\nWait, in Frame 2, she has a pen and backpack. The alternatives don\\'t include those, so perhaps I\\'m missing something. Alternatively, maybe the dark blue fabric is considered clothes or a blanket.\\n\\nAlternatively, perhaps after walking through the door, she picks up a book from the table (Frame 2) but that\\'s before the door in Frame 3. So it\\'s unclear.\\n\\nWait, another angle: The question is about what she can throw after walking through the doorway. So maybe she has something with her when she exits. In Frame 3, she\\'s at the door but not holding anything. But perhaps she had the bag earlier and still has it.\\n\\nAlternatively, in Frame 0, she was holding dark blue fabric (maybe a blanket) which could be option C. But I\\'m not sure if that\\'s still with her when she walks through the door.\\n\\nWait, let me check each frame again:\\n\\nFrame 0: Holding dark blue fabric.\\nFrame 1: Holding bag.\\nFrame 2: Holding backpack and pen.\\nFrame 3: No holding mentioned.\\n\\nSo perhaps after Frame 3 (walking through the door), she might have nothing. But since the question implies she can throw something, maybe it\\'s the bag from Frame 1 or the dark blue fabric from Frame 0.\\n\\nBut the options are A (bag), B (book), C (blanket), D (clothes). So if the dark blue fabric is a blanket, then C would be correct. Alternatively, if she still has the bag, it\\'s A.\\n\\nWait, in Frame 1, she\\'s holding the bag, and in Frame 2, she\\'s holding the backpack. Maybe she switched from the bag to the backpack, so after walking through the door (Frame 3), she might have the backpack but that\\'s not an option. Alternatively, maybe she still has the bag.\\n\\nAlternatively, perhaps the dark blue fabric is considered clothes, making D correct. But I\\'m not sure.\\n\\nWait, another thought: The question says \"after walking through the doorway.\" So in Frame 3, she\\'s at the door, so after that would be outside. If she had something with her when she walked through, it could be the bag or backpack.\\n\\nBut since the options don\\'t include backpack, maybe it\\'s the bag (A) or the dark blue fabric as a blanket (C).\\n\\nI\\'m a bit stuck here. Let me try to think of what each option refers to:\\n\\n- A. The bag: Mentioned in Frame 1.\\n- B. The book: On the table in Frame 2, but she\\'s not holding it when at the door.\\n- C. The blanket: Dark blue fabric in Frame 0, maybe considered a blanket.\\n- D. The clothes: She\\'s wearing them, so probably not something to throw.\\n\\nSo between A and C. If she had the bag in Frame 1 and perhaps still has it when walking through the door, then A would be correct. Alternatively, if the dark blue fabric is a blanket, that could be C.\\n\\nBut looking at Frame 3, there\\'s no mention of her holding anything, so maybe she doesn\\'t have the bag anymore. Therefore, perhaps the answer is C (the blanket) because in Frame 0, she was holding it, and maybe she took it with her through the door.\\n\\nAlternatively, maybe the dark blue fabric is considered clothes, making D correct. But I\\'m not sure if that\\'s intended.\\n\\nWait, another angle: The question says \"after walking through the doorway.\" So perhaps she picks up something after passing through. But in the given frames, there\\'s no information beyond Frame 3, so we can\\'t know what happens after she walks through.\\n\\nTherefore, based on the available data, the most likely answer is A (the bag) because she was holding it in Frame 1 and might still have it when walking through.\\n</think>\\n\\nThe woman is able to throw the bag after walking through the doorway. \\n\\n**Answer: A. The bag.**\\n\\nStep-by-step explanation:\\n\\n1. **Frame Analysis**: \\n   - In Frame 1, the woman is holding a dark-colored bag in her hand.\\n   - Frames 2 and 3 do not mention her holding the bag again; however, she transitions through these frames leading up to the doorway.\\n\\n2. **Object Availability**:\\n   - The alternatives include the bag (A), which was explicitly mentioned as being held by her in Frame 1.\\n   - Other options like books or blankets aren\\'t shown as being carried beyond their respective frames.\\n\\n3. **Conclusion**:\\n   - Since she had the bag in Frame 1 and there\\'s no indication she discarded it before walking through the doorway, it\\'s reasonable to conclude she can throw the bag afterward.\\n\\n**Answer: A. The bag.**',\n",
       "  'role': 'assistant'},\n",
       " {'role': 'user',\n",
       "  'content': 'Therefore the final answer is?\\n\\nYour response must be provided in valid JSON format as follows:\\n{\"answer\": \"your complete answer here\"}\\n\\nIMPORTANT: Always include both the letter (A, B, C, D, etc.) AND the full text of the answer in your response.\\nDo not abbreviate or shorten the answer. For example, if the correct answer is \"A. the laptop\", your response \\nshould be {\"answer\": \"A. the laptop\"}, not {\"answer\": \"laptop\"} or {\"answer\": \"A\"}.\\\\'},\n",
       " {'role': 'assistant',\n",
       "  'content': '<think>\\nOkay, so I\\'m trying to figure out which object the woman can throw after walking through the doorway based on the given Spatio-Temporal Scene Graph (STSG). Let\\'s break this down step by step.\\n\\nFirst, I need to understand what each frame shows. \\n\\nIn Frame 0, there\\'s a woman looking at a vertical post that\\'s positioned on a white wall. The white wall is behind her, and she\\'s in front of dark blue fabric hanging from the wall. There\\'s also a smaller piece of dark blue fabric below it. It seems like she might be holding the dark blue fabric based on her pose.\\n\\nMoving to Frame 1, the woman is wearing a dress that\\'s draped over her feet. She\\'s holding a bag in her hand, which is dark-colored. She\\'s standing in front of a pole that extends into a light-colored wall. The pole is in the background, and she\\'s looking at it. There\\'s also mention of her casting a shadow on the wall.\\n\\nIn Frame 2, the woman is wearing jeans made of denim and holding a backpack on her shoulder. She\\'s also wearing a t-shirt made of cotton. She\\'s standing in front of a table made of wood that supports books and a notebook with a pen resting on it. The woman is looking at the table and holding a pen.\\n\\nFrame 3 shows the woman wearing a blue top and dark jeans, standing in front of a door that\\'s part of a door frame attached to a white wall. There\\'s a door handle on the door and a light switch on the wall. She\\'s still wearing her t-shirt and jeans.\\n\\nNow, the question is asking which object she can throw after walking through the doorway. The options are A. The bag, B. The book, C. The blanket, D. The clothes.\\n\\nLooking at the frames, in Frame 1, she\\'s holding a dark-colored bag. In Frames 2 and 3, there\\'s no mention of her holding the bag anymore; instead, she has a backpack in Frame 2 and is near books and a notebook but doesn\\'t seem to be carrying them. There\\'s also no mention of a blanket or clothes that she could throw.\\n\\nSo, based on this, the most logical answer is A. The bag because it was explicitly mentioned as being held by her in Frame 1, and there\\'s no indication she discarded it before walking through the doorway.\\n</think>\\n\\n{\"answer\": \"A. The bag\"}'}]"
      ]
     },
     "execution_count": 96,
     "metadata": {},
     "output_type": "execute_result"
    }
   ],
   "source": [
    "predictions_df.iloc[0]['chat_history']\n"
   ]
  },
  {
   "cell_type": "code",
   "execution_count": 97,
   "metadata": {},
   "outputs": [
    {
     "name": "stdout",
     "output_type": "stream",
     "text": [
      "<think>\n",
      "Okay, so I'm trying to figure out which object the woman can throw after walking through the doorway based on the given Spatio-Temporal Scene Graph (STSG). Let's break this down step by step.\n",
      "\n",
      "First, I need to understand what each frame shows. \n",
      "\n",
      "In Frame 0, there's a woman looking at a vertical post that's positioned on a white wall. The white wall is behind her, and she's in front of dark blue fabric hanging from the wall. There's also a smaller piece of dark blue fabric below it. It seems like she might be holding the dark blue fabric based on her pose.\n",
      "\n",
      "Moving to Frame 1, the woman is wearing a dress that's draped over her feet. She's holding a bag in her hand, which is dark-colored. She's standing in front of a pole that extends into a light-colored wall. The pole is in the background, and she's looking at it. There's also mention of her casting a shadow on the wall.\n",
      "\n",
      "In Frame 2, the woman is wearing jeans made of denim and holding a backpack on her shoulder. She's also wearing a t-shirt made of cotton. She's standing in front of a table made of wood that supports books and a notebook with a pen resting on it. The woman is looking at the table and holding a pen.\n",
      "\n",
      "Frame 3 shows the woman wearing a blue top and dark jeans, standing in front of a door that's part of a door frame attached to a white wall. There's a door handle on the door and a light switch on the wall. She's still wearing her t-shirt and jeans.\n",
      "\n",
      "Now, the question is asking which object she can throw after walking through the doorway. The options are A. The bag, B. The book, C. The blanket, D. The clothes.\n",
      "\n",
      "Looking at the frames, in Frame 1, she's holding a dark-colored bag. In Frames 2 and 3, there's no mention of her holding the bag anymore; instead, she has a backpack in Frame 2 and is near books and a notebook but doesn't seem to be carrying them. There's also no mention of a blanket or clothes that she could throw.\n",
      "\n",
      "So, based on this, the most logical answer is A. The bag because it was explicitly mentioned as being held by her in Frame 1, and there's no indication she discarded it before walking through the doorway.\n",
      "</think>\n",
      "\n",
      "{\"answer\": \"A. The bag\"}\n"
     ]
    }
   ],
   "source": [
    "a = predictions_df['answer'].iloc[0]\n",
    "print(a)\n"
   ]
  },
  {
   "cell_type": "code",
   "execution_count": 98,
   "metadata": {},
   "outputs": [],
   "source": [
    "pattern = r'{[\\\"\\']answer[\\\"\\']:\\s*(.*)}$'\n",
    "res = re.match(pattern, a, re.MULTILINE)\n",
    "res\n"
   ]
  },
  {
   "cell_type": "code",
   "execution_count": 99,
   "metadata": {},
   "outputs": [
    {
     "data": {
      "text/plain": [
       "id\n",
       "Feasibility_T5_102                      [\"A. The bag\"]\n",
       "Feasibility_T2_860            [\"C. Close the window.\"]\n",
       "Feasibility_T2_556     [\"B. Open the closet/cabinet.\"]\n",
       "Prediction_T1_2539            [\"D. Tidy up the table\"]\n",
       "Prediction_T4_1253                    [\"C. The shoe.\"]\n",
       "                                    ...               \n",
       "Sequence_T4_4180              [\"B. Took the sandwich\"]\n",
       "Sequence_T6_3755                      [\"C. Put down.\"]\n",
       "Feasibility_T5_2398                  [\"B. The laptop\"]\n",
       "Prediction_T1_2030          [\"B. Tidy up the blanket\"]\n",
       "Interaction_T1_8484                   [\"C. The shoe.\"]\n",
       "Name: answer, Length: 939, dtype: object"
      ]
     },
     "execution_count": 99,
     "metadata": {},
     "output_type": "execute_result"
    }
   ],
   "source": [
    "predictions_df['answer'].str.findall(r'{[\\\"\\']answer[\\\"\\']:\\s*(.*)}$')\n"
   ]
  },
  {
   "cell_type": "markdown",
   "metadata": {},
   "source": [
    "## Text preprocessing"
   ]
  },
  {
   "cell_type": "code",
   "execution_count": 100,
   "metadata": {},
   "outputs": [
    {
     "name": "stdout",
     "output_type": "stream",
     "text": [
      "Total answers: 939\n",
      "Answers following JSON template: 939\n",
      "Percentage following JSON template: 100.00%\n"
     ]
    },
    {
     "name": "stderr",
     "output_type": "stream",
     "text": [
      "/tmp/ipykernel_75245/1414218124.py:3: UserWarning: This pattern is interpreted as a regular expression, and has match groups. To actually get the groups, use str.extract.\n",
      "  json_mask = predictions_df['answer'].str.contains(pattern)\n"
     ]
    }
   ],
   "source": [
    "pattern = r'{[\\\"\\']answer[\\\"\\']:\\s*(.*)}$'\n",
    "# Create mask for answers that follow JSON syntax\n",
    "json_mask = predictions_df['answer'].str.contains(pattern)\n",
    "matches_json_template = json_mask.sum()\n",
    "\n",
    "print(f\"Total answers: {len(predictions_df)}\")\n",
    "print(f\"Answers following JSON template: {matches_json_template}\")\n",
    "print(f\"Percentage following JSON template: {(matches_json_template/len(predictions_df))*100:.2f}%\")\n"
   ]
  },
  {
   "cell_type": "code",
   "execution_count": 101,
   "metadata": {},
   "outputs": [
    {
     "data": {
      "text/plain": [
       "Series([], Name: answer, dtype: object)"
      ]
     },
     "execution_count": 101,
     "metadata": {},
     "output_type": "execute_result"
    }
   ],
   "source": [
    "predictions_df.loc[~json_mask, 'answer']\n"
   ]
  },
  {
   "cell_type": "code",
   "execution_count": 102,
   "metadata": {},
   "outputs": [
    {
     "data": {
      "text/plain": [
       "id\n",
       "Feasibility_T5_102                      \"A. The bag\"\n",
       "Feasibility_T2_860            \"C. Close the window.\"\n",
       "Feasibility_T2_556     \"B. Open the closet/cabinet.\"\n",
       "Prediction_T1_2539            \"D. Tidy up the table\"\n",
       "Prediction_T4_1253                    \"C. The shoe.\"\n",
       "                                   ...              \n",
       "Sequence_T4_4180              \"B. Took the sandwich\"\n",
       "Sequence_T6_3755                      \"C. Put down.\"\n",
       "Feasibility_T5_2398                  \"B. The laptop\"\n",
       "Prediction_T1_2030          \"B. Tidy up the blanket\"\n",
       "Interaction_T1_8484                   \"C. The shoe.\"\n",
       "Name: answer, Length: 939, dtype: object"
      ]
     },
     "execution_count": 102,
     "metadata": {},
     "output_type": "execute_result"
    }
   ],
   "source": [
    "predictions_df.loc[json_mask, 'answer'] = \\\n",
    "    predictions_df.loc[json_mask, 'answer'] \\\n",
    "    .apply(lambda x: re.search(pattern, x).group(1))\n",
    "\n",
    "predictions_df.loc[~json_mask, 'answer'] = \"\"\n",
    "predictions_df['answer']\n"
   ]
  },
  {
   "cell_type": "markdown",
   "metadata": {},
   "source": [
    "### Applying changes"
   ]
  },
  {
   "cell_type": "code",
   "execution_count": 103,
   "metadata": {},
   "outputs": [],
   "source": [
    "# Replace new line (lead to EOF Errors) with whitespace\n",
    "predictions_df['answer'] = \\\n",
    "    predictions_df['answer'].str.replace('\\n+', ' ', regex=True)\n",
    "\n",
    "# Replace lef and right quotation mark with simple quotation mark\n",
    "predictions_df['answer'] = \\\n",
    "    predictions_df['answer'].str.replace('[\\u2018-\\u201b]', '\\'', regex=True)\n",
    "predictions_df['answer'] = \\\n",
    "    predictions_df['answer'].str.replace('[\\u201c\\u201d]', '\"', regex=True)\n",
    "# ------------------ Removing inner double quotes --------------------\n",
    "# It may happen that the text may contain inner double quotes before the\n",
    "# attribute end. This will cause the parser to termiate early and spout\n",
    "# errors for the remaining text. With this snippet we replace those inner\n",
    "# double quotes with single quotes.\n",
    "#  \n",
    "# we first match the text of the reason paramter inside the double quotes\n",
    "# then we escape/replace all the double quotes inside the text\n",
    "inside_doublequotes = r\"(?<=\\\"answer\\\": \\\")(.*)(?=\\\"(?:,|}))\"\n",
    "\n",
    "predictions_df['answer'] = \\\n",
    "    predictions_df.apply(\n",
    "        func=lambda row: re.sub(\n",
    "            inside_doublequotes, \n",
    "            lambda matchobj: matchobj.group(0).replace('\\\"', ''), \n",
    "            row['answer']),\n",
    "        axis=1\n",
    "        )\n"
   ]
  },
  {
   "cell_type": "markdown",
   "metadata": {},
   "source": [
    "Look for answer in the form \\w. \\w+ remove the initial lettering\n",
    "replace fullstop with empty\n",
    "lower\n",
    "strip\n"
   ]
  },
  {
   "cell_type": "code",
   "execution_count": 104,
   "metadata": {},
   "outputs": [
    {
     "data": {
      "text/plain": [
       "id\n",
       "Feasibility_T5_102                      \"A. The bag\"\n",
       "Feasibility_T2_860            \"C. Close the window.\"\n",
       "Feasibility_T2_556     \"B. Open the closet/cabinet.\"\n",
       "Prediction_T1_2539            \"D. Tidy up the table\"\n",
       "Prediction_T4_1253                    \"C. The shoe.\"\n",
       "                                   ...              \n",
       "Sequence_T4_4180              \"B. Took the sandwich\"\n",
       "Sequence_T6_3755                      \"C. Put down.\"\n",
       "Feasibility_T5_2398                  \"B. The laptop\"\n",
       "Prediction_T1_2030          \"B. Tidy up the blanket\"\n",
       "Interaction_T1_8484                   \"C. The shoe.\"\n",
       "Name: answer, Length: 939, dtype: object"
      ]
     },
     "execution_count": 104,
     "metadata": {},
     "output_type": "execute_result"
    }
   ],
   "source": [
    "predictions_df['answer']\n"
   ]
  },
  {
   "cell_type": "code",
   "execution_count": 105,
   "metadata": {},
   "outputs": [
    {
     "name": "stdout",
     "output_type": "stream",
     "text": [
      "Answer following the template: 858\n",
      "91.37% of the total\n",
      "\n",
      "Only 81 samples do not contain the answer in the response with the specified format\n"
     ]
    },
    {
     "name": "stderr",
     "output_type": "stream",
     "text": [
      "/tmp/ipykernel_75245/3993337925.py:2: UserWarning: This pattern is interpreted as a regular expression, and has match groups. To actually get the groups, use str.extract.\n",
      "  contains_answer = predictions_df['answer'].str.contains(ans_regex_pattern, regex=True)\n"
     ]
    }
   ],
   "source": [
    "ans_regex_pattern =  r'^[\\\"\\'](?:[A-Z]\\.)\\s+((?:\\w+(?:\\s|\\/)?){,10}\\.?)[\\\"\\']'\n",
    "contains_answer = predictions_df['answer'].str.contains(ans_regex_pattern, regex=True)\n",
    "\n",
    "print(f\"Answer following the template: {contains_answer.value_counts()[True]}\\n\"\n",
    "      f\"{contains_answer.value_counts()[True]/predictions_df.shape[0]:.2%} of the total\")\n",
    "\n",
    "print(f\"\\nOnly {contains_answer.value_counts()[False]} samples do not contain the answer in the response with the specified format\")\n"
   ]
  },
  {
   "cell_type": "code",
   "execution_count": 106,
   "metadata": {},
   "outputs": [
    {
     "data": {
      "text/plain": [
       "id\n",
       "Feasibility_T4_78      \"None of the alternatives can be confirmed bas...\n",
       "Prediction_T4_402      \"None of the alternatives can be determined fr...\n",
       "Prediction_T3_881      \"None of the objects (A-D) are mentioned in th...\n",
       "Interaction_T4_2906    \"None of the alternatives (A-D) are supported ...\n",
       "Prediction_T2_559      \"Insufficient information to determine the act...\n",
       "                                             ...                        \n",
       "Interaction_T4_1656    \"None of the above options are supported by th...\n",
       "Sequence_T1_3674                                     \"None of the above\"\n",
       "Interaction_T1_3198    \"None of the above options were opened accordi...\n",
       "Interaction_T4_2243    \"None of the alternatives are supported by the...\n",
       "Interaction_T2_608     \"None of the alternatives are supported by the...\n",
       "Name: answer, Length: 81, dtype: object"
      ]
     },
     "execution_count": 106,
     "metadata": {},
     "output_type": "execute_result"
    }
   ],
   "source": [
    "predictions_df.loc[~contains_answer, 'answer']\n"
   ]
  },
  {
   "cell_type": "code",
   "execution_count": 82,
   "metadata": {},
   "outputs": [
    {
     "data": {
      "text/plain": [
       "939"
      ]
     },
     "execution_count": 82,
     "metadata": {},
     "output_type": "execute_result"
    }
   ],
   "source": [
    "len(set(predictions_df.index))\n"
   ]
  },
  {
   "cell_type": "markdown",
   "metadata": {},
   "source": [
    "## Extract answers"
   ]
  },
  {
   "cell_type": "code",
   "execution_count": 109,
   "metadata": {},
   "outputs": [
    {
     "data": {
      "text/html": [
       "<div>\n",
       "<style scoped>\n",
       "    .dataframe tbody tr th:only-of-type {\n",
       "        vertical-align: middle;\n",
       "    }\n",
       "\n",
       "    .dataframe tbody tr th {\n",
       "        vertical-align: top;\n",
       "    }\n",
       "\n",
       "    .dataframe thead th {\n",
       "        text-align: right;\n",
       "    }\n",
       "</style>\n",
       "<table border=\"1\" class=\"dataframe\">\n",
       "  <thead>\n",
       "    <tr style=\"text-align: right;\">\n",
       "      <th></th>\n",
       "      <th>text</th>\n",
       "      <th>reasoning</th>\n",
       "    </tr>\n",
       "    <tr>\n",
       "      <th>id</th>\n",
       "      <th></th>\n",
       "      <th></th>\n",
       "    </tr>\n",
       "  </thead>\n",
       "  <tbody>\n",
       "    <tr>\n",
       "      <th>Feasibility_T5_102</th>\n",
       "      <td>the bag.</td>\n",
       "      <td>&lt;think&gt;\\nOkay, so I need to figure out which o...</td>\n",
       "    </tr>\n",
       "    <tr>\n",
       "      <th>Feasibility_T2_860</th>\n",
       "      <td>close the window.</td>\n",
       "      <td>&lt;think&gt;\\nOkay, so I need to figure out what el...</td>\n",
       "    </tr>\n",
       "    <tr>\n",
       "      <th>Feasibility_T2_556</th>\n",
       "      <td>open the closet/cabinet.</td>\n",
       "      <td>&lt;think&gt;\\nOkay, so I need to figure out what el...</td>\n",
       "    </tr>\n",
       "    <tr>\n",
       "      <th>Prediction_T1_2539</th>\n",
       "      <td>tidy up the table.</td>\n",
       "      <td>&lt;think&gt;\\nOkay, so I need to figure out what th...</td>\n",
       "    </tr>\n",
       "    <tr>\n",
       "      <th>Prediction_T4_1253</th>\n",
       "      <td>the shoe.</td>\n",
       "      <td>&lt;think&gt;\\nOkay, so I'm trying to figure out whi...</td>\n",
       "    </tr>\n",
       "    <tr>\n",
       "      <th>...</th>\n",
       "      <td>...</td>\n",
       "      <td>...</td>\n",
       "    </tr>\n",
       "    <tr>\n",
       "      <th>Sequence_T4_4180</th>\n",
       "      <td>took the sandwich.</td>\n",
       "      <td>&lt;think&gt;\\nOkay, so I need to figure out what ha...</td>\n",
       "    </tr>\n",
       "    <tr>\n",
       "      <th>Sequence_T6_3755</th>\n",
       "      <td>put down.</td>\n",
       "      <td>&lt;think&gt;\\nOkay, so I'm trying to figure out wha...</td>\n",
       "    </tr>\n",
       "    <tr>\n",
       "      <th>Feasibility_T5_2398</th>\n",
       "      <td>the laptop.</td>\n",
       "      <td>&lt;think&gt;\\nOkay, so I need to figure out which o...</td>\n",
       "    </tr>\n",
       "    <tr>\n",
       "      <th>Prediction_T1_2030</th>\n",
       "      <td>tidy up the blanket.</td>\n",
       "      <td>&lt;think&gt;\\nOkay, so I'm trying to figure out wha...</td>\n",
       "    </tr>\n",
       "    <tr>\n",
       "      <th>Interaction_T1_8484</th>\n",
       "      <td>the shoe.</td>\n",
       "      <td>&lt;think&gt;\\nOkay, so I need to figure out which o...</td>\n",
       "    </tr>\n",
       "  </tbody>\n",
       "</table>\n",
       "<p>858 rows × 2 columns</p>\n",
       "</div>"
      ],
      "text/plain": [
       "                                         text  \\\n",
       "id                                              \n",
       "Feasibility_T5_102                   the bag.   \n",
       "Feasibility_T2_860          close the window.   \n",
       "Feasibility_T2_556   open the closet/cabinet.   \n",
       "Prediction_T1_2539         tidy up the table.   \n",
       "Prediction_T4_1253                  the shoe.   \n",
       "...                                       ...   \n",
       "Sequence_T4_4180           took the sandwich.   \n",
       "Sequence_T6_3755                    put down.   \n",
       "Feasibility_T5_2398               the laptop.   \n",
       "Prediction_T1_2030       tidy up the blanket.   \n",
       "Interaction_T1_8484                 the shoe.   \n",
       "\n",
       "                                                             reasoning  \n",
       "id                                                                      \n",
       "Feasibility_T5_102   <think>\\nOkay, so I need to figure out which o...  \n",
       "Feasibility_T2_860   <think>\\nOkay, so I need to figure out what el...  \n",
       "Feasibility_T2_556   <think>\\nOkay, so I need to figure out what el...  \n",
       "Prediction_T1_2539   <think>\\nOkay, so I need to figure out what th...  \n",
       "Prediction_T4_1253   <think>\\nOkay, so I'm trying to figure out whi...  \n",
       "...                                                                ...  \n",
       "Sequence_T4_4180     <think>\\nOkay, so I need to figure out what ha...  \n",
       "Sequence_T6_3755     <think>\\nOkay, so I'm trying to figure out wha...  \n",
       "Feasibility_T5_2398  <think>\\nOkay, so I need to figure out which o...  \n",
       "Prediction_T1_2030   <think>\\nOkay, so I'm trying to figure out wha...  \n",
       "Interaction_T1_8484  <think>\\nOkay, so I need to figure out which o...  \n",
       "\n",
       "[858 rows x 2 columns]"
      ]
     },
     "execution_count": 109,
     "metadata": {},
     "output_type": "execute_result"
    }
   ],
   "source": [
    "ans_df = \\\n",
    "    predictions_df[contains_answer]['answer'] \\\n",
    "    .apply(lambda x: re.findall(ans_regex_pattern, x)[-1]) \\\n",
    "    .apply(lambda x: x + '.' if not x.endswith('.') else x) \\\n",
    "    .to_frame(name='text')\n",
    "\n",
    "ans_df.rename(columns={0: 'text'}, inplace=True)\n",
    "\n",
    "ans_df['text'] = ans_df['text'].str.strip()\n",
    "ans_df['text'] = ans_df['text'].str.lower()\n",
    "ans_df['reasoning'] = predictions_df['reasoning']\n",
    "ans_gen_stsg_df = ans_df\n",
    "ans_gen_stsg_df\n"
   ]
  },
  {
   "cell_type": "code",
   "execution_count": 110,
   "metadata": {},
   "outputs": [
    {
     "name": "stdout",
     "output_type": "stream",
     "text": [
      "<class 'pandas.core.frame.DataFrame'>\n",
      "Index: 858 entries, Feasibility_T5_102 to Interaction_T1_8484\n",
      "Data columns (total 2 columns):\n",
      " #   Column     Non-Null Count  Dtype \n",
      "---  ------     --------------  ----- \n",
      " 0   text       858 non-null    object\n",
      " 1   reasoning  858 non-null    object\n",
      "dtypes: object(2)\n",
      "memory usage: 20.1+ KB\n"
     ]
    }
   ],
   "source": [
    "ans_df.info()\n"
   ]
  },
  {
   "cell_type": "code",
   "execution_count": 119,
   "metadata": {},
   "outputs": [
    {
     "data": {
      "text/plain": [
       "(858, 6)"
      ]
     },
     "execution_count": 119,
     "metadata": {},
     "output_type": "execute_result"
    }
   ],
   "source": [
    "# Inner join - keeps only indices present in both series\n",
    "\n",
    "ans_df_tmp = ans_df.rename(columns={'text': 'pred_text'})\n",
    "eval_df = gt_df.join(\n",
    "    ans_df_tmp, \n",
    "    how='inner' # we account also for samples without answers\n",
    ")\n",
    "\n",
    "eval_df['text'] = eval_df['text'].str.lower()\n",
    "eval_df['pred_text'] = eval_df['pred_text'].str.lower()\n",
    "eval_df.shape\n"
   ]
  },
  {
   "cell_type": "code",
   "execution_count": 120,
   "metadata": {},
   "outputs": [
    {
     "data": {
      "text/html": [
       "<div>\n",
       "<style scoped>\n",
       "    .dataframe tbody tr th:only-of-type {\n",
       "        vertical-align: middle;\n",
       "    }\n",
       "\n",
       "    .dataframe tbody tr th {\n",
       "        vertical-align: top;\n",
       "    }\n",
       "\n",
       "    .dataframe thead th {\n",
       "        text-align: right;\n",
       "    }\n",
       "</style>\n",
       "<table border=\"1\" class=\"dataframe\">\n",
       "  <thead>\n",
       "    <tr style=\"text-align: right;\">\n",
       "      <th></th>\n",
       "      <th>question</th>\n",
       "      <th>choices</th>\n",
       "      <th>num</th>\n",
       "      <th>text</th>\n",
       "      <th>pred_text</th>\n",
       "      <th>reasoning</th>\n",
       "    </tr>\n",
       "    <tr>\n",
       "      <th>id</th>\n",
       "      <th></th>\n",
       "      <th></th>\n",
       "      <th></th>\n",
       "      <th></th>\n",
       "      <th></th>\n",
       "      <th></th>\n",
       "    </tr>\n",
       "  </thead>\n",
       "  <tbody>\n",
       "    <tr>\n",
       "      <th>Interaction_T1_70</th>\n",
       "      <td>Which object was thrown by the person?</td>\n",
       "      <td>{'0': 'The food.', '1': 'The shoe.', '2': 'The...</td>\n",
       "      <td>1</td>\n",
       "      <td>the shoe.</td>\n",
       "      <td>the shoe.</td>\n",
       "      <td>&lt;think&gt;\\nOkay, so I need to figure out which o...</td>\n",
       "    </tr>\n",
       "    <tr>\n",
       "      <th>Interaction_T1_100</th>\n",
       "      <td>Which object was tidied up by the person?</td>\n",
       "      <td>{'0': 'The table.', '1': 'The towel.', '2': 'T...</td>\n",
       "      <td>3</td>\n",
       "      <td>the blanket.</td>\n",
       "      <td>the clothes.</td>\n",
       "      <td>&lt;think&gt;\\nOkay, so I need to figure out which o...</td>\n",
       "    </tr>\n",
       "    <tr>\n",
       "      <th>Interaction_T1_101</th>\n",
       "      <td>Which object was put down by the person?</td>\n",
       "      <td>{'0': 'The cup/glass/bottle.', '1': 'The box.'...</td>\n",
       "      <td>1</td>\n",
       "      <td>the box.</td>\n",
       "      <td>the bag.</td>\n",
       "      <td>&lt;think&gt;\\nOkay, so I need to figure out which o...</td>\n",
       "    </tr>\n",
       "    <tr>\n",
       "      <th>Interaction_T1_104</th>\n",
       "      <td>Which object was taken by the person?</td>\n",
       "      <td>{'0': 'The clothes.', '1': 'The cup/glass/bott...</td>\n",
       "      <td>0</td>\n",
       "      <td>the clothes.</td>\n",
       "      <td>the book.</td>\n",
       "      <td>&lt;think&gt;\\nOkay, so I need to figure out which o...</td>\n",
       "    </tr>\n",
       "    <tr>\n",
       "      <th>Interaction_T1_148</th>\n",
       "      <td>Which object was sat on by the person?</td>\n",
       "      <td>{'0': 'The floor.', '1': 'The table.', '2': 'T...</td>\n",
       "      <td>0</td>\n",
       "      <td>the floor.</td>\n",
       "      <td>the floor.</td>\n",
       "      <td>&lt;think&gt;\\nOkay, so I need to figure out which o...</td>\n",
       "    </tr>\n",
       "    <tr>\n",
       "      <th>...</th>\n",
       "      <td>...</td>\n",
       "      <td>...</td>\n",
       "      <td>...</td>\n",
       "      <td>...</td>\n",
       "      <td>...</td>\n",
       "      <td>...</td>\n",
       "    </tr>\n",
       "    <tr>\n",
       "      <th>Feasibility_T6_1403</th>\n",
       "      <td>What is the person able to do after putting do...</td>\n",
       "      <td>{'0': 'Sit on the sofa/couch.', '1': 'Take the...</td>\n",
       "      <td>3</td>\n",
       "      <td>throw the blanket.</td>\n",
       "      <td>take the shoe.</td>\n",
       "      <td>&lt;think&gt;\\nOkay, so I need to figure out what th...</td>\n",
       "    </tr>\n",
       "    <tr>\n",
       "      <th>Feasibility_T6_1412</th>\n",
       "      <td>What is the person able to do after walking th...</td>\n",
       "      <td>{'0': 'Put down the box.', '1': 'Hold the book...</td>\n",
       "      <td>1</td>\n",
       "      <td>hold the book.</td>\n",
       "      <td>sit at the table.</td>\n",
       "      <td>&lt;think&gt;\\nOkay, so I need to figure out what th...</td>\n",
       "    </tr>\n",
       "    <tr>\n",
       "      <th>Feasibility_T6_1413</th>\n",
       "      <td>What is the person able to do after holding th...</td>\n",
       "      <td>{'0': 'Wash the table.', '1': 'Open the box.',...</td>\n",
       "      <td>3</td>\n",
       "      <td>open the book.</td>\n",
       "      <td>open the book.</td>\n",
       "      <td>&lt;think&gt;\\nOkay, so I need to figure out what th...</td>\n",
       "    </tr>\n",
       "    <tr>\n",
       "      <th>Feasibility_T6_1430</th>\n",
       "      <td>What is the person able to do after walking th...</td>\n",
       "      <td>{'0': 'Tidy up the closet/cabinet.', '1': 'Tak...</td>\n",
       "      <td>3</td>\n",
       "      <td>wash the dish.</td>\n",
       "      <td>tidy up the closet/cabinet.</td>\n",
       "      <td>&lt;think&gt;\\nOkay, so I need to figure out what th...</td>\n",
       "    </tr>\n",
       "    <tr>\n",
       "      <th>Feasibility_T6_1448</th>\n",
       "      <td>What is the person able to do after closing th...</td>\n",
       "      <td>{'0': 'Put down the laptop.', '1': 'Tidy up th...</td>\n",
       "      <td>0</td>\n",
       "      <td>put down the laptop.</td>\n",
       "      <td>put down the laptop.</td>\n",
       "      <td>&lt;think&gt;\\nOkay, so I need to figure out what th...</td>\n",
       "    </tr>\n",
       "  </tbody>\n",
       "</table>\n",
       "<p>858 rows × 6 columns</p>\n",
       "</div>"
      ],
      "text/plain": [
       "                                                              question  \\\n",
       "id                                                                       \n",
       "Interaction_T1_70               Which object was thrown by the person?   \n",
       "Interaction_T1_100           Which object was tidied up by the person?   \n",
       "Interaction_T1_101            Which object was put down by the person?   \n",
       "Interaction_T1_104               Which object was taken by the person?   \n",
       "Interaction_T1_148              Which object was sat on by the person?   \n",
       "...                                                                ...   \n",
       "Feasibility_T6_1403  What is the person able to do after putting do...   \n",
       "Feasibility_T6_1412  What is the person able to do after walking th...   \n",
       "Feasibility_T6_1413  What is the person able to do after holding th...   \n",
       "Feasibility_T6_1430  What is the person able to do after walking th...   \n",
       "Feasibility_T6_1448  What is the person able to do after closing th...   \n",
       "\n",
       "                                                               choices num  \\\n",
       "id                                                                           \n",
       "Interaction_T1_70    {'0': 'The food.', '1': 'The shoe.', '2': 'The...   1   \n",
       "Interaction_T1_100   {'0': 'The table.', '1': 'The towel.', '2': 'T...   3   \n",
       "Interaction_T1_101   {'0': 'The cup/glass/bottle.', '1': 'The box.'...   1   \n",
       "Interaction_T1_104   {'0': 'The clothes.', '1': 'The cup/glass/bott...   0   \n",
       "Interaction_T1_148   {'0': 'The floor.', '1': 'The table.', '2': 'T...   0   \n",
       "...                                                                ...  ..   \n",
       "Feasibility_T6_1403  {'0': 'Sit on the sofa/couch.', '1': 'Take the...   3   \n",
       "Feasibility_T6_1412  {'0': 'Put down the box.', '1': 'Hold the book...   1   \n",
       "Feasibility_T6_1413  {'0': 'Wash the table.', '1': 'Open the box.',...   3   \n",
       "Feasibility_T6_1430  {'0': 'Tidy up the closet/cabinet.', '1': 'Tak...   3   \n",
       "Feasibility_T6_1448  {'0': 'Put down the laptop.', '1': 'Tidy up th...   0   \n",
       "\n",
       "                                     text                    pred_text  \\\n",
       "id                                                                       \n",
       "Interaction_T1_70               the shoe.                    the shoe.   \n",
       "Interaction_T1_100           the blanket.                 the clothes.   \n",
       "Interaction_T1_101               the box.                     the bag.   \n",
       "Interaction_T1_104           the clothes.                    the book.   \n",
       "Interaction_T1_148             the floor.                   the floor.   \n",
       "...                                   ...                          ...   \n",
       "Feasibility_T6_1403    throw the blanket.               take the shoe.   \n",
       "Feasibility_T6_1412        hold the book.            sit at the table.   \n",
       "Feasibility_T6_1413        open the book.               open the book.   \n",
       "Feasibility_T6_1430        wash the dish.  tidy up the closet/cabinet.   \n",
       "Feasibility_T6_1448  put down the laptop.         put down the laptop.   \n",
       "\n",
       "                                                             reasoning  \n",
       "id                                                                      \n",
       "Interaction_T1_70    <think>\\nOkay, so I need to figure out which o...  \n",
       "Interaction_T1_100   <think>\\nOkay, so I need to figure out which o...  \n",
       "Interaction_T1_101   <think>\\nOkay, so I need to figure out which o...  \n",
       "Interaction_T1_104   <think>\\nOkay, so I need to figure out which o...  \n",
       "Interaction_T1_148   <think>\\nOkay, so I need to figure out which o...  \n",
       "...                                                                ...  \n",
       "Feasibility_T6_1403  <think>\\nOkay, so I need to figure out what th...  \n",
       "Feasibility_T6_1412  <think>\\nOkay, so I need to figure out what th...  \n",
       "Feasibility_T6_1413  <think>\\nOkay, so I need to figure out what th...  \n",
       "Feasibility_T6_1430  <think>\\nOkay, so I need to figure out what th...  \n",
       "Feasibility_T6_1448  <think>\\nOkay, so I need to figure out what th...  \n",
       "\n",
       "[858 rows x 6 columns]"
      ]
     },
     "execution_count": 120,
     "metadata": {},
     "output_type": "execute_result"
    }
   ],
   "source": [
    "eval_df\n"
   ]
  },
  {
   "cell_type": "code",
   "execution_count": 121,
   "metadata": {},
   "outputs": [],
   "source": [
    "def accuracy(eval_df, on_what='text'):\n",
    "    hits_text = (eval_df[f'pred_{on_what}'].str.lower() == eval_df[on_what].str.lower()).sum()\n",
    "    \n",
    "\n",
    "    return hits_text/eval_df.shape[0]\n"
   ]
  },
  {
   "cell_type": "code",
   "execution_count": 124,
   "metadata": {},
   "outputs": [],
   "source": [
    "def print_acc(eval_df, acc_fn):\n",
    "    print(f\"{'Question type':<15}{'Total':^15}{'Accuracy':^10}\\n\")\n",
    "\n",
    "    total = eval_df.index.str.startswith('Interaction').sum()\n",
    "    acc = acc_fn(eval_df[eval_df.index.str.startswith('Interaction')])\n",
    "    print(f\"{'Interaction':<15}{total:^15}{acc:^10.2%}\")\n",
    "\n",
    "    total = eval_df.index.str.startswith('Sequence').sum()\n",
    "    acc = acc_fn(eval_df[eval_df.index.str.startswith('Sequence')])\n",
    "    print(f\"{'Sequence':<15}{total:^15}{acc:^10.2%}\")\n",
    "\n",
    "    total = eval_df.index.str.startswith('Prediction').sum()\n",
    "    acc = acc_fn(eval_df[eval_df.index.str.startswith('Prediction')])\n",
    "    print(f\"{'Prediction':<15}{total:^15}{acc:^10.2%}\")\n",
    "\n",
    "    total = eval_df.index.str.startswith('Feasibility').sum()\n",
    "    acc = acc_fn(eval_df[eval_df.index.str.startswith('Feasibility')])\n",
    "    print(f\"{'Feasibility':<15}{total:^15}{acc:^10.2%}\")\n",
    "    \n",
    "    print()\n",
    "    total = eval_df.shape[0]\n",
    "    acc = acc_fn(eval_df)\n",
    "    print(f\"{'Average':<15}{total:^15}{acc:^10.2%}\")\n"
   ]
  },
  {
   "cell_type": "code",
   "execution_count": 125,
   "metadata": {},
   "outputs": [
    {
     "name": "stdout",
     "output_type": "stream",
     "text": [
      "Question type       Total      Accuracy \n",
      "\n",
      "Interaction          210        47.62%  \n",
      "Sequence             245        46.12%  \n",
      "Prediction           205        44.39%  \n",
      "Feasibility          198        37.88%  \n",
      "\n",
      "Average              858        44.17%  \n"
     ]
    }
   ],
   "source": [
    "print_acc(eval_df, lambda x: accuracy(x, on_what='text'))\n"
   ]
  },
  {
   "cell_type": "code",
   "execution_count": 126,
   "metadata": {},
   "outputs": [
    {
     "name": "stdout",
     "output_type": "stream",
     "text": [
      "Question type       Total      Answered \n",
      "\n",
      "Interaction         2398        8.76%   \n",
      "Sequence            3586        6.83%   \n",
      "Prediction           624        32.85%  \n",
      "Feasibility          490        40.41%  \n",
      "Overall             7098        12.09%  \n"
     ]
    }
   ],
   "source": [
    "# % of answers conforming to template per category\n",
    "\n",
    "def print_ans_perc(eval_df, gt_df):\n",
    "    print(f\"{'Question type':<15}{'Total':^15}{'Answered':^10}\\n\")\n",
    "\n",
    "    total = gt_df.index.str.startswith('Interaction').sum()\n",
    "    acc = len(gt_df.index.intersection(eval_df[eval_df.index.str.startswith('Interaction')].index))/total\n",
    "    print(f\"{'Interaction':<15}{total:^15}{acc:^10.2%}\")\n",
    "\n",
    "    total = gt_df.index.str.startswith('Sequence').sum()\n",
    "    acc = len(gt_df.index.intersection(eval_df[eval_df.index.str.startswith('Sequence')].index))/total\n",
    "    print(f\"{'Sequence':<15}{total:^15}{acc:^10.2%}\")\n",
    "\n",
    "    total = gt_df.index.str.startswith('Prediction').sum()\n",
    "    acc = len(gt_df.index.intersection(eval_df[eval_df.index.str.startswith('Prediction')].index))/total\n",
    "    print(f\"{'Prediction':<15}{total:^15}{acc:^10.2%}\")\n",
    "\n",
    "    total = gt_df.index.str.startswith('Feasibility').sum()\n",
    "    acc = len(gt_df.index.intersection(eval_df[eval_df.index.str.startswith('Feasibility')].index))/total\n",
    "    print(f\"{'Feasibility':<15}{total:^15}{acc:^10.2%}\")\n",
    "\n",
    "    total = gt_df.shape[0]\n",
    "    acc = eval_df.shape[0]/total\n",
    "    print(f\"{'Overall':<15}{total:^15}{acc:^10.2%}\")\n",
    "\n",
    "print_ans_perc(eval_df, gt_df)\n"
   ]
  },
  {
   "cell_type": "markdown",
   "metadata": {},
   "source": [
    "## Loading predicted answers - ground truth stsg as input"
   ]
  },
  {
   "cell_type": "code",
   "execution_count": 27,
   "metadata": {},
   "outputs": [
    {
     "data": {
      "text/html": [
       "<div>\n",
       "<style scoped>\n",
       "    .dataframe tbody tr th:only-of-type {\n",
       "        vertical-align: middle;\n",
       "    }\n",
       "\n",
       "    .dataframe tbody tr th {\n",
       "        vertical-align: top;\n",
       "    }\n",
       "\n",
       "    .dataframe thead th {\n",
       "        text-align: right;\n",
       "    }\n",
       "</style>\n",
       "<table border=\"1\" class=\"dataframe\">\n",
       "  <thead>\n",
       "    <tr style=\"text-align: right;\">\n",
       "      <th></th>\n",
       "      <th>chat_history</th>\n",
       "    </tr>\n",
       "    <tr>\n",
       "      <th>id</th>\n",
       "      <th></th>\n",
       "    </tr>\n",
       "  </thead>\n",
       "  <tbody>\n",
       "    <tr>\n",
       "      <th>Interaction_T1_13</th>\n",
       "      <td>[{'role': 'user', 'content': \"Please carefully...</td>\n",
       "    </tr>\n",
       "    <tr>\n",
       "      <th>Interaction_T1_14</th>\n",
       "      <td>[{'role': 'user', 'content': \"Please carefully...</td>\n",
       "    </tr>\n",
       "    <tr>\n",
       "      <th>Interaction_T1_31</th>\n",
       "      <td>[{'role': 'user', 'content': \"Please carefully...</td>\n",
       "    </tr>\n",
       "    <tr>\n",
       "      <th>Interaction_T1_32</th>\n",
       "      <td>[{'role': 'user', 'content': \"Please carefully...</td>\n",
       "    </tr>\n",
       "    <tr>\n",
       "      <th>Interaction_T1_40</th>\n",
       "      <td>[{'role': 'user', 'content': \"Please carefully...</td>\n",
       "    </tr>\n",
       "    <tr>\n",
       "      <th>...</th>\n",
       "      <td>...</td>\n",
       "    </tr>\n",
       "    <tr>\n",
       "      <th>Feasibility_T6_1453</th>\n",
       "      <td>[{'role': 'user', 'content': \"Please carefully...</td>\n",
       "    </tr>\n",
       "    <tr>\n",
       "      <th>Feasibility_T6_1454</th>\n",
       "      <td>[{'role': 'user', 'content': \"Please carefully...</td>\n",
       "    </tr>\n",
       "    <tr>\n",
       "      <th>Feasibility_T6_1455</th>\n",
       "      <td>[{'role': 'user', 'content': \"Please carefully...</td>\n",
       "    </tr>\n",
       "    <tr>\n",
       "      <th>Feasibility_T6_1456</th>\n",
       "      <td>[{'role': 'user', 'content': \"Please carefully...</td>\n",
       "    </tr>\n",
       "    <tr>\n",
       "      <th>Feasibility_T6_1468</th>\n",
       "      <td>[{'role': 'user', 'content': \"Please carefully...</td>\n",
       "    </tr>\n",
       "  </tbody>\n",
       "</table>\n",
       "<p>7098 rows × 1 columns</p>\n",
       "</div>"
      ],
      "text/plain": [
       "                                                          chat_history\n",
       "id                                                                    \n",
       "Interaction_T1_13    [{'role': 'user', 'content': \"Please carefully...\n",
       "Interaction_T1_14    [{'role': 'user', 'content': \"Please carefully...\n",
       "Interaction_T1_31    [{'role': 'user', 'content': \"Please carefully...\n",
       "Interaction_T1_32    [{'role': 'user', 'content': \"Please carefully...\n",
       "Interaction_T1_40    [{'role': 'user', 'content': \"Please carefully...\n",
       "...                                                                ...\n",
       "Feasibility_T6_1453  [{'role': 'user', 'content': \"Please carefully...\n",
       "Feasibility_T6_1454  [{'role': 'user', 'content': \"Please carefully...\n",
       "Feasibility_T6_1455  [{'role': 'user', 'content': \"Please carefully...\n",
       "Feasibility_T6_1456  [{'role': 'user', 'content': \"Please carefully...\n",
       "Feasibility_T6_1468  [{'role': 'user', 'content': \"Please carefully...\n",
       "\n",
       "[7098 rows x 1 columns]"
      ]
     },
     "execution_count": 27,
     "metadata": {},
     "output_type": "execute_result"
    }
   ],
   "source": [
    "predictions = []\n",
    "with open(WORK_DIR / 'outputs/responses_gemma3:4b_20250323_20:38:00.jsonl', mode='r', encoding='utf-8', errors='strict') as f:\n",
    "    predictions = [json.loads(line) for line in f.readlines()]\n",
    "\n",
    "# transforming the id key from `qid` to `id` for consistency and `response` to `answer`\n",
    "predictions_df = pd.DataFrame(predictions, dtype='string').rename(columns={'qid':'id', 'response':'answer'})\n",
    "predictions_df.set_index('id', inplace=True)\n",
    "predictions_df\n",
    "\n"
   ]
  },
  {
   "cell_type": "code",
   "execution_count": 28,
   "metadata": {},
   "outputs": [
    {
     "data": {
      "text/html": [
       "<div>\n",
       "<style scoped>\n",
       "    .dataframe tbody tr th:only-of-type {\n",
       "        vertical-align: middle;\n",
       "    }\n",
       "\n",
       "    .dataframe tbody tr th {\n",
       "        vertical-align: top;\n",
       "    }\n",
       "\n",
       "    .dataframe thead th {\n",
       "        text-align: right;\n",
       "    }\n",
       "</style>\n",
       "<table border=\"1\" class=\"dataframe\">\n",
       "  <thead>\n",
       "    <tr style=\"text-align: right;\">\n",
       "      <th></th>\n",
       "      <th>chat_history</th>\n",
       "    </tr>\n",
       "    <tr>\n",
       "      <th>id</th>\n",
       "      <th></th>\n",
       "    </tr>\n",
       "  </thead>\n",
       "  <tbody>\n",
       "    <tr>\n",
       "      <th>Interaction_T1_13</th>\n",
       "      <td>[{'role': 'user', 'content': 'Please carefully...</td>\n",
       "    </tr>\n",
       "    <tr>\n",
       "      <th>Interaction_T1_14</th>\n",
       "      <td>[{'role': 'user', 'content': 'Please carefully...</td>\n",
       "    </tr>\n",
       "    <tr>\n",
       "      <th>Interaction_T1_31</th>\n",
       "      <td>[{'role': 'user', 'content': 'Please carefully...</td>\n",
       "    </tr>\n",
       "    <tr>\n",
       "      <th>Interaction_T1_32</th>\n",
       "      <td>[{'role': 'user', 'content': 'Please carefully...</td>\n",
       "    </tr>\n",
       "    <tr>\n",
       "      <th>Interaction_T1_40</th>\n",
       "      <td>[{'role': 'user', 'content': 'Please carefully...</td>\n",
       "    </tr>\n",
       "    <tr>\n",
       "      <th>...</th>\n",
       "      <td>...</td>\n",
       "    </tr>\n",
       "    <tr>\n",
       "      <th>Feasibility_T6_1453</th>\n",
       "      <td>[{'role': 'user', 'content': 'Please carefully...</td>\n",
       "    </tr>\n",
       "    <tr>\n",
       "      <th>Feasibility_T6_1454</th>\n",
       "      <td>[{'role': 'user', 'content': 'Please carefully...</td>\n",
       "    </tr>\n",
       "    <tr>\n",
       "      <th>Feasibility_T6_1455</th>\n",
       "      <td>[{'role': 'user', 'content': 'Please carefully...</td>\n",
       "    </tr>\n",
       "    <tr>\n",
       "      <th>Feasibility_T6_1456</th>\n",
       "      <td>[{'role': 'user', 'content': 'Please carefully...</td>\n",
       "    </tr>\n",
       "    <tr>\n",
       "      <th>Feasibility_T6_1468</th>\n",
       "      <td>[{'role': 'user', 'content': 'Please carefully...</td>\n",
       "    </tr>\n",
       "  </tbody>\n",
       "</table>\n",
       "<p>7098 rows × 1 columns</p>\n",
       "</div>"
      ],
      "text/plain": [
       "                                                          chat_history\n",
       "id                                                                    \n",
       "Interaction_T1_13    [{'role': 'user', 'content': 'Please carefully...\n",
       "Interaction_T1_14    [{'role': 'user', 'content': 'Please carefully...\n",
       "Interaction_T1_31    [{'role': 'user', 'content': 'Please carefully...\n",
       "Interaction_T1_32    [{'role': 'user', 'content': 'Please carefully...\n",
       "Interaction_T1_40    [{'role': 'user', 'content': 'Please carefully...\n",
       "...                                                                ...\n",
       "Feasibility_T6_1453  [{'role': 'user', 'content': 'Please carefully...\n",
       "Feasibility_T6_1454  [{'role': 'user', 'content': 'Please carefully...\n",
       "Feasibility_T6_1455  [{'role': 'user', 'content': 'Please carefully...\n",
       "Feasibility_T6_1456  [{'role': 'user', 'content': 'Please carefully...\n",
       "Feasibility_T6_1468  [{'role': 'user', 'content': 'Please carefully...\n",
       "\n",
       "[7098 rows x 1 columns]"
      ]
     },
     "execution_count": 28,
     "metadata": {},
     "output_type": "execute_result"
    }
   ],
   "source": [
    "predictions_df['chat_history'] = \\\n",
    "    predictions_df['chat_history'] \\\n",
    "    .apply(lambda x: eval(x))\n",
    "\n",
    "predictions_df\n"
   ]
  },
  {
   "cell_type": "code",
   "execution_count": 29,
   "metadata": {},
   "outputs": [],
   "source": [
    "predictions_df['reasoning'] = predictions_df['chat_history'].apply(lambda x: x[1]['content'])\n",
    "predictions_df['answer'] = predictions_df['chat_history'].apply(lambda x: x[-1]['content'])\n"
   ]
  },
  {
   "cell_type": "code",
   "execution_count": 30,
   "metadata": {},
   "outputs": [
    {
     "data": {
      "text/plain": [
       "id\n",
       "Interaction_T1_13    Okay, let's analyze the Spatio-Temporal Scene ...\n",
       "Interaction_T1_14    Let's analyze the Spatio-Temporal Scene Graph ...\n",
       "Interaction_T1_31    Let's analyze the Spatio-Temporal Scene Graph ...\n",
       "Interaction_T1_32    Let's analyze the STSG to determine which obje...\n",
       "Interaction_T1_40    Let's analyze the STSG to determine which obje...\n",
       "Name: reasoning, dtype: object"
      ]
     },
     "execution_count": 30,
     "metadata": {},
     "output_type": "execute_result"
    }
   ],
   "source": [
    "predictions_df['reasoning'].iloc[0:5] \n"
   ]
  },
  {
   "cell_type": "code",
   "execution_count": 31,
   "metadata": {},
   "outputs": [
    {
     "data": {
      "text/plain": [
       "id\n",
       "Interaction_T1_13     ```json\\n{\"answer\": \"C. The clothes\"}\\n```\n",
       "Interaction_T1_14    ```json\\n{\"answer\": \"C. The clothes.\"}\\n```\n",
       "Interaction_T1_31     ```json\\n{\"answer\": \"C. The clothes\"}\\n```\n",
       "Interaction_T1_32       ```json\\n{\"answer\": \"B. The shoe.\"}\\n```\n",
       "Interaction_T1_40    ```json\\n{\"answer\": \"C. The blanket.\"}\\n```\n",
       "Name: answer, dtype: object"
      ]
     },
     "execution_count": 31,
     "metadata": {},
     "output_type": "execute_result"
    }
   ],
   "source": [
    "predictions_df['answer'].iloc[0:5] \n"
   ]
  },
  {
   "cell_type": "markdown",
   "metadata": {},
   "source": [
    "## Text preprocessing"
   ]
  },
  {
   "cell_type": "markdown",
   "metadata": {},
   "source": [
    "For Gemma we need to be more careful becuase the format is different, it encapsulated the json output in the with the tokens: \n",
    "```\n",
    "```json\\n\n",
    "<actual_answer>\n",
    "\\n```\n",
    "```"
   ]
  },
  {
   "cell_type": "code",
   "execution_count": 32,
   "metadata": {},
   "outputs": [
    {
     "name": "stdout",
     "output_type": "stream",
     "text": [
      "Total answers: 7098\n",
      "Answers following JSON template: 7097\n",
      "Percentage following JSON template: 99.99%\n"
     ]
    }
   ],
   "source": [
    "\n",
    "# Create mask for answers that follow JSON syntax\n",
    "json_mask = predictions_df['answer'].str.match(r'^(```json\\s)?({[^}]+})(\\s```)?$')\n",
    "matches_json_template = json_mask.sum()\n",
    "\n",
    "print(f\"Total answers: {len(predictions_df)}\")\n",
    "print(f\"Answers following JSON template: {matches_json_template}\")\n",
    "print(f\"Percentage following JSON template: {(matches_json_template/len(predictions_df))*100:.2f}%\")\n"
   ]
  },
  {
   "cell_type": "code",
   "execution_count": 33,
   "metadata": {},
   "outputs": [
    {
     "data": {
      "text/plain": [
       "id\n",
       "Prediction_T4_1351    ```json\\n{\"answer\": \"Therefore the final answe...\n",
       "Name: answer, dtype: object"
      ]
     },
     "execution_count": 33,
     "metadata": {},
     "output_type": "execute_result"
    }
   ],
   "source": [
    "predictions_df.loc[~json_mask, 'answer']\n"
   ]
  },
  {
   "cell_type": "code",
   "execution_count": 34,
   "metadata": {},
   "outputs": [
    {
     "data": {
      "text/plain": [
       "id\n",
       "Interaction_T1_13          {\"answer\": \"C. The clothes\"}\n",
       "Interaction_T1_14         {\"answer\": \"C. The clothes.\"}\n",
       "Interaction_T1_31          {\"answer\": \"C. The clothes\"}\n",
       "Interaction_T1_32            {\"answer\": \"B. The shoe.\"}\n",
       "Interaction_T1_40         {\"answer\": \"C. The blanket.\"}\n",
       "                                     ...               \n",
       "Feasibility_T6_1453    {\"answer\": \"A. Wash the table.\"}\n",
       "Feasibility_T6_1454     {\"answer\": \"A. Take the towel\"}\n",
       "Feasibility_T6_1455    {\"answer\": \"B. Wash the table.\"}\n",
       "Feasibility_T6_1456    {\"answer\": \"D. Wash the table.\"}\n",
       "Feasibility_T6_1468      {\"answer\": \"B. Hold the food\"}\n",
       "Name: answer, Length: 7098, dtype: object"
      ]
     },
     "execution_count": 34,
     "metadata": {},
     "output_type": "execute_result"
    }
   ],
   "source": [
    "predictions_df.loc[json_mask, 'answer'] = \\\n",
    "    predictions_df.loc[json_mask, 'answer'] \\\n",
    "    .apply(lambda x: re.search(r'^(?:```json\\s)?({[^}]+})(?:\\s```)?$', x).group(1))\n",
    "\n",
    "predictions_df.loc[~json_mask, 'answer'] = \"\"\n",
    "predictions_df['answer']\n"
   ]
  },
  {
   "cell_type": "markdown",
   "metadata": {},
   "source": [
    "### Applying changes"
   ]
  },
  {
   "cell_type": "code",
   "execution_count": 35,
   "metadata": {},
   "outputs": [],
   "source": [
    "# Replace new line (lead to EOF Errors) with whitespace\n",
    "predictions_df['answer'] = \\\n",
    "    predictions_df['answer'].str.replace('\\n+', ' ', regex=True)\n",
    "\n",
    "# Replace lef and right quotation mark with simple quotation mark\n",
    "predictions_df['answer'] = \\\n",
    "    predictions_df['answer'].str.replace('[\\u2018-\\u201b]', '\\'', regex=True)\n",
    "predictions_df['answer'] = \\\n",
    "    predictions_df['answer'].str.replace('[\\u201c\\u201d]', '\"', regex=True)\n",
    "# ------------------ Removing inner double quotes --------------------\n",
    "# It may happen that the text may contain inner double quotes before the\n",
    "# attribute end. This will cause the parser to termiate early and spout\n",
    "# errors for the remaining text. With this snippet we replace those inner\n",
    "# double quotes with single quotes.\n",
    "#  \n",
    "# we first match the text of the reason paramter inside the double quotes\n",
    "# then we escape/replace all the double quotes inside the text\n",
    "inside_doublequotes = r\"(?<=\\\"answer\\\": \\\")(.*)(?=\\\"(?:,|}))\"\n",
    "\n",
    "predictions_df['answer'] = \\\n",
    "    predictions_df.apply(\n",
    "        func=lambda row: re.sub(\n",
    "            inside_doublequotes, \n",
    "            lambda matchobj: matchobj.group(0).replace('\\\"', ''), \n",
    "            row['answer']),\n",
    "        axis=1\n",
    "        )\n"
   ]
  },
  {
   "cell_type": "code",
   "execution_count": null,
   "metadata": {},
   "outputs": [
    {
     "data": {
      "text/html": [
       "<div>\n",
       "<style scoped>\n",
       "    .dataframe tbody tr th:only-of-type {\n",
       "        vertical-align: middle;\n",
       "    }\n",
       "\n",
       "    .dataframe tbody tr th {\n",
       "        vertical-align: top;\n",
       "    }\n",
       "\n",
       "    .dataframe thead th {\n",
       "        text-align: right;\n",
       "    }\n",
       "</style>\n",
       "<table border=\"1\" class=\"dataframe\">\n",
       "  <thead>\n",
       "    <tr style=\"text-align: right;\">\n",
       "      <th></th>\n",
       "      <th>chat_history</th>\n",
       "      <th>reasoning</th>\n",
       "      <th>answer</th>\n",
       "    </tr>\n",
       "    <tr>\n",
       "      <th>id</th>\n",
       "      <th></th>\n",
       "      <th></th>\n",
       "      <th></th>\n",
       "    </tr>\n",
       "  </thead>\n",
       "  <tbody>\n",
       "    <tr>\n",
       "      <th>Interaction_T1_13</th>\n",
       "      <td>[{'role': 'user', 'content': 'Please carefully...</td>\n",
       "      <td>Okay, let's analyze the Spatio-Temporal Scene ...</td>\n",
       "      <td>C. The clothes</td>\n",
       "    </tr>\n",
       "    <tr>\n",
       "      <th>Interaction_T1_14</th>\n",
       "      <td>[{'role': 'user', 'content': 'Please carefully...</td>\n",
       "      <td>Let's analyze the Spatio-Temporal Scene Graph ...</td>\n",
       "      <td>C. The clothes.</td>\n",
       "    </tr>\n",
       "    <tr>\n",
       "      <th>Interaction_T1_31</th>\n",
       "      <td>[{'role': 'user', 'content': 'Please carefully...</td>\n",
       "      <td>Let's analyze the Spatio-Temporal Scene Graph ...</td>\n",
       "      <td>C. The clothes</td>\n",
       "    </tr>\n",
       "    <tr>\n",
       "      <th>Interaction_T1_32</th>\n",
       "      <td>[{'role': 'user', 'content': 'Please carefully...</td>\n",
       "      <td>Let's analyze the STSG to determine which obje...</td>\n",
       "      <td>B. The shoe.</td>\n",
       "    </tr>\n",
       "    <tr>\n",
       "      <th>Interaction_T1_40</th>\n",
       "      <td>[{'role': 'user', 'content': 'Please carefully...</td>\n",
       "      <td>Let's analyze the STSG to determine which obje...</td>\n",
       "      <td>C. The blanket.</td>\n",
       "    </tr>\n",
       "    <tr>\n",
       "      <th>...</th>\n",
       "      <td>...</td>\n",
       "      <td>...</td>\n",
       "      <td>...</td>\n",
       "    </tr>\n",
       "    <tr>\n",
       "      <th>Feasibility_T6_1453</th>\n",
       "      <td>[{'role': 'user', 'content': 'Please carefully...</td>\n",
       "      <td>Let's analyze the Spatio-Temporal Scene Graph ...</td>\n",
       "      <td>A. Wash the table.</td>\n",
       "    </tr>\n",
       "    <tr>\n",
       "      <th>Feasibility_T6_1454</th>\n",
       "      <td>[{'role': 'user', 'content': 'Please carefully...</td>\n",
       "      <td>Let's analyze the scene graph to understand th...</td>\n",
       "      <td>A. Take the towel</td>\n",
       "    </tr>\n",
       "    <tr>\n",
       "      <th>Feasibility_T6_1455</th>\n",
       "      <td>[{'role': 'user', 'content': 'Please carefully...</td>\n",
       "      <td>Let's analyze the STSG to determine what the p...</td>\n",
       "      <td>B. Wash the table.</td>\n",
       "    </tr>\n",
       "    <tr>\n",
       "      <th>Feasibility_T6_1456</th>\n",
       "      <td>[{'role': 'user', 'content': 'Please carefully...</td>\n",
       "      <td>Let's analyze the STSG to determine what the p...</td>\n",
       "      <td>D. Wash the table.</td>\n",
       "    </tr>\n",
       "    <tr>\n",
       "      <th>Feasibility_T6_1468</th>\n",
       "      <td>[{'role': 'user', 'content': 'Please carefully...</td>\n",
       "      <td>Okay, let's analyze the Spatio-Temporal Scene ...</td>\n",
       "      <td>B. Hold the food</td>\n",
       "    </tr>\n",
       "  </tbody>\n",
       "</table>\n",
       "<p>7098 rows × 3 columns</p>\n",
       "</div>"
      ],
      "text/plain": [
       "                                                          chat_history  \\\n",
       "id                                                                       \n",
       "Interaction_T1_13    [{'role': 'user', 'content': 'Please carefully...   \n",
       "Interaction_T1_14    [{'role': 'user', 'content': 'Please carefully...   \n",
       "Interaction_T1_31    [{'role': 'user', 'content': 'Please carefully...   \n",
       "Interaction_T1_32    [{'role': 'user', 'content': 'Please carefully...   \n",
       "Interaction_T1_40    [{'role': 'user', 'content': 'Please carefully...   \n",
       "...                                                                ...   \n",
       "Feasibility_T6_1453  [{'role': 'user', 'content': 'Please carefully...   \n",
       "Feasibility_T6_1454  [{'role': 'user', 'content': 'Please carefully...   \n",
       "Feasibility_T6_1455  [{'role': 'user', 'content': 'Please carefully...   \n",
       "Feasibility_T6_1456  [{'role': 'user', 'content': 'Please carefully...   \n",
       "Feasibility_T6_1468  [{'role': 'user', 'content': 'Please carefully...   \n",
       "\n",
       "                                                             reasoning  \\\n",
       "id                                                                       \n",
       "Interaction_T1_13    Okay, let's analyze the Spatio-Temporal Scene ...   \n",
       "Interaction_T1_14    Let's analyze the Spatio-Temporal Scene Graph ...   \n",
       "Interaction_T1_31    Let's analyze the Spatio-Temporal Scene Graph ...   \n",
       "Interaction_T1_32    Let's analyze the STSG to determine which obje...   \n",
       "Interaction_T1_40    Let's analyze the STSG to determine which obje...   \n",
       "...                                                                ...   \n",
       "Feasibility_T6_1453  Let's analyze the Spatio-Temporal Scene Graph ...   \n",
       "Feasibility_T6_1454  Let's analyze the scene graph to understand th...   \n",
       "Feasibility_T6_1455  Let's analyze the STSG to determine what the p...   \n",
       "Feasibility_T6_1456  Let's analyze the STSG to determine what the p...   \n",
       "Feasibility_T6_1468  Okay, let's analyze the Spatio-Temporal Scene ...   \n",
       "\n",
       "                                 answer  \n",
       "id                                       \n",
       "Interaction_T1_13        C. The clothes  \n",
       "Interaction_T1_14       C. The clothes.  \n",
       "Interaction_T1_31        C. The clothes  \n",
       "Interaction_T1_32          B. The shoe.  \n",
       "Interaction_T1_40       C. The blanket.  \n",
       "...                                 ...  \n",
       "Feasibility_T6_1453  A. Wash the table.  \n",
       "Feasibility_T6_1454   A. Take the towel  \n",
       "Feasibility_T6_1455  B. Wash the table.  \n",
       "Feasibility_T6_1456  D. Wash the table.  \n",
       "Feasibility_T6_1468    B. Hold the food  \n",
       "\n",
       "[7098 rows x 3 columns]"
      ]
     },
     "execution_count": 36,
     "metadata": {},
     "output_type": "execute_result"
    }
   ],
   "source": [
    "predictions_df.loc[json_mask, 'answer'] = predictions_df.loc[json_mask, 'answer'].apply(lambda x: eval(x)['answer'].strip())\n",
    "predictions_df\n"
   ]
  },
  {
   "cell_type": "code",
   "execution_count": 37,
   "metadata": {},
   "outputs": [
    {
     "name": "stdout",
     "output_type": "stream",
     "text": [
      "Answer following the template: 6778\n",
      "95.49% of the total\n",
      "\n",
      "Only 320 samples do NOT contain the answer in the response with the specified format\n"
     ]
    },
    {
     "name": "stderr",
     "output_type": "stream",
     "text": [
      "/tmp/ipykernel_3175375/1875602683.py:2: UserWarning: This pattern is interpreted as a regular expression, and has match groups. To actually get the groups, use str.extract.\n",
      "  contains_answer = predictions_df['answer'].str.contains(ans_regex_pattern, regex=True)\n"
     ]
    }
   ],
   "source": [
    "ans_regex_pattern = r'^(?:[A-Z]\\.)\\s+((?:\\w+(?:\\s|\\/)?){,10}\\.?)'\n",
    "contains_answer = predictions_df['answer'].str.contains(ans_regex_pattern, regex=True)\n",
    "\n",
    "print(f\"Answer following the template: {contains_answer.value_counts()[True]}\\n\"\n",
    "      f\"{contains_answer.value_counts()[True]/predictions_df.shape[0]:.2%} of the total\")\n",
    "\n",
    "print(f\"\\nOnly {contains_answer.value_counts()[False]} samples do NOT contain the answer in the response with the specified format\")\n"
   ]
  },
  {
   "cell_type": "code",
   "execution_count": 38,
   "metadata": {},
   "outputs": [
    {
     "data": {
      "text/plain": [
       "id\n",
       "Interaction_T1_198     None of the alternatives are correct based on ...\n",
       "Interaction_T1_1255                None of the alternatives are correct.\n",
       "Interaction_T1_1369                None of the alternatives are correct.\n",
       "Interaction_T1_1671    None of the alternatives can be determined fro...\n",
       "Interaction_T1_2509    None of the alternatives are correct based on ...\n",
       "                                             ...                        \n",
       "Feasibility_T6_448                                     None of the above\n",
       "Feasibility_T6_1063    None of the alternatives are correct. The grap...\n",
       "Feasibility_T6_1091    None of the alternatives are correct based on ...\n",
       "Feasibility_T6_1153    None of the alternatives are correct based on ...\n",
       "Feasibility_T6_1344    None of the provided alternatives accurately d...\n",
       "Name: answer, Length: 320, dtype: object"
      ]
     },
     "execution_count": 38,
     "metadata": {},
     "output_type": "execute_result"
    }
   ],
   "source": [
    "predictions_df.loc[~contains_answer, 'answer']\n"
   ]
  },
  {
   "cell_type": "markdown",
   "metadata": {},
   "source": [
    "## Extract answers"
   ]
  },
  {
   "cell_type": "code",
   "execution_count": null,
   "metadata": {},
   "outputs": [
    {
     "data": {
      "text/html": [
       "<div>\n",
       "<style scoped>\n",
       "    .dataframe tbody tr th:only-of-type {\n",
       "        vertical-align: middle;\n",
       "    }\n",
       "\n",
       "    .dataframe tbody tr th {\n",
       "        vertical-align: top;\n",
       "    }\n",
       "\n",
       "    .dataframe thead th {\n",
       "        text-align: right;\n",
       "    }\n",
       "</style>\n",
       "<table border=\"1\" class=\"dataframe\">\n",
       "  <thead>\n",
       "    <tr style=\"text-align: right;\">\n",
       "      <th></th>\n",
       "      <th>text</th>\n",
       "      <th>reasoning</th>\n",
       "    </tr>\n",
       "    <tr>\n",
       "      <th>id</th>\n",
       "      <th></th>\n",
       "      <th></th>\n",
       "    </tr>\n",
       "  </thead>\n",
       "  <tbody>\n",
       "    <tr>\n",
       "      <th>Interaction_T1_13</th>\n",
       "      <td>the clothes.</td>\n",
       "      <td>Okay, let's analyze the Spatio-Temporal Scene ...</td>\n",
       "    </tr>\n",
       "    <tr>\n",
       "      <th>Interaction_T1_14</th>\n",
       "      <td>the clothes.</td>\n",
       "      <td>Let's analyze the Spatio-Temporal Scene Graph ...</td>\n",
       "    </tr>\n",
       "    <tr>\n",
       "      <th>Interaction_T1_31</th>\n",
       "      <td>the clothes.</td>\n",
       "      <td>Let's analyze the Spatio-Temporal Scene Graph ...</td>\n",
       "    </tr>\n",
       "    <tr>\n",
       "      <th>Interaction_T1_32</th>\n",
       "      <td>the shoe.</td>\n",
       "      <td>Let's analyze the STSG to determine which obje...</td>\n",
       "    </tr>\n",
       "    <tr>\n",
       "      <th>Interaction_T1_40</th>\n",
       "      <td>the blanket.</td>\n",
       "      <td>Let's analyze the STSG to determine which obje...</td>\n",
       "    </tr>\n",
       "    <tr>\n",
       "      <th>...</th>\n",
       "      <td>...</td>\n",
       "      <td>...</td>\n",
       "    </tr>\n",
       "    <tr>\n",
       "      <th>Feasibility_T6_1453</th>\n",
       "      <td>wash the table.</td>\n",
       "      <td>Let's analyze the Spatio-Temporal Scene Graph ...</td>\n",
       "    </tr>\n",
       "    <tr>\n",
       "      <th>Feasibility_T6_1454</th>\n",
       "      <td>take the towel.</td>\n",
       "      <td>Let's analyze the scene graph to understand th...</td>\n",
       "    </tr>\n",
       "    <tr>\n",
       "      <th>Feasibility_T6_1455</th>\n",
       "      <td>wash the table.</td>\n",
       "      <td>Let's analyze the STSG to determine what the p...</td>\n",
       "    </tr>\n",
       "    <tr>\n",
       "      <th>Feasibility_T6_1456</th>\n",
       "      <td>wash the table.</td>\n",
       "      <td>Let's analyze the STSG to determine what the p...</td>\n",
       "    </tr>\n",
       "    <tr>\n",
       "      <th>Feasibility_T6_1468</th>\n",
       "      <td>hold the food.</td>\n",
       "      <td>Okay, let's analyze the Spatio-Temporal Scene ...</td>\n",
       "    </tr>\n",
       "  </tbody>\n",
       "</table>\n",
       "<p>6778 rows × 2 columns</p>\n",
       "</div>"
      ],
      "text/plain": [
       "                                text  \\\n",
       "id                                     \n",
       "Interaction_T1_13       the clothes.   \n",
       "Interaction_T1_14       the clothes.   \n",
       "Interaction_T1_31       the clothes.   \n",
       "Interaction_T1_32          the shoe.   \n",
       "Interaction_T1_40       the blanket.   \n",
       "...                              ...   \n",
       "Feasibility_T6_1453  wash the table.   \n",
       "Feasibility_T6_1454  take the towel.   \n",
       "Feasibility_T6_1455  wash the table.   \n",
       "Feasibility_T6_1456  wash the table.   \n",
       "Feasibility_T6_1468   hold the food.   \n",
       "\n",
       "                                                             reasoning  \n",
       "id                                                                      \n",
       "Interaction_T1_13    Okay, let's analyze the Spatio-Temporal Scene ...  \n",
       "Interaction_T1_14    Let's analyze the Spatio-Temporal Scene Graph ...  \n",
       "Interaction_T1_31    Let's analyze the Spatio-Temporal Scene Graph ...  \n",
       "Interaction_T1_32    Let's analyze the STSG to determine which obje...  \n",
       "Interaction_T1_40    Let's analyze the STSG to determine which obje...  \n",
       "...                                                                ...  \n",
       "Feasibility_T6_1453  Let's analyze the Spatio-Temporal Scene Graph ...  \n",
       "Feasibility_T6_1454  Let's analyze the scene graph to understand th...  \n",
       "Feasibility_T6_1455  Let's analyze the STSG to determine what the p...  \n",
       "Feasibility_T6_1456  Let's analyze the STSG to determine what the p...  \n",
       "Feasibility_T6_1468  Okay, let's analyze the Spatio-Temporal Scene ...  \n",
       "\n",
       "[6778 rows x 2 columns]"
      ]
     },
     "execution_count": 39,
     "metadata": {},
     "output_type": "execute_result"
    }
   ],
   "source": [
    "ans_df = \\\n",
    "    predictions_df[contains_answer]['answer'] \\\n",
    "    .apply(lambda x: re.findall(ans_regex_pattern, x)[-1]) \\\n",
    "    .apply(lambda x: x + '.' if not x.endswith('.') else x) \\\n",
    "    .to_frame(name='text')\n",
    "\n",
    "ans_df.rename(columns={0: 'text'}, inplace=True)\n",
    "\n",
    "ans_df['text'] = ans_df['text'].str.strip()\n",
    "ans_df['text'] = ans_df['text'].str.lower()\n",
    "ans_df['reasoning'] = predictions_df['reasoning']\n",
    "ans_gt_stsg_df = ans_df\n",
    "ans_gt_stsg_df\n"
   ]
  },
  {
   "cell_type": "code",
   "execution_count": null,
   "metadata": {},
   "outputs": [
    {
     "data": {
      "text/html": [
       "<div>\n",
       "<style scoped>\n",
       "    .dataframe tbody tr th:only-of-type {\n",
       "        vertical-align: middle;\n",
       "    }\n",
       "\n",
       "    .dataframe tbody tr th {\n",
       "        vertical-align: top;\n",
       "    }\n",
       "\n",
       "    .dataframe thead th {\n",
       "        text-align: right;\n",
       "    }\n",
       "</style>\n",
       "<table border=\"1\" class=\"dataframe\">\n",
       "  <thead>\n",
       "    <tr style=\"text-align: right;\">\n",
       "      <th></th>\n",
       "      <th>text</th>\n",
       "      <th>reasoning</th>\n",
       "    </tr>\n",
       "    <tr>\n",
       "      <th>id</th>\n",
       "      <th></th>\n",
       "      <th></th>\n",
       "    </tr>\n",
       "  </thead>\n",
       "  <tbody>\n",
       "    <tr>\n",
       "      <th>Interaction_T1_14</th>\n",
       "      <td>the blanket.</td>\n",
       "      <td>Okay, let's analyze the scene graph and answer...</td>\n",
       "    </tr>\n",
       "    <tr>\n",
       "      <th>Interaction_T1_31</th>\n",
       "      <td>the pillow.</td>\n",
       "      <td>Okay, let's analyze the scene graph and answer...</td>\n",
       "    </tr>\n",
       "    <tr>\n",
       "      <th>Interaction_T1_32</th>\n",
       "      <td>the blanket.</td>\n",
       "      <td>Okay, let's analyze the scene graph and answer...</td>\n",
       "    </tr>\n",
       "    <tr>\n",
       "      <th>Interaction_T1_40</th>\n",
       "      <td>the closet/cabinet.</td>\n",
       "      <td>Okay, let's analyze the scene graph and answer...</td>\n",
       "    </tr>\n",
       "    <tr>\n",
       "      <th>Interaction_T1_71</th>\n",
       "      <td>the paper/notebook.</td>\n",
       "      <td>Okay, let's analyze the scene graph and answer...</td>\n",
       "    </tr>\n",
       "    <tr>\n",
       "      <th>...</th>\n",
       "      <td>...</td>\n",
       "      <td>...</td>\n",
       "    </tr>\n",
       "    <tr>\n",
       "      <th>Feasibility_T6_1104</th>\n",
       "      <td>sit on the floor.</td>\n",
       "      <td>Okay, let's analyze the scene graph and answer...</td>\n",
       "    </tr>\n",
       "    <tr>\n",
       "      <th>Feasibility_T6_1263</th>\n",
       "      <td>take the food.</td>\n",
       "      <td>Okay, let's analyze the scene graph and answer...</td>\n",
       "    </tr>\n",
       "    <tr>\n",
       "      <th>Feasibility_T6_1267</th>\n",
       "      <td>put down the paper/notebook.</td>\n",
       "      <td>Okay, let's analyze the scene graph and answer...</td>\n",
       "    </tr>\n",
       "    <tr>\n",
       "      <th>Feasibility_T6_1326</th>\n",
       "      <td>put down the shoe.</td>\n",
       "      <td>Okay, let's analyze the scene graph and answer...</td>\n",
       "    </tr>\n",
       "    <tr>\n",
       "      <th>Feasibility_T6_1453</th>\n",
       "      <td>open the bag.</td>\n",
       "      <td>Okay, let's analyze the scene graph and answer...</td>\n",
       "    </tr>\n",
       "  </tbody>\n",
       "</table>\n",
       "<p>1246 rows × 2 columns</p>\n",
       "</div>"
      ],
      "text/plain": [
       "                                             text  \\\n",
       "id                                                  \n",
       "Interaction_T1_14                    the blanket.   \n",
       "Interaction_T1_31                     the pillow.   \n",
       "Interaction_T1_32                    the blanket.   \n",
       "Interaction_T1_40             the closet/cabinet.   \n",
       "Interaction_T1_71             the paper/notebook.   \n",
       "...                                           ...   \n",
       "Feasibility_T6_1104             sit on the floor.   \n",
       "Feasibility_T6_1263                take the food.   \n",
       "Feasibility_T6_1267  put down the paper/notebook.   \n",
       "Feasibility_T6_1326            put down the shoe.   \n",
       "Feasibility_T6_1453                 open the bag.   \n",
       "\n",
       "                                                             reasoning  \n",
       "id                                                                      \n",
       "Interaction_T1_14    Okay, let's analyze the scene graph and answer...  \n",
       "Interaction_T1_31    Okay, let's analyze the scene graph and answer...  \n",
       "Interaction_T1_32    Okay, let's analyze the scene graph and answer...  \n",
       "Interaction_T1_40    Okay, let's analyze the scene graph and answer...  \n",
       "Interaction_T1_71    Okay, let's analyze the scene graph and answer...  \n",
       "...                                                                ...  \n",
       "Feasibility_T6_1104  Okay, let's analyze the scene graph and answer...  \n",
       "Feasibility_T6_1263  Okay, let's analyze the scene graph and answer...  \n",
       "Feasibility_T6_1267  Okay, let's analyze the scene graph and answer...  \n",
       "Feasibility_T6_1326  Okay, let's analyze the scene graph and answer...  \n",
       "Feasibility_T6_1453  Okay, let's analyze the scene graph and answer...  \n",
       "\n",
       "[1246 rows x 2 columns]"
      ]
     },
     "execution_count": 40,
     "metadata": {},
     "output_type": "execute_result"
    }
   ],
   "source": [
    "ans_gen_stsg_df\n"
   ]
  },
  {
   "cell_type": "code",
   "execution_count": 41,
   "metadata": {},
   "outputs": [
    {
     "name": "stdout",
     "output_type": "stream",
     "text": [
      "<class 'pandas.core.frame.DataFrame'>\n",
      "Index: 1203 entries, Interaction_T1_14 to Feasibility_T6_1453\n",
      "Data columns (total 8 columns):\n",
      " #   Column              Non-Null Count  Dtype \n",
      "---  ------              --------------  ----- \n",
      " 0   question            1203 non-null   object\n",
      " 1   choices             1203 non-null   object\n",
      " 2   num                 1203 non-null   string\n",
      " 3   text                1203 non-null   string\n",
      " 4   gt_stsg_pred        1203 non-null   object\n",
      " 5   gt_stsg_reasoning   1203 non-null   object\n",
      " 6   gen_stsg_pred       1203 non-null   object\n",
      " 7   gen_stsg_reasoning  1203 non-null   object\n",
      "dtypes: object(6), string(2)\n",
      "memory usage: 84.6+ KB\n"
     ]
    }
   ],
   "source": [
    "# Inner join - keeps only indices present in both series\n",
    "\n",
    "ans_gt_stsg_df.rename(columns={'text': 'gt_stsg_pred'}, inplace=True)\n",
    "ans_gen_stsg_df.rename(columns={'text': 'gen_stsg_pred'}, inplace=True)\n",
    "\n",
    "ans_gt_stsg_df.rename(columns={'reasoning': 'gt_stsg_reasoning'}, inplace=True)\n",
    "ans_gen_stsg_df.rename(columns={'reasoning': 'gen_stsg_reasoning'}, inplace=True)\n",
    "\n",
    "eval_df = gt_df \\\n",
    "    .join(\n",
    "        ans_gt_stsg_df, \n",
    "        how='inner' # we account also for samples without answer\n",
    "    ).join(\n",
    "        ans_gen_stsg_df, \n",
    "        how='inner'\n",
    "    )\n",
    "\n",
    "eval_df['text'] = eval_df['text'].str.lower()\n",
    "eval_df.info()\n"
   ]
  },
  {
   "cell_type": "code",
   "execution_count": 42,
   "metadata": {},
   "outputs": [],
   "source": [
    "def accuracy(eval_df, on_what='text'):\n",
    "    hits_text = (eval_df[f'pred_{on_what}'].str.lower() == eval_df[on_what].str.lower()).sum()\n",
    "    \n",
    "\n",
    "    return hits_text/eval_df.shape[0]\n"
   ]
  },
  {
   "cell_type": "code",
   "execution_count": 43,
   "metadata": {},
   "outputs": [],
   "source": [
    "def print_acc(eval_df, acc_fn):\n",
    "    print(f\"{'Question type':<15}{'Total':^15}{'Accuracy':^10}\\n\")\n",
    "\n",
    "    avg = 0\n",
    "    previous_total = 0\n",
    "    total = eval_df.index.str.startswith('Interaction').sum()\n",
    "    acc = acc_fn(eval_df[eval_df.index.str.startswith('Interaction')])\n",
    "    avg += acc\n",
    "    print(f\"{'Interaction':<15}{total:^15}{acc:^10.2%}\")\n",
    "\n",
    "    previous_total += total\n",
    "    total = eval_df.index.str.startswith('Sequence').sum()\n",
    "    acc = acc_fn(eval_df[eval_df.index.str.startswith('Sequence')])\n",
    "    avg = (previous_total*avg + total*acc) / (previous_total + total)\n",
    "    print(f\"{'Sequence':<15}{total:^15}{acc:^10.2%}\")\n",
    "\n",
    "    previous_total += total\n",
    "    total = eval_df.index.str.startswith('Prediction').sum()\n",
    "    acc = acc_fn(eval_df[eval_df.index.str.startswith('Prediction')])\n",
    "    avg = (previous_total*avg + total*acc) / (previous_total + total)\n",
    "    print(f\"{'Prediction':<15}{total:^15}{acc:^10.2%}\")\n",
    "\n",
    "    previous_total += total\n",
    "    total = eval_df.index.str.startswith('Feasibility').sum()\n",
    "    acc = acc_fn(eval_df[eval_df.index.str.startswith('Feasibility')])\n",
    "    avg = (previous_total*avg + total*acc) / (previous_total + total)\n",
    "    print(f\"{'Feasibility':<15}{total:^15}{acc:^10.2%}\")\n",
    "    \n",
    "    print()\n",
    "    print(f\"{'Average':<15}{eval_df.shape[0]:^15}{avg:^10.2%}\")\n"
   ]
  },
  {
   "cell_type": "markdown",
   "metadata": {},
   "source": [
    "### Accuracy with the ground truth STSG as input"
   ]
  },
  {
   "cell_type": "code",
   "execution_count": 44,
   "metadata": {},
   "outputs": [
    {
     "name": "stdout",
     "output_type": "stream",
     "text": [
      "Question type       Total      Accuracy \n",
      "\n",
      "Interaction         1140        65.18%  \n",
      "Sequence              6         83.33%  \n",
      "Prediction            0          nan%   \n",
      "Feasibility          57         61.40%  \n",
      "\n",
      "Average             1203         nan%   \n"
     ]
    },
    {
     "name": "stderr",
     "output_type": "stream",
     "text": [
      "/tmp/ipykernel_3175375/3786578470.py:5: RuntimeWarning: invalid value encountered in scalar divide\n",
      "  return hits_text/eval_df.shape[0]\n"
     ]
    }
   ],
   "source": [
    "tmp_eval_df = pd.DataFrame()\n",
    "tmp_eval_df[['text', 'pred_text']] = eval_df[['text', 'gt_stsg_pred']]\n",
    "\n",
    "print_acc(tmp_eval_df, lambda x: accuracy(x, on_what='text'))\n"
   ]
  },
  {
   "cell_type": "markdown",
   "metadata": {},
   "source": [
    "### Accuracy with the generated STSG as input"
   ]
  },
  {
   "cell_type": "code",
   "execution_count": null,
   "metadata": {},
   "outputs": [
    {
     "name": "stdout",
     "output_type": "stream",
     "text": [
      "Question type       Total      Accuracy \n",
      "\n",
      "Interaction         1140        44.56%  \n",
      "Sequence              6         50.00%  \n",
      "Prediction            0          nan%   \n",
      "Feasibility          57         40.35%  \n",
      "\n",
      "Average             1203         nan%   \n"
     ]
    },
    {
     "name": "stderr",
     "output_type": "stream",
     "text": [
      "/tmp/ipykernel_3175375/3786578470.py:5: RuntimeWarning: invalid value encountered in scalar divide\n",
      "  return hits_text/eval_df.shape[0]\n"
     ]
    }
   ],
   "source": [
    "tmp_eval_df = pd.DataFrame()\n",
    "tmp_eval_df[['text', 'pred_text']] = eval_df[['text', 'gen_stsg_pred']]\n",
    "\n",
    "print_acc(tmp_eval_df, lambda x: accuracy(x, on_what='text'))\n"
   ]
  },
  {
   "cell_type": "markdown",
   "metadata": {},
   "source": [
    "The question of type `Sequence` are so few that a statistical analysis would be pointless, let's discard them:"
   ]
  },
  {
   "cell_type": "code",
   "execution_count": 46,
   "metadata": {},
   "outputs": [
    {
     "name": "stdout",
     "output_type": "stream",
     "text": [
      "<class 'pandas.core.frame.DataFrame'>\n",
      "Index: 1197 entries, Interaction_T1_14 to Feasibility_T6_1453\n",
      "Data columns (total 8 columns):\n",
      " #   Column              Non-Null Count  Dtype \n",
      "---  ------              --------------  ----- \n",
      " 0   question            1197 non-null   object\n",
      " 1   choices             1197 non-null   object\n",
      " 2   num                 1197 non-null   string\n",
      " 3   text                1197 non-null   string\n",
      " 4   gt_stsg_pred        1197 non-null   object\n",
      " 5   gt_stsg_reasoning   1197 non-null   object\n",
      " 6   gen_stsg_pred       1197 non-null   object\n",
      " 7   gen_stsg_reasoning  1197 non-null   object\n",
      "dtypes: object(6), string(2)\n",
      "memory usage: 84.2+ KB\n"
     ]
    }
   ],
   "source": [
    "eval_df = eval_df.loc[eval_df.index.str.match(r'^[^S]')]\n",
    "eval_df.info()\n"
   ]
  },
  {
   "cell_type": "code",
   "execution_count": null,
   "metadata": {},
   "outputs": [
    {
     "data": {
      "image/png": "[encoded data removed]",
      "text/plain": [
       "<Figure size 800x600 with 2 Axes>"
      ]
     },
     "metadata": {},
     "output_type": "display_data"
    }
   ],
   "source": [
    "gt_stsg_correct = (eval_df['text'] == eval_df['gt_stsg_pred']).astype(int).values\n",
    "gen_stsg_correct = (eval_df['text'] == eval_df['gen_stsg_pred']).astype(int).values\n",
    "\n",
    "cm = confusion_matrix(gt_stsg_correct, gen_stsg_correct)\n",
    "cm_norm = cm.astype('float') / cm.sum()\n",
    "\n",
    "plt.figure(figsize=(8, 6))\n",
    "sns.heatmap(\n",
    "    cm_norm, annot=True, fmt='.1%', cmap='Blues',\n",
    "    xticklabels=['Wrong', 'Correct'], \n",
    "    yticklabels=['Wrong', 'Correct'])\n",
    "\n",
    "plt.xlabel('Generated STSG')\n",
    "plt.ylabel('Ground Truth STSG')\n",
    "plt.title('Agreement Between Predictors')\n",
    "plt.show()\n"
   ]
  },
  {
   "cell_type": "code",
   "execution_count": null,
   "metadata": {},
   "outputs": [
    {
     "data": {
      "image/png": "[encoded data removed]",
      "text/plain": [
       "<Figure size 800x600 with 2 Axes>"
      ]
     },
     "metadata": {},
     "output_type": "display_data"
    }
   ],
   "source": [
    "gt_stsg_correct = (eval_df['text'] == eval_df['gt_stsg_pred']).astype(int).values\n",
    "gen_stsg_correct = (eval_df['text'] == eval_df['gen_stsg_pred']).astype(int).values\n",
    "\n",
    "cm = confusion_matrix(gt_stsg_correct, gen_stsg_correct)\n",
    "cm_norm = cm.astype('float') / cm.sum()\n",
    "\n",
    "extended_matrix = np.zeros((cm.shape[0]+1,cm.shape[1]+1 ))\n",
    "extended_matrix[:-1, :-1] = cm_norm\n",
    "extended_matrix[:-1,-1] = cm_norm.sum(axis=1) # sum the rows (i.e. sum passing by columns a[0][i] for i...)\n",
    "extended_matrix[-1,:-1] = cm_norm.sum(axis=0)\n",
    "extended_matrix[-1, -1] = 1.0\n",
    "\n",
    "plt.figure(figsize=(8, 6))\n",
    "sns.heatmap(\n",
    "    extended_matrix, annot=True, fmt='.1%', cmap='Blues',\n",
    "    xticklabels=['Wrong', 'Correct', 'Marginal sum'], \n",
    "    yticklabels=['Wrong', 'Correct', 'Marginal sum'])\n",
    "\n",
    "plt.xlabel('Generated STSG')\n",
    "plt.ylabel('Ground Truth STSG')\n",
    "plt.title('Agreement Between Predictors')\n",
    "plt.show()\n"
   ]
  },
  {
   "cell_type": "code",
   "execution_count": 49,
   "metadata": {},
   "outputs": [],
   "source": [
    "wrong_wrong_mask = (gt_stsg_correct == 0) & (gen_stsg_correct == 0)\n",
    "wrong_wrong_df = eval_df[wrong_wrong_mask]\n",
    "\n",
    "wrong_but_agree = (wrong_wrong_df['gt_stsg_pred'] == wrong_wrong_df['gen_stsg_pred']).astype(int)\n"
   ]
  },
  {
   "cell_type": "code",
   "execution_count": 50,
   "metadata": {},
   "outputs": [
    {
     "name": "stdout",
     "output_type": "stream",
     "text": [
      "Sub-Confusion Matrix for Wrong-Wrong Cases:\n",
      "col_0                   Prediction Agreement\n",
      "Same Wrong Prediction?                      \n",
      "0                                        122\n",
      "1                                        196\n"
     ]
    }
   ],
   "source": [
    "# Ground truth (0 = different wrong predictions, 1 = same wrong prediction)\n",
    "y_true = np.ones_like(wrong_but_agree)  # (Assuming we want to measure agreement)\n",
    "\n",
    "# Since we're only checking agreement, we can just count matches vs mismatches\n",
    "print(\"Sub-Confusion Matrix for Wrong-Wrong Cases:\")\n",
    "print(pd.crosstab(\n",
    "    wrong_but_agree,\n",
    "    columns=['Prediction Agreement'],\n",
    "    rownames=['Same Wrong Prediction?']\n",
    "))\n"
   ]
  },
  {
   "cell_type": "code",
   "execution_count": null,
   "metadata": {},
   "outputs": [
    {
     "data": {
      "image/png": "[encoded data removed]",
      "text/plain": [
       "<Figure size 640x480 with 2 Axes>"
      ]
     },
     "metadata": {},
     "output_type": "display_data"
    }
   ],
   "source": [
    "sns.heatmap(\n",
    "    pd.crosstab(wrong_but_agree, columns=['']),\n",
    "    annot=True, fmt='d', cmap='Reds',\n",
    "    xticklabels=[''],\n",
    "    yticklabels=['Different Wrong', 'Same Wrong']\n",
    ")\n",
    "plt.title('Agreement in Wrong Predictions')\n",
    "plt.show()\n"
   ]
  },
  {
   "cell_type": "code",
   "execution_count": null,
   "metadata": {},
   "outputs": [
    {
     "data": {
      "image/png": "[encoded data removed]",
      "text/plain": [
       "<Figure size 640x480 with 1 Axes>"
      ]
     },
     "metadata": {},
     "output_type": "display_data"
    }
   ],
   "source": [
    "agreement = np.sum(gt_stsg_correct == gen_stsg_correct)\n",
    "disagreement = len(gt_stsg_correct) - agreement\n",
    "\n",
    "plt.bar(['Agree', 'Disagree'], [agreement, disagreement], color=['green', 'red'])\n",
    "plt.title('Agreement Between GT and Generated Predictions')\n",
    "plt.ylabel('Count')\n",
    "plt.show()\n"
   ]
  },
  {
   "cell_type": "markdown",
   "metadata": {},
   "source": [
    "## Correct-Correct samples"
   ]
  },
  {
   "cell_type": "code",
   "execution_count": 103,
   "metadata": {},
   "outputs": [],
   "source": [
    "correct_correct_mask = (gt_stsg_correct == 1) & (gen_stsg_correct == 1)\n",
    "correct_correct_df = eval_df[correct_correct_mask]\n",
    "\n",
    "ids = correct_correct_df.index.to_list()\n"
   ]
  }
 ],
 "metadata": {
  "kernelspec": {
   "display_name": "base",
   "language": "python",
   "name": "python3"
  },
  "language_info": {
   "codemirror_mode": {
    "name": "ipython",
    "version": 3
   },
   "file_extension": ".py",
   "mimetype": "text/x-python",
   "name": "python",
   "nbconvert_exporter": "python",
   "pygments_lexer": "ipython3",
   "version": "3.10.9"
  }
 },
 "nbformat": 4,
 "nbformat_minor": 2
}
