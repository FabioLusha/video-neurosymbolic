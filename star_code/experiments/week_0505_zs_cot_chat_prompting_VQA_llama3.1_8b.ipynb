{
 "cells": [
  {
   "cell_type": "code",
   "execution_count": 68,
   "metadata": {},
   "outputs": [],
   "source": [
    "import random\n",
    "import json\n",
    "import re\n",
    "import os\n",
    "from pathlib import Path\n",
    "\n",
    "import numpy as np\n",
    "import pandas as pd\n",
    "\n",
    "import matplotlib.pyplot as plt\n",
    "import seaborn as sns\n",
    "\n",
    "from sklearn.metrics import confusion_matrix\n",
    "\n",
    "random.seed(6)\n",
    "np.random.seed(6)\n",
    "\n",
    "WORK_DIR = Path.cwd().parent\n"
   ]
  },
  {
   "cell_type": "markdown",
   "metadata": {},
   "source": [
    "# Experiment - VQA with video frames\n",
    "## Llama3.2 8b on chat mode\n"
   ]
  },
  {
   "cell_type": "markdown",
   "metadata": {},
   "source": [
    "## Prompts"
   ]
  },
  {
   "cell_type": "code",
   "execution_count": 69,
   "metadata": {},
   "outputs": [
    {
     "name": "stdout",
     "output_type": "stream",
     "text": [
      "You will receive a sequence of images and a question related to them. Analyze the images in the order they are presented,\\\n",
      "extract relevant details, and identify any patterns, changes, or relationships between them. Use this information to provide\\\n",
      "a choose one of the presented alternatives\n",
      "\n",
      "Instructions:\n",
      "- Describe each image in the sequence briefly but meaningfully.\n",
      "- Note any important transitions or developments between consecutive images.\n",
      "- Combine observations to infer the overall context or narrative.\n",
      "- Answer the question based on your analysis, ensuring your response is grounded in the visual evidence.\n",
      "- Read the question and reason about the answer step by step.\n",
      "- In your answer include key events or relationships that help you in determine the correct answer.\n",
      "- Be careful to reproduce the chosen alternative as it is presented.\n",
      "\n",
      "Q: {question}\n",
      "<Alternatives>\n",
      "A. {c1}\n",
      "B. {c2}\n",
      "C. {c3}\n",
      "D. {c4}\n",
      "</Alternatives>\n"
     ]
    }
   ],
   "source": [
    "with open(WORK_DIR / 'data/prompts/img_answer/user_prompt.txt', 'r') as f:\n",
    "    pr = f.read()\n",
    "\n",
    "print(pr)\n"
   ]
  },
  {
   "cell_type": "code",
   "execution_count": 70,
   "metadata": {},
   "outputs": [
    {
     "name": "stdout",
     "output_type": "stream",
     "text": [
      "Therefore the final answer is?\n",
      "\n",
      "Your response must be provided in valid JSON format as follows:\n",
      "{\"answer\": \"your complete answer here\"}\n",
      "\n",
      "IMPORTANT: Always include both the letter (A, B, C, D, etc.) AND the full text of the answer in your response.\n",
      "Do not abbreviate or shorten the answer. For example, if the correct answer is \"A. the laptop\", your response \n",
      "should be {\"answer\": \"A. the laptop\"}, not {\"answer\": \"laptop\"} or {\"answer\": \"A\"}.\n"
     ]
    }
   ],
   "source": [
    "reply = \"\"\"\\\n",
    "Therefore the final answer is?\n",
    "\n",
    "Your response must be provided in valid JSON format as follows:\n",
    "{\"answer\": \"your complete answer here\"}\n",
    "\n",
    "IMPORTANT: Always include both the letter (A, B, C, D, etc.) AND the full text of the answer in your response.\n",
    "Do not abbreviate or shorten the answer. For example, if the correct answer is \"A. the laptop\", your response \n",
    "should be {\"answer\": \"A. the laptop\"}, not {\"answer\": \"laptop\"} or {\"answer\": \"A\"}.\\\n",
    "\"\"\"\n",
    "\n",
    "print(reply)\n"
   ]
  },
  {
   "cell_type": "markdown",
   "metadata": {},
   "source": [
    "Let's load the ground truth from the `STAR_QA_question_and_stsg_val.json` file where we extracted QA and spatio-temporal scene graphs"
   ]
  },
  {
   "cell_type": "code",
   "execution_count": 71,
   "metadata": {},
   "outputs": [
    {
     "data": {
      "text/html": [
       "<div>\n",
       "<style scoped>\n",
       "    .dataframe tbody tr th:only-of-type {\n",
       "        vertical-align: middle;\n",
       "    }\n",
       "\n",
       "    .dataframe tbody tr th {\n",
       "        vertical-align: top;\n",
       "    }\n",
       "\n",
       "    .dataframe thead th {\n",
       "        text-align: right;\n",
       "    }\n",
       "</style>\n",
       "<table border=\"1\" class=\"dataframe\">\n",
       "  <thead>\n",
       "    <tr style=\"text-align: right;\">\n",
       "      <th></th>\n",
       "      <th>question</th>\n",
       "      <th>choices</th>\n",
       "      <th>num</th>\n",
       "      <th>text</th>\n",
       "      <th>stsg</th>\n",
       "    </tr>\n",
       "    <tr>\n",
       "      <th>id</th>\n",
       "      <th></th>\n",
       "      <th></th>\n",
       "      <th></th>\n",
       "      <th></th>\n",
       "      <th></th>\n",
       "    </tr>\n",
       "  </thead>\n",
       "  <tbody>\n",
       "    <tr>\n",
       "      <th>Interaction_T1_13</th>\n",
       "      <td>Which object was tidied up by the person?</td>\n",
       "      <td>{'0': 'The closet/cabinet.', '1': 'The blanket...</td>\n",
       "      <td>2</td>\n",
       "      <td>The clothes.</td>\n",
       "      <td>[[person - on_the_side_of - clothes], [person ...</td>\n",
       "    </tr>\n",
       "    <tr>\n",
       "      <th>Interaction_T1_14</th>\n",
       "      <td>Which object was tidied up by the person?</td>\n",
       "      <td>{'0': 'The blanket.', '1': 'The table.', '2': ...</td>\n",
       "      <td>2</td>\n",
       "      <td>The clothes.</td>\n",
       "      <td>[[person - holding - towel, person - in_front_...</td>\n",
       "    </tr>\n",
       "    <tr>\n",
       "      <th>Interaction_T1_31</th>\n",
       "      <td>Which object was thrown by the person?</td>\n",
       "      <td>{'0': 'The pillow.', '1': 'The bag.', '2': 'Th...</td>\n",
       "      <td>2</td>\n",
       "      <td>The clothes.</td>\n",
       "      <td>[[person - wearing - clothes, person - above -...</td>\n",
       "    </tr>\n",
       "    <tr>\n",
       "      <th>Interaction_T1_32</th>\n",
       "      <td>Which object was put down by the person?</td>\n",
       "      <td>{'0': 'The food.', '1': 'The shoe.', '2': 'The...</td>\n",
       "      <td>1</td>\n",
       "      <td>The shoe.</td>\n",
       "      <td>[[person - on_the_side_of - clothes, person - ...</td>\n",
       "    </tr>\n",
       "    <tr>\n",
       "      <th>Interaction_T1_40</th>\n",
       "      <td>Which object was tidied up by the person?</td>\n",
       "      <td>{'0': 'The broom.', '1': 'The closet/cabinet.'...</td>\n",
       "      <td>1</td>\n",
       "      <td>The closet/cabinet.</td>\n",
       "      <td>[[person - holding - clothes, person - in_fron...</td>\n",
       "    </tr>\n",
       "    <tr>\n",
       "      <th>...</th>\n",
       "      <td>...</td>\n",
       "      <td>...</td>\n",
       "      <td>...</td>\n",
       "      <td>...</td>\n",
       "      <td>...</td>\n",
       "    </tr>\n",
       "    <tr>\n",
       "      <th>Feasibility_T6_1453</th>\n",
       "      <td>What is the person able to do after taking the...</td>\n",
       "      <td>{'0': 'Wash the table.', '1': 'Take the box.',...</td>\n",
       "      <td>0</td>\n",
       "      <td>Wash the table.</td>\n",
       "      <td>[[person - on_the_side_of - table, person - ho...</td>\n",
       "    </tr>\n",
       "    <tr>\n",
       "      <th>Feasibility_T6_1454</th>\n",
       "      <td>What is the person able to do after walking th...</td>\n",
       "      <td>{'0': 'Take the towel.', '1': 'Throw the bag.'...</td>\n",
       "      <td>0</td>\n",
       "      <td>Take the towel.</td>\n",
       "      <td>[[person - in_front_of - table], [person - in_...</td>\n",
       "    </tr>\n",
       "    <tr>\n",
       "      <th>Feasibility_T6_1455</th>\n",
       "      <td>What is the person able to do after walking th...</td>\n",
       "      <td>{'0': 'Throw the bag.', '1': 'Wash the table.'...</td>\n",
       "      <td>1</td>\n",
       "      <td>Wash the table.</td>\n",
       "      <td>[[person - in_front_of - table], [person - in_...</td>\n",
       "    </tr>\n",
       "    <tr>\n",
       "      <th>Feasibility_T6_1456</th>\n",
       "      <td>What is the person able to do after putting th...</td>\n",
       "      <td>{'0': 'Hold the food.', '1': 'Open the closet/...</td>\n",
       "      <td>3</td>\n",
       "      <td>Wash the table.</td>\n",
       "      <td>[[person - in_front_of - table], [person - in_...</td>\n",
       "    </tr>\n",
       "    <tr>\n",
       "      <th>Feasibility_T6_1468</th>\n",
       "      <td>What is the person able to do after opening th...</td>\n",
       "      <td>{'0': 'Wash the window.', '1': 'Hold the food....</td>\n",
       "      <td>1</td>\n",
       "      <td>Hold the food.</td>\n",
       "      <td>[[person - in_front_of - refrigerator], [perso...</td>\n",
       "    </tr>\n",
       "  </tbody>\n",
       "</table>\n",
       "<p>7098 rows × 5 columns</p>\n",
       "</div>"
      ],
      "text/plain": [
       "                                                              question  \\\n",
       "id                                                                       \n",
       "Interaction_T1_13            Which object was tidied up by the person?   \n",
       "Interaction_T1_14            Which object was tidied up by the person?   \n",
       "Interaction_T1_31               Which object was thrown by the person?   \n",
       "Interaction_T1_32             Which object was put down by the person?   \n",
       "Interaction_T1_40            Which object was tidied up by the person?   \n",
       "...                                                                ...   \n",
       "Feasibility_T6_1453  What is the person able to do after taking the...   \n",
       "Feasibility_T6_1454  What is the person able to do after walking th...   \n",
       "Feasibility_T6_1455  What is the person able to do after walking th...   \n",
       "Feasibility_T6_1456  What is the person able to do after putting th...   \n",
       "Feasibility_T6_1468  What is the person able to do after opening th...   \n",
       "\n",
       "                                                               choices num  \\\n",
       "id                                                                           \n",
       "Interaction_T1_13    {'0': 'The closet/cabinet.', '1': 'The blanket...   2   \n",
       "Interaction_T1_14    {'0': 'The blanket.', '1': 'The table.', '2': ...   2   \n",
       "Interaction_T1_31    {'0': 'The pillow.', '1': 'The bag.', '2': 'Th...   2   \n",
       "Interaction_T1_32    {'0': 'The food.', '1': 'The shoe.', '2': 'The...   1   \n",
       "Interaction_T1_40    {'0': 'The broom.', '1': 'The closet/cabinet.'...   1   \n",
       "...                                                                ...  ..   \n",
       "Feasibility_T6_1453  {'0': 'Wash the table.', '1': 'Take the box.',...   0   \n",
       "Feasibility_T6_1454  {'0': 'Take the towel.', '1': 'Throw the bag.'...   0   \n",
       "Feasibility_T6_1455  {'0': 'Throw the bag.', '1': 'Wash the table.'...   1   \n",
       "Feasibility_T6_1456  {'0': 'Hold the food.', '1': 'Open the closet/...   3   \n",
       "Feasibility_T6_1468  {'0': 'Wash the window.', '1': 'Hold the food....   1   \n",
       "\n",
       "                                    text  \\\n",
       "id                                         \n",
       "Interaction_T1_13           The clothes.   \n",
       "Interaction_T1_14           The clothes.   \n",
       "Interaction_T1_31           The clothes.   \n",
       "Interaction_T1_32              The shoe.   \n",
       "Interaction_T1_40    The closet/cabinet.   \n",
       "...                                  ...   \n",
       "Feasibility_T6_1453      Wash the table.   \n",
       "Feasibility_T6_1454      Take the towel.   \n",
       "Feasibility_T6_1455      Wash the table.   \n",
       "Feasibility_T6_1456      Wash the table.   \n",
       "Feasibility_T6_1468       Hold the food.   \n",
       "\n",
       "                                                                  stsg  \n",
       "id                                                                      \n",
       "Interaction_T1_13    [[person - on_the_side_of - clothes], [person ...  \n",
       "Interaction_T1_14    [[person - holding - towel, person - in_front_...  \n",
       "Interaction_T1_31    [[person - wearing - clothes, person - above -...  \n",
       "Interaction_T1_32    [[person - on_the_side_of - clothes, person - ...  \n",
       "Interaction_T1_40    [[person - holding - clothes, person - in_fron...  \n",
       "...                                                                ...  \n",
       "Feasibility_T6_1453  [[person - on_the_side_of - table, person - ho...  \n",
       "Feasibility_T6_1454  [[person - in_front_of - table], [person - in_...  \n",
       "Feasibility_T6_1455  [[person - in_front_of - table], [person - in_...  \n",
       "Feasibility_T6_1456  [[person - in_front_of - table], [person - in_...  \n",
       "Feasibility_T6_1468  [[person - in_front_of - refrigerator], [perso...  \n",
       "\n",
       "[7098 rows x 5 columns]"
      ]
     },
     "execution_count": 71,
     "metadata": {},
     "output_type": "execute_result"
    }
   ],
   "source": [
    "ground_truth = []\n",
    "\n",
    "with open(WORK_DIR / 'data/datasets/STAR_QA_and_stsg_val.json') as f:\n",
    "    data = json.load(f)\n",
    "    ground_truth = [{\n",
    "        'id': sample['question_id'],\n",
    "        'question': sample['question'],\n",
    "        'choices': sample['choices'],\n",
    "        'num': sample['answer'],\n",
    "        'text': sample['choices'][str(sample['answer'])],\n",
    "        'stsg': sample['stsg'],\n",
    "    } for sample in data]\n",
    "\n",
    "\n",
    "# we keep num as str so we can directrly access choices dictionaries\n",
    "gt_df = pd.DataFrame(ground_truth).astype({'id': 'string', 'num': 'string', 'text': 'string'})\n",
    "gt_df.set_index('id', inplace=True)\n",
    "gt_df\n"
   ]
  },
  {
   "cell_type": "markdown",
   "metadata": {},
   "source": [
    "## Loading predicted answers evaluation"
   ]
  },
  {
   "cell_type": "code",
   "execution_count": 72,
   "metadata": {},
   "outputs": [
    {
     "data": {
      "text/html": [
       "<div>\n",
       "<style scoped>\n",
       "    .dataframe tbody tr th:only-of-type {\n",
       "        vertical-align: middle;\n",
       "    }\n",
       "\n",
       "    .dataframe tbody tr th {\n",
       "        vertical-align: top;\n",
       "    }\n",
       "\n",
       "    .dataframe thead th {\n",
       "        text-align: right;\n",
       "    }\n",
       "</style>\n",
       "<table border=\"1\" class=\"dataframe\">\n",
       "  <thead>\n",
       "    <tr style=\"text-align: right;\">\n",
       "      <th></th>\n",
       "      <th>chat_history</th>\n",
       "    </tr>\n",
       "    <tr>\n",
       "      <th>id</th>\n",
       "      <th></th>\n",
       "    </tr>\n",
       "  </thead>\n",
       "  <tbody>\n",
       "    <tr>\n",
       "      <th>Interaction_T3_2531</th>\n",
       "      <td>[{'role': 'user', 'content': '    You will rec...</td>\n",
       "    </tr>\n",
       "    <tr>\n",
       "      <th>Interaction_T1_2219</th>\n",
       "      <td>[{'role': 'user', 'content': '    You will rec...</td>\n",
       "    </tr>\n",
       "    <tr>\n",
       "      <th>Sequence_T4_1348</th>\n",
       "      <td>[{'role': 'user', 'content': '    You will rec...</td>\n",
       "    </tr>\n",
       "    <tr>\n",
       "      <th>Sequence_T4_4702</th>\n",
       "      <td>[{'role': 'user', 'content': '    You will rec...</td>\n",
       "    </tr>\n",
       "    <tr>\n",
       "      <th>Sequence_T1_3418</th>\n",
       "      <td>[{'role': 'user', 'content': '    You will rec...</td>\n",
       "    </tr>\n",
       "    <tr>\n",
       "      <th>...</th>\n",
       "      <td>...</td>\n",
       "    </tr>\n",
       "    <tr>\n",
       "      <th>Sequence_T2_2783</th>\n",
       "      <td>[{'role': 'user', 'content': '    You will rec...</td>\n",
       "    </tr>\n",
       "    <tr>\n",
       "      <th>Sequence_T3_1333</th>\n",
       "      <td>[{'role': 'user', 'content': '    You will rec...</td>\n",
       "    </tr>\n",
       "    <tr>\n",
       "      <th>Interaction_T2_6458</th>\n",
       "      <td>[{'role': 'user', 'content': '    You will rec...</td>\n",
       "    </tr>\n",
       "    <tr>\n",
       "      <th>Prediction_T1_1456</th>\n",
       "      <td>[{'role': 'user', 'content': '    You will rec...</td>\n",
       "    </tr>\n",
       "    <tr>\n",
       "      <th>Interaction_T3_3436</th>\n",
       "      <td>[{'role': 'user', 'content': '    You will rec...</td>\n",
       "    </tr>\n",
       "  </tbody>\n",
       "</table>\n",
       "<p>6104 rows × 1 columns</p>\n",
       "</div>"
      ],
      "text/plain": [
       "                                                          chat_history\n",
       "id                                                                    \n",
       "Interaction_T3_2531  [{'role': 'user', 'content': '    You will rec...\n",
       "Interaction_T1_2219  [{'role': 'user', 'content': '    You will rec...\n",
       "Sequence_T4_1348     [{'role': 'user', 'content': '    You will rec...\n",
       "Sequence_T4_4702     [{'role': 'user', 'content': '    You will rec...\n",
       "Sequence_T1_3418     [{'role': 'user', 'content': '    You will rec...\n",
       "...                                                                ...\n",
       "Sequence_T2_2783     [{'role': 'user', 'content': '    You will rec...\n",
       "Sequence_T3_1333     [{'role': 'user', 'content': '    You will rec...\n",
       "Interaction_T2_6458  [{'role': 'user', 'content': '    You will rec...\n",
       "Prediction_T1_1456   [{'role': 'user', 'content': '    You will rec...\n",
       "Interaction_T3_3436  [{'role': 'user', 'content': '    You will rec...\n",
       "\n",
       "[6104 rows x 1 columns]"
      ]
     },
     "execution_count": 72,
     "metadata": {},
     "output_type": "execute_result"
    }
   ],
   "source": [
    "predictions = []\n",
    "with open(WORK_DIR / 'outputs/responses_llama3.1:8b_VQA_20250502_23:17:99.jsonl', mode='r', encoding='utf-8', errors='strict') as f:\n",
    "    predictions = [json.loads(line) for line in f.readlines()]\n",
    "\n",
    "# transforming the id key from `qid` to `id` for consistency and `response` to `answer`\n",
    "predictions_df = pd.DataFrame(predictions, dtype='string').rename(columns={'qid':'id'})\n",
    "predictions_df.set_index('id', inplace=True)\n",
    "predictions_df\n",
    "\n"
   ]
  },
  {
   "cell_type": "code",
   "execution_count": 73,
   "metadata": {},
   "outputs": [
    {
     "data": {
      "text/html": [
       "<div>\n",
       "<style scoped>\n",
       "    .dataframe tbody tr th:only-of-type {\n",
       "        vertical-align: middle;\n",
       "    }\n",
       "\n",
       "    .dataframe tbody tr th {\n",
       "        vertical-align: top;\n",
       "    }\n",
       "\n",
       "    .dataframe thead th {\n",
       "        text-align: right;\n",
       "    }\n",
       "</style>\n",
       "<table border=\"1\" class=\"dataframe\">\n",
       "  <thead>\n",
       "    <tr style=\"text-align: right;\">\n",
       "      <th></th>\n",
       "      <th>chat_history</th>\n",
       "    </tr>\n",
       "    <tr>\n",
       "      <th>id</th>\n",
       "      <th></th>\n",
       "    </tr>\n",
       "  </thead>\n",
       "  <tbody>\n",
       "    <tr>\n",
       "      <th>Interaction_T3_2531</th>\n",
       "      <td>[{'role': 'user', 'content': '    You will rec...</td>\n",
       "    </tr>\n",
       "    <tr>\n",
       "      <th>Interaction_T1_2219</th>\n",
       "      <td>[{'role': 'user', 'content': '    You will rec...</td>\n",
       "    </tr>\n",
       "    <tr>\n",
       "      <th>Sequence_T4_1348</th>\n",
       "      <td>[{'role': 'user', 'content': '    You will rec...</td>\n",
       "    </tr>\n",
       "    <tr>\n",
       "      <th>Sequence_T4_4702</th>\n",
       "      <td>[{'role': 'user', 'content': '    You will rec...</td>\n",
       "    </tr>\n",
       "    <tr>\n",
       "      <th>Sequence_T1_3418</th>\n",
       "      <td>[{'role': 'user', 'content': '    You will rec...</td>\n",
       "    </tr>\n",
       "    <tr>\n",
       "      <th>...</th>\n",
       "      <td>...</td>\n",
       "    </tr>\n",
       "    <tr>\n",
       "      <th>Sequence_T2_2783</th>\n",
       "      <td>[{'role': 'user', 'content': '    You will rec...</td>\n",
       "    </tr>\n",
       "    <tr>\n",
       "      <th>Sequence_T3_1333</th>\n",
       "      <td>[{'role': 'user', 'content': '    You will rec...</td>\n",
       "    </tr>\n",
       "    <tr>\n",
       "      <th>Interaction_T2_6458</th>\n",
       "      <td>[{'role': 'user', 'content': '    You will rec...</td>\n",
       "    </tr>\n",
       "    <tr>\n",
       "      <th>Prediction_T1_1456</th>\n",
       "      <td>[{'role': 'user', 'content': '    You will rec...</td>\n",
       "    </tr>\n",
       "    <tr>\n",
       "      <th>Interaction_T3_3436</th>\n",
       "      <td>[{'role': 'user', 'content': '    You will rec...</td>\n",
       "    </tr>\n",
       "  </tbody>\n",
       "</table>\n",
       "<p>6104 rows × 1 columns</p>\n",
       "</div>"
      ],
      "text/plain": [
       "                                                          chat_history\n",
       "id                                                                    \n",
       "Interaction_T3_2531  [{'role': 'user', 'content': '    You will rec...\n",
       "Interaction_T1_2219  [{'role': 'user', 'content': '    You will rec...\n",
       "Sequence_T4_1348     [{'role': 'user', 'content': '    You will rec...\n",
       "Sequence_T4_4702     [{'role': 'user', 'content': '    You will rec...\n",
       "Sequence_T1_3418     [{'role': 'user', 'content': '    You will rec...\n",
       "...                                                                ...\n",
       "Sequence_T2_2783     [{'role': 'user', 'content': '    You will rec...\n",
       "Sequence_T3_1333     [{'role': 'user', 'content': '    You will rec...\n",
       "Interaction_T2_6458  [{'role': 'user', 'content': '    You will rec...\n",
       "Prediction_T1_1456   [{'role': 'user', 'content': '    You will rec...\n",
       "Interaction_T3_3436  [{'role': 'user', 'content': '    You will rec...\n",
       "\n",
       "[6104 rows x 1 columns]"
      ]
     },
     "execution_count": 73,
     "metadata": {},
     "output_type": "execute_result"
    }
   ],
   "source": [
    "predictions_df['chat_history'] = \\\n",
    "    predictions_df['chat_history'] \\\n",
    "    .apply(lambda x: eval(x))\n",
    "\n",
    "predictions_df\n"
   ]
  },
  {
   "cell_type": "code",
   "execution_count": 74,
   "metadata": {},
   "outputs": [
    {
     "name": "stdout",
     "output_type": "stream",
     "text": [
      "Total answers: 6104\n",
      "Answers following JSON template: 6069\n",
      "Percentage following JSON template: 99.43%\n"
     ]
    }
   ],
   "source": [
    "predictions_df['answer'] = predictions_df['chat_history'].apply(lambda x: x[-1]['content'])\n",
    "# Create mask for answers that follow JSON syntax\n",
    "json_mask = predictions_df['answer'] .str.match(r'^\\s*{[^}]+}\\s*$')\n",
    "matches_json_template = json_mask.sum()\n",
    "\n",
    "print(f\"Total answers: {len(predictions_df)}\")\n",
    "print(f\"Answers following JSON template: {matches_json_template}\")\n",
    "print(f\"Percentage following JSON template: {(matches_json_template/len(predictions_df))*100:.2f}%\")\n"
   ]
  },
  {
   "cell_type": "markdown",
   "metadata": {},
   "source": [
    "Here we have wrong formantting, regardless of the correctness of the answer"
   ]
  },
  {
   "cell_type": "code",
   "execution_count": 75,
   "metadata": {},
   "outputs": [
    {
     "data": {
      "text/plain": [
       "'Since I don\\'t have the images to analyze, I\\'ll provide a generic response.\\n\\n{\"answer\": \"I\\'m unable to determine the correct answer without analyzing the images.\"}'"
      ]
     },
     "execution_count": 75,
     "metadata": {},
     "output_type": "execute_result"
    }
   ],
   "source": [
    "predictions_df[~json_mask]['answer'].iloc[0]\n"
   ]
  },
  {
   "cell_type": "code",
   "execution_count": 76,
   "metadata": {},
   "outputs": [
    {
     "data": {
      "text/plain": [
       "'{\"answer\": \"B. The clothes.\"} \\n\\nHowever, I must note that there is no image of clothes in the sequence provided. My previous analysis was based on the assumption that the person put down both the bag and the towel, but since the question asks which object was put down by the person, it\\'s likely that the correct answer is indeed one of these two objects.\\n\\nGiven the images, I would have expected the correct answer to be either \"A. The pillow\" (which was not my initial conclusion) or \"D. The bag\".'"
      ]
     },
     "execution_count": 76,
     "metadata": {},
     "output_type": "execute_result"
    }
   ],
   "source": [
    "predictions_df[~json_mask]['answer'].iloc[1]\n"
   ]
  },
  {
   "cell_type": "code",
   "execution_count": 77,
   "metadata": {},
   "outputs": [
    {
     "data": {
      "text/plain": [
       "'C. Opened the bag.'"
      ]
     },
     "execution_count": 77,
     "metadata": {},
     "output_type": "execute_result"
    }
   ],
   "source": [
    "eval(predictions_df[json_mask]['answer'].iloc[0])['answer']\n"
   ]
  },
  {
   "cell_type": "code",
   "execution_count": 78,
   "metadata": {},
   "outputs": [],
   "source": [
    "predictions_df.loc[json_mask, 'answer'] = predictions_df.loc[json_mask, 'answer'].apply(lambda x: eval(x)['answer'].strip())\n",
    "predictions_df.loc[~json_mask, 'answer'] = \"\"\n"
   ]
  },
  {
   "cell_type": "code",
   "execution_count": 79,
   "metadata": {},
   "outputs": [
    {
     "name": "stdout",
     "output_type": "stream",
     "text": [
      "Answer following the template: 6062\n",
      "99.31% of the total\n",
      "\n",
      "Only 42 samples do not contain the answer in the response with the specified format\n"
     ]
    },
    {
     "name": "stderr",
     "output_type": "stream",
     "text": [
      "/tmp/ipykernel_5108/3127831504.py:2: UserWarning: This pattern is interpreted as a regular expression, and has match groups. To actually get the groups, use str.extract.\n",
      "  contains_answer = predictions_df['answer'].str.contains(ans_regex_pattern, regex=True)\n"
     ]
    }
   ],
   "source": [
    "ans_regex_pattern = r'^(?:[A-Z]\\.)\\s+((?:\\w+(?:\\s|\\/)?){,10}\\.?)'\n",
    "contains_answer = predictions_df['answer'].str.contains(ans_regex_pattern, regex=True)\n",
    "\n",
    "print(f\"Answer following the template: {contains_answer.value_counts()[True]}\\n\"\n",
    "      f\"{contains_answer.value_counts()[True]/predictions_df.shape[0]:.2%} of the total\")\n",
    "\n",
    "print(f\"\\nOnly {contains_answer.value_counts()[False]} samples do not contain the answer in the response with the specified format\")\n"
   ]
  },
  {
   "cell_type": "code",
   "execution_count": 80,
   "metadata": {},
   "outputs": [
    {
     "data": {
      "text/plain": [
       "id\n",
       "Interaction_T4_3321    None of the above alternatives can be accurate...\n",
       "Interaction_T4_1122                                                     \n",
       "Interaction_T1_4495                                                     \n",
       "Interaction_T2_2582                                                     \n",
       "Feasibility_T2_374                                                      \n",
       "Interaction_T1_4980                                                     \n",
       "Sequence_T4_1824       There is insufficient information to determine...\n",
       "Interaction_T4_476     None of the provided alternatives directly mat...\n",
       "Interaction_T4_4728                                                     \n",
       "Interaction_T4_4253                                   None of the above.\n",
       "Sequence_T5_1101                                                        \n",
       "Interaction_T2_3824                                                     \n",
       "Interaction_T1_7185                                                     \n",
       "Interaction_T2_8090                                                     \n",
       "Interaction_T1_6982                                                     \n",
       "Interaction_T2_4946                                                     \n",
       "Sequence_T6_1551                                                        \n",
       "Prediction_T4_1783                                                      \n",
       "Interaction_T4_862                                                      \n",
       "Sequence_T5_3408                                                        \n",
       "Interaction_T2_2552                                                     \n",
       "Sequence_T1_2085                                                        \n",
       "Prediction_T4_560                                                       \n",
       "Interaction_T4_1340    None of the above alternatives are supported b...\n",
       "Interaction_T1_5945                                                     \n",
       "Interaction_T2_6061                                                     \n",
       "Sequence_T3_239                                                         \n",
       "Interaction_T1_297                                                      \n",
       "Interaction_T4_4736    There isn't a clear alternative that matches t...\n",
       "Interaction_T1_3787                                                     \n",
       "Interaction_T1_2000                                                     \n",
       "Interaction_T1_1685                                                     \n",
       "Interaction_T1_5573                                                     \n",
       "Interaction_T3_5                                                        \n",
       "Interaction_T1_651                                                      \n",
       "Prediction_T3_853                                     None of the above.\n",
       "Feasibility_T2_1152                                                     \n",
       "Sequence_T2_1525                                                        \n",
       "Sequence_T2_3580                                                        \n",
       "Sequence_T3_6384                                                        \n",
       "Interaction_T1_7089                                                     \n",
       "Feasibility_T2_659                                                      \n",
       "Name: answer, dtype: object"
      ]
     },
     "execution_count": 80,
     "metadata": {},
     "output_type": "execute_result"
    }
   ],
   "source": [
    "predictions_df.loc[~contains_answer, 'answer']\n"
   ]
  },
  {
   "cell_type": "code",
   "execution_count": 81,
   "metadata": {},
   "outputs": [
    {
     "data": {
      "text/html": [
       "<div>\n",
       "<style scoped>\n",
       "    .dataframe tbody tr th:only-of-type {\n",
       "        vertical-align: middle;\n",
       "    }\n",
       "\n",
       "    .dataframe tbody tr th {\n",
       "        vertical-align: top;\n",
       "    }\n",
       "\n",
       "    .dataframe thead th {\n",
       "        text-align: right;\n",
       "    }\n",
       "</style>\n",
       "<table border=\"1\" class=\"dataframe\">\n",
       "  <thead>\n",
       "    <tr style=\"text-align: right;\">\n",
       "      <th></th>\n",
       "      <th>question</th>\n",
       "      <th>choices</th>\n",
       "      <th>num</th>\n",
       "      <th>text</th>\n",
       "      <th>stsg</th>\n",
       "    </tr>\n",
       "    <tr>\n",
       "      <th>id</th>\n",
       "      <th></th>\n",
       "      <th></th>\n",
       "      <th></th>\n",
       "      <th></th>\n",
       "      <th></th>\n",
       "    </tr>\n",
       "  </thead>\n",
       "  <tbody>\n",
       "    <tr>\n",
       "      <th>Interaction_T1_13</th>\n",
       "      <td>Which object was tidied up by the person?</td>\n",
       "      <td>{'0': 'The closet/cabinet.', '1': 'The blanket...</td>\n",
       "      <td>2</td>\n",
       "      <td>The clothes.</td>\n",
       "      <td>[[person - on_the_side_of - clothes], [person ...</td>\n",
       "    </tr>\n",
       "    <tr>\n",
       "      <th>Interaction_T1_14</th>\n",
       "      <td>Which object was tidied up by the person?</td>\n",
       "      <td>{'0': 'The blanket.', '1': 'The table.', '2': ...</td>\n",
       "      <td>2</td>\n",
       "      <td>The clothes.</td>\n",
       "      <td>[[person - holding - towel, person - in_front_...</td>\n",
       "    </tr>\n",
       "    <tr>\n",
       "      <th>Interaction_T1_31</th>\n",
       "      <td>Which object was thrown by the person?</td>\n",
       "      <td>{'0': 'The pillow.', '1': 'The bag.', '2': 'Th...</td>\n",
       "      <td>2</td>\n",
       "      <td>The clothes.</td>\n",
       "      <td>[[person - wearing - clothes, person - above -...</td>\n",
       "    </tr>\n",
       "    <tr>\n",
       "      <th>Interaction_T1_32</th>\n",
       "      <td>Which object was put down by the person?</td>\n",
       "      <td>{'0': 'The food.', '1': 'The shoe.', '2': 'The...</td>\n",
       "      <td>1</td>\n",
       "      <td>The shoe.</td>\n",
       "      <td>[[person - on_the_side_of - clothes, person - ...</td>\n",
       "    </tr>\n",
       "    <tr>\n",
       "      <th>Interaction_T1_40</th>\n",
       "      <td>Which object was tidied up by the person?</td>\n",
       "      <td>{'0': 'The broom.', '1': 'The closet/cabinet.'...</td>\n",
       "      <td>1</td>\n",
       "      <td>The closet/cabinet.</td>\n",
       "      <td>[[person - holding - clothes, person - in_fron...</td>\n",
       "    </tr>\n",
       "    <tr>\n",
       "      <th>...</th>\n",
       "      <td>...</td>\n",
       "      <td>...</td>\n",
       "      <td>...</td>\n",
       "      <td>...</td>\n",
       "      <td>...</td>\n",
       "    </tr>\n",
       "    <tr>\n",
       "      <th>Feasibility_T6_1453</th>\n",
       "      <td>What is the person able to do after taking the...</td>\n",
       "      <td>{'0': 'Wash the table.', '1': 'Take the box.',...</td>\n",
       "      <td>0</td>\n",
       "      <td>Wash the table.</td>\n",
       "      <td>[[person - on_the_side_of - table, person - ho...</td>\n",
       "    </tr>\n",
       "    <tr>\n",
       "      <th>Feasibility_T6_1454</th>\n",
       "      <td>What is the person able to do after walking th...</td>\n",
       "      <td>{'0': 'Take the towel.', '1': 'Throw the bag.'...</td>\n",
       "      <td>0</td>\n",
       "      <td>Take the towel.</td>\n",
       "      <td>[[person - in_front_of - table], [person - in_...</td>\n",
       "    </tr>\n",
       "    <tr>\n",
       "      <th>Feasibility_T6_1455</th>\n",
       "      <td>What is the person able to do after walking th...</td>\n",
       "      <td>{'0': 'Throw the bag.', '1': 'Wash the table.'...</td>\n",
       "      <td>1</td>\n",
       "      <td>Wash the table.</td>\n",
       "      <td>[[person - in_front_of - table], [person - in_...</td>\n",
       "    </tr>\n",
       "    <tr>\n",
       "      <th>Feasibility_T6_1456</th>\n",
       "      <td>What is the person able to do after putting th...</td>\n",
       "      <td>{'0': 'Hold the food.', '1': 'Open the closet/...</td>\n",
       "      <td>3</td>\n",
       "      <td>Wash the table.</td>\n",
       "      <td>[[person - in_front_of - table], [person - in_...</td>\n",
       "    </tr>\n",
       "    <tr>\n",
       "      <th>Feasibility_T6_1468</th>\n",
       "      <td>What is the person able to do after opening th...</td>\n",
       "      <td>{'0': 'Wash the window.', '1': 'Hold the food....</td>\n",
       "      <td>1</td>\n",
       "      <td>Hold the food.</td>\n",
       "      <td>[[person - in_front_of - refrigerator], [perso...</td>\n",
       "    </tr>\n",
       "  </tbody>\n",
       "</table>\n",
       "<p>7098 rows × 5 columns</p>\n",
       "</div>"
      ],
      "text/plain": [
       "                                                              question  \\\n",
       "id                                                                       \n",
       "Interaction_T1_13            Which object was tidied up by the person?   \n",
       "Interaction_T1_14            Which object was tidied up by the person?   \n",
       "Interaction_T1_31               Which object was thrown by the person?   \n",
       "Interaction_T1_32             Which object was put down by the person?   \n",
       "Interaction_T1_40            Which object was tidied up by the person?   \n",
       "...                                                                ...   \n",
       "Feasibility_T6_1453  What is the person able to do after taking the...   \n",
       "Feasibility_T6_1454  What is the person able to do after walking th...   \n",
       "Feasibility_T6_1455  What is the person able to do after walking th...   \n",
       "Feasibility_T6_1456  What is the person able to do after putting th...   \n",
       "Feasibility_T6_1468  What is the person able to do after opening th...   \n",
       "\n",
       "                                                               choices num  \\\n",
       "id                                                                           \n",
       "Interaction_T1_13    {'0': 'The closet/cabinet.', '1': 'The blanket...   2   \n",
       "Interaction_T1_14    {'0': 'The blanket.', '1': 'The table.', '2': ...   2   \n",
       "Interaction_T1_31    {'0': 'The pillow.', '1': 'The bag.', '2': 'Th...   2   \n",
       "Interaction_T1_32    {'0': 'The food.', '1': 'The shoe.', '2': 'The...   1   \n",
       "Interaction_T1_40    {'0': 'The broom.', '1': 'The closet/cabinet.'...   1   \n",
       "...                                                                ...  ..   \n",
       "Feasibility_T6_1453  {'0': 'Wash the table.', '1': 'Take the box.',...   0   \n",
       "Feasibility_T6_1454  {'0': 'Take the towel.', '1': 'Throw the bag.'...   0   \n",
       "Feasibility_T6_1455  {'0': 'Throw the bag.', '1': 'Wash the table.'...   1   \n",
       "Feasibility_T6_1456  {'0': 'Hold the food.', '1': 'Open the closet/...   3   \n",
       "Feasibility_T6_1468  {'0': 'Wash the window.', '1': 'Hold the food....   1   \n",
       "\n",
       "                                    text  \\\n",
       "id                                         \n",
       "Interaction_T1_13           The clothes.   \n",
       "Interaction_T1_14           The clothes.   \n",
       "Interaction_T1_31           The clothes.   \n",
       "Interaction_T1_32              The shoe.   \n",
       "Interaction_T1_40    The closet/cabinet.   \n",
       "...                                  ...   \n",
       "Feasibility_T6_1453      Wash the table.   \n",
       "Feasibility_T6_1454      Take the towel.   \n",
       "Feasibility_T6_1455      Wash the table.   \n",
       "Feasibility_T6_1456      Wash the table.   \n",
       "Feasibility_T6_1468       Hold the food.   \n",
       "\n",
       "                                                                  stsg  \n",
       "id                                                                      \n",
       "Interaction_T1_13    [[person - on_the_side_of - clothes], [person ...  \n",
       "Interaction_T1_14    [[person - holding - towel, person - in_front_...  \n",
       "Interaction_T1_31    [[person - wearing - clothes, person - above -...  \n",
       "Interaction_T1_32    [[person - on_the_side_of - clothes, person - ...  \n",
       "Interaction_T1_40    [[person - holding - clothes, person - in_fron...  \n",
       "...                                                                ...  \n",
       "Feasibility_T6_1453  [[person - on_the_side_of - table, person - ho...  \n",
       "Feasibility_T6_1454  [[person - in_front_of - table], [person - in_...  \n",
       "Feasibility_T6_1455  [[person - in_front_of - table], [person - in_...  \n",
       "Feasibility_T6_1456  [[person - in_front_of - table], [person - in_...  \n",
       "Feasibility_T6_1468  [[person - in_front_of - refrigerator], [perso...  \n",
       "\n",
       "[7098 rows x 5 columns]"
      ]
     },
     "execution_count": 81,
     "metadata": {},
     "output_type": "execute_result"
    }
   ],
   "source": [
    "gt_df\n"
   ]
  },
  {
   "cell_type": "markdown",
   "metadata": {},
   "source": [
    "## Extract answers"
   ]
  },
  {
   "cell_type": "code",
   "execution_count": 82,
   "metadata": {},
   "outputs": [
    {
     "data": {
      "text/html": [
       "<div>\n",
       "<style scoped>\n",
       "    .dataframe tbody tr th:only-of-type {\n",
       "        vertical-align: middle;\n",
       "    }\n",
       "\n",
       "    .dataframe tbody tr th {\n",
       "        vertical-align: top;\n",
       "    }\n",
       "\n",
       "    .dataframe thead th {\n",
       "        text-align: right;\n",
       "    }\n",
       "</style>\n",
       "<table border=\"1\" class=\"dataframe\">\n",
       "  <thead>\n",
       "    <tr style=\"text-align: right;\">\n",
       "      <th></th>\n",
       "      <th>text</th>\n",
       "    </tr>\n",
       "    <tr>\n",
       "      <th>id</th>\n",
       "      <th></th>\n",
       "    </tr>\n",
       "  </thead>\n",
       "  <tbody>\n",
       "    <tr>\n",
       "      <th>Interaction_T3_2531</th>\n",
       "      <td>Opened the bag.</td>\n",
       "    </tr>\n",
       "    <tr>\n",
       "      <th>Interaction_T1_2219</th>\n",
       "      <td>The paper/notebook.</td>\n",
       "    </tr>\n",
       "    <tr>\n",
       "      <th>Sequence_T4_1348</th>\n",
       "      <td>Sat on the sofa/couch.</td>\n",
       "    </tr>\n",
       "    <tr>\n",
       "      <th>Sequence_T4_4702</th>\n",
       "      <td>Put down the cup/glass/bottle.</td>\n",
       "    </tr>\n",
       "    <tr>\n",
       "      <th>Sequence_T1_3418</th>\n",
       "      <td>The blanket.</td>\n",
       "    </tr>\n",
       "    <tr>\n",
       "      <th>...</th>\n",
       "      <td>...</td>\n",
       "    </tr>\n",
       "    <tr>\n",
       "      <th>Sequence_T2_2783</th>\n",
       "      <td>The dish.</td>\n",
       "    </tr>\n",
       "    <tr>\n",
       "      <th>Sequence_T3_1333</th>\n",
       "      <td>Took the shoe.</td>\n",
       "    </tr>\n",
       "    <tr>\n",
       "      <th>Interaction_T2_6458</th>\n",
       "      <td>Opened.</td>\n",
       "    </tr>\n",
       "    <tr>\n",
       "      <th>Prediction_T1_1456</th>\n",
       "      <td>Sit on the bed.</td>\n",
       "    </tr>\n",
       "    <tr>\n",
       "      <th>Interaction_T3_3436</th>\n",
       "      <td>Threw the bag.</td>\n",
       "    </tr>\n",
       "  </tbody>\n",
       "</table>\n",
       "<p>6062 rows × 1 columns</p>\n",
       "</div>"
      ],
      "text/plain": [
       "                                               text\n",
       "id                                                 \n",
       "Interaction_T3_2531                 Opened the bag.\n",
       "Interaction_T1_2219             The paper/notebook.\n",
       "Sequence_T4_1348             Sat on the sofa/couch.\n",
       "Sequence_T4_4702     Put down the cup/glass/bottle.\n",
       "Sequence_T1_3418                       The blanket.\n",
       "...                                             ...\n",
       "Sequence_T2_2783                          The dish.\n",
       "Sequence_T3_1333                     Took the shoe.\n",
       "Interaction_T2_6458                         Opened.\n",
       "Prediction_T1_1456                  Sit on the bed.\n",
       "Interaction_T3_3436                  Threw the bag.\n",
       "\n",
       "[6062 rows x 1 columns]"
      ]
     },
     "execution_count": 82,
     "metadata": {},
     "output_type": "execute_result"
    }
   ],
   "source": [
    "ans_df = \\\n",
    "    predictions_df[contains_answer]['answer'] \\\n",
    "    .apply(lambda x: re.findall(ans_regex_pattern, x)[-1]) \\\n",
    "    .apply(lambda x: x + '.' if not x.endswith('.') else x) \\\n",
    "    .to_frame(name='text')\n",
    "\n",
    "ans_df.rename(columns={0: 'text'}, inplace=True)\n",
    "\n",
    "ans_df['text'] = ans_df['text'].str.strip()\n",
    "ans_df\n"
   ]
  },
  {
   "cell_type": "code",
   "execution_count": 83,
   "metadata": {},
   "outputs": [
    {
     "name": "stdout",
     "output_type": "stream",
     "text": [
      "<class 'pandas.core.frame.DataFrame'>\n",
      "Index: 6062 entries, Interaction_T3_2531 to Interaction_T3_3436\n",
      "Data columns (total 1 columns):\n",
      " #   Column  Non-Null Count  Dtype \n",
      "---  ------  --------------  ----- \n",
      " 0   text    6062 non-null   object\n",
      "dtypes: object(1)\n",
      "memory usage: 94.7+ KB\n"
     ]
    }
   ],
   "source": [
    "ans_df.info()\n"
   ]
  },
  {
   "cell_type": "code",
   "execution_count": 84,
   "metadata": {},
   "outputs": [
    {
     "name": "stdout",
     "output_type": "stream",
     "text": [
      "We have 440 unique answers\n"
     ]
    }
   ],
   "source": [
    "freq = ans_df['text'].value_counts().reset_index()\n",
    "freq.columns = ['word', 'freq']\n",
    "\n",
    "print(f\"We have {freq.size} unique answers\")\n"
   ]
  },
  {
   "cell_type": "code",
   "execution_count": 85,
   "metadata": {},
   "outputs": [
    {
     "data": {
      "text/plain": [
       "text\n",
       "Put down.                                                334\n",
       "The cup/glass/bottle.                                    262\n",
       "Opened.                                                  249\n",
       "The bag.                                                 198\n",
       "The phone/camera.                                        197\n",
       "                                                        ... \n",
       "Sit on the floor.                                          1\n",
       "The mirror.                                                1\n",
       "Took the shoe with them as they moved through their .      1\n",
       "Sat on the laptop.                                         1\n",
       "Took the pillow with them when they got up from .          1\n",
       "Name: count, Length: 220, dtype: int64"
      ]
     },
     "execution_count": 85,
     "metadata": {},
     "output_type": "execute_result"
    }
   ],
   "source": [
    "ans_df['text'].value_counts()\n"
   ]
  },
  {
   "cell_type": "code",
   "execution_count": 86,
   "metadata": {},
   "outputs": [
    {
     "data": {
      "text/plain": [
       "<Axes: xlabel='freq', ylabel='word'>"
      ]
     },
     "execution_count": 86,
     "metadata": {},
     "output_type": "execute_result"
    },
    {
     "data": {
      "image/png": "[encoded data removed]",
      "text/plain": [
       "<Figure size 600x800 with 1 Axes>"
      ]
     },
     "metadata": {},
     "output_type": "display_data"
    }
   ],
   "source": [
    "plt.figure(figsize=(6, 8))\n",
    "sns.barplot(data=freq.sort_values('freq', ascending=False)[:50], x='freq', y='word')\n"
   ]
  },
  {
   "cell_type": "markdown",
   "metadata": {},
   "source": [
    "Let's do some visualization also for the ground truth data"
   ]
  },
  {
   "cell_type": "code",
   "execution_count": 87,
   "metadata": {},
   "outputs": [
    {
     "name": "stdout",
     "output_type": "stream",
     "text": [
      "We have 198 unique answers\n"
     ]
    }
   ],
   "source": [
    "print(f\"We have {gt_df['text'].nunique()} unique answers\")\n"
   ]
  },
  {
   "cell_type": "code",
   "execution_count": 88,
   "metadata": {},
   "outputs": [
    {
     "data": {
      "text/plain": [
       "<Axes: xlabel='freq', ylabel='word'>"
      ]
     },
     "execution_count": 88,
     "metadata": {},
     "output_type": "execute_result"
    },
    {
     "data": {
      "image/png": "[encoded data removed]",
      "text/plain": [
       "<Figure size 600x800 with 1 Axes>"
      ]
     },
     "metadata": {},
     "output_type": "display_data"
    }
   ],
   "source": [
    "freq = gt_df['text'].value_counts().reset_index()\n",
    "freq.columns = ['word', 'freq']\n",
    "\n",
    "plt.figure(figsize=(6, 8))\n",
    "sns.barplot(data=freq.sort_values('freq', ascending=False)[:50], x='freq', y='word')\n"
   ]
  },
  {
   "cell_type": "code",
   "execution_count": 89,
   "metadata": {},
   "outputs": [
    {
     "data": {
      "text/plain": [
       "(6062, 6)"
      ]
     },
     "execution_count": 89,
     "metadata": {},
     "output_type": "execute_result"
    }
   ],
   "source": [
    "# Inner join - keeps only indices present in both series\n",
    "\n",
    "ans_df.rename(columns={'text': 'pred_text'}, inplace=True)\n",
    "eval_df = gt_df.join(\n",
    "    ans_df, \n",
    "    how='inner' # we account also for samples without answers\n",
    ")\n",
    "\n",
    "eval_df.shape\n"
   ]
  },
  {
   "cell_type": "code",
   "execution_count": 90,
   "metadata": {},
   "outputs": [],
   "source": [
    "def accuracy(eval_df, on_what='text'):\n",
    "    hits_text = (eval_df[f'pred_{on_what}'].str.lower() == eval_df[on_what].str.lower()).sum()\n",
    "    \n",
    "\n",
    "    return hits_text/eval_df.shape[0]\n"
   ]
  },
  {
   "cell_type": "markdown",
   "metadata": {},
   "source": [
    "check if the equality with NA result in a false or is skipped"
   ]
  },
  {
   "cell_type": "code",
   "execution_count": 91,
   "metadata": {},
   "outputs": [
    {
     "name": "stdout",
     "output_type": "stream",
     "text": [
      "Real Accuracy: 25.47%\n"
     ]
    }
   ],
   "source": [
    "real_acc = accuracy(eval_df) * eval_df.shape[0] / gt_df.shape[0]\n",
    "\n",
    "print(f\"Real Accuracy: {real_acc:.2%}\")\n"
   ]
  },
  {
   "cell_type": "code",
   "execution_count": 92,
   "metadata": {},
   "outputs": [],
   "source": [
    "def print_acc(eval_df, acc_fn):\n",
    "    print(f\"{'Question type':<15}{'Total':^15}{'Accuracy':^10}\\n\")\n",
    "\n",
    "    total = eval_df.index.str.startswith('Interaction').sum()\n",
    "    acc = acc_fn(eval_df[eval_df.index.str.startswith('Interaction')])\n",
    "    print(f\"{'Interaction':<15}{total:^15}{acc:^10.2%}\")\n",
    "\n",
    "    total = eval_df.index.str.startswith('Sequence').sum()\n",
    "    acc = acc_fn(eval_df[eval_df.index.str.startswith('Sequence')])\n",
    "    print(f\"{'Sequence':<15}{total:^15}{acc:^10.2%}\")\n",
    "\n",
    "    total = eval_df.index.str.startswith('Prediction').sum()\n",
    "    acc = acc_fn(eval_df[eval_df.index.str.startswith('Prediction')])\n",
    "    print(f\"{'Prediction':<15}{total:^15}{acc:^10.2%}\")\n",
    "\n",
    "    total = eval_df.index.str.startswith('Feasibility').sum()\n",
    "    acc = acc_fn(eval_df[eval_df.index.str.startswith('Feasibility')])\n",
    "    print(f\"{'Feasibility':<15}{total:^15}{acc:^10.2%}\")\n"
   ]
  },
  {
   "cell_type": "code",
   "execution_count": 93,
   "metadata": {},
   "outputs": [
    {
     "name": "stdout",
     "output_type": "stream",
     "text": [
      "Question type       Total      Accuracy \n",
      "\n",
      "Interaction         2051        28.91%  \n",
      "Sequence            3061        30.64%  \n",
      "Prediction           533        30.02%  \n",
      "Feasibility          417        28.06%  \n"
     ]
    }
   ],
   "source": [
    "print_acc(eval_df, lambda x: accuracy(x, on_what='text'))\n"
   ]
  },
  {
   "cell_type": "code",
   "execution_count": 94,
   "metadata": {},
   "outputs": [
    {
     "name": "stdout",
     "output_type": "stream",
     "text": [
      "Question type       Total      Answered \n",
      "\n",
      "Interaction         2398        85.53%  \n",
      "Sequence            3586        85.36%  \n",
      "Prediction           624        85.42%  \n",
      "Feasibility          490        85.10%  \n",
      "Overall             7098        85.40%  \n"
     ]
    }
   ],
   "source": [
    "# % of answers conforming to template per category\n",
    "\n",
    "def print_ans_perc(eval_df, gt_df):\n",
    "    print(f\"{'Question type':<15}{'Total':^15}{'Answered':^10}\\n\")\n",
    "\n",
    "    total = gt_df.index.str.startswith('Interaction').sum()\n",
    "    acc = len(gt_df.index.intersection(eval_df[eval_df.index.str.startswith('Interaction')].index))/total\n",
    "    print(f\"{'Interaction':<15}{total:^15}{acc:^10.2%}\")\n",
    "\n",
    "    total = gt_df.index.str.startswith('Sequence').sum()\n",
    "    acc = len(gt_df.index.intersection(eval_df[eval_df.index.str.startswith('Sequence')].index))/total\n",
    "    print(f\"{'Sequence':<15}{total:^15}{acc:^10.2%}\")\n",
    "\n",
    "    total = gt_df.index.str.startswith('Prediction').sum()\n",
    "    acc = len(gt_df.index.intersection(eval_df[eval_df.index.str.startswith('Prediction')].index))/total\n",
    "    print(f\"{'Prediction':<15}{total:^15}{acc:^10.2%}\")\n",
    "\n",
    "    total = gt_df.index.str.startswith('Feasibility').sum()\n",
    "    acc = len(gt_df.index.intersection(eval_df[eval_df.index.str.startswith('Feasibility')].index))/total\n",
    "    print(f\"{'Feasibility':<15}{total:^15}{acc:^10.2%}\")\n",
    "\n",
    "    total = gt_df.shape[0]\n",
    "    acc = eval_df.shape[0]/total\n",
    "    print(f\"{'Overall':<15}{total:^15}{acc:^10.2%}\")\n",
    "\n",
    "print_ans_perc(eval_df, gt_df)\n"
   ]
  },
  {
   "cell_type": "code",
   "execution_count": 103,
   "metadata": {},
   "outputs": [
    {
     "data": {
      "text/plain": [
       "[{'role': 'user',\n",
       "  'content': '    You will receive a sequence of images and a question related to them. Analyze the images in the order they are presented,    extract relevant details, and identify any patterns, changes, or relationships between them. Use this information to provide    a choose one of the presented alternatives\\n\\n    Instructions:\\n    - Describe each image in the sequence briefly but meaningfully.\\n    - Note any important transitions or developments between consecutive images.\\n    - Combine observations to infer the overall context or narrative.\\n    - Answer the question based on your analysis, ensuring your response is grounded in the visual evidence.\\n    - Read the question and reason about the answer step by step.\\n    - In your answer include key events or relationships that help you in determine the correct answer.\\n    - Be careful to reproduce the chosen alternative as it is presented.\\n\\n    Q: What did the person do while they were holding the bag?\\n    <Alternatives>\\n    A. Put down the bag.\\n    B. Threw the bag.\\n    C. Opened the bag.\\n    D. Took the bag.\\n    </Alternatives>    '},\n",
       " {'content': \"To answer this question, let's analyze the sequence of images step by step:\\n\\n1. **[img-0]**: The first image shows a person holding a bag in one hand and possibly something else (like another object or their other hand) not clearly visible in the other hand. There is no indication of what they are doing with the bag.\\n\\n2. **[img-1]**: In the second image, there's a slight change in posture or position that might suggest movement towards doing something with the bag, but it's still unclear what action is being taken.\\n\\n3. **[img-2]**: The third image shows a clear transition where the person has moved their hands and now holds the bag differently. It appears they are about to perform an action on the bag itself.\\n\\n4. **[img-3]**: This image clearly shows the person opening the bag, which is a definitive action related to what was happening with the bag in the previous images.\\n\\n5. **[img-4]** through **[img-6]**: The subsequent images show the aftermath of opening the bag, but they do not provide any new information about how the bag was handled before it was opened.\\n\\nGiven this sequence and analysis:\\n\\n- **[img-0]** to **[img-2]** suggest movement towards doing something with the bag.\\n- **[img-3]** clearly shows the action of opening the bag.\\n\\nTherefore, based on the visual evidence provided by the images, especially focusing on the transition from holding the bag in a way that suggests preparation for an action (in **[img-2]**) to actually performing that action (opening the bag) in **[img-3]**:\\n\\nThe correct answer is: **C. Opened the bag.**\\n\\nThis conclusion is supported by observing the progression of actions related to the bag from holding it to preparing to do something with it, culminating in the clear act of opening it.\",\n",
       "  'role': 'assistant'},\n",
       " {'role': 'user',\n",
       "  'content': '        Therefore the final answer is?\\n        \\n        Your response must be provided in valid JSON format as follows:\\n        {\"answer\": \"your complete answer here\"}\\n        \\n        IMPORTANT: Always include both the letter (A, B, C, D, etc.) AND the full text of the answer in your response.\\n        Do not abbreviate or shorten the answer. For example, if the correct answer is \"A. the laptop\", your response \\n        should be {\"answer\": \"A. the laptop\"}, not {\"answer\": \"laptop\"} or {\"answer\": \"A\"}.        '},\n",
       " {'role': 'assistant', 'content': '{\"answer\": \"C. Opened the bag.\"}'}]"
      ]
     },
     "execution_count": 103,
     "metadata": {},
     "output_type": "execute_result"
    }
   ],
   "source": [
    "predictions_df.iloc[0]['chat_history']\n"
   ]
  },
  {
   "cell_type": "code",
   "execution_count": 104,
   "metadata": {},
   "outputs": [],
   "source": [
    "import sys\n",
    "\n",
    "sys.path.append(str(WORK_DIR / 'src'))\n"
   ]
  },
  {
   "cell_type": "code",
   "execution_count": 105,
   "metadata": {},
   "outputs": [],
   "source": [
    "import main\n"
   ]
  },
  {
   "cell_type": "code",
   "execution_count": null,
   "metadata": {},
   "outputs": [
    {
     "data": {
      "text/plain": [
       "count    7098.000000\n",
       "mean        8.414624\n",
       "std         1.346262\n",
       "min         4.000000\n",
       "25%         8.000000\n",
       "50%         9.000000\n",
       "75%         9.000000\n",
       "max        10.000000\n",
       "dtype: float64"
      ]
     },
     "execution_count": 107,
     "metadata": {},
     "output_type": "execute_result"
    }
   ],
   "source": [
    "frame_count = {}\n",
    "\n",
    "for frames in main.generate_frames():\n",
    "    id = frames[0]['question_id']\n",
    "    frame_count[id] = len(frames)\n",
    "    \n",
    "\n",
    "count_series = pd.Series(frame_count)\n",
    "count_series.describe()\n"
   ]
  },
  {
   "cell_type": "code",
   "execution_count": null,
   "metadata": {},
   "outputs": [
    {
     "data": {
      "text/plain": [
       "<Axes: ylabel='Count'>"
      ]
     },
     "execution_count": 110,
     "metadata": {},
     "output_type": "execute_result"
    },
    {
     "data": {
      "image/png": "[encoded data removed]",
      "text/plain": [
       "<Figure size 640x480 with 1 Axes>"
      ]
     },
     "metadata": {},
     "output_type": "display_data"
    }
   ],
   "source": [
    "sns.histplot(count_series, bins=10)\n"
   ]
  }
 ],
 "metadata": {
  "kernelspec": {
   "display_name": "video-llm",
   "language": "python",
   "name": "python3"
  },
  "language_info": {
   "codemirror_mode": {
    "name": "ipython",
    "version": 3
   },
   "file_extension": ".py",
   "mimetype": "text/x-python",
   "name": "python",
   "nbconvert_exporter": "python",
   "pygments_lexer": "ipython3",
   "version": "3.8.18"
  }
 },
 "nbformat": 4,
 "nbformat_minor": 2
}
