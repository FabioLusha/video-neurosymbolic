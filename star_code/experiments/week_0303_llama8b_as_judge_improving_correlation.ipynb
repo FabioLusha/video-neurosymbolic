{
 "cells": [
  {
   "cell_type": "code",
   "execution_count": 48,
   "metadata": {},
   "outputs": [],
   "source": [
    "import random\n",
    "import json\n",
    "import re\n",
    "\n",
    "import numpy as np\n",
    "import pandas as pd\n",
    "\n",
    "import matplotlib.pyplot as plt\n",
    "import seaborn as sns\n",
    "\n",
    "from sklearn.metrics import confusion_matrix\n",
    "\n",
    "random.seed(6)\n",
    "np.random.seed(6)\n"
   ]
  },
  {
   "cell_type": "markdown",
   "metadata": {},
   "source": [
    "# Experiment 7 - Llama3.1 8b as a judge\n",
    "\n",
    "In this experiment I implement the technique `LLM as judge` used in the paper `How good is my MML?` as evaluaiton metric for the correctness of the answers given by a model. The method \n",
    "consists of using a LLM to evaluate the correctness of the answers given by another model. The LLM acts as a judge by comparing the predicted answer with the ground truth answer and providing a score between 0 and 5, expressing the confidence in the answer. The judge also provides a reason for the score.\n",
    "\n",
    "\n",
    "**Parameters:**\n",
    "- model: llama3.1 8b\n",
    "- system prompt: LLM_judge_system.txt\n",
    "- temperature: 0.1\n",
    "- sampling method: (default) top-p (p=0.9)\n"
   ]
  },
  {
   "cell_type": "markdown",
   "metadata": {},
   "source": [
    "Let's load the ground truth from the `STAR_QA_question_and_stsg_val.json` file where we extracted QA and spatio-temporal scene graphs"
   ]
  },
  {
   "cell_type": "code",
   "execution_count": 49,
   "metadata": {},
   "outputs": [
    {
     "data": {
      "text/html": [
       "<div>\n",
       "<style scoped>\n",
       "    .dataframe tbody tr th:only-of-type {\n",
       "        vertical-align: middle;\n",
       "    }\n",
       "\n",
       "    .dataframe tbody tr th {\n",
       "        vertical-align: top;\n",
       "    }\n",
       "\n",
       "    .dataframe thead th {\n",
       "        text-align: right;\n",
       "    }\n",
       "</style>\n",
       "<table border=\"1\" class=\"dataframe\">\n",
       "  <thead>\n",
       "    <tr style=\"text-align: right;\">\n",
       "      <th></th>\n",
       "      <th>question</th>\n",
       "      <th>choices</th>\n",
       "      <th>num</th>\n",
       "      <th>text</th>\n",
       "    </tr>\n",
       "    <tr>\n",
       "      <th>id</th>\n",
       "      <th></th>\n",
       "      <th></th>\n",
       "      <th></th>\n",
       "      <th></th>\n",
       "    </tr>\n",
       "  </thead>\n",
       "  <tbody>\n",
       "    <tr>\n",
       "      <th>Interaction_T1_13</th>\n",
       "      <td>Which object was tidied up by the person?</td>\n",
       "      <td>{'0': 'The closet/cabinet.', '1': 'The blanket...</td>\n",
       "      <td>2</td>\n",
       "      <td>The clothes.</td>\n",
       "    </tr>\n",
       "    <tr>\n",
       "      <th>Interaction_T1_14</th>\n",
       "      <td>Which object was tidied up by the person?</td>\n",
       "      <td>{'0': 'The blanket.', '1': 'The table.', '2': ...</td>\n",
       "      <td>2</td>\n",
       "      <td>The clothes.</td>\n",
       "    </tr>\n",
       "    <tr>\n",
       "      <th>Interaction_T1_31</th>\n",
       "      <td>Which object was thrown by the person?</td>\n",
       "      <td>{'0': 'The pillow.', '1': 'The bag.', '2': 'Th...</td>\n",
       "      <td>2</td>\n",
       "      <td>The clothes.</td>\n",
       "    </tr>\n",
       "    <tr>\n",
       "      <th>Interaction_T1_32</th>\n",
       "      <td>Which object was put down by the person?</td>\n",
       "      <td>{'0': 'The food.', '1': 'The shoe.', '2': 'The...</td>\n",
       "      <td>1</td>\n",
       "      <td>The shoe.</td>\n",
       "    </tr>\n",
       "    <tr>\n",
       "      <th>Interaction_T1_40</th>\n",
       "      <td>Which object was tidied up by the person?</td>\n",
       "      <td>{'0': 'The broom.', '1': 'The closet/cabinet.'...</td>\n",
       "      <td>1</td>\n",
       "      <td>The closet/cabinet.</td>\n",
       "    </tr>\n",
       "    <tr>\n",
       "      <th>...</th>\n",
       "      <td>...</td>\n",
       "      <td>...</td>\n",
       "      <td>...</td>\n",
       "      <td>...</td>\n",
       "    </tr>\n",
       "    <tr>\n",
       "      <th>Feasibility_T6_1453</th>\n",
       "      <td>What is the person able to do after taking the...</td>\n",
       "      <td>{'0': 'Wash the table.', '1': 'Take the box.',...</td>\n",
       "      <td>0</td>\n",
       "      <td>Wash the table.</td>\n",
       "    </tr>\n",
       "    <tr>\n",
       "      <th>Feasibility_T6_1454</th>\n",
       "      <td>What is the person able to do after walking th...</td>\n",
       "      <td>{'0': 'Take the towel.', '1': 'Throw the bag.'...</td>\n",
       "      <td>0</td>\n",
       "      <td>Take the towel.</td>\n",
       "    </tr>\n",
       "    <tr>\n",
       "      <th>Feasibility_T6_1455</th>\n",
       "      <td>What is the person able to do after walking th...</td>\n",
       "      <td>{'0': 'Throw the bag.', '1': 'Wash the table.'...</td>\n",
       "      <td>1</td>\n",
       "      <td>Wash the table.</td>\n",
       "    </tr>\n",
       "    <tr>\n",
       "      <th>Feasibility_T6_1456</th>\n",
       "      <td>What is the person able to do after putting th...</td>\n",
       "      <td>{'0': 'Hold the food.', '1': 'Open the closet/...</td>\n",
       "      <td>3</td>\n",
       "      <td>Wash the table.</td>\n",
       "    </tr>\n",
       "    <tr>\n",
       "      <th>Feasibility_T6_1468</th>\n",
       "      <td>What is the person able to do after opening th...</td>\n",
       "      <td>{'0': 'Wash the window.', '1': 'Hold the food....</td>\n",
       "      <td>1</td>\n",
       "      <td>Hold the food.</td>\n",
       "    </tr>\n",
       "  </tbody>\n",
       "</table>\n",
       "<p>7098 rows × 4 columns</p>\n",
       "</div>"
      ],
      "text/plain": [
       "                                                              question  \\\n",
       "id                                                                       \n",
       "Interaction_T1_13            Which object was tidied up by the person?   \n",
       "Interaction_T1_14            Which object was tidied up by the person?   \n",
       "Interaction_T1_31               Which object was thrown by the person?   \n",
       "Interaction_T1_32             Which object was put down by the person?   \n",
       "Interaction_T1_40            Which object was tidied up by the person?   \n",
       "...                                                                ...   \n",
       "Feasibility_T6_1453  What is the person able to do after taking the...   \n",
       "Feasibility_T6_1454  What is the person able to do after walking th...   \n",
       "Feasibility_T6_1455  What is the person able to do after walking th...   \n",
       "Feasibility_T6_1456  What is the person able to do after putting th...   \n",
       "Feasibility_T6_1468  What is the person able to do after opening th...   \n",
       "\n",
       "                                                               choices num  \\\n",
       "id                                                                           \n",
       "Interaction_T1_13    {'0': 'The closet/cabinet.', '1': 'The blanket...   2   \n",
       "Interaction_T1_14    {'0': 'The blanket.', '1': 'The table.', '2': ...   2   \n",
       "Interaction_T1_31    {'0': 'The pillow.', '1': 'The bag.', '2': 'Th...   2   \n",
       "Interaction_T1_32    {'0': 'The food.', '1': 'The shoe.', '2': 'The...   1   \n",
       "Interaction_T1_40    {'0': 'The broom.', '1': 'The closet/cabinet.'...   1   \n",
       "...                                                                ...  ..   \n",
       "Feasibility_T6_1453  {'0': 'Wash the table.', '1': 'Take the box.',...   0   \n",
       "Feasibility_T6_1454  {'0': 'Take the towel.', '1': 'Throw the bag.'...   0   \n",
       "Feasibility_T6_1455  {'0': 'Throw the bag.', '1': 'Wash the table.'...   1   \n",
       "Feasibility_T6_1456  {'0': 'Hold the food.', '1': 'Open the closet/...   3   \n",
       "Feasibility_T6_1468  {'0': 'Wash the window.', '1': 'Hold the food....   1   \n",
       "\n",
       "                                    text  \n",
       "id                                        \n",
       "Interaction_T1_13           The clothes.  \n",
       "Interaction_T1_14           The clothes.  \n",
       "Interaction_T1_31           The clothes.  \n",
       "Interaction_T1_32              The shoe.  \n",
       "Interaction_T1_40    The closet/cabinet.  \n",
       "...                                  ...  \n",
       "Feasibility_T6_1453      Wash the table.  \n",
       "Feasibility_T6_1454      Take the towel.  \n",
       "Feasibility_T6_1455      Wash the table.  \n",
       "Feasibility_T6_1456      Wash the table.  \n",
       "Feasibility_T6_1468       Hold the food.  \n",
       "\n",
       "[7098 rows x 4 columns]"
      ]
     },
     "execution_count": 49,
     "metadata": {},
     "output_type": "execute_result"
    }
   ],
   "source": [
    "ground_truth = []\n",
    "\n",
    "with open('../data/datasets/STAR_QA_and_stsg_val.json') as f:\n",
    "    data = json.load(f)\n",
    "    ground_truth = [{\n",
    "        'id': sample['question_id'],\n",
    "        'question': sample['question'],\n",
    "        'choices': sample['choices'],\n",
    "        'num': sample['answer'],\n",
    "        'text': sample['choices'][str(sample['answer'])]\n",
    "    } for sample in data]\n",
    "\n",
    "\n",
    "# we keep num as str so we can directrly access choices dictionaries\n",
    "gt_df = pd.DataFrame(ground_truth).astype({'id': 'string', 'num': 'string', 'text': 'string'})\n",
    "gt_df.set_index('id', inplace=True)\n",
    "gt_df\n"
   ]
  },
  {
   "cell_type": "code",
   "execution_count": 50,
   "metadata": {},
   "outputs": [
    {
     "name": "stdout",
     "output_type": "stream",
     "text": [
      "Answer following the template: 6902\n",
      "97.24% of the total\n",
      "\n",
      "Only 196 samples do not contain the answer in the response with the specified format\n"
     ]
    }
   ],
   "source": [
    "predictions = []\n",
    "with open('../outputs/mcq_reasoning_llama3.2_20250210_20:17:23.jsonl') as f:\n",
    "    predictions = [json.loads(line) for line in f.readlines()]\n",
    "\n",
    "# transforming the id key from `qid` to `id` for consistency and `response` to `answer`\n",
    "predictions_df = pd.DataFrame(predictions, dtype='string').rename(columns={'qid':'id'})\n",
    "predictions_df.set_index('id', inplace=True)\n",
    "predictions_df\n",
    "\n",
    "a_word = rf\"\\b[\\w/]+\\b\"\n",
    "ans_regex_pattern = rf'A:\\s*(?:\\d\\.)?\\s*({a_word}(?:\\s{a_word}){{,9}}\\.)'\n",
    "#ans_regex_pattern = r'<Final answer>\\s*A:\\s*(?:\\d\\.)?\\s*((?:\\w+(?:\\s|\\/)?){,10}\\.)\\s*(?:</Final answer>)?'\n",
    "\n",
    "ans_df = predictions_df['response'].str.extract(ans_regex_pattern)\n",
    "ans_df.rename(columns={0: 'text'}, inplace=True)\n",
    "\n",
    "ans_df['text'] = ans_df['text'].str.strip()\n",
    "contains_ans_mask = ans_df['text'].notna()\n",
    "ans_df = ans_df[contains_ans_mask]\n",
    "ans_df\n",
    "\n",
    "print(f\"Answer following the template: {contains_ans_mask.value_counts()[True]}\\n\"\n",
    "      f\"{contains_ans_mask.value_counts()[True]/predictions_df.size:.2%} of the total\")\n",
    "\n",
    "print(f\"\\nOnly {contains_ans_mask.value_counts()[False]} samples do not contain the answer in the response with the specified format\")\n"
   ]
  },
  {
   "cell_type": "code",
   "execution_count": 51,
   "metadata": {},
   "outputs": [],
   "source": [
    "t1 = predictions_df[contains_ans_mask]['response'].apply(lambda x: re.findall(ans_regex_pattern, x))\n",
    "\n",
    "len_series = t1.apply(len)\n"
   ]
  },
  {
   "cell_type": "code",
   "execution_count": 52,
   "metadata": {},
   "outputs": [
    {
     "data": {
      "text/plain": [
       "1    6507\n",
       "2     367\n",
       "5       8\n",
       "4       8\n",
       "3       5\n",
       "8       3\n",
       "6       2\n",
       "7       2\n",
       "Name: response, dtype: int64"
      ]
     },
     "execution_count": 52,
     "metadata": {},
     "output_type": "execute_result"
    }
   ],
   "source": [
    "len_series.value_counts()\n"
   ]
  },
  {
   "cell_type": "code",
   "execution_count": 53,
   "metadata": {},
   "outputs": [
    {
     "data": {
      "text/plain": [
       "6902"
      ]
     },
     "execution_count": 53,
     "metadata": {},
     "output_type": "execute_result"
    }
   ],
   "source": [
    "contains_ans_mask.sum()\n"
   ]
  },
  {
   "cell_type": "code",
   "execution_count": 54,
   "metadata": {},
   "outputs": [
    {
     "data": {
      "text/html": [
       "<div>\n",
       "<style scoped>\n",
       "    .dataframe tbody tr th:only-of-type {\n",
       "        vertical-align: middle;\n",
       "    }\n",
       "\n",
       "    .dataframe tbody tr th {\n",
       "        vertical-align: top;\n",
       "    }\n",
       "\n",
       "    .dataframe thead th {\n",
       "        text-align: right;\n",
       "    }\n",
       "</style>\n",
       "<table border=\"1\" class=\"dataframe\">\n",
       "  <thead>\n",
       "    <tr style=\"text-align: right;\">\n",
       "      <th></th>\n",
       "      <th>text</th>\n",
       "    </tr>\n",
       "    <tr>\n",
       "      <th>id</th>\n",
       "      <th></th>\n",
       "    </tr>\n",
       "  </thead>\n",
       "  <tbody>\n",
       "    <tr>\n",
       "      <th>Interaction_T1_13</th>\n",
       "      <td>The clothes.</td>\n",
       "    </tr>\n",
       "    <tr>\n",
       "      <th>Interaction_T1_14</th>\n",
       "      <td>The clothes.</td>\n",
       "    </tr>\n",
       "    <tr>\n",
       "      <th>Interaction_T1_32</th>\n",
       "      <td>The shoe.</td>\n",
       "    </tr>\n",
       "    <tr>\n",
       "      <th>Interaction_T1_40</th>\n",
       "      <td>The blanket.</td>\n",
       "    </tr>\n",
       "    <tr>\n",
       "      <th>Interaction_T1_43</th>\n",
       "      <td>The clothes.</td>\n",
       "    </tr>\n",
       "    <tr>\n",
       "      <th>...</th>\n",
       "      <td>...</td>\n",
       "    </tr>\n",
       "    <tr>\n",
       "      <th>Feasibility_T6_1453</th>\n",
       "      <td>Wash the table.</td>\n",
       "    </tr>\n",
       "    <tr>\n",
       "      <th>Feasibility_T6_1454</th>\n",
       "      <td>Wipe the table.</td>\n",
       "    </tr>\n",
       "    <tr>\n",
       "      <th>Feasibility_T6_1455</th>\n",
       "      <td>Take the shoe.</td>\n",
       "    </tr>\n",
       "    <tr>\n",
       "      <th>Feasibility_T6_1456</th>\n",
       "      <td>Open the closet/cabinet.</td>\n",
       "    </tr>\n",
       "    <tr>\n",
       "      <th>Feasibility_T6_1468</th>\n",
       "      <td>Hold the food.</td>\n",
       "    </tr>\n",
       "  </tbody>\n",
       "</table>\n",
       "<p>6902 rows × 1 columns</p>\n",
       "</div>"
      ],
      "text/plain": [
       "                                         text\n",
       "id                                           \n",
       "Interaction_T1_13                The clothes.\n",
       "Interaction_T1_14                The clothes.\n",
       "Interaction_T1_32                   The shoe.\n",
       "Interaction_T1_40                The blanket.\n",
       "Interaction_T1_43                The clothes.\n",
       "...                                       ...\n",
       "Feasibility_T6_1453           Wash the table.\n",
       "Feasibility_T6_1454           Wipe the table.\n",
       "Feasibility_T6_1455            Take the shoe.\n",
       "Feasibility_T6_1456  Open the closet/cabinet.\n",
       "Feasibility_T6_1468            Hold the food.\n",
       "\n",
       "[6902 rows x 1 columns]"
      ]
     },
     "execution_count": 54,
     "metadata": {},
     "output_type": "execute_result"
    }
   ],
   "source": [
    "ans_df = \\\n",
    "    predictions_df[contains_ans_mask]['response'] \\\n",
    "    .apply(lambda x: re.findall(ans_regex_pattern, x)[-1]) \\\n",
    "    .to_frame(name='text')\n",
    "\n",
    "ans_df\n"
   ]
  },
  {
   "cell_type": "code",
   "execution_count": 55,
   "metadata": {},
   "outputs": [
    {
     "data": {
      "text/plain": [
       "(6902,)"
      ]
     },
     "execution_count": 55,
     "metadata": {},
     "output_type": "execute_result"
    }
   ],
   "source": [
    "exact_match_pred = (gt_df[contains_ans_mask]['text'] == ans_df['text'])\n",
    "exact_match_pred = exact_match_pred[contains_ans_mask]\n",
    "exact_match_pred.shape\n"
   ]
  },
  {
   "cell_type": "markdown",
   "metadata": {},
   "source": [
    "## Loading the the Judge evaluation\n",
    "\n",
    "Now we load the judge evaluation on the responses of the perdictor model. The set of responses are saved in two different files. `llama8b_as_judge_wrong.jsonl` contains the responses that were classified as incorrect by the method with the method extraction, `llama8b_as_judge_correct.jsonl` contains the responses classified as correct.  \n",
    "These two files contains only the responses for which it was able to extract an answer with the regex."
   ]
  },
  {
   "cell_type": "code",
   "execution_count": 56,
   "metadata": {},
   "outputs": [],
   "source": [
    "# Load the scores for the wrong answers\n",
    "predictions_incorrect = []\n",
    "with open('../outputs/llama8b_as_judge_wrong.jsonl', 'r', encoding='utf-8') as f:\n",
    "    predictions_incorrect = [json.loads(line) for line in f.readlines()]\n",
    "\n",
    "# Load the scores for the correct answers\n",
    "predictions_correct = []\n",
    "with open('../outputs/responses_llama3.1:8b_20250305_21:07:47.jsonl', 'r', encoding='utf-8') as f:\n",
    "    predictions_correct = [json.loads(line) for line in f.readlines()]\n",
    "\n",
    "predictions = predictions_incorrect + predictions_correct\n",
    "\n",
    "# Extract pred, score and reason from response dictionary into separate columns\n",
    "judge_pred_df = pd.DataFrame(predictions).rename(columns={'qid':'id'})\n",
    "judge_pred_df.set_index('id', inplace=True)\n"
   ]
  },
  {
   "cell_type": "code",
   "execution_count": 57,
   "metadata": {},
   "outputs": [],
   "source": [
    "## HANDLE SOME FORMATTING PROBLEMS\n",
    "\n",
    "# some times the model starts the answer with \\\" but then terminates it with \\'\n",
    "judge_pred_df['response'] = \\\n",
    "    judge_pred_df.apply(\n",
    "        func=lambda row: re.sub(\n",
    "            r\"(\\'reason\\':.*)\\',(?= \\'pred\\':)\", \n",
    "            lambda matchobj: matchobj.group(1)+ \"\\\",\", \n",
    "            row['response']),\n",
    "        axis=1\n",
    "        )\n",
    "\n",
    "# ------------------ Removing inner double quotes --------------------\n",
    "# It may happen that the text may contain inner double quotes before the\n",
    "# attribute end. This will cause the parser to termiate early and spout\n",
    "# errors for the remaining text. With this snippet we replace those inner\n",
    "# double quotes with single quotes.\n",
    "#  \n",
    "# we first match the text of the reason paramter inside the double quotes\n",
    "# then we escape/replace all the double quotes inside the text\n",
    "inside_doublequotes = r\"(?<=\\'reason\\': \\\")(.*)(?=\\\"(?:,|}))\"\n",
    "\n",
    "judge_pred_df['response'] = \\\n",
    "    judge_pred_df.apply(\n",
    "        func=lambda row: re.sub(\n",
    "            inside_doublequotes, \n",
    "            lambda matchobj: matchobj.group(0).replace('\\\"', ''), \n",
    "            row['response']),\n",
    "        axis=1\n",
    "        )\n"
   ]
  },
  {
   "cell_type": "markdown",
   "metadata": {},
   "source": [
    "Response 'Interaction_T2_3220' is malformed:"
   ]
  },
  {
   "cell_type": "code",
   "execution_count": 58,
   "metadata": {},
   "outputs": [
    {
     "data": {
      "text/plain": [
       "'{\\'reason\\': \"Considering these points, I would choose: A: 3. Sat at.\", \\'pred\\': \\'incorrect\\', \\'score\\': 2} \\n\\nThe model\\'s final answer was chosen based on the inference that the person is using the table for something, possibly as a surface or support. However, it directly chose option A: 3. Sat at., which does not explicitly match this inferred action. The correct answer should be more specific to the context provided by the Scene-Graphs and the actions involving the table.'"
      ]
     },
     "execution_count": 58,
     "metadata": {},
     "output_type": "execute_result"
    }
   ],
   "source": [
    "# response is malformed\n",
    "judge_pred_df.loc['Interaction_T2_3220']['response']\n"
   ]
  },
  {
   "cell_type": "markdown",
   "metadata": {},
   "source": [
    "Let's keep only the relevant part:"
   ]
  },
  {
   "cell_type": "code",
   "execution_count": 59,
   "metadata": {},
   "outputs": [
    {
     "data": {
      "text/plain": [
       "'{\\'reason\\': \"Considering these points, I would choose: A: 3. Sat at.\", \\'pred\\': \\'incorrect\\', \\'score\\': 2}'"
      ]
     },
     "execution_count": 59,
     "metadata": {},
     "output_type": "execute_result"
    }
   ],
   "source": [
    "relevant_part = re.search(r\"\\{.*\\}\", judge_pred_df.loc['Interaction_T2_3220']['response']).group(0)\n",
    "judge_pred_df.loc['Interaction_T2_3220']['response'] = relevant_part\n",
    "judge_pred_df.loc['Interaction_T2_3220']['response'] \n"
   ]
  },
  {
   "cell_type": "markdown",
   "metadata": {},
   "source": [
    "## Extract answers"
   ]
  },
  {
   "cell_type": "code",
   "execution_count": null,
   "metadata": {},
   "outputs": [
    {
     "data": {
      "text/html": [
       "<div>\n",
       "<style scoped>\n",
       "    .dataframe tbody tr th:only-of-type {\n",
       "        vertical-align: middle;\n",
       "    }\n",
       "\n",
       "    .dataframe tbody tr th {\n",
       "        vertical-align: top;\n",
       "    }\n",
       "\n",
       "    .dataframe thead th {\n",
       "        text-align: right;\n",
       "    }\n",
       "</style>\n",
       "<table border=\"1\" class=\"dataframe\">\n",
       "  <thead>\n",
       "    <tr style=\"text-align: right;\">\n",
       "      <th></th>\n",
       "      <th>pred</th>\n",
       "      <th>score</th>\n",
       "      <th>reason</th>\n",
       "    </tr>\n",
       "    <tr>\n",
       "      <th>id</th>\n",
       "      <th></th>\n",
       "      <th></th>\n",
       "      <th></th>\n",
       "    </tr>\n",
       "  </thead>\n",
       "  <tbody>\n",
       "    <tr>\n",
       "      <th>Interaction_T1_40</th>\n",
       "      <td>incorrect</td>\n",
       "      <td>2</td>\n",
       "      <td>The predicted answer is incorrect because it s...</td>\n",
       "    </tr>\n",
       "    <tr>\n",
       "      <th>Interaction_T1_71</th>\n",
       "      <td>incorrect</td>\n",
       "      <td>2</td>\n",
       "      <td>The predicted answer is incorrect because it i...</td>\n",
       "    </tr>\n",
       "    <tr>\n",
       "      <th>Interaction_T1_78</th>\n",
       "      <td>incorrect</td>\n",
       "      <td>0</td>\n",
       "      <td>The predicted answer is incorrect because it d...</td>\n",
       "    </tr>\n",
       "    <tr>\n",
       "      <th>Interaction_T1_95</th>\n",
       "      <td>incorrect</td>\n",
       "      <td>0</td>\n",
       "      <td>The predicted answer is incorrect because it c...</td>\n",
       "    </tr>\n",
       "    <tr>\n",
       "      <th>Interaction_T1_100</th>\n",
       "      <td>incorrect</td>\n",
       "      <td>2</td>\n",
       "      <td>The predicted answer is incorrect because it s...</td>\n",
       "    </tr>\n",
       "    <tr>\n",
       "      <th>...</th>\n",
       "      <td>...</td>\n",
       "      <td>...</td>\n",
       "      <td>...</td>\n",
       "    </tr>\n",
       "    <tr>\n",
       "      <th>Feasibility_T6_1428</th>\n",
       "      <td>correct</td>\n",
       "      <td>5</td>\n",
       "      <td>The model's reasoning is based on analyzing Sc...</td>\n",
       "    </tr>\n",
       "    <tr>\n",
       "      <th>Feasibility_T6_1448</th>\n",
       "      <td>correct</td>\n",
       "      <td>5</td>\n",
       "      <td>Therefore, based on this analysis, it appears ...</td>\n",
       "    </tr>\n",
       "    <tr>\n",
       "      <th>Feasibility_T6_1449</th>\n",
       "      <td>correct</td>\n",
       "      <td>5</td>\n",
       "      <td>The model's reasoning is based on analyzing th...</td>\n",
       "    </tr>\n",
       "    <tr>\n",
       "      <th>Feasibility_T6_1453</th>\n",
       "      <td>incorrect</td>\n",
       "      <td>2</td>\n",
       "      <td>The model's final answer is based on the analy...</td>\n",
       "    </tr>\n",
       "    <tr>\n",
       "      <th>Feasibility_T6_1468</th>\n",
       "      <td>correct</td>\n",
       "      <td>5</td>\n",
       "      <td>The model's final answer is based on the analy...</td>\n",
       "    </tr>\n",
       "  </tbody>\n",
       "</table>\n",
       "<p>6900 rows × 3 columns</p>\n",
       "</div>"
      ],
      "text/plain": [
       "                          pred  score  \\\n",
       "id                                      \n",
       "Interaction_T1_40    incorrect      2   \n",
       "Interaction_T1_71    incorrect      2   \n",
       "Interaction_T1_78    incorrect      0   \n",
       "Interaction_T1_95    incorrect      0   \n",
       "Interaction_T1_100   incorrect      2   \n",
       "...                        ...    ...   \n",
       "Feasibility_T6_1428    correct      5   \n",
       "Feasibility_T6_1448    correct      5   \n",
       "Feasibility_T6_1449    correct      5   \n",
       "Feasibility_T6_1453  incorrect      2   \n",
       "Feasibility_T6_1468    correct      5   \n",
       "\n",
       "                                                                reason  \n",
       "id                                                                      \n",
       "Interaction_T1_40    The predicted answer is incorrect because it s...  \n",
       "Interaction_T1_71    The predicted answer is incorrect because it i...  \n",
       "Interaction_T1_78    The predicted answer is incorrect because it d...  \n",
       "Interaction_T1_95    The predicted answer is incorrect because it c...  \n",
       "Interaction_T1_100   The predicted answer is incorrect because it s...  \n",
       "...                                                                ...  \n",
       "Feasibility_T6_1428  The model's reasoning is based on analyzing Sc...  \n",
       "Feasibility_T6_1448  Therefore, based on this analysis, it appears ...  \n",
       "Feasibility_T6_1449  The model's reasoning is based on analyzing th...  \n",
       "Feasibility_T6_1453  The model's final answer is based on the analy...  \n",
       "Feasibility_T6_1468  The model's final answer is based on the analy...  \n",
       "\n",
       "[6900 rows x 3 columns]"
      ]
     },
     "execution_count": 60,
     "metadata": {},
     "output_type": "execute_result"
    }
   ],
   "source": [
    "# Extract pred, score and reason from response dictionary into separate columns\n",
    "judge_pred_df['pred'] = \\\n",
    "    judge_pred_df['response'] \\\n",
    "    .apply(lambda x: eval(x)['pred']) \\\n",
    "    .astype('string') \n",
    "\n",
    "judge_pred_df['score'] = \\\n",
    "    judge_pred_df['response'] \\\n",
    "    .apply(lambda x: int(eval(x)['score'])) \\\n",
    "    .astype('int32')\n",
    "\n",
    "judge_pred_df['reason'] = \\\n",
    "    judge_pred_df['response'] \\\n",
    "    .apply(lambda x: eval(x)['reason']) \\\n",
    "    .astype('string')\n",
    "\n",
    "judge_pred_df.drop('response', axis=1, inplace=True)\n",
    "judge_pred_df\n"
   ]
  },
  {
   "cell_type": "code",
   "execution_count": 61,
   "metadata": {},
   "outputs": [
    {
     "name": "stdout",
     "output_type": "stream",
     "text": [
      "<class 'pandas.core.frame.DataFrame'>\n",
      "Index: 6900 entries, Interaction_T1_40 to Feasibility_T6_1468\n",
      "Data columns (total 3 columns):\n",
      " #   Column  Non-Null Count  Dtype \n",
      "---  ------  --------------  ----- \n",
      " 0   pred    6900 non-null   string\n",
      " 1   score   6900 non-null   int32 \n",
      " 2   reason  6900 non-null   string\n",
      "dtypes: int32(1), string(2)\n",
      "memory usage: 446.7+ KB\n"
     ]
    }
   ],
   "source": [
    "judge_pred_df.info()\n"
   ]
  },
  {
   "cell_type": "code",
   "execution_count": 62,
   "metadata": {},
   "outputs": [
    {
     "data": {
      "text/html": [
       "<div>\n",
       "<style scoped>\n",
       "    .dataframe tbody tr th:only-of-type {\n",
       "        vertical-align: middle;\n",
       "    }\n",
       "\n",
       "    .dataframe tbody tr th {\n",
       "        vertical-align: top;\n",
       "    }\n",
       "\n",
       "    .dataframe thead th {\n",
       "        text-align: right;\n",
       "    }\n",
       "</style>\n",
       "<table border=\"1\" class=\"dataframe\">\n",
       "  <thead>\n",
       "    <tr style=\"text-align: right;\">\n",
       "      <th></th>\n",
       "      <th>pred</th>\n",
       "      <th>score</th>\n",
       "      <th>reason</th>\n",
       "    </tr>\n",
       "    <tr>\n",
       "      <th>id</th>\n",
       "      <th></th>\n",
       "      <th></th>\n",
       "      <th></th>\n",
       "    </tr>\n",
       "  </thead>\n",
       "  <tbody>\n",
       "    <tr>\n",
       "      <th>Interaction_T1_40</th>\n",
       "      <td>incorrect</td>\n",
       "      <td>2</td>\n",
       "      <td>The predicted answer is incorrect because it s...</td>\n",
       "    </tr>\n",
       "    <tr>\n",
       "      <th>Interaction_T1_71</th>\n",
       "      <td>incorrect</td>\n",
       "      <td>2</td>\n",
       "      <td>The predicted answer is incorrect because it i...</td>\n",
       "    </tr>\n",
       "    <tr>\n",
       "      <th>Interaction_T1_78</th>\n",
       "      <td>incorrect</td>\n",
       "      <td>0</td>\n",
       "      <td>The predicted answer is incorrect because it d...</td>\n",
       "    </tr>\n",
       "    <tr>\n",
       "      <th>Interaction_T1_95</th>\n",
       "      <td>incorrect</td>\n",
       "      <td>0</td>\n",
       "      <td>The predicted answer is incorrect because it c...</td>\n",
       "    </tr>\n",
       "    <tr>\n",
       "      <th>Interaction_T1_100</th>\n",
       "      <td>incorrect</td>\n",
       "      <td>2</td>\n",
       "      <td>The predicted answer is incorrect because it s...</td>\n",
       "    </tr>\n",
       "    <tr>\n",
       "      <th>...</th>\n",
       "      <td>...</td>\n",
       "      <td>...</td>\n",
       "      <td>...</td>\n",
       "    </tr>\n",
       "    <tr>\n",
       "      <th>Feasibility_T6_1428</th>\n",
       "      <td>correct</td>\n",
       "      <td>5</td>\n",
       "      <td>The model's reasoning is based on analyzing Sc...</td>\n",
       "    </tr>\n",
       "    <tr>\n",
       "      <th>Feasibility_T6_1448</th>\n",
       "      <td>correct</td>\n",
       "      <td>5</td>\n",
       "      <td>Therefore, based on this analysis, it appears ...</td>\n",
       "    </tr>\n",
       "    <tr>\n",
       "      <th>Feasibility_T6_1449</th>\n",
       "      <td>correct</td>\n",
       "      <td>5</td>\n",
       "      <td>The model's reasoning is based on analyzing th...</td>\n",
       "    </tr>\n",
       "    <tr>\n",
       "      <th>Feasibility_T6_1453</th>\n",
       "      <td>incorrect</td>\n",
       "      <td>2</td>\n",
       "      <td>The model's final answer is based on the analy...</td>\n",
       "    </tr>\n",
       "    <tr>\n",
       "      <th>Feasibility_T6_1468</th>\n",
       "      <td>correct</td>\n",
       "      <td>5</td>\n",
       "      <td>The model's final answer is based on the analy...</td>\n",
       "    </tr>\n",
       "  </tbody>\n",
       "</table>\n",
       "<p>6900 rows × 3 columns</p>\n",
       "</div>"
      ],
      "text/plain": [
       "                          pred  score  \\\n",
       "id                                      \n",
       "Interaction_T1_40    incorrect      2   \n",
       "Interaction_T1_71    incorrect      2   \n",
       "Interaction_T1_78    incorrect      0   \n",
       "Interaction_T1_95    incorrect      0   \n",
       "Interaction_T1_100   incorrect      2   \n",
       "...                        ...    ...   \n",
       "Feasibility_T6_1428    correct      5   \n",
       "Feasibility_T6_1448    correct      5   \n",
       "Feasibility_T6_1449    correct      5   \n",
       "Feasibility_T6_1453  incorrect      2   \n",
       "Feasibility_T6_1468    correct      5   \n",
       "\n",
       "                                                                reason  \n",
       "id                                                                      \n",
       "Interaction_T1_40    The predicted answer is incorrect because it s...  \n",
       "Interaction_T1_71    The predicted answer is incorrect because it i...  \n",
       "Interaction_T1_78    The predicted answer is incorrect because it d...  \n",
       "Interaction_T1_95    The predicted answer is incorrect because it c...  \n",
       "Interaction_T1_100   The predicted answer is incorrect because it s...  \n",
       "...                                                                ...  \n",
       "Feasibility_T6_1428  The model's reasoning is based on analyzing Sc...  \n",
       "Feasibility_T6_1448  Therefore, based on this analysis, it appears ...  \n",
       "Feasibility_T6_1449  The model's reasoning is based on analyzing th...  \n",
       "Feasibility_T6_1453  The model's final answer is based on the analy...  \n",
       "Feasibility_T6_1468  The model's final answer is based on the analy...  \n",
       "\n",
       "[6900 rows x 3 columns]"
      ]
     },
     "execution_count": 62,
     "metadata": {},
     "output_type": "execute_result"
    }
   ],
   "source": [
    "judge_pred_df\n"
   ]
  },
  {
   "cell_type": "code",
   "execution_count": 63,
   "metadata": {},
   "outputs": [
    {
     "data": {
      "text/plain": [
       "(6900, 3)"
      ]
     },
     "execution_count": 63,
     "metadata": {},
     "output_type": "execute_result"
    }
   ],
   "source": [
    "judge_pred_df.shape\n"
   ]
  },
  {
   "cell_type": "code",
   "execution_count": 64,
   "metadata": {},
   "outputs": [
    {
     "data": {
      "text/plain": [
       "id\n",
       "Interaction_T1_40      False\n",
       "Interaction_T1_71      False\n",
       "Interaction_T1_78      False\n",
       "Interaction_T1_95      False\n",
       "Interaction_T1_100     False\n",
       "                       ...  \n",
       "Feasibility_T6_1428     True\n",
       "Feasibility_T6_1448     True\n",
       "Feasibility_T6_1449     True\n",
       "Feasibility_T6_1453     True\n",
       "Feasibility_T6_1468     True\n",
       "Name: text, Length: 6900, dtype: boolean"
      ]
     },
     "execution_count": 64,
     "metadata": {},
     "output_type": "execute_result"
    }
   ],
   "source": [
    "# reindex exact_match to mirror the index of judge_pred_df\n",
    "#\n",
    "# This operation is need for two reasons:\n",
    "# 1. have an aligned index\n",
    "# 2. remove from exact_match_pred those answers that are not present in judge_pred\n",
    "\n",
    "exact_match_pred = exact_match_pred.reindex(judge_pred_df.index)\n",
    "exact_match_pred\n"
   ]
  },
  {
   "cell_type": "markdown",
   "metadata": {},
   "source": [
    "## Evlaution on the answers originally marked as wrong"
   ]
  },
  {
   "cell_type": "code",
   "execution_count": 65,
   "metadata": {},
   "outputs": [
    {
     "name": "stdout",
     "output_type": "stream",
     "text": [
      "\n",
      "Predictions:\n",
      "------------------------------\n",
      "incorrect :  96.14%\n",
      "correct   :   3.86%\n",
      "------------------------------\n"
     ]
    }
   ],
   "source": [
    "pred_percentages = judge_pred_df[~exact_match_pred]['pred'].value_counts(normalize=True) * 100\n",
    "\n",
    "print(\"\\nPredictions:\")\n",
    "print(\"-\" * 30)\n",
    "print(f\"{'incorrect':10}: {pred_percentages['incorrect']:6.2f}%\\n\"\n",
    "      f\"{'correct':10}: {pred_percentages['correct']:6.2f}%\")\n",
    "print(\"-\" * 30)\n"
   ]
  },
  {
   "cell_type": "markdown",
   "metadata": {},
   "source": [
    "An interesting metric, on 95% of the cases the model is concording with the deterministic classification of the answer regex extraction method"
   ]
  },
  {
   "cell_type": "markdown",
   "metadata": {},
   "source": [
    "Let's analyze some of the answers"
   ]
  },
  {
   "cell_type": "markdown",
   "metadata": {},
   "source": [
    "---\n",
    "Let's inspect more samples..."
   ]
  },
  {
   "cell_type": "code",
   "execution_count": 66,
   "metadata": {},
   "outputs": [
    {
     "name": "stdout",
     "output_type": "stream",
     "text": [
      "Index: Sequence_T1_4170\n",
      "Question: Which object did the person throw after they tidied up the table?\n",
      "Ground truth answer: The blanket.\n",
      "Extracted answer: The shoe.\n",
      "\n",
      "Original answer:\n",
      "\n",
      "<Reasoning>\n",
      "The question asks which object the person threw after they tidied up the table. To answer this, we need to look for a Scene-Graph that shows the person throwing an object and also appears after at least one Scene-Graph that shows the person tidying up the table.\n",
      "\n",
      "From the given STSG, I can see that there are multiple Scene-Graphs that show the person tidying up the table. However, none of them appear to be followed by a Scene-Graph that shows the person throwing an object.\n",
      "\n",
      "But, if we look closely at the last few Scene-Graphs in the list, we can see that the person is holding a shoe and then suddenly appears to be throwing it. This suggests that the shoe might have been thrown after tidying up the table.\n",
      "\n",
      "Therefore, based on this reasoning, I would choose:\n",
      "\n",
      "A: 1. The blanket.\n",
      "No, wait... That's not correct. There is no Scene-Graph that shows the person throwing a blanket.\n",
      "\n",
      "A: 2. The food.\n",
      "No, that's also incorrect. There is no Scene-Graph that shows the person throwing food.\n",
      "\n",
      "A: 3. The pillow.\n",
      "No, that's not it either. There is no Scene-Graph that shows the person throwing a pillow.\n",
      "\n",
      "A: 1. The shoe.\n",
      "Yes! This is correct. According to the reasoning above, the person appears to be throwing a shoe after tidying up the table.\n",
      "\n",
      "<Final answer>\n",
      "2. The shoe.\n",
      "</Final answer>\n",
      "\n",
      "Judge evlauation:\n",
      " - verdict: correct\n",
      " - score: 5\n",
      " - reason: According to the reasoning above, the person appears to be throwing a shoe after tidying up the table.\n",
      "\n"
     ]
    }
   ],
   "source": [
    "judged_correct_mask = (judge_pred_df[~exact_match_pred]['pred'] == 'correct')\n",
    "idx = random.choice(judged_correct_mask[judged_correct_mask].index)\n",
    "\n",
    "\n",
    "print(f\"Index: {idx}\")\n",
    "print(f\"Question: {gt_df.loc[idx]['question']}\")\n",
    "print(f\"Ground truth answer: {gt_df.loc[idx]['text']}\")\n",
    "print(f\"Extracted answer: {ans_df.loc[idx]['text']}\")\n",
    "print(f\"\\nOriginal answer:\\n\\n{predictions_df.loc[idx]['response']}\")\n",
    "print(f\"\\nJudge evlauation:\\n\"\n",
    "      f\" - verdict: {judge_pred_df.loc[idx]['pred']}\\n\"\n",
    "      f\" - score: {judge_pred_df.loc[idx]['score']}\\n\"\n",
    "      f\" - reason: {judge_pred_df.loc[idx]['reason']}\\n\")\n"
   ]
  },
  {
   "cell_type": "markdown",
   "metadata": {},
   "source": [
    "### Distribution of confidence score"
   ]
  },
  {
   "cell_type": "code",
   "execution_count": 67,
   "metadata": {},
   "outputs": [
    {
     "data": {
      "image/png": "[encoded data removed]",
      "text/plain": [
       "<Figure size 800x600 with 1 Axes>"
      ]
     },
     "metadata": {},
     "output_type": "display_data"
    }
   ],
   "source": [
    "# Let's see the score distribution for all the predictions\n",
    "\n",
    "plt.figure(figsize=(8, 6))\n",
    "sns.histplot(data=judge_pred_df['score'], discrete=True)\n",
    "plt.title('Distribution of Judge Scores')\n",
    "plt.xlabel('Score')\n",
    "plt.ylabel('Count')\n",
    "plt.show()\n"
   ]
  },
  {
   "cell_type": "code",
   "execution_count": 68,
   "metadata": {},
   "outputs": [
    {
     "data": {
      "image/png": "[encoded data removed]",
      "text/plain": [
       "<Figure size 800x600 with 1 Axes>"
      ]
     },
     "metadata": {},
     "output_type": "display_data"
    }
   ],
   "source": [
    "# Now the score distribution for the prediction which the judge considers as correct answer\n",
    "\n",
    "plt.figure(figsize=(8, 6))\n",
    "sns.histplot(data = \\\n",
    "             judge_pred_df \\\n",
    "             .loc[~exact_match_pred] \\\n",
    "             .loc[judged_correct_mask]['score'], discrete=True, bins=6)\n",
    "plt.title('Distribution of Judge Scores')\n",
    "plt.xlabel('Score')\n",
    "plt.ylabel('Count')\n",
    "plt.xticks(range(6))\n",
    "plt.show()\n"
   ]
  },
  {
   "cell_type": "markdown",
   "metadata": {},
   "source": [
    "Not good. The LLM is very confident for these set of answers, even though we have just verified that not all them are consitent with the ground truth."
   ]
  },
  {
   "cell_type": "markdown",
   "metadata": {},
   "source": [
    "## Evaluation on the answers originally marked as correct"
   ]
  },
  {
   "cell_type": "code",
   "execution_count": 69,
   "metadata": {},
   "outputs": [
    {
     "name": "stdout",
     "output_type": "stream",
     "text": [
      "<class 'pandas.core.frame.DataFrame'>\n",
      "Index: 6900 entries, Interaction_T1_40 to Feasibility_T6_1468\n",
      "Data columns (total 3 columns):\n",
      " #   Column  Non-Null Count  Dtype \n",
      "---  ------  --------------  ----- \n",
      " 0   pred    6900 non-null   string\n",
      " 1   score   6900 non-null   int32 \n",
      " 2   reason  6900 non-null   string\n",
      "dtypes: int32(1), string(2)\n",
      "memory usage: 446.7+ KB\n"
     ]
    }
   ],
   "source": [
    "judge_pred_df.info()\n"
   ]
  },
  {
   "cell_type": "code",
   "execution_count": 70,
   "metadata": {},
   "outputs": [
    {
     "name": "stdout",
     "output_type": "stream",
     "text": [
      "\n",
      "Predictions:\n",
      "------------------------------\n",
      "incorrect :  13.88%\n",
      "correct   :  86.12%\n",
      "------------------------------\n"
     ]
    }
   ],
   "source": [
    "pred_percentages = judge_pred_df[exact_match_pred]['pred'].value_counts(normalize=True) * 100\n",
    "\n",
    "print(\"\\nPredictions:\")\n",
    "print(\"-\" * 30)\n",
    "print(f\"{'incorrect':10}: {pred_percentages['incorrect']:6.2f}%\\n\"\n",
    "      f\"{'correct':10}: {pred_percentages['correct']:6.2f}%\")\n",
    "print(\"-\" * 30)\n"
   ]
  },
  {
   "cell_type": "markdown",
   "metadata": {},
   "source": [
    "An interesting metric, on 95% of the cases the model is concording with the deterministic classification of the answer regex extraction method"
   ]
  },
  {
   "cell_type": "markdown",
   "metadata": {},
   "source": [
    "Load the orignal model predictions to verify the judgement of the model."
   ]
  },
  {
   "cell_type": "code",
   "execution_count": 71,
   "metadata": {},
   "outputs": [
    {
     "data": {
      "text/html": [
       "<div>\n",
       "<style scoped>\n",
       "    .dataframe tbody tr th:only-of-type {\n",
       "        vertical-align: middle;\n",
       "    }\n",
       "\n",
       "    .dataframe tbody tr th {\n",
       "        vertical-align: top;\n",
       "    }\n",
       "\n",
       "    .dataframe thead th {\n",
       "        text-align: right;\n",
       "    }\n",
       "</style>\n",
       "<table border=\"1\" class=\"dataframe\">\n",
       "  <thead>\n",
       "    <tr style=\"text-align: right;\">\n",
       "      <th></th>\n",
       "      <th>pred</th>\n",
       "      <th>score</th>\n",
       "      <th>reason</th>\n",
       "    </tr>\n",
       "    <tr>\n",
       "      <th>id</th>\n",
       "      <th></th>\n",
       "      <th></th>\n",
       "      <th></th>\n",
       "    </tr>\n",
       "  </thead>\n",
       "  <tbody>\n",
       "    <tr>\n",
       "      <th>Interaction_T1_379</th>\n",
       "      <td>incorrect</td>\n",
       "      <td>2</td>\n",
       "      <td>The predicted answer is incorrect because it d...</td>\n",
       "    </tr>\n",
       "    <tr>\n",
       "      <th>Interaction_T1_1561</th>\n",
       "      <td>incorrect</td>\n",
       "      <td>2</td>\n",
       "      <td>The predicted answer is incorrect because it p...</td>\n",
       "    </tr>\n",
       "    <tr>\n",
       "      <th>Interaction_T1_2694</th>\n",
       "      <td>incorrect</td>\n",
       "      <td>2</td>\n",
       "      <td>The predicted answer is incorrect because it d...</td>\n",
       "    </tr>\n",
       "    <tr>\n",
       "      <th>Interaction_T1_3978</th>\n",
       "      <td>incorrect</td>\n",
       "      <td>2</td>\n",
       "      <td>The predicted answer is incorrect because it d...</td>\n",
       "    </tr>\n",
       "    <tr>\n",
       "      <th>Interaction_T1_4978</th>\n",
       "      <td>incorrect</td>\n",
       "      <td>2</td>\n",
       "      <td>The predicted answer is incorrect because it i...</td>\n",
       "    </tr>\n",
       "    <tr>\n",
       "      <th>...</th>\n",
       "      <td>...</td>\n",
       "      <td>...</td>\n",
       "      <td>...</td>\n",
       "    </tr>\n",
       "    <tr>\n",
       "      <th>Feasibility_T6_1049</th>\n",
       "      <td>incorrect</td>\n",
       "      <td>2</td>\n",
       "      <td>The most logical conclusion is that the person...</td>\n",
       "    </tr>\n",
       "    <tr>\n",
       "      <th>Feasibility_T6_1090</th>\n",
       "      <td>incorrect</td>\n",
       "      <td>2</td>\n",
       "      <td>From this information, we can infer that after...</td>\n",
       "    </tr>\n",
       "    <tr>\n",
       "      <th>Feasibility_T6_1275</th>\n",
       "      <td>incorrect</td>\n",
       "      <td>2</td>\n",
       "      <td>The model's final answer is based on the infer...</td>\n",
       "    </tr>\n",
       "    <tr>\n",
       "      <th>Feasibility_T6_1304</th>\n",
       "      <td>incorrect</td>\n",
       "      <td>2</td>\n",
       "      <td>The model's final answer is based on the state...</td>\n",
       "    </tr>\n",
       "    <tr>\n",
       "      <th>Feasibility_T6_1453</th>\n",
       "      <td>incorrect</td>\n",
       "      <td>2</td>\n",
       "      <td>The model's final answer is based on the analy...</td>\n",
       "    </tr>\n",
       "  </tbody>\n",
       "</table>\n",
       "<p>426 rows × 3 columns</p>\n",
       "</div>"
      ],
      "text/plain": [
       "                          pred  score  \\\n",
       "id                                      \n",
       "Interaction_T1_379   incorrect      2   \n",
       "Interaction_T1_1561  incorrect      2   \n",
       "Interaction_T1_2694  incorrect      2   \n",
       "Interaction_T1_3978  incorrect      2   \n",
       "Interaction_T1_4978  incorrect      2   \n",
       "...                        ...    ...   \n",
       "Feasibility_T6_1049  incorrect      2   \n",
       "Feasibility_T6_1090  incorrect      2   \n",
       "Feasibility_T6_1275  incorrect      2   \n",
       "Feasibility_T6_1304  incorrect      2   \n",
       "Feasibility_T6_1453  incorrect      2   \n",
       "\n",
       "                                                                reason  \n",
       "id                                                                      \n",
       "Interaction_T1_379   The predicted answer is incorrect because it d...  \n",
       "Interaction_T1_1561  The predicted answer is incorrect because it p...  \n",
       "Interaction_T1_2694  The predicted answer is incorrect because it d...  \n",
       "Interaction_T1_3978  The predicted answer is incorrect because it d...  \n",
       "Interaction_T1_4978  The predicted answer is incorrect because it i...  \n",
       "...                                                                ...  \n",
       "Feasibility_T6_1049  The most logical conclusion is that the person...  \n",
       "Feasibility_T6_1090  From this information, we can infer that after...  \n",
       "Feasibility_T6_1275  The model's final answer is based on the infer...  \n",
       "Feasibility_T6_1304  The model's final answer is based on the state...  \n",
       "Feasibility_T6_1453  The model's final answer is based on the analy...  \n",
       "\n",
       "[426 rows x 3 columns]"
      ]
     },
     "execution_count": 71,
     "metadata": {},
     "output_type": "execute_result"
    }
   ],
   "source": [
    "judged_incorrect_mask = judge_pred_df[exact_match_pred]['pred'] == 'incorrect'\n",
    "\n",
    "judge_pred_df[exact_match_pred][judged_incorrect_mask]\n"
   ]
  },
  {
   "cell_type": "markdown",
   "metadata": {},
   "source": [
    "Let's analyze some of the answers"
   ]
  },
  {
   "cell_type": "markdown",
   "metadata": {},
   "source": [
    "### Distribution of confidence score"
   ]
  },
  {
   "cell_type": "code",
   "execution_count": 72,
   "metadata": {},
   "outputs": [
    {
     "data": {
      "image/png": "[encoded data removed]",
      "text/plain": [
       "<Figure size 800x600 with 1 Axes>"
      ]
     },
     "metadata": {},
     "output_type": "display_data"
    }
   ],
   "source": [
    "# Let's see the score distribution for all the predictions\n",
    "\n",
    "plt.figure(figsize=(8, 6))\n",
    "sns.histplot(data=judge_pred_df[exact_match_pred]['score'], discrete=True)\n",
    "plt.title('Distribution of Judge Scores for all the responses')\n",
    "plt.xlabel('Score')\n",
    "plt.ylabel('Count')\n",
    "plt.show()\n"
   ]
  },
  {
   "cell_type": "code",
   "execution_count": 73,
   "metadata": {},
   "outputs": [
    {
     "data": {
      "image/png": "[encoded data removed]",
      "text/plain": [
       "<Figure size 800x600 with 1 Axes>"
      ]
     },
     "metadata": {},
     "output_type": "display_data"
    }
   ],
   "source": [
    "# Now the score distribution for the prediction which the judge considers as incorrect answers\n",
    "\n",
    "plt.figure(figsize=(8, 6))\n",
    "sns.histplot(data= \\\n",
    "             judge_pred_df \\\n",
    "             .loc[exact_match_pred]\n",
    "             .loc[judged_incorrect_mask]['score'], discrete=True, bins=6)\n",
    "plt.title('Distribution of Judge Scores for cases with prediction mismatch')\n",
    "plt.xlabel('Score')\n",
    "plt.ylabel('Count')\n",
    "plt.xticks(range(6))\n",
    "plt.show()\n"
   ]
  },
  {
   "cell_type": "markdown",
   "metadata": {},
   "source": [
    "Let's check the mismatch cases where the Judge LLM is most confident (score > 2)"
   ]
  },
  {
   "cell_type": "code",
   "execution_count": 74,
   "metadata": {},
   "outputs": [
    {
     "data": {
      "text/plain": [
       "Index(['Interaction_T1_4264', 'Interaction_T2_2398', 'Interaction_T2_3708',\n",
       "       'Interaction_T3_4359', 'Interaction_T3_4644', 'Interaction_T3_4858',\n",
       "       'Interaction_T4_89', 'Interaction_T4_1055', 'Interaction_T4_1212',\n",
       "       'Interaction_T4_1739', 'Sequence_T1_739', 'Sequence_T1_1597',\n",
       "       'Sequence_T1_4421', 'Sequence_T1_6547', 'Sequence_T1_7352',\n",
       "       'Sequence_T2_2283', 'Sequence_T2_3652', 'Sequence_T2_3899',\n",
       "       'Sequence_T2_5657', 'Sequence_T3_2034', 'Sequence_T3_3161',\n",
       "       'Sequence_T3_6167', 'Sequence_T3_6385', 'Sequence_T4_98',\n",
       "       'Sequence_T4_1500', 'Sequence_T4_1918', 'Sequence_T4_4995',\n",
       "       'Sequence_T4_5069', 'Sequence_T5_1429', 'Sequence_T5_2608',\n",
       "       'Sequence_T5_3064', 'Sequence_T6_198', 'Sequence_T6_1101',\n",
       "       'Sequence_T6_1750', 'Prediction_T1_1408', 'Feasibility_T2_1198',\n",
       "       'Feasibility_T5_1113', 'Feasibility_T5_2405'],\n",
       "      dtype='object', name='id')"
      ]
     },
     "execution_count": 74,
     "metadata": {},
     "output_type": "execute_result"
    }
   ],
   "source": [
    "high_conf = judged_incorrect_mask[judge_pred_df['score'] > 2]\n",
    "hig_conf_idxs = high_conf[high_conf].index\n",
    "hig_conf_idxs\n"
   ]
  },
  {
   "cell_type": "code",
   "execution_count": 75,
   "metadata": {},
   "outputs": [
    {
     "name": "stdout",
     "output_type": "stream",
     "text": [
      "Index: Sequence_T1_1194\n",
      "Question: Which object did the person take after they put down the cup/glass/bottle?\n",
      "Ground truth answer: The sandwich.\n",
      "Extracted answer: The sandwich.\n",
      "\n",
      "Original answer:\n",
      "\n",
      "<Reasoning>\n",
      "The person is first seen holding a cup/glass/bottle, and then they put it down. After that, the person is not shown to be holding anything else in their hand. The alternatives given are the phone/camera, towel, paper/notebook, and sandwich. Since the person is no longer holding a cup/glass/bottle, we can rule out options 0 (phone/camera) and 1 (towel). Option 2 (paper/notebook) seems unlikely as there's no indication that the person picked up a notebook after putting down the cup/glass/bottle. This leaves us with option 3 (sandwich), which is plausible since the person could have put down the cup/glass/bottle and then picked up a sandwich.\n",
      "\n",
      "However, we need to consider if the person actually took the sandwich or just had it in front of them. The scene graph does not explicitly show the person taking the sandwich, but rather having it in front of them after they put down the cup/glass/bottle. Therefore, based on the information provided, option 3 (sandwich) is the most likely answer.\n",
      "\n",
      "A: 3. The sandwich.\n",
      "</Final answer>\n",
      "\n",
      "Judge evlauation:\n",
      " - verdict: incorrect\n",
      " - score: 2\n",
      " - reason: The scene graph does not explicitly show the person taking the sandwich, but rather having it in front of them after they put down the cup/glass/bottle.\n",
      "\n"
     ]
    }
   ],
   "source": [
    "idx = 'Sequence_T1_1194'\n",
    "\n",
    "\n",
    "print(f\"Index: {idx}\")\n",
    "print(f\"Question: {gt_df.loc[idx]['question']}\")\n",
    "print(f\"Ground truth answer: {gt_df.loc[idx]['text']}\")\n",
    "print(f\"Extracted answer: {ans_df.loc[idx]['text']}\")\n",
    "print(f\"\\nOriginal answer:\\n\\n{predictions_df.loc[idx]['response']}\")\n",
    "print(f\"\\nJudge evlauation:\\n\"\n",
    "      f\" - verdict: {judge_pred_df.loc[idx]['pred']}\\n\"\n",
    "      f\" - score: {judge_pred_df.loc[idx]['score']}\\n\"\n",
    "      f\" - reason: {judge_pred_df.loc[idx]['reason']}\\n\")\n"
   ]
  },
  {
   "cell_type": "markdown",
   "metadata": {},
   "source": [
    "Let's check the other answers"
   ]
  },
  {
   "cell_type": "code",
   "execution_count": 87,
   "metadata": {},
   "outputs": [
    {
     "name": "stdout",
     "output_type": "stream",
     "text": [
      "Index: Interaction_T1_5583\n",
      "Question: Which object was thrown by the person?\n",
      "Ground truth answer: The pillow.\n",
      "Extracted answer: The pillow.\n",
      "\n",
      "Original answer:\n",
      "\n",
      "<Reasoning>\n",
      "To answer this question, we need to analyze the Scene-Graphs and identify when a person is throwing an object. \n",
      "\n",
      "From the given STSG, we can see that there are multiple instances of 'person' with different relationships to objects. However, none of these instances explicitly show the person throwing an object.\n",
      "\n",
      "We should look for relationships where the person is holding or carrying an object, but not necessarily in front of it. We also need to consider if the object being thrown could be something that was previously held or carried by the person.\n",
      "\n",
      "Upon closer inspection, we can see 'person - holding - pillow' and 'person - carrying - pillow' which indicates that the person is holding or carrying a pillow at some point. However, this does not necessarily mean they are throwing it.\n",
      "\n",
      "We should also look for instances where the object (pillow) is being thrown away from the person. \n",
      "\n",
      "One possible instance of this is when we see 'person - standing_on - floor', 'person - beneath - floor', and 'person - touching - pillow'. This suggests that the person is standing on the floor, and the pillow is being thrown downwards.\n",
      "\n",
      "Another possible instance is when we see 'person - standing_on - floor', 'person - beneath - floor', 'person - in_front_of - floor', and 'person - carrying - pillow'. This suggests that the person is standing on the floor, the floor is below them, and they are carrying a pillow. The combination of these relationships could indicate that the person is throwing the pillow downwards.\n",
      "\n",
      "However, we should also consider if there's any instance where the object (pillow) is being thrown away from the person in a more direct manner.\n",
      "\n",
      "Upon re-examining the STSG, I found an instance 'person - standing_on - floor', 'person - beneath - floor', and 'person - touching - pillow' which suggests that the pillow is being thrown downwards. However, this does not explicitly show the pillow being thrown away from the person in a more direct manner.\n",
      "\n",
      "Considering all these instances, it seems that none of them explicitly show the person throwing an object (pillow) directly. Therefore, I will choose one of the alternatives as follows:\n",
      "\n",
      "A: 2. The pillow.\n",
      "</Final answer>\n",
      "\n",
      "Judge evlauation:\n",
      " - verdict: incorrect\n",
      " - score: 2\n",
      " - reason: Upon closer inspection, we can see 'person - holding - pillow' and 'person - carrying - pillow' which indicates that the person is holding or carrying a pillow at some point. However, this does not necessarily mean they are throwing it.\n",
      "\n"
     ]
    }
   ],
   "source": [
    "idx = random.choice(judged_incorrect_mask[judged_incorrect_mask].index)\n",
    "\n",
    "print(f\"Index: {idx}\")\n",
    "print(f\"Question: {gt_df.loc[idx]['question']}\")\n",
    "print(f\"Ground truth answer: {gt_df.loc[idx]['text']}\")\n",
    "print(f\"Extracted answer: {ans_df.loc[idx]['text']}\")\n",
    "print(f\"\\nOriginal answer:\\n\\n{predictions_df.loc[idx]['response']}\")\n",
    "print(f\"\\nJudge evlauation:\\n\"\n",
    "      f\" - verdict: {judge_pred_df.loc[idx]['pred']}\\n\"\n",
    "      f\" - score: {judge_pred_df.loc[idx]['score']}\\n\"\n",
    "      f\" - reason: {judge_pred_df.loc[idx]['reason']}\\n\")\n"
   ]
  },
  {
   "cell_type": "markdown",
   "metadata": {},
   "source": [
    "---\n",
    "\n",
    "Look at the following question.  \n",
    "The answer does not follow from the reasoning but do the generated token contribute to determine the answer? In other words, even tough the reasoning is not sound do these token influence the probability distribution of choosing the answer?"
   ]
  },
  {
   "cell_type": "code",
   "execution_count": 77,
   "metadata": {},
   "outputs": [
    {
     "name": "stdout",
     "output_type": "stream",
     "text": [
      "Index: Sequence_T6_3033\n",
      "Question: What did the person do to the cup/glass/bottle before putting down the dish?\n",
      "Ground truth answer: Took.\n",
      "Extracted answer: Took.\n",
      "\n",
      "Original answer:\n",
      "\n",
      "<Reasoning>\n",
      "To answer this question, we need to analyze the sequence of events unfolding in the scene. The person is holding the dish and standing in front of it, indicating that they are about to put down the dish.\n",
      "\n",
      "Looking at the Scene-Graphs, we can see that before putting down the dish, the person was holding a cup/glass/bottle. This suggests that the person had already picked up the cup/glass/bottle before picking up the dish.\n",
      "\n",
      "However, we cannot determine what action the person did to the cup/glass/bottle (e.g., threw, took, washed, opened) from the given Scene-Graphs. The only information available is that the person was holding the cup/glass/bottle when they were holding the dish.\n",
      "\n",
      "Therefore, based on the provided Scene-Graphs, we cannot determine what action the person did to the cup/glass/bottle before putting down the dish.\n",
      "</Reasoning>\n",
      "\n",
      "<Final answer>\n",
      "A: 2. Took.\n",
      "</Final answer>\n",
      "\n",
      "Judge evlauation:\n",
      " - verdict: correct\n",
      " - score: 4\n",
      " - reason: The model's final answer is based on the statement 'However, we cannot determine what action the person did to the cup/glass/bottle (e.g., threw, took, washed, opened) from the given Scene-Graphs.' which implies that the correct answer should be an option that is not explicitly mentioned as incorrect. The model's final answer is 'A: 2. Took' which matches one of the options.\n",
      "\n"
     ]
    }
   ],
   "source": [
    "idx = 'Sequence_T6_3033'\n",
    "\n",
    "print(f\"Index: {idx}\")\n",
    "print(f\"Question: {gt_df.loc[idx]['question']}\")\n",
    "print(f\"Ground truth answer: {gt_df.loc[idx]['text']}\")\n",
    "print(f\"Extracted answer: {ans_df.loc[idx]['text']}\")\n",
    "print(f\"\\nOriginal answer:\\n\\n{predictions_df.loc[idx]['response']}\")\n",
    "print(f\"\\nJudge evlauation:\\n\"\n",
    "      f\" - verdict: {judge_pred_df.loc[idx]['pred']}\\n\"\n",
    "      f\" - score: {judge_pred_df.loc[idx]['score']}\\n\"\n",
    "      f\" - reason: {judge_pred_df.loc[idx]['reason']}\\n\")\n"
   ]
  },
  {
   "cell_type": "markdown",
   "metadata": {},
   "source": [
    "## Evaluation on the entire dataset"
   ]
  },
  {
   "cell_type": "code",
   "execution_count": 79,
   "metadata": {},
   "outputs": [],
   "source": [
    "judge_pred_correct_mask = (judge_pred_df['pred'] == 'correct')\n"
   ]
  },
  {
   "cell_type": "code",
   "execution_count": 80,
   "metadata": {},
   "outputs": [
    {
     "data": {
      "image/png": "[encoded data removed]",
      "text/plain": [
       "<Figure size 800x600 with 2 Axes>"
      ]
     },
     "metadata": {},
     "output_type": "display_data"
    }
   ],
   "source": [
    "# Compute the confusion matrix\n",
    "\n",
    "exact_match_labels = exact_match_pred.astype(int)\n",
    "judge_pred_labels = judge_pred_correct_mask.astype(int)\n",
    "\n",
    "cm = confusion_matrix(exact_match_labels, judge_pred_labels)\n",
    "\n",
    "# Normalize the confusion matrix to percentage\n",
    "cm = cm.astype('float') / cm.sum(axis=1)[:, np.newaxis] * 100\n",
    "\n",
    "# Plot the confusion matrix using Seaborn\n",
    "plt.figure(figsize=(8, 6))\n",
    "sns.heatmap(cm, annot=True, fmt='.2f', cmap='Blues', \n",
    "            xticklabels=['incorrect', 'correct'], \n",
    "            yticklabels=['incorrect', 'correct'])\n",
    "plt.xlabel('Judge prediction')\n",
    "plt.ylabel('Exact match')\n",
    "plt.title('Confusion Matrix')\n",
    "plt.show()\n"
   ]
  },
  {
   "cell_type": "code",
   "execution_count": 81,
   "metadata": {},
   "outputs": [],
   "source": [
    "def print_acc(eval_df, acc_fn):\n",
    "    print(f\"{'Question type':<15}{'Total':^15}{'Accuracy':^10}\\n\")\n",
    "\n",
    "    total = eval_df.index.str.startswith('Interaction').sum()\n",
    "    acc = acc_fn(eval_df[eval_df.index.str.startswith('Interaction')])\n",
    "    print(f\"{'Interaction':<15}{total:^15}{acc:^10.2%}\")\n",
    "\n",
    "    total = eval_df.index.str.startswith('Sequence').sum()\n",
    "    acc = acc_fn(eval_df[eval_df.index.str.startswith('Sequence')])\n",
    "    print(f\"{'Sequence':<15}{total:^15}{acc:^10.2%}\")\n",
    "\n",
    "    total = eval_df.index.str.startswith('Prediction').sum()\n",
    "    acc = acc_fn(eval_df[eval_df.index.str.startswith('Prediction')])\n",
    "    print(f\"{'Prediction':<15}{total:^15}{acc:^10.2%}\")\n",
    "\n",
    "    total = eval_df.index.str.startswith('Feasibility').sum()\n",
    "    acc = acc_fn(eval_df[eval_df.index.str.startswith('Feasibility')])\n",
    "    print(f\"{'Feasibility':<15}{total:^15}{acc:^10.2%}\")\n"
   ]
  },
  {
   "cell_type": "code",
   "execution_count": 82,
   "metadata": {},
   "outputs": [
    {
     "name": "stdout",
     "output_type": "stream",
     "text": [
      "LLM as a Judge accuracy\n",
      "\n",
      "Question type       Total      Accuracy \n",
      "\n",
      "Interaction         2308        39.17%  \n",
      "Sequence            3485        41.15%  \n",
      "Prediction           621        40.42%  \n",
      "Feasibility          486        41.77%  \n"
     ]
    }
   ],
   "source": [
    "print('LLM as a Judge accuracy\\n')\n",
    "print_acc(judge_pred_correct_mask, lambda x: x.sum()/x.shape[0])\n"
   ]
  },
  {
   "cell_type": "code",
   "execution_count": 83,
   "metadata": {},
   "outputs": [
    {
     "name": "stdout",
     "output_type": "stream",
     "text": [
      "Answer extraction through regex accuracy\n",
      "\n",
      "Question type       Total      Accuracy \n",
      "\n",
      "Interaction         2308        44.58%  \n",
      "Sequence            3485        44.68%  \n",
      "Prediction           621        43.16%  \n",
      "Feasibility          486        44.44%  \n"
     ]
    }
   ],
   "source": [
    "print('Answer extraction through regex accuracy\\n')\n",
    "print_acc(exact_match_pred, lambda x: x.sum()/x.shape[0])\n"
   ]
  },
  {
   "cell_type": "code",
   "execution_count": 84,
   "metadata": {},
   "outputs": [],
   "source": [
    "# Note: to access meta-llama you have to first accept the licence agreement\n",
    "from transformers import AutoTokenizer\n",
    "import os\n",
    "\n",
    "hugg_key = os.environ['HUGGINGFACE_KEY']\n",
    "\n",
    "tokenizer = AutoTokenizer.from_pretrained(\n",
    "                'meta-llama/Llama-3.2-3B-Instruct', \n",
    "                token=hugg_key)\n"
   ]
  },
  {
   "cell_type": "code",
   "execution_count": 85,
   "metadata": {},
   "outputs": [
    {
     "data": {
      "text/plain": [
       "[128000, 128006, 9125, 128007, 128008]"
      ]
     },
     "execution_count": 85,
     "metadata": {},
     "output_type": "execute_result"
    }
   ],
   "source": [
    "# 128000 : <|begin_of_text|>\n",
    "# 128006 : <|start_header_id|>\n",
    "# 128007 : <|end_header_id|>\n",
    "\n",
    "a = tokenizer.encode(\"<|start_header_id|>system<|end_header_id|><|eom_id|>\")\n",
    "a\n"
   ]
  },
  {
   "cell_type": "code",
   "execution_count": 86,
   "metadata": {},
   "outputs": [
    {
     "ename": "SyntaxError",
     "evalue": "invalid syntax (198944400.py, line 1)",
     "output_type": "error",
     "traceback": [
      "\u001b[0;36m  Cell \u001b[0;32mIn[86], line 1\u001b[0;36m\u001b[0m\n\u001b[0;31m    \"chat_template\":\u001b[0m\n\u001b[0m                     ^\u001b[0m\n\u001b[0;31mSyntaxError\u001b[0m\u001b[0;31m:\u001b[0m invalid syntax\n"
     ]
    }
   ],
   "source": [
    "\"chat_template\": \n",
    "\"{{- bos_token }}\\n{%- if custom_tools is defined %}\\n    {%- set tools = custom_tools %}\\n{%- endif %}\\n{%- if not tools_in_user_message is defined %}\\n    {%- set tools_in_user_message = true %}\\n{%- endif %}\\n{%- if not date_string is defined %}\\n    {%- if strftime_now is defined %}\\n        {%- set date_string = strftime_now(\\\"%d %b %Y\\\") %}\\n    {%- else %}\\n        {%- set date_string = \\\"26 Jul 2024\\\" %}\\n    {%- endif %}\\n{%- endif %}\\n{%- if not tools is defined %}\\n    {%- set tools = none %}\\n{%- endif %}\\n\\n{#- This block extracts the system message, so we can slot it into the right place. #}\\n{%- if messages[0]['role'] == 'system' %}\\n    {%- set system_message = messages[0]['content']|trim %}\\n    {%- set messages = messages[1:] %}\\n{%- else %}\\n    {%- set system_message = \\\"\\\" %}\\n{%- endif %}\\n\\n{#- System message #}\\n{{- \\\"<|start_header_id|>system<|end_header_id|>\\\\n\\\\n\\\" }}\\n{%- if tools is not none %}\\n    {{- \\\"Environment: ipython\\\\n\\\" }}\\n{%- endif %}\\n{{- \\\"Cutting Knowledge Date: December 2023\\\\n\\\" }}\\n{{- \\\"Today Date: \\\" + date_string + \\\"\\\\n\\\\n\\\" }}\\n{%- if tools is not none and not tools_in_user_message %}\\n    {{- \\\"You have access to the following functions. To call a function, please respond with JSON for a function call.\\\" }}\\n    {{- 'Respond in the format {\\\"name\\\": function name, \\\"parameters\\\": dictionary of argument name and its value}.' }}\\n    {{- \\\"Do not use variables.\\\\n\\\\n\\\" }}\\n    {%- for t in tools %}\\n        {{- t | tojson(indent=4) }}\\n        {{- \\\"\\\\n\\\\n\\\" }}\\n    {%- endfor %}\\n{%- endif %}\\n{{- system_message }}\\n{{- \\\"<|eot_id|>\\\" }}\\n\\n{#- Custom tools are passed in a user message with some extra guidance #}\\n{%- if tools_in_user_message and not tools is none %}\\n    {#- Extract the first user message so we can plug it in here #}\\n    {%- if messages | length != 0 %}\\n        {%- set first_user_message = messages[0]['content']|trim %}\\n        {%- set messages = messages[1:] %}\\n    {%- else %}\\n        {{- raise_exception(\\\"Cannot put tools in the first user message when there's no first user message!\\\") }}\\n{%- endif %}\\n    {{- '<|start_header_id|>user<|end_header_id|>\\\\n\\\\n' -}}\\n    {{- \\\"Given the following functions, please respond with a JSON for a function call \\\" }}\\n    {{- \\\"with its proper arguments that best answers the given prompt.\\\\n\\\\n\\\" }}\\n    {{- 'Respond in the format {\\\"name\\\": function name, \\\"parameters\\\": dictionary of argument name and its value}.' }}\\n    {{- \\\"Do not use variables.\\\\n\\\\n\\\" }}\\n    {%- for t in tools %}\\n        {{- t | tojson(indent=4) }}\\n        {{- \\\"\\\\n\\\\n\\\" }}\\n    {%- endfor %}\\n    {{- first_user_message + \\\"<|eot_id|>\\\"}}\\n{%- endif %}\\n\\n{%- for message in messages %}\\n    {%- if not (message.role == 'ipython' or message.role == 'tool' or 'tool_calls' in message) %}\\n        {{- '<|start_header_id|>' + message['role'] + '<|end_header_id|>\\\\n\\\\n'+ message['content'] | trim + '<|eot_id|>' }}\\n    {%- elif 'tool_calls' in message %}\\n        {%- if not message.tool_calls|length == 1 %}\\n            {{- raise_exception(\\\"This model only supports single tool-calls at once!\\\") }}\\n        {%- endif %}\\n        {%- set tool_call = message.tool_calls[0].function %}\\n        {{- '<|start_header_id|>assistant<|end_header_id|>\\\\n\\\\n' -}}\\n        {{- '{\\\"name\\\": \\\"' + tool_call.name + '\\\", ' }}\\n        {{- '\\\"parameters\\\": ' }}\\n        {{- tool_call.arguments | tojson }}\\n        {{- \\\"}\\\" }}\\n        {{- \\\"<|eot_id|>\\\" }}\\n    {%- elif message.role == \\\"tool\\\" or message.role == \\\"ipython\\\" %}\\n        {{- \\\"<|start_header_id|>ipython<|end_header_id|>\\\\n\\\\n\\\" }}\\n        {%- if message.content is mapping or message.content is iterable %}\\n            {{- message.content | tojson }}\\n        {%- else %}\\n            {{- message.content }}\\n        {%- endif %}\\n        {{- \\\"<|eot_id|>\\\" }}\\n    {%- endif %}\\n{%- endfor %}\\n{%- if add_generation_prompt %}\\n    {{- '<|start_header_id|>assistant<|end_header_id|>\\\\n\\\\n' }}\\n{%- endif %}\\n\",\n",
    "  \"clean_up_tokenization_spaces\": true,\n"
   ]
  }
 ],
 "metadata": {
  "kernelspec": {
   "display_name": "video-llm",
   "language": "python",
   "name": "python3"
  },
  "language_info": {
   "codemirror_mode": {
    "name": "ipython",
    "version": 3
   },
   "file_extension": ".py",
   "mimetype": "text/x-python",
   "name": "python",
   "nbconvert_exporter": "python",
   "pygments_lexer": "ipython3",
   "version": "3.8.18"
  }
 },
 "nbformat": 4,
 "nbformat_minor": 2
}
