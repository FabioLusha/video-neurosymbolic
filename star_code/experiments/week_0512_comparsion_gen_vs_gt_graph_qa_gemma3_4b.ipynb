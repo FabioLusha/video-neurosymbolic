{
 "cells": [
  {
   "cell_type": "code",
   "execution_count": 198,
   "metadata": {},
   "outputs": [],
   "source": [
    "import random\n",
    "import json\n",
    "import re\n",
    "import os\n",
    "from pathlib import Path\n",
    "\n",
    "import numpy as np\n",
    "import pandas as pd\n",
    "from sklearn.metrics import confusion_matrix\n",
    "\n",
    "import nltk\n",
    "from nltk.corpus import wordnet as wn\n",
    "from nltk.stem import WordNetLemmatizer as wnl\n",
    "\n",
    "\n",
    "import matplotlib.pyplot as plt\n",
    "import seaborn as sns\n",
    "\n",
    "from tqdm import tqdm\n",
    "random.seed(6)\n",
    "np.random.seed(6)\n",
    "\n",
    "WORK_DIR = Path.cwd().parent\n"
   ]
  },
  {
   "cell_type": "code",
   "execution_count": 199,
   "metadata": {},
   "outputs": [],
   "source": [
    "import nltk\n",
    "# Download required NLTK data\n",
    "# Run if needed\n",
    "# nltk.download('punkt_tab')\n",
    "# nltk.download('punkt')\n",
    "# nltk.download('stopwords')\n",
    "# nltk.download('wordnet')\n"
   ]
  },
  {
   "cell_type": "markdown",
   "metadata": {},
   "source": [
    "# Comparing the answers to GT and generated graphs\n",
    "\n",
    "**Parameters:**\n",
    "- model: Gemma3 4b\n",
    "- temperature: 0.1\n",
    "- sampling method: (default) top-p (p=0.9)\n"
   ]
  },
  {
   "cell_type": "markdown",
   "metadata": {},
   "source": [
    "## Prompts"
   ]
  },
  {
   "cell_type": "code",
   "execution_count": 200,
   "metadata": {},
   "outputs": [
    {
     "name": "stdout",
     "output_type": "stream",
     "text": [
      "You need to respond to reasoning questions by making logical inference on sequence of Scene-Graphs extracted from frames belonging to a video, called a Spatio-Temporal Scene Graph.\n",
      "\n",
      "IMPORTANT CLARIFICATIONS:\n",
      "- You will receive a question and Spatio-Temporal Scene-Graph\n",
      "- Each Scene-Graph is a static symbolic representation of the scene unfolding in the frame\n",
      "- The Scene-Graphs are ordered chronologically\n",
      "- The Scene-Graph is represented as a set of tuple in the format: subject - relationship - object\n",
      "- The Spatio-Temporal Scene-Graph is a cornologically sorted list of Scene-Graphs\n",
      "\n",
      "INSTRUCTIONS:\n",
      "- Read the entire Spatio-Temporal Scene-Graphs in chronological order and pay attention at the order of how events unfold.\n",
      "- Read the question and reason about the answer step by step.\n",
      "- In your answer include key events or relationships that help you in determing the correct answer.\n",
      "- Be careful to reproduce the chosen alternative as it is presented.\n"
     ]
    }
   ],
   "source": [
    "with open(WORK_DIR / 'data/prompts/zero-shot-cot/MCQ_system_prompt_ZS_CoT.txt', 'r') as f:\n",
    "    pr = f.read()\n",
    "\n",
    "print(pr)\n"
   ]
  },
  {
   "cell_type": "code",
   "execution_count": 201,
   "metadata": {},
   "outputs": [
    {
     "name": "stdout",
     "output_type": "stream",
     "text": [
      "Please carefully read the following Spatio-Temporal Scene Graph delimited by the <STSG> tags and provide an answer to the question below:\n",
      "\n",
      "<STSG>\n",
      "{stsg}\n",
      "</STSG>\n",
      "\n",
      "Given the following question:\n",
      "<Q>\n",
      "{question}\n",
      "<Q>\n",
      "\n",
      "And the following alternatives:\n",
      "<Alternatives>\n",
      "A. {c1}\n",
      "B. {c2}\n",
      "C. {c3}\n",
      "D. {c4}\n",
      "</Alternatives>\n",
      "\n",
      "Provide an answer to the above question reasoning step by step on the Spatio-Temporal Scene-Graph (STSG) and choosing one of the alternatives.\n"
     ]
    }
   ],
   "source": [
    "with open(WORK_DIR / 'data/prompts/zero-shot-cot/MCQ_user_prompt_ZS_CoT_v2.txt', 'r') as f:\n",
    "    pr = f.read()\n",
    "\n",
    "print(pr)\n"
   ]
  },
  {
   "cell_type": "code",
   "execution_count": 202,
   "metadata": {},
   "outputs": [
    {
     "name": "stdout",
     "output_type": "stream",
     "text": [
      "Therefore the final answer is?\n",
      "\n",
      "Your response must be provided in valid JSON format as follows:\n",
      "{\"answer\": \"your complete answer here\"}\n",
      "\n",
      "IMPORTANT: Always include both the letter (A, B, C, D, etc.) AND the full text of the answer in your response.\n",
      "Do not abbreviate or shorten the answer. For example, if the correct answer is \"A. the laptop\", your response \n",
      "should be {\"answer\": \"A. the laptop\"}, not {\"answer\": \"laptop\"} or {\"answer\": \"A\"}.\n"
     ]
    }
   ],
   "source": [
    "reply = \"\"\"\\\n",
    "Therefore the final answer is?\n",
    "\n",
    "Your response must be provided in valid JSON format as follows:\n",
    "{\"answer\": \"your complete answer here\"}\n",
    "\n",
    "IMPORTANT: Always include both the letter (A, B, C, D, etc.) AND the full text of the answer in your response.\n",
    "Do not abbreviate or shorten the answer. For example, if the correct answer is \"A. the laptop\", your response \n",
    "should be {\"answer\": \"A. the laptop\"}, not {\"answer\": \"laptop\"} or {\"answer\": \"A\"}.\\\n",
    "\"\"\"\n",
    "\n",
    "print(reply)\n"
   ]
  },
  {
   "cell_type": "markdown",
   "metadata": {},
   "source": [
    "Let's load the ground truth from the `STAR_QA_question_and_stsg_val.json` file where we extracted QA and spatio-temporal scene graphs"
   ]
  },
  {
   "cell_type": "code",
   "execution_count": 203,
   "metadata": {},
   "outputs": [
    {
     "data": {
      "text/html": [
       "<div>\n",
       "<style scoped>\n",
       "    .dataframe tbody tr th:only-of-type {\n",
       "        vertical-align: middle;\n",
       "    }\n",
       "\n",
       "    .dataframe tbody tr th {\n",
       "        vertical-align: top;\n",
       "    }\n",
       "\n",
       "    .dataframe thead th {\n",
       "        text-align: right;\n",
       "    }\n",
       "</style>\n",
       "<table border=\"1\" class=\"dataframe\">\n",
       "  <thead>\n",
       "    <tr style=\"text-align: right;\">\n",
       "      <th></th>\n",
       "      <th>question</th>\n",
       "      <th>choices</th>\n",
       "      <th>num</th>\n",
       "      <th>text</th>\n",
       "      <th>stsg</th>\n",
       "    </tr>\n",
       "    <tr>\n",
       "      <th>id</th>\n",
       "      <th></th>\n",
       "      <th></th>\n",
       "      <th></th>\n",
       "      <th></th>\n",
       "      <th></th>\n",
       "    </tr>\n",
       "  </thead>\n",
       "  <tbody>\n",
       "    <tr>\n",
       "      <th>Interaction_T1_13</th>\n",
       "      <td>Which object was tidied up by the person?</td>\n",
       "      <td>{'0': 'The closet/cabinet.', '1': 'The blanket...</td>\n",
       "      <td>2</td>\n",
       "      <td>The clothes.</td>\n",
       "      <td>[[person - on_the_side_of - clothes], [person ...</td>\n",
       "    </tr>\n",
       "    <tr>\n",
       "      <th>Interaction_T1_14</th>\n",
       "      <td>Which object was tidied up by the person?</td>\n",
       "      <td>{'0': 'The blanket.', '1': 'The table.', '2': ...</td>\n",
       "      <td>2</td>\n",
       "      <td>The clothes.</td>\n",
       "      <td>[[person - holding - towel, person - in_front_...</td>\n",
       "    </tr>\n",
       "    <tr>\n",
       "      <th>Interaction_T1_31</th>\n",
       "      <td>Which object was thrown by the person?</td>\n",
       "      <td>{'0': 'The pillow.', '1': 'The bag.', '2': 'Th...</td>\n",
       "      <td>2</td>\n",
       "      <td>The clothes.</td>\n",
       "      <td>[[person - wearing - clothes, person - above -...</td>\n",
       "    </tr>\n",
       "    <tr>\n",
       "      <th>Interaction_T1_32</th>\n",
       "      <td>Which object was put down by the person?</td>\n",
       "      <td>{'0': 'The food.', '1': 'The shoe.', '2': 'The...</td>\n",
       "      <td>1</td>\n",
       "      <td>The shoe.</td>\n",
       "      <td>[[person - on_the_side_of - clothes, person - ...</td>\n",
       "    </tr>\n",
       "    <tr>\n",
       "      <th>Interaction_T1_40</th>\n",
       "      <td>Which object was tidied up by the person?</td>\n",
       "      <td>{'0': 'The broom.', '1': 'The closet/cabinet.'...</td>\n",
       "      <td>1</td>\n",
       "      <td>The closet/cabinet.</td>\n",
       "      <td>[[person - holding - clothes, person - in_fron...</td>\n",
       "    </tr>\n",
       "    <tr>\n",
       "      <th>...</th>\n",
       "      <td>...</td>\n",
       "      <td>...</td>\n",
       "      <td>...</td>\n",
       "      <td>...</td>\n",
       "      <td>...</td>\n",
       "    </tr>\n",
       "    <tr>\n",
       "      <th>Feasibility_T6_1453</th>\n",
       "      <td>What is the person able to do after taking the...</td>\n",
       "      <td>{'0': 'Wash the table.', '1': 'Take the box.',...</td>\n",
       "      <td>0</td>\n",
       "      <td>Wash the table.</td>\n",
       "      <td>[[person - on_the_side_of - table, person - ho...</td>\n",
       "    </tr>\n",
       "    <tr>\n",
       "      <th>Feasibility_T6_1454</th>\n",
       "      <td>What is the person able to do after walking th...</td>\n",
       "      <td>{'0': 'Take the towel.', '1': 'Throw the bag.'...</td>\n",
       "      <td>0</td>\n",
       "      <td>Take the towel.</td>\n",
       "      <td>[[person - in_front_of - table], [person - in_...</td>\n",
       "    </tr>\n",
       "    <tr>\n",
       "      <th>Feasibility_T6_1455</th>\n",
       "      <td>What is the person able to do after walking th...</td>\n",
       "      <td>{'0': 'Throw the bag.', '1': 'Wash the table.'...</td>\n",
       "      <td>1</td>\n",
       "      <td>Wash the table.</td>\n",
       "      <td>[[person - in_front_of - table], [person - in_...</td>\n",
       "    </tr>\n",
       "    <tr>\n",
       "      <th>Feasibility_T6_1456</th>\n",
       "      <td>What is the person able to do after putting th...</td>\n",
       "      <td>{'0': 'Hold the food.', '1': 'Open the closet/...</td>\n",
       "      <td>3</td>\n",
       "      <td>Wash the table.</td>\n",
       "      <td>[[person - in_front_of - table], [person - in_...</td>\n",
       "    </tr>\n",
       "    <tr>\n",
       "      <th>Feasibility_T6_1468</th>\n",
       "      <td>What is the person able to do after opening th...</td>\n",
       "      <td>{'0': 'Wash the window.', '1': 'Hold the food....</td>\n",
       "      <td>1</td>\n",
       "      <td>Hold the food.</td>\n",
       "      <td>[[person - in_front_of - refrigerator], [perso...</td>\n",
       "    </tr>\n",
       "  </tbody>\n",
       "</table>\n",
       "<p>7098 rows × 5 columns</p>\n",
       "</div>"
      ],
      "text/plain": [
       "                                                              question  \\\n",
       "id                                                                       \n",
       "Interaction_T1_13            Which object was tidied up by the person?   \n",
       "Interaction_T1_14            Which object was tidied up by the person?   \n",
       "Interaction_T1_31               Which object was thrown by the person?   \n",
       "Interaction_T1_32             Which object was put down by the person?   \n",
       "Interaction_T1_40            Which object was tidied up by the person?   \n",
       "...                                                                ...   \n",
       "Feasibility_T6_1453  What is the person able to do after taking the...   \n",
       "Feasibility_T6_1454  What is the person able to do after walking th...   \n",
       "Feasibility_T6_1455  What is the person able to do after walking th...   \n",
       "Feasibility_T6_1456  What is the person able to do after putting th...   \n",
       "Feasibility_T6_1468  What is the person able to do after opening th...   \n",
       "\n",
       "                                                               choices num  \\\n",
       "id                                                                           \n",
       "Interaction_T1_13    {'0': 'The closet/cabinet.', '1': 'The blanket...   2   \n",
       "Interaction_T1_14    {'0': 'The blanket.', '1': 'The table.', '2': ...   2   \n",
       "Interaction_T1_31    {'0': 'The pillow.', '1': 'The bag.', '2': 'Th...   2   \n",
       "Interaction_T1_32    {'0': 'The food.', '1': 'The shoe.', '2': 'The...   1   \n",
       "Interaction_T1_40    {'0': 'The broom.', '1': 'The closet/cabinet.'...   1   \n",
       "...                                                                ...  ..   \n",
       "Feasibility_T6_1453  {'0': 'Wash the table.', '1': 'Take the box.',...   0   \n",
       "Feasibility_T6_1454  {'0': 'Take the towel.', '1': 'Throw the bag.'...   0   \n",
       "Feasibility_T6_1455  {'0': 'Throw the bag.', '1': 'Wash the table.'...   1   \n",
       "Feasibility_T6_1456  {'0': 'Hold the food.', '1': 'Open the closet/...   3   \n",
       "Feasibility_T6_1468  {'0': 'Wash the window.', '1': 'Hold the food....   1   \n",
       "\n",
       "                                    text  \\\n",
       "id                                         \n",
       "Interaction_T1_13           The clothes.   \n",
       "Interaction_T1_14           The clothes.   \n",
       "Interaction_T1_31           The clothes.   \n",
       "Interaction_T1_32              The shoe.   \n",
       "Interaction_T1_40    The closet/cabinet.   \n",
       "...                                  ...   \n",
       "Feasibility_T6_1453      Wash the table.   \n",
       "Feasibility_T6_1454      Take the towel.   \n",
       "Feasibility_T6_1455      Wash the table.   \n",
       "Feasibility_T6_1456      Wash the table.   \n",
       "Feasibility_T6_1468       Hold the food.   \n",
       "\n",
       "                                                                  stsg  \n",
       "id                                                                      \n",
       "Interaction_T1_13    [[person - on_the_side_of - clothes], [person ...  \n",
       "Interaction_T1_14    [[person - holding - towel, person - in_front_...  \n",
       "Interaction_T1_31    [[person - wearing - clothes, person - above -...  \n",
       "Interaction_T1_32    [[person - on_the_side_of - clothes, person - ...  \n",
       "Interaction_T1_40    [[person - holding - clothes, person - in_fron...  \n",
       "...                                                                ...  \n",
       "Feasibility_T6_1453  [[person - on_the_side_of - table, person - ho...  \n",
       "Feasibility_T6_1454  [[person - in_front_of - table], [person - in_...  \n",
       "Feasibility_T6_1455  [[person - in_front_of - table], [person - in_...  \n",
       "Feasibility_T6_1456  [[person - in_front_of - table], [person - in_...  \n",
       "Feasibility_T6_1468  [[person - in_front_of - refrigerator], [perso...  \n",
       "\n",
       "[7098 rows x 5 columns]"
      ]
     },
     "execution_count": 203,
     "metadata": {},
     "output_type": "execute_result"
    }
   ],
   "source": [
    "ground_truth = []\n",
    "\n",
    "with open(WORK_DIR / 'data/datasets/STAR_QA_and_stsg_val.json') as f:\n",
    "    data = json.load(f)\n",
    "    ground_truth = [{\n",
    "        'id': sample['question_id'],\n",
    "        'question': sample['question'],\n",
    "        'choices': sample['choices'],\n",
    "        'num': sample['answer'],\n",
    "        'text': sample['choices'][str(sample['answer'])],\n",
    "        'stsg': sample['stsg'],\n",
    "    } for sample in data]\n",
    "\n",
    "\n",
    "# we keep num as str so we can directrly access choices dictionaries\n",
    "gt_df = pd.DataFrame(ground_truth).astype({'id': 'string', 'num': 'string', 'text': 'string'})\n",
    "gt_df.set_index('id', inplace=True)\n",
    "gt_df\n"
   ]
  },
  {
   "cell_type": "markdown",
   "metadata": {},
   "source": [
    "## Loading predicted answers evaluation"
   ]
  },
  {
   "cell_type": "code",
   "execution_count": 204,
   "metadata": {},
   "outputs": [
    {
     "data": {
      "text/html": [
       "<div>\n",
       "<style scoped>\n",
       "    .dataframe tbody tr th:only-of-type {\n",
       "        vertical-align: middle;\n",
       "    }\n",
       "\n",
       "    .dataframe tbody tr th {\n",
       "        vertical-align: top;\n",
       "    }\n",
       "\n",
       "    .dataframe thead th {\n",
       "        text-align: right;\n",
       "    }\n",
       "</style>\n",
       "<table border=\"1\" class=\"dataframe\">\n",
       "  <thead>\n",
       "    <tr style=\"text-align: right;\">\n",
       "      <th></th>\n",
       "      <th>chat_history</th>\n",
       "    </tr>\n",
       "    <tr>\n",
       "      <th>id</th>\n",
       "      <th></th>\n",
       "    </tr>\n",
       "  </thead>\n",
       "  <tbody>\n",
       "    <tr>\n",
       "      <th>Sequence_T4_281</th>\n",
       "      <td>[{'role': 'user', 'content': 'Please carefully...</td>\n",
       "    </tr>\n",
       "    <tr>\n",
       "      <th>Sequence_T6_1980</th>\n",
       "      <td>[{'role': 'user', 'content': 'Please carefully...</td>\n",
       "    </tr>\n",
       "    <tr>\n",
       "      <th>Feasibility_T6_1267</th>\n",
       "      <td>[{'role': 'user', 'content': 'Please carefully...</td>\n",
       "    </tr>\n",
       "    <tr>\n",
       "      <th>Sequence_T5_5211</th>\n",
       "      <td>[{'role': 'user', 'content': 'Please carefully...</td>\n",
       "    </tr>\n",
       "    <tr>\n",
       "      <th>Sequence_T5_441</th>\n",
       "      <td>[{'role': 'user', 'content': 'Please carefully...</td>\n",
       "    </tr>\n",
       "    <tr>\n",
       "      <th>...</th>\n",
       "      <td>...</td>\n",
       "    </tr>\n",
       "    <tr>\n",
       "      <th>Sequence_T1_7661</th>\n",
       "      <td>[{'role': 'user', 'content': 'Please carefully...</td>\n",
       "    </tr>\n",
       "    <tr>\n",
       "      <th>Sequence_T1_1483</th>\n",
       "      <td>[{'role': 'user', 'content': 'Please carefully...</td>\n",
       "    </tr>\n",
       "    <tr>\n",
       "      <th>Interaction_T1_3054</th>\n",
       "      <td>[{'role': 'user', 'content': 'Please carefully...</td>\n",
       "    </tr>\n",
       "    <tr>\n",
       "      <th>Interaction_T4_1491</th>\n",
       "      <td>[{'role': 'user', 'content': 'Please carefully...</td>\n",
       "    </tr>\n",
       "    <tr>\n",
       "      <th>Interaction_T1_6788</th>\n",
       "      <td>[{'role': 'user', 'content': 'Please carefully...</td>\n",
       "    </tr>\n",
       "  </tbody>\n",
       "</table>\n",
       "<p>1661 rows × 1 columns</p>\n",
       "</div>"
      ],
      "text/plain": [
       "                                                          chat_history\n",
       "id                                                                    \n",
       "Sequence_T4_281      [{'role': 'user', 'content': 'Please carefully...\n",
       "Sequence_T6_1980     [{'role': 'user', 'content': 'Please carefully...\n",
       "Feasibility_T6_1267  [{'role': 'user', 'content': 'Please carefully...\n",
       "Sequence_T5_5211     [{'role': 'user', 'content': 'Please carefully...\n",
       "Sequence_T5_441      [{'role': 'user', 'content': 'Please carefully...\n",
       "...                                                                ...\n",
       "Sequence_T1_7661     [{'role': 'user', 'content': 'Please carefully...\n",
       "Sequence_T1_1483     [{'role': 'user', 'content': 'Please carefully...\n",
       "Interaction_T1_3054  [{'role': 'user', 'content': 'Please carefully...\n",
       "Interaction_T4_1491  [{'role': 'user', 'content': 'Please carefully...\n",
       "Interaction_T1_6788  [{'role': 'user', 'content': 'Please carefully...\n",
       "\n",
       "[1661 rows x 1 columns]"
      ]
     },
     "execution_count": 204,
     "metadata": {},
     "output_type": "execute_result"
    }
   ],
   "source": [
    "predictions = []\n",
    "with open(WORK_DIR / 'outputs/responses_to_genframes_gemma3:4b_20250502_15:55:99.jsonl', mode='r', encoding='utf-8', errors='strict') as f:\n",
    "    predictions = [json.loads(line) for line in f.readlines()]\n",
    "\n",
    "# transforming the id key from `qid` to `id` for consistency and `response` to `answer`\n",
    "predictions_df = pd.DataFrame(predictions, dtype='string').rename(columns={'qid':'id'})\n",
    "predictions_df.set_index('id', inplace=True)\n",
    "predictions_df\n",
    "\n"
   ]
  },
  {
   "cell_type": "code",
   "execution_count": 205,
   "metadata": {},
   "outputs": [
    {
     "data": {
      "text/html": [
       "<div>\n",
       "<style scoped>\n",
       "    .dataframe tbody tr th:only-of-type {\n",
       "        vertical-align: middle;\n",
       "    }\n",
       "\n",
       "    .dataframe tbody tr th {\n",
       "        vertical-align: top;\n",
       "    }\n",
       "\n",
       "    .dataframe thead th {\n",
       "        text-align: right;\n",
       "    }\n",
       "</style>\n",
       "<table border=\"1\" class=\"dataframe\">\n",
       "  <thead>\n",
       "    <tr style=\"text-align: right;\">\n",
       "      <th></th>\n",
       "      <th>chat_history</th>\n",
       "    </tr>\n",
       "    <tr>\n",
       "      <th>id</th>\n",
       "      <th></th>\n",
       "    </tr>\n",
       "  </thead>\n",
       "  <tbody>\n",
       "    <tr>\n",
       "      <th>Sequence_T4_281</th>\n",
       "      <td>[{'role': 'user', 'content': 'Please carefully...</td>\n",
       "    </tr>\n",
       "    <tr>\n",
       "      <th>Sequence_T6_1980</th>\n",
       "      <td>[{'role': 'user', 'content': 'Please carefully...</td>\n",
       "    </tr>\n",
       "    <tr>\n",
       "      <th>Feasibility_T6_1267</th>\n",
       "      <td>[{'role': 'user', 'content': 'Please carefully...</td>\n",
       "    </tr>\n",
       "    <tr>\n",
       "      <th>Sequence_T5_5211</th>\n",
       "      <td>[{'role': 'user', 'content': 'Please carefully...</td>\n",
       "    </tr>\n",
       "    <tr>\n",
       "      <th>Sequence_T5_441</th>\n",
       "      <td>[{'role': 'user', 'content': 'Please carefully...</td>\n",
       "    </tr>\n",
       "    <tr>\n",
       "      <th>...</th>\n",
       "      <td>...</td>\n",
       "    </tr>\n",
       "    <tr>\n",
       "      <th>Sequence_T1_7661</th>\n",
       "      <td>[{'role': 'user', 'content': 'Please carefully...</td>\n",
       "    </tr>\n",
       "    <tr>\n",
       "      <th>Sequence_T1_1483</th>\n",
       "      <td>[{'role': 'user', 'content': 'Please carefully...</td>\n",
       "    </tr>\n",
       "    <tr>\n",
       "      <th>Interaction_T1_3054</th>\n",
       "      <td>[{'role': 'user', 'content': 'Please carefully...</td>\n",
       "    </tr>\n",
       "    <tr>\n",
       "      <th>Interaction_T4_1491</th>\n",
       "      <td>[{'role': 'user', 'content': 'Please carefully...</td>\n",
       "    </tr>\n",
       "    <tr>\n",
       "      <th>Interaction_T1_6788</th>\n",
       "      <td>[{'role': 'user', 'content': 'Please carefully...</td>\n",
       "    </tr>\n",
       "  </tbody>\n",
       "</table>\n",
       "<p>1661 rows × 1 columns</p>\n",
       "</div>"
      ],
      "text/plain": [
       "                                                          chat_history\n",
       "id                                                                    \n",
       "Sequence_T4_281      [{'role': 'user', 'content': 'Please carefully...\n",
       "Sequence_T6_1980     [{'role': 'user', 'content': 'Please carefully...\n",
       "Feasibility_T6_1267  [{'role': 'user', 'content': 'Please carefully...\n",
       "Sequence_T5_5211     [{'role': 'user', 'content': 'Please carefully...\n",
       "Sequence_T5_441      [{'role': 'user', 'content': 'Please carefully...\n",
       "...                                                                ...\n",
       "Sequence_T1_7661     [{'role': 'user', 'content': 'Please carefully...\n",
       "Sequence_T1_1483     [{'role': 'user', 'content': 'Please carefully...\n",
       "Interaction_T1_3054  [{'role': 'user', 'content': 'Please carefully...\n",
       "Interaction_T4_1491  [{'role': 'user', 'content': 'Please carefully...\n",
       "Interaction_T1_6788  [{'role': 'user', 'content': 'Please carefully...\n",
       "\n",
       "[1661 rows x 1 columns]"
      ]
     },
     "execution_count": 205,
     "metadata": {},
     "output_type": "execute_result"
    }
   ],
   "source": [
    "predictions_df['chat_history'] = \\\n",
    "    predictions_df['chat_history'] \\\n",
    "    .apply(lambda x: eval(x))\n",
    "\n",
    "predictions_df\n"
   ]
  },
  {
   "cell_type": "code",
   "execution_count": 206,
   "metadata": {},
   "outputs": [],
   "source": [
    "predictions_df['answer'] = predictions_df['chat_history'].apply(lambda x: x[-1]['content'])\n"
   ]
  },
  {
   "cell_type": "code",
   "execution_count": 207,
   "metadata": {},
   "outputs": [
    {
     "data": {
      "text/plain": [
       "id\n",
       "Sequence_T4_281             ```json\\n{\"answer\": \"A. Took the box.\"}\\n```\n",
       "Sequence_T6_1980                ```json\\n{\"answer\": \"D. Put down.\"}\\n```\n",
       "Feasibility_T6_1267    ```json\\n{\"answer\": \"B. Put down the paper/not...\n",
       "Sequence_T5_5211                ```json\\n{\"answer\": \"A. Put down.\"}\\n```\n",
       "Sequence_T5_441        ```json\\n{\"answer\": \"None of the alternatives ...\n",
       "Name: answer, dtype: object"
      ]
     },
     "execution_count": 207,
     "metadata": {},
     "output_type": "execute_result"
    }
   ],
   "source": [
    "predictions_df['answer'].iloc[0:5] \n"
   ]
  },
  {
   "cell_type": "markdown",
   "metadata": {},
   "source": [
    "## Text preprocessing"
   ]
  },
  {
   "cell_type": "markdown",
   "metadata": {},
   "source": [
    "For Gemma we need to be more careful becuase the format is different, it encapsulated the json output in the with the tokens: \n",
    "```\n",
    "```json\\n\n",
    "<actual_answer>\n",
    "\\n```\n",
    "```"
   ]
  },
  {
   "cell_type": "code",
   "execution_count": 208,
   "metadata": {},
   "outputs": [
    {
     "name": "stdout",
     "output_type": "stream",
     "text": [
      "Total answers: 1661\n",
      "Answers following JSON template: 1661\n",
      "Percentage following JSON template: 100.00%\n"
     ]
    }
   ],
   "source": [
    "\n",
    "# Create mask for answers that follow JSON syntax\n",
    "json_mask = predictions_df['answer'].str.match(r'^(```json\\s)?({[^}]+})(\\s```)?$')\n",
    "matches_json_template = json_mask.sum()\n",
    "\n",
    "print(f\"Total answers: {len(predictions_df)}\")\n",
    "print(f\"Answers following JSON template: {matches_json_template}\")\n",
    "print(f\"Percentage following JSON template: {(matches_json_template/len(predictions_df))*100:.2f}%\")\n"
   ]
  },
  {
   "cell_type": "code",
   "execution_count": 209,
   "metadata": {},
   "outputs": [
    {
     "data": {
      "text/plain": [
       "Series([], Name: answer, dtype: object)"
      ]
     },
     "execution_count": 209,
     "metadata": {},
     "output_type": "execute_result"
    }
   ],
   "source": [
    "predictions_df.loc[~json_mask, 'answer']\n"
   ]
  },
  {
   "cell_type": "code",
   "execution_count": 210,
   "metadata": {},
   "outputs": [
    {
     "data": {
      "text/plain": [
       "id\n",
       "Sequence_T4_281                           {\"answer\": \"A. Took the box.\"}\n",
       "Sequence_T6_1980                              {\"answer\": \"D. Put down.\"}\n",
       "Feasibility_T6_1267        {\"answer\": \"B. Put down the paper/notebook.\"}\n",
       "Sequence_T5_5211                              {\"answer\": \"A. Put down.\"}\n",
       "Sequence_T5_441        {\"answer\": \"None of the alternatives are corre...\n",
       "                                             ...                        \n",
       "Sequence_T1_7661                               {\"answer\": \"D. The bed.\"}\n",
       "Sequence_T1_1483                               {\"answer\": \"C. The bag.\"}\n",
       "Interaction_T1_3054                            {\"answer\": \"D. The box.\"}\n",
       "Interaction_T4_1491                  {\"answer\": \"A. Put down the dish.\"}\n",
       "Interaction_T1_6788                         {\"answer\": \"A. The laptop.\"}\n",
       "Name: answer, Length: 1661, dtype: object"
      ]
     },
     "execution_count": 210,
     "metadata": {},
     "output_type": "execute_result"
    }
   ],
   "source": [
    "predictions_df.loc[json_mask, 'answer'] = \\\n",
    "    predictions_df.loc[json_mask, 'answer'] \\\n",
    "    .apply(lambda x: re.search(r'^(?:```json\\s)?({[^}]+})(?:\\s```)?$', x).group(1))\n",
    "\n",
    "predictions_df.loc[~json_mask, 'answer'] = \"\"\n",
    "predictions_df['answer']\n"
   ]
  },
  {
   "cell_type": "markdown",
   "metadata": {},
   "source": [
    "### The need to replace single quotes"
   ]
  },
  {
   "cell_type": "code",
   "execution_count": 211,
   "metadata": {},
   "outputs": [
    {
     "name": "stdout",
     "output_type": "stream",
     "text": [
      "‘\n",
      "’\n",
      "‚\n",
      "‛\n",
      "“\n",
      "”\n"
     ]
    },
    {
     "data": {
      "text/plain": [
       "(None, None, None, None, None, None)"
      ]
     },
     "execution_count": 211,
     "metadata": {},
     "output_type": "execute_result"
    }
   ],
   "source": [
    "print('\\u2018'), print('\\u2019'), print('\\u201a'), print('\\u201b'), print('\\u201c'), print('\\u201d')\n"
   ]
  },
  {
   "cell_type": "code",
   "execution_count": 212,
   "metadata": {},
   "outputs": [],
   "source": [
    "import unicodedata\n",
    "\n",
    "def print_unicode_codes(s):\n",
    "    print(\"Char | Unicode Point | UTF-8 Bytes | Name\")\n",
    "    print(\"-\" * 50)\n",
    "    for char in s:\n",
    "        code = ord(char)\n",
    "        utf8_bytes = list(char.encode('utf-8'))\n",
    "        try:\n",
    "            name = unicodedata.name(char)\n",
    "        except ValueError:\n",
    "            name = \"No name\"\n",
    "        print(f\"'{char}'  | U+{code:04X}       | {utf8_bytes}      | {name}\")\n",
    "\n",
    "# Requires: import unicodedata\n",
    "# print_unicode_codes(el['answer'])\n"
   ]
  },
  {
   "cell_type": "code",
   "execution_count": 213,
   "metadata": {},
   "outputs": [],
   "source": [
    "import tokenize\n",
    "from io import StringIO\n",
    "import ast\n",
    "\n",
    "def debug_parsing(code):\n",
    "    try:\n",
    "        # First try full parse\n",
    "        ast.parse(code)\n",
    "    except SyntaxError as e:\n",
    "        print(f\"Full parse failed at line {e.lineno}\")\n",
    "        print(\"Token stream up to error:\")\n",
    "        \n",
    "        # Show token stream\n",
    "        tokens = tokenize.generate_tokens(StringIO(code).readline)\n",
    "        for tok in tokens:\n",
    "            print(f\"{tokenize.tok_name[tok.type]:<15} {tok.string!r:<20} {tok.start}->{tok.end}\")\n",
    "            if tok.start[0] > e.lineno or (\n",
    "                tok.start[0] == e.lineno and tok.start[1] >= e.offset\n",
    "            ):\n",
    "                print(\"-- Error occurs here --\")\n",
    "                break\n",
    "\n",
    "#debug_parsing(el['answer'])\n"
   ]
  },
  {
   "cell_type": "markdown",
   "metadata": {},
   "source": [
    "### Applying changes"
   ]
  },
  {
   "cell_type": "code",
   "execution_count": 214,
   "metadata": {},
   "outputs": [],
   "source": [
    "# Replace new line (lead to EOF Errors) with whitespace\n",
    "predictions_df['answer'] = \\\n",
    "    predictions_df['answer'].str.replace('\\n+', ' ', regex=True)\n",
    "\n",
    "# Replace lef and right quotation mark with simple quotation mark\n",
    "predictions_df['answer'] = \\\n",
    "    predictions_df['answer'].str.replace('[\\u2018-\\u201b]', '\\'', regex=True)\n",
    "predictions_df['answer'] = \\\n",
    "    predictions_df['answer'].str.replace('[\\u201c\\u201d]', '\"', regex=True)\n",
    "# ------------------ Removing inner double quotes --------------------\n",
    "# It may happen that the text may contain inner double quotes before the\n",
    "# attribute end. This will cause the parser to termiate early and spout\n",
    "# errors for the remaining text. With this snippet we replace those inner\n",
    "# double quotes with single quotes.\n",
    "#  \n",
    "# we first match the text of the reason paramter inside the double quotes\n",
    "# then we escape/replace all the double quotes inside the text\n",
    "inside_doublequotes = r\"(?<=\\\"answer\\\": \\\")(.*)(?=\\\"(?:,|}))\"\n",
    "\n",
    "predictions_df['answer'] = \\\n",
    "    predictions_df.apply(\n",
    "        func=lambda row: re.sub(\n",
    "            inside_doublequotes, \n",
    "            lambda matchobj: matchobj.group(0).replace('\\\"', ''), \n",
    "            row['answer']),\n",
    "        axis=1\n",
    "        )\n"
   ]
  },
  {
   "cell_type": "code",
   "execution_count": 215,
   "metadata": {},
   "outputs": [
    {
     "data": {
      "text/html": [
       "<div>\n",
       "<style scoped>\n",
       "    .dataframe tbody tr th:only-of-type {\n",
       "        vertical-align: middle;\n",
       "    }\n",
       "\n",
       "    .dataframe tbody tr th {\n",
       "        vertical-align: top;\n",
       "    }\n",
       "\n",
       "    .dataframe thead th {\n",
       "        text-align: right;\n",
       "    }\n",
       "</style>\n",
       "<table border=\"1\" class=\"dataframe\">\n",
       "  <thead>\n",
       "    <tr style=\"text-align: right;\">\n",
       "      <th></th>\n",
       "      <th>chat_history</th>\n",
       "      <th>answer</th>\n",
       "    </tr>\n",
       "    <tr>\n",
       "      <th>id</th>\n",
       "      <th></th>\n",
       "      <th></th>\n",
       "    </tr>\n",
       "  </thead>\n",
       "  <tbody>\n",
       "    <tr>\n",
       "      <th>Sequence_T4_281</th>\n",
       "      <td>[{'role': 'user', 'content': 'Please carefully...</td>\n",
       "      <td>A. Took the box.</td>\n",
       "    </tr>\n",
       "    <tr>\n",
       "      <th>Sequence_T6_1980</th>\n",
       "      <td>[{'role': 'user', 'content': 'Please carefully...</td>\n",
       "      <td>D. Put down.</td>\n",
       "    </tr>\n",
       "    <tr>\n",
       "      <th>Feasibility_T6_1267</th>\n",
       "      <td>[{'role': 'user', 'content': 'Please carefully...</td>\n",
       "      <td>B. Put down the paper/notebook.</td>\n",
       "    </tr>\n",
       "    <tr>\n",
       "      <th>Sequence_T5_5211</th>\n",
       "      <td>[{'role': 'user', 'content': 'Please carefully...</td>\n",
       "      <td>A. Put down.</td>\n",
       "    </tr>\n",
       "    <tr>\n",
       "      <th>Sequence_T5_441</th>\n",
       "      <td>[{'role': 'user', 'content': 'Please carefully...</td>\n",
       "      <td>None of the alternatives are correct. There is...</td>\n",
       "    </tr>\n",
       "    <tr>\n",
       "      <th>...</th>\n",
       "      <td>...</td>\n",
       "      <td>...</td>\n",
       "    </tr>\n",
       "    <tr>\n",
       "      <th>Sequence_T1_7661</th>\n",
       "      <td>[{'role': 'user', 'content': 'Please carefully...</td>\n",
       "      <td>D. The bed.</td>\n",
       "    </tr>\n",
       "    <tr>\n",
       "      <th>Sequence_T1_1483</th>\n",
       "      <td>[{'role': 'user', 'content': 'Please carefully...</td>\n",
       "      <td>C. The bag.</td>\n",
       "    </tr>\n",
       "    <tr>\n",
       "      <th>Interaction_T1_3054</th>\n",
       "      <td>[{'role': 'user', 'content': 'Please carefully...</td>\n",
       "      <td>D. The box.</td>\n",
       "    </tr>\n",
       "    <tr>\n",
       "      <th>Interaction_T4_1491</th>\n",
       "      <td>[{'role': 'user', 'content': 'Please carefully...</td>\n",
       "      <td>A. Put down the dish.</td>\n",
       "    </tr>\n",
       "    <tr>\n",
       "      <th>Interaction_T1_6788</th>\n",
       "      <td>[{'role': 'user', 'content': 'Please carefully...</td>\n",
       "      <td>A. The laptop.</td>\n",
       "    </tr>\n",
       "  </tbody>\n",
       "</table>\n",
       "<p>1661 rows × 2 columns</p>\n",
       "</div>"
      ],
      "text/plain": [
       "                                                          chat_history  \\\n",
       "id                                                                       \n",
       "Sequence_T4_281      [{'role': 'user', 'content': 'Please carefully...   \n",
       "Sequence_T6_1980     [{'role': 'user', 'content': 'Please carefully...   \n",
       "Feasibility_T6_1267  [{'role': 'user', 'content': 'Please carefully...   \n",
       "Sequence_T5_5211     [{'role': 'user', 'content': 'Please carefully...   \n",
       "Sequence_T5_441      [{'role': 'user', 'content': 'Please carefully...   \n",
       "...                                                                ...   \n",
       "Sequence_T1_7661     [{'role': 'user', 'content': 'Please carefully...   \n",
       "Sequence_T1_1483     [{'role': 'user', 'content': 'Please carefully...   \n",
       "Interaction_T1_3054  [{'role': 'user', 'content': 'Please carefully...   \n",
       "Interaction_T4_1491  [{'role': 'user', 'content': 'Please carefully...   \n",
       "Interaction_T1_6788  [{'role': 'user', 'content': 'Please carefully...   \n",
       "\n",
       "                                                                answer  \n",
       "id                                                                      \n",
       "Sequence_T4_281                                       A. Took the box.  \n",
       "Sequence_T6_1980                                          D. Put down.  \n",
       "Feasibility_T6_1267                    B. Put down the paper/notebook.  \n",
       "Sequence_T5_5211                                          A. Put down.  \n",
       "Sequence_T5_441      None of the alternatives are correct. There is...  \n",
       "...                                                                ...  \n",
       "Sequence_T1_7661                                           D. The bed.  \n",
       "Sequence_T1_1483                                           C. The bag.  \n",
       "Interaction_T1_3054                                        D. The box.  \n",
       "Interaction_T4_1491                              A. Put down the dish.  \n",
       "Interaction_T1_6788                                     A. The laptop.  \n",
       "\n",
       "[1661 rows x 2 columns]"
      ]
     },
     "execution_count": 215,
     "metadata": {},
     "output_type": "execute_result"
    }
   ],
   "source": [
    "predictions_df.loc[json_mask, 'answer'] = predictions_df.loc[json_mask, 'answer'].apply(lambda x: eval(x)['answer'].strip())\n",
    "predictions_df\n"
   ]
  },
  {
   "cell_type": "code",
   "execution_count": 216,
   "metadata": {},
   "outputs": [
    {
     "name": "stdout",
     "output_type": "stream",
     "text": [
      "Answer following the template: 1416\n",
      "85.25% of the total\n",
      "\n",
      "Only 245 samples do NOT contain the answer in the response with the specified format\n"
     ]
    },
    {
     "name": "stderr",
     "output_type": "stream",
     "text": [
      "/tmp/ipykernel_210717/1875602683.py:2: UserWarning: This pattern is interpreted as a regular expression, and has match groups. To actually get the groups, use str.extract.\n",
      "  contains_answer = predictions_df['answer'].str.contains(ans_regex_pattern, regex=True)\n"
     ]
    }
   ],
   "source": [
    "ans_regex_pattern = r'^(?:[A-Z]\\.)\\s+((?:\\w+(?:\\s|\\/)?){,10}\\.?)'\n",
    "contains_answer = predictions_df['answer'].str.contains(ans_regex_pattern, regex=True)\n",
    "\n",
    "print(f\"Answer following the template: {contains_answer.value_counts()[True]}\\n\"\n",
    "      f\"{contains_answer.value_counts()[True]/predictions_df.shape[0]:.2%} of the total\")\n",
    "\n",
    "print(f\"\\nOnly {contains_answer.value_counts()[False]} samples do NOT contain the answer in the response with the specified format\")\n"
   ]
  },
  {
   "cell_type": "code",
   "execution_count": 217,
   "metadata": {},
   "outputs": [
    {
     "data": {
      "text/plain": [
       "id\n",
       "Sequence_T5_441        None of the alternatives are correct. There is...\n",
       "Interaction_T4_470     None of the alternatives are correct based on ...\n",
       "Feasibility_T5_971                 None of the alternatives are correct.\n",
       "Sequence_T2_1556       None of the alternatives are correct based on ...\n",
       "Sequence_T4_4611       None of the alternatives are correct because t...\n",
       "                                             ...                        \n",
       "Sequence_T3_4426       None of the alternatives accurately describe w...\n",
       "Sequence_T6_5058       None of the alternatives are correct because t...\n",
       "Sequence_T5_6360       None of the alternatives are correct based on ...\n",
       "Sequence_T1_2825       None of the alternatives are present in the sc...\n",
       "Feasibility_T2_1196    None of the above. The Spatio-Temporal Scene G...\n",
       "Name: answer, Length: 245, dtype: object"
      ]
     },
     "execution_count": 217,
     "metadata": {},
     "output_type": "execute_result"
    }
   ],
   "source": [
    "predictions_df.loc[~contains_answer, 'answer']\n"
   ]
  },
  {
   "cell_type": "markdown",
   "metadata": {},
   "source": [
    "## Extract answers"
   ]
  },
  {
   "cell_type": "code",
   "execution_count": 218,
   "metadata": {},
   "outputs": [
    {
     "data": {
      "text/html": [
       "<div>\n",
       "<style scoped>\n",
       "    .dataframe tbody tr th:only-of-type {\n",
       "        vertical-align: middle;\n",
       "    }\n",
       "\n",
       "    .dataframe tbody tr th {\n",
       "        vertical-align: top;\n",
       "    }\n",
       "\n",
       "    .dataframe thead th {\n",
       "        text-align: right;\n",
       "    }\n",
       "</style>\n",
       "<table border=\"1\" class=\"dataframe\">\n",
       "  <thead>\n",
       "    <tr style=\"text-align: right;\">\n",
       "      <th></th>\n",
       "      <th>text</th>\n",
       "    </tr>\n",
       "    <tr>\n",
       "      <th>id</th>\n",
       "      <th></th>\n",
       "    </tr>\n",
       "  </thead>\n",
       "  <tbody>\n",
       "    <tr>\n",
       "      <th>Sequence_T4_281</th>\n",
       "      <td>took the box.</td>\n",
       "    </tr>\n",
       "    <tr>\n",
       "      <th>Sequence_T6_1980</th>\n",
       "      <td>put down.</td>\n",
       "    </tr>\n",
       "    <tr>\n",
       "      <th>Feasibility_T6_1267</th>\n",
       "      <td>put down the paper/notebook.</td>\n",
       "    </tr>\n",
       "    <tr>\n",
       "      <th>Sequence_T5_5211</th>\n",
       "      <td>put down.</td>\n",
       "    </tr>\n",
       "    <tr>\n",
       "      <th>Sequence_T6_2707</th>\n",
       "      <td>opened.</td>\n",
       "    </tr>\n",
       "    <tr>\n",
       "      <th>...</th>\n",
       "      <td>...</td>\n",
       "    </tr>\n",
       "    <tr>\n",
       "      <th>Sequence_T1_7661</th>\n",
       "      <td>the bed.</td>\n",
       "    </tr>\n",
       "    <tr>\n",
       "      <th>Sequence_T1_1483</th>\n",
       "      <td>the bag.</td>\n",
       "    </tr>\n",
       "    <tr>\n",
       "      <th>Interaction_T1_3054</th>\n",
       "      <td>the box.</td>\n",
       "    </tr>\n",
       "    <tr>\n",
       "      <th>Interaction_T4_1491</th>\n",
       "      <td>put down the dish.</td>\n",
       "    </tr>\n",
       "    <tr>\n",
       "      <th>Interaction_T1_6788</th>\n",
       "      <td>the laptop.</td>\n",
       "    </tr>\n",
       "  </tbody>\n",
       "</table>\n",
       "<p>1416 rows × 1 columns</p>\n",
       "</div>"
      ],
      "text/plain": [
       "                                             text\n",
       "id                                               \n",
       "Sequence_T4_281                     took the box.\n",
       "Sequence_T6_1980                        put down.\n",
       "Feasibility_T6_1267  put down the paper/notebook.\n",
       "Sequence_T5_5211                        put down.\n",
       "Sequence_T6_2707                          opened.\n",
       "...                                           ...\n",
       "Sequence_T1_7661                         the bed.\n",
       "Sequence_T1_1483                         the bag.\n",
       "Interaction_T1_3054                      the box.\n",
       "Interaction_T4_1491            put down the dish.\n",
       "Interaction_T1_6788                   the laptop.\n",
       "\n",
       "[1416 rows x 1 columns]"
      ]
     },
     "execution_count": 218,
     "metadata": {},
     "output_type": "execute_result"
    }
   ],
   "source": [
    "ans_df = \\\n",
    "    predictions_df[contains_answer]['answer'] \\\n",
    "    .apply(lambda x: re.findall(ans_regex_pattern, x)[-1]) \\\n",
    "    .apply(lambda x: x + '.' if not x.endswith('.') else x) \\\n",
    "    .to_frame(name='text')\n",
    "\n",
    "ans_df.rename(columns={0: 'text'}, inplace=True)\n",
    "\n",
    "ans_df['text'] = ans_df['text'].str.strip()\n",
    "ans_df['text'] = ans_df['text'].str.lower()\n",
    "ans_gen_stsg_df = ans_df\n",
    "ans_gen_stsg_df\n"
   ]
  },
  {
   "cell_type": "markdown",
   "metadata": {},
   "source": [
    "## Loading predicted answers - ground truth stsg as input"
   ]
  },
  {
   "cell_type": "code",
   "execution_count": 219,
   "metadata": {},
   "outputs": [
    {
     "data": {
      "text/html": [
       "<div>\n",
       "<style scoped>\n",
       "    .dataframe tbody tr th:only-of-type {\n",
       "        vertical-align: middle;\n",
       "    }\n",
       "\n",
       "    .dataframe tbody tr th {\n",
       "        vertical-align: top;\n",
       "    }\n",
       "\n",
       "    .dataframe thead th {\n",
       "        text-align: right;\n",
       "    }\n",
       "</style>\n",
       "<table border=\"1\" class=\"dataframe\">\n",
       "  <thead>\n",
       "    <tr style=\"text-align: right;\">\n",
       "      <th></th>\n",
       "      <th>chat_history</th>\n",
       "    </tr>\n",
       "    <tr>\n",
       "      <th>id</th>\n",
       "      <th></th>\n",
       "    </tr>\n",
       "  </thead>\n",
       "  <tbody>\n",
       "    <tr>\n",
       "      <th>Interaction_T1_13</th>\n",
       "      <td>[{'role': 'user', 'content': \"Please carefully...</td>\n",
       "    </tr>\n",
       "    <tr>\n",
       "      <th>Interaction_T1_14</th>\n",
       "      <td>[{'role': 'user', 'content': \"Please carefully...</td>\n",
       "    </tr>\n",
       "    <tr>\n",
       "      <th>Interaction_T1_31</th>\n",
       "      <td>[{'role': 'user', 'content': \"Please carefully...</td>\n",
       "    </tr>\n",
       "    <tr>\n",
       "      <th>Interaction_T1_32</th>\n",
       "      <td>[{'role': 'user', 'content': \"Please carefully...</td>\n",
       "    </tr>\n",
       "    <tr>\n",
       "      <th>Interaction_T1_40</th>\n",
       "      <td>[{'role': 'user', 'content': \"Please carefully...</td>\n",
       "    </tr>\n",
       "    <tr>\n",
       "      <th>...</th>\n",
       "      <td>...</td>\n",
       "    </tr>\n",
       "    <tr>\n",
       "      <th>Feasibility_T6_1453</th>\n",
       "      <td>[{'role': 'user', 'content': \"Please carefully...</td>\n",
       "    </tr>\n",
       "    <tr>\n",
       "      <th>Feasibility_T6_1454</th>\n",
       "      <td>[{'role': 'user', 'content': \"Please carefully...</td>\n",
       "    </tr>\n",
       "    <tr>\n",
       "      <th>Feasibility_T6_1455</th>\n",
       "      <td>[{'role': 'user', 'content': \"Please carefully...</td>\n",
       "    </tr>\n",
       "    <tr>\n",
       "      <th>Feasibility_T6_1456</th>\n",
       "      <td>[{'role': 'user', 'content': \"Please carefully...</td>\n",
       "    </tr>\n",
       "    <tr>\n",
       "      <th>Feasibility_T6_1468</th>\n",
       "      <td>[{'role': 'user', 'content': \"Please carefully...</td>\n",
       "    </tr>\n",
       "  </tbody>\n",
       "</table>\n",
       "<p>7098 rows × 1 columns</p>\n",
       "</div>"
      ],
      "text/plain": [
       "                                                          chat_history\n",
       "id                                                                    \n",
       "Interaction_T1_13    [{'role': 'user', 'content': \"Please carefully...\n",
       "Interaction_T1_14    [{'role': 'user', 'content': \"Please carefully...\n",
       "Interaction_T1_31    [{'role': 'user', 'content': \"Please carefully...\n",
       "Interaction_T1_32    [{'role': 'user', 'content': \"Please carefully...\n",
       "Interaction_T1_40    [{'role': 'user', 'content': \"Please carefully...\n",
       "...                                                                ...\n",
       "Feasibility_T6_1453  [{'role': 'user', 'content': \"Please carefully...\n",
       "Feasibility_T6_1454  [{'role': 'user', 'content': \"Please carefully...\n",
       "Feasibility_T6_1455  [{'role': 'user', 'content': \"Please carefully...\n",
       "Feasibility_T6_1456  [{'role': 'user', 'content': \"Please carefully...\n",
       "Feasibility_T6_1468  [{'role': 'user', 'content': \"Please carefully...\n",
       "\n",
       "[7098 rows x 1 columns]"
      ]
     },
     "execution_count": 219,
     "metadata": {},
     "output_type": "execute_result"
    }
   ],
   "source": [
    "predictions = []\n",
    "with open('../outputs/responses_gemma3:4b_20250323_20:38:00.jsonl', mode='r', encoding='utf-8', errors='strict') as f:\n",
    "    predictions = [json.loads(line) for line in f.readlines()]\n",
    "\n",
    "# transforming the id key from `qid` to `id` for consistency and `response` to `answer`\n",
    "predictions_df = pd.DataFrame(predictions, dtype='string').rename(columns={'qid':'id', 'response':'answer'})\n",
    "predictions_df.set_index('id', inplace=True)\n",
    "predictions_df\n",
    "\n"
   ]
  },
  {
   "cell_type": "code",
   "execution_count": 220,
   "metadata": {},
   "outputs": [
    {
     "data": {
      "text/html": [
       "<div>\n",
       "<style scoped>\n",
       "    .dataframe tbody tr th:only-of-type {\n",
       "        vertical-align: middle;\n",
       "    }\n",
       "\n",
       "    .dataframe tbody tr th {\n",
       "        vertical-align: top;\n",
       "    }\n",
       "\n",
       "    .dataframe thead th {\n",
       "        text-align: right;\n",
       "    }\n",
       "</style>\n",
       "<table border=\"1\" class=\"dataframe\">\n",
       "  <thead>\n",
       "    <tr style=\"text-align: right;\">\n",
       "      <th></th>\n",
       "      <th>chat_history</th>\n",
       "    </tr>\n",
       "    <tr>\n",
       "      <th>id</th>\n",
       "      <th></th>\n",
       "    </tr>\n",
       "  </thead>\n",
       "  <tbody>\n",
       "    <tr>\n",
       "      <th>Interaction_T1_13</th>\n",
       "      <td>[{'role': 'user', 'content': 'Please carefully...</td>\n",
       "    </tr>\n",
       "    <tr>\n",
       "      <th>Interaction_T1_14</th>\n",
       "      <td>[{'role': 'user', 'content': 'Please carefully...</td>\n",
       "    </tr>\n",
       "    <tr>\n",
       "      <th>Interaction_T1_31</th>\n",
       "      <td>[{'role': 'user', 'content': 'Please carefully...</td>\n",
       "    </tr>\n",
       "    <tr>\n",
       "      <th>Interaction_T1_32</th>\n",
       "      <td>[{'role': 'user', 'content': 'Please carefully...</td>\n",
       "    </tr>\n",
       "    <tr>\n",
       "      <th>Interaction_T1_40</th>\n",
       "      <td>[{'role': 'user', 'content': 'Please carefully...</td>\n",
       "    </tr>\n",
       "    <tr>\n",
       "      <th>...</th>\n",
       "      <td>...</td>\n",
       "    </tr>\n",
       "    <tr>\n",
       "      <th>Feasibility_T6_1453</th>\n",
       "      <td>[{'role': 'user', 'content': 'Please carefully...</td>\n",
       "    </tr>\n",
       "    <tr>\n",
       "      <th>Feasibility_T6_1454</th>\n",
       "      <td>[{'role': 'user', 'content': 'Please carefully...</td>\n",
       "    </tr>\n",
       "    <tr>\n",
       "      <th>Feasibility_T6_1455</th>\n",
       "      <td>[{'role': 'user', 'content': 'Please carefully...</td>\n",
       "    </tr>\n",
       "    <tr>\n",
       "      <th>Feasibility_T6_1456</th>\n",
       "      <td>[{'role': 'user', 'content': 'Please carefully...</td>\n",
       "    </tr>\n",
       "    <tr>\n",
       "      <th>Feasibility_T6_1468</th>\n",
       "      <td>[{'role': 'user', 'content': 'Please carefully...</td>\n",
       "    </tr>\n",
       "  </tbody>\n",
       "</table>\n",
       "<p>7098 rows × 1 columns</p>\n",
       "</div>"
      ],
      "text/plain": [
       "                                                          chat_history\n",
       "id                                                                    \n",
       "Interaction_T1_13    [{'role': 'user', 'content': 'Please carefully...\n",
       "Interaction_T1_14    [{'role': 'user', 'content': 'Please carefully...\n",
       "Interaction_T1_31    [{'role': 'user', 'content': 'Please carefully...\n",
       "Interaction_T1_32    [{'role': 'user', 'content': 'Please carefully...\n",
       "Interaction_T1_40    [{'role': 'user', 'content': 'Please carefully...\n",
       "...                                                                ...\n",
       "Feasibility_T6_1453  [{'role': 'user', 'content': 'Please carefully...\n",
       "Feasibility_T6_1454  [{'role': 'user', 'content': 'Please carefully...\n",
       "Feasibility_T6_1455  [{'role': 'user', 'content': 'Please carefully...\n",
       "Feasibility_T6_1456  [{'role': 'user', 'content': 'Please carefully...\n",
       "Feasibility_T6_1468  [{'role': 'user', 'content': 'Please carefully...\n",
       "\n",
       "[7098 rows x 1 columns]"
      ]
     },
     "execution_count": 220,
     "metadata": {},
     "output_type": "execute_result"
    }
   ],
   "source": [
    "predictions_df['chat_history'] = \\\n",
    "    predictions_df['chat_history'] \\\n",
    "    .apply(lambda x: eval(x))\n",
    "\n",
    "predictions_df\n"
   ]
  },
  {
   "cell_type": "code",
   "execution_count": 221,
   "metadata": {},
   "outputs": [],
   "source": [
    "predictions_df['answer'] = predictions_df['chat_history'].apply(lambda x: x[-1]['content'])\n"
   ]
  },
  {
   "cell_type": "code",
   "execution_count": 222,
   "metadata": {},
   "outputs": [
    {
     "data": {
      "text/plain": [
       "id\n",
       "Interaction_T1_13     ```json\\n{\"answer\": \"C. The clothes\"}\\n```\n",
       "Interaction_T1_14    ```json\\n{\"answer\": \"C. The clothes.\"}\\n```\n",
       "Interaction_T1_31     ```json\\n{\"answer\": \"C. The clothes\"}\\n```\n",
       "Interaction_T1_32       ```json\\n{\"answer\": \"B. The shoe.\"}\\n```\n",
       "Interaction_T1_40    ```json\\n{\"answer\": \"C. The blanket.\"}\\n```\n",
       "Name: answer, dtype: object"
      ]
     },
     "execution_count": 222,
     "metadata": {},
     "output_type": "execute_result"
    }
   ],
   "source": [
    "predictions_df['answer'].iloc[0:5] \n"
   ]
  },
  {
   "cell_type": "markdown",
   "metadata": {},
   "source": [
    "## Text preprocessing"
   ]
  },
  {
   "cell_type": "markdown",
   "metadata": {},
   "source": [
    "For Gemma we need to be more careful becuase the format is different, it encapsulated the json output in the with the tokens: \n",
    "```\n",
    "```json\\n\n",
    "<actual_answer>\n",
    "\\n```\n",
    "```"
   ]
  },
  {
   "cell_type": "code",
   "execution_count": 223,
   "metadata": {},
   "outputs": [
    {
     "name": "stdout",
     "output_type": "stream",
     "text": [
      "Total answers: 7098\n",
      "Answers following JSON template: 7097\n",
      "Percentage following JSON template: 99.99%\n"
     ]
    }
   ],
   "source": [
    "\n",
    "# Create mask for answers that follow JSON syntax\n",
    "json_mask = predictions_df['answer'].str.match(r'^(```json\\s)?({[^}]+})(\\s```)?$')\n",
    "matches_json_template = json_mask.sum()\n",
    "\n",
    "print(f\"Total answers: {len(predictions_df)}\")\n",
    "print(f\"Answers following JSON template: {matches_json_template}\")\n",
    "print(f\"Percentage following JSON template: {(matches_json_template/len(predictions_df))*100:.2f}%\")\n"
   ]
  },
  {
   "cell_type": "code",
   "execution_count": 224,
   "metadata": {},
   "outputs": [
    {
     "data": {
      "text/plain": [
       "id\n",
       "Prediction_T4_1351    ```json\\n{\"answer\": \"Therefore the final answe...\n",
       "Name: answer, dtype: object"
      ]
     },
     "execution_count": 224,
     "metadata": {},
     "output_type": "execute_result"
    }
   ],
   "source": [
    "predictions_df.loc[~json_mask, 'answer']\n"
   ]
  },
  {
   "cell_type": "code",
   "execution_count": 225,
   "metadata": {},
   "outputs": [
    {
     "data": {
      "text/plain": [
       "id\n",
       "Interaction_T1_13          {\"answer\": \"C. The clothes\"}\n",
       "Interaction_T1_14         {\"answer\": \"C. The clothes.\"}\n",
       "Interaction_T1_31          {\"answer\": \"C. The clothes\"}\n",
       "Interaction_T1_32            {\"answer\": \"B. The shoe.\"}\n",
       "Interaction_T1_40         {\"answer\": \"C. The blanket.\"}\n",
       "                                     ...               \n",
       "Feasibility_T6_1453    {\"answer\": \"A. Wash the table.\"}\n",
       "Feasibility_T6_1454     {\"answer\": \"A. Take the towel\"}\n",
       "Feasibility_T6_1455    {\"answer\": \"B. Wash the table.\"}\n",
       "Feasibility_T6_1456    {\"answer\": \"D. Wash the table.\"}\n",
       "Feasibility_T6_1468      {\"answer\": \"B. Hold the food\"}\n",
       "Name: answer, Length: 7098, dtype: object"
      ]
     },
     "execution_count": 225,
     "metadata": {},
     "output_type": "execute_result"
    }
   ],
   "source": [
    "predictions_df.loc[json_mask, 'answer'] = \\\n",
    "    predictions_df.loc[json_mask, 'answer'] \\\n",
    "    .apply(lambda x: re.search(r'^(?:```json\\s)?({[^}]+})(?:\\s```)?$', x).group(1))\n",
    "\n",
    "predictions_df.loc[~json_mask, 'answer'] = \"\"\n",
    "predictions_df['answer']\n"
   ]
  },
  {
   "cell_type": "markdown",
   "metadata": {},
   "source": [
    "### The need to replace single quotes"
   ]
  },
  {
   "cell_type": "code",
   "execution_count": 226,
   "metadata": {},
   "outputs": [
    {
     "name": "stdout",
     "output_type": "stream",
     "text": [
      "‘\n",
      "’\n",
      "‚\n",
      "‛\n",
      "“\n",
      "”\n"
     ]
    },
    {
     "data": {
      "text/plain": [
       "(None, None, None, None, None, None)"
      ]
     },
     "execution_count": 226,
     "metadata": {},
     "output_type": "execute_result"
    }
   ],
   "source": [
    "print('\\u2018'), print('\\u2019'), print('\\u201a'), print('\\u201b'), print('\\u201c'), print('\\u201d')\n"
   ]
  },
  {
   "cell_type": "code",
   "execution_count": 227,
   "metadata": {},
   "outputs": [],
   "source": [
    "import unicodedata\n",
    "\n",
    "def print_unicode_codes(s):\n",
    "    print(\"Char | Unicode Point | UTF-8 Bytes | Name\")\n",
    "    print(\"-\" * 50)\n",
    "    for char in s:\n",
    "        code = ord(char)\n",
    "        utf8_bytes = list(char.encode('utf-8'))\n",
    "        try:\n",
    "            name = unicodedata.name(char)\n",
    "        except ValueError:\n",
    "            name = \"No name\"\n",
    "        print(f\"'{char}'  | U+{code:04X}       | {utf8_bytes}      | {name}\")\n",
    "\n",
    "# Requires: import unicodedata\n",
    "# print_unicode_codes(el['answer'])\n"
   ]
  },
  {
   "cell_type": "code",
   "execution_count": 228,
   "metadata": {},
   "outputs": [],
   "source": [
    "import tokenize\n",
    "from io import StringIO\n",
    "import ast\n",
    "\n",
    "def debug_parsing(code):\n",
    "    try:\n",
    "        # First try full parse\n",
    "        ast.parse(code)\n",
    "    except SyntaxError as e:\n",
    "        print(f\"Full parse failed at line {e.lineno}\")\n",
    "        print(\"Token stream up to error:\")\n",
    "        \n",
    "        # Show token stream\n",
    "        tokens = tokenize.generate_tokens(StringIO(code).readline)\n",
    "        for tok in tokens:\n",
    "            print(f\"{tokenize.tok_name[tok.type]:<15} {tok.string!r:<20} {tok.start}->{tok.end}\")\n",
    "            if tok.start[0] > e.lineno or (\n",
    "                tok.start[0] == e.lineno and tok.start[1] >= e.offset\n",
    "            ):\n",
    "                print(\"-- Error occurs here --\")\n",
    "                break\n",
    "\n",
    "#debug_parsing(el['answer'])\n"
   ]
  },
  {
   "cell_type": "markdown",
   "metadata": {},
   "source": [
    "### Applying changes"
   ]
  },
  {
   "cell_type": "code",
   "execution_count": 229,
   "metadata": {},
   "outputs": [],
   "source": [
    "# Replace new line (lead to EOF Errors) with whitespace\n",
    "predictions_df['answer'] = \\\n",
    "    predictions_df['answer'].str.replace('\\n+', ' ', regex=True)\n",
    "\n",
    "# Replace lef and right quotation mark with simple quotation mark\n",
    "predictions_df['answer'] = \\\n",
    "    predictions_df['answer'].str.replace('[\\u2018-\\u201b]', '\\'', regex=True)\n",
    "predictions_df['answer'] = \\\n",
    "    predictions_df['answer'].str.replace('[\\u201c\\u201d]', '\"', regex=True)\n",
    "# ------------------ Removing inner double quotes --------------------\n",
    "# It may happen that the text may contain inner double quotes before the\n",
    "# attribute end. This will cause the parser to termiate early and spout\n",
    "# errors for the remaining text. With this snippet we replace those inner\n",
    "# double quotes with single quotes.\n",
    "#  \n",
    "# we first match the text of the reason paramter inside the double quotes\n",
    "# then we escape/replace all the double quotes inside the text\n",
    "inside_doublequotes = r\"(?<=\\\"answer\\\": \\\")(.*)(?=\\\"(?:,|}))\"\n",
    "\n",
    "predictions_df['answer'] = \\\n",
    "    predictions_df.apply(\n",
    "        func=lambda row: re.sub(\n",
    "            inside_doublequotes, \n",
    "            lambda matchobj: matchobj.group(0).replace('\\\"', ''), \n",
    "            row['answer']),\n",
    "        axis=1\n",
    "        )\n"
   ]
  },
  {
   "cell_type": "code",
   "execution_count": 230,
   "metadata": {},
   "outputs": [
    {
     "data": {
      "text/html": [
       "<div>\n",
       "<style scoped>\n",
       "    .dataframe tbody tr th:only-of-type {\n",
       "        vertical-align: middle;\n",
       "    }\n",
       "\n",
       "    .dataframe tbody tr th {\n",
       "        vertical-align: top;\n",
       "    }\n",
       "\n",
       "    .dataframe thead th {\n",
       "        text-align: right;\n",
       "    }\n",
       "</style>\n",
       "<table border=\"1\" class=\"dataframe\">\n",
       "  <thead>\n",
       "    <tr style=\"text-align: right;\">\n",
       "      <th></th>\n",
       "      <th>chat_history</th>\n",
       "      <th>answer</th>\n",
       "    </tr>\n",
       "    <tr>\n",
       "      <th>id</th>\n",
       "      <th></th>\n",
       "      <th></th>\n",
       "    </tr>\n",
       "  </thead>\n",
       "  <tbody>\n",
       "    <tr>\n",
       "      <th>Interaction_T1_13</th>\n",
       "      <td>[{'role': 'user', 'content': 'Please carefully...</td>\n",
       "      <td>C. The clothes</td>\n",
       "    </tr>\n",
       "    <tr>\n",
       "      <th>Interaction_T1_14</th>\n",
       "      <td>[{'role': 'user', 'content': 'Please carefully...</td>\n",
       "      <td>C. The clothes.</td>\n",
       "    </tr>\n",
       "    <tr>\n",
       "      <th>Interaction_T1_31</th>\n",
       "      <td>[{'role': 'user', 'content': 'Please carefully...</td>\n",
       "      <td>C. The clothes</td>\n",
       "    </tr>\n",
       "    <tr>\n",
       "      <th>Interaction_T1_32</th>\n",
       "      <td>[{'role': 'user', 'content': 'Please carefully...</td>\n",
       "      <td>B. The shoe.</td>\n",
       "    </tr>\n",
       "    <tr>\n",
       "      <th>Interaction_T1_40</th>\n",
       "      <td>[{'role': 'user', 'content': 'Please carefully...</td>\n",
       "      <td>C. The blanket.</td>\n",
       "    </tr>\n",
       "    <tr>\n",
       "      <th>...</th>\n",
       "      <td>...</td>\n",
       "      <td>...</td>\n",
       "    </tr>\n",
       "    <tr>\n",
       "      <th>Feasibility_T6_1453</th>\n",
       "      <td>[{'role': 'user', 'content': 'Please carefully...</td>\n",
       "      <td>A. Wash the table.</td>\n",
       "    </tr>\n",
       "    <tr>\n",
       "      <th>Feasibility_T6_1454</th>\n",
       "      <td>[{'role': 'user', 'content': 'Please carefully...</td>\n",
       "      <td>A. Take the towel</td>\n",
       "    </tr>\n",
       "    <tr>\n",
       "      <th>Feasibility_T6_1455</th>\n",
       "      <td>[{'role': 'user', 'content': 'Please carefully...</td>\n",
       "      <td>B. Wash the table.</td>\n",
       "    </tr>\n",
       "    <tr>\n",
       "      <th>Feasibility_T6_1456</th>\n",
       "      <td>[{'role': 'user', 'content': 'Please carefully...</td>\n",
       "      <td>D. Wash the table.</td>\n",
       "    </tr>\n",
       "    <tr>\n",
       "      <th>Feasibility_T6_1468</th>\n",
       "      <td>[{'role': 'user', 'content': 'Please carefully...</td>\n",
       "      <td>B. Hold the food</td>\n",
       "    </tr>\n",
       "  </tbody>\n",
       "</table>\n",
       "<p>7098 rows × 2 columns</p>\n",
       "</div>"
      ],
      "text/plain": [
       "                                                          chat_history  \\\n",
       "id                                                                       \n",
       "Interaction_T1_13    [{'role': 'user', 'content': 'Please carefully...   \n",
       "Interaction_T1_14    [{'role': 'user', 'content': 'Please carefully...   \n",
       "Interaction_T1_31    [{'role': 'user', 'content': 'Please carefully...   \n",
       "Interaction_T1_32    [{'role': 'user', 'content': 'Please carefully...   \n",
       "Interaction_T1_40    [{'role': 'user', 'content': 'Please carefully...   \n",
       "...                                                                ...   \n",
       "Feasibility_T6_1453  [{'role': 'user', 'content': 'Please carefully...   \n",
       "Feasibility_T6_1454  [{'role': 'user', 'content': 'Please carefully...   \n",
       "Feasibility_T6_1455  [{'role': 'user', 'content': 'Please carefully...   \n",
       "Feasibility_T6_1456  [{'role': 'user', 'content': 'Please carefully...   \n",
       "Feasibility_T6_1468  [{'role': 'user', 'content': 'Please carefully...   \n",
       "\n",
       "                                 answer  \n",
       "id                                       \n",
       "Interaction_T1_13        C. The clothes  \n",
       "Interaction_T1_14       C. The clothes.  \n",
       "Interaction_T1_31        C. The clothes  \n",
       "Interaction_T1_32          B. The shoe.  \n",
       "Interaction_T1_40       C. The blanket.  \n",
       "...                                 ...  \n",
       "Feasibility_T6_1453  A. Wash the table.  \n",
       "Feasibility_T6_1454   A. Take the towel  \n",
       "Feasibility_T6_1455  B. Wash the table.  \n",
       "Feasibility_T6_1456  D. Wash the table.  \n",
       "Feasibility_T6_1468    B. Hold the food  \n",
       "\n",
       "[7098 rows x 2 columns]"
      ]
     },
     "execution_count": 230,
     "metadata": {},
     "output_type": "execute_result"
    }
   ],
   "source": [
    "predictions_df.loc[json_mask, 'answer'] = predictions_df.loc[json_mask, 'answer'].apply(lambda x: eval(x)['answer'].strip())\n",
    "predictions_df\n"
   ]
  },
  {
   "cell_type": "code",
   "execution_count": 231,
   "metadata": {},
   "outputs": [
    {
     "name": "stdout",
     "output_type": "stream",
     "text": [
      "Answer following the template: 6778\n",
      "95.49% of the total\n",
      "\n",
      "Only 320 samples do NOT contain the answer in the response with the specified format\n"
     ]
    },
    {
     "name": "stderr",
     "output_type": "stream",
     "text": [
      "/tmp/ipykernel_210717/1875602683.py:2: UserWarning: This pattern is interpreted as a regular expression, and has match groups. To actually get the groups, use str.extract.\n",
      "  contains_answer = predictions_df['answer'].str.contains(ans_regex_pattern, regex=True)\n"
     ]
    }
   ],
   "source": [
    "ans_regex_pattern = r'^(?:[A-Z]\\.)\\s+((?:\\w+(?:\\s|\\/)?){,10}\\.?)'\n",
    "contains_answer = predictions_df['answer'].str.contains(ans_regex_pattern, regex=True)\n",
    "\n",
    "print(f\"Answer following the template: {contains_answer.value_counts()[True]}\\n\"\n",
    "      f\"{contains_answer.value_counts()[True]/predictions_df.shape[0]:.2%} of the total\")\n",
    "\n",
    "print(f\"\\nOnly {contains_answer.value_counts()[False]} samples do NOT contain the answer in the response with the specified format\")\n"
   ]
  },
  {
   "cell_type": "code",
   "execution_count": 232,
   "metadata": {},
   "outputs": [
    {
     "data": {
      "text/plain": [
       "id\n",
       "Interaction_T1_198     None of the alternatives are correct based on ...\n",
       "Interaction_T1_1255                None of the alternatives are correct.\n",
       "Interaction_T1_1369                None of the alternatives are correct.\n",
       "Interaction_T1_1671    None of the alternatives can be determined fro...\n",
       "Interaction_T1_2509    None of the alternatives are correct based on ...\n",
       "                                             ...                        \n",
       "Feasibility_T6_448                                     None of the above\n",
       "Feasibility_T6_1063    None of the alternatives are correct. The grap...\n",
       "Feasibility_T6_1091    None of the alternatives are correct based on ...\n",
       "Feasibility_T6_1153    None of the alternatives are correct based on ...\n",
       "Feasibility_T6_1344    None of the provided alternatives accurately d...\n",
       "Name: answer, Length: 320, dtype: object"
      ]
     },
     "execution_count": 232,
     "metadata": {},
     "output_type": "execute_result"
    }
   ],
   "source": [
    "predictions_df.loc[~contains_answer, 'answer']\n"
   ]
  },
  {
   "cell_type": "markdown",
   "metadata": {},
   "source": [
    "## Extract answers"
   ]
  },
  {
   "cell_type": "code",
   "execution_count": 233,
   "metadata": {},
   "outputs": [
    {
     "data": {
      "text/html": [
       "<div>\n",
       "<style scoped>\n",
       "    .dataframe tbody tr th:only-of-type {\n",
       "        vertical-align: middle;\n",
       "    }\n",
       "\n",
       "    .dataframe tbody tr th {\n",
       "        vertical-align: top;\n",
       "    }\n",
       "\n",
       "    .dataframe thead th {\n",
       "        text-align: right;\n",
       "    }\n",
       "</style>\n",
       "<table border=\"1\" class=\"dataframe\">\n",
       "  <thead>\n",
       "    <tr style=\"text-align: right;\">\n",
       "      <th></th>\n",
       "      <th>text</th>\n",
       "    </tr>\n",
       "    <tr>\n",
       "      <th>id</th>\n",
       "      <th></th>\n",
       "    </tr>\n",
       "  </thead>\n",
       "  <tbody>\n",
       "    <tr>\n",
       "      <th>Interaction_T1_13</th>\n",
       "      <td>the clothes.</td>\n",
       "    </tr>\n",
       "    <tr>\n",
       "      <th>Interaction_T1_14</th>\n",
       "      <td>the clothes.</td>\n",
       "    </tr>\n",
       "    <tr>\n",
       "      <th>Interaction_T1_31</th>\n",
       "      <td>the clothes.</td>\n",
       "    </tr>\n",
       "    <tr>\n",
       "      <th>Interaction_T1_32</th>\n",
       "      <td>the shoe.</td>\n",
       "    </tr>\n",
       "    <tr>\n",
       "      <th>Interaction_T1_40</th>\n",
       "      <td>the blanket.</td>\n",
       "    </tr>\n",
       "    <tr>\n",
       "      <th>...</th>\n",
       "      <td>...</td>\n",
       "    </tr>\n",
       "    <tr>\n",
       "      <th>Feasibility_T6_1453</th>\n",
       "      <td>wash the table.</td>\n",
       "    </tr>\n",
       "    <tr>\n",
       "      <th>Feasibility_T6_1454</th>\n",
       "      <td>take the towel.</td>\n",
       "    </tr>\n",
       "    <tr>\n",
       "      <th>Feasibility_T6_1455</th>\n",
       "      <td>wash the table.</td>\n",
       "    </tr>\n",
       "    <tr>\n",
       "      <th>Feasibility_T6_1456</th>\n",
       "      <td>wash the table.</td>\n",
       "    </tr>\n",
       "    <tr>\n",
       "      <th>Feasibility_T6_1468</th>\n",
       "      <td>hold the food.</td>\n",
       "    </tr>\n",
       "  </tbody>\n",
       "</table>\n",
       "<p>6778 rows × 1 columns</p>\n",
       "</div>"
      ],
      "text/plain": [
       "                                text\n",
       "id                                  \n",
       "Interaction_T1_13       the clothes.\n",
       "Interaction_T1_14       the clothes.\n",
       "Interaction_T1_31       the clothes.\n",
       "Interaction_T1_32          the shoe.\n",
       "Interaction_T1_40       the blanket.\n",
       "...                              ...\n",
       "Feasibility_T6_1453  wash the table.\n",
       "Feasibility_T6_1454  take the towel.\n",
       "Feasibility_T6_1455  wash the table.\n",
       "Feasibility_T6_1456  wash the table.\n",
       "Feasibility_T6_1468   hold the food.\n",
       "\n",
       "[6778 rows x 1 columns]"
      ]
     },
     "execution_count": 233,
     "metadata": {},
     "output_type": "execute_result"
    }
   ],
   "source": [
    "ans_df = \\\n",
    "    predictions_df[contains_answer]['answer'] \\\n",
    "    .apply(lambda x: re.findall(ans_regex_pattern, x)[-1]) \\\n",
    "    .apply(lambda x: x + '.' if not x.endswith('.') else x) \\\n",
    "    .to_frame(name='text')\n",
    "\n",
    "ans_df.rename(columns={0: 'text'}, inplace=True)\n",
    "\n",
    "ans_df['text'] = ans_df['text'].str.strip()\n",
    "ans_df['text'] = ans_df['text'].str.lower()\n",
    "ans_gt_stsg_df = ans_df\n",
    "ans_gt_stsg_df\n"
   ]
  },
  {
   "cell_type": "code",
   "execution_count": 246,
   "metadata": {},
   "outputs": [
    {
     "data": {
      "text/plain": [
       "(1367, 7)"
      ]
     },
     "execution_count": 246,
     "metadata": {},
     "output_type": "execute_result"
    }
   ],
   "source": [
    "# Inner join - keeps only indices present in both series\n",
    "\n",
    "ans_gt_stsg_df.rename(columns={'text': 'pred_gt_stsg'}, inplace=True)\n",
    "ans_gen_stsg_df.rename(columns={'text': 'pred_gen_stsg'}, inplace=True)\n",
    "\n",
    "eval_df = gt_df \\\n",
    "    .join(\n",
    "        ans_gt_stsg_df, \n",
    "        how='inner' # we account also for samples without answer\n",
    "    ).join(\n",
    "        ans_gen_stsg_df, \n",
    "        how='inner'\n",
    "    )\n",
    "\n",
    "eval_df['text'] = eval_df['text'].str.lower()\n",
    "eval_df.shape\n"
   ]
  },
  {
   "cell_type": "code",
   "execution_count": 247,
   "metadata": {},
   "outputs": [],
   "source": [
    "def accuracy(eval_df, on_what='text'):\n",
    "    hits_text = (eval_df[f'pred_{on_what}'].str.lower() == eval_df[on_what].str.lower()).sum()\n",
    "    \n",
    "\n",
    "    return hits_text/eval_df.shape[0]\n"
   ]
  },
  {
   "cell_type": "code",
   "execution_count": 248,
   "metadata": {},
   "outputs": [],
   "source": [
    "def print_acc(eval_df, acc_fn):\n",
    "    print(f\"{'Question type':<15}{'Total':^15}{'Accuracy':^10}\\n\")\n",
    "\n",
    "    avg = 0\n",
    "    previous_total = 0\n",
    "    total = eval_df.index.str.startswith('Interaction').sum()\n",
    "    acc = acc_fn(eval_df[eval_df.index.str.startswith('Interaction')])\n",
    "    avg += acc\n",
    "    print(f\"{'Interaction':<15}{total:^15}{acc:^10.2%}\")\n",
    "\n",
    "    previous_total += total\n",
    "    total = eval_df.index.str.startswith('Sequence').sum()\n",
    "    acc = acc_fn(eval_df[eval_df.index.str.startswith('Sequence')])\n",
    "    avg = (previous_total*avg + total*acc) / (previous_total + total)\n",
    "    print(f\"{'Sequence':<15}{total:^15}{acc:^10.2%}\")\n",
    "\n",
    "    previous_total += total\n",
    "    total = eval_df.index.str.startswith('Prediction').sum()\n",
    "    acc = acc_fn(eval_df[eval_df.index.str.startswith('Prediction')])\n",
    "    avg = (previous_total*avg + total*acc) / (previous_total + total)\n",
    "    print(f\"{'Prediction':<15}{total:^15}{acc:^10.2%}\")\n",
    "\n",
    "    previous_total += total\n",
    "    total = eval_df.index.str.startswith('Feasibility').sum()\n",
    "    acc = acc_fn(eval_df[eval_df.index.str.startswith('Feasibility')])\n",
    "    avg = (previous_total*avg + total*acc) / (previous_total + total)\n",
    "    print(f\"{'Feasibility':<15}{total:^15}{acc:^10.2%}\")\n",
    "    \n",
    "    print()\n",
    "    print(f\"{'Average':<15}{eval_df.shape[0]:^15}{avg:^10.2%}\")\n"
   ]
  },
  {
   "cell_type": "code",
   "execution_count": 249,
   "metadata": {},
   "outputs": [
    {
     "name": "stdout",
     "output_type": "stream",
     "text": [
      "Question type       Total      Accuracy \n",
      "\n",
      "Interaction          477        61.84%  \n",
      "Sequence             664        64.31%  \n",
      "Prediction           127        75.59%  \n",
      "Feasibility          99         62.63%  \n",
      "\n",
      "Average             1367        64.37%  \n"
     ]
    }
   ],
   "source": [
    "tmp_eval_df = pd.DataFrame()\n",
    "tmp_eval_df[['text', 'pred_text']] = eval_df[['text', 'pred_gt_stsg']]\n",
    "\n",
    "print_acc(tmp_eval_df, lambda x: accuracy(x, on_what='text'))\n"
   ]
  },
  {
   "cell_type": "code",
   "execution_count": 250,
   "metadata": {},
   "outputs": [
    {
     "data": {
      "text/plain": [
       "0.6437454279444038"
      ]
     },
     "execution_count": 250,
     "metadata": {},
     "output_type": "execute_result"
    }
   ],
   "source": [
    "(eval_df['text'] == eval_df['pred_gt_stsg']).sum() / eval_df.shape[0]\n"
   ]
  },
  {
   "cell_type": "code",
   "execution_count": 197,
   "metadata": {},
   "outputs": [
    {
     "name": "stdout",
     "output_type": "stream",
     "text": [
      "Question type       Total      Accuracy \n",
      "\n",
      "Interaction          477        41.93%  \n",
      "Sequence             664        43.37%  \n",
      "Prediction           127        43.31%  \n",
      "Feasibility          99         45.45%  \n",
      "\n",
      "Average             1367        43.01%  \n"
     ]
    }
   ],
   "source": [
    "tmp_eval_df = pd.DataFrame()\n",
    "tmp_eval_df[['text', 'pred_text']] = eval_df[['text', 'pred_gen_stsg']]\n",
    "\n",
    "print_acc(tmp_eval_df, lambda x: accuracy(x, on_what='text'))\n"
   ]
  },
  {
   "cell_type": "code",
   "execution_count": 254,
   "metadata": {},
   "outputs": [
    {
     "data": {
      "image/png": "[encoded data removed]",
      "text/plain": [
       "<Figure size 640x480 with 2 Axes>"
      ]
     },
     "metadata": {},
     "output_type": "display_data"
    }
   ],
   "source": [
    "gt_stsg_correct = (eval_df['text'] == eval_df['pred_gt_stsg']).astype(int).values\n",
    "gen_stsg_correct = (eval_df['text'] == eval_df['pred_gen_stsg']).astype(int).values\n",
    "\n",
    "cm = confusion_matrix(gt_stsg_correct, gen_stsg_correct)\n",
    "\n",
    "sns.heatmap(cm, annot=True, fmt='d', cmap='Blues', \n",
    "            xticklabels=['Wrong', 'Correct'], \n",
    "            yticklabels=['Wrong', 'Correct'])\n",
    "plt.xlabel('Generated STSG')\n",
    "plt.ylabel('Ground Truth STSG')\n",
    "plt.title('Agreement Between Predictors')\n",
    "plt.show()\n"
   ]
  },
  {
   "cell_type": "code",
   "execution_count": 264,
   "metadata": {},
   "outputs": [],
   "source": [
    "wrong_wrong_mask = (gt_stsg_correct == 0) & (gen_stsg_correct == 0)\n",
    "wrong_wrong_df = eval_df[wrong_wrong_mask]\n",
    "\n",
    "wrong_but_agree = (wrong_wrong_df['pred_gt_stsg'] == wrong_wrong_df['pred_gen_stsg']).astype(int)\n"
   ]
  },
  {
   "cell_type": "code",
   "execution_count": 265,
   "metadata": {},
   "outputs": [
    {
     "name": "stdout",
     "output_type": "stream",
     "text": [
      "Sub-Confusion Matrix for Wrong-Wrong Cases:\n",
      "col_0                   Prediction Agreement\n",
      "Same Wrong Prediction?                      \n",
      "0                                        143\n",
      "1                                        219\n"
     ]
    }
   ],
   "source": [
    "# Ground truth (0 = different wrong predictions, 1 = same wrong prediction)\n",
    "y_true = np.ones_like(wrong_but_agree)  # (Assuming we want to measure agreement)\n",
    "\n",
    "# Since we're only checking agreement, we can just count matches vs mismatches\n",
    "print(\"Sub-Confusion Matrix for Wrong-Wrong Cases:\")\n",
    "print(pd.crosstab(\n",
    "    wrong_but_agree,\n",
    "    columns=['Prediction Agreement'],\n",
    "    rownames=['Same Wrong Prediction?']\n",
    "))\n"
   ]
  },
  {
   "cell_type": "code",
   "execution_count": 266,
   "metadata": {},
   "outputs": [
    {
     "data": {
      "image/png": "[encoded data removed]",
      "text/plain": [
       "<Figure size 640x480 with 2 Axes>"
      ]
     },
     "metadata": {},
     "output_type": "display_data"
    }
   ],
   "source": [
    "sns.heatmap(\n",
    "    pd.crosstab(wrong_but_agree, columns=['']),\n",
    "    annot=True, fmt='d', cmap='Reds',\n",
    "    xticklabels=[''],\n",
    "    yticklabels=['Different Wrong', 'Same Wrong']\n",
    ")\n",
    "plt.title('Agreement in Wrong Predictions')\n",
    "plt.show()\n"
   ]
  },
  {
   "cell_type": "code",
   "execution_count": 255,
   "metadata": {},
   "outputs": [
    {
     "data": {
      "image/png": "[encoded data removed]",
      "text/plain": [
       "<Figure size 640x480 with 1 Axes>"
      ]
     },
     "metadata": {},
     "output_type": "display_data"
    }
   ],
   "source": [
    "agreement = np.sum(gt_stsg_correct == gen_stsg_correct)\n",
    "disagreement = len(gt_stsg_correct) - agreement\n",
    "\n",
    "plt.bar(['Agree', 'Disagree'], [agreement, disagreement], color=['green', 'red'])\n",
    "plt.title('Agreement Between GT and Generated Predictions')\n",
    "plt.ylabel('Count')\n",
    "plt.show()\n"
   ]
  },
  {
   "cell_type": "code",
   "execution_count": 1,
   "metadata": {},
   "outputs": [],
   "source": [
    "# % of answers conforming to template per category\n",
    "\n",
    "def print_ans_perc(eval_df, gt_df):\n",
    "    print(f\"{'Question type':<15}{'Total':^15}{'Answered':^10}\\n\")\n",
    "\n",
    "    total = gt_df.index.str.startswith('Interaction').sum()\n",
    "    acc = len(gt_df.index.intersection(eval_df[eval_df.index.str.startswith('Interaction')].index))/total\n",
    "    print(f\"{'Interaction':<15}{total:^15}{acc:^10.2%}\")\n",
    "\n",
    "    total = gt_df.index.str.startswith('Sequence').sum()\n",
    "    acc = len(gt_df.index.intersection(eval_df[eval_df.index.str.startswith('Sequence')].index))/total\n",
    "    print(f\"{'Sequence':<15}{total:^15}{acc:^10.2%}\")\n",
    "\n",
    "    total = gt_df.index.str.startswith('Prediction').sum()\n",
    "    acc = len(gt_df.index.intersection(eval_df[eval_df.index.str.startswith('Prediction')].index))/total\n",
    "    print(f\"{'Prediction':<15}{total:^15}{acc:^10.2%}\")\n",
    "\n",
    "    total = gt_df.index.str.startswith('Feasibility').sum()\n",
    "    acc = len(gt_df.index.intersection(eval_df[eval_df.index.str.startswith('Feasibility')].index))/total\n",
    "    print(f\"{'Feasibility':<15}{total:^15}{acc:^10.2%}\")\n",
    "\n",
    "    total = gt_df.shape[0]\n",
    "    acc = eval_df.shape[0]/total\n",
    "    print(f\"{'Overall':<15}{total:^15}{acc:^10.2%}\")\n"
   ]
  }
 ],
 "metadata": {
  "kernelspec": {
   "display_name": "base",
   "language": "python",
   "name": "python3"
  },
  "language_info": {
   "codemirror_mode": {
    "name": "ipython",
    "version": 3
   },
   "file_extension": ".py",
   "mimetype": "text/x-python",
   "name": "python",
   "nbconvert_exporter": "python",
   "pygments_lexer": "ipython3",
   "version": "3.10.9"
  }
 },
 "nbformat": 4,
 "nbformat_minor": 2
}
