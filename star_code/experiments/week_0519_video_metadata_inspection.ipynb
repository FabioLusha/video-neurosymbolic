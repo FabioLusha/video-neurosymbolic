{
 "cells": [
  {
   "cell_type": "code",
   "execution_count": 6,
   "id": "8bbadec8-922b-412c-849f-4eff0d501d39",
   "metadata": {},
   "outputs": [
    {
     "name": "stdout",
     "output_type": "stream",
     "text": [
      "Work directory: /home/lusha/star_code\n"
     ]
    }
   ],
   "source": [
    "import json, os, sys\n",
    "import subprocess\n",
    "from pathlib import Path\n",
    "\n",
    "import pandas as pd\n",
    "\n",
    "from tqdm import tqdm\n",
    "\n",
    "WORK_DIR = Path.cwd().parent\n",
    "print(f\"Work directory: {WORK_DIR}\")\n",
    "sys.path.append(str(WORK_DIR / 'src'))\n"
   ]
  },
  {
   "cell_type": "code",
   "execution_count": 7,
   "id": "1edd2288",
   "metadata": {},
   "outputs": [],
   "source": [
    "video_dir = WORK_DIR / \"data/datasets/action-genome/Charades_v1_480\"\n"
   ]
  },
  {
   "cell_type": "code",
   "execution_count": 8,
   "id": "98488491",
   "metadata": {},
   "outputs": [
    {
     "name": "stdout",
     "output_type": "stream",
     "text": [
      "7098\n"
     ]
    }
   ],
   "source": [
    "with open(WORK_DIR / \"data/datasets/STAR/STAR_annotations/STAR_val.json\") as in_file:\n",
    "    star_data = json.load(in_file)\n",
    "\n",
    "print(len(star_data))\n"
   ]
  },
  {
   "cell_type": "markdown",
   "id": "3fb86ff3",
   "metadata": {},
   "source": [
    "The data is stored in json format as a list of objects. The object is centered around the question (i.e. the question works as the foundamental element to be used as id), and all other inforamation are correlate to the question. That is to say that each object contains the question and the other informations like gorunding video, scene graph etc."
   ]
  },
  {
   "cell_type": "code",
   "execution_count": 9,
   "id": "37ca4d0c",
   "metadata": {},
   "outputs": [
    {
     "data": {
      "text/plain": [
       "['question_id',\n",
       " 'question',\n",
       " 'video_id',\n",
       " 'start',\n",
       " 'end',\n",
       " 'answer',\n",
       " 'question_program',\n",
       " 'choices',\n",
       " 'situations']"
      ]
     },
     "execution_count": 9,
     "metadata": {},
     "output_type": "execute_result"
    }
   ],
   "source": [
    "test_id = 101\n",
    "test_sample = star_data[test_id]\n",
    "list(test_sample.keys())\n"
   ]
  },
  {
   "cell_type": "markdown",
   "id": "f5d8b3a2",
   "metadata": {},
   "source": [
    "## Video data"
   ]
  },
  {
   "cell_type": "code",
   "execution_count": 10,
   "id": "fd4a4d22",
   "metadata": {},
   "outputs": [
    {
     "name": "stdout",
     "output_type": "stream",
     "text": [
      "<class 'pandas.core.frame.DataFrame'>\n",
      "RangeIndex: 7098 entries, 0 to 7097\n",
      "Data columns (total 9 columns):\n",
      " #   Column            Non-Null Count  Dtype  \n",
      "---  ------            --------------  -----  \n",
      " 0   question_id       7098 non-null   object \n",
      " 1   question          7098 non-null   object \n",
      " 2   video_id          7098 non-null   object \n",
      " 3   start             7098 non-null   float64\n",
      " 4   end               7098 non-null   float64\n",
      " 5   answer            7098 non-null   object \n",
      " 6   question_program  7098 non-null   object \n",
      " 7   choices           7098 non-null   object \n",
      " 8   situations        7098 non-null   object \n",
      "dtypes: float64(2), object(7)\n",
      "memory usage: 499.2+ KB\n"
     ]
    }
   ],
   "source": [
    "star_data_df = pd.DataFrame(star_data)\n",
    "star_data_df.info()\n"
   ]
  },
  {
   "cell_type": "code",
   "execution_count": 11,
   "id": "2b0976d6",
   "metadata": {},
   "outputs": [
    {
     "data": {
      "text/plain": [
       "914"
      ]
     },
     "execution_count": 11,
     "metadata": {},
     "output_type": "execute_result"
    }
   ],
   "source": [
    "star_data_df['video_id'].nunique()\n"
   ]
  },
  {
   "cell_type": "code",
   "execution_count": 12,
   "id": "dd23d125",
   "metadata": {},
   "outputs": [
    {
     "data": {
      "text/plain": [
       "3373"
      ]
     },
     "execution_count": 12,
     "metadata": {},
     "output_type": "execute_result"
    }
   ],
   "source": [
    "star_data_df.groupby(['video_id', 'start', 'end']).ngroups\n"
   ]
  },
  {
   "cell_type": "code",
   "execution_count": 13,
   "id": "0d2c6f7c",
   "metadata": {},
   "outputs": [],
   "source": [
    "import csv\n",
    "\n",
    "outfile = WORK_DIR / \"data/datasets/STAR/STAR_annotations/video_ids_val.csv\"\n",
    "video_ids = star_data_df['video_id'].unique()\n",
    "\n",
    "if not outfile.exists():\n",
    "    with open(outfile, 'w', newline='') as f:\n",
    "        writer = csv.writer(f)\n",
    "        writer.writerows([[item] for item in video_ids])\n"
   ]
  },
  {
   "cell_type": "code",
   "execution_count": 14,
   "id": "fdb4df61",
   "metadata": {},
   "outputs": [],
   "source": [
    "def get_video_duration(video_path):\n",
    "    \"\"\"Get video duration in seconds using ffprobe.\"\"\"\n",
    "    cmd = [\n",
    "        'ffprobe',\n",
    "        '-v', 'error',\n",
    "        '-show_entries', 'format=duration',\n",
    "        '-of', 'default=noprint_wrappers=1:nokey=1',\n",
    "        video_path\n",
    "    ]\n",
    "    try:\n",
    "        output = subprocess.check_output(cmd, stderr=subprocess.STDOUT)\n",
    "        duration = float(output)\n",
    "        return duration\n",
    "    except subprocess.CalledProcessError as e:\n",
    "        print(f\"\\nError getting duration for {video_path}: {e.output.decode('utf-8')}\")\n",
    "        return None\n",
    "    except ValueError:\n",
    "        print(f\"\\nCould not parse duration for {video_path}\")\n",
    "        return None\n",
    "\n",
    "def process_videos_directory(directory):\n",
    "    \"\"\"Process all video files in directory and return duration info.\"\"\"\n",
    "    video_info = []\n",
    "    \n",
    "    # First count how many video files we have\n",
    "    video_files = [\n",
    "        filename for filename in os.listdir(directory)\n",
    "        if os.path.isfile(os.path.join(directory, filename)) and\n",
    "        filename.lower().endswith('.mp4')\n",
    "    ]\n",
    "    \n",
    "    # Process with progress bar\n",
    "    for filename in tqdm(video_files, desc=\"Processing videos\", unit=\"video\"):\n",
    "        filepath = os.path.join(directory, filename)\n",
    "        duration = get_video_duration(filepath)\n",
    "        if duration is not None:\n",
    "            video_id = os.path.splitext(filename)[0]\n",
    "            video_info.append({\n",
    "                'video_id': video_id,\n",
    "                'length': duration\n",
    "            })\n",
    "    \n",
    "    return video_info\n",
    "\n"
   ]
  },
  {
   "cell_type": "code",
   "execution_count": 19,
   "id": "e8461a2a",
   "metadata": {},
   "outputs": [],
   "source": [
    "outfile = WORK_DIR / \"data/datasets/STAR/STAR_annotations/video_metadata.jsonl\"\n",
    "\n",
    "video_len_data = None\n",
    "if outfile.exists():\n",
    "    with open(outfile, 'r') as in_f:\n",
    "        video_len_data = [json.loads(line) for line in in_f.readlines()]\n",
    "else:\n",
    "    video_len_data = process_videos_directory(video_dir)\n",
    "\n",
    "    with open(outfile, 'w') as out_f:\n",
    "        for entry in video_len_data:\n",
    "            line = json.dumps(entry) + '\\n'\n",
    "            out_f.write(line)\n",
    "    \n"
   ]
  },
  {
   "cell_type": "code",
   "execution_count": 20,
   "id": "771b7220",
   "metadata": {},
   "outputs": [
    {
     "data": {
      "text/plain": [
       "count    9848.000000\n",
       "mean       29.764684\n",
       "std         9.182348\n",
       "min         2.392000\n",
       "25%        26.912000\n",
       "50%        30.674000\n",
       "75%        32.323000\n",
       "max       194.421000\n",
       "Name: length, dtype: float64"
      ]
     },
     "execution_count": 20,
     "metadata": {},
     "output_type": "execute_result"
    }
   ],
   "source": [
    "video_len_data_series = pd.DataFrame(video_len_data).set_index('video_id')['length']\n",
    "video_len_data_series.describe()\n"
   ]
  }
 ],
 "metadata": {
  "kernelspec": {
   "display_name": "base",
   "language": "python",
   "name": "python3"
  },
  "language_info": {
   "codemirror_mode": {
    "name": "ipython",
    "version": 3
   },
   "file_extension": ".py",
   "mimetype": "text/x-python",
   "name": "python",
   "nbconvert_exporter": "python",
   "pygments_lexer": "ipython3",
   "version": "3.10.9"
  }
 },
 "nbformat": 4,
 "nbformat_minor": 5
}
