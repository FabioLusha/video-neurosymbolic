{
 "cells": [
  {
   "cell_type": "code",
   "execution_count": 68,
   "metadata": {},
   "outputs": [],
   "source": [
    "import random\n",
    "import json\n",
    "import re\n",
    "\n",
    "import numpy as np\n",
    "import pandas as pd\n",
    "\n",
    "import matplotlib.pyplot as plt\n",
    "import seaborn as sns\n",
    "\n",
    "from sklearn.metrics import confusion_matrix\n",
    "\n",
    "random.seed(6)\n",
    "np.random.seed(6)\n"
   ]
  },
  {
   "cell_type": "markdown",
   "metadata": {},
   "source": [
    "# Experiment 7 - Llama3.1 8b as a judge\n",
    "\n",
    "In this experiment I implement the technique `LLM as judge` used in the paper `How good is my MML?` as evaluaiton metric for the correctness of the answers given by a model. The method \n",
    "consists of using a LLM to evaluate the correctness of the answers given by another model. The LLM acts as a judge by comparing the predicted answer with the ground truth answer and providing a score between 0 and 5, expressing the confidence in the answer. The judge also provides a reason for the score.\n",
    "\n",
    "\n",
    "**Parameters:**\n",
    "- model: llama3.1 8b\n",
    "- system prompt: LLM_judge_system.txt\n",
    "- temperature: 0.1\n",
    "- sampling method: (default) top-p (p=0.9)\n"
   ]
  },
  {
   "cell_type": "markdown",
   "metadata": {},
   "source": [
    "Let's load the ground truth from the `STAR_QA_question_and_stsg_val.json` file where we extracted QA and spatio-temporal scene graphs"
   ]
  },
  {
   "cell_type": "code",
   "execution_count": 69,
   "metadata": {},
   "outputs": [
    {
     "data": {
      "text/html": [
       "<div>\n",
       "<style scoped>\n",
       "    .dataframe tbody tr th:only-of-type {\n",
       "        vertical-align: middle;\n",
       "    }\n",
       "\n",
       "    .dataframe tbody tr th {\n",
       "        vertical-align: top;\n",
       "    }\n",
       "\n",
       "    .dataframe thead th {\n",
       "        text-align: right;\n",
       "    }\n",
       "</style>\n",
       "<table border=\"1\" class=\"dataframe\">\n",
       "  <thead>\n",
       "    <tr style=\"text-align: right;\">\n",
       "      <th></th>\n",
       "      <th>question</th>\n",
       "      <th>choices</th>\n",
       "      <th>num</th>\n",
       "      <th>text</th>\n",
       "    </tr>\n",
       "    <tr>\n",
       "      <th>id</th>\n",
       "      <th></th>\n",
       "      <th></th>\n",
       "      <th></th>\n",
       "      <th></th>\n",
       "    </tr>\n",
       "  </thead>\n",
       "  <tbody>\n",
       "    <tr>\n",
       "      <th>Interaction_T1_13</th>\n",
       "      <td>Which object was tidied up by the person?</td>\n",
       "      <td>{'0': 'The closet/cabinet.', '1': 'The blanket...</td>\n",
       "      <td>2</td>\n",
       "      <td>The clothes.</td>\n",
       "    </tr>\n",
       "    <tr>\n",
       "      <th>Interaction_T1_14</th>\n",
       "      <td>Which object was tidied up by the person?</td>\n",
       "      <td>{'0': 'The blanket.', '1': 'The table.', '2': ...</td>\n",
       "      <td>2</td>\n",
       "      <td>The clothes.</td>\n",
       "    </tr>\n",
       "    <tr>\n",
       "      <th>Interaction_T1_31</th>\n",
       "      <td>Which object was thrown by the person?</td>\n",
       "      <td>{'0': 'The pillow.', '1': 'The bag.', '2': 'Th...</td>\n",
       "      <td>2</td>\n",
       "      <td>The clothes.</td>\n",
       "    </tr>\n",
       "    <tr>\n",
       "      <th>Interaction_T1_32</th>\n",
       "      <td>Which object was put down by the person?</td>\n",
       "      <td>{'0': 'The food.', '1': 'The shoe.', '2': 'The...</td>\n",
       "      <td>1</td>\n",
       "      <td>The shoe.</td>\n",
       "    </tr>\n",
       "    <tr>\n",
       "      <th>Interaction_T1_40</th>\n",
       "      <td>Which object was tidied up by the person?</td>\n",
       "      <td>{'0': 'The broom.', '1': 'The closet/cabinet.'...</td>\n",
       "      <td>1</td>\n",
       "      <td>The closet/cabinet.</td>\n",
       "    </tr>\n",
       "    <tr>\n",
       "      <th>...</th>\n",
       "      <td>...</td>\n",
       "      <td>...</td>\n",
       "      <td>...</td>\n",
       "      <td>...</td>\n",
       "    </tr>\n",
       "    <tr>\n",
       "      <th>Feasibility_T6_1453</th>\n",
       "      <td>What is the person able to do after taking the...</td>\n",
       "      <td>{'0': 'Wash the table.', '1': 'Take the box.',...</td>\n",
       "      <td>0</td>\n",
       "      <td>Wash the table.</td>\n",
       "    </tr>\n",
       "    <tr>\n",
       "      <th>Feasibility_T6_1454</th>\n",
       "      <td>What is the person able to do after walking th...</td>\n",
       "      <td>{'0': 'Take the towel.', '1': 'Throw the bag.'...</td>\n",
       "      <td>0</td>\n",
       "      <td>Take the towel.</td>\n",
       "    </tr>\n",
       "    <tr>\n",
       "      <th>Feasibility_T6_1455</th>\n",
       "      <td>What is the person able to do after walking th...</td>\n",
       "      <td>{'0': 'Throw the bag.', '1': 'Wash the table.'...</td>\n",
       "      <td>1</td>\n",
       "      <td>Wash the table.</td>\n",
       "    </tr>\n",
       "    <tr>\n",
       "      <th>Feasibility_T6_1456</th>\n",
       "      <td>What is the person able to do after putting th...</td>\n",
       "      <td>{'0': 'Hold the food.', '1': 'Open the closet/...</td>\n",
       "      <td>3</td>\n",
       "      <td>Wash the table.</td>\n",
       "    </tr>\n",
       "    <tr>\n",
       "      <th>Feasibility_T6_1468</th>\n",
       "      <td>What is the person able to do after opening th...</td>\n",
       "      <td>{'0': 'Wash the window.', '1': 'Hold the food....</td>\n",
       "      <td>1</td>\n",
       "      <td>Hold the food.</td>\n",
       "    </tr>\n",
       "  </tbody>\n",
       "</table>\n",
       "<p>7098 rows × 4 columns</p>\n",
       "</div>"
      ],
      "text/plain": [
       "                                                              question  \\\n",
       "id                                                                       \n",
       "Interaction_T1_13            Which object was tidied up by the person?   \n",
       "Interaction_T1_14            Which object was tidied up by the person?   \n",
       "Interaction_T1_31               Which object was thrown by the person?   \n",
       "Interaction_T1_32             Which object was put down by the person?   \n",
       "Interaction_T1_40            Which object was tidied up by the person?   \n",
       "...                                                                ...   \n",
       "Feasibility_T6_1453  What is the person able to do after taking the...   \n",
       "Feasibility_T6_1454  What is the person able to do after walking th...   \n",
       "Feasibility_T6_1455  What is the person able to do after walking th...   \n",
       "Feasibility_T6_1456  What is the person able to do after putting th...   \n",
       "Feasibility_T6_1468  What is the person able to do after opening th...   \n",
       "\n",
       "                                                               choices num  \\\n",
       "id                                                                           \n",
       "Interaction_T1_13    {'0': 'The closet/cabinet.', '1': 'The blanket...   2   \n",
       "Interaction_T1_14    {'0': 'The blanket.', '1': 'The table.', '2': ...   2   \n",
       "Interaction_T1_31    {'0': 'The pillow.', '1': 'The bag.', '2': 'Th...   2   \n",
       "Interaction_T1_32    {'0': 'The food.', '1': 'The shoe.', '2': 'The...   1   \n",
       "Interaction_T1_40    {'0': 'The broom.', '1': 'The closet/cabinet.'...   1   \n",
       "...                                                                ...  ..   \n",
       "Feasibility_T6_1453  {'0': 'Wash the table.', '1': 'Take the box.',...   0   \n",
       "Feasibility_T6_1454  {'0': 'Take the towel.', '1': 'Throw the bag.'...   0   \n",
       "Feasibility_T6_1455  {'0': 'Throw the bag.', '1': 'Wash the table.'...   1   \n",
       "Feasibility_T6_1456  {'0': 'Hold the food.', '1': 'Open the closet/...   3   \n",
       "Feasibility_T6_1468  {'0': 'Wash the window.', '1': 'Hold the food....   1   \n",
       "\n",
       "                                    text  \n",
       "id                                        \n",
       "Interaction_T1_13           The clothes.  \n",
       "Interaction_T1_14           The clothes.  \n",
       "Interaction_T1_31           The clothes.  \n",
       "Interaction_T1_32              The shoe.  \n",
       "Interaction_T1_40    The closet/cabinet.  \n",
       "...                                  ...  \n",
       "Feasibility_T6_1453      Wash the table.  \n",
       "Feasibility_T6_1454      Take the towel.  \n",
       "Feasibility_T6_1455      Wash the table.  \n",
       "Feasibility_T6_1456      Wash the table.  \n",
       "Feasibility_T6_1468       Hold the food.  \n",
       "\n",
       "[7098 rows x 4 columns]"
      ]
     },
     "execution_count": 69,
     "metadata": {},
     "output_type": "execute_result"
    }
   ],
   "source": [
    "ground_truth = []\n",
    "\n",
    "with open('../data/datasets/STAR_QA_and_stsg_val.json') as f:\n",
    "    data = json.load(f)\n",
    "    ground_truth = [{\n",
    "        'id': sample['question_id'],\n",
    "        'question': sample['question'],\n",
    "        'choices': sample['choices'],\n",
    "        'num': sample['answer'],\n",
    "        'text': sample['choices'][str(sample['answer'])]\n",
    "    } for sample in data]\n",
    "\n",
    "\n",
    "# we keep num as str so we can directrly access choices dictionaries\n",
    "gt_df = pd.DataFrame(ground_truth).astype({'id': 'string', 'num': 'string', 'text': 'string'})\n",
    "gt_df.set_index('id', inplace=True)\n",
    "gt_df\n"
   ]
  },
  {
   "cell_type": "code",
   "execution_count": 70,
   "metadata": {},
   "outputs": [
    {
     "data": {
      "text/html": [
       "<div>\n",
       "<style scoped>\n",
       "    .dataframe tbody tr th:only-of-type {\n",
       "        vertical-align: middle;\n",
       "    }\n",
       "\n",
       "    .dataframe tbody tr th {\n",
       "        vertical-align: top;\n",
       "    }\n",
       "\n",
       "    .dataframe thead th {\n",
       "        text-align: right;\n",
       "    }\n",
       "</style>\n",
       "<table border=\"1\" class=\"dataframe\">\n",
       "  <thead>\n",
       "    <tr style=\"text-align: right;\">\n",
       "      <th></th>\n",
       "      <th>text</th>\n",
       "    </tr>\n",
       "    <tr>\n",
       "      <th>id</th>\n",
       "      <th></th>\n",
       "    </tr>\n",
       "  </thead>\n",
       "  <tbody>\n",
       "    <tr>\n",
       "      <th>Interaction_T1_40</th>\n",
       "      <td>The blanket.</td>\n",
       "    </tr>\n",
       "    <tr>\n",
       "      <th>Interaction_T1_71</th>\n",
       "      <td>The shoe.</td>\n",
       "    </tr>\n",
       "    <tr>\n",
       "      <th>Interaction_T1_78</th>\n",
       "      <td>The refrigerator.</td>\n",
       "    </tr>\n",
       "    <tr>\n",
       "      <th>Interaction_T1_95</th>\n",
       "      <td>The clothes.</td>\n",
       "    </tr>\n",
       "    <tr>\n",
       "      <th>Interaction_T1_100</th>\n",
       "      <td>The clothes.</td>\n",
       "    </tr>\n",
       "    <tr>\n",
       "      <th>...</th>\n",
       "      <td>...</td>\n",
       "    </tr>\n",
       "    <tr>\n",
       "      <th>Feasibility_T6_1428</th>\n",
       "      <td>Take the cup/glass/bottle.</td>\n",
       "    </tr>\n",
       "    <tr>\n",
       "      <th>Feasibility_T6_1448</th>\n",
       "      <td>Put down the laptop.</td>\n",
       "    </tr>\n",
       "    <tr>\n",
       "      <th>Feasibility_T6_1449</th>\n",
       "      <td>Put down the laptop.</td>\n",
       "    </tr>\n",
       "    <tr>\n",
       "      <th>Feasibility_T6_1453</th>\n",
       "      <td>Wash the table.</td>\n",
       "    </tr>\n",
       "    <tr>\n",
       "      <th>Feasibility_T6_1468</th>\n",
       "      <td>Hold the food.</td>\n",
       "    </tr>\n",
       "  </tbody>\n",
       "</table>\n",
       "<p>6900 rows × 1 columns</p>\n",
       "</div>"
      ],
      "text/plain": [
       "                                           text\n",
       "id                                             \n",
       "Interaction_T1_40                  The blanket.\n",
       "Interaction_T1_71                     The shoe.\n",
       "Interaction_T1_78             The refrigerator.\n",
       "Interaction_T1_95                  The clothes.\n",
       "Interaction_T1_100                 The clothes.\n",
       "...                                         ...\n",
       "Feasibility_T6_1428  Take the cup/glass/bottle.\n",
       "Feasibility_T6_1448        Put down the laptop.\n",
       "Feasibility_T6_1449        Put down the laptop.\n",
       "Feasibility_T6_1453             Wash the table.\n",
       "Feasibility_T6_1468              Hold the food.\n",
       "\n",
       "[6900 rows x 1 columns]"
      ]
     },
     "execution_count": 70,
     "metadata": {},
     "output_type": "execute_result"
    }
   ],
   "source": [
    "predictions = []\n",
    "with open('../data/llama3b_extracted_ans.jsonl') as f:\n",
    "    predictions = [json.loads(line) for line in f.readlines()]\n",
    "\n",
    "# transforming the id key from `qid` to `id` for consistency and `response` to `answer`\n",
    "predictions_df = pd.DataFrame(predictions, dtype='string').rename(columns={'qid':'id'})\n",
    "predictions_df.set_index('id', inplace=True)\n",
    "\n",
    "ans_df = predictions_df\n",
    "ans_df = ans_df.rename(columns={'response': 'text'})\n",
    "ans_df\n"
   ]
  },
  {
   "cell_type": "code",
   "execution_count": 71,
   "metadata": {},
   "outputs": [
    {
     "data": {
      "text/plain": [
       "(6900,)"
      ]
     },
     "execution_count": 71,
     "metadata": {},
     "output_type": "execute_result"
    }
   ],
   "source": [
    "exact_match_pred = (gt_df.loc[ans_df.index]['text'] == ans_df['text'])\n",
    "exact_match_pred.shape\n"
   ]
  },
  {
   "cell_type": "markdown",
   "metadata": {},
   "source": [
    "## Loading the the Judge evaluation\n",
    "\n",
    "Now we load the judge evaluation on the responses of the perdictor model. The set of responses are saved in two different files. `llama8b_as_judge_wrong.jsonl` contains the responses that were classified as incorrect by the method with the method extraction, `llama8b_as_judge_correct.jsonl` contains the responses classified as correct.  \n",
    "These two files contains only the responses for which it was able to extract an answer with the regex."
   ]
  },
  {
   "cell_type": "code",
   "execution_count": 72,
   "metadata": {},
   "outputs": [
    {
     "name": "stdout",
     "output_type": "stream",
     "text": [
      "<class 'pandas.core.frame.DataFrame'>\n",
      "Index: 6900 entries, Interaction_T1_13 to Feasibility_T6_1468\n",
      "Data columns (total 1 columns):\n",
      " #   Column    Non-Null Count  Dtype \n",
      "---  ------    --------------  ----- \n",
      " 0   response  6900 non-null   object\n",
      "dtypes: object(1)\n",
      "memory usage: 107.8+ KB\n"
     ]
    }
   ],
   "source": [
    "# Load the scores for the wrong answers\n",
    "predictions = []\n",
    "with open('../outputs/responses_llama3.1:8b_20250310_21:16:49.jsonl', 'r', encoding='utf-8') as f:\n",
    "    predictions = [json.loads(line) for line in f.readlines()]\n",
    "\n",
    "# Extract pred, score and reason from response dictionary into separate columns\n",
    "judge_pred_df = pd.DataFrame(predictions).rename(columns={'qid':'id'})\n",
    "judge_pred_df.set_index('id', inplace=True)\n",
    "judge_pred_df.info()\n"
   ]
  },
  {
   "cell_type": "code",
   "execution_count": 73,
   "metadata": {},
   "outputs": [
    {
     "data": {
      "text/html": [
       "<div>\n",
       "<style scoped>\n",
       "    .dataframe tbody tr th:only-of-type {\n",
       "        vertical-align: middle;\n",
       "    }\n",
       "\n",
       "    .dataframe tbody tr th {\n",
       "        vertical-align: top;\n",
       "    }\n",
       "\n",
       "    .dataframe thead th {\n",
       "        text-align: right;\n",
       "    }\n",
       "</style>\n",
       "<table border=\"1\" class=\"dataframe\">\n",
       "  <thead>\n",
       "    <tr style=\"text-align: right;\">\n",
       "      <th></th>\n",
       "      <th>response</th>\n",
       "    </tr>\n",
       "    <tr>\n",
       "      <th>id</th>\n",
       "      <th></th>\n",
       "    </tr>\n",
       "  </thead>\n",
       "  <tbody>\n",
       "    <tr>\n",
       "      <th>Interaction_T1_13</th>\n",
       "      <td>{'reason': \"The model's answer 'The clothes.' ...</td>\n",
       "    </tr>\n",
       "    <tr>\n",
       "      <th>Interaction_T1_14</th>\n",
       "      <td>{'reason': \"The model's answer 'The clothes.' ...</td>\n",
       "    </tr>\n",
       "    <tr>\n",
       "      <th>Interaction_T1_32</th>\n",
       "      <td>{'reason': \"The model's answer matches the gro...</td>\n",
       "    </tr>\n",
       "    <tr>\n",
       "      <th>Interaction_T1_40</th>\n",
       "      <td>{'reason': \"The model's answer 'The blanket' i...</td>\n",
       "    </tr>\n",
       "    <tr>\n",
       "      <th>Interaction_T1_43</th>\n",
       "      <td>{'reason': \"The model's answer 'The clothes.' ...</td>\n",
       "    </tr>\n",
       "    <tr>\n",
       "      <th>...</th>\n",
       "      <td>...</td>\n",
       "    </tr>\n",
       "    <tr>\n",
       "      <th>Feasibility_T6_1453</th>\n",
       "      <td>{'reason': \"The model's answer 'Wash the table...</td>\n",
       "    </tr>\n",
       "    <tr>\n",
       "      <th>Feasibility_T6_1454</th>\n",
       "      <td>{'reason': \"The model's answer 'Wipe the table...</td>\n",
       "    </tr>\n",
       "    <tr>\n",
       "      <th>Feasibility_T6_1455</th>\n",
       "      <td>{'reason': \"The model's answer 'Take the shoe'...</td>\n",
       "    </tr>\n",
       "    <tr>\n",
       "      <th>Feasibility_T6_1456</th>\n",
       "      <td>{'reason': \"The model's answer 'Open the close...</td>\n",
       "    </tr>\n",
       "    <tr>\n",
       "      <th>Feasibility_T6_1468</th>\n",
       "      <td>{'reason': \"The model's answer 'Hold the food....</td>\n",
       "    </tr>\n",
       "  </tbody>\n",
       "</table>\n",
       "<p>6900 rows × 1 columns</p>\n",
       "</div>"
      ],
      "text/plain": [
       "                                                              response\n",
       "id                                                                    \n",
       "Interaction_T1_13    {'reason': \"The model's answer 'The clothes.' ...\n",
       "Interaction_T1_14    {'reason': \"The model's answer 'The clothes.' ...\n",
       "Interaction_T1_32    {'reason': \"The model's answer matches the gro...\n",
       "Interaction_T1_40    {'reason': \"The model's answer 'The blanket' i...\n",
       "Interaction_T1_43    {'reason': \"The model's answer 'The clothes.' ...\n",
       "...                                                                ...\n",
       "Feasibility_T6_1453  {'reason': \"The model's answer 'Wash the table...\n",
       "Feasibility_T6_1454  {'reason': \"The model's answer 'Wipe the table...\n",
       "Feasibility_T6_1455  {'reason': \"The model's answer 'Take the shoe'...\n",
       "Feasibility_T6_1456  {'reason': \"The model's answer 'Open the close...\n",
       "Feasibility_T6_1468  {'reason': \"The model's answer 'Hold the food....\n",
       "\n",
       "[6900 rows x 1 columns]"
      ]
     },
     "execution_count": 73,
     "metadata": {},
     "output_type": "execute_result"
    }
   ],
   "source": [
    "judge_pred_df\n"
   ]
  },
  {
   "cell_type": "markdown",
   "metadata": {},
   "source": [
    "## Extract answers"
   ]
  },
  {
   "cell_type": "code",
   "execution_count": 74,
   "metadata": {},
   "outputs": [
    {
     "data": {
      "text/html": [
       "<div>\n",
       "<style scoped>\n",
       "    .dataframe tbody tr th:only-of-type {\n",
       "        vertical-align: middle;\n",
       "    }\n",
       "\n",
       "    .dataframe tbody tr th {\n",
       "        vertical-align: top;\n",
       "    }\n",
       "\n",
       "    .dataframe thead th {\n",
       "        text-align: right;\n",
       "    }\n",
       "</style>\n",
       "<table border=\"1\" class=\"dataframe\">\n",
       "  <thead>\n",
       "    <tr style=\"text-align: right;\">\n",
       "      <th></th>\n",
       "      <th>pred</th>\n",
       "      <th>score</th>\n",
       "      <th>reason</th>\n",
       "    </tr>\n",
       "    <tr>\n",
       "      <th>id</th>\n",
       "      <th></th>\n",
       "      <th></th>\n",
       "      <th></th>\n",
       "    </tr>\n",
       "  </thead>\n",
       "  <tbody>\n",
       "    <tr>\n",
       "      <th>Interaction_T1_13</th>\n",
       "      <td>correct</td>\n",
       "      <td>5</td>\n",
       "      <td>The model's answer 'The clothes.' matches the ...</td>\n",
       "    </tr>\n",
       "    <tr>\n",
       "      <th>Interaction_T1_14</th>\n",
       "      <td>correct</td>\n",
       "      <td>5</td>\n",
       "      <td>The model's answer 'The clothes.' matches the ...</td>\n",
       "    </tr>\n",
       "    <tr>\n",
       "      <th>Interaction_T1_32</th>\n",
       "      <td>correct</td>\n",
       "      <td>5</td>\n",
       "      <td>The model's answer matches the ground truth an...</td>\n",
       "    </tr>\n",
       "    <tr>\n",
       "      <th>Interaction_T1_40</th>\n",
       "      <td>incorrect</td>\n",
       "      <td>1</td>\n",
       "      <td>The model's answer 'The blanket' is not semant...</td>\n",
       "    </tr>\n",
       "    <tr>\n",
       "      <th>Interaction_T1_43</th>\n",
       "      <td>correct</td>\n",
       "      <td>5</td>\n",
       "      <td>The model's answer 'The clothes.' matches the ...</td>\n",
       "    </tr>\n",
       "    <tr>\n",
       "      <th>...</th>\n",
       "      <td>...</td>\n",
       "      <td>...</td>\n",
       "      <td>...</td>\n",
       "    </tr>\n",
       "    <tr>\n",
       "      <th>Feasibility_T6_1453</th>\n",
       "      <td>correct</td>\n",
       "      <td>3</td>\n",
       "      <td>The model's answer 'Wash the table' is semanti...</td>\n",
       "    </tr>\n",
       "    <tr>\n",
       "      <th>Feasibility_T6_1454</th>\n",
       "      <td>incorrect</td>\n",
       "      <td>2</td>\n",
       "      <td>The model's answer 'Wipe the table' is incorre...</td>\n",
       "    </tr>\n",
       "    <tr>\n",
       "      <th>Feasibility_T6_1455</th>\n",
       "      <td>incorrect</td>\n",
       "      <td>0</td>\n",
       "      <td>The model's answer 'Take the shoe' is incorrec...</td>\n",
       "    </tr>\n",
       "    <tr>\n",
       "      <th>Feasibility_T6_1456</th>\n",
       "      <td>incorrect</td>\n",
       "      <td>2</td>\n",
       "      <td>The model's answer 'Open the closet/cabinet' i...</td>\n",
       "    </tr>\n",
       "    <tr>\n",
       "      <th>Feasibility_T6_1468</th>\n",
       "      <td>correct</td>\n",
       "      <td>5</td>\n",
       "      <td>The model's answer 'Hold the food.' directly m...</td>\n",
       "    </tr>\n",
       "  </tbody>\n",
       "</table>\n",
       "<p>6900 rows × 3 columns</p>\n",
       "</div>"
      ],
      "text/plain": [
       "                          pred  score  \\\n",
       "id                                      \n",
       "Interaction_T1_13      correct      5   \n",
       "Interaction_T1_14      correct      5   \n",
       "Interaction_T1_32      correct      5   \n",
       "Interaction_T1_40    incorrect      1   \n",
       "Interaction_T1_43      correct      5   \n",
       "...                        ...    ...   \n",
       "Feasibility_T6_1453    correct      3   \n",
       "Feasibility_T6_1454  incorrect      2   \n",
       "Feasibility_T6_1455  incorrect      0   \n",
       "Feasibility_T6_1456  incorrect      2   \n",
       "Feasibility_T6_1468    correct      5   \n",
       "\n",
       "                                                                reason  \n",
       "id                                                                      \n",
       "Interaction_T1_13    The model's answer 'The clothes.' matches the ...  \n",
       "Interaction_T1_14    The model's answer 'The clothes.' matches the ...  \n",
       "Interaction_T1_32    The model's answer matches the ground truth an...  \n",
       "Interaction_T1_40    The model's answer 'The blanket' is not semant...  \n",
       "Interaction_T1_43    The model's answer 'The clothes.' matches the ...  \n",
       "...                                                                ...  \n",
       "Feasibility_T6_1453  The model's answer 'Wash the table' is semanti...  \n",
       "Feasibility_T6_1454  The model's answer 'Wipe the table' is incorre...  \n",
       "Feasibility_T6_1455  The model's answer 'Take the shoe' is incorrec...  \n",
       "Feasibility_T6_1456  The model's answer 'Open the closet/cabinet' i...  \n",
       "Feasibility_T6_1468  The model's answer 'Hold the food.' directly m...  \n",
       "\n",
       "[6900 rows x 3 columns]"
      ]
     },
     "execution_count": 74,
     "metadata": {},
     "output_type": "execute_result"
    }
   ],
   "source": [
    "# Extract pred, score and reason from response dictionary into separate columns\n",
    "judge_pred_df['pred'] = \\\n",
    "    judge_pred_df['response'] \\\n",
    "    .apply(lambda x: eval(x)['pred']) \\\n",
    "    .astype('string') \n",
    "\n",
    "judge_pred_df['score'] = \\\n",
    "    judge_pred_df['response'] \\\n",
    "    .apply(lambda x: int(eval(x)['score'])) \\\n",
    "    .astype('int32')\n",
    "\n",
    "judge_pred_df['reason'] = \\\n",
    "    judge_pred_df['response'] \\\n",
    "    .apply(lambda x: eval(x)['reason']) \\\n",
    "    .astype('string')\n",
    "\n",
    "judge_pred_df.drop('response', axis=1, inplace=True)\n",
    "judge_pred_df\n"
   ]
  },
  {
   "cell_type": "code",
   "execution_count": 75,
   "metadata": {},
   "outputs": [
    {
     "name": "stdout",
     "output_type": "stream",
     "text": [
      "<class 'pandas.core.frame.DataFrame'>\n",
      "Index: 6900 entries, Interaction_T1_13 to Feasibility_T6_1468\n",
      "Data columns (total 3 columns):\n",
      " #   Column  Non-Null Count  Dtype \n",
      "---  ------  --------------  ----- \n",
      " 0   pred    6900 non-null   string\n",
      " 1   score   6900 non-null   int32 \n",
      " 2   reason  6900 non-null   string\n",
      "dtypes: int32(1), string(2)\n",
      "memory usage: 188.7+ KB\n"
     ]
    }
   ],
   "source": [
    "judge_pred_df.info()\n"
   ]
  },
  {
   "cell_type": "code",
   "execution_count": 76,
   "metadata": {},
   "outputs": [
    {
     "data": {
      "text/html": [
       "<div>\n",
       "<style scoped>\n",
       "    .dataframe tbody tr th:only-of-type {\n",
       "        vertical-align: middle;\n",
       "    }\n",
       "\n",
       "    .dataframe tbody tr th {\n",
       "        vertical-align: top;\n",
       "    }\n",
       "\n",
       "    .dataframe thead th {\n",
       "        text-align: right;\n",
       "    }\n",
       "</style>\n",
       "<table border=\"1\" class=\"dataframe\">\n",
       "  <thead>\n",
       "    <tr style=\"text-align: right;\">\n",
       "      <th></th>\n",
       "      <th>pred</th>\n",
       "      <th>score</th>\n",
       "      <th>reason</th>\n",
       "    </tr>\n",
       "    <tr>\n",
       "      <th>id</th>\n",
       "      <th></th>\n",
       "      <th></th>\n",
       "      <th></th>\n",
       "    </tr>\n",
       "  </thead>\n",
       "  <tbody>\n",
       "    <tr>\n",
       "      <th>Interaction_T1_13</th>\n",
       "      <td>correct</td>\n",
       "      <td>5</td>\n",
       "      <td>The model's answer 'The clothes.' matches the ...</td>\n",
       "    </tr>\n",
       "    <tr>\n",
       "      <th>Interaction_T1_14</th>\n",
       "      <td>correct</td>\n",
       "      <td>5</td>\n",
       "      <td>The model's answer 'The clothes.' matches the ...</td>\n",
       "    </tr>\n",
       "    <tr>\n",
       "      <th>Interaction_T1_32</th>\n",
       "      <td>correct</td>\n",
       "      <td>5</td>\n",
       "      <td>The model's answer matches the ground truth an...</td>\n",
       "    </tr>\n",
       "    <tr>\n",
       "      <th>Interaction_T1_40</th>\n",
       "      <td>incorrect</td>\n",
       "      <td>1</td>\n",
       "      <td>The model's answer 'The blanket' is not semant...</td>\n",
       "    </tr>\n",
       "    <tr>\n",
       "      <th>Interaction_T1_43</th>\n",
       "      <td>correct</td>\n",
       "      <td>5</td>\n",
       "      <td>The model's answer 'The clothes.' matches the ...</td>\n",
       "    </tr>\n",
       "    <tr>\n",
       "      <th>...</th>\n",
       "      <td>...</td>\n",
       "      <td>...</td>\n",
       "      <td>...</td>\n",
       "    </tr>\n",
       "    <tr>\n",
       "      <th>Feasibility_T6_1453</th>\n",
       "      <td>correct</td>\n",
       "      <td>3</td>\n",
       "      <td>The model's answer 'Wash the table' is semanti...</td>\n",
       "    </tr>\n",
       "    <tr>\n",
       "      <th>Feasibility_T6_1454</th>\n",
       "      <td>incorrect</td>\n",
       "      <td>2</td>\n",
       "      <td>The model's answer 'Wipe the table' is incorre...</td>\n",
       "    </tr>\n",
       "    <tr>\n",
       "      <th>Feasibility_T6_1455</th>\n",
       "      <td>incorrect</td>\n",
       "      <td>0</td>\n",
       "      <td>The model's answer 'Take the shoe' is incorrec...</td>\n",
       "    </tr>\n",
       "    <tr>\n",
       "      <th>Feasibility_T6_1456</th>\n",
       "      <td>incorrect</td>\n",
       "      <td>2</td>\n",
       "      <td>The model's answer 'Open the closet/cabinet' i...</td>\n",
       "    </tr>\n",
       "    <tr>\n",
       "      <th>Feasibility_T6_1468</th>\n",
       "      <td>correct</td>\n",
       "      <td>5</td>\n",
       "      <td>The model's answer 'Hold the food.' directly m...</td>\n",
       "    </tr>\n",
       "  </tbody>\n",
       "</table>\n",
       "<p>6900 rows × 3 columns</p>\n",
       "</div>"
      ],
      "text/plain": [
       "                          pred  score  \\\n",
       "id                                      \n",
       "Interaction_T1_13      correct      5   \n",
       "Interaction_T1_14      correct      5   \n",
       "Interaction_T1_32      correct      5   \n",
       "Interaction_T1_40    incorrect      1   \n",
       "Interaction_T1_43      correct      5   \n",
       "...                        ...    ...   \n",
       "Feasibility_T6_1453    correct      3   \n",
       "Feasibility_T6_1454  incorrect      2   \n",
       "Feasibility_T6_1455  incorrect      0   \n",
       "Feasibility_T6_1456  incorrect      2   \n",
       "Feasibility_T6_1468    correct      5   \n",
       "\n",
       "                                                                reason  \n",
       "id                                                                      \n",
       "Interaction_T1_13    The model's answer 'The clothes.' matches the ...  \n",
       "Interaction_T1_14    The model's answer 'The clothes.' matches the ...  \n",
       "Interaction_T1_32    The model's answer matches the ground truth an...  \n",
       "Interaction_T1_40    The model's answer 'The blanket' is not semant...  \n",
       "Interaction_T1_43    The model's answer 'The clothes.' matches the ...  \n",
       "...                                                                ...  \n",
       "Feasibility_T6_1453  The model's answer 'Wash the table' is semanti...  \n",
       "Feasibility_T6_1454  The model's answer 'Wipe the table' is incorre...  \n",
       "Feasibility_T6_1455  The model's answer 'Take the shoe' is incorrec...  \n",
       "Feasibility_T6_1456  The model's answer 'Open the closet/cabinet' i...  \n",
       "Feasibility_T6_1468  The model's answer 'Hold the food.' directly m...  \n",
       "\n",
       "[6900 rows x 3 columns]"
      ]
     },
     "execution_count": 76,
     "metadata": {},
     "output_type": "execute_result"
    }
   ],
   "source": [
    "judge_pred_df\n"
   ]
  },
  {
   "cell_type": "code",
   "execution_count": 77,
   "metadata": {},
   "outputs": [
    {
     "data": {
      "text/plain": [
       "(6900, 3)"
      ]
     },
     "execution_count": 77,
     "metadata": {},
     "output_type": "execute_result"
    }
   ],
   "source": [
    "judge_pred_df.shape\n"
   ]
  },
  {
   "cell_type": "code",
   "execution_count": 78,
   "metadata": {},
   "outputs": [
    {
     "data": {
      "text/plain": [
       "id\n",
       "Interaction_T1_13       True\n",
       "Interaction_T1_14       True\n",
       "Interaction_T1_32       True\n",
       "Interaction_T1_40      False\n",
       "Interaction_T1_43       True\n",
       "                       ...  \n",
       "Feasibility_T6_1453     True\n",
       "Feasibility_T6_1454    False\n",
       "Feasibility_T6_1455    False\n",
       "Feasibility_T6_1456    False\n",
       "Feasibility_T6_1468     True\n",
       "Name: text, Length: 6900, dtype: boolean"
      ]
     },
     "execution_count": 78,
     "metadata": {},
     "output_type": "execute_result"
    }
   ],
   "source": [
    "# reindex exact_match to mirror the index of judge_pred_df\n",
    "#\n",
    "# This operation is need for two reasons:\n",
    "# 1. have an aligned index\n",
    "# 2. remove from exact_match_pred those answers that are not present in judge_pred\n",
    "\n",
    "exact_match_pred = exact_match_pred.reindex(judge_pred_df.index)\n",
    "exact_match_pred\n"
   ]
  },
  {
   "cell_type": "markdown",
   "metadata": {},
   "source": [
    "## Evlaution on the answers originally marked as wrong"
   ]
  },
  {
   "cell_type": "code",
   "execution_count": 79,
   "metadata": {},
   "outputs": [
    {
     "name": "stdout",
     "output_type": "stream",
     "text": [
      "\n",
      "Predictions:\n",
      "------------------------------\n",
      "incorrect :  78.41%\n",
      "correct   :  21.59%\n",
      "------------------------------\n"
     ]
    }
   ],
   "source": [
    "pred_percentages = judge_pred_df[~exact_match_pred]['pred'].value_counts(normalize=True) * 100\n",
    "\n",
    "print(\"\\nPredictions:\")\n",
    "print(\"-\" * 30)\n",
    "print(f\"{'incorrect':10}: {pred_percentages['incorrect']:6.2f}%\\n\"\n",
    "      f\"{'correct':10}: {pred_percentages['correct']:6.2f}%\")\n",
    "print(\"-\" * 30)\n"
   ]
  },
  {
   "cell_type": "markdown",
   "metadata": {},
   "source": [
    "An interesting metric, on 95% of the cases the model is concording with the deterministic classification of the answer regex extraction method"
   ]
  },
  {
   "cell_type": "markdown",
   "metadata": {},
   "source": [
    "Let's analyze some of the answers"
   ]
  },
  {
   "cell_type": "markdown",
   "metadata": {},
   "source": [
    "---\n",
    "Let's inspect more samples..."
   ]
  },
  {
   "cell_type": "code",
   "execution_count": 121,
   "metadata": {},
   "outputs": [
    {
     "name": "stdout",
     "output_type": "stream",
     "text": [
      "Index: Feasibility_T6_650\n",
      "Q: What is the person able to do after walking through the doorway?\n",
      "Ground truth A: Take the clothes.\n",
      "Extracted A: Tidy up the closet/cabinet.\n",
      "\n",
      "Alternatives:\n",
      "A. Hold the clothes.\n",
      "B. Tidy up the closet/cabinet.\n",
      "C. Put down the blanket.\n",
      "D. Take the clothes.\n",
      "\n",
      "Original answer:\n",
      "Tidy up the closet/cabinet.\n",
      "\n",
      "Judge evlauation:\n",
      " - verdict: correct\n",
      " - score: 4\n",
      " - reason: The model's answer 'Tidy up the closet/cabinet' implies a specific action related to cleaning or organizing, which is not directly supported by the ground truth answer 'Take the clothes'. However, considering the context of walking through a doorway, it can be inferred that the person might be entering a room where they need to put away their belongings. Therefore, tidying up the closet/cabinet could be seen as a related action.\n"
     ]
    }
   ],
   "source": [
    "judged_correct_mask = (judge_pred_df[~exact_match_pred]['pred'] == 'correct')\n",
    "idx = random.choice(judged_correct_mask[judged_correct_mask].index)\n",
    "\n",
    "\n",
    "print(f'''\\\n",
    "Index: {idx}\n",
    "Q: {gt_df.loc[idx]['question']}\n",
    "Ground truth A: {gt_df.loc[idx]['text']}\n",
    "Extracted A: {ans_df.loc[idx]['text']}\n",
    "\n",
    "Alternatives:\n",
    "A. {gt_df.loc[idx]['choices']['0']}\n",
    "B. {gt_df.loc[idx]['choices']['1']}\n",
    "C. {gt_df.loc[idx]['choices']['2']}\n",
    "D. {gt_df.loc[idx]['choices']['3']}\n",
    "\n",
    "Original answer:\n",
    "{predictions_df.loc[idx]['response']}\n",
    "\n",
    "Judge evlauation:\n",
    " - verdict: {judge_pred_df.loc[idx]['pred']}\n",
    " - score: {judge_pred_df.loc[idx]['score']}\n",
    " - reason: {judge_pred_df.loc[idx]['reason']}\\\n",
    "''')\n"
   ]
  },
  {
   "cell_type": "markdown",
   "metadata": {},
   "source": [
    "### Distribution of confidence score"
   ]
  },
  {
   "cell_type": "code",
   "execution_count": 81,
   "metadata": {},
   "outputs": [
    {
     "data": {
      "image/png": "[encoded data removed]",
      "text/plain": [
       "<Figure size 800x600 with 1 Axes>"
      ]
     },
     "metadata": {},
     "output_type": "display_data"
    }
   ],
   "source": [
    "# Let's see the score distribution for all the predictions\n",
    "\n",
    "plt.figure(figsize=(8, 6))\n",
    "sns.histplot(data=judge_pred_df['score'], discrete=True)\n",
    "plt.title('Distribution of Judge Scores')\n",
    "plt.xlabel('Score')\n",
    "plt.ylabel('Count')\n",
    "plt.show()\n"
   ]
  },
  {
   "cell_type": "code",
   "execution_count": 82,
   "metadata": {},
   "outputs": [
    {
     "data": {
      "image/png": "[encoded data removed]",
      "text/plain": [
       "<Figure size 800x600 with 1 Axes>"
      ]
     },
     "metadata": {},
     "output_type": "display_data"
    }
   ],
   "source": [
    "# Now the score distribution for the prediction which the judge considers as correct answer\n",
    "\n",
    "plt.figure(figsize=(8, 6))\n",
    "sns.histplot(data = \\\n",
    "             judge_pred_df \\\n",
    "             .loc[~exact_match_pred] \\\n",
    "             .loc[judged_correct_mask]['score'], discrete=True, bins=6)\n",
    "plt.title('Distribution of Judge Scores for cases with prediction mismatch')\n",
    "plt.xlabel('Score')\n",
    "plt.ylabel('Count')\n",
    "plt.xticks(range(6))\n",
    "plt.show()\n"
   ]
  },
  {
   "cell_type": "markdown",
   "metadata": {},
   "source": [
    "Not good. The LLM is very confident for these set of answers, even though we have just verified that not all them are consitent with the ground truth."
   ]
  },
  {
   "cell_type": "markdown",
   "metadata": {},
   "source": [
    "## Evaluation on the answers originally marked as correct"
   ]
  },
  {
   "cell_type": "code",
   "execution_count": 83,
   "metadata": {},
   "outputs": [
    {
     "name": "stdout",
     "output_type": "stream",
     "text": [
      "<class 'pandas.core.frame.DataFrame'>\n",
      "Index: 6900 entries, Interaction_T1_13 to Feasibility_T6_1468\n",
      "Data columns (total 3 columns):\n",
      " #   Column  Non-Null Count  Dtype \n",
      "---  ------  --------------  ----- \n",
      " 0   pred    6900 non-null   string\n",
      " 1   score   6900 non-null   int32 \n",
      " 2   reason  6900 non-null   string\n",
      "dtypes: int32(1), string(2)\n",
      "memory usage: 446.7+ KB\n"
     ]
    }
   ],
   "source": [
    "judge_pred_df.info()\n"
   ]
  },
  {
   "cell_type": "code",
   "execution_count": 84,
   "metadata": {},
   "outputs": [
    {
     "name": "stdout",
     "output_type": "stream",
     "text": [
      "\n",
      "Predictions:\n",
      "------------------------------\n",
      "incorrect :   0.16%\n",
      "correct   :  99.84%\n",
      "------------------------------\n"
     ]
    }
   ],
   "source": [
    "pred_percentages = judge_pred_df[exact_match_pred]['pred'].value_counts(normalize=True) * 100\n",
    "\n",
    "print(\"\\nPredictions:\")\n",
    "print(\"-\" * 30)\n",
    "print(f\"{'incorrect':10}: {pred_percentages['incorrect']:6.2f}%\\n\"\n",
    "      f\"{'correct':10}: {pred_percentages['correct']:6.2f}%\")\n",
    "print(\"-\" * 30)\n"
   ]
  },
  {
   "cell_type": "markdown",
   "metadata": {},
   "source": [
    "An interesting metric, on 95% of the cases the model is concording with the deterministic classification of the answer regex extraction method"
   ]
  },
  {
   "cell_type": "markdown",
   "metadata": {},
   "source": [
    "Load the orignal model predictions to verify the judgement of the model."
   ]
  },
  {
   "cell_type": "code",
   "execution_count": 85,
   "metadata": {},
   "outputs": [
    {
     "data": {
      "text/html": [
       "<div>\n",
       "<style scoped>\n",
       "    .dataframe tbody tr th:only-of-type {\n",
       "        vertical-align: middle;\n",
       "    }\n",
       "\n",
       "    .dataframe tbody tr th {\n",
       "        vertical-align: top;\n",
       "    }\n",
       "\n",
       "    .dataframe thead th {\n",
       "        text-align: right;\n",
       "    }\n",
       "</style>\n",
       "<table border=\"1\" class=\"dataframe\">\n",
       "  <thead>\n",
       "    <tr style=\"text-align: right;\">\n",
       "      <th></th>\n",
       "      <th>pred</th>\n",
       "      <th>score</th>\n",
       "      <th>reason</th>\n",
       "    </tr>\n",
       "    <tr>\n",
       "      <th>id</th>\n",
       "      <th></th>\n",
       "      <th></th>\n",
       "      <th></th>\n",
       "    </tr>\n",
       "  </thead>\n",
       "  <tbody>\n",
       "    <tr>\n",
       "      <th>Interaction_T4_931</th>\n",
       "      <td>incorrect</td>\n",
       "      <td>2</td>\n",
       "      <td>The model's answer 'Ate the sandwich.' matches...</td>\n",
       "    </tr>\n",
       "    <tr>\n",
       "      <th>Interaction_T4_2724</th>\n",
       "      <td>incorrect</td>\n",
       "      <td>0</td>\n",
       "      <td>The model's answer 'Opened the door.' is a dir...</td>\n",
       "    </tr>\n",
       "    <tr>\n",
       "      <th>Interaction_T4_3746</th>\n",
       "      <td>incorrect</td>\n",
       "      <td>0</td>\n",
       "      <td>The model's answer 'Threw the broom' matches t...</td>\n",
       "    </tr>\n",
       "    <tr>\n",
       "      <th>Sequence_T2_1347</th>\n",
       "      <td>incorrect</td>\n",
       "      <td>2</td>\n",
       "      <td>The model's answer 'The dish' matches the grou...</td>\n",
       "    </tr>\n",
       "    <tr>\n",
       "      <th>Sequence_T3_1877</th>\n",
       "      <td>incorrect</td>\n",
       "      <td>2</td>\n",
       "      <td>The model's answer 'Opened the refrigerator' m...</td>\n",
       "    </tr>\n",
       "  </tbody>\n",
       "</table>\n",
       "</div>"
      ],
      "text/plain": [
       "                          pred  score  \\\n",
       "id                                      \n",
       "Interaction_T4_931   incorrect      2   \n",
       "Interaction_T4_2724  incorrect      0   \n",
       "Interaction_T4_3746  incorrect      0   \n",
       "Sequence_T2_1347     incorrect      2   \n",
       "Sequence_T3_1877     incorrect      2   \n",
       "\n",
       "                                                                reason  \n",
       "id                                                                      \n",
       "Interaction_T4_931   The model's answer 'Ate the sandwich.' matches...  \n",
       "Interaction_T4_2724  The model's answer 'Opened the door.' is a dir...  \n",
       "Interaction_T4_3746  The model's answer 'Threw the broom' matches t...  \n",
       "Sequence_T2_1347     The model's answer 'The dish' matches the grou...  \n",
       "Sequence_T3_1877     The model's answer 'Opened the refrigerator' m...  "
      ]
     },
     "execution_count": 85,
     "metadata": {},
     "output_type": "execute_result"
    }
   ],
   "source": [
    "judged_incorrect_mask = judge_pred_df[exact_match_pred]['pred'] == 'incorrect'\n",
    "\n",
    "judge_pred_df[exact_match_pred][judged_incorrect_mask]\n"
   ]
  },
  {
   "cell_type": "markdown",
   "metadata": {},
   "source": [
    "Let's analyze some of the answers"
   ]
  },
  {
   "cell_type": "markdown",
   "metadata": {},
   "source": [
    "### Distribution of confidence score"
   ]
  },
  {
   "cell_type": "code",
   "execution_count": 86,
   "metadata": {},
   "outputs": [
    {
     "data": {
      "image/png": "[encoded data removed]",
      "text/plain": [
       "<Figure size 800x600 with 1 Axes>"
      ]
     },
     "metadata": {},
     "output_type": "display_data"
    }
   ],
   "source": [
    "# Let's see the score distribution for all the predictions\n",
    "\n",
    "plt.figure(figsize=(8, 6))\n",
    "sns.histplot(data=judge_pred_df[exact_match_pred]['score'], discrete=True)\n",
    "plt.title('Distribution of Judge Scores for all the responses')\n",
    "plt.xlabel('Score')\n",
    "plt.ylabel('Count')\n",
    "plt.show()\n"
   ]
  },
  {
   "cell_type": "code",
   "execution_count": 87,
   "metadata": {},
   "outputs": [
    {
     "data": {
      "image/png": "[encoded data removed]",
      "text/plain": [
       "<Figure size 800x600 with 1 Axes>"
      ]
     },
     "metadata": {},
     "output_type": "display_data"
    }
   ],
   "source": [
    "# Now the score distribution for the prediction which the judge considers as incorrect answers\n",
    "\n",
    "plt.figure(figsize=(8, 6))\n",
    "sns.histplot(data= \\\n",
    "             judge_pred_df \\\n",
    "             .loc[exact_match_pred]\n",
    "             .loc[judged_incorrect_mask]['score'], discrete=True, bins=6)\n",
    "plt.title('Distribution of Judge Scores for cases with prediction mismatch')\n",
    "plt.xlabel('Score')\n",
    "plt.ylabel('Count')\n",
    "plt.xticks(range(6))\n",
    "plt.show()\n"
   ]
  },
  {
   "cell_type": "markdown",
   "metadata": {},
   "source": [
    "Let's check the mismatch cases where the Judge LLM is most confident (score > 2)"
   ]
  },
  {
   "cell_type": "code",
   "execution_count": 88,
   "metadata": {},
   "outputs": [
    {
     "data": {
      "text/plain": [
       "Index([], dtype='object', name='id')"
      ]
     },
     "execution_count": 88,
     "metadata": {},
     "output_type": "execute_result"
    }
   ],
   "source": [
    "high_conf = judged_incorrect_mask[judge_pred_df['score'] > 2]\n",
    "hig_conf_idxs = high_conf[high_conf].index\n",
    "hig_conf_idxs\n"
   ]
  },
  {
   "cell_type": "code",
   "execution_count": 89,
   "metadata": {},
   "outputs": [
    {
     "name": "stdout",
     "output_type": "stream",
     "text": [
      "Index: Sequence_T1_1194\n",
      "Question: Which object did the person take after they put down the cup/glass/bottle?\n",
      "Ground truth answer: The sandwich.\n",
      "Extracted answer: The sandwich.\n",
      "\n",
      "Original answer:\n",
      "\n",
      "The sandwich.\n",
      "\n",
      "Judge evlauation:\n",
      " - verdict: correct\n",
      " - score: 5\n",
      " - reason: The model's final answer is based on the fact that it correctly identified the object taken by the person after they put down the cup/glass/bottle, which was indeed 'the sandwich'.\n",
      "\n"
     ]
    }
   ],
   "source": [
    "idx = 'Sequence_T1_1194'\n",
    "\n",
    "\n",
    "print(f\"Index: {idx}\")\n",
    "print(f\"Question: {gt_df.loc[idx]['question']}\")\n",
    "print(f\"Ground truth answer: {gt_df.loc[idx]['text']}\")\n",
    "print(f\"Extracted answer: {ans_df.loc[idx]['text']}\")\n",
    "print(f\"\\nOriginal answer:\\n\\n{predictions_df.loc[idx]['response']}\")\n",
    "print(f\"\\nJudge evlauation:\\n\"\n",
    "      f\" - verdict: {judge_pred_df.loc[idx]['pred']}\\n\"\n",
    "      f\" - score: {judge_pred_df.loc[idx]['score']}\\n\"\n",
    "      f\" - reason: {judge_pred_df.loc[idx]['reason']}\\n\")\n"
   ]
  },
  {
   "cell_type": "markdown",
   "metadata": {},
   "source": [
    "Let's check the other answers"
   ]
  },
  {
   "cell_type": "code",
   "execution_count": 90,
   "metadata": {},
   "outputs": [
    {
     "name": "stdout",
     "output_type": "stream",
     "text": [
      "Index: Sequence_T3_1877\n",
      "Question: What happened after the person ate the medicine?\n",
      "Ground truth answer: Opened the refrigerator.\n",
      "Extracted answer: Opened the refrigerator.\n",
      "\n",
      "Original answer:\n",
      "\n",
      "Opened the refrigerator.\n",
      "\n",
      "Judge evlauation:\n",
      " - verdict: incorrect\n",
      " - score: 2\n",
      " - reason: The model's answer 'Opened the refrigerator' matches the ground truth answer, but it doesn't logically follow from eating medicine. The question asks what happened after eating the medicine, implying a consequence or effect of taking the medicine.\n",
      "\n"
     ]
    }
   ],
   "source": [
    "idx = random.choice(judged_incorrect_mask[judged_incorrect_mask].index)\n",
    "\n",
    "print(f\"Index: {idx}\")\n",
    "print(f\"Question: {gt_df.loc[idx]['question']}\")\n",
    "print(f\"Ground truth answer: {gt_df.loc[idx]['text']}\")\n",
    "print(f\"Extracted answer: {ans_df.loc[idx]['text']}\")\n",
    "print(f\"\\nOriginal answer:\\n\\n{predictions_df.loc[idx]['response']}\")\n",
    "print(f\"\\nJudge evlauation:\\n\"\n",
    "      f\" - verdict: {judge_pred_df.loc[idx]['pred']}\\n\"\n",
    "      f\" - score: {judge_pred_df.loc[idx]['score']}\\n\"\n",
    "      f\" - reason: {judge_pred_df.loc[idx]['reason']}\\n\")\n"
   ]
  },
  {
   "cell_type": "code",
   "execution_count": 91,
   "metadata": {},
   "outputs": [
    {
     "name": "stdout",
     "output_type": "stream",
     "text": [
      "Index: Interaction_T1_2119\n",
      "Question: Which object was put down by the person?\n",
      "Ground truth answer: The book.\n",
      "Extracted answer: The book.\n",
      "\n",
      "Original answer:\n",
      "\n",
      "The book.\n",
      "\n",
      "Judge evlauation:\n",
      " - verdict: correct\n",
      " - score: 5\n",
      " - reason: The model's answer 'The book' matches the ground truth answer, indicating a correct prediction.\n",
      "\n"
     ]
    }
   ],
   "source": [
    "idx = 'Interaction_T1_2119'\n",
    "\n",
    "print(f\"Index: {idx}\")\n",
    "print(f\"Question: {gt_df.loc[idx]['question']}\")\n",
    "print(f\"Ground truth answer: {gt_df.loc[idx]['text']}\")\n",
    "print(f\"Extracted answer: {ans_df.loc[idx]['text']}\")\n",
    "print(f\"\\nOriginal answer:\\n\\n{predictions_df.loc[idx]['response']}\")\n",
    "print(f\"\\nJudge evlauation:\\n\"\n",
    "      f\" - verdict: {judge_pred_df.loc[idx]['pred']}\\n\"\n",
    "      f\" - score: {judge_pred_df.loc[idx]['score']}\\n\"\n",
    "      f\" - reason: {judge_pred_df.loc[idx]['reason']}\\n\")\n"
   ]
  },
  {
   "cell_type": "markdown",
   "metadata": {},
   "source": [
    "---\n",
    "\n",
    "Look at the following question.  \n",
    "The answer does not follow from the reasoning but do the generated token contribute to determine the answer? In other words, even tough the reasoning is not sound do these token influence the probability distribution of choosing the answer?"
   ]
  },
  {
   "cell_type": "code",
   "execution_count": 92,
   "metadata": {},
   "outputs": [
    {
     "name": "stdout",
     "output_type": "stream",
     "text": [
      "Index: Sequence_T6_3033\n",
      "Question: What did the person do to the cup/glass/bottle before putting down the dish?\n",
      "Ground truth answer: Took.\n",
      "Extracted answer: Took.\n",
      "\n",
      "Original answer:\n",
      "\n",
      "Took.\n",
      "\n",
      "Judge evlauation:\n",
      " - verdict: correct\n",
      " - score: 5\n",
      " - reason: The model's answer 'Took' matches the ground truth answer 'Took', indicating a correct prediction.\n",
      "\n"
     ]
    }
   ],
   "source": [
    "idx = 'Sequence_T6_3033'\n",
    "\n",
    "print(f\"Index: {idx}\")\n",
    "print(f\"Question: {gt_df.loc[idx]['question']}\")\n",
    "print(f\"Ground truth answer: {gt_df.loc[idx]['text']}\")\n",
    "print(f\"Extracted answer: {ans_df.loc[idx]['text']}\")\n",
    "print(f\"\\nOriginal answer:\\n\\n{predictions_df.loc[idx]['response']}\")\n",
    "print(f\"\\nJudge evlauation:\\n\"\n",
    "      f\" - verdict: {judge_pred_df.loc[idx]['pred']}\\n\"\n",
    "      f\" - score: {judge_pred_df.loc[idx]['score']}\\n\"\n",
    "      f\" - reason: {judge_pred_df.loc[idx]['reason']}\\n\")\n"
   ]
  },
  {
   "cell_type": "markdown",
   "metadata": {},
   "source": [
    "## Evaluation on the entire dataset"
   ]
  },
  {
   "cell_type": "code",
   "execution_count": 93,
   "metadata": {},
   "outputs": [],
   "source": [
    "judge_pred_correct_mask = (judge_pred_df['pred'] == 'correct')\n"
   ]
  },
  {
   "cell_type": "code",
   "execution_count": 94,
   "metadata": {},
   "outputs": [
    {
     "data": {
      "image/png": "[encoded data removed]",
      "text/plain": [
       "<Figure size 800x600 with 2 Axes>"
      ]
     },
     "metadata": {},
     "output_type": "display_data"
    }
   ],
   "source": [
    "# Compute the confusion matrix\n",
    "\n",
    "exact_match_labels = exact_match_pred.astype(int)\n",
    "judge_pred_labels = judge_pred_correct_mask.astype(int)\n",
    "\n",
    "cm = confusion_matrix(exact_match_labels, judge_pred_labels)\n",
    "\n",
    "# Normalize the confusion matrix to percentage\n",
    "cm = cm.astype('float') / cm.sum(axis=1)[:, np.newaxis] * 100\n",
    "\n",
    "# Plot the confusion matrix using Seaborn\n",
    "plt.figure(figsize=(8, 6))\n",
    "sns.heatmap(cm, annot=True, fmt='.2f', cmap='Blues', \n",
    "            xticklabels=['incorrect', 'correct'], \n",
    "            yticklabels=['incorrect', 'correct'])\n",
    "plt.xlabel('Judge prediction')\n",
    "plt.ylabel('Exact match')\n",
    "plt.title('Agreement Matrix')\n",
    "plt.show()\n"
   ]
  },
  {
   "cell_type": "code",
   "execution_count": 95,
   "metadata": {},
   "outputs": [],
   "source": [
    "def print_acc(eval_df, acc_fn):\n",
    "    print(f\"{'Question type':<15}{'Total':^15}{'Accuracy':^10}\\n\")\n",
    "\n",
    "    total = eval_df.index.str.startswith('Interaction').sum()\n",
    "    acc = acc_fn(eval_df[eval_df.index.str.startswith('Interaction')])\n",
    "    print(f\"{'Interaction':<15}{total:^15}{acc:^10.2%}\")\n",
    "\n",
    "    total = eval_df.index.str.startswith('Sequence').sum()\n",
    "    acc = acc_fn(eval_df[eval_df.index.str.startswith('Sequence')])\n",
    "    print(f\"{'Sequence':<15}{total:^15}{acc:^10.2%}\")\n",
    "\n",
    "    total = eval_df.index.str.startswith('Prediction').sum()\n",
    "    acc = acc_fn(eval_df[eval_df.index.str.startswith('Prediction')])\n",
    "    print(f\"{'Prediction':<15}{total:^15}{acc:^10.2%}\")\n",
    "\n",
    "    total = eval_df.index.str.startswith('Feasibility').sum()\n",
    "    acc = acc_fn(eval_df[eval_df.index.str.startswith('Feasibility')])\n",
    "    print(f\"{'Feasibility':<15}{total:^15}{acc:^10.2%}\")\n"
   ]
  },
  {
   "cell_type": "code",
   "execution_count": 96,
   "metadata": {},
   "outputs": [
    {
     "name": "stdout",
     "output_type": "stream",
     "text": [
      "LLM as a Judge accuracy\n",
      "\n",
      "Question type       Total      Accuracy \n",
      "\n",
      "Interaction         2308        58.84%  \n",
      "Sequence            3485        56.41%  \n",
      "Prediction           621        51.85%  \n",
      "Feasibility          486        50.62%  \n"
     ]
    }
   ],
   "source": [
    "print('LLM as a Judge accuracy\\n')\n",
    "print_acc(judge_pred_correct_mask, lambda x: x.sum()/x.shape[0])\n"
   ]
  },
  {
   "cell_type": "code",
   "execution_count": 97,
   "metadata": {},
   "outputs": [
    {
     "name": "stdout",
     "output_type": "stream",
     "text": [
      "Answer extraction through regex accuracy\n",
      "\n",
      "Question type       Total      Accuracy \n",
      "\n",
      "Interaction         2308        44.58%  \n",
      "Sequence            3485        44.68%  \n",
      "Prediction           621        43.16%  \n",
      "Feasibility          486        44.44%  \n"
     ]
    }
   ],
   "source": [
    "print('Answer extraction through regex accuracy\\n')\n",
    "print_acc(exact_match_pred, lambda x: x.sum()/x.shape[0])\n"
   ]
  },
  {
   "cell_type": "code",
   "execution_count": 98,
   "metadata": {},
   "outputs": [],
   "source": [
    "# Note: to access meta-llama you have to first accept the licence agreement\n",
    "from transformers import AutoTokenizer\n",
    "import os\n",
    "\n",
    "hugg_key = os.environ['HUGGINGFACE_KEY']\n",
    "\n",
    "tokenizer = AutoTokenizer.from_pretrained(\n",
    "                'meta-llama/Llama-3.2-3B-Instruct', \n",
    "                token=hugg_key)\n"
   ]
  },
  {
   "cell_type": "code",
   "execution_count": 99,
   "metadata": {},
   "outputs": [
    {
     "data": {
      "text/plain": [
       "[128000, 128006, 9125, 128007, 128008]"
      ]
     },
     "execution_count": 99,
     "metadata": {},
     "output_type": "execute_result"
    }
   ],
   "source": [
    "# 128000 : <|begin_of_text|>\n",
    "# 128006 : <|start_header_id|>\n",
    "# 128007 : <|end_header_id|>\n",
    "\n",
    "a = tokenizer.encode(\"<|start_header_id|>system<|end_header_id|><|eom_id|>\")\n",
    "a\n"
   ]
  },
  {
   "cell_type": "code",
   "execution_count": 100,
   "metadata": {},
   "outputs": [],
   "source": [
    "# \"chat_template\": \n",
    "# \"{{- bos_token }}\\n{%- if custom_tools is defined %}\\n    {%- set tools = custom_tools %}\\n{%- endif %}\\n{%- if not tools_in_user_message is defined %}\\n    {%- set tools_in_user_message = true %}\\n{%- endif %}\\n{%- if not date_string is defined %}\\n    {%- if strftime_now is defined %}\\n        {%- set date_string = strftime_now(\\\"%d %b %Y\\\") %}\\n    {%- else %}\\n        {%- set date_string = \\\"26 Jul 2024\\\" %}\\n    {%- endif %}\\n{%- endif %}\\n{%- if not tools is defined %}\\n    {%- set tools = none %}\\n{%- endif %}\\n\\n{#- This block extracts the system message, so we can slot it into the right place. #}\\n{%- if messages[0]['role'] == 'system' %}\\n    {%- set system_message = messages[0]['content']|trim %}\\n    {%- set messages = messages[1:] %}\\n{%- else %}\\n    {%- set system_message = \\\"\\\" %}\\n{%- endif %}\\n\\n{#- System message #}\\n{{- \\\"<|start_header_id|>system<|end_header_id|>\\\\n\\\\n\\\" }}\\n{%- if tools is not none %}\\n    {{- \\\"Environment: ipython\\\\n\\\" }}\\n{%- endif %}\\n{{- \\\"Cutting Knowledge Date: December 2023\\\\n\\\" }}\\n{{- \\\"Today Date: \\\" + date_string + \\\"\\\\n\\\\n\\\" }}\\n{%- if tools is not none and not tools_in_user_message %}\\n    {{- \\\"You have access to the following functions. To call a function, please respond with JSON for a function call.\\\" }}\\n    {{- 'Respond in the format {\\\"name\\\": function name, \\\"parameters\\\": dictionary of argument name and its value}.' }}\\n    {{- \\\"Do not use variables.\\\\n\\\\n\\\" }}\\n    {%- for t in tools %}\\n        {{- t | tojson(indent=4) }}\\n        {{- \\\"\\\\n\\\\n\\\" }}\\n    {%- endfor %}\\n{%- endif %}\\n{{- system_message }}\\n{{- \\\"<|eot_id|>\\\" }}\\n\\n{#- Custom tools are passed in a user message with some extra guidance #}\\n{%- if tools_in_user_message and not tools is none %}\\n    {#- Extract the first user message so we can plug it in here #}\\n    {%- if messages | length != 0 %}\\n        {%- set first_user_message = messages[0]['content']|trim %}\\n        {%- set messages = messages[1:] %}\\n    {%- else %}\\n        {{- raise_exception(\\\"Cannot put tools in the first user message when there's no first user message!\\\") }}\\n{%- endif %}\\n    {{- '<|start_header_id|>user<|end_header_id|>\\\\n\\\\n' -}}\\n    {{- \\\"Given the following functions, please respond with a JSON for a function call \\\" }}\\n    {{- \\\"with its proper arguments that best answers the given prompt.\\\\n\\\\n\\\" }}\\n    {{- 'Respond in the format {\\\"name\\\": function name, \\\"parameters\\\": dictionary of argument name and its value}.' }}\\n    {{- \\\"Do not use variables.\\\\n\\\\n\\\" }}\\n    {%- for t in tools %}\\n        {{- t | tojson(indent=4) }}\\n        {{- \\\"\\\\n\\\\n\\\" }}\\n    {%- endfor %}\\n    {{- first_user_message + \\\"<|eot_id|>\\\"}}\\n{%- endif %}\\n\\n{%- for message in messages %}\\n    {%- if not (message.role == 'ipython' or message.role == 'tool' or 'tool_calls' in message) %}\\n        {{- '<|start_header_id|>' + message['role'] + '<|end_header_id|>\\\\n\\\\n'+ message['content'] | trim + '<|eot_id|>' }}\\n    {%- elif 'tool_calls' in message %}\\n        {%- if not message.tool_calls|length == 1 %}\\n            {{- raise_exception(\\\"This model only supports single tool-calls at once!\\\") }}\\n        {%- endif %}\\n        {%- set tool_call = message.tool_calls[0].function %}\\n        {{- '<|start_header_id|>assistant<|end_header_id|>\\\\n\\\\n' -}}\\n        {{- '{\\\"name\\\": \\\"' + tool_call.name + '\\\", ' }}\\n        {{- '\\\"parameters\\\": ' }}\\n        {{- tool_call.arguments | tojson }}\\n        {{- \\\"}\\\" }}\\n        {{- \\\"<|eot_id|>\\\" }}\\n    {%- elif message.role == \\\"tool\\\" or message.role == \\\"ipython\\\" %}\\n        {{- \\\"<|start_header_id|>ipython<|end_header_id|>\\\\n\\\\n\\\" }}\\n        {%- if message.content is mapping or message.content is iterable %}\\n            {{- message.content | tojson }}\\n        {%- else %}\\n            {{- message.content }}\\n        {%- endif %}\\n        {{- \\\"<|eot_id|>\\\" }}\\n    {%- endif %}\\n{%- endfor %}\\n{%- if add_generation_prompt %}\\n    {{- '<|start_header_id|>assistant<|end_header_id|>\\\\n\\\\n' }}\\n{%- endif %}\\n\",\n",
    "#   \"clean_up_tokenization_spaces\": true,\n"
   ]
  }
 ],
 "metadata": {
  "kernelspec": {
   "display_name": "video-llm",
   "language": "python",
   "name": "python3"
  },
  "language_info": {
   "codemirror_mode": {
    "name": "ipython",
    "version": 3
   },
   "file_extension": ".py",
   "mimetype": "text/x-python",
   "name": "python",
   "nbconvert_exporter": "python",
   "pygments_lexer": "ipython3",
   "version": "3.8.18"
  }
 },
 "nbformat": 4,
 "nbformat_minor": 2
}
