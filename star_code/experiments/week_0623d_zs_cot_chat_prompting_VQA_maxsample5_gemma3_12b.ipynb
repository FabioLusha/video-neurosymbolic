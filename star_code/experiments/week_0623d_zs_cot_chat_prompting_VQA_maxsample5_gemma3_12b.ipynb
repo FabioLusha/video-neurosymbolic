{
 "cells": [
  {
   "cell_type": "code",
   "execution_count": 35,
   "metadata": {},
   "outputs": [],
   "source": [
    "import random\n",
    "import json\n",
    "import re\n",
    "import os\n",
    "\n",
    "import numpy as np\n",
    "import pandas as pd\n",
    "\n",
    "import matplotlib.pyplot as plt\n",
    "import seaborn as sns\n",
    "\n",
    "from sklearn.metrics import confusion_matrix\n",
    "\n",
    "random.seed(6)\n",
    "np.random.seed(6)\n"
   ]
  },
  {
   "cell_type": "markdown",
   "metadata": {},
   "source": [
    "# Experiment - New Version of Gemma3:4b on chat mode\n",
    "\n",
    "This is the usual experiment of MCQA on ground tuth but with the new version of Gemma3, optimized for quantization.\n",
    "\n",
    "**Parameters:**\n",
    "- model: Gemma3 4b\n",
    "- system prompt: MCQ_system_promtp_ZS_CoT.txt\n",
    "- user_prompt: MCQ_user_prompt_ZS_CoT_v2.txt\n",
    "- temperature: 0.1\n",
    "- sampling method: (default) top-p (p=0.9)\n",
    "\n",
    "\n",
    "**Results:**  \n",
    "Marginal improve of ~1-2% with respect to the old model"
   ]
  },
  {
   "cell_type": "markdown",
   "metadata": {},
   "source": [
    "## Prompts"
   ]
  },
  {
   "cell_type": "code",
   "execution_count": 68,
   "metadata": {},
   "outputs": [
    {
     "name": "stdout",
     "output_type": "stream",
     "text": [
      "You are an intelligent video comprehension model and are going to receive as input a sequence of images extracted from a video and a question. You need to analyze and describe the scene unfolding in the video (sequence of frames) following these guidelines:\n",
      "1. Look for recurring objects;\n",
      "2. Note that the same object may appear differently across frames due to low image quality, varying viewing angles, or partial obstructions. Carefully check objects with similar features (e.g. shape, color), appearing in different frames, as they may still be the same object;\n",
      "3. Pay attention to how the person interacts with its environment\n",
      "4. Understand the directional movement of the people and objects in the video\n",
      "5. Carefully analyze the chronological sequence of the events occurring in the video;\n",
      "6. Pay attention to the atomic and fine grained movement, pose and actions of the people in the video. Compose these atomic actions happening across the frame to infer the higher level action performed by the person;\n",
      "7. Deduce the intentions and motives behind the actions;\n",
      "8. Identify unusual actions accurately.\n",
      "\n",
      "Now carefully analyze the following question and proceed to answer following the given instructions:\n",
      "<Q>\n",
      "{question}\n",
      "<Q>\n",
      "\n",
      "Given following alternatives:\n",
      "<Alternatives>\n",
      "A. {c1}\n",
      "B. {c2}\n",
      "C. {c3}\n",
      "D. {c4}\n",
      "E. None of the above\n",
      "</Alternatives>\n",
      "\n",
      "\n",
      "In answering the question please be sure to operate according to the following guidelines:\n",
      "1. Question Interpretation: Clearly state what the question is asking;\n",
      "2. Video Analysis: Carefully examine the video and analysis of it that you provided;\n",
      "3. Alternative Evaluation: For each option (A, B, C, D), explain whether it matches the video evidence. Disagree with incorrect information given in the question if necessary;\n",
      "4. Reasoning: Provide clear logical step by step reasoning leading to your conclusion;\n",
      "5. Conclusion: Declare the logical conclusion to your reasoning in the above step;\n",
      "6. Consistency Check: Before finalizing, verify that your chosen answer directly follows from your analysis above and provide the final answer by selecting one of the alternatives.\n",
      "\n",
      "CRITICAL INSTRUCTION: After completing your reasoning but before providing the final response, re-read your analysis carefully. Ensure your final answer choice is fully supported by and consistent with your reasoning. If you notice any contradiction, revise your analysis first.\n",
      "\n"
     ]
    }
   ],
   "source": [
    "with open('../data/prompts/vqa/user_prompt_v2.txt', 'r') as f:\n",
    "    pr = f.read()\n",
    "\n",
    "print(pr)\n"
   ]
  },
  {
   "cell_type": "code",
   "execution_count": 37,
   "metadata": {},
   "outputs": [
    {
     "name": "stdout",
     "output_type": "stream",
     "text": [
      "Therefore the final answer is?\n",
      "\n",
      "Your response must be provided in valid JSON format as follows:\n",
      "{\"answer\": \"your complete answer here\"}\n",
      "\n",
      "IMPORTANT: Always include both the letter (A, B, C, D, etc.) AND the full text of the answer in your response.\n",
      "Do not abbreviate or shorten the answer. For example, if the correct answer is \"A. the laptop\", your response \n",
      "should be {\"answer\": \"A. the laptop\"}, not {\"answer\": \"laptop\"} or {\"answer\": \"A\"}.\\\n",
      "\n"
     ]
    }
   ],
   "source": [
    "with open('../data/prompts/zero-shot-cot/auto_reply_ZS_CoT.txt', 'r') as f:\n",
    "    pr = f.read()\n",
    "\n",
    "print(pr)\n"
   ]
  },
  {
   "cell_type": "markdown",
   "metadata": {},
   "source": [
    "Let's load the ground truth from the `STAR_QA_question_and_stsg_val.json` file where we extracted QA and spatio-temporal scene graphs"
   ]
  },
  {
   "cell_type": "code",
   "execution_count": 38,
   "metadata": {},
   "outputs": [
    {
     "data": {
      "text/html": [
       "<div>\n",
       "<style scoped>\n",
       "    .dataframe tbody tr th:only-of-type {\n",
       "        vertical-align: middle;\n",
       "    }\n",
       "\n",
       "    .dataframe tbody tr th {\n",
       "        vertical-align: top;\n",
       "    }\n",
       "\n",
       "    .dataframe thead th {\n",
       "        text-align: right;\n",
       "    }\n",
       "</style>\n",
       "<table border=\"1\" class=\"dataframe\">\n",
       "  <thead>\n",
       "    <tr style=\"text-align: right;\">\n",
       "      <th></th>\n",
       "      <th>question</th>\n",
       "      <th>choices</th>\n",
       "      <th>text</th>\n",
       "    </tr>\n",
       "    <tr>\n",
       "      <th>id</th>\n",
       "      <th></th>\n",
       "      <th></th>\n",
       "      <th></th>\n",
       "    </tr>\n",
       "  </thead>\n",
       "  <tbody>\n",
       "    <tr>\n",
       "      <th>Feasibility_T5_102</th>\n",
       "      <td>Which object is the person able to throw after...</td>\n",
       "      <td>[{'choice_id': 0, 'choice': 'The bag.', 'choic...</td>\n",
       "      <td>The clothes.</td>\n",
       "    </tr>\n",
       "    <tr>\n",
       "      <th>Feasibility_T2_860</th>\n",
       "      <td>What else is the person able to do with the wi...</td>\n",
       "      <td>[{'choice_id': 0, 'choice': 'Lie on the window...</td>\n",
       "      <td>Close the window.</td>\n",
       "    </tr>\n",
       "    <tr>\n",
       "      <th>Feasibility_T2_556</th>\n",
       "      <td>What else is the person able to do with the cl...</td>\n",
       "      <td>[{'choice_id': 0, 'choice': 'Tidy up the close...</td>\n",
       "      <td>Open the closet/cabinet.</td>\n",
       "    </tr>\n",
       "    <tr>\n",
       "      <th>Prediction_T1_2539</th>\n",
       "      <td>What will the person do next?</td>\n",
       "      <td>[{'choice_id': 0, 'choice': 'Sit on the floor....</td>\n",
       "      <td>Sit on the floor.</td>\n",
       "    </tr>\n",
       "    <tr>\n",
       "      <th>Prediction_T4_1253</th>\n",
       "      <td>Which object would the person throw next after...</td>\n",
       "      <td>[{'choice_id': 0, 'choice': 'The pillow.', 'ch...</td>\n",
       "      <td>The shoe.</td>\n",
       "    </tr>\n",
       "    <tr>\n",
       "      <th>...</th>\n",
       "      <td>...</td>\n",
       "      <td>...</td>\n",
       "      <td>...</td>\n",
       "    </tr>\n",
       "    <tr>\n",
       "      <th>Interaction_T1_8913</th>\n",
       "      <td>Which object was taken by the person?</td>\n",
       "      <td>[{'choice_id': 0, 'choice': 'The paper/noteboo...</td>\n",
       "      <td>The paper/notebook.</td>\n",
       "    </tr>\n",
       "    <tr>\n",
       "      <th>Interaction_T1_8967</th>\n",
       "      <td>Which object was taken by the person?</td>\n",
       "      <td>[{'choice_id': 0, 'choice': 'The towel.', 'cho...</td>\n",
       "      <td>The dish.</td>\n",
       "    </tr>\n",
       "    <tr>\n",
       "      <th>Interaction_T2_1847</th>\n",
       "      <td>What did the person do with the paper/notebook?</td>\n",
       "      <td>[{'choice_id': 0, 'choice': 'Put down.', 'choi...</td>\n",
       "      <td>Took.</td>\n",
       "    </tr>\n",
       "    <tr>\n",
       "      <th>Interaction_T2_3423</th>\n",
       "      <td>What did the person do with the bed?</td>\n",
       "      <td>[{'choice_id': 0, 'choice': 'Sat on.', 'choice...</td>\n",
       "      <td>Lied on.</td>\n",
       "    </tr>\n",
       "    <tr>\n",
       "      <th>Interaction_T4_4181</th>\n",
       "      <td>What did the person do while they were wiping ...</td>\n",
       "      <td>[{'choice_id': 0, 'choice': 'Threw the bag.', ...</td>\n",
       "      <td>Put down the bag.</td>\n",
       "    </tr>\n",
       "  </tbody>\n",
       "</table>\n",
       "<p>1048 rows × 3 columns</p>\n",
       "</div>"
      ],
      "text/plain": [
       "                                                              question  \\\n",
       "id                                                                       \n",
       "Feasibility_T5_102   Which object is the person able to throw after...   \n",
       "Feasibility_T2_860   What else is the person able to do with the wi...   \n",
       "Feasibility_T2_556   What else is the person able to do with the cl...   \n",
       "Prediction_T1_2539                       What will the person do next?   \n",
       "Prediction_T4_1253   Which object would the person throw next after...   \n",
       "...                                                                ...   \n",
       "Interaction_T1_8913              Which object was taken by the person?   \n",
       "Interaction_T1_8967              Which object was taken by the person?   \n",
       "Interaction_T2_1847    What did the person do with the paper/notebook?   \n",
       "Interaction_T2_3423               What did the person do with the bed?   \n",
       "Interaction_T4_4181  What did the person do while they were wiping ...   \n",
       "\n",
       "                                                               choices  \\\n",
       "id                                                                       \n",
       "Feasibility_T5_102   [{'choice_id': 0, 'choice': 'The bag.', 'choic...   \n",
       "Feasibility_T2_860   [{'choice_id': 0, 'choice': 'Lie on the window...   \n",
       "Feasibility_T2_556   [{'choice_id': 0, 'choice': 'Tidy up the close...   \n",
       "Prediction_T1_2539   [{'choice_id': 0, 'choice': 'Sit on the floor....   \n",
       "Prediction_T4_1253   [{'choice_id': 0, 'choice': 'The pillow.', 'ch...   \n",
       "...                                                                ...   \n",
       "Interaction_T1_8913  [{'choice_id': 0, 'choice': 'The paper/noteboo...   \n",
       "Interaction_T1_8967  [{'choice_id': 0, 'choice': 'The towel.', 'cho...   \n",
       "Interaction_T2_1847  [{'choice_id': 0, 'choice': 'Put down.', 'choi...   \n",
       "Interaction_T2_3423  [{'choice_id': 0, 'choice': 'Sat on.', 'choice...   \n",
       "Interaction_T4_4181  [{'choice_id': 0, 'choice': 'Threw the bag.', ...   \n",
       "\n",
       "                                         text  \n",
       "id                                             \n",
       "Feasibility_T5_102               The clothes.  \n",
       "Feasibility_T2_860          Close the window.  \n",
       "Feasibility_T2_556   Open the closet/cabinet.  \n",
       "Prediction_T1_2539          Sit on the floor.  \n",
       "Prediction_T4_1253                  The shoe.  \n",
       "...                                       ...  \n",
       "Interaction_T1_8913       The paper/notebook.  \n",
       "Interaction_T1_8967                 The dish.  \n",
       "Interaction_T2_1847                     Took.  \n",
       "Interaction_T2_3423                  Lied on.  \n",
       "Interaction_T4_4181         Put down the bag.  \n",
       "\n",
       "[1048 rows x 3 columns]"
      ]
     },
     "execution_count": 38,
     "metadata": {},
     "output_type": "execute_result"
    }
   ],
   "source": [
    "ground_truth = []\n",
    "\n",
    "with open('../data/datasets/STAR/STAR_annotations/STAR_val_small_1000.json') as f:\n",
    "    data = json.load(f)\n",
    "    ground_truth = [{\n",
    "        'id': sample['question_id'],\n",
    "        'question': sample['question'],\n",
    "        'choices': sample['choices'],\n",
    "        'text': sample['answer'],\n",
    "    } for sample in data]\n",
    "\n",
    "\n",
    "# we keep num as str so we can directrly access choices dictionaries\n",
    "gt_df = pd.DataFrame(ground_truth).astype({'id': 'string', 'text': 'string'})\n",
    "gt_df.set_index('id', inplace=True)\n",
    "gt_df\n"
   ]
  },
  {
   "cell_type": "markdown",
   "metadata": {},
   "source": [
    "## Loading predicted answers evaluation"
   ]
  },
  {
   "cell_type": "code",
   "execution_count": 39,
   "metadata": {},
   "outputs": [
    {
     "data": {
      "text/html": [
       "<div>\n",
       "<style scoped>\n",
       "    .dataframe tbody tr th:only-of-type {\n",
       "        vertical-align: middle;\n",
       "    }\n",
       "\n",
       "    .dataframe tbody tr th {\n",
       "        vertical-align: top;\n",
       "    }\n",
       "\n",
       "    .dataframe thead th {\n",
       "        text-align: right;\n",
       "    }\n",
       "</style>\n",
       "<table border=\"1\" class=\"dataframe\">\n",
       "  <thead>\n",
       "    <tr style=\"text-align: right;\">\n",
       "      <th></th>\n",
       "      <th>chat_history</th>\n",
       "    </tr>\n",
       "    <tr>\n",
       "      <th>id</th>\n",
       "      <th></th>\n",
       "    </tr>\n",
       "  </thead>\n",
       "  <tbody>\n",
       "    <tr>\n",
       "      <th>Feasibility_T5_102</th>\n",
       "      <td>[{'role': 'user', 'content': 'You are an intel...</td>\n",
       "    </tr>\n",
       "    <tr>\n",
       "      <th>Feasibility_T2_860</th>\n",
       "      <td>[{'role': 'user', 'content': 'You are an intel...</td>\n",
       "    </tr>\n",
       "    <tr>\n",
       "      <th>Feasibility_T2_556</th>\n",
       "      <td>[{'role': 'user', 'content': 'You are an intel...</td>\n",
       "    </tr>\n",
       "    <tr>\n",
       "      <th>Prediction_T1_2539</th>\n",
       "      <td>[{'role': 'user', 'content': 'You are an intel...</td>\n",
       "    </tr>\n",
       "    <tr>\n",
       "      <th>Prediction_T4_1253</th>\n",
       "      <td>[{'role': 'user', 'content': 'You are an intel...</td>\n",
       "    </tr>\n",
       "    <tr>\n",
       "      <th>...</th>\n",
       "      <td>...</td>\n",
       "    </tr>\n",
       "    <tr>\n",
       "      <th>Interaction_T1_8913</th>\n",
       "      <td>[{'role': 'user', 'content': 'You are an intel...</td>\n",
       "    </tr>\n",
       "    <tr>\n",
       "      <th>Interaction_T1_8967</th>\n",
       "      <td>[{'role': 'user', 'content': 'You are an intel...</td>\n",
       "    </tr>\n",
       "    <tr>\n",
       "      <th>Interaction_T2_1847</th>\n",
       "      <td>[{'role': 'user', 'content': 'You are an intel...</td>\n",
       "    </tr>\n",
       "    <tr>\n",
       "      <th>Interaction_T2_3423</th>\n",
       "      <td>[{'role': 'user', 'content': 'You are an intel...</td>\n",
       "    </tr>\n",
       "    <tr>\n",
       "      <th>Interaction_T4_4181</th>\n",
       "      <td>[{'role': 'user', 'content': 'You are an intel...</td>\n",
       "    </tr>\n",
       "  </tbody>\n",
       "</table>\n",
       "<p>1048 rows × 1 columns</p>\n",
       "</div>"
      ],
      "text/plain": [
       "                                                          chat_history\n",
       "id                                                                    \n",
       "Feasibility_T5_102   [{'role': 'user', 'content': 'You are an intel...\n",
       "Feasibility_T2_860   [{'role': 'user', 'content': 'You are an intel...\n",
       "Feasibility_T2_556   [{'role': 'user', 'content': 'You are an intel...\n",
       "Prediction_T1_2539   [{'role': 'user', 'content': 'You are an intel...\n",
       "Prediction_T4_1253   [{'role': 'user', 'content': 'You are an intel...\n",
       "...                                                                ...\n",
       "Interaction_T1_8913  [{'role': 'user', 'content': 'You are an intel...\n",
       "Interaction_T1_8967  [{'role': 'user', 'content': 'You are an intel...\n",
       "Interaction_T2_1847  [{'role': 'user', 'content': 'You are an intel...\n",
       "Interaction_T2_3423  [{'role': 'user', 'content': 'You are an intel...\n",
       "Interaction_T4_4181  [{'role': 'user', 'content': 'You are an intel...\n",
       "\n",
       "[1048 rows x 1 columns]"
      ]
     },
     "execution_count": 39,
     "metadata": {},
     "output_type": "execute_result"
    }
   ],
   "source": [
    "predictions = []\n",
    "with open('../outputs/vqa_gemma3:12b-it-qat_20250621_13:28:00.jsonl', mode='r', encoding='utf-8', errors='strict') as f:\n",
    "    predictions = [json.loads(line) for line in f.readlines()]\n",
    "\n",
    "# transforming the id key from `qid` to `id` for consistency and `response` to `answer`\n",
    "predictions_df = pd.DataFrame(predictions, dtype='string').rename(columns={'qid':'id', 'response':'answer'})\n",
    "predictions_df.set_index('id', inplace=True)\n",
    "predictions_df\n"
   ]
  },
  {
   "cell_type": "code",
   "execution_count": 40,
   "metadata": {},
   "outputs": [
    {
     "data": {
      "text/html": [
       "<div>\n",
       "<style scoped>\n",
       "    .dataframe tbody tr th:only-of-type {\n",
       "        vertical-align: middle;\n",
       "    }\n",
       "\n",
       "    .dataframe tbody tr th {\n",
       "        vertical-align: top;\n",
       "    }\n",
       "\n",
       "    .dataframe thead th {\n",
       "        text-align: right;\n",
       "    }\n",
       "</style>\n",
       "<table border=\"1\" class=\"dataframe\">\n",
       "  <thead>\n",
       "    <tr style=\"text-align: right;\">\n",
       "      <th></th>\n",
       "      <th>chat_history</th>\n",
       "    </tr>\n",
       "    <tr>\n",
       "      <th>id</th>\n",
       "      <th></th>\n",
       "    </tr>\n",
       "  </thead>\n",
       "  <tbody>\n",
       "    <tr>\n",
       "      <th>Feasibility_T5_102</th>\n",
       "      <td>[{'role': 'user', 'content': 'You are an intel...</td>\n",
       "    </tr>\n",
       "    <tr>\n",
       "      <th>Feasibility_T2_860</th>\n",
       "      <td>[{'role': 'user', 'content': 'You are an intel...</td>\n",
       "    </tr>\n",
       "    <tr>\n",
       "      <th>Feasibility_T2_556</th>\n",
       "      <td>[{'role': 'user', 'content': 'You are an intel...</td>\n",
       "    </tr>\n",
       "    <tr>\n",
       "      <th>Prediction_T1_2539</th>\n",
       "      <td>[{'role': 'user', 'content': 'You are an intel...</td>\n",
       "    </tr>\n",
       "    <tr>\n",
       "      <th>Prediction_T4_1253</th>\n",
       "      <td>[{'role': 'user', 'content': 'You are an intel...</td>\n",
       "    </tr>\n",
       "    <tr>\n",
       "      <th>...</th>\n",
       "      <td>...</td>\n",
       "    </tr>\n",
       "    <tr>\n",
       "      <th>Interaction_T1_8913</th>\n",
       "      <td>[{'role': 'user', 'content': 'You are an intel...</td>\n",
       "    </tr>\n",
       "    <tr>\n",
       "      <th>Interaction_T1_8967</th>\n",
       "      <td>[{'role': 'user', 'content': 'You are an intel...</td>\n",
       "    </tr>\n",
       "    <tr>\n",
       "      <th>Interaction_T2_1847</th>\n",
       "      <td>[{'role': 'user', 'content': 'You are an intel...</td>\n",
       "    </tr>\n",
       "    <tr>\n",
       "      <th>Interaction_T2_3423</th>\n",
       "      <td>[{'role': 'user', 'content': 'You are an intel...</td>\n",
       "    </tr>\n",
       "    <tr>\n",
       "      <th>Interaction_T4_4181</th>\n",
       "      <td>[{'role': 'user', 'content': 'You are an intel...</td>\n",
       "    </tr>\n",
       "  </tbody>\n",
       "</table>\n",
       "<p>1048 rows × 1 columns</p>\n",
       "</div>"
      ],
      "text/plain": [
       "                                                          chat_history\n",
       "id                                                                    \n",
       "Feasibility_T5_102   [{'role': 'user', 'content': 'You are an intel...\n",
       "Feasibility_T2_860   [{'role': 'user', 'content': 'You are an intel...\n",
       "Feasibility_T2_556   [{'role': 'user', 'content': 'You are an intel...\n",
       "Prediction_T1_2539   [{'role': 'user', 'content': 'You are an intel...\n",
       "Prediction_T4_1253   [{'role': 'user', 'content': 'You are an intel...\n",
       "...                                                                ...\n",
       "Interaction_T1_8913  [{'role': 'user', 'content': 'You are an intel...\n",
       "Interaction_T1_8967  [{'role': 'user', 'content': 'You are an intel...\n",
       "Interaction_T2_1847  [{'role': 'user', 'content': 'You are an intel...\n",
       "Interaction_T2_3423  [{'role': 'user', 'content': 'You are an intel...\n",
       "Interaction_T4_4181  [{'role': 'user', 'content': 'You are an intel...\n",
       "\n",
       "[1048 rows x 1 columns]"
      ]
     },
     "execution_count": 40,
     "metadata": {},
     "output_type": "execute_result"
    }
   ],
   "source": [
    "predictions_df['chat_history'] = \\\n",
    "    predictions_df['chat_history'] \\\n",
    "    .apply(lambda x: eval(x))\n",
    "\n",
    "predictions_df\n"
   ]
  },
  {
   "cell_type": "code",
   "execution_count": 41,
   "metadata": {},
   "outputs": [],
   "source": [
    "predictions_df['answer'] = predictions_df['chat_history'].apply(lambda x: x[-1]['content'])\n"
   ]
  },
  {
   "cell_type": "code",
   "execution_count": 42,
   "metadata": {},
   "outputs": [
    {
     "data": {
      "text/plain": [
       "id\n",
       "Feasibility_T5_102            ```json\\n{\"answer\": \"A. The bag.\"}\\n```\\n\n",
       "Feasibility_T2_860     ```json\\n{\"answer\": \"E. None of the above\"}\\n```\n",
       "Feasibility_T2_556    ```json\\n{\"answer\": \"A. Tidy up the closet/cab...\n",
       "Prediction_T1_2539                     {\"answer\": \"B. Open the bag.\"}\\n\n",
       "Prediction_T4_1253                 {\"answer\": \"E. None of the above\"}\\n\n",
       "Name: answer, dtype: object"
      ]
     },
     "execution_count": 42,
     "metadata": {},
     "output_type": "execute_result"
    }
   ],
   "source": [
    "predictions_df['answer'].iloc[0:5] \n"
   ]
  },
  {
   "cell_type": "code",
   "execution_count": 43,
   "metadata": {},
   "outputs": [
    {
     "data": {
      "text/plain": [
       "id\n",
       "Feasibility_T5_102            ```json\\n{\"answer\": \"A. The bag.\"}\\n```\\n\n",
       "Feasibility_T2_860     ```json\\n{\"answer\": \"E. None of the above\"}\\n```\n",
       "Feasibility_T2_556    ```json\\n{\"answer\": \"A. Tidy up the closet/cab...\n",
       "Prediction_T1_2539                     {\"answer\": \"B. Open the bag.\"}\\n\n",
       "Prediction_T4_1253                 {\"answer\": \"E. None of the above\"}\\n\n",
       "Name: answer, dtype: object"
      ]
     },
     "execution_count": 43,
     "metadata": {},
     "output_type": "execute_result"
    }
   ],
   "source": [
    "predictions_df['answer'].iloc[0:5] \n"
   ]
  },
  {
   "cell_type": "markdown",
   "metadata": {},
   "source": [
    "## Text preprocessing"
   ]
  },
  {
   "cell_type": "markdown",
   "metadata": {},
   "source": [
    "For Gemma we need to be more careful becuase the format is different, it encapsulated the json output in the with the tokens: \n",
    "```\n",
    "```json\\n\n",
    "<actual_answer>\n",
    "\\n```\n",
    "```"
   ]
  },
  {
   "cell_type": "code",
   "execution_count": 44,
   "metadata": {},
   "outputs": [
    {
     "name": "stdout",
     "output_type": "stream",
     "text": [
      "Total answers: 1048\n",
      "Answers following JSON template: 1048\n",
      "Percentage following JSON template: 100.00%\n"
     ]
    }
   ],
   "source": [
    "\n",
    "# Create mask for answers that follow JSON syntax\n",
    "json_mask = predictions_df['answer'].str.match(r'^(```json\\s*)?({[^}]+})(\\s*```)?')\n",
    "matches_json_template = json_mask.sum()\n",
    "\n",
    "print(f\"Total answers: {len(predictions_df)}\")\n",
    "print(f\"Answers following JSON template: {matches_json_template}\")\n",
    "print(f\"Percentage following JSON template: {(matches_json_template/len(predictions_df))*100:.2f}%\")\n"
   ]
  },
  {
   "cell_type": "code",
   "execution_count": 45,
   "metadata": {},
   "outputs": [
    {
     "data": {
      "text/plain": [
       "Series([], Name: answer, dtype: object)"
      ]
     },
     "execution_count": 45,
     "metadata": {},
     "output_type": "execute_result"
    }
   ],
   "source": [
    "predictions_df.loc[~json_mask, 'answer']\n"
   ]
  },
  {
   "cell_type": "code",
   "execution_count": 46,
   "metadata": {},
   "outputs": [
    {
     "data": {
      "text/plain": [
       "id\n",
       "Feasibility_T5_102                        {\"answer\": \"A. The bag.\"}\n",
       "Feasibility_T2_860               {\"answer\": \"E. None of the above\"}\n",
       "Feasibility_T2_556     {\"answer\": \"A. Tidy up the closet/cabinet.\"}\n",
       "Prediction_T1_2539                   {\"answer\": \"B. Open the bag.\"}\n",
       "Prediction_T4_1253               {\"answer\": \"E. None of the above\"}\n",
       "                                           ...                     \n",
       "Interaction_T1_8913            {\"answer\": \"A. The paper/notebook.\"}\n",
       "Interaction_T1_8967                      {\"answer\": \"B. The food.\"}\n",
       "Interaction_T2_1847              {\"answer\": \"E. None of the above\"}\n",
       "Interaction_T2_3423                       {\"answer\": \"C. Lied on.\"}\n",
       "Interaction_T4_4181              {\"answer\": \"C. Put down the bag.\"}\n",
       "Name: answer, Length: 1048, dtype: object"
      ]
     },
     "execution_count": 46,
     "metadata": {},
     "output_type": "execute_result"
    }
   ],
   "source": [
    "predictions_df.loc[json_mask, 'answer'] = \\\n",
    "    predictions_df.loc[json_mask, 'answer'] \\\n",
    "    .apply(lambda x: re.search(r'^(?:```json\\s*)?({[^}]+})(?:\\s*```)?', x).group(1))\n",
    "\n",
    "predictions_df.loc[~json_mask, 'answer'] = \"\"\n",
    "predictions_df['answer']\n"
   ]
  },
  {
   "cell_type": "markdown",
   "metadata": {},
   "source": [
    "### The need to replace single quotes"
   ]
  },
  {
   "cell_type": "code",
   "execution_count": 47,
   "metadata": {},
   "outputs": [
    {
     "name": "stdout",
     "output_type": "stream",
     "text": [
      "‘\n",
      "’\n",
      "‚\n",
      "‛\n",
      "“\n",
      "”\n"
     ]
    },
    {
     "data": {
      "text/plain": [
       "(None, None, None, None, None, None)"
      ]
     },
     "execution_count": 47,
     "metadata": {},
     "output_type": "execute_result"
    }
   ],
   "source": [
    "print('\\u2018'), print('\\u2019'), print('\\u201a'), print('\\u201b'), print('\\u201c'), print('\\u201d')\n"
   ]
  },
  {
   "cell_type": "markdown",
   "metadata": {},
   "source": [
    "### Applying changes"
   ]
  },
  {
   "cell_type": "code",
   "execution_count": 48,
   "metadata": {},
   "outputs": [],
   "source": [
    "# Replace new line (lead to EOF Errors) with whitespace\n",
    "predictions_df['answer'] = \\\n",
    "    predictions_df['answer'].str.replace('\\n+', ' ', regex=True)\n",
    "\n",
    "# Replace lef and right quotation mark with simple quotation mark\n",
    "predictions_df['answer'] = \\\n",
    "    predictions_df['answer'].str.replace('[\\u2018-\\u201b]', '\\'', regex=True)\n",
    "predictions_df['answer'] = \\\n",
    "    predictions_df['answer'].str.replace('[\\u201c\\u201d]', '\"', regex=True)\n",
    "# ------------------ Removing inner double quotes --------------------\n",
    "# It may happen that the text may contain inner double quotes before the\n",
    "# attribute end. This will cause the parser to termiate early and spout\n",
    "# errors for the remaining text. With this snippet we replace those inner\n",
    "# double quotes with single quotes.\n",
    "#  \n",
    "# we first match the text of the reason paramter inside the double quotes\n",
    "# then we escape/replace all the double quotes inside the text\n",
    "inside_doublequotes = r\"(?<=\\\"answer\\\": \\\")(.*)(?=\\\"(?:,|}))\"\n",
    "\n",
    "predictions_df['answer'] = \\\n",
    "    predictions_df.apply(\n",
    "        func=lambda row: re.sub(\n",
    "            inside_doublequotes, \n",
    "            lambda matchobj: matchobj.group(0).replace('\\\"', ''), \n",
    "            row['answer']),\n",
    "        axis=1\n",
    "        )\n"
   ]
  },
  {
   "cell_type": "code",
   "execution_count": 49,
   "metadata": {},
   "outputs": [
    {
     "data": {
      "text/html": [
       "<div>\n",
       "<style scoped>\n",
       "    .dataframe tbody tr th:only-of-type {\n",
       "        vertical-align: middle;\n",
       "    }\n",
       "\n",
       "    .dataframe tbody tr th {\n",
       "        vertical-align: top;\n",
       "    }\n",
       "\n",
       "    .dataframe thead th {\n",
       "        text-align: right;\n",
       "    }\n",
       "</style>\n",
       "<table border=\"1\" class=\"dataframe\">\n",
       "  <thead>\n",
       "    <tr style=\"text-align: right;\">\n",
       "      <th></th>\n",
       "      <th>chat_history</th>\n",
       "      <th>answer</th>\n",
       "    </tr>\n",
       "    <tr>\n",
       "      <th>id</th>\n",
       "      <th></th>\n",
       "      <th></th>\n",
       "    </tr>\n",
       "  </thead>\n",
       "  <tbody>\n",
       "    <tr>\n",
       "      <th>Feasibility_T5_102</th>\n",
       "      <td>[{'role': 'user', 'content': 'You are an intel...</td>\n",
       "      <td>A. The bag.</td>\n",
       "    </tr>\n",
       "    <tr>\n",
       "      <th>Feasibility_T2_860</th>\n",
       "      <td>[{'role': 'user', 'content': 'You are an intel...</td>\n",
       "      <td>E. None of the above</td>\n",
       "    </tr>\n",
       "    <tr>\n",
       "      <th>Feasibility_T2_556</th>\n",
       "      <td>[{'role': 'user', 'content': 'You are an intel...</td>\n",
       "      <td>A. Tidy up the closet/cabinet.</td>\n",
       "    </tr>\n",
       "    <tr>\n",
       "      <th>Prediction_T1_2539</th>\n",
       "      <td>[{'role': 'user', 'content': 'You are an intel...</td>\n",
       "      <td>B. Open the bag.</td>\n",
       "    </tr>\n",
       "    <tr>\n",
       "      <th>Prediction_T4_1253</th>\n",
       "      <td>[{'role': 'user', 'content': 'You are an intel...</td>\n",
       "      <td>E. None of the above</td>\n",
       "    </tr>\n",
       "    <tr>\n",
       "      <th>...</th>\n",
       "      <td>...</td>\n",
       "      <td>...</td>\n",
       "    </tr>\n",
       "    <tr>\n",
       "      <th>Interaction_T1_8913</th>\n",
       "      <td>[{'role': 'user', 'content': 'You are an intel...</td>\n",
       "      <td>A. The paper/notebook.</td>\n",
       "    </tr>\n",
       "    <tr>\n",
       "      <th>Interaction_T1_8967</th>\n",
       "      <td>[{'role': 'user', 'content': 'You are an intel...</td>\n",
       "      <td>B. The food.</td>\n",
       "    </tr>\n",
       "    <tr>\n",
       "      <th>Interaction_T2_1847</th>\n",
       "      <td>[{'role': 'user', 'content': 'You are an intel...</td>\n",
       "      <td>E. None of the above</td>\n",
       "    </tr>\n",
       "    <tr>\n",
       "      <th>Interaction_T2_3423</th>\n",
       "      <td>[{'role': 'user', 'content': 'You are an intel...</td>\n",
       "      <td>C. Lied on.</td>\n",
       "    </tr>\n",
       "    <tr>\n",
       "      <th>Interaction_T4_4181</th>\n",
       "      <td>[{'role': 'user', 'content': 'You are an intel...</td>\n",
       "      <td>C. Put down the bag.</td>\n",
       "    </tr>\n",
       "  </tbody>\n",
       "</table>\n",
       "<p>1048 rows × 2 columns</p>\n",
       "</div>"
      ],
      "text/plain": [
       "                                                          chat_history  \\\n",
       "id                                                                       \n",
       "Feasibility_T5_102   [{'role': 'user', 'content': 'You are an intel...   \n",
       "Feasibility_T2_860   [{'role': 'user', 'content': 'You are an intel...   \n",
       "Feasibility_T2_556   [{'role': 'user', 'content': 'You are an intel...   \n",
       "Prediction_T1_2539   [{'role': 'user', 'content': 'You are an intel...   \n",
       "Prediction_T4_1253   [{'role': 'user', 'content': 'You are an intel...   \n",
       "...                                                                ...   \n",
       "Interaction_T1_8913  [{'role': 'user', 'content': 'You are an intel...   \n",
       "Interaction_T1_8967  [{'role': 'user', 'content': 'You are an intel...   \n",
       "Interaction_T2_1847  [{'role': 'user', 'content': 'You are an intel...   \n",
       "Interaction_T2_3423  [{'role': 'user', 'content': 'You are an intel...   \n",
       "Interaction_T4_4181  [{'role': 'user', 'content': 'You are an intel...   \n",
       "\n",
       "                                             answer  \n",
       "id                                                   \n",
       "Feasibility_T5_102                      A. The bag.  \n",
       "Feasibility_T2_860             E. None of the above  \n",
       "Feasibility_T2_556   A. Tidy up the closet/cabinet.  \n",
       "Prediction_T1_2539                 B. Open the bag.  \n",
       "Prediction_T4_1253             E. None of the above  \n",
       "...                                             ...  \n",
       "Interaction_T1_8913          A. The paper/notebook.  \n",
       "Interaction_T1_8967                    B. The food.  \n",
       "Interaction_T2_1847            E. None of the above  \n",
       "Interaction_T2_3423                     C. Lied on.  \n",
       "Interaction_T4_4181            C. Put down the bag.  \n",
       "\n",
       "[1048 rows x 2 columns]"
      ]
     },
     "execution_count": 49,
     "metadata": {},
     "output_type": "execute_result"
    }
   ],
   "source": [
    "predictions_df.loc[json_mask, 'answer'] = predictions_df.loc[json_mask, 'answer'].apply(lambda x: eval(x)['answer'].strip())\n",
    "predictions_df\n"
   ]
  },
  {
   "cell_type": "code",
   "execution_count": 50,
   "metadata": {},
   "outputs": [
    {
     "name": "stdout",
     "output_type": "stream",
     "text": [
      "Answer following the template: 1048\n",
      "100.00% of the total\n",
      "\n",
      "Only 0 samples do not contain the answer in the response with the specified format\n"
     ]
    },
    {
     "name": "stderr",
     "output_type": "stream",
     "text": [
      "/tmp/ipykernel_358385/2072079659.py:2: UserWarning: This pattern is interpreted as a regular expression, and has match groups. To actually get the groups, use str.extract.\n",
      "  contains_answer = predictions_df['answer'].str.contains(ans_regex_pattern, regex=True)\n"
     ]
    }
   ],
   "source": [
    "ans_regex_pattern = r'^(?:[A-Z]\\.)\\s+((?:\\w+(?:\\s|\\/)?){,10}\\.?)'\n",
    "contains_answer = predictions_df['answer'].str.contains(ans_regex_pattern, regex=True)\n",
    "\n",
    "print(f\"Answer following the template: {contains_answer.value_counts()[True]}\\n\"\n",
    "      f\"{contains_answer.value_counts()[True]/predictions_df.shape[0]:.2%} of the total\")\n",
    "\n",
    "print(f\"\\nOnly {contains_answer.shape[0] - contains_answer.value_counts()[True]} samples do not contain the answer in the response with the specified format\")\n"
   ]
  },
  {
   "cell_type": "code",
   "execution_count": 51,
   "metadata": {},
   "outputs": [
    {
     "data": {
      "text/plain": [
       "Series([], Name: answer, dtype: object)"
      ]
     },
     "execution_count": 51,
     "metadata": {},
     "output_type": "execute_result"
    }
   ],
   "source": [
    "predictions_df.loc[~contains_answer, 'answer']\n"
   ]
  },
  {
   "cell_type": "code",
   "execution_count": 52,
   "metadata": {},
   "outputs": [
    {
     "name": "stdout",
     "output_type": "stream",
     "text": [
      "\n"
     ]
    }
   ],
   "source": [
    "print(\"\\n\".join(i[-1]['content'] for i in predictions_df.loc[~contains_answer]['chat_history']))\n"
   ]
  },
  {
   "cell_type": "markdown",
   "metadata": {},
   "source": [
    "## Extract answers"
   ]
  },
  {
   "cell_type": "code",
   "execution_count": 53,
   "metadata": {},
   "outputs": [
    {
     "data": {
      "text/html": [
       "<div>\n",
       "<style scoped>\n",
       "    .dataframe tbody tr th:only-of-type {\n",
       "        vertical-align: middle;\n",
       "    }\n",
       "\n",
       "    .dataframe tbody tr th {\n",
       "        vertical-align: top;\n",
       "    }\n",
       "\n",
       "    .dataframe thead th {\n",
       "        text-align: right;\n",
       "    }\n",
       "</style>\n",
       "<table border=\"1\" class=\"dataframe\">\n",
       "  <thead>\n",
       "    <tr style=\"text-align: right;\">\n",
       "      <th></th>\n",
       "      <th>text</th>\n",
       "    </tr>\n",
       "    <tr>\n",
       "      <th>id</th>\n",
       "      <th></th>\n",
       "    </tr>\n",
       "  </thead>\n",
       "  <tbody>\n",
       "    <tr>\n",
       "      <th>Feasibility_T5_102</th>\n",
       "      <td>The bag.</td>\n",
       "    </tr>\n",
       "    <tr>\n",
       "      <th>Feasibility_T2_860</th>\n",
       "      <td>None of the above.</td>\n",
       "    </tr>\n",
       "    <tr>\n",
       "      <th>Feasibility_T2_556</th>\n",
       "      <td>Tidy up the closet/cabinet.</td>\n",
       "    </tr>\n",
       "    <tr>\n",
       "      <th>Prediction_T1_2539</th>\n",
       "      <td>Open the bag.</td>\n",
       "    </tr>\n",
       "    <tr>\n",
       "      <th>Prediction_T4_1253</th>\n",
       "      <td>None of the above.</td>\n",
       "    </tr>\n",
       "    <tr>\n",
       "      <th>...</th>\n",
       "      <td>...</td>\n",
       "    </tr>\n",
       "    <tr>\n",
       "      <th>Interaction_T1_8913</th>\n",
       "      <td>The paper/notebook.</td>\n",
       "    </tr>\n",
       "    <tr>\n",
       "      <th>Interaction_T1_8967</th>\n",
       "      <td>The food.</td>\n",
       "    </tr>\n",
       "    <tr>\n",
       "      <th>Interaction_T2_1847</th>\n",
       "      <td>None of the above.</td>\n",
       "    </tr>\n",
       "    <tr>\n",
       "      <th>Interaction_T2_3423</th>\n",
       "      <td>Lied on.</td>\n",
       "    </tr>\n",
       "    <tr>\n",
       "      <th>Interaction_T4_4181</th>\n",
       "      <td>Put down the bag.</td>\n",
       "    </tr>\n",
       "  </tbody>\n",
       "</table>\n",
       "<p>1048 rows × 1 columns</p>\n",
       "</div>"
      ],
      "text/plain": [
       "                                            text\n",
       "id                                              \n",
       "Feasibility_T5_102                      The bag.\n",
       "Feasibility_T2_860            None of the above.\n",
       "Feasibility_T2_556   Tidy up the closet/cabinet.\n",
       "Prediction_T1_2539                 Open the bag.\n",
       "Prediction_T4_1253            None of the above.\n",
       "...                                          ...\n",
       "Interaction_T1_8913          The paper/notebook.\n",
       "Interaction_T1_8967                    The food.\n",
       "Interaction_T2_1847           None of the above.\n",
       "Interaction_T2_3423                     Lied on.\n",
       "Interaction_T4_4181            Put down the bag.\n",
       "\n",
       "[1048 rows x 1 columns]"
      ]
     },
     "execution_count": 53,
     "metadata": {},
     "output_type": "execute_result"
    }
   ],
   "source": [
    "ans_df = \\\n",
    "    predictions_df[contains_answer]['answer'] \\\n",
    "    .apply(lambda x: re.findall(ans_regex_pattern, x)[-1]) \\\n",
    "    .apply(lambda x: x + '.' if not x.endswith('.') else x) \\\n",
    "    .to_frame(name='text')\n",
    "\n",
    "ans_df.rename(columns={0: 'text'}, inplace=True)\n",
    "\n",
    "ans_df['text'] = ans_df['text'].str.strip()\n",
    "ans_df\n"
   ]
  },
  {
   "cell_type": "code",
   "execution_count": 54,
   "metadata": {},
   "outputs": [
    {
     "name": "stdout",
     "output_type": "stream",
     "text": [
      "<class 'pandas.core.frame.DataFrame'>\n",
      "Index: 1048 entries, Feasibility_T5_102 to Interaction_T4_4181\n",
      "Data columns (total 1 columns):\n",
      " #   Column  Non-Null Count  Dtype \n",
      "---  ------  --------------  ----- \n",
      " 0   text    1048 non-null   object\n",
      "dtypes: object(1)\n",
      "memory usage: 48.7+ KB\n"
     ]
    }
   ],
   "source": [
    "ans_df.info()\n"
   ]
  },
  {
   "cell_type": "code",
   "execution_count": 55,
   "metadata": {},
   "outputs": [
    {
     "name": "stdout",
     "output_type": "stream",
     "text": [
      "We have 280 unique answers\n"
     ]
    }
   ],
   "source": [
    "freq = ans_df['text'].value_counts().reset_index()\n",
    "freq.columns = ['word', 'freq']\n",
    "\n",
    "print(f\"We have {freq.size} unique answers\")\n"
   ]
  },
  {
   "cell_type": "code",
   "execution_count": 56,
   "metadata": {},
   "outputs": [
    {
     "data": {
      "text/plain": [
       "text\n",
       "None of the above.         300\n",
       "Put down.                   37\n",
       "The bag.                    34\n",
       "The phone/camera.           25\n",
       "The blanket.                23\n",
       "                          ... \n",
       "Take the laptop.             1\n",
       "Take the towel.              1\n",
       "Close the refrigerator.      1\n",
       "Cradling the baby.           1\n",
       "Tidy up the blanket.         1\n",
       "Name: count, Length: 140, dtype: int64"
      ]
     },
     "execution_count": 56,
     "metadata": {},
     "output_type": "execute_result"
    }
   ],
   "source": [
    "ans_df['text'].value_counts()\n"
   ]
  },
  {
   "cell_type": "code",
   "execution_count": 57,
   "metadata": {},
   "outputs": [
    {
     "data": {
      "text/plain": [
       "<Axes: xlabel='freq', ylabel='word'>"
      ]
     },
     "execution_count": 57,
     "metadata": {},
     "output_type": "execute_result"
    },
    {
     "data": {
      "image/png": "[encoded data removed]",
      "text/plain": [
       "<Figure size 600x800 with 1 Axes>"
      ]
     },
     "metadata": {},
     "output_type": "display_data"
    }
   ],
   "source": [
    "plt.figure(figsize=(6, 8))\n",
    "sns.barplot(data=freq.sort_values('freq', ascending=False)[:50], x='freq', y='word')\n"
   ]
  },
  {
   "cell_type": "markdown",
   "metadata": {},
   "source": [
    "Let's do some visualization also for the ground truth data"
   ]
  },
  {
   "cell_type": "code",
   "execution_count": 58,
   "metadata": {},
   "outputs": [
    {
     "name": "stdout",
     "output_type": "stream",
     "text": [
      "We have 164 unique answers\n"
     ]
    }
   ],
   "source": [
    "print(f\"We have {gt_df['text'].nunique()} unique answers\")\n"
   ]
  },
  {
   "cell_type": "code",
   "execution_count": 59,
   "metadata": {},
   "outputs": [
    {
     "data": {
      "text/plain": [
       "<Axes: xlabel='freq', ylabel='word'>"
      ]
     },
     "execution_count": 59,
     "metadata": {},
     "output_type": "execute_result"
    },
    {
     "data": {
      "image/png": "[encoded data removed]",
      "text/plain": [
       "<Figure size 600x800 with 1 Axes>"
      ]
     },
     "metadata": {},
     "output_type": "display_data"
    }
   ],
   "source": [
    "freq = gt_df['text'].value_counts().reset_index()\n",
    "freq.columns = ['word', 'freq']\n",
    "\n",
    "plt.figure(figsize=(6, 8))\n",
    "sns.barplot(data=freq.sort_values('freq', ascending=False)[:50], x='freq', y='word')\n"
   ]
  },
  {
   "cell_type": "code",
   "execution_count": 60,
   "metadata": {},
   "outputs": [
    {
     "data": {
      "text/plain": [
       "(1048, 4)"
      ]
     },
     "execution_count": 60,
     "metadata": {},
     "output_type": "execute_result"
    }
   ],
   "source": [
    "# Inner join - keeps only indices present in both series\n",
    "\n",
    "ans_df.rename(columns={'text': 'pred_text'}, inplace=True)\n",
    "eval_df = gt_df.join(\n",
    "    ans_df, \n",
    "    how='inner' # we account also for samples without answers\n",
    ")\n",
    "\n",
    "eval_df.shape\n"
   ]
  },
  {
   "cell_type": "code",
   "execution_count": 61,
   "metadata": {},
   "outputs": [],
   "source": [
    "eval_df['text'] = eval_df['text'].str.lower()\n",
    "eval_df['text'] = eval_df['text'].str.replace('.', '')\n",
    "\n",
    "eval_df['pred_text'] = eval_df['pred_text'].str.lower()\n",
    "eval_df['pred_text'] = eval_df['pred_text'].str.replace('.', '')\n"
   ]
  },
  {
   "cell_type": "code",
   "execution_count": 62,
   "metadata": {},
   "outputs": [],
   "source": [
    "def accuracy(eval_df, on_what='text'):\n",
    "    hits_text = (eval_df[f'pred_{on_what}'].str.lower() == eval_df[on_what].str.lower()).sum()\n",
    "    \n",
    "\n",
    "    return hits_text/eval_df.shape[0]\n"
   ]
  },
  {
   "cell_type": "markdown",
   "metadata": {},
   "source": [
    "check if the equality with NA result in a false or is skipped"
   ]
  },
  {
   "cell_type": "code",
   "execution_count": 63,
   "metadata": {},
   "outputs": [
    {
     "name": "stdout",
     "output_type": "stream",
     "text": [
      "Real Accuracy: 38.07%\n"
     ]
    }
   ],
   "source": [
    "real_acc = accuracy(eval_df) * eval_df.shape[0] / gt_df.shape[0]\n",
    "\n",
    "print(f\"Real Accuracy: {real_acc:.2%}\")\n"
   ]
  },
  {
   "cell_type": "code",
   "execution_count": 64,
   "metadata": {},
   "outputs": [],
   "source": [
    "def print_acc(eval_df, acc_fn):\n",
    "    print(f\"{'Question type':<15}{'Total':^15}{'Accuracy':^10}\\n\")\n",
    "\n",
    "    total = eval_df.index.str.startswith('Interaction').sum()\n",
    "    acc = acc_fn(eval_df[eval_df.index.str.startswith('Interaction')])\n",
    "    print(f\"{'Interaction':<15}{total:^15}{acc:^10.2%}\")\n",
    "\n",
    "    total = eval_df.index.str.startswith('Sequence').sum()\n",
    "    acc = acc_fn(eval_df[eval_df.index.str.startswith('Sequence')])\n",
    "    print(f\"{'Sequence':<15}{total:^15}{acc:^10.2%}\")\n",
    "\n",
    "    total = eval_df.index.str.startswith('Prediction').sum()\n",
    "    acc = acc_fn(eval_df[eval_df.index.str.startswith('Prediction')])\n",
    "    print(f\"{'Prediction':<15}{total:^15}{acc:^10.2%}\")\n",
    "\n",
    "    total = eval_df.index.str.startswith('Feasibility').sum()\n",
    "    acc = acc_fn(eval_df[eval_df.index.str.startswith('Feasibility')])\n",
    "    print(f\"{'Feasibility':<15}{total:^15}{acc:^10.2%}\")\n"
   ]
  },
  {
   "cell_type": "code",
   "execution_count": 65,
   "metadata": {},
   "outputs": [
    {
     "name": "stdout",
     "output_type": "stream",
     "text": [
      "Question type       Total      Accuracy \n",
      "\n",
      "Interaction          298        44.97%  \n",
      "Sequence             291        35.40%  \n",
      "Prediction           239        38.49%  \n",
      "Feasibility          220        31.82%  \n"
     ]
    }
   ],
   "source": [
    "print_acc(eval_df, lambda x: accuracy(x, on_what='text'))\n"
   ]
  },
  {
   "cell_type": "code",
   "execution_count": 66,
   "metadata": {},
   "outputs": [
    {
     "name": "stdout",
     "output_type": "stream",
     "text": [
      "Question type       Total      Answered \n",
      "\n",
      "Interaction          298       100.00%  \n",
      "Sequence             291       100.00%  \n",
      "Prediction           239       100.00%  \n",
      "Feasibility          220       100.00%  \n",
      "Overall             1048       100.00%  \n"
     ]
    }
   ],
   "source": [
    "# % of answers conforming to template per category\n",
    "\n",
    "def print_ans_perc(eval_df, gt_df):\n",
    "    print(f\"{'Question type':<15}{'Total':^15}{'Answered':^10}\\n\")\n",
    "\n",
    "    total = gt_df.index.str.startswith('Interaction').sum()\n",
    "    acc = len(gt_df.index.intersection(eval_df[eval_df.index.str.startswith('Interaction')].index))/total\n",
    "    print(f\"{'Interaction':<15}{total:^15}{acc:^10.2%}\")\n",
    "\n",
    "    total = gt_df.index.str.startswith('Sequence').sum()\n",
    "    acc = len(gt_df.index.intersection(eval_df[eval_df.index.str.startswith('Sequence')].index))/total\n",
    "    print(f\"{'Sequence':<15}{total:^15}{acc:^10.2%}\")\n",
    "\n",
    "    total = gt_df.index.str.startswith('Prediction').sum()\n",
    "    acc = len(gt_df.index.intersection(eval_df[eval_df.index.str.startswith('Prediction')].index))/total\n",
    "    print(f\"{'Prediction':<15}{total:^15}{acc:^10.2%}\")\n",
    "\n",
    "    total = gt_df.index.str.startswith('Feasibility').sum()\n",
    "    acc = len(gt_df.index.intersection(eval_df[eval_df.index.str.startswith('Feasibility')].index))/total\n",
    "    print(f\"{'Feasibility':<15}{total:^15}{acc:^10.2%}\")\n",
    "\n",
    "    total = gt_df.shape[0]\n",
    "    acc = eval_df.shape[0]/total\n",
    "    print(f\"{'Overall':<15}{total:^15}{acc:^10.2%}\")\n",
    "\n",
    "print_ans_perc(eval_df, gt_df)\n"
   ]
  },
  {
   "cell_type": "code",
   "execution_count": 67,
   "metadata": {},
   "outputs": [
    {
     "data": {
      "text/html": [
       "<div>\n",
       "<style scoped>\n",
       "    .dataframe tbody tr th:only-of-type {\n",
       "        vertical-align: middle;\n",
       "    }\n",
       "\n",
       "    .dataframe tbody tr th {\n",
       "        vertical-align: top;\n",
       "    }\n",
       "\n",
       "    .dataframe thead th {\n",
       "        text-align: right;\n",
       "    }\n",
       "</style>\n",
       "<table border=\"1\" class=\"dataframe\">\n",
       "  <thead>\n",
       "    <tr style=\"text-align: right;\">\n",
       "      <th></th>\n",
       "      <th>question</th>\n",
       "      <th>choices</th>\n",
       "      <th>text</th>\n",
       "      <th>pred_text</th>\n",
       "    </tr>\n",
       "    <tr>\n",
       "      <th>id</th>\n",
       "      <th></th>\n",
       "      <th></th>\n",
       "      <th></th>\n",
       "      <th></th>\n",
       "    </tr>\n",
       "  </thead>\n",
       "  <tbody>\n",
       "    <tr>\n",
       "      <th>Feasibility_T5_102</th>\n",
       "      <td>Which object is the person able to throw after...</td>\n",
       "      <td>[{'choice_id': 0, 'choice': 'The bag.', 'choic...</td>\n",
       "      <td>the clothes</td>\n",
       "      <td>the bag</td>\n",
       "    </tr>\n",
       "    <tr>\n",
       "      <th>Feasibility_T2_860</th>\n",
       "      <td>What else is the person able to do with the wi...</td>\n",
       "      <td>[{'choice_id': 0, 'choice': 'Lie on the window...</td>\n",
       "      <td>close the window</td>\n",
       "      <td>none of the above</td>\n",
       "    </tr>\n",
       "    <tr>\n",
       "      <th>Feasibility_T2_556</th>\n",
       "      <td>What else is the person able to do with the cl...</td>\n",
       "      <td>[{'choice_id': 0, 'choice': 'Tidy up the close...</td>\n",
       "      <td>open the closet/cabinet</td>\n",
       "      <td>tidy up the closet/cabinet</td>\n",
       "    </tr>\n",
       "    <tr>\n",
       "      <th>Prediction_T1_2539</th>\n",
       "      <td>What will the person do next?</td>\n",
       "      <td>[{'choice_id': 0, 'choice': 'Sit on the floor....</td>\n",
       "      <td>sit on the floor</td>\n",
       "      <td>open the bag</td>\n",
       "    </tr>\n",
       "    <tr>\n",
       "      <th>Prediction_T4_1253</th>\n",
       "      <td>Which object would the person throw next after...</td>\n",
       "      <td>[{'choice_id': 0, 'choice': 'The pillow.', 'ch...</td>\n",
       "      <td>the shoe</td>\n",
       "      <td>none of the above</td>\n",
       "    </tr>\n",
       "    <tr>\n",
       "      <th>...</th>\n",
       "      <td>...</td>\n",
       "      <td>...</td>\n",
       "      <td>...</td>\n",
       "      <td>...</td>\n",
       "    </tr>\n",
       "    <tr>\n",
       "      <th>Interaction_T1_8913</th>\n",
       "      <td>Which object was taken by the person?</td>\n",
       "      <td>[{'choice_id': 0, 'choice': 'The paper/noteboo...</td>\n",
       "      <td>the paper/notebook</td>\n",
       "      <td>the paper/notebook</td>\n",
       "    </tr>\n",
       "    <tr>\n",
       "      <th>Interaction_T1_8967</th>\n",
       "      <td>Which object was taken by the person?</td>\n",
       "      <td>[{'choice_id': 0, 'choice': 'The towel.', 'cho...</td>\n",
       "      <td>the dish</td>\n",
       "      <td>the food</td>\n",
       "    </tr>\n",
       "    <tr>\n",
       "      <th>Interaction_T2_1847</th>\n",
       "      <td>What did the person do with the paper/notebook?</td>\n",
       "      <td>[{'choice_id': 0, 'choice': 'Put down.', 'choi...</td>\n",
       "      <td>took</td>\n",
       "      <td>none of the above</td>\n",
       "    </tr>\n",
       "    <tr>\n",
       "      <th>Interaction_T2_3423</th>\n",
       "      <td>What did the person do with the bed?</td>\n",
       "      <td>[{'choice_id': 0, 'choice': 'Sat on.', 'choice...</td>\n",
       "      <td>lied on</td>\n",
       "      <td>lied on</td>\n",
       "    </tr>\n",
       "    <tr>\n",
       "      <th>Interaction_T4_4181</th>\n",
       "      <td>What did the person do while they were wiping ...</td>\n",
       "      <td>[{'choice_id': 0, 'choice': 'Threw the bag.', ...</td>\n",
       "      <td>put down the bag</td>\n",
       "      <td>put down the bag</td>\n",
       "    </tr>\n",
       "  </tbody>\n",
       "</table>\n",
       "<p>1048 rows × 4 columns</p>\n",
       "</div>"
      ],
      "text/plain": [
       "                                                              question  \\\n",
       "id                                                                       \n",
       "Feasibility_T5_102   Which object is the person able to throw after...   \n",
       "Feasibility_T2_860   What else is the person able to do with the wi...   \n",
       "Feasibility_T2_556   What else is the person able to do with the cl...   \n",
       "Prediction_T1_2539                       What will the person do next?   \n",
       "Prediction_T4_1253   Which object would the person throw next after...   \n",
       "...                                                                ...   \n",
       "Interaction_T1_8913              Which object was taken by the person?   \n",
       "Interaction_T1_8967              Which object was taken by the person?   \n",
       "Interaction_T2_1847    What did the person do with the paper/notebook?   \n",
       "Interaction_T2_3423               What did the person do with the bed?   \n",
       "Interaction_T4_4181  What did the person do while they were wiping ...   \n",
       "\n",
       "                                                               choices  \\\n",
       "id                                                                       \n",
       "Feasibility_T5_102   [{'choice_id': 0, 'choice': 'The bag.', 'choic...   \n",
       "Feasibility_T2_860   [{'choice_id': 0, 'choice': 'Lie on the window...   \n",
       "Feasibility_T2_556   [{'choice_id': 0, 'choice': 'Tidy up the close...   \n",
       "Prediction_T1_2539   [{'choice_id': 0, 'choice': 'Sit on the floor....   \n",
       "Prediction_T4_1253   [{'choice_id': 0, 'choice': 'The pillow.', 'ch...   \n",
       "...                                                                ...   \n",
       "Interaction_T1_8913  [{'choice_id': 0, 'choice': 'The paper/noteboo...   \n",
       "Interaction_T1_8967  [{'choice_id': 0, 'choice': 'The towel.', 'cho...   \n",
       "Interaction_T2_1847  [{'choice_id': 0, 'choice': 'Put down.', 'choi...   \n",
       "Interaction_T2_3423  [{'choice_id': 0, 'choice': 'Sat on.', 'choice...   \n",
       "Interaction_T4_4181  [{'choice_id': 0, 'choice': 'Threw the bag.', ...   \n",
       "\n",
       "                                        text                   pred_text  \n",
       "id                                                                        \n",
       "Feasibility_T5_102               the clothes                     the bag  \n",
       "Feasibility_T2_860          close the window           none of the above  \n",
       "Feasibility_T2_556   open the closet/cabinet  tidy up the closet/cabinet  \n",
       "Prediction_T1_2539          sit on the floor                open the bag  \n",
       "Prediction_T4_1253                  the shoe           none of the above  \n",
       "...                                      ...                         ...  \n",
       "Interaction_T1_8913       the paper/notebook          the paper/notebook  \n",
       "Interaction_T1_8967                 the dish                    the food  \n",
       "Interaction_T2_1847                     took           none of the above  \n",
       "Interaction_T2_3423                  lied on                     lied on  \n",
       "Interaction_T4_4181         put down the bag            put down the bag  \n",
       "\n",
       "[1048 rows x 4 columns]"
      ]
     },
     "execution_count": 67,
     "metadata": {},
     "output_type": "execute_result"
    }
   ],
   "source": [
    "eval_df\n"
   ]
  }
 ],
 "metadata": {
  "kernelspec": {
   "display_name": "base",
   "language": "python",
   "name": "python3"
  },
  "language_info": {
   "codemirror_mode": {
    "name": "ipython",
    "version": 3
   },
   "file_extension": ".py",
   "mimetype": "text/x-python",
   "name": "python",
   "nbconvert_exporter": "python",
   "pygments_lexer": "ipython3",
   "version": "3.10.9"
  }
 },
 "nbformat": 4,
 "nbformat_minor": 2
}
