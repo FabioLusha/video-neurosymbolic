{
 "cells": [
  {
   "cell_type": "code",
   "execution_count": 144,
   "metadata": {},
   "outputs": [],
   "source": [
    "import random\n",
    "import json\n",
    "import re\n",
    "import os\n",
    "\n",
    "import numpy as np\n",
    "import pandas as pd\n",
    "\n",
    "import matplotlib.pyplot as plt\n",
    "import seaborn as sns\n",
    "\n",
    "from sklearn.metrics import confusion_matrix\n",
    "\n",
    "random.seed(6)\n",
    "np.random.seed(6)\n"
   ]
  },
  {
   "cell_type": "markdown",
   "metadata": {},
   "source": [
    "# Experiment ? - Deepseek-R1-7b (Qwen-based)\n",
    "\n",
    "In this experiment I feed the the model a revisioned version of the input, where the STSG is put the beginning of the prompt and the question with the alternatives at the end. Finally I ask the model to reason about the possible answer *step by step*, conditioning it to perform Zero-Shot-CoT (Prompt engineering technique where no example of thow to perform the reasoning is provided -- no in-context learning). Moreover, instead of asking the model to provide the answer on the same promtp, I instatied the model in multi-turn chat mode where, after the model gives the first response, a script sends an automatic reply asking to extract the final answer given by the model and give it a json format.\n",
    "\n",
    "**Parameters:**\n",
    "- model: Gemma3 12b\n",
    "- system prompt: MCQ_system_promtp_ZS_CoT.txt\n",
    "- user_prompt: MCQ_user_prompt_ZS_CoT_v2.txt\n",
    "- temperature: 0.1\n",
    "- sampling method: (default) top-p (p=0.9)\n"
   ]
  },
  {
   "cell_type": "markdown",
   "metadata": {},
   "source": [
    "## Prompts"
   ]
  },
  {
   "cell_type": "code",
   "execution_count": 145,
   "metadata": {},
   "outputs": [
    {
     "name": "stdout",
     "output_type": "stream",
     "text": [
      "You need to respond to reasoning questions by making logical inference on sequence of Scene-Graphs extracted from frames belonging to a video, called a Spatio-Temporal Scene Graph.\n",
      "\n",
      "IMPORTANT CLARIFICATIONS:\n",
      "- You will receive a question and Spatio-Temporal Scene-Graph\n",
      "- Each Scene-Graph is a static symbolic representation of the scene unfolding in the frame\n",
      "- The Scene-Graphs are ordered chronologically\n",
      "- The Scene-Graph is represented as a set of tuple in the format: subject - relationship - object\n",
      "- The Spatio-Temporal Scene-Graph is a cornologically sorted list of Scene-Graphs\n",
      "\n",
      "INSTRUCTIONS:\n",
      "- Read the entire Spatio-Temporal Scene-Graphs in chronological order and pay attention at the order of how events unfold.\n",
      "- Read the question and reason about the answer step by step.\n",
      "- In your answer include key events or relationships that help you in determing the correct answer.\n",
      "- Be careful to reproduce the chosen alternative as it is presented.\n"
     ]
    }
   ],
   "source": [
    "with open('../data/prompts/zero-shot-cot/MCQ_system_prompt_ZS_CoT.txt', 'r') as f:\n",
    "    pr = f.read()\n",
    "\n",
    "print(pr)\n"
   ]
  },
  {
   "cell_type": "code",
   "execution_count": 146,
   "metadata": {},
   "outputs": [
    {
     "name": "stdout",
     "output_type": "stream",
     "text": [
      "Please carefully read the following Spatio-Temporal Scene Graph delimited by the <STSG> tags and provide an answer to the question below:\n",
      "\n",
      "<STSG>\n",
      "{stsg}\n",
      "</STSG>\n",
      "\n",
      "Given the following question:\n",
      "<Q>\n",
      "{question}\n",
      "<Q>\n",
      "\n",
      "And the following alternatives:\n",
      "<Alternatives>\n",
      "A. {c1}\n",
      "B. {c2}\n",
      "C. {c3}\n",
      "D. {c4}\n",
      "</Alternatives>\n",
      "\n",
      "Provide an answer to the above question reasoning step by step on the Spatio-Temporal Scene-Graph (STSG) and choosing one of the alternatives.\n"
     ]
    }
   ],
   "source": [
    "with open('../data/prompts/zero-shot-cot/MCQ_user_prompt_ZS_CoT_v2.txt', 'r') as f:\n",
    "    pr = f.read()\n",
    "\n",
    "print(pr)\n"
   ]
  },
  {
   "cell_type": "code",
   "execution_count": 147,
   "metadata": {},
   "outputs": [
    {
     "name": "stdout",
     "output_type": "stream",
     "text": [
      "Therefore the final answer is?\n",
      "\n",
      "Your response must be provided in valid JSON format as follows:\n",
      "{\"answer\": \"your complete answer here\"}\n",
      "\n",
      "IMPORTANT: Always include both the letter (A, B, C, D, etc.) AND the full text of the answer in your response.\n",
      "Do not abbreviate or shorten the answer. For example, if the correct answer is \"A. the laptop\", your response \n",
      "should be {\"answer\": \"A. the laptop\"}, not {\"answer\": \"laptop\"} or {\"answer\": \"A\"}.\n"
     ]
    }
   ],
   "source": [
    "reply = \"\"\"\\\n",
    "Therefore the final answer is?\n",
    "\n",
    "Your response must be provided in valid JSON format as follows:\n",
    "{\"answer\": \"your complete answer here\"}\n",
    "\n",
    "IMPORTANT: Always include both the letter (A, B, C, D, etc.) AND the full text of the answer in your response.\n",
    "Do not abbreviate or shorten the answer. For example, if the correct answer is \"A. the laptop\", your response \n",
    "should be {\"answer\": \"A. the laptop\"}, not {\"answer\": \"laptop\"} or {\"answer\": \"A\"}.\\\n",
    "\"\"\"\n",
    "\n",
    "print(reply)\n"
   ]
  },
  {
   "cell_type": "markdown",
   "metadata": {},
   "source": [
    "Let's load the ground truth from the `STAR_QA_question_and_stsg_val.json` file where we extracted QA and spatio-temporal scene graphs"
   ]
  },
  {
   "cell_type": "code",
   "execution_count": null,
   "metadata": {},
   "outputs": [
    {
     "data": {
      "text/html": [
       "<div>\n",
       "<style scoped>\n",
       "    .dataframe tbody tr th:only-of-type {\n",
       "        vertical-align: middle;\n",
       "    }\n",
       "\n",
       "    .dataframe tbody tr th {\n",
       "        vertical-align: top;\n",
       "    }\n",
       "\n",
       "    .dataframe thead th {\n",
       "        text-align: right;\n",
       "    }\n",
       "</style>\n",
       "<table border=\"1\" class=\"dataframe\">\n",
       "  <thead>\n",
       "    <tr style=\"text-align: right;\">\n",
       "      <th></th>\n",
       "      <th>question</th>\n",
       "      <th>choices</th>\n",
       "      <th>num</th>\n",
       "      <th>text</th>\n",
       "    </tr>\n",
       "    <tr>\n",
       "      <th>id</th>\n",
       "      <th></th>\n",
       "      <th></th>\n",
       "      <th></th>\n",
       "      <th></th>\n",
       "    </tr>\n",
       "  </thead>\n",
       "  <tbody>\n",
       "    <tr>\n",
       "      <th>Interaction_T1_13</th>\n",
       "      <td>Which object was tidied up by the person?</td>\n",
       "      <td>{'0': 'The closet/cabinet.', '1': 'The blanket...</td>\n",
       "      <td>2</td>\n",
       "      <td>The clothes.</td>\n",
       "    </tr>\n",
       "    <tr>\n",
       "      <th>Interaction_T1_14</th>\n",
       "      <td>Which object was tidied up by the person?</td>\n",
       "      <td>{'0': 'The blanket.', '1': 'The table.', '2': ...</td>\n",
       "      <td>2</td>\n",
       "      <td>The clothes.</td>\n",
       "    </tr>\n",
       "    <tr>\n",
       "      <th>Interaction_T1_31</th>\n",
       "      <td>Which object was thrown by the person?</td>\n",
       "      <td>{'0': 'The pillow.', '1': 'The bag.', '2': 'Th...</td>\n",
       "      <td>2</td>\n",
       "      <td>The clothes.</td>\n",
       "    </tr>\n",
       "    <tr>\n",
       "      <th>Interaction_T1_32</th>\n",
       "      <td>Which object was put down by the person?</td>\n",
       "      <td>{'0': 'The food.', '1': 'The shoe.', '2': 'The...</td>\n",
       "      <td>1</td>\n",
       "      <td>The shoe.</td>\n",
       "    </tr>\n",
       "    <tr>\n",
       "      <th>Interaction_T1_40</th>\n",
       "      <td>Which object was tidied up by the person?</td>\n",
       "      <td>{'0': 'The broom.', '1': 'The closet/cabinet.'...</td>\n",
       "      <td>1</td>\n",
       "      <td>The closet/cabinet.</td>\n",
       "    </tr>\n",
       "    <tr>\n",
       "      <th>...</th>\n",
       "      <td>...</td>\n",
       "      <td>...</td>\n",
       "      <td>...</td>\n",
       "      <td>...</td>\n",
       "    </tr>\n",
       "    <tr>\n",
       "      <th>Feasibility_T6_1453</th>\n",
       "      <td>What is the person able to do after taking the...</td>\n",
       "      <td>{'0': 'Wash the table.', '1': 'Take the box.',...</td>\n",
       "      <td>0</td>\n",
       "      <td>Wash the table.</td>\n",
       "    </tr>\n",
       "    <tr>\n",
       "      <th>Feasibility_T6_1454</th>\n",
       "      <td>What is the person able to do after walking th...</td>\n",
       "      <td>{'0': 'Take the towel.', '1': 'Throw the bag.'...</td>\n",
       "      <td>0</td>\n",
       "      <td>Take the towel.</td>\n",
       "    </tr>\n",
       "    <tr>\n",
       "      <th>Feasibility_T6_1455</th>\n",
       "      <td>What is the person able to do after walking th...</td>\n",
       "      <td>{'0': 'Throw the bag.', '1': 'Wash the table.'...</td>\n",
       "      <td>1</td>\n",
       "      <td>Wash the table.</td>\n",
       "    </tr>\n",
       "    <tr>\n",
       "      <th>Feasibility_T6_1456</th>\n",
       "      <td>What is the person able to do after putting th...</td>\n",
       "      <td>{'0': 'Hold the food.', '1': 'Open the closet/...</td>\n",
       "      <td>3</td>\n",
       "      <td>Wash the table.</td>\n",
       "    </tr>\n",
       "    <tr>\n",
       "      <th>Feasibility_T6_1468</th>\n",
       "      <td>What is the person able to do after opening th...</td>\n",
       "      <td>{'0': 'Wash the window.', '1': 'Hold the food....</td>\n",
       "      <td>1</td>\n",
       "      <td>Hold the food.</td>\n",
       "    </tr>\n",
       "  </tbody>\n",
       "</table>\n",
       "<p>7098 rows × 4 columns</p>\n",
       "</div>"
      ],
      "text/plain": [
       "                                                              question  \\\n",
       "id                                                                       \n",
       "Interaction_T1_13            Which object was tidied up by the person?   \n",
       "Interaction_T1_14            Which object was tidied up by the person?   \n",
       "Interaction_T1_31               Which object was thrown by the person?   \n",
       "Interaction_T1_32             Which object was put down by the person?   \n",
       "Interaction_T1_40            Which object was tidied up by the person?   \n",
       "...                                                                ...   \n",
       "Feasibility_T6_1453  What is the person able to do after taking the...   \n",
       "Feasibility_T6_1454  What is the person able to do after walking th...   \n",
       "Feasibility_T6_1455  What is the person able to do after walking th...   \n",
       "Feasibility_T6_1456  What is the person able to do after putting th...   \n",
       "Feasibility_T6_1468  What is the person able to do after opening th...   \n",
       "\n",
       "                                                               choices num  \\\n",
       "id                                                                           \n",
       "Interaction_T1_13    {'0': 'The closet/cabinet.', '1': 'The blanket...   2   \n",
       "Interaction_T1_14    {'0': 'The blanket.', '1': 'The table.', '2': ...   2   \n",
       "Interaction_T1_31    {'0': 'The pillow.', '1': 'The bag.', '2': 'Th...   2   \n",
       "Interaction_T1_32    {'0': 'The food.', '1': 'The shoe.', '2': 'The...   1   \n",
       "Interaction_T1_40    {'0': 'The broom.', '1': 'The closet/cabinet.'...   1   \n",
       "...                                                                ...  ..   \n",
       "Feasibility_T6_1453  {'0': 'Wash the table.', '1': 'Take the box.',...   0   \n",
       "Feasibility_T6_1454  {'0': 'Take the towel.', '1': 'Throw the bag.'...   0   \n",
       "Feasibility_T6_1455  {'0': 'Throw the bag.', '1': 'Wash the table.'...   1   \n",
       "Feasibility_T6_1456  {'0': 'Hold the food.', '1': 'Open the closet/...   3   \n",
       "Feasibility_T6_1468  {'0': 'Wash the window.', '1': 'Hold the food....   1   \n",
       "\n",
       "                                    text  \n",
       "id                                        \n",
       "Interaction_T1_13           The clothes.  \n",
       "Interaction_T1_14           The clothes.  \n",
       "Interaction_T1_31           The clothes.  \n",
       "Interaction_T1_32              The shoe.  \n",
       "Interaction_T1_40    The closet/cabinet.  \n",
       "...                                  ...  \n",
       "Feasibility_T6_1453      Wash the table.  \n",
       "Feasibility_T6_1454      Take the towel.  \n",
       "Feasibility_T6_1455      Wash the table.  \n",
       "Feasibility_T6_1456      Wash the table.  \n",
       "Feasibility_T6_1468       Hold the food.  \n",
       "\n",
       "[7098 rows x 4 columns]"
      ]
     },
     "execution_count": 148,
     "metadata": {},
     "output_type": "execute_result"
    }
   ],
   "source": [
    "ground_truth = []\n",
    "\n",
    "with open('../data/datasets/STAR_QA_and_stsg_val.json') as f:\n",
    "    data = json.load(f)\n",
    "    ground_truth = [{\n",
    "        'id': sample['question_id'],\n",
    "        'question': sample['question'],\n",
    "        'choices': sample['choices'],\n",
    "        'num': sample['answer'],\n",
    "        'text': sample['choices'][str(sample['answer'])]\n",
    "    } for sample in data]\n",
    "\n",
    "\n",
    "# we keep num as str so we can directly access choices dictionaries\n",
    "gt_df = pd.DataFrame(ground_truth).astype({'id': 'string', 'num': 'string', 'text': 'string'})\n",
    "gt_df.set_index('id', inplace=True)\n",
    "gt_df\n"
   ]
  },
  {
   "cell_type": "markdown",
   "metadata": {},
   "source": [
    "## Loading predicted answers evaluation"
   ]
  },
  {
   "cell_type": "code",
   "execution_count": 149,
   "metadata": {},
   "outputs": [
    {
     "data": {
      "text/html": [
       "<div>\n",
       "<style scoped>\n",
       "    .dataframe tbody tr th:only-of-type {\n",
       "        vertical-align: middle;\n",
       "    }\n",
       "\n",
       "    .dataframe tbody tr th {\n",
       "        vertical-align: top;\n",
       "    }\n",
       "\n",
       "    .dataframe thead th {\n",
       "        text-align: right;\n",
       "    }\n",
       "</style>\n",
       "<table border=\"1\" class=\"dataframe\">\n",
       "  <thead>\n",
       "    <tr style=\"text-align: right;\">\n",
       "      <th></th>\n",
       "      <th>chat_history</th>\n",
       "    </tr>\n",
       "    <tr>\n",
       "      <th>id</th>\n",
       "      <th></th>\n",
       "    </tr>\n",
       "  </thead>\n",
       "  <tbody>\n",
       "    <tr>\n",
       "      <th>Interaction_T1_13</th>\n",
       "      <td>[{'role': 'user', 'content': \"Please carefully...</td>\n",
       "    </tr>\n",
       "    <tr>\n",
       "      <th>Interaction_T1_14</th>\n",
       "      <td>[{'role': 'user', 'content': \"Please carefully...</td>\n",
       "    </tr>\n",
       "    <tr>\n",
       "      <th>Interaction_T1_31</th>\n",
       "      <td>[{'role': 'user', 'content': \"Please carefully...</td>\n",
       "    </tr>\n",
       "    <tr>\n",
       "      <th>Interaction_T1_32</th>\n",
       "      <td>[{'role': 'user', 'content': \"Please carefully...</td>\n",
       "    </tr>\n",
       "    <tr>\n",
       "      <th>Interaction_T1_40</th>\n",
       "      <td>[{'role': 'user', 'content': \"Please carefully...</td>\n",
       "    </tr>\n",
       "    <tr>\n",
       "      <th>...</th>\n",
       "      <td>...</td>\n",
       "    </tr>\n",
       "    <tr>\n",
       "      <th>Feasibility_T6_1453</th>\n",
       "      <td>[{'role': 'user', 'content': \"Please carefully...</td>\n",
       "    </tr>\n",
       "    <tr>\n",
       "      <th>Feasibility_T6_1454</th>\n",
       "      <td>[{'role': 'user', 'content': \"Please carefully...</td>\n",
       "    </tr>\n",
       "    <tr>\n",
       "      <th>Feasibility_T6_1455</th>\n",
       "      <td>[{'role': 'user', 'content': \"Please carefully...</td>\n",
       "    </tr>\n",
       "    <tr>\n",
       "      <th>Feasibility_T6_1456</th>\n",
       "      <td>[{'role': 'user', 'content': \"Please carefully...</td>\n",
       "    </tr>\n",
       "    <tr>\n",
       "      <th>Feasibility_T6_1468</th>\n",
       "      <td>[{'role': 'user', 'content': \"Please carefully...</td>\n",
       "    </tr>\n",
       "  </tbody>\n",
       "</table>\n",
       "<p>7098 rows × 1 columns</p>\n",
       "</div>"
      ],
      "text/plain": [
       "                                                          chat_history\n",
       "id                                                                    \n",
       "Interaction_T1_13    [{'role': 'user', 'content': \"Please carefully...\n",
       "Interaction_T1_14    [{'role': 'user', 'content': \"Please carefully...\n",
       "Interaction_T1_31    [{'role': 'user', 'content': \"Please carefully...\n",
       "Interaction_T1_32    [{'role': 'user', 'content': \"Please carefully...\n",
       "Interaction_T1_40    [{'role': 'user', 'content': \"Please carefully...\n",
       "...                                                                ...\n",
       "Feasibility_T6_1453  [{'role': 'user', 'content': \"Please carefully...\n",
       "Feasibility_T6_1454  [{'role': 'user', 'content': \"Please carefully...\n",
       "Feasibility_T6_1455  [{'role': 'user', 'content': \"Please carefully...\n",
       "Feasibility_T6_1456  [{'role': 'user', 'content': \"Please carefully...\n",
       "Feasibility_T6_1468  [{'role': 'user', 'content': \"Please carefully...\n",
       "\n",
       "[7098 rows x 1 columns]"
      ]
     },
     "execution_count": 149,
     "metadata": {},
     "output_type": "execute_result"
    }
   ],
   "source": [
    "predictions = []\n",
    "with open('../outputs/responses_deepseek-r1:7b_20250404_10:41:00.jsonl') as f:\n",
    "    predictions = [json.loads(line) for line in f.readlines()]\n",
    "\n",
    "# transforming the id key from `qid` to `id` for consistency and `response` to `answer`\n",
    "predictions_df = pd.DataFrame(predictions, dtype='string').rename(columns={'qid':'id', 'response':'answer'})\n",
    "predictions_df.set_index('id', inplace=True)\n",
    "predictions_df\n"
   ]
  },
  {
   "cell_type": "code",
   "execution_count": 150,
   "metadata": {},
   "outputs": [
    {
     "data": {
      "text/html": [
       "<div>\n",
       "<style scoped>\n",
       "    .dataframe tbody tr th:only-of-type {\n",
       "        vertical-align: middle;\n",
       "    }\n",
       "\n",
       "    .dataframe tbody tr th {\n",
       "        vertical-align: top;\n",
       "    }\n",
       "\n",
       "    .dataframe thead th {\n",
       "        text-align: right;\n",
       "    }\n",
       "</style>\n",
       "<table border=\"1\" class=\"dataframe\">\n",
       "  <thead>\n",
       "    <tr style=\"text-align: right;\">\n",
       "      <th></th>\n",
       "      <th>chat_history</th>\n",
       "    </tr>\n",
       "    <tr>\n",
       "      <th>id</th>\n",
       "      <th></th>\n",
       "    </tr>\n",
       "  </thead>\n",
       "  <tbody>\n",
       "    <tr>\n",
       "      <th>Interaction_T1_13</th>\n",
       "      <td>[{'role': 'user', 'content': 'Please carefully...</td>\n",
       "    </tr>\n",
       "    <tr>\n",
       "      <th>Interaction_T1_14</th>\n",
       "      <td>[{'role': 'user', 'content': 'Please carefully...</td>\n",
       "    </tr>\n",
       "    <tr>\n",
       "      <th>Interaction_T1_31</th>\n",
       "      <td>[{'role': 'user', 'content': 'Please carefully...</td>\n",
       "    </tr>\n",
       "    <tr>\n",
       "      <th>Interaction_T1_32</th>\n",
       "      <td>[{'role': 'user', 'content': 'Please carefully...</td>\n",
       "    </tr>\n",
       "    <tr>\n",
       "      <th>Interaction_T1_40</th>\n",
       "      <td>[{'role': 'user', 'content': 'Please carefully...</td>\n",
       "    </tr>\n",
       "    <tr>\n",
       "      <th>...</th>\n",
       "      <td>...</td>\n",
       "    </tr>\n",
       "    <tr>\n",
       "      <th>Feasibility_T6_1453</th>\n",
       "      <td>[{'role': 'user', 'content': 'Please carefully...</td>\n",
       "    </tr>\n",
       "    <tr>\n",
       "      <th>Feasibility_T6_1454</th>\n",
       "      <td>[{'role': 'user', 'content': 'Please carefully...</td>\n",
       "    </tr>\n",
       "    <tr>\n",
       "      <th>Feasibility_T6_1455</th>\n",
       "      <td>[{'role': 'user', 'content': 'Please carefully...</td>\n",
       "    </tr>\n",
       "    <tr>\n",
       "      <th>Feasibility_T6_1456</th>\n",
       "      <td>[{'role': 'user', 'content': 'Please carefully...</td>\n",
       "    </tr>\n",
       "    <tr>\n",
       "      <th>Feasibility_T6_1468</th>\n",
       "      <td>[{'role': 'user', 'content': 'Please carefully...</td>\n",
       "    </tr>\n",
       "  </tbody>\n",
       "</table>\n",
       "<p>7098 rows × 1 columns</p>\n",
       "</div>"
      ],
      "text/plain": [
       "                                                          chat_history\n",
       "id                                                                    \n",
       "Interaction_T1_13    [{'role': 'user', 'content': 'Please carefully...\n",
       "Interaction_T1_14    [{'role': 'user', 'content': 'Please carefully...\n",
       "Interaction_T1_31    [{'role': 'user', 'content': 'Please carefully...\n",
       "Interaction_T1_32    [{'role': 'user', 'content': 'Please carefully...\n",
       "Interaction_T1_40    [{'role': 'user', 'content': 'Please carefully...\n",
       "...                                                                ...\n",
       "Feasibility_T6_1453  [{'role': 'user', 'content': 'Please carefully...\n",
       "Feasibility_T6_1454  [{'role': 'user', 'content': 'Please carefully...\n",
       "Feasibility_T6_1455  [{'role': 'user', 'content': 'Please carefully...\n",
       "Feasibility_T6_1456  [{'role': 'user', 'content': 'Please carefully...\n",
       "Feasibility_T6_1468  [{'role': 'user', 'content': 'Please carefully...\n",
       "\n",
       "[7098 rows x 1 columns]"
      ]
     },
     "execution_count": 150,
     "metadata": {},
     "output_type": "execute_result"
    }
   ],
   "source": [
    "predictions_df['chat_history'] = \\\n",
    "    predictions_df['chat_history'] \\\n",
    "    .apply(lambda x: eval(x))\n",
    "\n",
    "predictions_df\n"
   ]
  },
  {
   "cell_type": "code",
   "execution_count": 151,
   "metadata": {},
   "outputs": [],
   "source": [
    "predictions_df['answer'] = predictions_df['chat_history'].apply(lambda x: x[-1]['content'])\n"
   ]
  },
  {
   "cell_type": "code",
   "execution_count": 152,
   "metadata": {},
   "outputs": [
    {
     "data": {
      "text/plain": [
       "id\n",
       "Interaction_T1_13    <think>\\nAlright, so I need to figure out whic...\n",
       "Interaction_T1_14    <think>\\nAlright, so I'm trying to figure out ...\n",
       "Interaction_T1_31    <think>\\nAlright, so I need to figure out whic...\n",
       "Interaction_T1_32    <think>\\nAlright, so I need to figure out whic...\n",
       "Interaction_T1_40    <think>\\nAlright, so I need to figure out whic...\n",
       "Name: answer, dtype: object"
      ]
     },
     "execution_count": 152,
     "metadata": {},
     "output_type": "execute_result"
    }
   ],
   "source": [
    "predictions_df['answer'].iloc[0:5] \n"
   ]
  },
  {
   "cell_type": "code",
   "execution_count": 153,
   "metadata": {},
   "outputs": [
    {
     "name": "stdout",
     "output_type": "stream",
     "text": [
      "Total answers: 7098\n",
      "Answers following JSON template: 6378\n",
      "Percentage following JSON template: 89.86%\n"
     ]
    }
   ],
   "source": [
    "\n",
    "# Create mask for answers that follow JSON syntax\n",
    "re_pattern = r'^(?:<think>.*(?:</think>)?)\\s+({[^}]+})(\\s+)?$'\n",
    "json_mask = predictions_df['answer'].str.match(re_pattern, flags=re.DOTALL)\n",
    "matches_json_template = json_mask.sum()\n",
    "\n",
    "print(f\"Total answers: {len(predictions_df)}\")\n",
    "print(f\"Answers following JSON template: {matches_json_template}\")\n",
    "print(f\"Percentage following JSON template: {(matches_json_template/len(predictions_df))*100:.2f}%\")\n"
   ]
  },
  {
   "cell_type": "code",
   "execution_count": 154,
   "metadata": {},
   "outputs": [
    {
     "data": {
      "text/plain": [
       "id\n",
       "Interaction_T1_14      <think>\\nAlright, so I'm trying to figure out ...\n",
       "Interaction_T1_81      <think>\\nAlright, so I need to figure out whic...\n",
       "Interaction_T1_139     <think>\\nAlright, so I need to figure out whic...\n",
       "Interaction_T1_210     <think>\\nAlright, so I'm trying to figure out ...\n",
       "Interaction_T1_238     <think>\\nAlright, so I need to figure out whic...\n",
       "                                             ...                        \n",
       "Feasibility_T6_1327    <think>\\nAlright, so I need to figure out what...\n",
       "Feasibility_T6_1405    <think>\\nAlright, so I need to figure out what...\n",
       "Feasibility_T6_1449    <think>\\nAlright, so I'm trying to figure out ...\n",
       "Feasibility_T6_1454    <think>\\nAlright, so I need to figure out what...\n",
       "Feasibility_T6_1468    <think>\\nAlright, so I need to figure out what...\n",
       "Name: answer, Length: 720, dtype: object"
      ]
     },
     "execution_count": 154,
     "metadata": {},
     "output_type": "execute_result"
    }
   ],
   "source": [
    "predictions_df.loc[~json_mask, 'answer']\n"
   ]
  },
  {
   "cell_type": "code",
   "execution_count": 155,
   "metadata": {},
   "outputs": [
    {
     "data": {
      "text/plain": [
       "'<think>\\nAlright, so I\\'m trying to figure out which object was tidied up by the person based on the given STSG data and the alternatives provided.\\n\\nFirst, I need to understand what an STSG is. From what I remember, it\\'s a way to represent spatial-temporal relationships between objects in a scene. It uses nodes for objects and edges for their interactions or positions relative to each other. So, the data inside the <STSG> tags are these nodes and edges that describe how different things are positioned around a person.\\n\\nLooking at the question: \"Which object was tidied up by the person?\" The alternatives are A. The blanket, B. The table, C. The clothes, D. The closet/cabinet.\\n\\nI think \"tidied up\" implies that someone has cleaned or organized something, so it\\'s likely an item that\\'s been moved to a specific place, maybe away from where it was before. So I\\'m looking for an object that the person has moved to a particular location, possibly putting things away neatly.\\n\\nNow, let me look at the STSG data provided. It\\'s a list of lists, each containing pairs like \\'person - holding - towel\\' or \\'person - in_front_of - towel\\'. These describe how different objects are positioned relative to the person and other objects.\\n\\nI need to find if any object is consistently moved by the person into a tidier location. Let me scan through the data:\\n\\n- The first list has \\'person - holding - towel\\', which suggests the person is holding a towel.\\n- Other lists show the person in front of or holding other items like clothes, blankets, etc.\\n\\nI notice that in several entries, the person is holding and moving things around. For example, there\\'s an entry where the person is holding a towel and another where they\\'re holding clothes. But I\\'m looking for something that was tidied up, so maybe moved away from somewhere else.\\n\\nLooking at the later lists, I see \\'person - in_front_of - clothes\\' and \\'person - in_front_of - blanket\\'. This suggests the person has the clothes and blanket in front of them. Maybe these items were previously elsewhere, like on a table or closet, and now they\\'re being tidied up by placing them in front.\\n\\nThe alternative B is the table, but I don\\'t see any mention of the table in the STSG data. The alternatives C (clothes) and A (blanket) are both mentioned multiple times as things the person is holding or in front of. D is the closet/cabinet, which isn\\'t mentioned either.\\n\\nWait, maybe \"tidied up\" refers to moving items into a specific place like a closet. But I don\\'t see any entries about the person putting clothes or blankets into a closet. The data only shows them being held and positioned relative to each other.\\n\\nAlternatively, if we consider that tidying up involves organizing things neatly, perhaps the person is arranging clothes on a table (which isn\\'t mentioned) or moving them into a closet. But since the STSG doesn\\'t mention the table or closet, maybe the answer is based on inferred movement.\\n\\nLooking again, in some lists, the person is holding and placing items like towels and blankets. If these were previously on a table, then moving them to be held by the person might mean they\\'re tidied up. But without explicit data about the table, it\\'s hard to confirm.\\n\\nAlternatively, maybe \"clothes\" being mentioned multiple times as being held or in front suggests that they are tidy because they\\'re organized around the person. But I\\'m not sure if that counts as tidying up a specific item like a blanket.\\n\\nWait, another angle: sometimes when you tidy something up, it\\'s moved to a specific location where it can be stored away. So maybe the person is moving clothes into a closet or cabinet (D), but again, D isn\\'t mentioned in the data.\\n\\nAlternatively, perhaps \"clothes\" are being tidied because they\\'re being held and positioned around the person, making them tidy. But I\\'m not certain.\\n\\nWait, looking at the question again: it\\'s asking which object was tidied up by the person. So maybe the answer is that the person tidied up their clothes or the blanket. Since both are mentioned multiple times as being held or in front of the person, perhaps either could be considered tidy.\\n\\nBut considering the options, A is the blanket, and D is the closet/cabinet. Since the data mentions the person holding and placing the blanket (e.g., \\'person - holding - blanket\\', \\'person - in_front_of - blanket\\'), maybe the person tidied up their clothes by putting them in front of them, which could imply they were tidy.\\n\\nAlternatively, perhaps \"clothes\" are being tidied because they\\'re organized around the person. But since C is an option and it\\'s mentioned multiple times, I\\'m leaning towards that.\\n\\nBut wait, looking at the data again, there\\'s a list where \\'person - in_front_of - clothes\\' appears, which might mean the clothes were placed in front of the person, perhaps indicating they\\'re tidy because they\\'re organized neatly around them. So maybe C is the answer.\\n\\nHowever, I\\'m still not entirely sure. Maybe A is better because the data shows multiple instances of the blanket being held and positioned, suggesting it\\'s tidied up.\\n\\nHmm, this is a bit confusing. I think I need to make a decision based on the most consistent mention.\\n</think>\\n\\nThe object that was tidied up by the person is:\\n\\n**C. The clothes**\\n\\nStep-by-step explanation:\\n- The STSG data shows multiple instances of the person holding and positioning clothes around them, suggesting they are organized neatly.\\n\\nAnswer: C. The clothes.'"
      ]
     },
     "execution_count": 155,
     "metadata": {},
     "output_type": "execute_result"
    }
   ],
   "source": [
    "neg_test = predictions_df.loc[~json_mask, 'answer'].loc['Interaction_T1_14']\n",
    "\n",
    "neg_test\n"
   ]
  },
  {
   "cell_type": "code",
   "execution_count": 156,
   "metadata": {},
   "outputs": [
    {
     "data": {
      "text/plain": [
       "[{'role': 'user',\n",
       "  'content': \"Please carefully read the following Spatio-Temporal Scene Graph delimited by the <STSG> tags and provide an answer to the question below:\\n\\n<STSG>\\n[['person - holding - towel', 'person - in_front_of - towel', 'person - holding - clothes', 'person - in_front_of - clothes', 'person - holding - blanket', 'person - in_front_of - blanket'], ['person - holding - towel', 'person - in_front_of - towel', 'person - holding - clothes', 'person - in_front_of - clothes', 'person - in_front_of - blanket', 'person - on_the_side_of - blanket'], ['person - holding - towel', 'person - in_front_of - towel', 'person - holding - clothes', 'person - in_front_of - clothes', 'person - in_front_of - blanket'], ['person - holding - clothes', 'person - in_front_of - clothes'], ['person - in_front_of - towel', 'person - holding - clothes', 'person - in_front_of - clothes', 'person - holding - blanket', 'person - in_front_of - blanket'], ['person - in_front_of - clothes', 'person - holding - blanket', 'person - in_front_of - blanket', 'person - on_the_side_of - blanket'], ['person - touching - towel', 'person - in_front_of - towel', 'person - in_front_of - clothes', 'person - holding - blanket', 'person - in_front_of - blanket'], ['person - touching - towel', 'person - in_front_of - towel', 'person - touching - clothes', 'person - in_front_of - clothes', 'person - touching - blanket', 'person - in_front_of - blanket'], ['person - in_front_of - clothes', 'person - holding - blanket', 'person - in_front_of - blanket', 'person - on_the_side_of - blanket'], ['person - holding - towel', 'person - in_front_of - towel', 'person - in_front_of - clothes', 'person - holding - blanket', 'person - in_front_of - blanket', 'person - on_the_side_of - blanket'], ['person - holding - towel', 'person - in_front_of - towel', 'person - holding - blanket', 'person - in_front_of - blanket'], ['person - holding - towel', 'person - in_front_of - towel', 'person - in_front_of - clothes'], ['person - in_front_of - clothes', 'person - holding - blanket', 'person - in_front_of - blanket'], ['person - in_front_of - towel', 'person - in_front_of - clothes'], ['person - holding - blanket', 'person - in_front_of - blanket'], ['person - in_front_of - towel', 'person - in_front_of - clothes', 'person - holding - blanket', 'person - in_front_of - blanket', 'person - on_the_side_of - blanket'], ['person - holding - towel', 'person - in_front_of - towel', 'person - holding - clothes', 'person - in_front_of - clothes', 'person - holding - blanket', 'person - in_front_of - blanket'], ['person - touching - clothes', 'person - in_front_of - clothes'], ['person - in_front_of - towel', 'person - in_front_of - clothes'], ['person - in_front_of - clothes', 'person - in_front_of - blanket'], ['person - in_front_of - clothes', 'person - in_front_of - blanket', 'person - on_the_side_of - blanket'], ['person - in_front_of - towel', 'person - in_front_of - clothes'], ['person - in_front_of - towel', 'person - in_front_of - clothes']]\\n</STSG>\\n\\nGiven the following question:\\n<Q>\\nWhich object was tidied up by the person?\\n<Q>\\n\\nAnd the following alternatives:\\n<Alternatives>\\nA. The blanket.\\nB. The table.\\nC. The clothes.\\nD. The closet/cabinet.\\n</Alternatives>\\n\\nProvide an answer to the above question reasoning step by step on the Spatio-Temporal Scene-Graph (STSG) and choosing one of the alternatives.\"},\n",
       " {'content': '<think>\\nOkay, so I\\'m trying to figure out which object was tidied up by the person based on the given STSG data and the alternatives provided. Let me break this down step by step.\\n\\nFirst, I need to understand what an STSG is. From what I remember, it\\'s a way to represent spatial-temporal relationships between objects in a scene. It uses nodes for objects and edges for their interactions or positions relative to each other. So, the data inside the <STSG> tags are these nodes and edges that describe how different things are positioned around a person.\\n\\nLooking at the question: \"Which object was tidied up by the person?\" The alternatives are A. The blanket, B. The table, C. The clothes, D. The closet/cabinet.\\n\\nI think \"tidied up\" implies that someone has cleaned or organized something, so it\\'s likely an item that\\'s been put in a specific place, maybe away from where it was before. So I\\'m looking for an object that the person moved to a particular location, possibly putting things away neatly.\\n\\nNow, let me look at the STSG data provided. It\\'s a list of lists, each containing pairs like \\'person - holding - towel\\' or \\'person - in_front_of - towel\\'. These describe how different objects are positioned relative to the person and other objects.\\n\\nI need to find if any object is consistently moved by the person into a tidier location. Let me scan through the data:\\n\\n- The first list has \\'person - holding - towel\\', which suggests the person is holding a towel.\\n- Other lists show the person in front of or holding other items like clothes, blankets, etc.\\n\\nI notice that in several entries, the person is holding and moving things around. For example, there\\'s an entry where the person is holding a towel and another where they\\'re holding clothes. But I\\'m looking for something that was tidied up, so maybe moved away from somewhere else.\\n\\nLooking at the later lists, I see \\'person - in_front_of - clothes\\' and \\'person - in_front_of - blanket\\'. This suggests the person has the clothes and blanket in front of them. Maybe these items were previously elsewhere, like on a table or closet, and now they\\'re being tidied up by placing them in front.\\n\\nThe alternative B is the table, but I don\\'t see any mention of the table in the STSG data. The alternatives C (clothes) and A (blanket) are both mentioned multiple times as things the person is holding or in front of. D is the closet/cabinet, which isn\\'t mentioned either.\\n\\nWait, maybe \"tidied up\" refers to moving items into a specific place like a closet. But I don\\'t see any entries about the person putting clothes or blankets into a closet. The data only shows them being held and positioned relative to each other.\\n\\nAlternatively, if we consider that tidying up involves organizing things neatly, perhaps the person is arranging clothes on a table (which isn\\'t mentioned) or moving them into a closet. But since the STSG doesn\\'t mention the table or closet, maybe the answer is based on inferred movement.\\n\\nLooking again, in some lists, the person is holding and placing items like towels and blankets. If these were previously on a table, then moving them to be held by the person might mean they\\'re tidied up. But without explicit data about the table, it\\'s hard to confirm.\\n\\nAlternatively, maybe \"clothes\" being mentioned multiple times as being held or in front suggests that they are tidy because they\\'re organized around the person. But I\\'m not sure if that counts as tidying up a specific item like a blanket.\\n\\nWait, another angle: sometimes when you tidy something up, it\\'s moved to a specific location where it can be stored away. So maybe the person is moving clothes into a closet or cabinet (D), but again, D isn\\'t mentioned in the data.\\n\\nAlternatively, perhaps \"clothes\" are being tidied because they\\'re being held and positioned around the person, making them tidy. But I\\'m not certain.\\n\\nWait, looking at the question again: it\\'s asking which object was tidied up by the person. So maybe the answer is that the person tidied up their clothes or the blanket. Since both are mentioned multiple times as being held or in front of the person, perhaps either could be considered tidy.\\n\\nBut considering the options, A is the blanket, and D is the closet/cabinet. Since the data mentions the person holding and placing the blanket (e.g., \\'person - holding - blanket\\', \\'person - in_front_of - blanket\\'), maybe the person tidied up their clothes by putting them in front of them, which could imply they were tidy.\\n\\nAlternatively, perhaps \"clothes\" are being tidied because they\\'re organized around the person. But since C is an option and it\\'s mentioned multiple times, I\\'m leaning towards that.\\n\\nWait, but looking at the data again, there\\'s a list where \\'person - in_front_of - clothes\\' appears, which might mean the clothes were placed in front of the person, perhaps indicating they\\'re tidy because they\\'re organized neatly around them. So maybe C is the answer.\\n\\nBut I\\'m not entirely sure. Maybe A is better because the data shows multiple instances of the blanket being held and positioned, suggesting it\\'s tidied up.\\n\\nHmm, this is a bit confusing. I think I need to make a decision based on the most consistent mention.\\n</think>\\n\\nThe object that was tidied up by the person is:\\n\\n**C. The clothes**\\n\\nStep-by-step explanation:\\n- The STSG data shows multiple instances of the person holding and positioning clothes around them, suggesting they are organized neatly.\\n- While both the blanket and clothes appear in the data, the consistent mention of clothes being held and positioned indicates a tidier arrangement compared to the blanket.\\n\\nAnswer: C. The clothes.',\n",
       "  'role': 'assistant'},\n",
       " {'role': 'user',\n",
       "  'content': '        Therefore the final answer is?\\n        \\n        Your response must be provided in valid JSON format as follows:\\n        {\"answer\": \"your complete answer here\"}\\n        \\n        IMPORTANT: Always include both the letter (A, B, C, D, etc.) AND the full text of the answer in your response.\\n        Do not abbreviate or shorten the answer. For example, if the correct answer is \"A. the laptop\", your response \\n        should be {\"answer\": \"A. the laptop\"}, not {\"answer\": \"laptop\"} or {\"answer\": \"A\"}.        '},\n",
       " {'role': 'assistant',\n",
       "  'content': '<think>\\nAlright, so I\\'m trying to figure out which object was tidied up by the person based on the given STSG data and the alternatives provided.\\n\\nFirst, I need to understand what an STSG is. From what I remember, it\\'s a way to represent spatial-temporal relationships between objects in a scene. It uses nodes for objects and edges for their interactions or positions relative to each other. So, the data inside the <STSG> tags are these nodes and edges that describe how different things are positioned around a person.\\n\\nLooking at the question: \"Which object was tidied up by the person?\" The alternatives are A. The blanket, B. The table, C. The clothes, D. The closet/cabinet.\\n\\nI think \"tidied up\" implies that someone has cleaned or organized something, so it\\'s likely an item that\\'s been moved to a specific place, maybe away from where it was before. So I\\'m looking for an object that the person has moved to a particular location, possibly putting things away neatly.\\n\\nNow, let me look at the STSG data provided. It\\'s a list of lists, each containing pairs like \\'person - holding - towel\\' or \\'person - in_front_of - towel\\'. These describe how different objects are positioned relative to the person and other objects.\\n\\nI need to find if any object is consistently moved by the person into a tidier location. Let me scan through the data:\\n\\n- The first list has \\'person - holding - towel\\', which suggests the person is holding a towel.\\n- Other lists show the person in front of or holding other items like clothes, blankets, etc.\\n\\nI notice that in several entries, the person is holding and moving things around. For example, there\\'s an entry where the person is holding a towel and another where they\\'re holding clothes. But I\\'m looking for something that was tidied up, so maybe moved away from somewhere else.\\n\\nLooking at the later lists, I see \\'person - in_front_of - clothes\\' and \\'person - in_front_of - blanket\\'. This suggests the person has the clothes and blanket in front of them. Maybe these items were previously elsewhere, like on a table or closet, and now they\\'re being tidied up by placing them in front.\\n\\nThe alternative B is the table, but I don\\'t see any mention of the table in the STSG data. The alternatives C (clothes) and A (blanket) are both mentioned multiple times as things the person is holding or in front of. D is the closet/cabinet, which isn\\'t mentioned either.\\n\\nWait, maybe \"tidied up\" refers to moving items into a specific place like a closet. But I don\\'t see any entries about the person putting clothes or blankets into a closet. The data only shows them being held and positioned relative to each other.\\n\\nAlternatively, if we consider that tidying up involves organizing things neatly, perhaps the person is arranging clothes on a table (which isn\\'t mentioned) or moving them into a closet. But since the STSG doesn\\'t mention the table or closet, maybe the answer is based on inferred movement.\\n\\nLooking again, in some lists, the person is holding and placing items like towels and blankets. If these were previously on a table, then moving them to be held by the person might mean they\\'re tidied up. But without explicit data about the table, it\\'s hard to confirm.\\n\\nAlternatively, maybe \"clothes\" being mentioned multiple times as being held or in front suggests that they are tidy because they\\'re organized around the person. But I\\'m not sure if that counts as tidying up a specific item like a blanket.\\n\\nWait, another angle: sometimes when you tidy something up, it\\'s moved to a specific location where it can be stored away. So maybe the person is moving clothes into a closet or cabinet (D), but again, D isn\\'t mentioned in the data.\\n\\nAlternatively, perhaps \"clothes\" are being tidied because they\\'re being held and positioned around the person, making them tidy. But I\\'m not certain.\\n\\nWait, looking at the question again: it\\'s asking which object was tidied up by the person. So maybe the answer is that the person tidied up their clothes or the blanket. Since both are mentioned multiple times as being held or in front of the person, perhaps either could be considered tidy.\\n\\nBut considering the options, A is the blanket, and D is the closet/cabinet. Since the data mentions the person holding and placing the blanket (e.g., \\'person - holding - blanket\\', \\'person - in_front_of - blanket\\'), maybe the person tidied up their clothes by putting them in front of them, which could imply they were tidy.\\n\\nAlternatively, perhaps \"clothes\" are being tidied because they\\'re organized around the person. But since C is an option and it\\'s mentioned multiple times, I\\'m leaning towards that.\\n\\nBut wait, looking at the data again, there\\'s a list where \\'person - in_front_of - clothes\\' appears, which might mean the clothes were placed in front of the person, perhaps indicating they\\'re tidy because they\\'re organized neatly around them. So maybe C is the answer.\\n\\nHowever, I\\'m still not entirely sure. Maybe A is better because the data shows multiple instances of the blanket being held and positioned, suggesting it\\'s tidied up.\\n\\nHmm, this is a bit confusing. I think I need to make a decision based on the most consistent mention.\\n</think>\\n\\nThe object that was tidied up by the person is:\\n\\n**C. The clothes**\\n\\nStep-by-step explanation:\\n- The STSG data shows multiple instances of the person holding and positioning clothes around them, suggesting they are organized neatly.\\n\\nAnswer: C. The clothes.'}]"
      ]
     },
     "execution_count": 156,
     "metadata": {},
     "output_type": "execute_result"
    }
   ],
   "source": [
    "predictions_df.loc[~json_mask, 'chat_history'].loc['Interaction_T1_14']\n"
   ]
  },
  {
   "cell_type": "code",
   "execution_count": 157,
   "metadata": {},
   "outputs": [],
   "source": [
    "# re.match(re_pattern, neg_test, flags=re.DOTALL)[1]\n"
   ]
  },
  {
   "cell_type": "code",
   "execution_count": 158,
   "metadata": {},
   "outputs": [
    {
     "data": {
      "text/plain": [
       "id\n",
       "Interaction_T1_13        {\"answer\": \"B. The blanket.\"}\n",
       "Interaction_T1_14                                     \n",
       "Interaction_T1_31        {\"answer\": \"C. The clothes.\"}\n",
       "Interaction_T1_32           {\"answer\": \"B. The shoe.\"}\n",
       "Interaction_T1_40         {\"answer\": \"C. The blanket\"}\n",
       "                                    ...               \n",
       "Feasibility_T6_1453     {\"answer\": \"D. Open the bag.\"}\n",
       "Feasibility_T6_1454                                   \n",
       "Feasibility_T6_1455    {\"answer\": \"D. Take the shoe.\"}\n",
       "Feasibility_T6_1456     {\"answer\": \"A. Hold the food\"}\n",
       "Feasibility_T6_1468                                   \n",
       "Name: answer, Length: 7098, dtype: object"
      ]
     },
     "execution_count": 158,
     "metadata": {},
     "output_type": "execute_result"
    }
   ],
   "source": [
    "predictions_df.loc[json_mask, 'answer'] = \\\n",
    "    predictions_df.loc[json_mask, 'answer'] \\\n",
    "    .apply(lambda x: re.search(re_pattern, x, flags=re.DOTALL).group(1))\n",
    "\n",
    "predictions_df.loc[~json_mask, 'answer'] = \"\"\n",
    "predictions_df['answer']\n"
   ]
  },
  {
   "cell_type": "code",
   "execution_count": 159,
   "metadata": {},
   "outputs": [],
   "source": [
    "# ------------------ Removing inner double quotes --------------------\n",
    "# It may happen that the text may contain inner double quotes before the\n",
    "# attribute end. This will cause the parser to termiate early and spout\n",
    "# errors for the remaining text. With this snippet we replace those inner\n",
    "# double quotes with single quotes.\n",
    "#  \n",
    "# we first match the text of the reason paramter inside the double quotes\n",
    "# then we escape/replace all the double quotes inside the text\n",
    "inside_doublequotes = r\"(?<=\\\"answer\\\": \\\")(.*)(?=\\\"(?:,|}))\"\n",
    "\n",
    "predictions_df['answer'] = \\\n",
    "    predictions_df.apply(\n",
    "        func=lambda row: re.sub(\n",
    "            inside_doublequotes, \n",
    "            lambda matchobj: matchobj.group(0).replace('\\\"', ''), \n",
    "            row['answer']),\n",
    "        axis=1\n",
    "        )\n"
   ]
  },
  {
   "cell_type": "code",
   "execution_count": 160,
   "metadata": {},
   "outputs": [
    {
     "name": "stdout",
     "output_type": "stream",
     "text": [
      "<class 'pandas.core.frame.DataFrame'>\n",
      "Index: 7098 entries, Interaction_T1_13 to Feasibility_T6_1468\n",
      "Data columns (total 2 columns):\n",
      " #   Column        Non-Null Count  Dtype \n",
      "---  ------        --------------  ----- \n",
      " 0   chat_history  7098 non-null   object\n",
      " 1   answer        7098 non-null   object\n",
      "dtypes: object(2)\n",
      "memory usage: 424.4+ KB\n"
     ]
    }
   ],
   "source": [
    "predictions_df.info()\n"
   ]
  },
  {
   "cell_type": "code",
   "execution_count": 161,
   "metadata": {},
   "outputs": [
    {
     "data": {
      "text/html": [
       "<div>\n",
       "<style scoped>\n",
       "    .dataframe tbody tr th:only-of-type {\n",
       "        vertical-align: middle;\n",
       "    }\n",
       "\n",
       "    .dataframe tbody tr th {\n",
       "        vertical-align: top;\n",
       "    }\n",
       "\n",
       "    .dataframe thead th {\n",
       "        text-align: right;\n",
       "    }\n",
       "</style>\n",
       "<table border=\"1\" class=\"dataframe\">\n",
       "  <thead>\n",
       "    <tr style=\"text-align: right;\">\n",
       "      <th></th>\n",
       "      <th>chat_history</th>\n",
       "      <th>answer</th>\n",
       "    </tr>\n",
       "    <tr>\n",
       "      <th>id</th>\n",
       "      <th></th>\n",
       "      <th></th>\n",
       "    </tr>\n",
       "  </thead>\n",
       "  <tbody>\n",
       "    <tr>\n",
       "      <th>Interaction_T1_13</th>\n",
       "      <td>[{'role': 'user', 'content': 'Please carefully...</td>\n",
       "      <td>B. The blanket.</td>\n",
       "    </tr>\n",
       "    <tr>\n",
       "      <th>Interaction_T1_14</th>\n",
       "      <td>[{'role': 'user', 'content': 'Please carefully...</td>\n",
       "      <td></td>\n",
       "    </tr>\n",
       "    <tr>\n",
       "      <th>Interaction_T1_31</th>\n",
       "      <td>[{'role': 'user', 'content': 'Please carefully...</td>\n",
       "      <td>C. The clothes.</td>\n",
       "    </tr>\n",
       "    <tr>\n",
       "      <th>Interaction_T1_32</th>\n",
       "      <td>[{'role': 'user', 'content': 'Please carefully...</td>\n",
       "      <td>B. The shoe.</td>\n",
       "    </tr>\n",
       "    <tr>\n",
       "      <th>Interaction_T1_40</th>\n",
       "      <td>[{'role': 'user', 'content': 'Please carefully...</td>\n",
       "      <td>C. The blanket</td>\n",
       "    </tr>\n",
       "    <tr>\n",
       "      <th>...</th>\n",
       "      <td>...</td>\n",
       "      <td>...</td>\n",
       "    </tr>\n",
       "    <tr>\n",
       "      <th>Feasibility_T6_1453</th>\n",
       "      <td>[{'role': 'user', 'content': 'Please carefully...</td>\n",
       "      <td>D. Open the bag.</td>\n",
       "    </tr>\n",
       "    <tr>\n",
       "      <th>Feasibility_T6_1454</th>\n",
       "      <td>[{'role': 'user', 'content': 'Please carefully...</td>\n",
       "      <td></td>\n",
       "    </tr>\n",
       "    <tr>\n",
       "      <th>Feasibility_T6_1455</th>\n",
       "      <td>[{'role': 'user', 'content': 'Please carefully...</td>\n",
       "      <td>D. Take the shoe.</td>\n",
       "    </tr>\n",
       "    <tr>\n",
       "      <th>Feasibility_T6_1456</th>\n",
       "      <td>[{'role': 'user', 'content': 'Please carefully...</td>\n",
       "      <td>A. Hold the food</td>\n",
       "    </tr>\n",
       "    <tr>\n",
       "      <th>Feasibility_T6_1468</th>\n",
       "      <td>[{'role': 'user', 'content': 'Please carefully...</td>\n",
       "      <td></td>\n",
       "    </tr>\n",
       "  </tbody>\n",
       "</table>\n",
       "<p>7098 rows × 2 columns</p>\n",
       "</div>"
      ],
      "text/plain": [
       "                                                          chat_history  \\\n",
       "id                                                                       \n",
       "Interaction_T1_13    [{'role': 'user', 'content': 'Please carefully...   \n",
       "Interaction_T1_14    [{'role': 'user', 'content': 'Please carefully...   \n",
       "Interaction_T1_31    [{'role': 'user', 'content': 'Please carefully...   \n",
       "Interaction_T1_32    [{'role': 'user', 'content': 'Please carefully...   \n",
       "Interaction_T1_40    [{'role': 'user', 'content': 'Please carefully...   \n",
       "...                                                                ...   \n",
       "Feasibility_T6_1453  [{'role': 'user', 'content': 'Please carefully...   \n",
       "Feasibility_T6_1454  [{'role': 'user', 'content': 'Please carefully...   \n",
       "Feasibility_T6_1455  [{'role': 'user', 'content': 'Please carefully...   \n",
       "Feasibility_T6_1456  [{'role': 'user', 'content': 'Please carefully...   \n",
       "Feasibility_T6_1468  [{'role': 'user', 'content': 'Please carefully...   \n",
       "\n",
       "                                answer  \n",
       "id                                      \n",
       "Interaction_T1_13      B. The blanket.  \n",
       "Interaction_T1_14                       \n",
       "Interaction_T1_31      C. The clothes.  \n",
       "Interaction_T1_32         B. The shoe.  \n",
       "Interaction_T1_40       C. The blanket  \n",
       "...                                ...  \n",
       "Feasibility_T6_1453   D. Open the bag.  \n",
       "Feasibility_T6_1454                     \n",
       "Feasibility_T6_1455  D. Take the shoe.  \n",
       "Feasibility_T6_1456   A. Hold the food  \n",
       "Feasibility_T6_1468                     \n",
       "\n",
       "[7098 rows x 2 columns]"
      ]
     },
     "execution_count": 161,
     "metadata": {},
     "output_type": "execute_result"
    }
   ],
   "source": [
    "predictions_df.loc[json_mask, 'answer'] = predictions_df.loc[json_mask, 'answer'].apply(lambda x: eval(x)['answer'].strip())\n",
    "predictions_df\n"
   ]
  },
  {
   "cell_type": "code",
   "execution_count": 162,
   "metadata": {},
   "outputs": [
    {
     "name": "stdout",
     "output_type": "stream",
     "text": [
      "Answer following the template: 5987\n",
      "84.35% of the total\n",
      "\n",
      "Only 1111 samples do not contain the answer in the response with the specified format\n"
     ]
    },
    {
     "name": "stderr",
     "output_type": "stream",
     "text": [
      "/tmp/ipykernel_2735/4018721229.py:2: UserWarning: This pattern is interpreted as a regular expression, and has match groups. To actually get the groups, use str.extract.\n",
      "  contains_answer = predictions_df['answer'].str.contains(ans_regex_pattern, regex=True)\n"
     ]
    }
   ],
   "source": [
    "ans_regex_pattern = r'^(?:[A-Z]\\.)\\s+((?:\\w+(?:\\s|\\/)?){,10}\\.?)'\n",
    "contains_answer = predictions_df['answer'].str.contains(ans_regex_pattern, regex=True)\n",
    "\n",
    "print(f\"Answer following the template: {contains_answer.value_counts()[True]}\\n\"\n",
    "      f\"{contains_answer.value_counts()[True]/predictions_df.shape[0]:.2%} of the total\")\n",
    "\n",
    "print(f\"\\nOnly {contains_answer.value_counts()[False]} samples do not contain the answer in the response with the specified format\")\n"
   ]
  },
  {
   "cell_type": "code",
   "execution_count": 163,
   "metadata": {},
   "outputs": [
    {
     "data": {
      "text/plain": [
       "id\n",
       "Interaction_T1_14                                                       \n",
       "Interaction_T1_70      None of the alternatives are supported by the ...\n",
       "Interaction_T1_81                                                       \n",
       "Interaction_T1_106          No object is thrown based on the given data.\n",
       "Interaction_T1_139                                                      \n",
       "                                             ...                        \n",
       "Feasibility_T6_1412    There is insufficient information provided in ...\n",
       "Feasibility_T6_1414    None of the alternatives can be confirmed as c...\n",
       "Feasibility_T6_1449                                                     \n",
       "Feasibility_T6_1454                                                     \n",
       "Feasibility_T6_1468                                                     \n",
       "Name: answer, Length: 1111, dtype: object"
      ]
     },
     "execution_count": 163,
     "metadata": {},
     "output_type": "execute_result"
    }
   ],
   "source": [
    "predictions_df.loc[~contains_answer, 'answer']\n"
   ]
  },
  {
   "cell_type": "markdown",
   "metadata": {},
   "source": [
    "## Extract answers"
   ]
  },
  {
   "cell_type": "code",
   "execution_count": 164,
   "metadata": {},
   "outputs": [
    {
     "data": {
      "text/html": [
       "<div>\n",
       "<style scoped>\n",
       "    .dataframe tbody tr th:only-of-type {\n",
       "        vertical-align: middle;\n",
       "    }\n",
       "\n",
       "    .dataframe tbody tr th {\n",
       "        vertical-align: top;\n",
       "    }\n",
       "\n",
       "    .dataframe thead th {\n",
       "        text-align: right;\n",
       "    }\n",
       "</style>\n",
       "<table border=\"1\" class=\"dataframe\">\n",
       "  <thead>\n",
       "    <tr style=\"text-align: right;\">\n",
       "      <th></th>\n",
       "      <th>text</th>\n",
       "    </tr>\n",
       "    <tr>\n",
       "      <th>id</th>\n",
       "      <th></th>\n",
       "    </tr>\n",
       "  </thead>\n",
       "  <tbody>\n",
       "    <tr>\n",
       "      <th>Interaction_T1_13</th>\n",
       "      <td>The blanket.</td>\n",
       "    </tr>\n",
       "    <tr>\n",
       "      <th>Interaction_T1_31</th>\n",
       "      <td>The clothes.</td>\n",
       "    </tr>\n",
       "    <tr>\n",
       "      <th>Interaction_T1_32</th>\n",
       "      <td>The shoe.</td>\n",
       "    </tr>\n",
       "    <tr>\n",
       "      <th>Interaction_T1_40</th>\n",
       "      <td>The blanket.</td>\n",
       "    </tr>\n",
       "    <tr>\n",
       "      <th>Interaction_T1_43</th>\n",
       "      <td>The clothes.</td>\n",
       "    </tr>\n",
       "    <tr>\n",
       "      <th>...</th>\n",
       "      <td>...</td>\n",
       "    </tr>\n",
       "    <tr>\n",
       "      <th>Feasibility_T6_1430</th>\n",
       "      <td>Wash the dish.</td>\n",
       "    </tr>\n",
       "    <tr>\n",
       "      <th>Feasibility_T6_1448</th>\n",
       "      <td>Put down the laptop.</td>\n",
       "    </tr>\n",
       "    <tr>\n",
       "      <th>Feasibility_T6_1453</th>\n",
       "      <td>Open the bag.</td>\n",
       "    </tr>\n",
       "    <tr>\n",
       "      <th>Feasibility_T6_1455</th>\n",
       "      <td>Take the shoe.</td>\n",
       "    </tr>\n",
       "    <tr>\n",
       "      <th>Feasibility_T6_1456</th>\n",
       "      <td>Hold the food.</td>\n",
       "    </tr>\n",
       "  </tbody>\n",
       "</table>\n",
       "<p>5987 rows × 1 columns</p>\n",
       "</div>"
      ],
      "text/plain": [
       "                                     text\n",
       "id                                       \n",
       "Interaction_T1_13            The blanket.\n",
       "Interaction_T1_31            The clothes.\n",
       "Interaction_T1_32               The shoe.\n",
       "Interaction_T1_40            The blanket.\n",
       "Interaction_T1_43            The clothes.\n",
       "...                                   ...\n",
       "Feasibility_T6_1430        Wash the dish.\n",
       "Feasibility_T6_1448  Put down the laptop.\n",
       "Feasibility_T6_1453         Open the bag.\n",
       "Feasibility_T6_1455        Take the shoe.\n",
       "Feasibility_T6_1456        Hold the food.\n",
       "\n",
       "[5987 rows x 1 columns]"
      ]
     },
     "execution_count": 164,
     "metadata": {},
     "output_type": "execute_result"
    }
   ],
   "source": [
    "ans_df = \\\n",
    "    predictions_df[contains_answer]['answer'] \\\n",
    "    .apply(lambda x: re.findall(ans_regex_pattern, x)[-1]) \\\n",
    "    .apply(lambda x: x + '.' if not x.endswith('.') else x) \\\n",
    "    .to_frame(name='text')\n",
    "\n",
    "ans_df.rename(columns={0: 'text'}, inplace=True)\n",
    "\n",
    "ans_df['text'] = ans_df['text'].str.strip()\n",
    "ans_df\n"
   ]
  },
  {
   "cell_type": "code",
   "execution_count": 165,
   "metadata": {},
   "outputs": [
    {
     "name": "stdout",
     "output_type": "stream",
     "text": [
      "<class 'pandas.core.frame.DataFrame'>\n",
      "Index: 5987 entries, Interaction_T1_13 to Feasibility_T6_1456\n",
      "Data columns (total 1 columns):\n",
      " #   Column  Non-Null Count  Dtype \n",
      "---  ------  --------------  ----- \n",
      " 0   text    5987 non-null   object\n",
      "dtypes: object(1)\n",
      "memory usage: 93.5+ KB\n"
     ]
    }
   ],
   "source": [
    "ans_df.info()\n"
   ]
  },
  {
   "cell_type": "code",
   "execution_count": 166,
   "metadata": {},
   "outputs": [
    {
     "name": "stdout",
     "output_type": "stream",
     "text": [
      "We have 498 unique answers\n"
     ]
    }
   ],
   "source": [
    "freq = ans_df['text'].value_counts().reset_index()\n",
    "freq.columns = ['word', 'freq']\n",
    "\n",
    "print(f\"We have {freq.size} unique answers\")\n"
   ]
  },
  {
   "cell_type": "code",
   "execution_count": 167,
   "metadata": {},
   "outputs": [
    {
     "data": {
      "text/plain": [
       "text\n",
       "Put down.                            601\n",
       "Took.                                237\n",
       "The towel.                           194\n",
       "The bag.                             181\n",
       "The clothes.                         154\n",
       "                                    ... \n",
       "Threw the book.                        1\n",
       "Throwing the towel.                    1\n",
       "Washed the mirror.                     1\n",
       "Tidied up the closet/cabinets.         1\n",
       "The person is holding the laptop.      1\n",
       "Name: count, Length: 249, dtype: int64"
      ]
     },
     "execution_count": 167,
     "metadata": {},
     "output_type": "execute_result"
    }
   ],
   "source": [
    "ans_df['text'].value_counts()\n"
   ]
  },
  {
   "cell_type": "code",
   "execution_count": 168,
   "metadata": {},
   "outputs": [
    {
     "data": {
      "text/plain": [
       "<Axes: xlabel='freq', ylabel='word'>"
      ]
     },
     "execution_count": 168,
     "metadata": {},
     "output_type": "execute_result"
    },
    {
     "data": {
      "image/png": "[encoded data removed]",
      "text/plain": [
       "<Figure size 600x800 with 1 Axes>"
      ]
     },
     "metadata": {},
     "output_type": "display_data"
    }
   ],
   "source": [
    "plt.figure(figsize=(6, 8))\n",
    "sns.barplot(data=freq.sort_values('freq', ascending=False)[:50], x='freq', y='word')\n"
   ]
  },
  {
   "cell_type": "markdown",
   "metadata": {},
   "source": [
    "Let's do some visualization also for the ground truth data"
   ]
  },
  {
   "cell_type": "code",
   "execution_count": 169,
   "metadata": {},
   "outputs": [
    {
     "name": "stdout",
     "output_type": "stream",
     "text": [
      "We have 198 unique answers\n"
     ]
    }
   ],
   "source": [
    "print(f\"We have {gt_df['text'].nunique()} unique answers\")\n"
   ]
  },
  {
   "cell_type": "code",
   "execution_count": 170,
   "metadata": {},
   "outputs": [
    {
     "data": {
      "text/plain": [
       "<Axes: xlabel='freq', ylabel='word'>"
      ]
     },
     "execution_count": 170,
     "metadata": {},
     "output_type": "execute_result"
    },
    {
     "data": {
      "image/png": "[encoded data removed]",
      "text/plain": [
       "<Figure size 600x800 with 1 Axes>"
      ]
     },
     "metadata": {},
     "output_type": "display_data"
    }
   ],
   "source": [
    "freq = gt_df['text'].value_counts().reset_index()\n",
    "freq.columns = ['word', 'freq']\n",
    "\n",
    "plt.figure(figsize=(6, 8))\n",
    "sns.barplot(data=freq.sort_values('freq', ascending=False)[:50], x='freq', y='word')\n"
   ]
  },
  {
   "cell_type": "code",
   "execution_count": 171,
   "metadata": {},
   "outputs": [
    {
     "data": {
      "text/plain": [
       "(5987, 5)"
      ]
     },
     "execution_count": 171,
     "metadata": {},
     "output_type": "execute_result"
    }
   ],
   "source": [
    "# Inner join - keeps only indices present in both series\n",
    "\n",
    "ans_df.rename(columns={'text': 'pred_text'}, inplace=True)\n",
    "eval_df = gt_df.join(\n",
    "    ans_df, \n",
    "    how='inner' # we account also for samples without answers\n",
    ")\n",
    "\n",
    "eval_df.shape\n"
   ]
  },
  {
   "cell_type": "code",
   "execution_count": 172,
   "metadata": {},
   "outputs": [],
   "source": [
    "def accuracy(eval_df, on_what='text'):\n",
    "    hits_text = (eval_df[f'pred_{on_what}'].str.lower() == eval_df[on_what].str.lower()).sum()\n",
    "    \n",
    "\n",
    "    return hits_text/eval_df.shape[0]\n"
   ]
  },
  {
   "cell_type": "markdown",
   "metadata": {},
   "source": [
    "check if the equality with NA result in a false or is skipped"
   ]
  },
  {
   "cell_type": "code",
   "execution_count": 173,
   "metadata": {},
   "outputs": [
    {
     "name": "stdout",
     "output_type": "stream",
     "text": [
      "Real Accuracy: 54.40%\n"
     ]
    }
   ],
   "source": [
    "real_acc = accuracy(eval_df) * eval_df.shape[0] / gt_df.shape[0]\n",
    "\n",
    "print(f\"Real Accuracy: {real_acc:.2%}\")\n"
   ]
  },
  {
   "cell_type": "code",
   "execution_count": 174,
   "metadata": {},
   "outputs": [],
   "source": [
    "def print_acc(eval_df, acc_fn):\n",
    "    print(f\"{'Question type':<15}{'Total':^15}{'Accuracy':^10}\\n\")\n",
    "\n",
    "    total = eval_df.index.str.startswith('Interaction').sum()\n",
    "    acc = acc_fn(eval_df[eval_df.index.str.startswith('Interaction')])\n",
    "    print(f\"{'Interaction':<15}{total:^15}{acc:^10.2%}\")\n",
    "\n",
    "    total = eval_df.index.str.startswith('Sequence').sum()\n",
    "    acc = acc_fn(eval_df[eval_df.index.str.startswith('Sequence')])\n",
    "    print(f\"{'Sequence':<15}{total:^15}{acc:^10.2%}\")\n",
    "\n",
    "    total = eval_df.index.str.startswith('Prediction').sum()\n",
    "    acc = acc_fn(eval_df[eval_df.index.str.startswith('Prediction')])\n",
    "    print(f\"{'Prediction':<15}{total:^15}{acc:^10.2%}\")\n",
    "\n",
    "    total = eval_df.index.str.startswith('Feasibility').sum()\n",
    "    acc = acc_fn(eval_df[eval_df.index.str.startswith('Feasibility')])\n",
    "    print(f\"{'Feasibility':<15}{total:^15}{acc:^10.2%}\")\n"
   ]
  },
  {
   "cell_type": "code",
   "execution_count": 175,
   "metadata": {},
   "outputs": [
    {
     "name": "stdout",
     "output_type": "stream",
     "text": [
      "Question type       Total      Accuracy \n",
      "\n",
      "Interaction         1997        60.89%  \n",
      "Sequence            3064        66.25%  \n",
      "Prediction           528        68.18%  \n",
      "Feasibility          398        64.07%  \n"
     ]
    }
   ],
   "source": [
    "print_acc(eval_df, lambda x: accuracy(x, on_what='text'))\n"
   ]
  },
  {
   "cell_type": "code",
   "execution_count": 176,
   "metadata": {},
   "outputs": [
    {
     "name": "stdout",
     "output_type": "stream",
     "text": [
      "Question type       Total      Answered \n",
      "\n",
      "Interaction         2398        83.28%  \n",
      "Sequence            3586        85.44%  \n",
      "Prediction           624        84.62%  \n",
      "Feasibility          490        81.22%  \n",
      "Overall             7098        84.35%  \n"
     ]
    }
   ],
   "source": [
    "# % of answers conforming to template per category\n",
    "\n",
    "def print_ans_perc(eval_df, gt_df):\n",
    "    print(f\"{'Question type':<15}{'Total':^15}{'Answered':^10}\\n\")\n",
    "\n",
    "    total = gt_df.index.str.startswith('Interaction').sum()\n",
    "    acc = len(gt_df.index.intersection(eval_df[eval_df.index.str.startswith('Interaction')].index))/total\n",
    "    print(f\"{'Interaction':<15}{total:^15}{acc:^10.2%}\")\n",
    "\n",
    "    total = gt_df.index.str.startswith('Sequence').sum()\n",
    "    acc = len(gt_df.index.intersection(eval_df[eval_df.index.str.startswith('Sequence')].index))/total\n",
    "    print(f\"{'Sequence':<15}{total:^15}{acc:^10.2%}\")\n",
    "\n",
    "    total = gt_df.index.str.startswith('Prediction').sum()\n",
    "    acc = len(gt_df.index.intersection(eval_df[eval_df.index.str.startswith('Prediction')].index))/total\n",
    "    print(f\"{'Prediction':<15}{total:^15}{acc:^10.2%}\")\n",
    "\n",
    "    total = gt_df.index.str.startswith('Feasibility').sum()\n",
    "    acc = len(gt_df.index.intersection(eval_df[eval_df.index.str.startswith('Feasibility')].index))/total\n",
    "    print(f\"{'Feasibility':<15}{total:^15}{acc:^10.2%}\")\n",
    "\n",
    "    total = gt_df.shape[0]\n",
    "    acc = eval_df.shape[0]/total\n",
    "    print(f\"{'Overall':<15}{total:^15}{acc:^10.2%}\")\n",
    "\n",
    "print_ans_perc(eval_df, gt_df)\n"
   ]
  }
 ],
 "metadata": {
  "kernelspec": {
   "display_name": "base",
   "language": "python",
   "name": "python3"
  },
  "language_info": {
   "codemirror_mode": {
    "name": "ipython",
    "version": 3
   },
   "file_extension": ".py",
   "mimetype": "text/x-python",
   "name": "python",
   "nbconvert_exporter": "python",
   "pygments_lexer": "ipython3",
   "version": "3.10.9"
  }
 },
 "nbformat": 4,
 "nbformat_minor": 2
}
