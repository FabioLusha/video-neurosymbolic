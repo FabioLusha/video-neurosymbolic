{
 "cells": [
  {
   "cell_type": "code",
   "execution_count": 1,
   "metadata": {},
   "outputs": [],
   "source": [
    "import random\n",
    "import json\n",
    "import re\n",
    "import os\n",
    "\n",
    "import numpy as np\n",
    "import pandas as pd\n",
    "\n",
    "import matplotlib.pyplot as plt\n",
    "import seaborn as sns\n",
    "\n",
    "from sklearn.metrics import confusion_matrix\n",
    "\n",
    "random.seed(6)\n",
    "np.random.seed(6)\n"
   ]
  },
  {
   "cell_type": "markdown",
   "metadata": {},
   "source": [
    "# Experiment - New Version of Gemma3:4b on chat mode\n",
    "\n",
    "This is the usual experiment of MCQA on ground tuth but with the new version of Gemma3, optimized for quantization.\n",
    "\n",
    "**Parameters:**\n",
    "- model: Gemma3 4b\n",
    "- system prompt: MCQ_system_promtp_ZS_CoT.txt\n",
    "- user_prompt: MCQ_user_prompt_ZS_CoT_v2.txt\n",
    "- temperature: 0.1\n",
    "- sampling method: (default) top-p (p=0.9)\n",
    "\n",
    "\n",
    "**Results:**  \n",
    "Marginal improve of ~1-2% with respect to the old model"
   ]
  },
  {
   "cell_type": "markdown",
   "metadata": {},
   "source": [
    "## Prompts"
   ]
  },
  {
   "cell_type": "code",
   "execution_count": 2,
   "metadata": {},
   "outputs": [
    {
     "name": "stdout",
     "output_type": "stream",
     "text": [
      "You will receive a sequence of images and a question related to them. Analyze the images in the order they are presented,\n",
      "extract relevant details, and identify any patterns, changes, or relationships between them. Use this information to provide\n",
      "a choose one of the presented alternatives\n",
      "\n",
      "Instructions:\n",
      "- Describe each image in the sequence briefly but meaningfully.\n",
      "- Note any important transitions or developments between consecutive images.\n",
      "- Combine observations to infer the overall context or narrative.\n",
      "- Answer the question based on your analysis, ensuring your response is grounded in the visual evidence.\n",
      "- Read the question and reason about the answer step by step.\n",
      "- In your answer include key events or relationships that help you in determine the correct answer.\n",
      "- Be careful to reproduce the chosen alternative as it is presented.\n",
      "\n",
      "Q: {question}\n",
      "<Alternatives>\n",
      "A. {c1}\n",
      "B. {c2}\n",
      "C. {c3}\n",
      "D. {c4}\n",
      "</Alternatives>\n"
     ]
    }
   ],
   "source": [
    "with open('../data/prompts/vqa/user_prompt.txt', 'r') as f:\n",
    "    pr = f.read()\n",
    "\n",
    "print(pr)\n"
   ]
  },
  {
   "cell_type": "code",
   "execution_count": 3,
   "metadata": {},
   "outputs": [
    {
     "name": "stdout",
     "output_type": "stream",
     "text": [
      "Therefore the final answer is?\n",
      "\n",
      "Your response must be provided in valid JSON format as follows:\n",
      "{\"answer\": \"your complete answer here\"}\n",
      "\n",
      "IMPORTANT: Always include both the letter (A, B, C, D, etc.) AND the full text of the answer in your response.\n",
      "Do not abbreviate or shorten the answer. For example, if the correct answer is \"A. the laptop\", your response \n",
      "should be {\"answer\": \"A. the laptop\"}, not {\"answer\": \"laptop\"} or {\"answer\": \"A\"}.\\\n",
      "\n"
     ]
    }
   ],
   "source": [
    "with open('../data/prompts/zero-shot-cot/auto_reply_ZS_CoT.txt', 'r') as f:\n",
    "    pr = f.read()\n",
    "\n",
    "print(pr)\n"
   ]
  },
  {
   "cell_type": "markdown",
   "metadata": {},
   "source": [
    "Let's load the ground truth from the `STAR_QA_question_and_stsg_val.json` file where we extracted QA and spatio-temporal scene graphs"
   ]
  },
  {
   "cell_type": "code",
   "execution_count": 4,
   "metadata": {},
   "outputs": [
    {
     "data": {
      "text/html": [
       "<div>\n",
       "<style scoped>\n",
       "    .dataframe tbody tr th:only-of-type {\n",
       "        vertical-align: middle;\n",
       "    }\n",
       "\n",
       "    .dataframe tbody tr th {\n",
       "        vertical-align: top;\n",
       "    }\n",
       "\n",
       "    .dataframe thead th {\n",
       "        text-align: right;\n",
       "    }\n",
       "</style>\n",
       "<table border=\"1\" class=\"dataframe\">\n",
       "  <thead>\n",
       "    <tr style=\"text-align: right;\">\n",
       "      <th></th>\n",
       "      <th>question</th>\n",
       "      <th>choices</th>\n",
       "      <th>text</th>\n",
       "    </tr>\n",
       "    <tr>\n",
       "      <th>id</th>\n",
       "      <th></th>\n",
       "      <th></th>\n",
       "      <th></th>\n",
       "    </tr>\n",
       "  </thead>\n",
       "  <tbody>\n",
       "    <tr>\n",
       "      <th>Feasibility_T5_102</th>\n",
       "      <td>Which object is the person able to throw after...</td>\n",
       "      <td>[{'choice_id': 0, 'choice': 'The bag.', 'choic...</td>\n",
       "      <td>The clothes.</td>\n",
       "    </tr>\n",
       "    <tr>\n",
       "      <th>Feasibility_T2_860</th>\n",
       "      <td>What else is the person able to do with the wi...</td>\n",
       "      <td>[{'choice_id': 0, 'choice': 'Lie on the window...</td>\n",
       "      <td>Close the window.</td>\n",
       "    </tr>\n",
       "    <tr>\n",
       "      <th>Feasibility_T2_556</th>\n",
       "      <td>What else is the person able to do with the cl...</td>\n",
       "      <td>[{'choice_id': 0, 'choice': 'Tidy up the close...</td>\n",
       "      <td>Open the closet/cabinet.</td>\n",
       "    </tr>\n",
       "    <tr>\n",
       "      <th>Prediction_T1_2539</th>\n",
       "      <td>What will the person do next?</td>\n",
       "      <td>[{'choice_id': 0, 'choice': 'Sit on the floor....</td>\n",
       "      <td>Sit on the floor.</td>\n",
       "    </tr>\n",
       "    <tr>\n",
       "      <th>Prediction_T4_1253</th>\n",
       "      <td>Which object would the person throw next after...</td>\n",
       "      <td>[{'choice_id': 0, 'choice': 'The pillow.', 'ch...</td>\n",
       "      <td>The shoe.</td>\n",
       "    </tr>\n",
       "    <tr>\n",
       "      <th>...</th>\n",
       "      <td>...</td>\n",
       "      <td>...</td>\n",
       "      <td>...</td>\n",
       "    </tr>\n",
       "    <tr>\n",
       "      <th>Interaction_T1_8913</th>\n",
       "      <td>Which object was taken by the person?</td>\n",
       "      <td>[{'choice_id': 0, 'choice': 'The paper/noteboo...</td>\n",
       "      <td>The paper/notebook.</td>\n",
       "    </tr>\n",
       "    <tr>\n",
       "      <th>Interaction_T1_8967</th>\n",
       "      <td>Which object was taken by the person?</td>\n",
       "      <td>[{'choice_id': 0, 'choice': 'The towel.', 'cho...</td>\n",
       "      <td>The dish.</td>\n",
       "    </tr>\n",
       "    <tr>\n",
       "      <th>Interaction_T2_1847</th>\n",
       "      <td>What did the person do with the paper/notebook?</td>\n",
       "      <td>[{'choice_id': 0, 'choice': 'Put down.', 'choi...</td>\n",
       "      <td>Took.</td>\n",
       "    </tr>\n",
       "    <tr>\n",
       "      <th>Interaction_T2_3423</th>\n",
       "      <td>What did the person do with the bed?</td>\n",
       "      <td>[{'choice_id': 0, 'choice': 'Sat on.', 'choice...</td>\n",
       "      <td>Lied on.</td>\n",
       "    </tr>\n",
       "    <tr>\n",
       "      <th>Interaction_T4_4181</th>\n",
       "      <td>What did the person do while they were wiping ...</td>\n",
       "      <td>[{'choice_id': 0, 'choice': 'Threw the bag.', ...</td>\n",
       "      <td>Put down the bag.</td>\n",
       "    </tr>\n",
       "  </tbody>\n",
       "</table>\n",
       "<p>1048 rows × 3 columns</p>\n",
       "</div>"
      ],
      "text/plain": [
       "                                                              question  \\\n",
       "id                                                                       \n",
       "Feasibility_T5_102   Which object is the person able to throw after...   \n",
       "Feasibility_T2_860   What else is the person able to do with the wi...   \n",
       "Feasibility_T2_556   What else is the person able to do with the cl...   \n",
       "Prediction_T1_2539                       What will the person do next?   \n",
       "Prediction_T4_1253   Which object would the person throw next after...   \n",
       "...                                                                ...   \n",
       "Interaction_T1_8913              Which object was taken by the person?   \n",
       "Interaction_T1_8967              Which object was taken by the person?   \n",
       "Interaction_T2_1847    What did the person do with the paper/notebook?   \n",
       "Interaction_T2_3423               What did the person do with the bed?   \n",
       "Interaction_T4_4181  What did the person do while they were wiping ...   \n",
       "\n",
       "                                                               choices  \\\n",
       "id                                                                       \n",
       "Feasibility_T5_102   [{'choice_id': 0, 'choice': 'The bag.', 'choic...   \n",
       "Feasibility_T2_860   [{'choice_id': 0, 'choice': 'Lie on the window...   \n",
       "Feasibility_T2_556   [{'choice_id': 0, 'choice': 'Tidy up the close...   \n",
       "Prediction_T1_2539   [{'choice_id': 0, 'choice': 'Sit on the floor....   \n",
       "Prediction_T4_1253   [{'choice_id': 0, 'choice': 'The pillow.', 'ch...   \n",
       "...                                                                ...   \n",
       "Interaction_T1_8913  [{'choice_id': 0, 'choice': 'The paper/noteboo...   \n",
       "Interaction_T1_8967  [{'choice_id': 0, 'choice': 'The towel.', 'cho...   \n",
       "Interaction_T2_1847  [{'choice_id': 0, 'choice': 'Put down.', 'choi...   \n",
       "Interaction_T2_3423  [{'choice_id': 0, 'choice': 'Sat on.', 'choice...   \n",
       "Interaction_T4_4181  [{'choice_id': 0, 'choice': 'Threw the bag.', ...   \n",
       "\n",
       "                                         text  \n",
       "id                                             \n",
       "Feasibility_T5_102               The clothes.  \n",
       "Feasibility_T2_860          Close the window.  \n",
       "Feasibility_T2_556   Open the closet/cabinet.  \n",
       "Prediction_T1_2539          Sit on the floor.  \n",
       "Prediction_T4_1253                  The shoe.  \n",
       "...                                       ...  \n",
       "Interaction_T1_8913       The paper/notebook.  \n",
       "Interaction_T1_8967                 The dish.  \n",
       "Interaction_T2_1847                     Took.  \n",
       "Interaction_T2_3423                  Lied on.  \n",
       "Interaction_T4_4181         Put down the bag.  \n",
       "\n",
       "[1048 rows x 3 columns]"
      ]
     },
     "execution_count": 4,
     "metadata": {},
     "output_type": "execute_result"
    }
   ],
   "source": [
    "ground_truth = []\n",
    "\n",
    "with open('../data/datasets/STAR/STAR_annotations/STAR_val_small_1000.json') as f:\n",
    "    data = json.load(f)\n",
    "    ground_truth = [{\n",
    "        'id': sample['question_id'],\n",
    "        'question': sample['question'],\n",
    "        'choices': sample['choices'],\n",
    "        'text': sample['answer'],\n",
    "    } for sample in data]\n",
    "\n",
    "\n",
    "# we keep num as str so we can directrly access choices dictionaries\n",
    "gt_df = pd.DataFrame(ground_truth).astype({'id': 'string', 'text': 'string'})\n",
    "gt_df.set_index('id', inplace=True)\n",
    "gt_df\n"
   ]
  },
  {
   "cell_type": "markdown",
   "metadata": {},
   "source": [
    "## Loading predicted answers evaluation"
   ]
  },
  {
   "cell_type": "code",
   "execution_count": 5,
   "metadata": {},
   "outputs": [
    {
     "data": {
      "text/html": [
       "<div>\n",
       "<style scoped>\n",
       "    .dataframe tbody tr th:only-of-type {\n",
       "        vertical-align: middle;\n",
       "    }\n",
       "\n",
       "    .dataframe tbody tr th {\n",
       "        vertical-align: top;\n",
       "    }\n",
       "\n",
       "    .dataframe thead th {\n",
       "        text-align: right;\n",
       "    }\n",
       "</style>\n",
       "<table border=\"1\" class=\"dataframe\">\n",
       "  <thead>\n",
       "    <tr style=\"text-align: right;\">\n",
       "      <th></th>\n",
       "      <th>chat_history</th>\n",
       "    </tr>\n",
       "    <tr>\n",
       "      <th>id</th>\n",
       "      <th></th>\n",
       "    </tr>\n",
       "  </thead>\n",
       "  <tbody>\n",
       "    <tr>\n",
       "      <th>Feasibility_T5_102</th>\n",
       "      <td>[{'role': 'user', 'content': 'You are an intel...</td>\n",
       "    </tr>\n",
       "    <tr>\n",
       "      <th>Feasibility_T2_860</th>\n",
       "      <td>[{'role': 'user', 'content': 'You are an intel...</td>\n",
       "    </tr>\n",
       "    <tr>\n",
       "      <th>Feasibility_T2_556</th>\n",
       "      <td>[{'role': 'user', 'content': 'You are an intel...</td>\n",
       "    </tr>\n",
       "    <tr>\n",
       "      <th>Prediction_T1_2539</th>\n",
       "      <td>[{'role': 'user', 'content': 'You are an intel...</td>\n",
       "    </tr>\n",
       "    <tr>\n",
       "      <th>Prediction_T4_1253</th>\n",
       "      <td>[{'role': 'user', 'content': 'You are an intel...</td>\n",
       "    </tr>\n",
       "    <tr>\n",
       "      <th>...</th>\n",
       "      <td>...</td>\n",
       "    </tr>\n",
       "    <tr>\n",
       "      <th>Interaction_T1_8913</th>\n",
       "      <td>[{'role': 'user', 'content': 'You are an intel...</td>\n",
       "    </tr>\n",
       "    <tr>\n",
       "      <th>Interaction_T1_8967</th>\n",
       "      <td>[{'role': 'user', 'content': 'You are an intel...</td>\n",
       "    </tr>\n",
       "    <tr>\n",
       "      <th>Interaction_T2_1847</th>\n",
       "      <td>[{'role': 'user', 'content': 'You are an intel...</td>\n",
       "    </tr>\n",
       "    <tr>\n",
       "      <th>Interaction_T2_3423</th>\n",
       "      <td>[{'role': 'user', 'content': 'You are an intel...</td>\n",
       "    </tr>\n",
       "    <tr>\n",
       "      <th>Interaction_T4_4181</th>\n",
       "      <td>[{'role': 'user', 'content': 'You are an intel...</td>\n",
       "    </tr>\n",
       "  </tbody>\n",
       "</table>\n",
       "<p>1048 rows × 1 columns</p>\n",
       "</div>"
      ],
      "text/plain": [
       "                                                          chat_history\n",
       "id                                                                    \n",
       "Feasibility_T5_102   [{'role': 'user', 'content': 'You are an intel...\n",
       "Feasibility_T2_860   [{'role': 'user', 'content': 'You are an intel...\n",
       "Feasibility_T2_556   [{'role': 'user', 'content': 'You are an intel...\n",
       "Prediction_T1_2539   [{'role': 'user', 'content': 'You are an intel...\n",
       "Prediction_T4_1253   [{'role': 'user', 'content': 'You are an intel...\n",
       "...                                                                ...\n",
       "Interaction_T1_8913  [{'role': 'user', 'content': 'You are an intel...\n",
       "Interaction_T1_8967  [{'role': 'user', 'content': 'You are an intel...\n",
       "Interaction_T2_1847  [{'role': 'user', 'content': 'You are an intel...\n",
       "Interaction_T2_3423  [{'role': 'user', 'content': 'You are an intel...\n",
       "Interaction_T4_4181  [{'role': 'user', 'content': 'You are an intel...\n",
       "\n",
       "[1048 rows x 1 columns]"
      ]
     },
     "execution_count": 5,
     "metadata": {},
     "output_type": "execute_result"
    }
   ],
   "source": [
    "predictions = []\n",
    "with open('../outputs/vqa_without_noneoftheothers_alt_gemma3:4b-it-qat_20250622_23:17:00.jsonl', mode='r', encoding='utf-8', errors='strict') as f:\n",
    "    predictions = [json.loads(line) for line in f.readlines()]\n",
    "\n",
    "# transforming the id key from `qid` to `id` for consistency and `response` to `answer`\n",
    "predictions_df = pd.DataFrame(predictions, dtype='string').rename(columns={'qid':'id', 'response':'answer'})\n",
    "predictions_df.set_index('id', inplace=True)\n",
    "predictions_df\n"
   ]
  },
  {
   "cell_type": "code",
   "execution_count": 6,
   "metadata": {},
   "outputs": [
    {
     "data": {
      "text/html": [
       "<div>\n",
       "<style scoped>\n",
       "    .dataframe tbody tr th:only-of-type {\n",
       "        vertical-align: middle;\n",
       "    }\n",
       "\n",
       "    .dataframe tbody tr th {\n",
       "        vertical-align: top;\n",
       "    }\n",
       "\n",
       "    .dataframe thead th {\n",
       "        text-align: right;\n",
       "    }\n",
       "</style>\n",
       "<table border=\"1\" class=\"dataframe\">\n",
       "  <thead>\n",
       "    <tr style=\"text-align: right;\">\n",
       "      <th></th>\n",
       "      <th>chat_history</th>\n",
       "    </tr>\n",
       "    <tr>\n",
       "      <th>id</th>\n",
       "      <th></th>\n",
       "    </tr>\n",
       "  </thead>\n",
       "  <tbody>\n",
       "    <tr>\n",
       "      <th>Feasibility_T5_102</th>\n",
       "      <td>[{'role': 'user', 'content': 'You are an intel...</td>\n",
       "    </tr>\n",
       "    <tr>\n",
       "      <th>Feasibility_T2_860</th>\n",
       "      <td>[{'role': 'user', 'content': 'You are an intel...</td>\n",
       "    </tr>\n",
       "    <tr>\n",
       "      <th>Feasibility_T2_556</th>\n",
       "      <td>[{'role': 'user', 'content': 'You are an intel...</td>\n",
       "    </tr>\n",
       "    <tr>\n",
       "      <th>Prediction_T1_2539</th>\n",
       "      <td>[{'role': 'user', 'content': 'You are an intel...</td>\n",
       "    </tr>\n",
       "    <tr>\n",
       "      <th>Prediction_T4_1253</th>\n",
       "      <td>[{'role': 'user', 'content': 'You are an intel...</td>\n",
       "    </tr>\n",
       "    <tr>\n",
       "      <th>...</th>\n",
       "      <td>...</td>\n",
       "    </tr>\n",
       "    <tr>\n",
       "      <th>Interaction_T1_8913</th>\n",
       "      <td>[{'role': 'user', 'content': 'You are an intel...</td>\n",
       "    </tr>\n",
       "    <tr>\n",
       "      <th>Interaction_T1_8967</th>\n",
       "      <td>[{'role': 'user', 'content': 'You are an intel...</td>\n",
       "    </tr>\n",
       "    <tr>\n",
       "      <th>Interaction_T2_1847</th>\n",
       "      <td>[{'role': 'user', 'content': 'You are an intel...</td>\n",
       "    </tr>\n",
       "    <tr>\n",
       "      <th>Interaction_T2_3423</th>\n",
       "      <td>[{'role': 'user', 'content': 'You are an intel...</td>\n",
       "    </tr>\n",
       "    <tr>\n",
       "      <th>Interaction_T4_4181</th>\n",
       "      <td>[{'role': 'user', 'content': 'You are an intel...</td>\n",
       "    </tr>\n",
       "  </tbody>\n",
       "</table>\n",
       "<p>1048 rows × 1 columns</p>\n",
       "</div>"
      ],
      "text/plain": [
       "                                                          chat_history\n",
       "id                                                                    \n",
       "Feasibility_T5_102   [{'role': 'user', 'content': 'You are an intel...\n",
       "Feasibility_T2_860   [{'role': 'user', 'content': 'You are an intel...\n",
       "Feasibility_T2_556   [{'role': 'user', 'content': 'You are an intel...\n",
       "Prediction_T1_2539   [{'role': 'user', 'content': 'You are an intel...\n",
       "Prediction_T4_1253   [{'role': 'user', 'content': 'You are an intel...\n",
       "...                                                                ...\n",
       "Interaction_T1_8913  [{'role': 'user', 'content': 'You are an intel...\n",
       "Interaction_T1_8967  [{'role': 'user', 'content': 'You are an intel...\n",
       "Interaction_T2_1847  [{'role': 'user', 'content': 'You are an intel...\n",
       "Interaction_T2_3423  [{'role': 'user', 'content': 'You are an intel...\n",
       "Interaction_T4_4181  [{'role': 'user', 'content': 'You are an intel...\n",
       "\n",
       "[1048 rows x 1 columns]"
      ]
     },
     "execution_count": 6,
     "metadata": {},
     "output_type": "execute_result"
    }
   ],
   "source": [
    "predictions_df['chat_history'] = \\\n",
    "    predictions_df['chat_history'] \\\n",
    "    .apply(lambda x: eval(x))\n",
    "\n",
    "predictions_df\n"
   ]
  },
  {
   "cell_type": "code",
   "execution_count": 7,
   "metadata": {},
   "outputs": [],
   "source": [
    "predictions_df['answer'] = predictions_df['chat_history'].apply(lambda x: x[-1]['content'])\n"
   ]
  },
  {
   "cell_type": "code",
   "execution_count": 8,
   "metadata": {},
   "outputs": [
    {
     "data": {
      "text/plain": [
       "id\n",
       "Feasibility_T5_102               ```json\\n{\"answer\": \"A. The bag\"}\\n```\n",
       "Feasibility_T2_860       ```json\\n{\"answer\": \"B. Hold the window\"}\\n```\n",
       "Feasibility_T2_556    ```json\\n{\"answer\": \"A. Tidy up the closet/cab...\n",
       "Prediction_T1_2539    ```json\\n{\\n  \"answer\": \"B. Open the bag.\"\\n}\\...\n",
       "Prediction_T4_1253            ```json\\n{\"answer\": \"A. The pillow\"}\\n```\n",
       "Name: answer, dtype: object"
      ]
     },
     "execution_count": 8,
     "metadata": {},
     "output_type": "execute_result"
    }
   ],
   "source": [
    "predictions_df['answer'].iloc[0:5] \n"
   ]
  },
  {
   "cell_type": "markdown",
   "metadata": {},
   "source": [
    "## Text preprocessing"
   ]
  },
  {
   "cell_type": "markdown",
   "metadata": {},
   "source": [
    "For Gemma we need to be more careful becuase the format is different, it encapsulated the json output in the with the tokens: \n",
    "```\n",
    "```json\\n\n",
    "<actual_answer>\n",
    "\\n```\n",
    "```"
   ]
  },
  {
   "cell_type": "code",
   "execution_count": 9,
   "metadata": {},
   "outputs": [
    {
     "name": "stdout",
     "output_type": "stream",
     "text": [
      "Total answers: 1048\n",
      "Answers following JSON template: 1048\n",
      "Percentage following JSON template: 100.00%\n"
     ]
    }
   ],
   "source": [
    "\n",
    "# Create mask for answers that follow JSON syntax\n",
    "json_mask = predictions_df['answer'].str.match(r'^(```json\\s)?({[^}]+})(\\s```)?$')\n",
    "matches_json_template = json_mask.sum()\n",
    "\n",
    "print(f\"Total answers: {len(predictions_df)}\")\n",
    "print(f\"Answers following JSON template: {matches_json_template}\")\n",
    "print(f\"Percentage following JSON template: {(matches_json_template/len(predictions_df))*100:.2f}%\")\n"
   ]
  },
  {
   "cell_type": "code",
   "execution_count": 10,
   "metadata": {},
   "outputs": [
    {
     "data": {
      "text/plain": [
       "Series([], Name: answer, dtype: object)"
      ]
     },
     "execution_count": 10,
     "metadata": {},
     "output_type": "execute_result"
    }
   ],
   "source": [
    "predictions_df.loc[~json_mask, 'answer']\n"
   ]
  },
  {
   "cell_type": "code",
   "execution_count": 11,
   "metadata": {},
   "outputs": [
    {
     "data": {
      "text/plain": [
       "id\n",
       "Feasibility_T5_102                         {\"answer\": \"A. The bag\"}\n",
       "Feasibility_T2_860                 {\"answer\": \"B. Hold the window\"}\n",
       "Feasibility_T2_556     {\"answer\": \"A. Tidy up the closet/cabinet.\"}\n",
       "Prediction_T1_2539             {\\n  \"answer\": \"B. Open the bag.\"\\n}\n",
       "Prediction_T4_1253                      {\"answer\": \"A. The pillow\"}\n",
       "                                           ...                     \n",
       "Interaction_T1_8913             {\"answer\": \"A. The paper/notebook\"}\n",
       "Interaction_T1_8967                       {\"answer\": \"C. The box.\"}\n",
       "Interaction_T2_1847                           {\"answer\": \"D. Took\"}\n",
       "Interaction_T2_3423                       {\"answer\": \"C. Lied on.\"}\n",
       "Interaction_T4_4181               {\"answer\": \"C. Put down the bag\"}\n",
       "Name: answer, Length: 1048, dtype: object"
      ]
     },
     "execution_count": 11,
     "metadata": {},
     "output_type": "execute_result"
    }
   ],
   "source": [
    "predictions_df.loc[json_mask, 'answer'] = \\\n",
    "    predictions_df.loc[json_mask, 'answer'] \\\n",
    "    .apply(lambda x: re.search(r'^(?:```json\\s)?({[^}]+})(?:\\s```)?$', x).group(1))\n",
    "\n",
    "predictions_df.loc[~json_mask, 'answer'] = \"\"\n",
    "predictions_df['answer']\n"
   ]
  },
  {
   "cell_type": "markdown",
   "metadata": {},
   "source": [
    "### The need to replace single quotes"
   ]
  },
  {
   "cell_type": "code",
   "execution_count": 12,
   "metadata": {},
   "outputs": [
    {
     "name": "stdout",
     "output_type": "stream",
     "text": [
      "‘\n",
      "’\n",
      "‚\n",
      "‛\n",
      "“\n",
      "”\n"
     ]
    },
    {
     "data": {
      "text/plain": [
       "(None, None, None, None, None, None)"
      ]
     },
     "execution_count": 12,
     "metadata": {},
     "output_type": "execute_result"
    }
   ],
   "source": [
    "print('\\u2018'), print('\\u2019'), print('\\u201a'), print('\\u201b'), print('\\u201c'), print('\\u201d')\n"
   ]
  },
  {
   "cell_type": "markdown",
   "metadata": {},
   "source": [
    "### Applying changes"
   ]
  },
  {
   "cell_type": "code",
   "execution_count": 13,
   "metadata": {},
   "outputs": [],
   "source": [
    "# Replace new line (lead to EOF Errors) with whitespace\n",
    "predictions_df['answer'] = \\\n",
    "    predictions_df['answer'].str.replace('\\n+', ' ', regex=True)\n",
    "\n",
    "# Replace lef and right quotation mark with simple quotation mark\n",
    "predictions_df['answer'] = \\\n",
    "    predictions_df['answer'].str.replace('[\\u2018-\\u201b]', '\\'', regex=True)\n",
    "predictions_df['answer'] = \\\n",
    "    predictions_df['answer'].str.replace('[\\u201c\\u201d]', '\"', regex=True)\n",
    "# ------------------ Removing inner double quotes --------------------\n",
    "# It may happen that the text may contain inner double quotes before the\n",
    "# attribute end. This will cause the parser to termiate early and spout\n",
    "# errors for the remaining text. With this snippet we replace those inner\n",
    "# double quotes with single quotes.\n",
    "#  \n",
    "# we first match the text of the reason paramter inside the double quotes\n",
    "# then we escape/replace all the double quotes inside the text\n",
    "inside_doublequotes = r\"(?<=\\\"answer\\\": \\\")(.*)(?=\\\"(?:,|}))\"\n",
    "\n",
    "predictions_df['answer'] = \\\n",
    "    predictions_df.apply(\n",
    "        func=lambda row: re.sub(\n",
    "            inside_doublequotes, \n",
    "            lambda matchobj: matchobj.group(0).replace('\\\"', ''), \n",
    "            row['answer']),\n",
    "        axis=1\n",
    "        )\n"
   ]
  },
  {
   "cell_type": "code",
   "execution_count": 14,
   "metadata": {},
   "outputs": [
    {
     "data": {
      "text/html": [
       "<div>\n",
       "<style scoped>\n",
       "    .dataframe tbody tr th:only-of-type {\n",
       "        vertical-align: middle;\n",
       "    }\n",
       "\n",
       "    .dataframe tbody tr th {\n",
       "        vertical-align: top;\n",
       "    }\n",
       "\n",
       "    .dataframe thead th {\n",
       "        text-align: right;\n",
       "    }\n",
       "</style>\n",
       "<table border=\"1\" class=\"dataframe\">\n",
       "  <thead>\n",
       "    <tr style=\"text-align: right;\">\n",
       "      <th></th>\n",
       "      <th>chat_history</th>\n",
       "      <th>answer</th>\n",
       "    </tr>\n",
       "    <tr>\n",
       "      <th>id</th>\n",
       "      <th></th>\n",
       "      <th></th>\n",
       "    </tr>\n",
       "  </thead>\n",
       "  <tbody>\n",
       "    <tr>\n",
       "      <th>Feasibility_T5_102</th>\n",
       "      <td>[{'role': 'user', 'content': 'You are an intel...</td>\n",
       "      <td>A. The bag</td>\n",
       "    </tr>\n",
       "    <tr>\n",
       "      <th>Feasibility_T2_860</th>\n",
       "      <td>[{'role': 'user', 'content': 'You are an intel...</td>\n",
       "      <td>B. Hold the window</td>\n",
       "    </tr>\n",
       "    <tr>\n",
       "      <th>Feasibility_T2_556</th>\n",
       "      <td>[{'role': 'user', 'content': 'You are an intel...</td>\n",
       "      <td>A. Tidy up the closet/cabinet.</td>\n",
       "    </tr>\n",
       "    <tr>\n",
       "      <th>Prediction_T1_2539</th>\n",
       "      <td>[{'role': 'user', 'content': 'You are an intel...</td>\n",
       "      <td>B. Open the bag.</td>\n",
       "    </tr>\n",
       "    <tr>\n",
       "      <th>Prediction_T4_1253</th>\n",
       "      <td>[{'role': 'user', 'content': 'You are an intel...</td>\n",
       "      <td>A. The pillow</td>\n",
       "    </tr>\n",
       "    <tr>\n",
       "      <th>...</th>\n",
       "      <td>...</td>\n",
       "      <td>...</td>\n",
       "    </tr>\n",
       "    <tr>\n",
       "      <th>Interaction_T1_8913</th>\n",
       "      <td>[{'role': 'user', 'content': 'You are an intel...</td>\n",
       "      <td>A. The paper/notebook</td>\n",
       "    </tr>\n",
       "    <tr>\n",
       "      <th>Interaction_T1_8967</th>\n",
       "      <td>[{'role': 'user', 'content': 'You are an intel...</td>\n",
       "      <td>C. The box.</td>\n",
       "    </tr>\n",
       "    <tr>\n",
       "      <th>Interaction_T2_1847</th>\n",
       "      <td>[{'role': 'user', 'content': 'You are an intel...</td>\n",
       "      <td>D. Took</td>\n",
       "    </tr>\n",
       "    <tr>\n",
       "      <th>Interaction_T2_3423</th>\n",
       "      <td>[{'role': 'user', 'content': 'You are an intel...</td>\n",
       "      <td>C. Lied on.</td>\n",
       "    </tr>\n",
       "    <tr>\n",
       "      <th>Interaction_T4_4181</th>\n",
       "      <td>[{'role': 'user', 'content': 'You are an intel...</td>\n",
       "      <td>C. Put down the bag</td>\n",
       "    </tr>\n",
       "  </tbody>\n",
       "</table>\n",
       "<p>1048 rows × 2 columns</p>\n",
       "</div>"
      ],
      "text/plain": [
       "                                                          chat_history  \\\n",
       "id                                                                       \n",
       "Feasibility_T5_102   [{'role': 'user', 'content': 'You are an intel...   \n",
       "Feasibility_T2_860   [{'role': 'user', 'content': 'You are an intel...   \n",
       "Feasibility_T2_556   [{'role': 'user', 'content': 'You are an intel...   \n",
       "Prediction_T1_2539   [{'role': 'user', 'content': 'You are an intel...   \n",
       "Prediction_T4_1253   [{'role': 'user', 'content': 'You are an intel...   \n",
       "...                                                                ...   \n",
       "Interaction_T1_8913  [{'role': 'user', 'content': 'You are an intel...   \n",
       "Interaction_T1_8967  [{'role': 'user', 'content': 'You are an intel...   \n",
       "Interaction_T2_1847  [{'role': 'user', 'content': 'You are an intel...   \n",
       "Interaction_T2_3423  [{'role': 'user', 'content': 'You are an intel...   \n",
       "Interaction_T4_4181  [{'role': 'user', 'content': 'You are an intel...   \n",
       "\n",
       "                                             answer  \n",
       "id                                                   \n",
       "Feasibility_T5_102                       A. The bag  \n",
       "Feasibility_T2_860               B. Hold the window  \n",
       "Feasibility_T2_556   A. Tidy up the closet/cabinet.  \n",
       "Prediction_T1_2539                 B. Open the bag.  \n",
       "Prediction_T4_1253                    A. The pillow  \n",
       "...                                             ...  \n",
       "Interaction_T1_8913           A. The paper/notebook  \n",
       "Interaction_T1_8967                     C. The box.  \n",
       "Interaction_T2_1847                         D. Took  \n",
       "Interaction_T2_3423                     C. Lied on.  \n",
       "Interaction_T4_4181             C. Put down the bag  \n",
       "\n",
       "[1048 rows x 2 columns]"
      ]
     },
     "execution_count": 14,
     "metadata": {},
     "output_type": "execute_result"
    }
   ],
   "source": [
    "predictions_df.loc[json_mask, 'answer'] = predictions_df.loc[json_mask, 'answer'].apply(lambda x: eval(x)['answer'].strip())\n",
    "predictions_df\n"
   ]
  },
  {
   "cell_type": "code",
   "execution_count": 15,
   "metadata": {},
   "outputs": [
    {
     "name": "stdout",
     "output_type": "stream",
     "text": [
      "Answer following the template: 1021\n",
      "97.42% of the total\n",
      "\n",
      "Only 27 samples do not contain the answer in the response with the specified format\n"
     ]
    },
    {
     "name": "stderr",
     "output_type": "stream",
     "text": [
      "/tmp/ipykernel_22037/3127831504.py:2: UserWarning: This pattern is interpreted as a regular expression, and has match groups. To actually get the groups, use str.extract.\n",
      "  contains_answer = predictions_df['answer'].str.contains(ans_regex_pattern, regex=True)\n"
     ]
    }
   ],
   "source": [
    "ans_regex_pattern = r'^(?:[A-Z]\\.)\\s+((?:\\w+(?:\\s|\\/)?){,10}\\.?)'\n",
    "contains_answer = predictions_df['answer'].str.contains(ans_regex_pattern, regex=True)\n",
    "\n",
    "print(f\"Answer following the template: {contains_answer.value_counts()[True]}\\n\"\n",
    "      f\"{contains_answer.value_counts()[True]/predictions_df.shape[0]:.2%} of the total\")\n",
    "\n",
    "print(f\"\\nOnly {contains_answer.value_counts()[False]} samples do not contain the answer in the response with the specified format\")\n"
   ]
  },
  {
   "cell_type": "code",
   "execution_count": 16,
   "metadata": {},
   "outputs": [
    {
     "data": {
      "text/plain": [
       "id\n",
       "Sequence_T4_2127                                       None of the above\n",
       "Sequence_T5_5810       None of the alternatives accurately describe t...\n",
       "Feasibility_T5_1660    The question is flawed as none of the provided...\n",
       "Interaction_T1_2454    None of the above. However, the most accurate ...\n",
       "Sequence_T3_6514       None of the alternatives accurately describe w...\n",
       "Sequence_T4_814        None of the alternatives accurately describe w...\n",
       "Prediction_T3_474                               None of the alternatives\n",
       "Interaction_T1_6653                 None of the alternatives is correct.\n",
       "Feasibility_T5_931     None of the above. The person is holding a pur...\n",
       "Feasibility_T6_280     The person is simply holding the cup and looki...\n",
       "Feasibility_T5_1244    None of the alternatives provided accurately d...\n",
       "Sequence_T5_3671                                       None of the above\n",
       "Interaction_T2_3085    None of the alternatives accurately describes ...\n",
       "Feasibility_T3_86                  None of the alternatives are correct.\n",
       "Sequence_T3_5073       None of the alternatives accurately describe w...\n",
       "Sequence_T3_6020       None of the alternatives are correct. The pers...\n",
       "Sequence_T1_2636       None of the provided alternatives accurately d...\n",
       "Feasibility_T5_1888                None of the alternatives are correct.\n",
       "Feasibility_T2_782     None of the alternatives accurately describe w...\n",
       "Interaction_T1_7764    The person put down an object. However, given ...\n",
       "Prediction_T4_3                                                     None\n",
       "Feasibility_T5_2165                None of the alternatives are correct.\n",
       "Sequence_T3_1462       None of the provided alternatives accurately d...\n",
       "Sequence_T6_2729                   None of the alternatives are correct.\n",
       "Sequence_T2_1723                                      None of the above.\n",
       "Sequence_T1_2041                      None of the provided alternatives.\n",
       "Interaction_T4_4558    None of the alternatives accurately describe t...\n",
       "Name: answer, dtype: object"
      ]
     },
     "execution_count": 16,
     "metadata": {},
     "output_type": "execute_result"
    }
   ],
   "source": [
    "predictions_df.loc[~contains_answer, 'answer']\n"
   ]
  },
  {
   "cell_type": "markdown",
   "metadata": {},
   "source": [
    "## Extract answers"
   ]
  },
  {
   "cell_type": "code",
   "execution_count": 17,
   "metadata": {},
   "outputs": [
    {
     "data": {
      "text/html": [
       "<div>\n",
       "<style scoped>\n",
       "    .dataframe tbody tr th:only-of-type {\n",
       "        vertical-align: middle;\n",
       "    }\n",
       "\n",
       "    .dataframe tbody tr th {\n",
       "        vertical-align: top;\n",
       "    }\n",
       "\n",
       "    .dataframe thead th {\n",
       "        text-align: right;\n",
       "    }\n",
       "</style>\n",
       "<table border=\"1\" class=\"dataframe\">\n",
       "  <thead>\n",
       "    <tr style=\"text-align: right;\">\n",
       "      <th></th>\n",
       "      <th>text</th>\n",
       "    </tr>\n",
       "    <tr>\n",
       "      <th>id</th>\n",
       "      <th></th>\n",
       "    </tr>\n",
       "  </thead>\n",
       "  <tbody>\n",
       "    <tr>\n",
       "      <th>Feasibility_T5_102</th>\n",
       "      <td>The bag.</td>\n",
       "    </tr>\n",
       "    <tr>\n",
       "      <th>Feasibility_T2_860</th>\n",
       "      <td>Hold the window.</td>\n",
       "    </tr>\n",
       "    <tr>\n",
       "      <th>Feasibility_T2_556</th>\n",
       "      <td>Tidy up the closet/cabinet.</td>\n",
       "    </tr>\n",
       "    <tr>\n",
       "      <th>Prediction_T1_2539</th>\n",
       "      <td>Open the bag.</td>\n",
       "    </tr>\n",
       "    <tr>\n",
       "      <th>Prediction_T4_1253</th>\n",
       "      <td>The pillow.</td>\n",
       "    </tr>\n",
       "    <tr>\n",
       "      <th>...</th>\n",
       "      <td>...</td>\n",
       "    </tr>\n",
       "    <tr>\n",
       "      <th>Interaction_T1_8913</th>\n",
       "      <td>The paper/notebook.</td>\n",
       "    </tr>\n",
       "    <tr>\n",
       "      <th>Interaction_T1_8967</th>\n",
       "      <td>The box.</td>\n",
       "    </tr>\n",
       "    <tr>\n",
       "      <th>Interaction_T2_1847</th>\n",
       "      <td>Took.</td>\n",
       "    </tr>\n",
       "    <tr>\n",
       "      <th>Interaction_T2_3423</th>\n",
       "      <td>Lied on.</td>\n",
       "    </tr>\n",
       "    <tr>\n",
       "      <th>Interaction_T4_4181</th>\n",
       "      <td>Put down the bag.</td>\n",
       "    </tr>\n",
       "  </tbody>\n",
       "</table>\n",
       "<p>1021 rows × 1 columns</p>\n",
       "</div>"
      ],
      "text/plain": [
       "                                            text\n",
       "id                                              \n",
       "Feasibility_T5_102                      The bag.\n",
       "Feasibility_T2_860              Hold the window.\n",
       "Feasibility_T2_556   Tidy up the closet/cabinet.\n",
       "Prediction_T1_2539                 Open the bag.\n",
       "Prediction_T4_1253                   The pillow.\n",
       "...                                          ...\n",
       "Interaction_T1_8913          The paper/notebook.\n",
       "Interaction_T1_8967                     The box.\n",
       "Interaction_T2_1847                        Took.\n",
       "Interaction_T2_3423                     Lied on.\n",
       "Interaction_T4_4181            Put down the bag.\n",
       "\n",
       "[1021 rows x 1 columns]"
      ]
     },
     "execution_count": 17,
     "metadata": {},
     "output_type": "execute_result"
    }
   ],
   "source": [
    "ans_df = \\\n",
    "    predictions_df[contains_answer]['answer'] \\\n",
    "    .apply(lambda x: re.findall(ans_regex_pattern, x)[-1]) \\\n",
    "    .apply(lambda x: x + '.' if not x.endswith('.') else x) \\\n",
    "    .to_frame(name='text')\n",
    "\n",
    "ans_df.rename(columns={0: 'text'}, inplace=True)\n",
    "\n",
    "ans_df['text'] = ans_df['text'].str.strip()\n",
    "ans_df\n"
   ]
  },
  {
   "cell_type": "code",
   "execution_count": 18,
   "metadata": {},
   "outputs": [
    {
     "name": "stdout",
     "output_type": "stream",
     "text": [
      "<class 'pandas.core.frame.DataFrame'>\n",
      "Index: 1021 entries, Feasibility_T5_102 to Interaction_T4_4181\n",
      "Data columns (total 1 columns):\n",
      " #   Column  Non-Null Count  Dtype \n",
      "---  ------  --------------  ----- \n",
      " 0   text    1021 non-null   object\n",
      "dtypes: object(1)\n",
      "memory usage: 16.0+ KB\n"
     ]
    }
   ],
   "source": [
    "ans_df.info()\n"
   ]
  },
  {
   "cell_type": "code",
   "execution_count": 19,
   "metadata": {},
   "outputs": [
    {
     "name": "stdout",
     "output_type": "stream",
     "text": [
      "We have 352 unique answers\n"
     ]
    }
   ],
   "source": [
    "freq = ans_df['text'].value_counts().reset_index()\n",
    "freq.columns = ['word', 'freq']\n",
    "\n",
    "print(f\"We have {freq.size} unique answers\")\n"
   ]
  },
  {
   "cell_type": "code",
   "execution_count": 20,
   "metadata": {},
   "outputs": [
    {
     "data": {
      "text/plain": [
       "text\n",
       "Put down.                  45\n",
       "The bag.                   39\n",
       "The blanket.               38\n",
       "The cup/glass/bottle.      36\n",
       "Opened.                    35\n",
       "                           ..\n",
       "Took the sandwich.          1\n",
       "Close the refrigerator.     1\n",
       "Throw the bag.              1\n",
       "the paper/notebook.         1\n",
       "the phone/camera.           1\n",
       "Name: count, Length: 176, dtype: int64"
      ]
     },
     "execution_count": 20,
     "metadata": {},
     "output_type": "execute_result"
    }
   ],
   "source": [
    "ans_df['text'].value_counts()\n"
   ]
  },
  {
   "cell_type": "code",
   "execution_count": 21,
   "metadata": {},
   "outputs": [
    {
     "data": {
      "text/plain": [
       "<Axes: xlabel='freq', ylabel='word'>"
      ]
     },
     "execution_count": 21,
     "metadata": {},
     "output_type": "execute_result"
    },
    {
     "data": {
      "image/png": "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",
      "text/plain": [
       "<Figure size 600x800 with 1 Axes>"
      ]
     },
     "metadata": {},
     "output_type": "display_data"
    }
   ],
   "source": [
    "plt.figure(figsize=(6, 8))\n",
    "sns.barplot(data=freq.sort_values('freq', ascending=False)[:50], x='freq', y='word')\n"
   ]
  },
  {
   "cell_type": "markdown",
   "metadata": {},
   "source": [
    "Let's do some visualization also for the ground truth data"
   ]
  },
  {
   "cell_type": "code",
   "execution_count": 22,
   "metadata": {},
   "outputs": [
    {
     "name": "stdout",
     "output_type": "stream",
     "text": [
      "We have 164 unique answers\n"
     ]
    }
   ],
   "source": [
    "print(f\"We have {gt_df['text'].nunique()} unique answers\")\n"
   ]
  },
  {
   "cell_type": "code",
   "execution_count": 23,
   "metadata": {},
   "outputs": [
    {
     "data": {
      "text/plain": [
       "<Axes: xlabel='freq', ylabel='word'>"
      ]
     },
     "execution_count": 23,
     "metadata": {},
     "output_type": "execute_result"
    },
    {
     "data": {
      "image/png": "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",
      "text/plain": [
       "<Figure size 600x800 with 1 Axes>"
      ]
     },
     "metadata": {},
     "output_type": "display_data"
    }
   ],
   "source": [
    "freq = gt_df['text'].value_counts().reset_index()\n",
    "freq.columns = ['word', 'freq']\n",
    "\n",
    "plt.figure(figsize=(6, 8))\n",
    "sns.barplot(data=freq.sort_values('freq', ascending=False)[:50], x='freq', y='word')\n"
   ]
  },
  {
   "cell_type": "code",
   "execution_count": 24,
   "metadata": {},
   "outputs": [
    {
     "data": {
      "text/plain": [
       "(1021, 4)"
      ]
     },
     "execution_count": 24,
     "metadata": {},
     "output_type": "execute_result"
    }
   ],
   "source": [
    "# Inner join - keeps only indices present in both series\n",
    "\n",
    "ans_df.rename(columns={'text': 'pred_text'}, inplace=True)\n",
    "eval_df = gt_df.join(\n",
    "    ans_df, \n",
    "    how='inner' # we account also for samples without answers\n",
    ")\n",
    "\n",
    "eval_df.shape\n"
   ]
  },
  {
   "cell_type": "code",
   "execution_count": 25,
   "metadata": {},
   "outputs": [],
   "source": [
    "eval_df['text'] = eval_df['text'].str.lower()\n",
    "eval_df['text'] = eval_df['text'].str.replace('.', '')\n",
    "\n",
    "eval_df['pred_text'] = eval_df['pred_text'].str.lower()\n",
    "eval_df['pred_text'] = eval_df['pred_text'].str.replace('.', '')\n"
   ]
  },
  {
   "cell_type": "code",
   "execution_count": 26,
   "metadata": {},
   "outputs": [],
   "source": [
    "def accuracy(eval_df, on_what='text'):\n",
    "    hits_text = (eval_df[f'pred_{on_what}'].str.lower() == eval_df[on_what].str.lower()).sum()\n",
    "    \n",
    "\n",
    "    return hits_text/eval_df.shape[0]\n"
   ]
  },
  {
   "cell_type": "markdown",
   "metadata": {},
   "source": [
    "check if the equality with NA result in a false or is skipped"
   ]
  },
  {
   "cell_type": "code",
   "execution_count": 27,
   "metadata": {},
   "outputs": [
    {
     "name": "stdout",
     "output_type": "stream",
     "text": [
      "Real Accuracy: 45.52%\n"
     ]
    }
   ],
   "source": [
    "real_acc = accuracy(eval_df) * eval_df.shape[0] / gt_df.shape[0]\n",
    "\n",
    "print(f\"Real Accuracy: {real_acc:.2%}\")\n"
   ]
  },
  {
   "cell_type": "code",
   "execution_count": 28,
   "metadata": {},
   "outputs": [],
   "source": [
    "def print_acc(eval_df, acc_fn):\n",
    "    print(f\"{'Question type':<15}{'Total':^15}{'Accuracy':^10}\\n\")\n",
    "\n",
    "    total = eval_df.index.str.startswith('Interaction').sum()\n",
    "    acc = acc_fn(eval_df[eval_df.index.str.startswith('Interaction')])\n",
    "    print(f\"{'Interaction':<15}{total:^15}{acc:^10.2%}\")\n",
    "\n",
    "    total = eval_df.index.str.startswith('Sequence').sum()\n",
    "    acc = acc_fn(eval_df[eval_df.index.str.startswith('Sequence')])\n",
    "    print(f\"{'Sequence':<15}{total:^15}{acc:^10.2%}\")\n",
    "\n",
    "    total = eval_df.index.str.startswith('Prediction').sum()\n",
    "    acc = acc_fn(eval_df[eval_df.index.str.startswith('Prediction')])\n",
    "    print(f\"{'Prediction':<15}{total:^15}{acc:^10.2%}\")\n",
    "\n",
    "    total = eval_df.index.str.startswith('Feasibility').sum()\n",
    "    acc = acc_fn(eval_df[eval_df.index.str.startswith('Feasibility')])\n",
    "    print(f\"{'Feasibility':<15}{total:^15}{acc:^10.2%}\")\n"
   ]
  },
  {
   "cell_type": "code",
   "execution_count": 29,
   "metadata": {},
   "outputs": [
    {
     "name": "stdout",
     "output_type": "stream",
     "text": [
      "Question type       Total      Accuracy \n",
      "\n",
      "Interaction          293        50.85%  \n",
      "Sequence             279        48.75%  \n",
      "Prediction           237        45.57%  \n",
      "Feasibility          212        39.62%  \n"
     ]
    }
   ],
   "source": [
    "print_acc(eval_df, lambda x: accuracy(x, on_what='text'))\n"
   ]
  },
  {
   "cell_type": "code",
   "execution_count": 30,
   "metadata": {},
   "outputs": [
    {
     "name": "stdout",
     "output_type": "stream",
     "text": [
      "Question type       Total      Answered \n",
      "\n",
      "Interaction          298        98.32%  \n",
      "Sequence             291        95.88%  \n",
      "Prediction           239        99.16%  \n",
      "Feasibility          220        96.36%  \n",
      "Overall             1048        97.42%  \n"
     ]
    }
   ],
   "source": [
    "# % of answers conforming to template per category\n",
    "\n",
    "def print_ans_perc(eval_df, gt_df):\n",
    "    print(f\"{'Question type':<15}{'Total':^15}{'Answered':^10}\\n\")\n",
    "\n",
    "    total = gt_df.index.str.startswith('Interaction').sum()\n",
    "    acc = len(gt_df.index.intersection(eval_df[eval_df.index.str.startswith('Interaction')].index))/total\n",
    "    print(f\"{'Interaction':<15}{total:^15}{acc:^10.2%}\")\n",
    "\n",
    "    total = gt_df.index.str.startswith('Sequence').sum()\n",
    "    acc = len(gt_df.index.intersection(eval_df[eval_df.index.str.startswith('Sequence')].index))/total\n",
    "    print(f\"{'Sequence':<15}{total:^15}{acc:^10.2%}\")\n",
    "\n",
    "    total = gt_df.index.str.startswith('Prediction').sum()\n",
    "    acc = len(gt_df.index.intersection(eval_df[eval_df.index.str.startswith('Prediction')].index))/total\n",
    "    print(f\"{'Prediction':<15}{total:^15}{acc:^10.2%}\")\n",
    "\n",
    "    total = gt_df.index.str.startswith('Feasibility').sum()\n",
    "    acc = len(gt_df.index.intersection(eval_df[eval_df.index.str.startswith('Feasibility')].index))/total\n",
    "    print(f\"{'Feasibility':<15}{total:^15}{acc:^10.2%}\")\n",
    "\n",
    "    total = gt_df.shape[0]\n",
    "    acc = eval_df.shape[0]/total\n",
    "    print(f\"{'Overall':<15}{total:^15}{acc:^10.2%}\")\n",
    "\n",
    "print_ans_perc(eval_df, gt_df)\n"
   ]
  }
 ],
 "metadata": {
  "kernelspec": {
   "display_name": "base",
   "language": "python",
   "name": "python3"
  },
  "language_info": {
   "codemirror_mode": {
    "name": "ipython",
    "version": 3
   },
   "file_extension": ".py",
   "mimetype": "text/x-python",
   "name": "python",
   "nbconvert_exporter": "python",
   "pygments_lexer": "ipython3",
   "version": "3.10.9"
  }
 },
 "nbformat": 4,
 "nbformat_minor": 2
}
              