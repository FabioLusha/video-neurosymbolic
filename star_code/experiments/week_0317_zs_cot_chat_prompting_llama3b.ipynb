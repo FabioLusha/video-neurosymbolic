{
 "cells": [
  {
   "cell_type": "code",
   "execution_count": 206,
   "metadata": {},
   "outputs": [],
   "source": [
    "import random\n",
    "import json\n",
    "import re\n",
    "import os\n",
    "\n",
    "import numpy as np\n",
    "import pandas as pd\n",
    "\n",
    "import matplotlib.pyplot as plt\n",
    "import seaborn as sns\n",
    "\n",
    "from sklearn.metrics import confusion_matrix\n",
    "\n",
    "random.seed(6)\n",
    "np.random.seed(6)\n"
   ]
  },
  {
   "cell_type": "markdown",
   "metadata": {},
   "source": [
    "# Experiment ? - Llama3.2 3b on chat mode\n",
    "\n",
    "In this experiment I feed the the model a revisioned version of the input, where the STSG is put the beginning of the prompt and the question with the alternatives at the end. Finally I ask the model to reason about the possible answer *step by step*, conditioning it to perform Zero-Shot-CoT (Prompt engineering technique where no example of thow to perform the reasoning is provided -- no in-context learning). Moreover, instead of asking the model to provide the answer on the same promtp, I instatied the model in multi-turn chat mode where, after the model gives the first response, a script sends an automatic reply asking to extract the final answer given by the model and give it a json format.\n",
    "\n",
    "**Parameters:**\n",
    "- model: llama3.2 3b\n",
    "- system prompt: MCQ_system_promtp_ZS_CoT.txt\n",
    "- user_prompt: MCQ_user_prompt_ZS_CoT_v2.txt\n",
    "- temperature: 0.1\n",
    "- sampling method: (default) top-p (p=0.9)\n"
   ]
  },
  {
   "cell_type": "markdown",
   "metadata": {},
   "source": [
    "## Prompts"
   ]
  },
  {
   "cell_type": "code",
   "execution_count": 207,
   "metadata": {},
   "outputs": [
    {
     "data": {
      "text/plain": [
       "['resp_analysis6_deepseek.ipynb',\n",
       " 'resp_analysis5.ipynb',\n",
       " 'week_0317_zero_shot_cot_chat_prompting.ipynb',\n",
       " 'resp_analysis4_ZS.ipynb',\n",
       " 'resp_analysis6_phi3.ipynb',\n",
       " 'week_0310_llama8b_as_judgeon_extracted_answers.ipynb',\n",
       " 'week_0224_llama8b_as_judge.ipynb',\n",
       " 'blame.txt',\n",
       " 'resp_analysis6_deepseek7b.ipynb',\n",
       " 'week_0224_correlation_llama3bvs8b.ipynb',\n",
       " 'resp_analysis6_llama8b.ipynb',\n",
       " 'resp_analysis6_llama3b.ipynb',\n",
       " 'resp_analysis.ipynb',\n",
       " 'week_0303_llama8b_as_judge_improving_correlation.ipynb',\n",
       " 'resp_analysis3.ipynb',\n",
       " 'week_0234_oneshot_nohtml_tags.ipynb',\n",
       " 'resp_analysis4_OS.ipynb',\n",
       " 'resp_analysis2.ipynb',\n",
       " 'week_0224_llama3b_bias_check.ipynb',\n",
       " 'week_0303_resp_analysis6_llama8b_regex_extract_last.ipynb',\n",
       " 'hallucinations_investigation.ipynb']"
      ]
     },
     "execution_count": 207,
     "metadata": {},
     "output_type": "execute_result"
    }
   ],
   "source": [
    "os.listdir()\n"
   ]
  },
  {
   "cell_type": "code",
   "execution_count": 208,
   "metadata": {},
   "outputs": [
    {
     "name": "stdout",
     "output_type": "stream",
     "text": [
      "You need to respond to reasoning questions by making logical inference on sequence of Scene-Graphs extracted from frames belonging to a video, called a Spatio-Temporal Scene Graph.\n",
      "\n",
      "IMPORTANT CLARIFICATIONS:\n",
      "- You will receive a question and Spatio-Temporal Scene-Graph\n",
      "- Each Scene-Graph is a static symbolic representation of the scene unfolding in the frame\n",
      "- The Scene-Graphs are ordered chronologically\n",
      "- The Scene-Graph is represented as a set of tuple in the format: subject - relationship - object\n",
      "- The Spatio-Temporal Scene-Graph is a cornologically sorted list of Scene-Graphs\n",
      "\n",
      "INSTRUCTIONS:\n",
      "- Read the entire Spatio-Temporal Scene-Graphs in chronological order and pay attention at the order of how events unfold.\n",
      "- Read the question and reason about the answer step by step.\n",
      "- In your answer include key events or relationships that help you in determing the correct answer.\n",
      "- Be careful to reproduce the chosen alternative as it is presented.\n"
     ]
    }
   ],
   "source": [
    "with open('../data/prompts/zero-shot-cot/MCQ_system_prompt_ZS_CoT.txt', 'r') as f:\n",
    "    pr = f.read()\n",
    "\n",
    "print(pr)\n"
   ]
  },
  {
   "cell_type": "code",
   "execution_count": 209,
   "metadata": {},
   "outputs": [
    {
     "name": "stdout",
     "output_type": "stream",
     "text": [
      "Please carefully read the following Spatio-Temporal Scene Graph delimited by the <STSG> tags and provide an answer to the question below:\n",
      "\n",
      "<STSG>\n",
      "{stsg}\n",
      "</STSG>\n",
      "\n",
      "Given the following question:\n",
      "<Q>\n",
      "{question}\n",
      "<Q>\n",
      "\n",
      "And the following alternatives:\n",
      "<Alternatives>\n",
      "A. {c1}\n",
      "B. {c2}\n",
      "C. {c3}\n",
      "D. {c4}\n",
      "</Alternatives>\n",
      "\n",
      "Provide an answer to the above question reasoning step by step on the Spatio-Temporal Scene-Graph (STSG) and choosing one of the alternatives.\n"
     ]
    }
   ],
   "source": [
    "with open('../data/prompts/zero-shot-cot/MCQ_user_prompt_ZS_CoT_v2.txt', 'r') as f:\n",
    "    pr = f.read()\n",
    "\n",
    "print(pr)\n"
   ]
  },
  {
   "cell_type": "code",
   "execution_count": 210,
   "metadata": {},
   "outputs": [
    {
     "name": "stdout",
     "output_type": "stream",
     "text": [
      "Therefore the final answer is?\n",
      "\n",
      "Your response must be provided in valid JSON format as follows:\n",
      "{\"answer\": \"your complete answer here\"}\n",
      "\n",
      "IMPORTANT: Always include both the letter (A, B, C, D, etc.) AND the full text of the answer in your response.\n",
      "Do not abbreviate or shorten the answer. For example, if the correct answer is \"A. the laptop\", your response \n",
      "should be {\"answer\": \"A. the laptop\"}, not {\"answer\": \"laptop\"} or {\"answer\": \"A\"}.\n"
     ]
    }
   ],
   "source": [
    "reply = \"\"\"\\\n",
    "Therefore the final answer is?\n",
    "\n",
    "Your response must be provided in valid JSON format as follows:\n",
    "{\"answer\": \"your complete answer here\"}\n",
    "\n",
    "IMPORTANT: Always include both the letter (A, B, C, D, etc.) AND the full text of the answer in your response.\n",
    "Do not abbreviate or shorten the answer. For example, if the correct answer is \"A. the laptop\", your response \n",
    "should be {\"answer\": \"A. the laptop\"}, not {\"answer\": \"laptop\"} or {\"answer\": \"A\"}.\\\n",
    "\"\"\"\n",
    "\n",
    "print(reply)\n"
   ]
  },
  {
   "cell_type": "markdown",
   "metadata": {},
   "source": [
    "Let's load the ground truth from the `STAR_QA_question_and_stsg_val.json` file where we extracted QA and spatio-temporal scene graphs"
   ]
  },
  {
   "cell_type": "code",
   "execution_count": 211,
   "metadata": {},
   "outputs": [
    {
     "data": {
      "text/html": [
       "<div>\n",
       "<style scoped>\n",
       "    .dataframe tbody tr th:only-of-type {\n",
       "        vertical-align: middle;\n",
       "    }\n",
       "\n",
       "    .dataframe tbody tr th {\n",
       "        vertical-align: top;\n",
       "    }\n",
       "\n",
       "    .dataframe thead th {\n",
       "        text-align: right;\n",
       "    }\n",
       "</style>\n",
       "<table border=\"1\" class=\"dataframe\">\n",
       "  <thead>\n",
       "    <tr style=\"text-align: right;\">\n",
       "      <th></th>\n",
       "      <th>question</th>\n",
       "      <th>choices</th>\n",
       "      <th>num</th>\n",
       "      <th>text</th>\n",
       "    </tr>\n",
       "    <tr>\n",
       "      <th>id</th>\n",
       "      <th></th>\n",
       "      <th></th>\n",
       "      <th></th>\n",
       "      <th></th>\n",
       "    </tr>\n",
       "  </thead>\n",
       "  <tbody>\n",
       "    <tr>\n",
       "      <th>Interaction_T1_13</th>\n",
       "      <td>Which object was tidied up by the person?</td>\n",
       "      <td>{'0': 'The closet/cabinet.', '1': 'The blanket...</td>\n",
       "      <td>2</td>\n",
       "      <td>The clothes.</td>\n",
       "    </tr>\n",
       "    <tr>\n",
       "      <th>Interaction_T1_14</th>\n",
       "      <td>Which object was tidied up by the person?</td>\n",
       "      <td>{'0': 'The blanket.', '1': 'The table.', '2': ...</td>\n",
       "      <td>2</td>\n",
       "      <td>The clothes.</td>\n",
       "    </tr>\n",
       "    <tr>\n",
       "      <th>Interaction_T1_31</th>\n",
       "      <td>Which object was thrown by the person?</td>\n",
       "      <td>{'0': 'The pillow.', '1': 'The bag.', '2': 'Th...</td>\n",
       "      <td>2</td>\n",
       "      <td>The clothes.</td>\n",
       "    </tr>\n",
       "    <tr>\n",
       "      <th>Interaction_T1_32</th>\n",
       "      <td>Which object was put down by the person?</td>\n",
       "      <td>{'0': 'The food.', '1': 'The shoe.', '2': 'The...</td>\n",
       "      <td>1</td>\n",
       "      <td>The shoe.</td>\n",
       "    </tr>\n",
       "    <tr>\n",
       "      <th>Interaction_T1_40</th>\n",
       "      <td>Which object was tidied up by the person?</td>\n",
       "      <td>{'0': 'The broom.', '1': 'The closet/cabinet.'...</td>\n",
       "      <td>1</td>\n",
       "      <td>The closet/cabinet.</td>\n",
       "    </tr>\n",
       "    <tr>\n",
       "      <th>...</th>\n",
       "      <td>...</td>\n",
       "      <td>...</td>\n",
       "      <td>...</td>\n",
       "      <td>...</td>\n",
       "    </tr>\n",
       "    <tr>\n",
       "      <th>Feasibility_T6_1453</th>\n",
       "      <td>What is the person able to do after taking the...</td>\n",
       "      <td>{'0': 'Wash the table.', '1': 'Take the box.',...</td>\n",
       "      <td>0</td>\n",
       "      <td>Wash the table.</td>\n",
       "    </tr>\n",
       "    <tr>\n",
       "      <th>Feasibility_T6_1454</th>\n",
       "      <td>What is the person able to do after walking th...</td>\n",
       "      <td>{'0': 'Take the towel.', '1': 'Throw the bag.'...</td>\n",
       "      <td>0</td>\n",
       "      <td>Take the towel.</td>\n",
       "    </tr>\n",
       "    <tr>\n",
       "      <th>Feasibility_T6_1455</th>\n",
       "      <td>What is the person able to do after walking th...</td>\n",
       "      <td>{'0': 'Throw the bag.', '1': 'Wash the table.'...</td>\n",
       "      <td>1</td>\n",
       "      <td>Wash the table.</td>\n",
       "    </tr>\n",
       "    <tr>\n",
       "      <th>Feasibility_T6_1456</th>\n",
       "      <td>What is the person able to do after putting th...</td>\n",
       "      <td>{'0': 'Hold the food.', '1': 'Open the closet/...</td>\n",
       "      <td>3</td>\n",
       "      <td>Wash the table.</td>\n",
       "    </tr>\n",
       "    <tr>\n",
       "      <th>Feasibility_T6_1468</th>\n",
       "      <td>What is the person able to do after opening th...</td>\n",
       "      <td>{'0': 'Wash the window.', '1': 'Hold the food....</td>\n",
       "      <td>1</td>\n",
       "      <td>Hold the food.</td>\n",
       "    </tr>\n",
       "  </tbody>\n",
       "</table>\n",
       "<p>7098 rows × 4 columns</p>\n",
       "</div>"
      ],
      "text/plain": [
       "                                                              question  \\\n",
       "id                                                                       \n",
       "Interaction_T1_13            Which object was tidied up by the person?   \n",
       "Interaction_T1_14            Which object was tidied up by the person?   \n",
       "Interaction_T1_31               Which object was thrown by the person?   \n",
       "Interaction_T1_32             Which object was put down by the person?   \n",
       "Interaction_T1_40            Which object was tidied up by the person?   \n",
       "...                                                                ...   \n",
       "Feasibility_T6_1453  What is the person able to do after taking the...   \n",
       "Feasibility_T6_1454  What is the person able to do after walking th...   \n",
       "Feasibility_T6_1455  What is the person able to do after walking th...   \n",
       "Feasibility_T6_1456  What is the person able to do after putting th...   \n",
       "Feasibility_T6_1468  What is the person able to do after opening th...   \n",
       "\n",
       "                                                               choices num  \\\n",
       "id                                                                           \n",
       "Interaction_T1_13    {'0': 'The closet/cabinet.', '1': 'The blanket...   2   \n",
       "Interaction_T1_14    {'0': 'The blanket.', '1': 'The table.', '2': ...   2   \n",
       "Interaction_T1_31    {'0': 'The pillow.', '1': 'The bag.', '2': 'Th...   2   \n",
       "Interaction_T1_32    {'0': 'The food.', '1': 'The shoe.', '2': 'The...   1   \n",
       "Interaction_T1_40    {'0': 'The broom.', '1': 'The closet/cabinet.'...   1   \n",
       "...                                                                ...  ..   \n",
       "Feasibility_T6_1453  {'0': 'Wash the table.', '1': 'Take the box.',...   0   \n",
       "Feasibility_T6_1454  {'0': 'Take the towel.', '1': 'Throw the bag.'...   0   \n",
       "Feasibility_T6_1455  {'0': 'Throw the bag.', '1': 'Wash the table.'...   1   \n",
       "Feasibility_T6_1456  {'0': 'Hold the food.', '1': 'Open the closet/...   3   \n",
       "Feasibility_T6_1468  {'0': 'Wash the window.', '1': 'Hold the food....   1   \n",
       "\n",
       "                                    text  \n",
       "id                                        \n",
       "Interaction_T1_13           The clothes.  \n",
       "Interaction_T1_14           The clothes.  \n",
       "Interaction_T1_31           The clothes.  \n",
       "Interaction_T1_32              The shoe.  \n",
       "Interaction_T1_40    The closet/cabinet.  \n",
       "...                                  ...  \n",
       "Feasibility_T6_1453      Wash the table.  \n",
       "Feasibility_T6_1454      Take the towel.  \n",
       "Feasibility_T6_1455      Wash the table.  \n",
       "Feasibility_T6_1456      Wash the table.  \n",
       "Feasibility_T6_1468       Hold the food.  \n",
       "\n",
       "[7098 rows x 4 columns]"
      ]
     },
     "execution_count": 211,
     "metadata": {},
     "output_type": "execute_result"
    }
   ],
   "source": [
    "ground_truth = []\n",
    "\n",
    "with open('../data/datasets/STAR_QA_and_stsg_val.json') as f:\n",
    "    data = json.load(f)\n",
    "    ground_truth = [{\n",
    "        'id': sample['question_id'],\n",
    "        'question': sample['question'],\n",
    "        'choices': sample['choices'],\n",
    "        'num': sample['answer'],\n",
    "        'text': sample['choices'][str(sample['answer'])]\n",
    "    } for sample in data]\n",
    "\n",
    "\n",
    "# we keep num as str so we can directrly access choices dictionaries\n",
    "gt_df = pd.DataFrame(ground_truth).astype({'id': 'string', 'num': 'string', 'text': 'string'})\n",
    "gt_df.set_index('id', inplace=True)\n",
    "gt_df\n"
   ]
  },
  {
   "cell_type": "markdown",
   "metadata": {},
   "source": [
    "## Loading predicted answers evaluation"
   ]
  },
  {
   "cell_type": "code",
   "execution_count": 212,
   "metadata": {},
   "outputs": [
    {
     "data": {
      "text/html": [
       "<div>\n",
       "<style scoped>\n",
       "    .dataframe tbody tr th:only-of-type {\n",
       "        vertical-align: middle;\n",
       "    }\n",
       "\n",
       "    .dataframe tbody tr th {\n",
       "        vertical-align: top;\n",
       "    }\n",
       "\n",
       "    .dataframe thead th {\n",
       "        text-align: right;\n",
       "    }\n",
       "</style>\n",
       "<table border=\"1\" class=\"dataframe\">\n",
       "  <thead>\n",
       "    <tr style=\"text-align: right;\">\n",
       "      <th></th>\n",
       "      <th>chat_history</th>\n",
       "    </tr>\n",
       "    <tr>\n",
       "      <th>id</th>\n",
       "      <th></th>\n",
       "    </tr>\n",
       "  </thead>\n",
       "  <tbody>\n",
       "    <tr>\n",
       "      <th>Interaction_T1_13</th>\n",
       "      <td>[{'role': 'user', 'content': \"Please carefully...</td>\n",
       "    </tr>\n",
       "    <tr>\n",
       "      <th>Interaction_T1_14</th>\n",
       "      <td>[{'role': 'user', 'content': \"Please carefully...</td>\n",
       "    </tr>\n",
       "    <tr>\n",
       "      <th>Interaction_T1_31</th>\n",
       "      <td>[{'role': 'user', 'content': \"Please carefully...</td>\n",
       "    </tr>\n",
       "    <tr>\n",
       "      <th>Interaction_T1_32</th>\n",
       "      <td>[{'role': 'user', 'content': \"Please carefully...</td>\n",
       "    </tr>\n",
       "    <tr>\n",
       "      <th>Interaction_T1_40</th>\n",
       "      <td>[{'role': 'user', 'content': \"Please carefully...</td>\n",
       "    </tr>\n",
       "    <tr>\n",
       "      <th>...</th>\n",
       "      <td>...</td>\n",
       "    </tr>\n",
       "    <tr>\n",
       "      <th>Feasibility_T6_1453</th>\n",
       "      <td>[{'role': 'user', 'content': \"Please carefully...</td>\n",
       "    </tr>\n",
       "    <tr>\n",
       "      <th>Feasibility_T6_1454</th>\n",
       "      <td>[{'role': 'user', 'content': \"Please carefully...</td>\n",
       "    </tr>\n",
       "    <tr>\n",
       "      <th>Feasibility_T6_1455</th>\n",
       "      <td>[{'role': 'user', 'content': \"Please carefully...</td>\n",
       "    </tr>\n",
       "    <tr>\n",
       "      <th>Feasibility_T6_1456</th>\n",
       "      <td>[{'role': 'user', 'content': \"Please carefully...</td>\n",
       "    </tr>\n",
       "    <tr>\n",
       "      <th>Feasibility_T6_1468</th>\n",
       "      <td>[{'role': 'user', 'content': \"Please carefully...</td>\n",
       "    </tr>\n",
       "  </tbody>\n",
       "</table>\n",
       "<p>7098 rows × 1 columns</p>\n",
       "</div>"
      ],
      "text/plain": [
       "                                                          chat_history\n",
       "id                                                                    \n",
       "Interaction_T1_13    [{'role': 'user', 'content': \"Please carefully...\n",
       "Interaction_T1_14    [{'role': 'user', 'content': \"Please carefully...\n",
       "Interaction_T1_31    [{'role': 'user', 'content': \"Please carefully...\n",
       "Interaction_T1_32    [{'role': 'user', 'content': \"Please carefully...\n",
       "Interaction_T1_40    [{'role': 'user', 'content': \"Please carefully...\n",
       "...                                                                ...\n",
       "Feasibility_T6_1453  [{'role': 'user', 'content': \"Please carefully...\n",
       "Feasibility_T6_1454  [{'role': 'user', 'content': \"Please carefully...\n",
       "Feasibility_T6_1455  [{'role': 'user', 'content': \"Please carefully...\n",
       "Feasibility_T6_1456  [{'role': 'user', 'content': \"Please carefully...\n",
       "Feasibility_T6_1468  [{'role': 'user', 'content': \"Please carefully...\n",
       "\n",
       "[7098 rows x 1 columns]"
      ]
     },
     "execution_count": 212,
     "metadata": {},
     "output_type": "execute_result"
    }
   ],
   "source": [
    "predictions = []\n",
    "with open('../outputs/responses_llama3.2_20250321_10:18:36_chat.jsonl') as f:\n",
    "    predictions = [json.loads(line) for line in f.readlines()]\n",
    "\n",
    "# transforming the id key from `qid` to `id` for consistency and `response` to `answer`\n",
    "predictions_df = pd.DataFrame(predictions, dtype='string').rename(columns={'qid':'id', 'response':'answer'})\n",
    "predictions_df.set_index('id', inplace=True)\n",
    "predictions_df\n"
   ]
  },
  {
   "cell_type": "code",
   "execution_count": 213,
   "metadata": {},
   "outputs": [
    {
     "data": {
      "text/html": [
       "<div>\n",
       "<style scoped>\n",
       "    .dataframe tbody tr th:only-of-type {\n",
       "        vertical-align: middle;\n",
       "    }\n",
       "\n",
       "    .dataframe tbody tr th {\n",
       "        vertical-align: top;\n",
       "    }\n",
       "\n",
       "    .dataframe thead th {\n",
       "        text-align: right;\n",
       "    }\n",
       "</style>\n",
       "<table border=\"1\" class=\"dataframe\">\n",
       "  <thead>\n",
       "    <tr style=\"text-align: right;\">\n",
       "      <th></th>\n",
       "      <th>chat_history</th>\n",
       "    </tr>\n",
       "    <tr>\n",
       "      <th>id</th>\n",
       "      <th></th>\n",
       "    </tr>\n",
       "  </thead>\n",
       "  <tbody>\n",
       "    <tr>\n",
       "      <th>Interaction_T1_13</th>\n",
       "      <td>[{'role': 'user', 'content': 'Please carefully...</td>\n",
       "    </tr>\n",
       "    <tr>\n",
       "      <th>Interaction_T1_14</th>\n",
       "      <td>[{'role': 'user', 'content': 'Please carefully...</td>\n",
       "    </tr>\n",
       "    <tr>\n",
       "      <th>Interaction_T1_31</th>\n",
       "      <td>[{'role': 'user', 'content': 'Please carefully...</td>\n",
       "    </tr>\n",
       "    <tr>\n",
       "      <th>Interaction_T1_32</th>\n",
       "      <td>[{'role': 'user', 'content': 'Please carefully...</td>\n",
       "    </tr>\n",
       "    <tr>\n",
       "      <th>Interaction_T1_40</th>\n",
       "      <td>[{'role': 'user', 'content': 'Please carefully...</td>\n",
       "    </tr>\n",
       "    <tr>\n",
       "      <th>...</th>\n",
       "      <td>...</td>\n",
       "    </tr>\n",
       "    <tr>\n",
       "      <th>Feasibility_T6_1453</th>\n",
       "      <td>[{'role': 'user', 'content': 'Please carefully...</td>\n",
       "    </tr>\n",
       "    <tr>\n",
       "      <th>Feasibility_T6_1454</th>\n",
       "      <td>[{'role': 'user', 'content': 'Please carefully...</td>\n",
       "    </tr>\n",
       "    <tr>\n",
       "      <th>Feasibility_T6_1455</th>\n",
       "      <td>[{'role': 'user', 'content': 'Please carefully...</td>\n",
       "    </tr>\n",
       "    <tr>\n",
       "      <th>Feasibility_T6_1456</th>\n",
       "      <td>[{'role': 'user', 'content': 'Please carefully...</td>\n",
       "    </tr>\n",
       "    <tr>\n",
       "      <th>Feasibility_T6_1468</th>\n",
       "      <td>[{'role': 'user', 'content': 'Please carefully...</td>\n",
       "    </tr>\n",
       "  </tbody>\n",
       "</table>\n",
       "<p>7098 rows × 1 columns</p>\n",
       "</div>"
      ],
      "text/plain": [
       "                                                          chat_history\n",
       "id                                                                    \n",
       "Interaction_T1_13    [{'role': 'user', 'content': 'Please carefully...\n",
       "Interaction_T1_14    [{'role': 'user', 'content': 'Please carefully...\n",
       "Interaction_T1_31    [{'role': 'user', 'content': 'Please carefully...\n",
       "Interaction_T1_32    [{'role': 'user', 'content': 'Please carefully...\n",
       "Interaction_T1_40    [{'role': 'user', 'content': 'Please carefully...\n",
       "...                                                                ...\n",
       "Feasibility_T6_1453  [{'role': 'user', 'content': 'Please carefully...\n",
       "Feasibility_T6_1454  [{'role': 'user', 'content': 'Please carefully...\n",
       "Feasibility_T6_1455  [{'role': 'user', 'content': 'Please carefully...\n",
       "Feasibility_T6_1456  [{'role': 'user', 'content': 'Please carefully...\n",
       "Feasibility_T6_1468  [{'role': 'user', 'content': 'Please carefully...\n",
       "\n",
       "[7098 rows x 1 columns]"
      ]
     },
     "execution_count": 213,
     "metadata": {},
     "output_type": "execute_result"
    }
   ],
   "source": [
    "predictions_df['chat_history'] = \\\n",
    "    predictions_df['chat_history'] \\\n",
    "    .apply(lambda x: eval(x))\n",
    "\n",
    "predictions_df\n"
   ]
  },
  {
   "cell_type": "code",
   "execution_count": 214,
   "metadata": {},
   "outputs": [
    {
     "name": "stdout",
     "output_type": "stream",
     "text": [
      "Total answers: 7098\n",
      "Answers following JSON template: 7095\n",
      "Percentage following JSON template: 99.96%\n"
     ]
    }
   ],
   "source": [
    "predictions_df['answer'] = predictions_df['chat_history'].apply(lambda x: x[-1]['content'])\n",
    "# Create mask for answers that follow JSON syntax\n",
    "json_mask = predictions_df['answer'] .str.match(r'^\\s*{[^}]+}\\s*$')\n",
    "matches_json_template = json_mask.sum()\n",
    "\n",
    "print(f\"Total answers: {len(predictions_df)}\")\n",
    "print(f\"Answers following JSON template: {matches_json_template}\")\n",
    "print(f\"Percentage following JSON template: {(matches_json_template/len(predictions_df))*100:.2f}%\")\n"
   ]
  },
  {
   "cell_type": "markdown",
   "metadata": {},
   "source": [
    "Here we have wrong formantting, regardless of the correctness of the answer"
   ]
  },
  {
   "cell_type": "code",
   "execution_count": 215,
   "metadata": {},
   "outputs": [
    {
     "data": {
      "text/plain": [
       "'{\"answer\": \"I couldn\"}}'"
      ]
     },
     "execution_count": 215,
     "metadata": {},
     "output_type": "execute_result"
    }
   ],
   "source": [
    "predictions_df[~json_mask]['answer'].iloc[0]"
   ]
  },
  {
   "cell_type": "code",
   "execution_count": 216,
   "metadata": {},
   "outputs": [
    {
     "data": {
      "text/plain": [
       "'{\"answer\": \"B. Threw the clothes is not supported by the STSG as there are no instances where the person throws anything, however, looking at the next part of the STSG: [[\\'person - touching- towel\\', ...]], we can see that after the person put down the blanket, they started using a towel. This suggests that the person was trying to clean themselves or dry something. Therefore, option D is not supported by the STSG as there are no instances where the person puts anything down. However, looking at the next part of the STSG: [[\\'person - touching- towel\\', ...]], we can see that after the person put down the blanket, they started using a towel. This suggests that the person was trying to clean themselves or dry something. Considering this information and the options provided, we cannot directly conclude any of the alternatives as correct based on the STSG alone. However, if we consider the context of the question \\\\u201CWhat happened after the person put down the blanket?\\\\\\\\u201D it seems more likely that the person would be using a towel to clean themselves or dry something. Therefore, option D is not supported by the STSG as there are no instances where the person puts anything down. However, looking at the next part of the STSG: [[\\'person - touching- towel\\', ...]], we can see that after the person put down the blanket, they started using a towel. This suggests that the person was trying to clean themselves or dry something. Considering this information and the options provided, we cannot directly conclude any of the alternatives as correct based on the STSG alone. However, if we consider the context of the question \\\\u201CWhat happened after the person put down the blanket?\\\\\\\\u201D it seems more likely that the person would be using a towel to clean themselves or dry something. Therefore, option D is not supported by the STSG as there are no instances where the person puts anything down. However, looking at the next part of the STSG: [[\\'person - touching- towel\\', ...]], we can see that after the person put down the blanket, they started using a towel. This suggests that the person was trying to clean themselves or dry something. Considering this information and the options provided, we cannot directly conclude any of the alternatives as correct based on the STSG alone. However, if we consider the context of the question \\\\u201CWhat happened after the person put down the blanket?\\\\\\\\u201D it seems more likely that the person would be using a towel to clean themselves or dry something. Therefore, option D is not supported by the STSG as there are no instances where the person puts anything down. However, looking at the next part of the STSG: [[\\'person - touching- towel\\', ...]], we can see that after the person put down the blanket, they started using a towel. This suggests that the person was trying to clean themselves or dry something. Considering this information and the options provided, we cannot directly conclude any of the alternatives as correct based on the STSG alone. However, if we consider the context of the question \\\\u201CWhat happened after the person put down the blanket?\\\\\\\\u201D it seems more likely that the person would be using a towel to clean themselves or dry something. Therefore, option D is not supported by the STSG as there are no instances where the person puts anything down. However, looking at the next part of the STSG: [[\\'person - touching- towel\\', ...]], we can see that after the person put down the blanket, they started using a towel. This suggests that the person was trying to clean themselves or dry something. Considering this information and the options provided, we cannot directly conclude any of the alternatives as correct based on the STSG alone. However, if we consider the context of the question \\\\u201CWhat happened after the person put down the blanket?\\\\\\\\u201D it seems more likely that the person would be using a towel to clean themselves or dry something. Therefore, option D is not supported by the STSG as there are no instances where the person puts anything down. However, looking at the next part of the STSG: [[\\'person - touching- towel\\', ...]], we can see that after the person put down the blanket, they started using a towel. This suggests that the person was trying to clean themselves or dry something. Considering this information and the options provided, we cannot directly conclude any of the alternatives as correct based on the STSG alone. However, if we consider the context of the question \\\\u201CWhat happened after the person put down the blanket?\\\\\\\\u201D it seems more likely that the person would be using a towel to clean themselves or dry something. Therefore, option D is not supported by the STSG as there are no instances where the person puts anything down. However, looking at the next part of the STSG: [[\\'person - touching- towel\\', ...]], we can see that after the person put down the blanket, they started using a towel. This suggests that the person was trying to clean themselves or dry something. Considering this information and the options provided, we cannot directly conclude any of the alternatives as correct based on the STSG alone. However, if we consider the context of the question \\\\u201CWhat happened after the person put down the blanket?\\\\\\\\u201D it seems more likely that the person would be using a towel to clean themselves or dry something. Therefore, option D is not supported by the STSG as there are no instances where the person puts anything down. However, looking at the next part of the STSG: [[\\'person - touching- towel\\', ...]], we can see that after the person put down the blanket, they started using a towel. This suggests that the person was trying to clean themselves or dry something. Considering this information and the options provided, we cannot directly conclude any of the alternatives as correct based on the STSG alone. However, if we consider the context of the question \\\\u201CWhat happened after the person put down the blanket?\\\\\\\\u201D it seems more likely that the person would be using a towel to clean themselves or dry something. Therefore, option D is not supported by the STSG as there are no instances where the person puts anything down. However, looking at the next part of the STSG: [[\\'person - touching- towel\\', ...]], we can see that after the person put down the blanket, they started using a towel. This suggests that the person was trying to clean themselves or dry something. Considering this information and the options provided, we cannot directly conclude any of the alternatives as correct based on the STSG alone. However, if we consider the context of the question \\\\u201CWhat happened after the person put down the blanket?\\\\\\\\u201D it seems more likely that the person would be using a towel to clean themselves or dry something. Therefore, option D is not supported by the STSG as there are no instances where the person puts anything down. However, looking at the next part of the STSG: [[\\'person - touching- towel\\', ...]], we can see that after the person put down the blanket, they started using a towel. This suggests that the person was trying to clean themselves or dry something. Considering this information and the options provided, we cannot directly conclude any of the alternatives as correct based on the STSG alone. However, if we consider the context of the question \\\\u201CWhat happened after the person put down the blanket?\\\\\\\\u201D it seems more likely that the person would be using a towel to clean themselves or dry something. Therefore, option D is not supported by the STSG as there are no instances where the person puts anything down. However, looking at the next part of the STSG: [[\\'person - touching- towel\\', ...]], we can see that after the person put down the blanket, they started using a towel. This suggests that the person was trying to clean themselves or dry something. Considering this information and the options provided, we cannot directly conclude any of the alternatives as correct based on the STSG alone. However, if we consider the context of the question \\\\u201CWhat happened after the person put down the blanket?\\\\\\\\u201D it seems more likely that the person would be using a towel to clean themselves or dry something. Therefore, option D is not supported by the STSG as there are no instances where the person puts anything down. However, looking at the next part of the STSG: [[\\'person - touching- towel\\', ...]], we can see that after the person put down the blanket, they started using a towel. This suggests that the person was trying to clean themselves or dry something. Considering this information and the options provided, we cannot directly conclude any of the alternatives as correct based on the STSG alone. However, if we consider the context of the question \\\\u201CWhat happened after the person put down the blanket?\\\\\\\\u201D it seems more likely that the person would be using a towel to clean themselves or dry something. Therefore, option D is not supported by the STSG as there are no instances where the person puts anything down. However, looking at the next part of the STSG: [[\\'person - touching- towel\\', ...]], we can see that after the person put down the blanket, they started using a towel. This suggests that the person was trying to clean themselves or dry something. Considering this information and the options provided, we cannot directly conclude any of the alternatives as correct based on the STSG alone. However, if we consider the context of the question \\\\u201CWhat happened after the person put down the blanket?\\\\\\\\u201D it seems more likely that the person would be using a towel to clean themselves or dry something. Therefore, option D is not supported by the STSG as there are no instances where the person puts anything down. However, looking at the next part of the STSG: [[\\'person - touching- towel\\', ...'"
      ]
     },
     "execution_count": 216,
     "metadata": {},
     "output_type": "execute_result"
    }
   ],
   "source": [
    "predictions_df[~json_mask]['answer'].iloc[1]"
   ]
  },
  {
   "cell_type": "code",
   "execution_count": 217,
   "metadata": {},
   "outputs": [
    {
     "data": {
      "text/plain": [
       "'{\"answer\": \"D. Tidied up the clothes is incorrect because there is no scene where the person tidies up the clothes, but A. Took the food is also incorrect because it does not make sense in this context, B. Put down the food and C. Threw the towel are also incorrect. The correct answer is D. Tidied up the clothes is incorrect, therefore the correct answer is:  \\'person - eating - sandwich\\' appears in multiple scenes. The scene where the person is eating food also mentions \\'person - eating - sandwich\\', which implies that after holding the sandwich, the person ate it. Therefore, the correct answer is A. Took the food (no, this is incorrect) -> B. Put down the food (no, this is incorrect) -> C. Threw the towel (no, this is incorrect) -> D. Tidied up the clothes (no, this is incorrect). The best alternative to choose from the given options would be: A. Took the food (no, this is incorrect) -> B. Put down the food (no, this is incorrect) -> C. Threw the towel (no, this is incorrect) -> D. Tidied up the clothes (no, this is incorrect). The best alternative to choose from the given options would be: A. Took the food (no, this is incorrect) -> B. Put down the food (no, this is incorrect) -> C. Threw the towel (no, this is incorrect) -> D. Tidied up the clothes (no, this is incorrect). The best alternative to choose from the given options would be: A. Took the food (no, this is incorrect) -> B. Put down the food (no, this is incorrect) -> C. Threw the towel (no, this is incorrect) -> D. Tidied up the clothes (no, this is incorrect). The best alternative to choose from the given options would be: A. Took the food (no, this is incorrect) -> B. Put down the food (no, this is incorrect) -> C. Threw the towel (no, this is incorrect) -> D. Tidied up the clothes (no, this is incorrect). The best alternative to choose from the given options would be: A. Took the food (no, this is incorrect) -> B. Put down the food (no, this is incorrect) -> C. Threw the towel (no, this is incorrect) -> D. Tidied up the clothes (no, this is incorrect). The best alternative to choose from the given options would be: A. Took the food (no, this is incorrect) -> B. Put down the food (no, this is incorrect) -> C. Threw the towel (no, this is incorrect) -> D. Tidied up the clothes (no, this is incorrect). The best alternative to choose from the given options would be: A. Took the food (no, this is incorrect) -> B. Put down the food (no, this is incorrect) -> C. Threw the towel (no, this is incorrect) -> D. Tidied up the clothes (no, this is incorrect). The best alternative to choose from the given options would be: A. Took the food (no, this is incorrect) -> B. Put down the food (no, this is incorrect) -> C. Threw the towel (no, this is incorrect) -> D. Tidied up the clothes (no, this is incorrect). The best alternative to choose from the given options would be: A. Took the food (no, this is incorrect) -> B. Put down the food (no, this is incorrect) -> C. Threw the towel (no, this is incorrect) -> D. Tidied up the clothes (no, this is incorrect). The best alternative to choose from the given options would be: A. Took the food (no, this is incorrect) -> B. Put down the food (no, this is incorrect) -> C. Threw the towel (no, this is incorrect) -> D. Tidied up the clothes (no, this is incorrect). The best alternative to choose from the given options would be: A. Took the food (no, this is incorrect) -> B. Put down the food (no, this is incorrect) -> C. Threw the towel (no, this is incorrect) -> D. Tidied up the clothes (no, this is incorrect). The best alternative to choose from the given options would be: A. Took the food (no, this is incorrect) -> B. Put down the food (no, this is incorrect) -> C. Threw the towel (no, this is incorrect) -> D. Tidied up the clothes (no, this is incorrect). The best alternative to choose from the given options would be: A. Took the food (no, this is incorrect) -> B. Put down the food (no, this is incorrect) -> C. Threw the towel (no, this is incorrect) -> D. Tidied up the clothes (no, this is incorrect). The best alternative to choose from the given options would be: A. Took the food (no, this is incorrect) -> B. Put down the food (no, this is incorrect) -> C. Threw the towel (no, this is incorrect) -> D. Tidied up the clothes (no, this is incorrect). The best alternative to choose from the given options would be: A. Took the food (no, this is incorrect) -> B. Put down the food (no, this is incorrect) -> C. Threw the towel (no, this is incorrect) -> D. Tidied up the clothes (no, this is incorrect). The best alternative to choose from the given options would be: A. Took the food (no, this is incorrect) -> B. Put down the food (no, this is incorrect) -> C. Threw the towel (no, this is incorrect) -> D. Tidied up the clothes (no, this is incorrect). The best alternative to choose from the given options would be: A. Took the food (no, this is incorrect) -> B. Put down the food (no, this is incorrect) -> C. Threw the towel (no, this is incorrect) -> D. Tidied up the clothes (no, this is incorrect). The best alternative to choose from the given options would be: A. Took the food (no, this is incorrect) -> B. Put down the food (no, this is incorrect) -> C. Threw the towel (no, this is incorrect) -> D. Tidied up the clothes (no, this is incorrect). The best alternative to choose from the given options would be: A. Took the food (no, this is incorrect) -> B. Put down the food (no, this is incorrect) -> C. Threw the towel (no, this is incorrect) -> D. Tidied up the clothes (no, this is incorrect). The best alternative to choose from the given options would be: A. Took the food (no, this is incorrect) -> B. Put down the food (no, this is incorrect) -> C. Threw the towel (no, this is incorrect) -> D. Tidied up the clothes (no, this is incorrect). The best alternative to choose from the given options would be: A. Took the food (no, this is incorrect) -> B. Put down the food (no, this is incorrect) -> C. Threw the towel (no, this is incorrect) -> D. Tidied up the clothes (no, this is incorrect). The best alternative to choose from the given options would be: A. Took the food (no, this is incorrect) -> B. Put down the food (no, this is incorrect) -> C. Threw the towel (no, this is incorrect) -> D. Tidied up the clothes (no, this is incorrect). The best alternative to choose from the given options would be: A. Took the food (no, this is incorrect) -> B. Put down the food (no, this is incorrect) -> C. Threw the towel (no, this is incorrect) -> D. Tidied up the clothes (no, this is incorrect). The best alternative to choose from the given options would be: A. Took the food (no, this is incorrect) -> B. Put down the food (no, this is incorrect) -> C. Threw the towel (no, this is incorrect) -> D. Tidied up the clothes (no, this is incorrect). The best alternative to choose from the given options would be: A. Took the food (no, this is incorrect) -> B. Put down the food (no, this is incorrect) -> C. Threw the towel (no, this is incorrect) -> D. Tidied up the clothes (no, this is incorrect). The best alternative to choose from the given options would be: A. Took the food (no, this is incorrect) -> B. Put down the food (no, this is incorrect) -> C. Threw the towel (no, this is incorrect) -> D. Tidied up the clothes (no, this is incorrect). The best alternative to choose from the given options would be: A. Took the food (no, this is incorrect) -> B. Put down the food (no, this is incorrect) -> C. Threw the towel (no, this is incorrect) -> D. Tidied up the clothes (no, this is incorrect). The best alternative to choose from the given options would be: A. Took the food (no, this is'"
      ]
     },
     "execution_count": 217,
     "metadata": {},
     "output_type": "execute_result"
    }
   ],
   "source": [
    "predictions_df[~json_mask]['answer'].iloc[2]"
   ]
  },
  {
   "cell_type": "code",
   "execution_count": 218,
   "metadata": {},
   "outputs": [
    {
     "data": {
      "text/plain": [
       "'C. The clothes.'"
      ]
     },
     "execution_count": 218,
     "metadata": {},
     "output_type": "execute_result"
    }
   ],
   "source": [
    "eval(predictions_df[json_mask]['answer'].iloc[0])['answer']"
   ]
  },
  {
   "cell_type": "code",
   "execution_count": 219,
   "metadata": {},
   "outputs": [],
   "source": [
    "predictions_df.loc[json_mask, 'answer'] = predictions_df.loc[json_mask, 'answer'].apply(lambda x: eval(x)['answer'].strip())\n",
    "predictions_df.loc[~json_mask, 'answer'] = \"\""
   ]
  },
  {
   "cell_type": "code",
   "execution_count": 220,
   "metadata": {},
   "outputs": [
    {
     "name": "stdout",
     "output_type": "stream",
     "text": [
      "Answer following the template: 7068\n",
      "99.58% of the total\n",
      "\n",
      "Only 30 samples do not contain the answer in the response with the specified format\n"
     ]
    },
    {
     "name": "stderr",
     "output_type": "stream",
     "text": [
      "/tmp/ipykernel_32783/4018721229.py:2: UserWarning: This pattern is interpreted as a regular expression, and has match groups. To actually get the groups, use str.extract.\n",
      "  contains_answer = predictions_df['answer'].str.contains(ans_regex_pattern, regex=True)\n"
     ]
    }
   ],
   "source": [
    "ans_regex_pattern = r'^(?:[A-Z]\\.)\\s+((?:\\w+(?:\\s|\\/)?){,10}\\.?)'\n",
    "contains_answer = predictions_df['answer'].str.contains(ans_regex_pattern, regex=True)\n",
    "\n",
    "print(f\"Answer following the template: {contains_answer.value_counts()[True]}\\n\"\n",
    "      f\"{contains_answer.value_counts()[True]/predictions_df.shape[0]:.2%} of the total\")\n",
    "\n",
    "print(f\"\\nOnly {contains_answer.value_counts()[False]} samples do not contain the answer in the response with the specified format\")"
   ]
  },
  {
   "cell_type": "code",
   "execution_count": 221,
   "metadata": {},
   "outputs": [
    {
     "data": {
      "text/plain": [
       "id\n",
       "Interaction_T1_532                   None of the above (C). The blanket.\n",
       "Interaction_T1_3211                                   None of the above.\n",
       "Interaction_T1_4128    None of the above alternatives can be confiden...\n",
       "Interaction_T1_6343                                    None of the above\n",
       "Interaction_T1_6756    There is no clear evidence in the Spatio-Tempo...\n",
       "Interaction_T2_277     None of the alternatives (A. Washed, B. Tidied...\n",
       "Interaction_T2_6358    None of the above. The person was holding and ...\n",
       "Interaction_T4_931                                                      \n",
       "Interaction_T4_1092                                    None of the above\n",
       "Interaction_T4_1484            None of the above. A. Put down the towel.\n",
       "Interaction_T4_1654    We cannot determine what the person did with t...\n",
       "Interaction_T4_2161    Unknown. The scene graph does not provide any ...\n",
       "Interaction_T4_4709                                    None of the above\n",
       "Sequence_T1_28         None of the alternatives (A, B, C, D) can be c...\n",
       "Sequence_T1_707                                        None of the above\n",
       "Sequence_T1_5180       None of the alternatives (A, B, C, D). The boo...\n",
       "Sequence_T2_67         There is no clear evidence to determine which ...\n",
       "Sequence_T2_2098       None of the above. The person did not put down...\n",
       "Sequence_T3_3157       Unfortunately, none of the alternatives can be...\n",
       "Sequence_T3_3262                                                        \n",
       "Sequence_T3_3360                                                        \n",
       "Sequence_T4_1038       There is not enough information in the STSG to...\n",
       "Sequence_T4_1750                                None of the above (N/A).\n",
       "Sequence_T4_2173             None of the above. A. Put down the picture.\n",
       "Sequence_T5_3583                                       None of the above\n",
       "Sequence_T5_4842       None of the above. There is no information abo...\n",
       "Sequence_T6_68         None of the alternatives (A, B, C, D) are supp...\n",
       "Prediction_T1_1400     None of the above options are supported by the...\n",
       "Feasibility_T6_54      Unknown. Insufficient Information to determine...\n",
       "Feasibility_T6_1049    None of the alternatives (A, B, C, D) are supp...\n",
       "Name: answer, dtype: object"
      ]
     },
     "execution_count": 221,
     "metadata": {},
     "output_type": "execute_result"
    }
   ],
   "source": [
    "predictions_df.loc[~contains_answer, 'answer']"
   ]
  },
  {
   "cell_type": "code",
   "execution_count": 222,
   "metadata": {},
   "outputs": [
    {
     "data": {
      "text/html": [
       "<div>\n",
       "<style scoped>\n",
       "    .dataframe tbody tr th:only-of-type {\n",
       "        vertical-align: middle;\n",
       "    }\n",
       "\n",
       "    .dataframe tbody tr th {\n",
       "        vertical-align: top;\n",
       "    }\n",
       "\n",
       "    .dataframe thead th {\n",
       "        text-align: right;\n",
       "    }\n",
       "</style>\n",
       "<table border=\"1\" class=\"dataframe\">\n",
       "  <thead>\n",
       "    <tr style=\"text-align: right;\">\n",
       "      <th></th>\n",
       "      <th>question</th>\n",
       "      <th>choices</th>\n",
       "      <th>num</th>\n",
       "      <th>text</th>\n",
       "    </tr>\n",
       "    <tr>\n",
       "      <th>id</th>\n",
       "      <th></th>\n",
       "      <th></th>\n",
       "      <th></th>\n",
       "      <th></th>\n",
       "    </tr>\n",
       "  </thead>\n",
       "  <tbody>\n",
       "    <tr>\n",
       "      <th>Interaction_T1_13</th>\n",
       "      <td>Which object was tidied up by the person?</td>\n",
       "      <td>{'0': 'The closet/cabinet.', '1': 'The blanket...</td>\n",
       "      <td>2</td>\n",
       "      <td>The clothes.</td>\n",
       "    </tr>\n",
       "    <tr>\n",
       "      <th>Interaction_T1_14</th>\n",
       "      <td>Which object was tidied up by the person?</td>\n",
       "      <td>{'0': 'The blanket.', '1': 'The table.', '2': ...</td>\n",
       "      <td>2</td>\n",
       "      <td>The clothes.</td>\n",
       "    </tr>\n",
       "    <tr>\n",
       "      <th>Interaction_T1_31</th>\n",
       "      <td>Which object was thrown by the person?</td>\n",
       "      <td>{'0': 'The pillow.', '1': 'The bag.', '2': 'Th...</td>\n",
       "      <td>2</td>\n",
       "      <td>The clothes.</td>\n",
       "    </tr>\n",
       "    <tr>\n",
       "      <th>Interaction_T1_32</th>\n",
       "      <td>Which object was put down by the person?</td>\n",
       "      <td>{'0': 'The food.', '1': 'The shoe.', '2': 'The...</td>\n",
       "      <td>1</td>\n",
       "      <td>The shoe.</td>\n",
       "    </tr>\n",
       "    <tr>\n",
       "      <th>Interaction_T1_40</th>\n",
       "      <td>Which object was tidied up by the person?</td>\n",
       "      <td>{'0': 'The broom.', '1': 'The closet/cabinet.'...</td>\n",
       "      <td>1</td>\n",
       "      <td>The closet/cabinet.</td>\n",
       "    </tr>\n",
       "    <tr>\n",
       "      <th>...</th>\n",
       "      <td>...</td>\n",
       "      <td>...</td>\n",
       "      <td>...</td>\n",
       "      <td>...</td>\n",
       "    </tr>\n",
       "    <tr>\n",
       "      <th>Feasibility_T6_1453</th>\n",
       "      <td>What is the person able to do after taking the...</td>\n",
       "      <td>{'0': 'Wash the table.', '1': 'Take the box.',...</td>\n",
       "      <td>0</td>\n",
       "      <td>Wash the table.</td>\n",
       "    </tr>\n",
       "    <tr>\n",
       "      <th>Feasibility_T6_1454</th>\n",
       "      <td>What is the person able to do after walking th...</td>\n",
       "      <td>{'0': 'Take the towel.', '1': 'Throw the bag.'...</td>\n",
       "      <td>0</td>\n",
       "      <td>Take the towel.</td>\n",
       "    </tr>\n",
       "    <tr>\n",
       "      <th>Feasibility_T6_1455</th>\n",
       "      <td>What is the person able to do after walking th...</td>\n",
       "      <td>{'0': 'Throw the bag.', '1': 'Wash the table.'...</td>\n",
       "      <td>1</td>\n",
       "      <td>Wash the table.</td>\n",
       "    </tr>\n",
       "    <tr>\n",
       "      <th>Feasibility_T6_1456</th>\n",
       "      <td>What is the person able to do after putting th...</td>\n",
       "      <td>{'0': 'Hold the food.', '1': 'Open the closet/...</td>\n",
       "      <td>3</td>\n",
       "      <td>Wash the table.</td>\n",
       "    </tr>\n",
       "    <tr>\n",
       "      <th>Feasibility_T6_1468</th>\n",
       "      <td>What is the person able to do after opening th...</td>\n",
       "      <td>{'0': 'Wash the window.', '1': 'Hold the food....</td>\n",
       "      <td>1</td>\n",
       "      <td>Hold the food.</td>\n",
       "    </tr>\n",
       "  </tbody>\n",
       "</table>\n",
       "<p>7098 rows × 4 columns</p>\n",
       "</div>"
      ],
      "text/plain": [
       "                                                              question  \\\n",
       "id                                                                       \n",
       "Interaction_T1_13            Which object was tidied up by the person?   \n",
       "Interaction_T1_14            Which object was tidied up by the person?   \n",
       "Interaction_T1_31               Which object was thrown by the person?   \n",
       "Interaction_T1_32             Which object was put down by the person?   \n",
       "Interaction_T1_40            Which object was tidied up by the person?   \n",
       "...                                                                ...   \n",
       "Feasibility_T6_1453  What is the person able to do after taking the...   \n",
       "Feasibility_T6_1454  What is the person able to do after walking th...   \n",
       "Feasibility_T6_1455  What is the person able to do after walking th...   \n",
       "Feasibility_T6_1456  What is the person able to do after putting th...   \n",
       "Feasibility_T6_1468  What is the person able to do after opening th...   \n",
       "\n",
       "                                                               choices num  \\\n",
       "id                                                                           \n",
       "Interaction_T1_13    {'0': 'The closet/cabinet.', '1': 'The blanket...   2   \n",
       "Interaction_T1_14    {'0': 'The blanket.', '1': 'The table.', '2': ...   2   \n",
       "Interaction_T1_31    {'0': 'The pillow.', '1': 'The bag.', '2': 'Th...   2   \n",
       "Interaction_T1_32    {'0': 'The food.', '1': 'The shoe.', '2': 'The...   1   \n",
       "Interaction_T1_40    {'0': 'The broom.', '1': 'The closet/cabinet.'...   1   \n",
       "...                                                                ...  ..   \n",
       "Feasibility_T6_1453  {'0': 'Wash the table.', '1': 'Take the box.',...   0   \n",
       "Feasibility_T6_1454  {'0': 'Take the towel.', '1': 'Throw the bag.'...   0   \n",
       "Feasibility_T6_1455  {'0': 'Throw the bag.', '1': 'Wash the table.'...   1   \n",
       "Feasibility_T6_1456  {'0': 'Hold the food.', '1': 'Open the closet/...   3   \n",
       "Feasibility_T6_1468  {'0': 'Wash the window.', '1': 'Hold the food....   1   \n",
       "\n",
       "                                    text  \n",
       "id                                        \n",
       "Interaction_T1_13           The clothes.  \n",
       "Interaction_T1_14           The clothes.  \n",
       "Interaction_T1_31           The clothes.  \n",
       "Interaction_T1_32              The shoe.  \n",
       "Interaction_T1_40    The closet/cabinet.  \n",
       "...                                  ...  \n",
       "Feasibility_T6_1453      Wash the table.  \n",
       "Feasibility_T6_1454      Take the towel.  \n",
       "Feasibility_T6_1455      Wash the table.  \n",
       "Feasibility_T6_1456      Wash the table.  \n",
       "Feasibility_T6_1468       Hold the food.  \n",
       "\n",
       "[7098 rows x 4 columns]"
      ]
     },
     "execution_count": 222,
     "metadata": {},
     "output_type": "execute_result"
    }
   ],
   "source": [
    "gt_df"
   ]
  },
  {
   "cell_type": "markdown",
   "metadata": {},
   "source": [
    "## Extract answers"
   ]
  },
  {
   "cell_type": "code",
   "execution_count": 223,
   "metadata": {},
   "outputs": [
    {
     "data": {
      "text/html": [
       "<div>\n",
       "<style scoped>\n",
       "    .dataframe tbody tr th:only-of-type {\n",
       "        vertical-align: middle;\n",
       "    }\n",
       "\n",
       "    .dataframe tbody tr th {\n",
       "        vertical-align: top;\n",
       "    }\n",
       "\n",
       "    .dataframe thead th {\n",
       "        text-align: right;\n",
       "    }\n",
       "</style>\n",
       "<table border=\"1\" class=\"dataframe\">\n",
       "  <thead>\n",
       "    <tr style=\"text-align: right;\">\n",
       "      <th></th>\n",
       "      <th>text</th>\n",
       "    </tr>\n",
       "    <tr>\n",
       "      <th>id</th>\n",
       "      <th></th>\n",
       "    </tr>\n",
       "  </thead>\n",
       "  <tbody>\n",
       "    <tr>\n",
       "      <th>Interaction_T1_13</th>\n",
       "      <td>The clothes.</td>\n",
       "    </tr>\n",
       "    <tr>\n",
       "      <th>Interaction_T1_14</th>\n",
       "      <td>The blanket.</td>\n",
       "    </tr>\n",
       "    <tr>\n",
       "      <th>Interaction_T1_31</th>\n",
       "      <td>The bag.</td>\n",
       "    </tr>\n",
       "    <tr>\n",
       "      <th>Interaction_T1_32</th>\n",
       "      <td>The shoe.</td>\n",
       "    </tr>\n",
       "    <tr>\n",
       "      <th>Interaction_T1_40</th>\n",
       "      <td>The blanket.</td>\n",
       "    </tr>\n",
       "    <tr>\n",
       "      <th>...</th>\n",
       "      <td>...</td>\n",
       "    </tr>\n",
       "    <tr>\n",
       "      <th>Feasibility_T6_1453</th>\n",
       "      <td>Wash the table.</td>\n",
       "    </tr>\n",
       "    <tr>\n",
       "      <th>Feasibility_T6_1454</th>\n",
       "      <td>Take the towel.</td>\n",
       "    </tr>\n",
       "    <tr>\n",
       "      <th>Feasibility_T6_1455</th>\n",
       "      <td>Wash the table.</td>\n",
       "    </tr>\n",
       "    <tr>\n",
       "      <th>Feasibility_T6_1456</th>\n",
       "      <td>Open the closet/cabinet.</td>\n",
       "    </tr>\n",
       "    <tr>\n",
       "      <th>Feasibility_T6_1468</th>\n",
       "      <td>Eat the sandwich.</td>\n",
       "    </tr>\n",
       "  </tbody>\n",
       "</table>\n",
       "<p>7068 rows × 1 columns</p>\n",
       "</div>"
      ],
      "text/plain": [
       "                                         text\n",
       "id                                           \n",
       "Interaction_T1_13                The clothes.\n",
       "Interaction_T1_14                The blanket.\n",
       "Interaction_T1_31                    The bag.\n",
       "Interaction_T1_32                   The shoe.\n",
       "Interaction_T1_40                The blanket.\n",
       "...                                       ...\n",
       "Feasibility_T6_1453           Wash the table.\n",
       "Feasibility_T6_1454           Take the towel.\n",
       "Feasibility_T6_1455           Wash the table.\n",
       "Feasibility_T6_1456  Open the closet/cabinet.\n",
       "Feasibility_T6_1468         Eat the sandwich.\n",
       "\n",
       "[7068 rows x 1 columns]"
      ]
     },
     "execution_count": 223,
     "metadata": {},
     "output_type": "execute_result"
    }
   ],
   "source": [
    "ans_df = \\\n",
    "    predictions_df[contains_answer]['answer'] \\\n",
    "    .apply(lambda x: re.findall(ans_regex_pattern, x)[-1]) \\\n",
    "    .apply(lambda x: x + '.' if not x.endswith('.') else x) \\\n",
    "    .to_frame(name='text')\n",
    "\n",
    "ans_df.rename(columns={0: 'text'}, inplace=True)\n",
    "\n",
    "ans_df['text'] = ans_df['text'].str.strip()\n",
    "ans_df\n"
   ]
  },
  {
   "cell_type": "code",
   "execution_count": 224,
   "metadata": {},
   "outputs": [
    {
     "name": "stdout",
     "output_type": "stream",
     "text": [
      "<class 'pandas.core.frame.DataFrame'>\n",
      "Index: 7068 entries, Interaction_T1_13 to Feasibility_T6_1468\n",
      "Data columns (total 1 columns):\n",
      " #   Column  Non-Null Count  Dtype \n",
      "---  ------  --------------  ----- \n",
      " 0   text    7068 non-null   object\n",
      "dtypes: object(1)\n",
      "memory usage: 110.4+ KB\n"
     ]
    }
   ],
   "source": [
    "ans_df.info()\n"
   ]
  },
  {
   "cell_type": "code",
   "execution_count": 225,
   "metadata": {},
   "outputs": [
    {
     "name": "stdout",
     "output_type": "stream",
     "text": [
      "We have 1520 unique answers\n"
     ]
    }
   ],
   "source": [
    "freq = ans_df['text'].value_counts().reset_index()\n",
    "freq.columns = ['word', 'freq']\n",
    "\n",
    "print(f\"We have {freq.size} unique answers\")\n"
   ]
  },
  {
   "cell_type": "code",
   "execution_count": 226,
   "metadata": {},
   "outputs": [
    {
     "data": {
      "text/plain": [
       "The towel.                                                 217\n",
       "The bag.                                                   212\n",
       "The clothes.                                               186\n",
       "The box.                                                   183\n",
       "The book.                                                  182\n",
       "                                                          ... \n",
       "Took the broom after putting down the cup/glass/bottle.      1\n",
       "Put down the towel after taking the blanket.                 1\n",
       "Tidied up the towel after holding the clothes.               1\n",
       "Took the food after lying on the bed.                        1\n",
       "Throw the food.                                              1\n",
       "Name: text, Length: 760, dtype: int64"
      ]
     },
     "execution_count": 226,
     "metadata": {},
     "output_type": "execute_result"
    }
   ],
   "source": [
    "ans_df['text'].value_counts()\n"
   ]
  },
  {
   "cell_type": "code",
   "execution_count": 227,
   "metadata": {},
   "outputs": [
    {
     "data": {
      "text/plain": [
       "<AxesSubplot: xlabel='freq', ylabel='word'>"
      ]
     },
     "execution_count": 227,
     "metadata": {},
     "output_type": "execute_result"
    },
    {
     "data": {
      "image/png": "[encoded data removed]",
      "text/plain": [
       "<Figure size 600x800 with 1 Axes>"
      ]
     },
     "metadata": {},
     "output_type": "display_data"
    }
   ],
   "source": [
    "plt.figure(figsize=(6, 8))\n",
    "sns.barplot(data=freq.sort_values('freq', ascending=False)[:50], x='freq', y='word')\n"
   ]
  },
  {
   "cell_type": "markdown",
   "metadata": {},
   "source": [
    "Let's do some visualization also for the ground truth data"
   ]
  },
  {
   "cell_type": "code",
   "execution_count": 228,
   "metadata": {},
   "outputs": [
    {
     "name": "stdout",
     "output_type": "stream",
     "text": [
      "We have 198 unique answers\n"
     ]
    }
   ],
   "source": [
    "print(f\"We have {gt_df['text'].nunique()} unique answers\")\n"
   ]
  },
  {
   "cell_type": "code",
   "execution_count": 229,
   "metadata": {},
   "outputs": [
    {
     "data": {
      "text/plain": [
       "<AxesSubplot: xlabel='freq', ylabel='word'>"
      ]
     },
     "execution_count": 229,
     "metadata": {},
     "output_type": "execute_result"
    },
    {
     "data": {
      "image/png": "[encoded data removed]",
      "text/plain": [
       "<Figure size 600x800 with 1 Axes>"
      ]
     },
     "metadata": {},
     "output_type": "display_data"
    }
   ],
   "source": [
    "freq = gt_df['text'].value_counts().reset_index()\n",
    "freq.columns = ['word', 'freq']\n",
    "\n",
    "plt.figure(figsize=(6, 8))\n",
    "sns.barplot(data=freq.sort_values('freq', ascending=False)[:50], x='freq', y='word')\n"
   ]
  },
  {
   "cell_type": "code",
   "execution_count": 230,
   "metadata": {},
   "outputs": [
    {
     "data": {
      "text/plain": [
       "(7068, 5)"
      ]
     },
     "execution_count": 230,
     "metadata": {},
     "output_type": "execute_result"
    }
   ],
   "source": [
    "# Inner join - keeps only indices present in both series\n",
    "\n",
    "ans_df.rename(columns={'text': 'pred_text'}, inplace=True)\n",
    "eval_df = gt_df.join(\n",
    "    ans_df, \n",
    "    how='inner' # we account also for samples without answers\n",
    ")\n",
    "\n",
    "eval_df.shape\n"
   ]
  },
  {
   "cell_type": "code",
   "execution_count": 231,
   "metadata": {},
   "outputs": [],
   "source": [
    "def accuracy(eval_df, on_what='text'):\n",
    "    hits_text = (eval_df[f'pred_{on_what}'].str.lower() == eval_df[on_what].str.lower()).sum()\n",
    "    \n",
    "\n",
    "    return hits_text/eval_df.shape[0]\n"
   ]
  },
  {
   "cell_type": "markdown",
   "metadata": {},
   "source": [
    "check if the equality with NA result in a false or is skipped"
   ]
  },
  {
   "cell_type": "code",
   "execution_count": 232,
   "metadata": {},
   "outputs": [
    {
     "name": "stdout",
     "output_type": "stream",
     "text": [
      "Real Accuracy: 53.83%\n"
     ]
    }
   ],
   "source": [
    "real_acc = accuracy(eval_df) * eval_df.shape[0] / gt_df.shape[0]\n",
    "\n",
    "print(f\"Real Accuracy: {real_acc:.2%}\")\n"
   ]
  },
  {
   "cell_type": "code",
   "execution_count": 233,
   "metadata": {},
   "outputs": [],
   "source": [
    "def print_acc(eval_df, acc_fn):\n",
    "    print(f\"{'Question type':<15}{'Total':^15}{'Accuracy':^10}\\n\")\n",
    "\n",
    "    total = eval_df.index.str.startswith('Interaction').sum()\n",
    "    acc = acc_fn(eval_df[eval_df.index.str.startswith('Interaction')])\n",
    "    print(f\"{'Interaction':<15}{total:^15}{acc:^10.2%}\")\n",
    "\n",
    "    total = eval_df.index.str.startswith('Sequence').sum()\n",
    "    acc = acc_fn(eval_df[eval_df.index.str.startswith('Sequence')])\n",
    "    print(f\"{'Sequence':<15}{total:^15}{acc:^10.2%}\")\n",
    "\n",
    "    total = eval_df.index.str.startswith('Prediction').sum()\n",
    "    acc = acc_fn(eval_df[eval_df.index.str.startswith('Prediction')])\n",
    "    print(f\"{'Prediction':<15}{total:^15}{acc:^10.2%}\")\n",
    "\n",
    "    total = eval_df.index.str.startswith('Feasibility').sum()\n",
    "    acc = acc_fn(eval_df[eval_df.index.str.startswith('Feasibility')])\n",
    "    print(f\"{'Feasibility':<15}{total:^15}{acc:^10.2%}\")\n"
   ]
  },
  {
   "cell_type": "code",
   "execution_count": 234,
   "metadata": {},
   "outputs": [
    {
     "name": "stdout",
     "output_type": "stream",
     "text": [
      "Question type       Total      Accuracy \n",
      "\n",
      "Interaction         2385        49.56%  \n",
      "Sequence            3572        54.54%  \n",
      "Prediction           623        62.12%  \n",
      "Feasibility          488        62.30%  \n"
     ]
    }
   ],
   "source": [
    "print_acc(eval_df, lambda x: accuracy(x, on_what='text'))\n"
   ]
  },
  {
   "cell_type": "code",
   "execution_count": 236,
   "metadata": {},
   "outputs": [
    {
     "name": "stdout",
     "output_type": "stream",
     "text": [
      "Question type       Total      Answered \n",
      "\n",
      "Interaction         2398        99.46%  \n",
      "Sequence            3586        99.61%  \n",
      "Prediction           624        99.84%  \n",
      "Feasibility          490        99.59%  \n",
      "Overall             7098        99.58%  \n"
     ]
    }
   ],
   "source": [
    "# % of answers conforming to template per category\n",
    "\n",
    "def print_ans_perc(eval_df, gt_df):\n",
    "    print(f\"{'Question type':<15}{'Total':^15}{'Answered':^10}\\n\")\n",
    "\n",
    "    total = gt_df.index.str.startswith('Interaction').sum()\n",
    "    acc = len(gt_df.index.intersection(eval_df[eval_df.index.str.startswith('Interaction')].index))/total\n",
    "    print(f\"{'Interaction':<15}{total:^15}{acc:^10.2%}\")\n",
    "\n",
    "    total = gt_df.index.str.startswith('Sequence').sum()\n",
    "    acc = len(gt_df.index.intersection(eval_df[eval_df.index.str.startswith('Sequence')].index))/total\n",
    "    print(f\"{'Sequence':<15}{total:^15}{acc:^10.2%}\")\n",
    "\n",
    "    total = gt_df.index.str.startswith('Prediction').sum()\n",
    "    acc = len(gt_df.index.intersection(eval_df[eval_df.index.str.startswith('Prediction')].index))/total\n",
    "    print(f\"{'Prediction':<15}{total:^15}{acc:^10.2%}\")\n",
    "\n",
    "    total = gt_df.index.str.startswith('Feasibility').sum()\n",
    "    acc = len(gt_df.index.intersection(eval_df[eval_df.index.str.startswith('Feasibility')].index))/total\n",
    "    print(f\"{'Feasibility':<15}{total:^15}{acc:^10.2%}\")\n",
    "\n",
    "    total = gt_df.shape[0]\n",
    "    acc = eval_df.shape[0]/total\n",
    "    print(f\"{'Overall':<15}{total:^15}{acc:^10.2%}\")\n",
    "\n",
    "print_ans_perc(eval_df, gt_df)\n"
   ]
  }
 ],
 "metadata": {
  "kernelspec": {
   "display_name": "video-llm",
   "language": "python",
   "name": "python3"
  },
  "language_info": {
   "codemirror_mode": {
    "name": "ipython",
    "version": 3
   },
   "file_extension": ".py",
   "mimetype": "text/x-python",
   "name": "python",
   "nbconvert_exporter": "python",
   "pygments_lexer": "ipython3",
   "version": "3.8.18"
  }
 },
 "nbformat": 4,
 "nbformat_minor": 2
}
