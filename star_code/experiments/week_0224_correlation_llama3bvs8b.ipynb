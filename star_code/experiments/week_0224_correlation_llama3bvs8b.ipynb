{
 "cells": [
  {
   "cell_type": "code",
   "execution_count": 2,
   "metadata": {},
   "outputs": [],
   "source": [
    "import random\n",
    "import json\n",
    "import re\n",
    "import os\n",
    "\n",
    "import numpy as np\n",
    "import pandas as pd\n",
    "from sklearn.metrics import (\n",
    "    confusion_matrix,\n",
    "    classification_report\n",
    ")\n",
    "\n",
    "import matplotlib.pyplot as plt\n",
    "import seaborn as sns\n",
    "\n",
    "\n",
    "random.seed(6)\n",
    "np.random.seed(6)\n"
   ]
  },
  {
   "cell_type": "markdown",
   "metadata": {},
   "source": [
    "# Experiment 6\n",
    "# Correlation of mispredictions between Llama3B and Llam8B\n",
    "\n",
    "For this experiment I changed the system prompt, asking the LLM to generate more text (about \"thinking\") and then give the final answer.\n",
    "\n",
    "\n",
    "**Parameters:**\n",
    "- model: llama3.1:8b\n",
    "- system prompt: MCQ_system_prompt_v3.txt\n",
    "- temperature: 0.1\n",
    "- sampling method: (default) top-p (p=0.9)\n"
   ]
  },
  {
   "cell_type": "markdown",
   "metadata": {},
   "source": [
    "Let's load the ground truth from the `STAR_QA_question_and_stsg_val.json` file where we extracted QA and spatio-temporal scene graphs"
   ]
  },
  {
   "cell_type": "code",
   "execution_count": 3,
   "metadata": {},
   "outputs": [
    {
     "data": {
      "text/html": [
       "<div>\n",
       "<style scoped>\n",
       "    .dataframe tbody tr th:only-of-type {\n",
       "        vertical-align: middle;\n",
       "    }\n",
       "\n",
       "    .dataframe tbody tr th {\n",
       "        vertical-align: top;\n",
       "    }\n",
       "\n",
       "    .dataframe thead th {\n",
       "        text-align: right;\n",
       "    }\n",
       "</style>\n",
       "<table border=\"1\" class=\"dataframe\">\n",
       "  <thead>\n",
       "    <tr style=\"text-align: right;\">\n",
       "      <th></th>\n",
       "      <th>choices</th>\n",
       "      <th>num</th>\n",
       "      <th>text</th>\n",
       "    </tr>\n",
       "    <tr>\n",
       "      <th>id</th>\n",
       "      <th></th>\n",
       "      <th></th>\n",
       "      <th></th>\n",
       "    </tr>\n",
       "  </thead>\n",
       "  <tbody>\n",
       "    <tr>\n",
       "      <th>Interaction_T1_13</th>\n",
       "      <td>{'0': 'The closet/cabinet.', '1': 'The blanket...</td>\n",
       "      <td>2</td>\n",
       "      <td>The clothes.</td>\n",
       "    </tr>\n",
       "    <tr>\n",
       "      <th>Interaction_T1_14</th>\n",
       "      <td>{'0': 'The blanket.', '1': 'The table.', '2': ...</td>\n",
       "      <td>2</td>\n",
       "      <td>The clothes.</td>\n",
       "    </tr>\n",
       "    <tr>\n",
       "      <th>Interaction_T1_31</th>\n",
       "      <td>{'0': 'The pillow.', '1': 'The bag.', '2': 'Th...</td>\n",
       "      <td>2</td>\n",
       "      <td>The clothes.</td>\n",
       "    </tr>\n",
       "    <tr>\n",
       "      <th>Interaction_T1_32</th>\n",
       "      <td>{'0': 'The food.', '1': 'The shoe.', '2': 'The...</td>\n",
       "      <td>1</td>\n",
       "      <td>The shoe.</td>\n",
       "    </tr>\n",
       "    <tr>\n",
       "      <th>Interaction_T1_40</th>\n",
       "      <td>{'0': 'The broom.', '1': 'The closet/cabinet.'...</td>\n",
       "      <td>1</td>\n",
       "      <td>The closet/cabinet.</td>\n",
       "    </tr>\n",
       "    <tr>\n",
       "      <th>...</th>\n",
       "      <td>...</td>\n",
       "      <td>...</td>\n",
       "      <td>...</td>\n",
       "    </tr>\n",
       "    <tr>\n",
       "      <th>Feasibility_T6_1453</th>\n",
       "      <td>{'0': 'Wash the table.', '1': 'Take the box.',...</td>\n",
       "      <td>0</td>\n",
       "      <td>Wash the table.</td>\n",
       "    </tr>\n",
       "    <tr>\n",
       "      <th>Feasibility_T6_1454</th>\n",
       "      <td>{'0': 'Take the towel.', '1': 'Throw the bag.'...</td>\n",
       "      <td>0</td>\n",
       "      <td>Take the towel.</td>\n",
       "    </tr>\n",
       "    <tr>\n",
       "      <th>Feasibility_T6_1455</th>\n",
       "      <td>{'0': 'Throw the bag.', '1': 'Wash the table.'...</td>\n",
       "      <td>1</td>\n",
       "      <td>Wash the table.</td>\n",
       "    </tr>\n",
       "    <tr>\n",
       "      <th>Feasibility_T6_1456</th>\n",
       "      <td>{'0': 'Hold the food.', '1': 'Open the closet/...</td>\n",
       "      <td>3</td>\n",
       "      <td>Wash the table.</td>\n",
       "    </tr>\n",
       "    <tr>\n",
       "      <th>Feasibility_T6_1468</th>\n",
       "      <td>{'0': 'Wash the window.', '1': 'Hold the food....</td>\n",
       "      <td>1</td>\n",
       "      <td>Hold the food.</td>\n",
       "    </tr>\n",
       "  </tbody>\n",
       "</table>\n",
       "<p>7098 rows × 3 columns</p>\n",
       "</div>"
      ],
      "text/plain": [
       "                                                               choices num  \\\n",
       "id                                                                           \n",
       "Interaction_T1_13    {'0': 'The closet/cabinet.', '1': 'The blanket...   2   \n",
       "Interaction_T1_14    {'0': 'The blanket.', '1': 'The table.', '2': ...   2   \n",
       "Interaction_T1_31    {'0': 'The pillow.', '1': 'The bag.', '2': 'Th...   2   \n",
       "Interaction_T1_32    {'0': 'The food.', '1': 'The shoe.', '2': 'The...   1   \n",
       "Interaction_T1_40    {'0': 'The broom.', '1': 'The closet/cabinet.'...   1   \n",
       "...                                                                ...  ..   \n",
       "Feasibility_T6_1453  {'0': 'Wash the table.', '1': 'Take the box.',...   0   \n",
       "Feasibility_T6_1454  {'0': 'Take the towel.', '1': 'Throw the bag.'...   0   \n",
       "Feasibility_T6_1455  {'0': 'Throw the bag.', '1': 'Wash the table.'...   1   \n",
       "Feasibility_T6_1456  {'0': 'Hold the food.', '1': 'Open the closet/...   3   \n",
       "Feasibility_T6_1468  {'0': 'Wash the window.', '1': 'Hold the food....   1   \n",
       "\n",
       "                                    text  \n",
       "id                                        \n",
       "Interaction_T1_13           The clothes.  \n",
       "Interaction_T1_14           The clothes.  \n",
       "Interaction_T1_31           The clothes.  \n",
       "Interaction_T1_32              The shoe.  \n",
       "Interaction_T1_40    The closet/cabinet.  \n",
       "...                                  ...  \n",
       "Feasibility_T6_1453      Wash the table.  \n",
       "Feasibility_T6_1454      Take the towel.  \n",
       "Feasibility_T6_1455      Wash the table.  \n",
       "Feasibility_T6_1456      Wash the table.  \n",
       "Feasibility_T6_1468       Hold the food.  \n",
       "\n",
       "[7098 rows x 3 columns]"
      ]
     },
     "execution_count": 3,
     "metadata": {},
     "output_type": "execute_result"
    }
   ],
   "source": [
    "ground_truth = []\n",
    "\n",
    "with open('../data/datasets/STAR_QA_and_stsg_val.json') as f:\n",
    "    data = json.load(f)\n",
    "    ground_truth = [{\n",
    "        'id': sample['question_id'],\n",
    "        'choices': sample['choices'],\n",
    "        'num': sample['answer'],\n",
    "        'text': sample['choices'][str(sample['answer'])]\n",
    "    } for sample in data]\n",
    "\n",
    "\n",
    "# we keep num as str so we can directrly access choices dictionaries\n",
    "gt_df = pd.DataFrame(ground_truth).astype({'id': 'string', 'num': 'string', 'text': 'string'})\n",
    "gt_df.set_index('id', inplace=True)\n",
    "gt_df\n"
   ]
  },
  {
   "cell_type": "markdown",
   "metadata": {},
   "source": [
    "Loading the responses from the LLM"
   ]
  },
  {
   "cell_type": "code",
   "execution_count": 4,
   "metadata": {},
   "outputs": [],
   "source": [
    "llama3b_predictions = []\n",
    "with open('../outputs/responses_llama3.2_20250210_20:17:23.jsonl') as f:\n",
    "    llama3b_predictions = [json.loads(line) for line in f.readlines()]\n",
    "\n",
    "# transforming the id key from `qid` to `id` for consistency and `response` to `answer`\n",
    "llama3b_predictions = pd.DataFrame(llama3b_predictions, dtype='string').rename(columns={'qid':'id', 'response':'answer'})\n",
    "llama3b_predictions.set_index('id', inplace=True)\n",
    "\n",
    "\n",
    "llama8b_predictions = []\n",
    "with open('../outputs/responses_llama3.1:8b_20250219_13:49:44.jsonl') as f:\n",
    "    llama8b_predictions = [json.loads(line) for line in f.readlines()]\n",
    "\n",
    "# transforming the id key from `qid` to `id` for consistency and `response` to `answer`\n",
    "llama8b_predictions = pd.DataFrame(llama8b_predictions, dtype='string').rename(columns={'qid':'id', 'response':'answer'})\n",
    "llama8b_predictions.set_index('id', inplace=True)\n",
    "\n"
   ]
  },
  {
   "cell_type": "code",
   "execution_count": 5,
   "metadata": {},
   "outputs": [],
   "source": [
    "# Pattern for `A: (\\digit\\.)? <sequence of words>.`\n",
    "#\n",
    "# The digit is optional and the max length of the sequence must be of 10 words\n",
    "ans_regex_pattern = r'A:\\s*(?:\\d\\.)?\\s*((?:\\w+(?:\\s|\\/)?){,10}\\.)'\n"
   ]
  },
  {
   "cell_type": "markdown",
   "metadata": {},
   "source": [
    "## Extracting the answers"
   ]
  },
  {
   "cell_type": "markdown",
   "metadata": {},
   "source": [
    "Let's extract the the answers from the generated texts which do contain an answer:"
   ]
  },
  {
   "cell_type": "code",
   "execution_count": 6,
   "metadata": {},
   "outputs": [],
   "source": [
    "def extract_answers(df, pattern):\n",
    "\n",
    "    ans_df = df['answer'].str.extract(pattern)\n",
    "    ans_df.rename(columns={0: 'text'}, inplace=True)\n",
    "\n",
    "    ans_df['text'] = ans_df['text'].str.strip()\n",
    "\n",
    "    return ans_df\n",
    "\n",
    "llama3b_ans = extract_answers(llama3b_predictions, ans_regex_pattern)\n",
    "llama8b_ans = extract_answers(llama8b_predictions, ans_regex_pattern)\n"
   ]
  },
  {
   "cell_type": "markdown",
   "metadata": {},
   "source": [
    "For now let's focus only on the responses for which both model have a correctly formatted answer, and thus it was possible to extract the answer with the regex pattern."
   ]
  },
  {
   "cell_type": "code",
   "execution_count": 7,
   "metadata": {},
   "outputs": [
    {
     "name": "stdout",
     "output_type": "stream",
     "text": [
      "Percentage of answers retained for the analysis: 89.69%\n"
     ]
    }
   ],
   "source": [
    "common_answers = llama3b_ans['text'].notna() & llama8b_ans['text'].notna()\n",
    "\n",
    "llama3b_ans = llama3b_ans.loc[common_answers]\n",
    "llama8b_ans = llama8b_ans.loc[common_answers]\n",
    "\n",
    "print(f\"Percentage of answers retained for the analysis: {common_answers.sum()/gt_df.shape[0]:.2%}\")\n"
   ]
  },
  {
   "cell_type": "code",
   "execution_count": null,
   "metadata": {},
   "outputs": [
    {
     "name": "stdout",
     "output_type": "stream",
     "text": [
      "Accuracy for Llam3b:   44.52%  \n",
      "Accuracy for Llam8b:   58.81%  \n"
     ]
    }
   ],
   "source": [
    "llama3b_correct_mask = (llama3b_ans['text'] == gt_df.loc[common_answers]['text'])\n",
    "llama8b_correct_mask = (llama8b_ans['text'] == gt_df.loc[common_answers]['text'])\n",
    "\n",
    "to_percent = lambda mask: mask.sum() / mask.shape[0]\n",
    "\n",
    "print(f\"Accuracy for Llama3b: {to_percent(llama3b_correct_mask):^10.2%}\")\n",
    "print(f\"Accuracy for Llama8b: {to_percent(llama8b_correct_mask):^10.2%}\")\n"
   ]
  },
  {
   "cell_type": "markdown",
   "metadata": {},
   "source": [
    "In the next step we want to inspect if Llama8b is able to answers correctly all the question for which Lama3b provided a correct answers, in other words if the the set of correct answers of Llama8b is a superset of the correct answers of Llama3b."
   ]
  },
  {
   "cell_type": "code",
   "execution_count": 9,
   "metadata": {},
   "outputs": [
    {
     "data": {
      "text/plain": [
       "False"
      ]
     },
     "execution_count": 9,
     "metadata": {},
     "output_type": "execute_result"
    }
   ],
   "source": [
    "# I am computing: (A & B) in B <-> A & B = A\n",
    "# & as intersection\n",
    "((llama3b_correct_mask & llama8b_correct_mask) == llama3b_correct_mask).all()\n"
   ]
  },
  {
   "cell_type": "code",
   "execution_count": 14,
   "metadata": {},
   "outputs": [
    {
     "name": "stdout",
     "output_type": "stream",
     "text": [
      "Ratio of answers which only 3B gets right:\n",
      "- 0.2477 of all 3B correct answers\n",
      "- 0.2677 of all 8B wrong answers\n",
      "- 0.1103 of all questions\n",
      "\n",
      "Ratio of answers which both models get right:\n",
      "- 0.7523 of all 3B correct answers\n",
      "- 0.5694 of all 8B correct answers\n",
      "- 0.3349 of all questions\n"
     ]
    }
   ],
   "source": [
    "# number of answers which 3b gets right and 8b wrong\n",
    "only3b_correct = llama3b_correct_mask & ~llama8b_correct_mask\n",
    "both_correct = llama3b_correct_mask & llama8b_correct_mask\n",
    "\n",
    "r = only3b_correct.sum()\n",
    "print(f\"Ratio of answers which only 3B gets right:\")\n",
    "print(f\"- {r / llama3b_correct_mask.sum():.4} of all 3B correct answers\")\n",
    "print(f\"- {r / (~llama8b_correct_mask).sum():.4f} of all 8B wrong answers\")\n",
    "print(f\"- {r / llama8b_ans.shape[0]:.4f} of all questions\\n\")\n",
    "\n",
    "r = both_correct.sum()\n",
    "print(f\"Ratio of answers which both models get right:\")\n",
    "print(f\"- {r / llama3b_correct_mask.sum():.4f} of all 3B correct answers\")\n",
    "print(f\"- {r / llama8b_correct_mask.sum():.4f} of all 8B correct answers\")\n",
    "print(f\"- {r / llama8b_ans.shape[0]:.4f} of all questions\")\n"
   ]
  },
  {
   "cell_type": "markdown",
   "metadata": {},
   "source": [
    "This results show that there are still some finetuning we are still missing and can get a 10% gain in performance."
   ]
  },
  {
   "cell_type": "markdown",
   "metadata": {},
   "source": [
    "Let's show the distribution of the question over the category to see if the answered correctly guessed obly by Llama3B are biased towards a category."
   ]
  },
  {
   "cell_type": "code",
   "execution_count": 11,
   "metadata": {},
   "outputs": [
    {
     "name": "stdout",
     "output_type": "stream",
     "text": [
      "Ratio of Feasibility questions:          7.69%\n",
      "Ratio of Interaction questions:          29.63%\n",
      "Ratio of Prediction questions:           10.40%\n",
      "Ratio of Sequence questions:             52.28%\n"
     ]
    },
    {
     "data": {
      "image/png": "[encoded data removed]",
      "text/plain": [
       "<Figure size 640x480 with 1 Axes>"
      ]
     },
     "metadata": {},
     "output_type": "display_data"
    }
   ],
   "source": [
    "data = only3b_correct.groupby(by=lambda x: x.split('_')[0]).sum()\n",
    "\n",
    "data = data.apply(lambda x: x/only3b_correct.sum())\n",
    "df = data.reset_index()\n",
    "df.columns = ['Category', 'Count']\n",
    "\n",
    "\n",
    "sns.barplot(data=df, x='Category', y='Count')\n",
    "for idx, val in data.items():\n",
    "    print(f\"{f'Ratio of {idx} questions:':<{40}} {val:^5.2%}\")\n"
   ]
  },
  {
   "cell_type": "code",
   "execution_count": 12,
   "metadata": {},
   "outputs": [
    {
     "name": "stdout",
     "output_type": "stream",
     "text": [
      "Ratio of Feasibility questions:          6.90%\n",
      "Ratio of Interaction questions:          33.78%\n",
      "Ratio of Prediction questions:           8.79%\n",
      "Ratio of Sequence questions:             50.52%\n"
     ]
    },
    {
     "data": {
      "image/png": "[encoded data removed]",
      "text/plain": [
       "<Figure size 640x480 with 1 Axes>"
      ]
     },
     "metadata": {},
     "output_type": "display_data"
    }
   ],
   "source": [
    "data = gt_df.groupby(by=lambda x: x.split('_')[0]).count()['text']\n",
    "\n",
    "data = data.apply(lambda x: x/gt_df.shape[0])\n",
    "df = data.reset_index()\n",
    "df.columns = ['Category', 'Count']\n",
    "\n",
    "\n",
    "sns.barplot(data=df, x='Category', y='Count')\n",
    "for idx, val in data.items():\n",
    "    print(f\"{f'Ratio of {idx} questions:':<{40}} {val:^5.2%}\")\n"
   ]
  },
  {
   "cell_type": "markdown",
   "metadata": {},
   "source": [
    "As we can see there's no significant bias towards a single category, the distribution is simalr to that of the ground truth set."
   ]
  },
  {
   "cell_type": "code",
   "execution_count": 13,
   "metadata": {},
   "outputs": [
    {
     "data": {
      "image/png": "[encoded data removed]",
      "text/plain": [
       "<Figure size 800x600 with 2 Axes>"
      ]
     },
     "metadata": {},
     "output_type": "display_data"
    }
   ],
   "source": [
    "# Compute the confusion matrix\n",
    "\n",
    "llama3b_pred_labels = llama3b_correct_mask.astype(int)\n",
    "llamaa8b_pred_labels = llama8b_correct_mask.astype(int)\n",
    "\n",
    "cm = confusion_matrix(llama3b_pred_labels, llamaa8b_pred_labels)\n",
    "\n",
    "# Normalize the confusion matrix to percentage\n",
    "cm_percent = cm.astype('float') / cm.sum(axis=1)[:, np.newaxis] * 100\n",
    "\n",
    "# Plot the confusion matrix using Seaborn\n",
    "plt.figure(figsize=(8, 6))\n",
    "sns.heatmap(cm_percent, annot=True, fmt='.2f', cmap='Blues', \n",
    "            xticklabels=['incorrect', 'correct'], \n",
    "            yticklabels=['incorrect', 'correct'])\n",
    "plt.xlabel('Llama3.1:8B predictions')\n",
    "plt.ylabel('Llama3.2:3B predictions')\n",
    "plt.title('Confusion Matrix')\n",
    "plt.show()\n"
   ]
  }
 ],
 "metadata": {
  "kernelspec": {
   "display_name": "video-llm",
   "language": "python",
   "name": "python3"
  },
  "language_info": {
   "codemirror_mode": {
    "name": "ipython",
    "version": 3
   },
   "file_extension": ".py",
   "mimetype": "text/x-python",
   "name": "python",
   "nbconvert_exporter": "python",
   "pygments_lexer": "ipython3",
   "version": "3.8.18"
  }
 },
 "nbformat": 4,
 "nbformat_minor": 2
}
