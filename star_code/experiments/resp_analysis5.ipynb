{
 "cells": [
  {
   "cell_type": "code",
   "execution_count": 244,
   "metadata": {},
   "outputs": [],
   "source": [
    "import random\n",
    "import json\n",
    "import re\n",
    "\n",
    "import numpy as np\n",
    "import pandas as pd\n",
    "\n",
    "import matplotlib.pyplot as plt\n",
    "import seaborn as sns\n",
    "from wordcloud import WordCloud\n",
    "\n",
    "random.seed(6)\n",
    "np.random.seed(6)\n"
   ]
  },
  {
   "cell_type": "markdown",
   "metadata": {},
   "source": [
    "# Experiment 5 - MCQ Long answer\n",
    "\n",
    "For this experiment I changed the system prompt, asking the LLM to generate more text (about \"thinking\") and then give the final answer.\n",
    "\n",
    "\n",
    "**Parameters:**\n",
    "- temperature: 0.1\n",
    "- sampling method: (default) top-p (p=0.9)\n",
    "- the output is limited to 128 tokens (shouldn't influence the results, it only cutoffs the generation)\n"
   ]
  },
  {
   "cell_type": "markdown",
   "metadata": {},
   "source": [
    "Let's load the ground truth from the `STAR_QA_question_and_stsg_val.json` file where we extracted QA and spatio-temporal scene graphs"
   ]
  },
  {
   "cell_type": "code",
   "execution_count": 245,
   "metadata": {},
   "outputs": [
    {
     "data": {
      "text/html": [
       "<div>\n",
       "<style scoped>\n",
       "    .dataframe tbody tr th:only-of-type {\n",
       "        vertical-align: middle;\n",
       "    }\n",
       "\n",
       "    .dataframe tbody tr th {\n",
       "        vertical-align: top;\n",
       "    }\n",
       "\n",
       "    .dataframe thead th {\n",
       "        text-align: right;\n",
       "    }\n",
       "</style>\n",
       "<table border=\"1\" class=\"dataframe\">\n",
       "  <thead>\n",
       "    <tr style=\"text-align: right;\">\n",
       "      <th></th>\n",
       "      <th>choices</th>\n",
       "      <th>num</th>\n",
       "      <th>text</th>\n",
       "    </tr>\n",
       "    <tr>\n",
       "      <th>id</th>\n",
       "      <th></th>\n",
       "      <th></th>\n",
       "      <th></th>\n",
       "    </tr>\n",
       "  </thead>\n",
       "  <tbody>\n",
       "    <tr>\n",
       "      <th>Interaction_T1_13</th>\n",
       "      <td>{'0': 'The closet/cabinet.', '1': 'The blanket...</td>\n",
       "      <td>2</td>\n",
       "      <td>The clothes.</td>\n",
       "    </tr>\n",
       "    <tr>\n",
       "      <th>Interaction_T1_14</th>\n",
       "      <td>{'0': 'The blanket.', '1': 'The table.', '2': ...</td>\n",
       "      <td>2</td>\n",
       "      <td>The clothes.</td>\n",
       "    </tr>\n",
       "    <tr>\n",
       "      <th>Interaction_T1_31</th>\n",
       "      <td>{'0': 'The pillow.', '1': 'The bag.', '2': 'Th...</td>\n",
       "      <td>2</td>\n",
       "      <td>The clothes.</td>\n",
       "    </tr>\n",
       "    <tr>\n",
       "      <th>Interaction_T1_32</th>\n",
       "      <td>{'0': 'The food.', '1': 'The shoe.', '2': 'The...</td>\n",
       "      <td>1</td>\n",
       "      <td>The shoe.</td>\n",
       "    </tr>\n",
       "    <tr>\n",
       "      <th>Interaction_T1_40</th>\n",
       "      <td>{'0': 'The broom.', '1': 'The closet/cabinet.'...</td>\n",
       "      <td>1</td>\n",
       "      <td>The closet/cabinet.</td>\n",
       "    </tr>\n",
       "    <tr>\n",
       "      <th>...</th>\n",
       "      <td>...</td>\n",
       "      <td>...</td>\n",
       "      <td>...</td>\n",
       "    </tr>\n",
       "    <tr>\n",
       "      <th>Feasibility_T6_1453</th>\n",
       "      <td>{'0': 'Wash the table.', '1': 'Take the box.',...</td>\n",
       "      <td>0</td>\n",
       "      <td>Wash the table.</td>\n",
       "    </tr>\n",
       "    <tr>\n",
       "      <th>Feasibility_T6_1454</th>\n",
       "      <td>{'0': 'Take the towel.', '1': 'Throw the bag.'...</td>\n",
       "      <td>0</td>\n",
       "      <td>Take the towel.</td>\n",
       "    </tr>\n",
       "    <tr>\n",
       "      <th>Feasibility_T6_1455</th>\n",
       "      <td>{'0': 'Throw the bag.', '1': 'Wash the table.'...</td>\n",
       "      <td>1</td>\n",
       "      <td>Wash the table.</td>\n",
       "    </tr>\n",
       "    <tr>\n",
       "      <th>Feasibility_T6_1456</th>\n",
       "      <td>{'0': 'Hold the food.', '1': 'Open the closet/...</td>\n",
       "      <td>3</td>\n",
       "      <td>Wash the table.</td>\n",
       "    </tr>\n",
       "    <tr>\n",
       "      <th>Feasibility_T6_1468</th>\n",
       "      <td>{'0': 'Wash the window.', '1': 'Hold the food....</td>\n",
       "      <td>1</td>\n",
       "      <td>Hold the food.</td>\n",
       "    </tr>\n",
       "  </tbody>\n",
       "</table>\n",
       "<p>7098 rows × 3 columns</p>\n",
       "</div>"
      ],
      "text/plain": [
       "                                                               choices num  \\\n",
       "id                                                                           \n",
       "Interaction_T1_13    {'0': 'The closet/cabinet.', '1': 'The blanket...   2   \n",
       "Interaction_T1_14    {'0': 'The blanket.', '1': 'The table.', '2': ...   2   \n",
       "Interaction_T1_31    {'0': 'The pillow.', '1': 'The bag.', '2': 'Th...   2   \n",
       "Interaction_T1_32    {'0': 'The food.', '1': 'The shoe.', '2': 'The...   1   \n",
       "Interaction_T1_40    {'0': 'The broom.', '1': 'The closet/cabinet.'...   1   \n",
       "...                                                                ...  ..   \n",
       "Feasibility_T6_1453  {'0': 'Wash the table.', '1': 'Take the box.',...   0   \n",
       "Feasibility_T6_1454  {'0': 'Take the towel.', '1': 'Throw the bag.'...   0   \n",
       "Feasibility_T6_1455  {'0': 'Throw the bag.', '1': 'Wash the table.'...   1   \n",
       "Feasibility_T6_1456  {'0': 'Hold the food.', '1': 'Open the closet/...   3   \n",
       "Feasibility_T6_1468  {'0': 'Wash the window.', '1': 'Hold the food....   1   \n",
       "\n",
       "                                    text  \n",
       "id                                        \n",
       "Interaction_T1_13           The clothes.  \n",
       "Interaction_T1_14           The clothes.  \n",
       "Interaction_T1_31           The clothes.  \n",
       "Interaction_T1_32              The shoe.  \n",
       "Interaction_T1_40    The closet/cabinet.  \n",
       "...                                  ...  \n",
       "Feasibility_T6_1453      Wash the table.  \n",
       "Feasibility_T6_1454      Take the towel.  \n",
       "Feasibility_T6_1455      Wash the table.  \n",
       "Feasibility_T6_1456      Wash the table.  \n",
       "Feasibility_T6_1468       Hold the food.  \n",
       "\n",
       "[7098 rows x 3 columns]"
      ]
     },
     "execution_count": 245,
     "metadata": {},
     "output_type": "execute_result"
    }
   ],
   "source": [
    "ground_truth = []\n",
    "\n",
    "with open('../data/datasets/STAR_QA_and_stsg_val.json') as f:\n",
    "    data = json.load(f)\n",
    "    ground_truth = [{\n",
    "        'id': sample['question_id'],\n",
    "        'choices': sample['choices'],\n",
    "        'num': sample['answer'],\n",
    "        'text': sample['choices'][str(sample['answer'])]\n",
    "    } for sample in data]\n",
    "\n",
    "\n",
    "gt_df = pd.DataFrame(ground_truth, dtype='string')\n",
    "gt_df.set_index('id', inplace=True)\n",
    "gt_df\n"
   ]
  },
  {
   "cell_type": "markdown",
   "metadata": {},
   "source": [
    "Loading the responses from the LLM"
   ]
  },
  {
   "cell_type": "code",
   "execution_count": 246,
   "metadata": {},
   "outputs": [
    {
     "data": {
      "text/html": [
       "<div>\n",
       "<style scoped>\n",
       "    .dataframe tbody tr th:only-of-type {\n",
       "        vertical-align: middle;\n",
       "    }\n",
       "\n",
       "    .dataframe tbody tr th {\n",
       "        vertical-align: top;\n",
       "    }\n",
       "\n",
       "    .dataframe thead th {\n",
       "        text-align: right;\n",
       "    }\n",
       "</style>\n",
       "<table border=\"1\" class=\"dataframe\">\n",
       "  <thead>\n",
       "    <tr style=\"text-align: right;\">\n",
       "      <th></th>\n",
       "      <th>answer</th>\n",
       "    </tr>\n",
       "    <tr>\n",
       "      <th>id</th>\n",
       "      <th></th>\n",
       "    </tr>\n",
       "  </thead>\n",
       "  <tbody>\n",
       "    <tr>\n",
       "      <th>Interaction_T1_13</th>\n",
       "      <td>To determine which object was tidied up by the...</td>\n",
       "    </tr>\n",
       "    <tr>\n",
       "      <th>Interaction_T1_14</th>\n",
       "      <td>To determine which object was tidied up by the...</td>\n",
       "    </tr>\n",
       "    <tr>\n",
       "      <th>Interaction_T1_31</th>\n",
       "      <td>To determine which object was thrown by the pe...</td>\n",
       "    </tr>\n",
       "    <tr>\n",
       "      <th>Interaction_T1_32</th>\n",
       "      <td>After analyzing the Spatio-Temporal Scene-Grap...</td>\n",
       "    </tr>\n",
       "    <tr>\n",
       "      <th>Interaction_T1_40</th>\n",
       "      <td>After carefully reading the entire Spatio-Temp...</td>\n",
       "    </tr>\n",
       "    <tr>\n",
       "      <th>...</th>\n",
       "      <td>...</td>\n",
       "    </tr>\n",
       "    <tr>\n",
       "      <th>Feasibility_T6_1453</th>\n",
       "      <td>After analyzing the Spatio-Temporal Scene-Grap...</td>\n",
       "    </tr>\n",
       "    <tr>\n",
       "      <th>Feasibility_T6_1454</th>\n",
       "      <td>After analyzing the Spatio-Temporal Scene-Grap...</td>\n",
       "    </tr>\n",
       "    <tr>\n",
       "      <th>Feasibility_T6_1455</th>\n",
       "      <td>After carefully reading the entire Spatio-Temp...</td>\n",
       "    </tr>\n",
       "    <tr>\n",
       "      <th>Feasibility_T6_1456</th>\n",
       "      <td>After reading the entire Spatio-Temporal Scene...</td>\n",
       "    </tr>\n",
       "    <tr>\n",
       "      <th>Feasibility_T6_1468</th>\n",
       "      <td>After analyzing the Spatio-Temporal Scene-Grap...</td>\n",
       "    </tr>\n",
       "  </tbody>\n",
       "</table>\n",
       "<p>7098 rows × 1 columns</p>\n",
       "</div>"
      ],
      "text/plain": [
       "                                                                answer\n",
       "id                                                                    \n",
       "Interaction_T1_13    To determine which object was tidied up by the...\n",
       "Interaction_T1_14    To determine which object was tidied up by the...\n",
       "Interaction_T1_31    To determine which object was thrown by the pe...\n",
       "Interaction_T1_32    After analyzing the Spatio-Temporal Scene-Grap...\n",
       "Interaction_T1_40    After carefully reading the entire Spatio-Temp...\n",
       "...                                                                ...\n",
       "Feasibility_T6_1453  After analyzing the Spatio-Temporal Scene-Grap...\n",
       "Feasibility_T6_1454  After analyzing the Spatio-Temporal Scene-Grap...\n",
       "Feasibility_T6_1455  After carefully reading the entire Spatio-Temp...\n",
       "Feasibility_T6_1456  After reading the entire Spatio-Temporal Scene...\n",
       "Feasibility_T6_1468  After analyzing the Spatio-Temporal Scene-Grap...\n",
       "\n",
       "[7098 rows x 1 columns]"
      ]
     },
     "execution_count": 246,
     "metadata": {},
     "output_type": "execute_result"
    }
   ],
   "source": [
    "# needed to modify the output file because of the bug\n",
    "# I introduced in the code\n",
    "predictions = []\n",
    "with open('../outputs/mcq_long.json') as f:\n",
    "    predictions = json.load(f)\n",
    "\n",
    "# transforming the id key from `qid` to `id` for consistency and `response` to `answer`\n",
    "predictions_df = pd.DataFrame(predictions, dtype='string').rename(columns={'qid':'id', 'response':'answer'})\n",
    "predictions_df.set_index('id', inplace=True)\n",
    "predictions_df\n"
   ]
  },
  {
   "cell_type": "code",
   "execution_count": 247,
   "metadata": {},
   "outputs": [
    {
     "name": "stdout",
     "output_type": "stream",
     "text": [
      "To determine which object was tidied up by the person, let's analyze the sequence of events as represented by the Spatio-Temporal Scene-Graphs.\n",
      "\n",
      "The first relevant Scene-Graph is: ['person - on_the_side_of - clothes'].\n",
      "This indicates that the person is standing next to the clothes, but it doesn't necessarily mean they are tidying up the clothes.\n",
      "\n",
      "The second relevant Scene-Graph is: ['person - in_front_of - clothes'].\n",
      "This shows the person moving in front of the clothes, which could be a preparation for tidying up.\n",
      "\n",
      "However, the critical moment comes when we see multiple consecutive Scene-Graphs where the person is in front of both the blanket and the clothes, such as:\n",
      "['person - in_front_of - towel', 'person - in_front_of - clothes', 'person - on_the_side_of - blanket'],\n",
      "['person - holding - towel', 'person - in_front_of - towel', 'person - holding - clothes', 'person - in_front_of - clothes', 'person - holding - blanket', 'person - on_the_side_of - blanket'].\n",
      "\n",
      "These Scene-Graphs suggest that the person is actively moving and handling both the blanket and the clothes, which implies they are tidying up both objects. \n",
      "\n",
      "Therefore, based on this analysis, I choose:\n",
      "\n",
      "A: The object was both the blanket and the clothes.\n",
      "To determine which object was tidied up by the person, let's analyze the sequence of events:\n",
      "\n",
      "1. The person is holding a towel (STSG[0] and STSG[2]).\n",
      "2. The person is in front of the towel (STSG[0] and STSG[1]).\n",
      "3. The person is holding clothes (STSG[2] and STSG[4]).\n",
      "4. The person is in front of the clothes (STSG[2] and STSG[5]).\n",
      "5. The person is holding a blanket (STSG[6] and STSG[7]).\n",
      "6. The person is in front of the blanket (STSG[6], STSG[8], and STSG[9]).\n",
      "\n",
      "From this analysis, we can see that the person is holding and then putting away the towel, clothes, and blanket in a specific order. However, the question asks which object was tidied up by the person, not necessarily in what order.\n",
      "\n",
      "The correct answer is: A: The blanket.\n",
      "To determine which object was thrown by the person, let's analyze the given Spatio-Temporal Scene-Graphs.\n",
      "\n",
      "From the first three Scene-Graphs, we can see that the person is wearing clothes and standing on the side of the clothes. However, there is no indication that they are holding or throwing anything.\n",
      "\n",
      "In the next few Scene-Graphs, we see the person moving their hand in front of the clothes, but still not throwing anything.\n",
      "\n",
      "It's not until the 10th Scene-Graph that we find a relationship involving the person and an object: 'person - behind - bed'. However, this doesn't necessarily imply that the person threw something, as they could be simply standing behind the bed.\n",
      "\n",
      "The 11th Scene-Graph introduces another relationship: 'person - beneath - sofa/couch', which is still not conclusive evidence of throwing.\n",
      "\n",
      "It's not until the 12th Scene-Graph that we find a clear indication of an object being thrown: 'person - behind - clothes', 'person - behind - sofa/couch', 'person - beneath - sofa/couch', 'person - behind - bed', and finally, 'person - beneath - bed'. This suggests that the person was standing behind the bed and then threw something (the pillow) to land on the bed.\n",
      "\n",
      "Therefore, based on this analysis, I choose:\n",
      "\n",
      "A: The pillow.\n",
      "After analyzing the Spatio-Temporal Scene-Graphs, I can infer that the object put down by the person is the blanket. \n",
      "\n",
      "The reasoning step-by-step:\n",
      "\n",
      "1. The person is initially wearing a shoe (Scene-Graph 1).\n",
      "2. As the scene unfolds, the person puts down their shoe and moves to sit on the sofa/couch (Scene-Graphs 2 and 3).\n",
      "3. In Scene-Graph 4, the person is sitting on the bed, but there's no indication that they've put down a blanket.\n",
      "4. However, in Scene-Graph 5, the person is behind the sofa/couch, which suggests that they may have moved to sit on the bed and put down their shoe (and possibly other objects).\n",
      "5. In Scene-Graphs 6 and 7, the person is sitting on the sofa/couch, but there's no indication that they've put down a blanket.\n",
      "6. Finally, in Scene-Graph 8, the person is behind the clothes, which suggests that they may have moved to sit on the bed and put down their shoe (and possibly other objects), including a blanket.\n",
      "\n",
      "Given these observations, I conclude that the object put down by the person is indeed the blanket. \n",
      "\n",
      "A: The blanket\n",
      "After carefully reading the entire Spatio-Temporal Scene-Graphs in chronological order, I can infer that the object being tidied up by the person is the \"blanket\". \n",
      "\n",
      "This inference is based on the fact that in most of the Scene-Graphs, the relationship between the person and the blanket is either \"holding\" or \"in_front_of\", indicating that the person is actively interacting with the blanket. Additionally, there are no instances where the person is tidying up any other object besides the blanket. \n",
      "\n",
      "Therefore, I choose:\n",
      "\n",
      "A: The blanket.\n",
      "To determine which object was thrown by the person, let's analyze the sequence of events:\n",
      "\n",
      "1. The person is wearing the clothes (Scene-Graph 0).\n",
      "2. The person is holding the clothes and on the side of them (Scene-Graphs 1, 2, 3, 4). This suggests that the person is moving or changing position with respect to the clothes.\n",
      "3. The person is in front of the clothes (Scene-Graph 5), indicating a change in position.\n",
      "4. The person is on the side of the clothes again (Scene-Graphs 6, 7, 8). This could be a repeat action or a new action.\n",
      "\n",
      "However, there is no Scene-Graph that shows the person throwing an object. Instead, we see the person holding and moving with respect to the clothes. \n",
      "\n",
      "Therefore, I choose:\n",
      "\n",
      "A: The box.\n",
      "To determine which object was thrown by the person, let's analyze the sequence of events in the Spatio-Temporal Scene-Graphs.\n",
      "\n",
      "From the first Scene-Graph, we see that the person is holding the shoe and standing on the floor. This suggests that the person has control over the shoe at this point.\n",
      "\n",
      "In the second Scene-Graph, the person is still holding the shoe, but now they are also in front of it. This could indicate that the person is moving the shoe forward or throwing it.\n",
      "\n",
      "However, upon closer inspection, we see that the shoe is not thrown in any of the subsequent Scene-Graphs. Instead, the shoe remains in the person's hand throughout the sequence.\n",
      "\n",
      "Therefore, based on this analysis, I conclude that:\n",
      "\n",
      "A: The shoe was thrown by the person.\n",
      "To determine which object was put down by the person, we need to analyze the sequence of events in the Spatio-Temporal Scene Graphs.\n",
      "\n",
      "From the first two Scene-Graphs, we can see that the person is holding the shoe and standing on the floor. This suggests that the shoe is being held by the person for an extended period.\n",
      "\n",
      "In the third Scene-Graph, the person touches the shoe, which implies a change in the relationship between the person and the shoe. However, this does not necessarily mean that the shoe is put down.\n",
      "\n",
      "The fourth Scene-Graph shows the person touching the paper/notebook, which indicates a new object being interacted with by the person. This suggests that the shoe may be put down to pick up the paper/notebook.\n",
      "\n",
      "In subsequent Scene-Graphs, we see the person putting down the shoe and picking up other objects, such as the cup/glass/bottle and the pillow. However, these events occur after the person has already interacted with the shoe.\n",
      "\n",
      "Therefore, based on the sequence of events in the Spatio-Temporal Scene Graphs, I conclude that:\n",
      "\n",
      "A: The paper/notebook was put down by the person.\n",
      "To determine which object was thrown by the person, let's analyze the sequence of Scene-Graphs:\n",
      "\n",
      "1. The initial scene shows the person holding and standing on the floor with the pillow in front of them.\n",
      "2. In the next few frames, the person touches the pillow again while still standing on the floor, but this time, they are also shown to be in front of the pillow.\n",
      "3. Then, the person is seen holding a towel, which indicates that they have replaced the pillow with the towel.\n",
      "\n",
      "Given these observations, it's clear that the pillow was initially held by the person and then replaced with the towel. There is no Scene-Graph that shows the person throwing the pillow or any other object. \n",
      "\n",
      "A: The shoe.\n",
      "After analyzing the Spatio-Temporal Scene-Graphs, I can see that the person is holding and standing in front of the laptop for most frames. However, one frame stands out where the person touches their clothes before holding the laptop.\n",
      "\n",
      "Therefore, A: The bag.\n",
      "To determine which object was sat on by the person, let's analyze the sequence of Scene-Graphs.\n",
      "\n",
      "In the first few frames, the person is seen sitting on the sofa/couch (frame 0), and in subsequent frames, they are still sitting on it. The table appears briefly in frame 5, but there is no indication that the person sat on it. \n",
      "\n",
      "The bed does not appear until later in the sequence.\n",
      "\n",
      "Therefore, based on the logical analysis of the scene unfolding in each frame, I conclude:\n",
      "\n",
      "A: The sofa/couch.\n",
      "After analyzing the Spatio-Temporal Scene-Graphs, I can see that the person is holding the food in multiple frames, but it's not until later on that they put the dish down. \n",
      "\n",
      "The correct answer is:\n",
      "3. The food.\n",
      "To determine which object was tidied up by the person, let's analyze the given Spatio-Temporal Scene-Graphs.\n",
      "\n",
      "The person is involved in multiple relationships with the same object (the blanket) across different frames. However, we need to find an instance where the person is holding or on top of something else, indicating that they are tidying up another object.\n",
      "\n",
      "Looking at the sequence:\n",
      "\n",
      "1. The first three frames show the person holding, being in front of, and on the side of the blanket.\n",
      "2. The next two frames show the person behind the blanket (indicating they have moved away from it).\n",
      "3. The subsequent frames continue to show the person holding, being in front of, and on the side of the blanket again.\n",
      "\n",
      "However, there is no frame that shows the person holding or on top of another object besides the blanket. This suggests that the person might be tidying up the blanket itself, but we can't confirm this based solely on the given information.\n",
      "\n",
      "But if we look at the last two frames: \n",
      "\n",
      "['person - behind - towel', 'person - in_front_of - towel'], \n",
      "['person - holding - towel', 'person - in_front_of - towel']\n",
      "\n",
      "We see that the person is now holding and being in front of a towel, which suggests that they are tidying up the towel.\n",
      "\n",
      "A: 1. The towel.\n",
      "After carefully reading the entire Spatio-Temporal Scene-Graphs in chronological order, I can infer that the object being put down by the person is the box.\n",
      "\n",
      "The reason for this inference is that throughout the sequence of scenes, the person is consistently shown to be holding or standing in front of the box. In many frames, the box is also shown to be on the floor, suggesting that it has been put down. However, there are no instances where the box is being picked up or moved away from the person's grasp.\n",
      "\n",
      "Therefore, based on this analysis, I choose:\n",
      "\n",
      "A: The box\n",
      "To determine which object was taken by the person, let's analyze the sequence of events:\n",
      "\n",
      "1. Initially, the person is wearing the clothes (Scene-Graph 0).\n",
      "2. The person touches and wears the clothes again (Scene-Graphs 1 and 2), but this time holding them.\n",
      "3. The person continues to hold the clothes in various positions: behind, on the side of, and in front of (Scene-Graphs 5-10).\n",
      "\n",
      "The only object that is consistently associated with the person's action of \"holding\" is the clothes. Therefore, I conclude that the object taken by the person is:\n",
      "\n",
      "A: The clothes.\n",
      "To determine which object was thrown by the person, let's analyze the sequence of events represented in the Spatio-Temporal Scene-Graphs.\n",
      "\n",
      "Initially, the person is holding the clothes (Scene-Graph 1). Then, the scene changes and the person is behind the clothes (Scene-Graph 2), but this change happens after the initial holding action. This suggests that the clothes were not thrown.\n",
      "\n",
      "Next, the person moves to be on the side of the clothes (Scene-Graph 3) and then behind them again (Scene-Graph 4). However, these changes also happen before any throwing action.\n",
      "\n",
      "The critical insight comes from Scene-Graph 5, where the person is holding the clothes and then suddenly moves in front of them. This sudden change implies a release or throw of the clothes.\n",
      "\n",
      "However, looking at subsequent scenes, there's no indication that the clothes were thrown forward or to an object. The person continues to hold the clothes in various positions (Scenes 6-10), with some changes in their position relative to the clothes but not any indication of throwing.\n",
      "\n",
      "The bag is introduced later in the sequence (Scene 11) and is related to the person's holding action, but there's no clear indication that it was thrown. The food is also mentioned (Scene 12), but its relation to the person's actions doesn't suggest a throw.\n",
      "\n",
      "Given this analysis, I conclude that:\n",
      "\n",
      "A: The clothes were thrown by the person.\n",
      "After analyzing the Spatio-Temporal Scene-Graphs, I can infer that the object being closed by the person is the \"closet/cabinet\". \n",
      "\n",
      "The correct answer is:\n",
      "3. The closet/cabinet.\n",
      "To determine which object was closed by the person, we need to analyze the sequence of events.\n",
      "\n",
      "From the Spatio-Temporal Scene-Graphs, we can see that the person is holding and touching the book multiple times. However, there is no instance where the person is closing or shutting something with their hand. \n",
      "\n",
      "The closest event related to \"closing\" is when the person is holding a cup/glass/bottle, but this is not an object being closed by the person.\n",
      "\n",
      "Therefore, based on the given Spatio-Temporal Scene-Graphs, I choose:\n",
      "\n",
      "A: The book was never closed by the person.\n",
      "To determine which object was taken by the person, let's analyze the sequence of events represented by the Spatio-Temporal Scene-Graphs.\n",
      "\n",
      "The first thing to notice is that the person is holding a book in multiple frames (0.1, 0.2, ...), but also touches and is in front of the book in some frames (0.1, 0.3). This suggests that the person has control over the book, but it's not clear if they are taking it.\n",
      "\n",
      "However, when we look at the later frames (4.5, 5.1, ...), the person starts holding a paper/notebook instead of the book. This implies that the person is replacing the book with the paper/notebook.\n",
      "\n",
      "Therefore, based on the sequence of events represented by the Spatio-Temporal Scene-Graphs, it appears that the object taken by the person is the paper/notebook.\n",
      "\n",
      "A: The paper/notebook.\n",
      "After analyzing the Spatio-Temporal Scene-Graphs, I can see that the person is lying on the floor in multiple frames. However, there is no instance where the person is lying on a sofa or bed.\n",
      "\n",
      "Therefore, based on the information provided, I choose:\n",
      "\n",
      "3. The floor.\n"
     ]
    },
    {
     "data": {
      "text/plain": [
       "id\n",
       "Interaction_T1_13     None\n",
       "Interaction_T1_14     None\n",
       "Interaction_T1_31     None\n",
       "Interaction_T1_32     None\n",
       "Interaction_T1_40     None\n",
       "Interaction_T1_43     None\n",
       "Interaction_T1_70     None\n",
       "Interaction_T1_71     None\n",
       "Interaction_T1_76     None\n",
       "Interaction_T1_78     None\n",
       "Interaction_T1_81     None\n",
       "Interaction_T1_95     None\n",
       "Interaction_T1_100    None\n",
       "Interaction_T1_101    None\n",
       "Interaction_T1_104    None\n",
       "Interaction_T1_106    None\n",
       "Interaction_T1_111    None\n",
       "Interaction_T1_137    None\n",
       "Interaction_T1_139    None\n",
       "Interaction_T1_147    None\n",
       "Name: answer, dtype: object"
      ]
     },
     "execution_count": 247,
     "metadata": {},
     "output_type": "execute_result"
    }
   ],
   "source": [
    "predictions_df.iloc[0:20]['answer'].apply(print)\n"
   ]
  },
  {
   "cell_type": "markdown",
   "metadata": {},
   "source": [
    "Let's start by viewing how many answers follow the template:"
   ]
  },
  {
   "cell_type": "code",
   "execution_count": 248,
   "metadata": {},
   "outputs": [
    {
     "name": "stdout",
     "output_type": "stream",
     "text": [
      "Answer following the template: 705\n",
      "9.93% of the total\n"
     ]
    },
    {
     "name": "stderr",
     "output_type": "stream",
     "text": [
      "/tmp/ipykernel_19873/1457081348.py:3: UserWarning: This pattern is interpreted as a regular expression, and has match groups. To actually get the groups, use str.extract.\n",
      "  full_answer_mask = predictions_df['answer'].str.contains(full_answer_pattern, case=False, regex=True)\n"
     ]
    }
   ],
   "source": [
    "# Check if the the template is somewhere in the answer\n",
    "full_answer_pattern = r'A:\\s+\\d.\\s+((?:\\w+(?:\\s|\\/)?){1,10}\\.)$'\n",
    "full_answer_mask = predictions_df['answer'].str.contains(full_answer_pattern, case=False, regex=True)\n",
    "\n",
    "\n",
    "print(f\"Answer following the template: {full_answer_mask.value_counts()[True]}\\n\"\n",
    "      f\"{full_answer_mask.value_counts()[True]/predictions_df.size:.2%} of the total\")\n",
    "\n",
    "contains_answer = full_answer_mask\n"
   ]
  },
  {
   "cell_type": "code",
   "execution_count": 249,
   "metadata": {},
   "outputs": [
    {
     "name": "stderr",
     "output_type": "stream",
     "text": [
      "/tmp/ipykernel_19873/3460094673.py:3: UserWarning: This pattern is interpreted as a regular expression, and has match groups. To actually get the groups, use str.extract.\n",
      "  no_digit_mask = predictions_df['answer'].str.contains(no_digit_pattern, case=False, regex=True)\n"
     ]
    },
    {
     "name": "stdout",
     "output_type": "stream",
     "text": [
      "Answer following the template: 3090\n",
      "43.53% of the total\n"
     ]
    }
   ],
   "source": [
    "# Check if the the template is somewhere in the answer\n",
    "no_digit_pattern = r'A:\\s+((?:\\w+(?:\\s|\\/)?){1,10}\\.)$'\n",
    "no_digit_mask = predictions_df['answer'].str.contains(no_digit_pattern, case=False, regex=True)\n",
    "\n",
    "\n",
    "print(f\"Answer following the template: {no_digit_mask.value_counts()[True]}\\n\"\n",
    "      f\"{no_digit_mask.value_counts()[True]/predictions_df.size:.2%} of the total\")\n",
    "\n",
    "contains_answer = contains_answer | no_digit_mask\n"
   ]
  },
  {
   "cell_type": "code",
   "execution_count": 250,
   "metadata": {},
   "outputs": [
    {
     "name": "stdout",
     "output_type": "stream",
     "text": [
      "Answer following the template: 115\n",
      "1.62% of the total\n"
     ]
    },
    {
     "name": "stderr",
     "output_type": "stream",
     "text": [
      "/tmp/ipykernel_19873/1853967572.py:3: UserWarning: This pattern is interpreted as a regular expression, and has match groups. To actually get the groups, use str.extract.\n",
      "  swith_digit_mask = predictions_df['answer'].str.contains(swith_digit_pattern, case=False, regex=True)\n"
     ]
    }
   ],
   "source": [
    "# Check if the the template is somewhere in the answer\n",
    "swith_digit_pattern = r'^\\d\\.\\s+((?:\\w+(?:\\s|\\/)?){1,10}\\.)$'\n",
    "swith_digit_mask = predictions_df['answer'].str.contains(swith_digit_pattern, case=False, regex=True)\n",
    "\n",
    "\n",
    "print(f\"Answer following the template: {swith_digit_mask.value_counts()[True]}\\n\"\n",
    "      f\"{swith_digit_mask.value_counts()[True]/predictions_df.size:.2%} of the total\")\n",
    "\n",
    "contains_answer = contains_answer | swith_digit_mask\n"
   ]
  },
  {
   "cell_type": "code",
   "execution_count": 251,
   "metadata": {},
   "outputs": [
    {
     "name": "stdout",
     "output_type": "stream",
     "text": [
      "Answer following the template: 3910\n",
      "55.09% of the total\n",
      "\n",
      "Only 3188 samples do not contain the answer in the response with the specified format\n"
     ]
    }
   ],
   "source": [
    "print(f\"Answer following the template: {contains_answer.value_counts()[True]}\\n\"\n",
    "      f\"{contains_answer.value_counts()[True]/predictions_df.size:.2%} of the total\")\n",
    "\n",
    "print(f\"\\nOnly {contains_answer.value_counts()[False]} samples do not contain the answer in the response with the specified format\")\n"
   ]
  },
  {
   "cell_type": "code",
   "execution_count": 252,
   "metadata": {},
   "outputs": [
    {
     "data": {
      "text/plain": [
       "0"
      ]
     },
     "execution_count": 252,
     "metadata": {},
     "output_type": "execute_result"
    }
   ],
   "source": [
    "(swith_digit_mask & no_digit_mask).sum()\n"
   ]
  },
  {
   "cell_type": "code",
   "execution_count": 253,
   "metadata": {},
   "outputs": [
    {
     "data": {
      "text/plain": [
       "0"
      ]
     },
     "execution_count": 253,
     "metadata": {},
     "output_type": "execute_result"
    }
   ],
   "source": [
    "(swith_digit_mask & full_answer_mask).sum()\n"
   ]
  },
  {
   "cell_type": "code",
   "execution_count": 254,
   "metadata": {},
   "outputs": [
    {
     "data": {
      "text/plain": [
       "0"
      ]
     },
     "execution_count": 254,
     "metadata": {},
     "output_type": "execute_result"
    }
   ],
   "source": [
    "(full_answer_mask & no_digit_mask).sum()\n"
   ]
  },
  {
   "cell_type": "markdown",
   "metadata": {},
   "source": [
    "## Extracting the answers"
   ]
  },
  {
   "cell_type": "markdown",
   "metadata": {},
   "source": [
    "Let's extract the the answers from the generated texts which do contain an answer:"
   ]
  },
  {
   "cell_type": "code",
   "execution_count": 255,
   "metadata": {},
   "outputs": [
    {
     "data": {
      "text/html": [
       "<div>\n",
       "<style scoped>\n",
       "    .dataframe tbody tr th:only-of-type {\n",
       "        vertical-align: middle;\n",
       "    }\n",
       "\n",
       "    .dataframe tbody tr th {\n",
       "        vertical-align: top;\n",
       "    }\n",
       "\n",
       "    .dataframe thead th {\n",
       "        text-align: right;\n",
       "    }\n",
       "</style>\n",
       "<table border=\"1\" class=\"dataframe\">\n",
       "  <thead>\n",
       "    <tr style=\"text-align: right;\">\n",
       "      <th></th>\n",
       "      <th>text</th>\n",
       "    </tr>\n",
       "    <tr>\n",
       "      <th>id</th>\n",
       "      <th></th>\n",
       "    </tr>\n",
       "  </thead>\n",
       "  <tbody>\n",
       "    <tr>\n",
       "      <th>Interaction_T1_100</th>\n",
       "      <td>The towel.</td>\n",
       "    </tr>\n",
       "    <tr>\n",
       "      <th>Interaction_T1_197</th>\n",
       "      <td>The laptop.</td>\n",
       "    </tr>\n",
       "    <tr>\n",
       "      <th>Interaction_T1_226</th>\n",
       "      <td>The pillow.</td>\n",
       "    </tr>\n",
       "    <tr>\n",
       "      <th>Interaction_T1_289</th>\n",
       "      <td>The bag.</td>\n",
       "    </tr>\n",
       "    <tr>\n",
       "      <th>Interaction_T1_299</th>\n",
       "      <td>The clothes.</td>\n",
       "    </tr>\n",
       "    <tr>\n",
       "      <th>...</th>\n",
       "      <td>...</td>\n",
       "    </tr>\n",
       "    <tr>\n",
       "      <th>Feasibility_T6_1449</th>\n",
       "      <td>2.</td>\n",
       "    </tr>\n",
       "    <tr>\n",
       "      <th>Feasibility_T6_1454</th>\n",
       "      <td>Hold the box.</td>\n",
       "    </tr>\n",
       "    <tr>\n",
       "      <th>Feasibility_T6_1455</th>\n",
       "      <td>Take the shoe.</td>\n",
       "    </tr>\n",
       "    <tr>\n",
       "      <th>Feasibility_T6_1456</th>\n",
       "      <td>Put the groceries away.</td>\n",
       "    </tr>\n",
       "    <tr>\n",
       "      <th>Feasibility_T6_1468</th>\n",
       "      <td>2.</td>\n",
       "    </tr>\n",
       "  </tbody>\n",
       "</table>\n",
       "<p>3910 rows × 1 columns</p>\n",
       "</div>"
      ],
      "text/plain": [
       "                                        text\n",
       "id                                          \n",
       "Interaction_T1_100                The towel.\n",
       "Interaction_T1_197               The laptop.\n",
       "Interaction_T1_226               The pillow.\n",
       "Interaction_T1_289                  The bag.\n",
       "Interaction_T1_299              The clothes.\n",
       "...                                      ...\n",
       "Feasibility_T6_1449                       2.\n",
       "Feasibility_T6_1454            Hold the box.\n",
       "Feasibility_T6_1455           Take the shoe.\n",
       "Feasibility_T6_1456  Put the groceries away.\n",
       "Feasibility_T6_1468                       2.\n",
       "\n",
       "[3910 rows x 1 columns]"
      ]
     },
     "execution_count": 255,
     "metadata": {},
     "output_type": "execute_result"
    }
   ],
   "source": [
    "df1 = predictions_df.loc[full_answer_mask]['answer'].str.extract(full_answer_pattern)\n",
    "df1.rename(columns={0: 'text'}, inplace=True)\n",
    "\n",
    "df2 = predictions_df.loc[swith_digit_mask & ~full_answer_mask]['answer'].str.extract(swith_digit_pattern)\n",
    "df2.rename(columns={0: 'text'}, inplace=True)\n",
    "\n",
    "df3 = predictions_df.loc[no_digit_mask & ~swith_digit_mask & ~full_answer_mask]['answer'].str.extract(no_digit_pattern)\n",
    "df3.rename(columns={0: 'text'}, inplace=True)\n",
    "\n",
    "ans_df = pd.concat([df1, df2, df3])\n",
    "ans_df['text'] = ans_df['text'].str.strip()\n",
    "ans_df\n"
   ]
  },
  {
   "cell_type": "code",
   "execution_count": 256,
   "metadata": {},
   "outputs": [
    {
     "name": "stdout",
     "output_type": "stream",
     "text": [
      "Ratio of the responses following some kind of template: 55.09%\n"
     ]
    }
   ],
   "source": [
    "# Sanity check for teh conditions above\n",
    "\n",
    "assert abs(ans_df.shape[0] / predictions_df.shape[0] - contains_answer.sum() / predictions_df.shape[0]) < 1e6\n",
    "print(f\"Ratio of the responses following some kind of template: {ans_df.shape[0] / predictions_df.shape[0]:.2%}\")\n"
   ]
  },
  {
   "cell_type": "code",
   "execution_count": 257,
   "metadata": {},
   "outputs": [
    {
     "name": "stdout",
     "output_type": "stream",
     "text": [
      "We have 1818 unique answers\n"
     ]
    }
   ],
   "source": [
    "freq = ans_df['text'].value_counts().reset_index()\n",
    "freq.columns = ['word', 'freq']\n",
    "\n",
    "print(f\"We have {freq.size} unique answers\")\n"
   ]
  },
  {
   "cell_type": "code",
   "execution_count": 258,
   "metadata": {},
   "outputs": [
    {
     "data": {
      "text/plain": [
       "The bag.                                  157\n",
       "The box.                                  130\n",
       "The clothes.                              129\n",
       "The towel.                                127\n",
       "Put down.                                 111\n",
       "                                         ... \n",
       "The person will open the refrigerator.      1\n",
       "The person will next wipe the mirror.       1\n",
       "The person will touch the window.           1\n",
       "The person was touching the box.            1\n",
       "Put the groceries away.                     1\n",
       "Name: text, Length: 909, dtype: Int64"
      ]
     },
     "execution_count": 258,
     "metadata": {},
     "output_type": "execute_result"
    }
   ],
   "source": [
    "ans_df['text'].value_counts()\n"
   ]
  },
  {
   "cell_type": "code",
   "execution_count": 259,
   "metadata": {},
   "outputs": [
    {
     "data": {
      "text/plain": [
       "<AxesSubplot: xlabel='freq', ylabel='word'>"
      ]
     },
     "execution_count": 259,
     "metadata": {},
     "output_type": "execute_result"
    },
    {
     "data": {
      "image/png": "[encoded data removed]",
      "text/plain": [
       "<Figure size 600x800 with 1 Axes>"
      ]
     },
     "metadata": {},
     "output_type": "display_data"
    }
   ],
   "source": [
    "plt.figure(figsize=(6, 8))\n",
    "sns.barplot(data=freq.sort_values('freq', ascending=False)[:50], x='freq', y='word')\n"
   ]
  },
  {
   "cell_type": "markdown",
   "metadata": {},
   "source": [
    "Let's do some visualization also for the ground truth data"
   ]
  },
  {
   "cell_type": "code",
   "execution_count": 260,
   "metadata": {},
   "outputs": [
    {
     "name": "stdout",
     "output_type": "stream",
     "text": [
      "We have 198 unique answers\n"
     ]
    }
   ],
   "source": [
    "print(f\"We have {gt_df['text'].nunique()} unique answers\")\n"
   ]
  },
  {
   "cell_type": "code",
   "execution_count": 261,
   "metadata": {},
   "outputs": [
    {
     "data": {
      "text/plain": [
       "(3910, 4)"
      ]
     },
     "execution_count": 261,
     "metadata": {},
     "output_type": "execute_result"
    }
   ],
   "source": [
    "# Inner join - keeps only indices present in both series\n",
    "\n",
    "ans_df.rename(columns={'text': 'pred_text'}, inplace=True)\n",
    "eval_df = gt_df.join(\n",
    "    ans_df, \n",
    "    how='inner' # we account also for samples without answers\n",
    ")\n",
    "\n",
    "eval_df.shape\n"
   ]
  },
  {
   "cell_type": "code",
   "execution_count": 262,
   "metadata": {},
   "outputs": [],
   "source": [
    "def accuracy(eval_df, on_what='text'):\n",
    "    # hits_num = (eval_df['pred_num'] == eval_df['num']).sum()\n",
    "    hits_text = (eval_df[f'pred_{on_what}'] == eval_df[on_what]).sum()\n",
    "    \n",
    "\n",
    "    return hits_text/eval_df.shape[0]\n"
   ]
  },
  {
   "cell_type": "code",
   "execution_count": 263,
   "metadata": {},
   "outputs": [
    {
     "name": "stdout",
     "output_type": "stream",
     "text": [
      "Text Accuracy: 29.80%\n"
     ]
    }
   ],
   "source": [
    "text_acc = accuracy(eval_df)\n",
    "#num_acc = accuracy(eval_df, on_what='num')\n",
    "\n",
    "#print(f\"Numeric Accuracy: {num_acc:.2%}\")\n",
    "print(f\"Text Accuracy: {text_acc:.2%}\")\n"
   ]
  },
  {
   "cell_type": "markdown",
   "metadata": {},
   "source": [
    "check if the equality with NA result in a false or is skipped"
   ]
  },
  {
   "cell_type": "code",
   "execution_count": 264,
   "metadata": {},
   "outputs": [
    {
     "name": "stdout",
     "output_type": "stream",
     "text": [
      "Real Accuracy: 16.41%\n"
     ]
    }
   ],
   "source": [
    "real_acc = accuracy(eval_df) * eval_df.shape[0] / gt_df.shape[0]\n",
    "\n",
    "print(f\"Real Accuracy: {real_acc:.2%}\")\n"
   ]
  },
  {
   "cell_type": "code",
   "execution_count": 265,
   "metadata": {},
   "outputs": [],
   "source": [
    "def print_acc(eval_df, acc_fn):\n",
    "    print(f\"{'Question type':<15}{'Total':^15}{'Accuracy':^10}\\n\")\n",
    "\n",
    "    total = eval_df.index.str.startswith('Interaction').sum()\n",
    "    acc = acc_fn(eval_df[eval_df.index.str.startswith('Interaction')])\n",
    "    print(f\"{'Interaction':<15}{total:^15}{acc:^10.2%}\")\n",
    "\n",
    "    total = eval_df.index.str.startswith('Sequence').sum()\n",
    "    acc = acc_fn(eval_df[eval_df.index.str.startswith('Sequence')])\n",
    "    print(f\"{'Sequence':<15}{total:^15}{acc:^10.2%}\")\n",
    "\n",
    "    total = eval_df.index.str.startswith('Prediction').sum()\n",
    "    acc = acc_fn(eval_df[eval_df.index.str.startswith('Prediction')])\n",
    "    print(f\"{'Prediction':<15}{total:^15}{acc:^10.2%}\")\n",
    "\n",
    "    total = eval_df.index.str.startswith('Feasibility').sum()\n",
    "    acc = acc_fn(eval_df[eval_df.index.str.startswith('Feasibility')])\n",
    "    print(f\"{'Feasibility':<15}{total:^15}{acc:^10.2%}\")\n"
   ]
  },
  {
   "cell_type": "code",
   "execution_count": 266,
   "metadata": {},
   "outputs": [
    {
     "name": "stdout",
     "output_type": "stream",
     "text": [
      "Question type       Total      Accuracy \n",
      "\n",
      "Interaction         1527        29.21%  \n",
      "Sequence            1754        29.48%  \n",
      "Prediction           367        33.79%  \n",
      "Feasibility          262        29.77%  \n"
     ]
    }
   ],
   "source": [
    "print_acc(eval_df, lambda x: accuracy(x, on_what='text'))\n"
   ]
  }
 ],
 "metadata": {
  "kernelspec": {
   "display_name": "video-llm",
   "language": "python",
   "name": "python3"
  },
  "language_info": {
   "codemirror_mode": {
    "name": "ipython",
    "version": 3
   },
   "file_extension": ".py",
   "mimetype": "text/x-python",
   "name": "python",
   "nbconvert_exporter": "python",
   "pygments_lexer": "ipython3",
   "version": "3.8.18"
  }
 },
 "nbformat": 4,
 "nbformat_minor": 2
}
