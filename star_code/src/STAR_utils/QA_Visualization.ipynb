{
 "cells": [
  {
   "cell_type": "code",
   "execution_count": null,
   "id": "disciplinary-moore",
   "metadata": {},
   "outputs": [],
   "source": [
    "import pickle\n",
    "import json\n",
    "from visualization_tools.qa_visualization import show_generated_qa,show_select_qa"
   ]
  },
  {
   "cell_type": "markdown",
   "id": "difficult-allowance",
   "metadata": {},
   "source": [
    "# Path configs"
   ]
  },
  {
   "cell_type": "code",
   "execution_count": null,
   "id": "academic-weekly",
   "metadata": {},
   "outputs": [],
   "source": [
    "annotation_dir = '../annotations/STAR_classes/'\n",
    "# plase replace following data path to your local path\n",
    "# all data can be download from our homepages (http://star.csail.mit.edu or https://bobbywu.com/STAR)\n",
    "root_dir = '/root/user/'\n",
    "video_dir= root_dir +'Charades/'\n",
    "frame_dir = root_dir + 'STAR/frames/Charades_v1_480/'\n",
    "pose_dir = root_dir + 'STAR/pose/'\n",
    "qa_train_dir = root_dir + 'STAR_train.json' \n",
    "qa_val_dir = root_dir + 'STAR/STAR_val.json' \n",
    "qa_test_dir = root_dir + 'STAR/STAR_test.json' \n",
    "save_video_dir = root_dir + 'visualization_tmp/'\n",
    "fps = pickle.load(open(annotation_dir + 'video_fps','rb'))"
   ]
  },
  {
   "cell_type": "markdown",
   "id": "patent-singer",
   "metadata": {},
   "source": [
    "# Load STAR"
   ]
  },
  {
   "cell_type": "code",
   "execution_count": null,
   "id": "ranking-fiber",
   "metadata": {},
   "outputs": [],
   "source": [
    "QAList = json.load(open(qa_train_dir))+json.load(open(qa_val_dir))+json.load(open(qa_test_dir))"
   ]
  },
  {
   "cell_type": "markdown",
   "id": "french-might",
   "metadata": {},
   "source": [
    "# Visulization Setting"
   ]
  },
  {
   "cell_type": "code",
   "execution_count": null,
   "id": "therapeutic-resistance",
   "metadata": {},
   "outputs": [],
   "source": [
    "vis_kwargs = {\n",
    "    # data_kwargs\n",
    "    'fps':fps,\n",
    "    'raw_frame_dir':frame_dir,\n",
    "    'raw_video_dir': video_dir, \n",
    "    'pose_dir':pose_dir,\n",
    "    'save_video_dir':save_video_dir,\n",
    "    # group_kwargs\n",
    "    'show_by_vid': True,\n",
    "    'show_by_qtype': True,\n",
    "    # vis_kwargs\n",
    "    'vis_meta':True, \n",
    "    'vis_q_a_o':True, \n",
    "    'vis_v':True, \n",
    "    'vis_kf':False, \n",
    "    'vis_sg':False, \n",
    "    'vis_pose':False, \n",
    "    'vis_box':False,\n",
    "    'max_show_num':5,\n",
    "    # query_kwargs work in select module only\n",
    "    'vid':'',\n",
    "    'qid_':['Interaction_T1_17'],\n",
    "    }"
   ]
  },
  {
   "cell_type": "markdown",
   "id": "grand-tyler",
   "metadata": {},
   "source": [
    "# Select by QID/VID"
   ]
  },
  {
   "cell_type": "code",
   "execution_count": null,
   "id": "necessary-bankruptcy",
   "metadata": {
    "scrolled": false
   },
   "outputs": [],
   "source": [
    "show_select_qa(QAList,**vis_kwargs)"
   ]
  },
  {
   "cell_type": "markdown",
   "id": "threaded-confusion",
   "metadata": {},
   "source": [
    "# Visulization All QA"
   ]
  },
  {
   "cell_type": "code",
   "execution_count": null,
   "id": "chief-homework",
   "metadata": {
    "scrolled": true
   },
   "outputs": [],
   "source": [
    "show_generated_qa(QAList,**vis_kwargs)"
   ]
  }
 ],
 "metadata": {
  "kernelspec": {
   "display_name": "Python 3",
   "language": "python",
   "name": "python3"
  },
  "language_info": {
   "codemirror_mode": {
    "name": "ipython",
    "version": 3
   },
   "file_extension": ".py",
   "mimetype": "text/x-python",
   "name": "python",
   "nbconvert_exporter": "python",
   "pygments_lexer": "ipython3",
   "version": "3.6.12"
  }
 },
 "nbformat": 4,
 "nbformat_minor": 5
}
